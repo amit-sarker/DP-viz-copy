{
 "cells": [
  {
   "cell_type": "code",
   "execution_count": 37,
   "id": "d9071880",
   "metadata": {
    "scrolled": true
   },
   "outputs": [
    {
     "data": {
      "application/javascript": [
       "IPython.OutputArea.prototype._should_scroll = function(lines) {\n",
       "    return false;\n",
       "}\n"
      ],
      "text/plain": [
       "<IPython.core.display.Javascript object>"
      ]
     },
     "metadata": {},
     "output_type": "display_data"
    }
   ],
   "source": [
    "%%javascript\n",
    "IPython.OutputArea.prototype._should_scroll = function(lines) {\n",
    "    return false;\n",
    "}"
   ]
  },
  {
   "cell_type": "code",
   "execution_count": 38,
   "id": "0edede79",
   "metadata": {},
   "outputs": [
    {
     "name": "stderr",
     "output_type": "stream",
     "text": [
      "/tmp/ipykernel_88776/218976982.py:16: DeprecationWarning: Importing display from IPython.core.display is deprecated since IPython 7.14, please import from IPython display\n",
      "  from IPython.core.display import display, HTML\n"
     ]
    },
    {
     "data": {
      "text/html": [
       "<style>.container { width:100% !important; }</style>"
      ],
      "text/plain": [
       "<IPython.core.display.HTML object>"
      ]
     },
     "metadata": {},
     "output_type": "display_data"
    },
    {
     "data": {
      "text/plain": [
       "DataTransformerRegistry.enable('default')"
      ]
     },
     "execution_count": 38,
     "metadata": {},
     "output_type": "execute_result"
    }
   ],
   "source": [
    "\n",
    "import sys\n",
    "\n",
    "import ipywidgets as widgets\n",
    "\n",
    "sys.path.append('../')\n",
    "sys.path.append('../src')\n",
    "\n",
    "import src.backend\n",
    "import src.workload_builder as builder\n",
    "from mbi import Domain\n",
    "import src.plots\n",
    "import altair as alt\n",
    "alt.renderers.enable('default')\n",
    "from IPython.display import display, clear_output\n",
    "\n",
    "from IPython.core.display import display, HTML\n",
    "display(HTML(\"<style>.container { width:100% !important; }</style>\"))\n",
    "\n",
    "\n",
    "alt.data_transformers.disable_max_rows()"
   ]
  },
  {
   "cell_type": "code",
   "execution_count": 39,
   "id": "e8caecaf",
   "metadata": {},
   "outputs": [],
   "source": [
    "data_path = '../data/CPS/CPS.csv'\n",
    "cps_domain = Domain(attrs=('age','income','marital','race'), shape=(100,100,7,4))\n",
    "questions = [\"Warm Up Question: Type 'Yes' if you are ready to begin!\",\n",
    "            \"Question 1/6: How many Chinese and American Indians have 'Widowed' as their marital status?\",\n",
    "            \"Question 2/6: How many people over the age of 65 have income between 100,000 and 149,000?\",\n",
    "            \"Question 3/6: What is the second most common marital status of people with income in the 100,000 to 199,000 range?\",\n",
    "            \"Question 4/6: Choose the top 3 age groups that have marital status: 'Never Married'?\",\n",
    "            \"Question 5/6: In the 100,000 to 199,000 income range, rank the top 3 races in terms of count from greatest to least.\",\n",
    "            \"Question 6/6: What is the second most common race in the 45-54 age group?\"]\n",
    "\n",
    "marital_race = {'marital':1, 'race':1}\n",
    "age_income = {'age':10, 'income':10}\n",
    "marital_income = {'income':10, 'marital':1}\n",
    "age_marital = {'age':10, 'marital':1}\n",
    "race_income = {'income':10, 'race':1}\n",
    "age_race = {'age':10, 'race':1}\n",
    "\n",
    "visualizations = [None, marital_race, age_income, marital_income, age_marital, race_income, age_race]\n",
    "prev_spec = None\n",
    "curr_spec = None\n",
    "epsilon_increments = [None,0.05,0.05,0.05,0.05,0.05,0.05,0.05]\n",
    "budget = 1.0\n",
    "max_tries = 10\n",
    "\n",
    "index = 0\n",
    "tries = 0\n",
    "back_end = None\n"
   ]
  },
  {
   "cell_type": "markdown",
   "id": "b86f40a0",
   "metadata": {},
   "source": [
    "# Logging"
   ]
  },
  {
   "cell_type": "markdown",
   "id": "858a662d",
   "metadata": {},
   "source": [
    " ## Dropdown Boxes"
   ]
  },
  {
   "cell_type": "markdown",
   "id": "1892fcb0",
   "metadata": {},
   "source": [
    "Text Boxes"
   ]
  },
  {
   "cell_type": "markdown",
   "id": "8bc9e0d1",
   "metadata": {},
   "source": [
    "## Buttons"
   ]
  },
  {
   "cell_type": "code",
   "execution_count": 40,
   "id": "24fdcf7d",
   "metadata": {},
   "outputs": [
    {
     "name": "stdout",
     "output_type": "stream",
     "text": [
      "Init Vis Complete!\n",
      "Remeasure Complete!\n"
     ]
    }
   ],
   "source": [
    "num_answers = len(questions)\n",
    "survey_answers = [0]*num_answers\n",
    "\n",
    "current_spec_arr = []\n",
    "current_spec_remeasure = []\n",
    "hist_workloads = []\n",
    "histogram_plots = []\n",
    "# hist_plot = None\n",
    "\n",
    "\n",
    "def make_vis(do_not_update=None):\n",
    "    global index, survey_answers, visualizations, epsilon_increments, curr_spec, back_end, bar_label, interface, ques\n",
    "    back_end = src.backend.initialize_backend(cps_domain, data_path, budget=1.0)\n",
    "\n",
    "    seed = 1234\n",
    "    for i in range(len(questions) - 1):\n",
    "        # prompt_arr[i+1].value = questions[i+1]\n",
    "        hist = builder.histogram_workload(cps_domain.config, bin_widths=visualizations[i+1])\n",
    "        hist_workloads.append(hist)\n",
    "\n",
    "        y_hat, strategy_matrix = back_end.measure_hdmm(workload=hist, eps=epsilon_increments[i+1], restarts=20, seed=seed) # got y_hat\n",
    "\n",
    "        column_names = list(visualizations[i+1].keys())\n",
    "        curr_spec, cached = back_end.display(hist)\n",
    "        current_spec_arr.append(curr_spec)\n",
    "        current_spec_remeasure.append(curr_spec)\n",
    "        plot = src.plots.linked_hist(column_names[0], column_names[1], data=curr_spec.reset_index(column_names), display_true=False, history=False)\n",
    "        plot.save('charts/init_vis/q_' + str(i+1) + '.json')\n",
    "\n",
    "def binning(measure_dict, i_id, j_id, epsilon=None):\n",
    "    global tries, curr_spec, back_end, current_spec_arr, hist_workloads, plot_output_rm_arr\n",
    "\n",
    "    left_col = measure_dict['left']\n",
    "    right_col = measure_dict['right']\n",
    "\n",
    "    widths = {left_col[0]:left_col[1], right_col[0]:right_col[1]}\n",
    "\n",
    "    hist = builder.histogram_workload(cps_domain.config, bin_widths=widths)\n",
    "    y_hat, strategy_matrix = back_end.measure_hdmm(workload=hist, eps=epsilon, restarts=20)\n",
    "\n",
    "    prev_spec = current_spec_remeasure[i_id]\n",
    "\n",
    "    # print(\"Spec Previous\", prev_spec)\n",
    "    # print(\"---------------------------------------------------------------\")\n",
    "    prev_spec.rename(columns={'error': 'error_prev', 'plus_error': 'plus_error_prev', 'minus_error': 'minus_error_prev', 'true_count':'true_count_prev', 'noisy_count':'noisy_count_prev'}, inplace=True)\n",
    "\n",
    "    current_spec_remeasure[i_id], cached = back_end.display(hist) ################# Cache_search function called\n",
    "\n",
    "    # print(\"spec after \", prev_spec)\n",
    "\n",
    "    spec = current_spec_remeasure[i_id].join(prev_spec, on=[left_col[0], right_col[0]]).reset_index([left_col[0], right_col[0]])\n",
    "\n",
    "    plot_new = src.plots.linked_hist_test(left_col[0], right_col[0], data=spec, projection=True,label=False)\n",
    "    plot_new.save('charts/rm_q' + str(i_id+1) + '/rm_' + str(j_id+1) + '.json')\n",
    "\n",
    "make_vis()\n",
    "\n",
    "print(\"Init Vis Complete!\")\n",
    "\n",
    "for i in range(len(questions) - 1):\n",
    "    key_val = [x for x in visualizations[i+1].items()]\n",
    "    measure_dict = {'left': key_val[0], 'right': key_val[1]}\n",
    "    for j in range(10):\n",
    "        binning(measure_dict, i, j, epsilon = epsilon_increments[i+1])\n",
    "\n",
    "print(\"Remeasure Complete!\")"
   ]
  }
 ],
 "metadata": {
  "kernelspec": {
   "display_name": "Python 3 (ipykernel)",
   "language": "python",
   "name": "python3"
  },
  "language_info": {
   "codemirror_mode": {
    "name": "ipython",
    "version": 3
   },
   "file_extension": ".py",
   "mimetype": "text/x-python",
   "name": "python",
   "nbconvert_exporter": "python",
   "pygments_lexer": "ipython3",
   "version": "3.9.12"
  }
 },
 "nbformat": 4,
 "nbformat_minor": 5
}
