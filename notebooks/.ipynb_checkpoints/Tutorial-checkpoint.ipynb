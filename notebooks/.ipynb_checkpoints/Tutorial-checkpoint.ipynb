{
 "cells": [
  {
   "cell_type": "code",
   "execution_count": 1,
   "id": "d9071880",
   "metadata": {
    "scrolled": true
   },
   "outputs": [
    {
     "name": "stderr",
     "output_type": "stream",
     "text": [
      "/home/amit/anaconda3/lib/python3.9/site-packages/mbi/__init__.py:15: UserWarning: MixtureInference disabled, please install jax and jaxlib\n",
      "  warnings.warn('MixtureInference disabled, please install jax and jaxlib')\n",
      "/tmp/ipykernel_479312/218976982.py:16: DeprecationWarning: Importing display from IPython.core.display is deprecated since IPython 7.14, please import from IPython display\n",
      "  from IPython.core.display import display, HTML\n"
     ]
    },
    {
     "data": {
      "text/html": [
       "<style>.container { width:100% !important; }</style>"
      ],
      "text/plain": [
       "<IPython.core.display.HTML object>"
      ]
     },
     "metadata": {},
     "output_type": "display_data"
    },
    {
     "data": {
      "text/plain": [
       "DataTransformerRegistry.enable('default')"
      ]
     },
     "execution_count": 1,
     "metadata": {},
     "output_type": "execute_result"
    }
   ],
   "source": [
    "\n",
    "import sys\n",
    "\n",
    "import ipywidgets as widgets\n",
    "\n",
    "sys.path.append('../')\n",
    "sys.path.append('../src')\n",
    "\n",
    "import src.backend\n",
    "import src.workload_builder as builder\n",
    "from mbi import Domain\n",
    "import src.plots\n",
    "import altair as alt\n",
    "alt.renderers.enable('default')\n",
    "from IPython.display import display, clear_output\n",
    "\n",
    "from IPython.core.display import display, HTML\n",
    "display(HTML(\"<style>.container { width:100% !important; }</style>\"))\n",
    "\n",
    "\n",
    "alt.data_transformers.disable_max_rows()"
   ]
  },
  {
   "cell_type": "code",
   "execution_count": 2,
   "id": "e8caecaf",
   "metadata": {},
   "outputs": [],
   "source": [
    "data_path = '../data/CPS/CPS.csv'\n",
    "cps_domain = Domain(attrs=('age','income','marital','race'), shape=(100,100,7,4))\n",
    "questions = [\"Warm Up: Type 'Yes' if you are ready to begin!\",\n",
    "            \"Tutorial Question 1/6: How many Chinese and American Indians have 'Widowed' as their marital status?\",\n",
    "            \"Tutorial Question 2/6: How many people over the age of 65 have income between 100,000 and 149,000?\",\n",
    "            \"Tutorial Question 3/6: What is the second most common marital status of people with income in the 100,000 to 199,000 range?\",\n",
    "            \"Tutorial Question 4/6: Choose the top 3 age groups that have marital status: 'Never Married'?\",\n",
    "            \"Tutorial Question 5/6: In the 100,000 to 199,000 income range, rank the top 3 races in terms of count from greatest to least.\",\n",
    "            \"Tutorial Question 6/6: What is the second most common race in the 45-54 age group?\"]\n",
    "\n",
    "marital_race = {'marital':1, 'race':1}\n",
    "age_income = {'age':10, 'income':10}\n",
    "marital_income = {'income':10, 'marital':1}\n",
    "age_marital = {'age':10, 'marital':1}\n",
    "race_income = {'income':10, 'race':1}\n",
    "age_race = {'age':10, 'race':1}\n",
    "\n",
    "visualizations = [None, marital_race, age_income, marital_income, age_marital, race_income, age_race]\n",
    "prev_spec = None\n",
    "curr_spec = None\n",
    "epsilon_increments = [None,0.05,0.05,0.05,0.05,0.05,0.05,0.05]\n",
    "budget = 1.0\n",
    "max_tries = 10\n",
    "\n",
    "index = 0\n",
    "tries = 0\n",
    "back_end = None\n"
   ]
  },
  {
   "cell_type": "code",
   "execution_count": 3,
   "id": "f5ce151d",
   "metadata": {},
   "outputs": [
    {
     "data": {
      "text/plain": [
       "Domain(age: 100, income: 100, marital: 7, race: 4)"
      ]
     },
     "execution_count": 3,
     "metadata": {},
     "output_type": "execute_result"
    }
   ],
   "source": [
    "cps_domain"
   ]
  },
  {
   "cell_type": "markdown",
   "id": "b86f40a0",
   "metadata": {},
   "source": [
    "# Logging"
   ]
  },
  {
   "cell_type": "code",
   "execution_count": 4,
   "id": "bd5cd755",
   "metadata": {},
   "outputs": [],
   "source": [
    "import logging\n",
    "\n",
    "class OutputWidgetHandler(logging.Handler):\n",
    "    \"\"\" Custom logging handler sending logs to an output widget \"\"\"\n",
    "\n",
    "    def __init__(self, *args, **kwargs):\n",
    "        super(OutputWidgetHandler, self).__init__(*args, **kwargs)\n",
    "        layout = {\n",
    "            'width': '100%',\n",
    "            'height': '160px',\n",
    "            'border': '1px solid black'\n",
    "        }\n",
    "        self.out = widgets.Output(layout=layout)\n",
    "\n",
    "    def emit(self, record):\n",
    "        \"\"\" Overload of logging.Handler method \"\"\"\n",
    "        formatted_record = self.format(record)\n",
    "        new_output = {\n",
    "            'name': 'stdout',\n",
    "            'output_type': 'stream',\n",
    "            'text': formatted_record+'\\n'\n",
    "        }\n",
    "        self.out.outputs = (new_output, ) + self.out.outputs\n",
    "\n",
    "    def show_logs(self):\n",
    "        \"\"\" Show the logs \"\"\"\n",
    "        display(self.out)\n",
    "\n",
    "    def clear_logs(self):\n",
    "        \"\"\" Clear the current logs \"\"\"\n",
    "        self.out.clear_output()\n",
    "\n",
    "\n",
    "logger = logging.getLogger(__name__)\n",
    "handler = OutputWidgetHandler()\n",
    "handler.setFormatter(logging.Formatter('%(asctime)s  - [%(levelname)s] %(message)s'))\n",
    "logger.addHandler(handler)\n",
    "logger.setLevel(logging.INFO)"
   ]
  },
  {
   "cell_type": "code",
   "execution_count": 5,
   "id": "289aa384",
   "metadata": {},
   "outputs": [],
   "source": [
    "plot_output = widgets.Output()"
   ]
  },
  {
   "cell_type": "code",
   "execution_count": 6,
   "id": "86c43640",
   "metadata": {},
   "outputs": [],
   "source": [
    "# plot_output"
   ]
  },
  {
   "cell_type": "markdown",
   "id": "559931cd",
   "metadata": {},
   "source": [
    " ## Dropdown Boxes"
   ]
  },
  {
   "cell_type": "code",
   "execution_count": 7,
   "id": "8d82c70a",
   "metadata": {},
   "outputs": [],
   "source": [
    "columns = ['Age','Income','Marital Status']\n",
    "translate = {'Income': 'income', 'Marital Status': 'marital', 'Age': 'age', 'Race':'race'}"
   ]
  },
  {
   "cell_type": "markdown",
   "id": "8bc9e0d1",
   "metadata": {},
   "source": [
    "## Buttons"
   ]
  },
  {
   "cell_type": "code",
   "execution_count": 8,
   "id": "24fdcf7d",
   "metadata": {},
   "outputs": [],
   "source": [
    "import numpy as np\n",
    "\n",
    "submit_btn = widgets.Button(description='Submit')\n",
    "make_it_better = widgets.Button(description='Remeasure')\n",
    "\n",
    "def on_click_submit(obj):\n",
    "    global index, survey_answers, visualizations, epsilon_increments, curr_spec, back_end\n",
    "    logger.info('Clicked submit')\n",
    "    if answer.value == '':\n",
    "        return\n",
    "    val = answer.value\n",
    "    answer.value = answer.placeholder\n",
    "    survey_answers[index] = val\n",
    "    \n",
    "    if index+1 < len(questions):\n",
    "        index += 1\n",
    "        prompt.value = questions[index]\n",
    "    else:\n",
    "        with plot_output:\n",
    "            clear_output()\n",
    "        submit_btn.close()\n",
    "        interface.close()\n",
    "        bar_label.close()\n",
    "        prompt.value = 'Tutorial finished, thanks for your participation!'\n",
    "        display(prompt)\n",
    "        return\n",
    "    \n",
    "    back_end = src.backend.initialize_backend(cps_domain, data_path, budget=1.0)\n",
    "    \n",
    "    hist = builder.histogram_workload(cps_domain.config, bin_widths=visualizations[index])\n",
    "\n",
    "    # logger.info(hist.matrix.matrix)\n",
    "\n",
    "    y_hat, strategy_matrix = back_end.measure_hdmm(workload=hist, eps=epsilon_increments[index], restarts=20) # got y_hat\n",
    "\n",
    "    # B = np.linalg.pinv(strategy_matrix)\n",
    "\n",
    "    # logger.info(\"printing y_hat\")\n",
    "    # logger.info(B)\n",
    "    logger.info(\"printing strategy matrix\")\n",
    "#     logger.info(strategy_matrix.matrix)\n",
    "    comp_matrix = []\n",
    "    comp_matrix.append(strategy_matrix.matrix)\n",
    "    \n",
    "    logger.info(comp_matrix[i])\n",
    "\n",
    "#     if len(comp_matrix) > 1:\n",
    "#         for i in len(comp_matrix):\n",
    "#             if comp_matrix[i] == comp_matrix[i+1]:\n",
    "#                 logger.info(\"SAMEEEEEEEEEEEEEEEEE\")\n",
    "#             else:\n",
    "#                 logger.info(\"NOTTTTTTTTTTTTTTTTTTTTTTTT\")\n",
    "\n",
    "    column_names = list(visualizations[index].keys())\n",
    "    curr_spec = back_end.display(hist)\n",
    "    \n",
    "    with plot_output:\n",
    "        plot_output.clear_output()\n",
    "        plot = src.plots.linked_hist(column_names[0], column_names[1], data=curr_spec.reset_index(column_names), display_true=False, history=False)\n",
    "        logger.info(plot)\n",
    "#         display(\"Updating...\")\n",
    "        display(plot)\n",
    "#         altair_viewer.show(plot)\n",
    "\n",
    "def on_click_make_it_better(obj):\n",
    "    global index, visualizations, tries\n",
    "    logger.info('Clicked remeasure, question: {}'.format(index))\n",
    "\n",
    "    key_val = [x for x in visualizations[index].items()]\n",
    "    logger.info(key_val)\n",
    "    measure_dict = {'left': key_val[0], 'right': key_val[1]}\n",
    "    binning(measure_dict, epsilon = epsilon_increments[index])\n",
    "    \n",
    "submit_btn.on_click(on_click_submit)\n",
    "make_it_better.on_click(on_click_make_it_better)"
   ]
  },
  {
   "cell_type": "markdown",
   "id": "082d4dd9",
   "metadata": {},
   "source": [
    "## Text Boxes"
   ]
  },
  {
   "cell_type": "code",
   "execution_count": 9,
   "id": "955c7b6b",
   "metadata": {},
   "outputs": [],
   "source": [
    "global index\n",
    "prompt = widgets.Textarea(\n",
    "    value=questions[0],\n",
    "    placeholder='Type',\n",
    "    description='',\n",
    "    disabled=True,\n",
    "    layout=widgets.Layout(width='1000px', height='30px')\n",
    ")\n",
    "\n",
    "answer = widgets.Textarea(\n",
    "    value='',\n",
    "    placeholder='',\n",
    "    description='Answer:',\n",
    "    layout=widgets.Layout(width='300px', height='40px')\n",
    ")\n"
   ]
  },
  {
   "cell_type": "code",
   "execution_count": 10,
   "id": "f03b6c44",
   "metadata": {},
   "outputs": [],
   "source": [
    "back_end = src.backend.initialize_backend(cps_domain, data_path, budget=budget)\n",
    "\n",
    "progress_bar = widgets.FloatProgress(min=0.0, max=max_tries) # instantiate the bar\n",
    "progress_bar.style.bar_color = 'red'\n",
    "progress_bar.description = str(tries) + '/' + str(max_tries)\n",
    "budget_spent = widgets.Label(value='Tries')\n",
    "num_answers = len(questions)\n",
    "survey_answers = [0]*num_answers\n",
    "\n",
    "def binning(measure_dict, epsilon=None, group_income=None):\n",
    "    global tries, curr_spec, back_end\n",
    "    \n",
    "    left_col = measure_dict['left'] \n",
    "    right_col = measure_dict['right']\n",
    "    \n",
    "    widths = {left_col[0]:left_col[1], right_col[0]:right_col[1]}\n",
    "    \n",
    "    hist = builder.histogram_workload(cps_domain.config, bin_widths=widths)\n",
    "    \n",
    "    if epsilon is not None:\n",
    "        if tries+1 >= max_tries:\n",
    "            make_it_better.close()\n",
    "        if tries+1 > max_tries:\n",
    "            return\n",
    "        tries += 1\n",
    "        progress_bar.value = tries\n",
    "        progress_bar.description = str(tries) + '/' + str(max_tries)\n",
    "        y_hat, strategy_matrix = back_end.measure_hdmm(workload=hist, eps=epsilon, restarts=20)\n",
    "    \n",
    "    prev_spec = curr_spec\n",
    "    prev_spec.rename(columns={'error': 'error_prev', 'plus_error': 'plus_error_prev', 'minus_error': 'minus_error_prev', 'true_count':'true_count_prev', 'noisy_count':'noisy_count_prev'}, inplace=True)\n",
    "    curr_spec = back_end.display(hist)\n",
    "    spec = curr_spec.join(prev_spec, on=[left_col[0], right_col[0]]).reset_index([left_col[0], right_col[0]])\n",
    "    spec = spec.round(0)\n",
    "    \n",
    "    with plot_output:\n",
    "        plot_output.clear_output()\n",
    "        plot = src.plots.linked_hist_test(left_col[0], right_col[0], data=spec, projection=True,label=False)\n",
    "        display(plot) \n",
    "    \n",
    "box_layout = widgets.Layout(display='flex',\n",
    "    flex_flow='column',\n",
    "    align_items='flex-start',\n",
    "    color='black',\n",
    "    width='50%')\n",
    "\n",
    "bar_label = widgets.HBox([budget_spent, progress_bar, make_it_better])\n",
    "prompt_answer = widgets.VBox([answer, submit_btn], layout=box_layout)"
   ]
  },
  {
   "cell_type": "code",
   "execution_count": 11,
   "id": "32c70e80",
   "metadata": {},
   "outputs": [
    {
     "data": {
      "application/vnd.jupyter.widget-view+json": {
       "model_id": "bb2a8d7418a04a92a304e238597baded",
       "version_major": 2,
       "version_minor": 0
      },
      "text/plain": [
       "HBox(children=(Label(value='Tries'), FloatProgress(value=0.0, description='0/10', max=10.0, style=ProgressStyl…"
      ]
     },
     "metadata": {},
     "output_type": "display_data"
    },
    {
     "data": {
      "application/vnd.jupyter.widget-view+json": {
       "model_id": "9ae7350aaf3e461599c98416b342886b",
       "version_major": 2,
       "version_minor": 0
      },
      "text/plain": [
       "VBox(children=(Textarea(value=\"Warm Up: Type 'Yes' if you are ready to begin!\", disabled=True, layout=Layout(h…"
      ]
     },
     "metadata": {},
     "output_type": "display_data"
    }
   ],
   "source": [
    "display(bar_label)\n",
    "\n",
    "interface = widgets.VBox([prompt, plot_output, prompt_answer])\n",
    "display(interface)"
   ]
  },
  {
   "cell_type": "code",
   "execution_count": null,
   "id": "bd55e839",
   "metadata": {},
   "outputs": [],
   "source": []
  },
  {
   "cell_type": "code",
   "execution_count": 12,
   "id": "e8b5be31",
   "metadata": {},
   "outputs": [
    {
     "data": {
      "application/vnd.jupyter.widget-view+json": {
       "model_id": "ad0d3809afdb4d0eb689cace83edb22f",
       "version_major": 2,
       "version_minor": 0
      },
      "text/plain": [
       "Output(layout=Layout(border='1px solid black', height='160px', width='100%'))"
      ]
     },
     "metadata": {},
     "output_type": "display_data"
    },
    {
     "name": "stdout",
     "output_type": "stream",
     "text": [
      "None\n"
     ]
    }
   ],
   "source": [
    "print(handler.show_logs())"
   ]
  },
  {
   "cell_type": "code",
   "execution_count": 13,
   "id": "4b9883ef",
   "metadata": {},
   "outputs": [],
   "source": [
    "# print(questions)"
   ]
  },
  {
   "cell_type": "code",
   "execution_count": null,
   "id": "82966d49",
   "metadata": {},
   "outputs": [],
   "source": []
  },
  {
   "cell_type": "code",
   "execution_count": null,
   "id": "1ee36ae3",
   "metadata": {},
   "outputs": [],
   "source": []
  }
 ],
 "metadata": {
  "kernelspec": {
   "display_name": "Python 3 (ipykernel)",
   "language": "python",
   "name": "python3"
  },
  "language_info": {
   "codemirror_mode": {
    "name": "ipython",
    "version": 3
   },
   "file_extension": ".py",
   "mimetype": "text/x-python",
   "name": "python",
   "nbconvert_exporter": "python",
   "pygments_lexer": "ipython3",
   "version": "3.9.12"
  }
 },
 "nbformat": 4,
 "nbformat_minor": 5
}
