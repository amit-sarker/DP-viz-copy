{
 "cells": [
  {
   "cell_type": "code",
   "execution_count": 20,
   "id": "d9071880",
   "metadata": {
    "scrolled": true
   },
   "outputs": [
    {
     "data": {
      "application/javascript": [
       "IPython.OutputArea.prototype._should_scroll = function(lines) {\n",
       "    return false;\n",
       "}\n"
      ],
      "text/plain": [
       "<IPython.core.display.Javascript object>"
      ]
     },
     "metadata": {},
     "output_type": "display_data"
    }
   ],
   "source": [
    "%%javascript\n",
    "IPython.OutputArea.prototype._should_scroll = function(lines) {\n",
    "    return false;\n",
    "}"
   ]
  },
  {
   "cell_type": "code",
   "execution_count": 21,
   "id": "0edede79",
   "metadata": {},
   "outputs": [
    {
     "name": "stderr",
     "output_type": "stream",
     "text": [
      "/tmp/ipykernel_36603/218976982.py:16: DeprecationWarning: Importing display from IPython.core.display is deprecated since IPython 7.14, please import from IPython display\n",
      "  from IPython.core.display import display, HTML\n"
     ]
    },
    {
     "data": {
      "text/html": [
       "<style>.container { width:100% !important; }</style>"
      ],
      "text/plain": [
       "<IPython.core.display.HTML object>"
      ]
     },
     "metadata": {},
     "output_type": "display_data"
    },
    {
     "data": {
      "text/plain": [
       "DataTransformerRegistry.enable('default')"
      ]
     },
     "execution_count": 21,
     "metadata": {},
     "output_type": "execute_result"
    }
   ],
   "source": [
    "\n",
    "import sys\n",
    "\n",
    "import ipywidgets as widgets\n",
    "\n",
    "sys.path.append('../')\n",
    "sys.path.append('../src')\n",
    "\n",
    "import src.backend\n",
    "import src.workload_builder as builder\n",
    "from mbi import Domain\n",
    "import src.plots\n",
    "import altair as alt\n",
    "alt.renderers.enable('default')\n",
    "from IPython.display import display, clear_output\n",
    "\n",
    "from IPython.core.display import display, HTML\n",
    "display(HTML(\"<style>.container { width:100% !important; }</style>\"))\n",
    "\n",
    "\n",
    "alt.data_transformers.disable_max_rows()"
   ]
  },
  {
   "cell_type": "code",
   "execution_count": 22,
   "id": "e8caecaf",
   "metadata": {},
   "outputs": [],
   "source": [
    "data_path = '../data/CPS/CPS.csv'\n",
    "cps_domain = Domain(attrs=('age','income','marital','race'), shape=(100,100,7,4))\n",
    "questions = [\"Warm Up Question: Type 'Yes' if you are ready to begin!\",\n",
    "            \"Question 1/6: How many Chinese and American Indians have 'Widowed' as their marital status?\",\n",
    "            \"Question 2/6: How many people over the age of 65 have income between 100,000 and 149,000?\",\n",
    "            \"Question 3/6: What is the second most common marital status of people with income in the 100,000 to 199,000 range?\",\n",
    "            \"Question 4/6: Choose the top 3 age groups that have marital status: 'Never Married'?\",\n",
    "            \"Question 5/6: In the 100,000 to 199,000 income range, rank the top 3 races in terms of count from greatest to least.\",\n",
    "            \"Question 6/6: What is the second most common race in the 45-54 age group?\"]\n",
    "\n",
    "marital_race = {'marital':1, 'race':1}\n",
    "age_income = {'age':10, 'income':10}\n",
    "marital_income = {'income':10, 'marital':1}\n",
    "age_marital = {'age':10, 'marital':1}\n",
    "race_income = {'income':10, 'race':1}\n",
    "age_race = {'age':10, 'race':1}\n",
    "\n",
    "visualizations = [None, marital_race, age_income, marital_income, age_marital, race_income, age_race]\n",
    "prev_spec = None\n",
    "curr_spec = None\n",
    "epsilon_increments = [None,0.05,0.05,0.05,0.05,0.05,0.05,0.05]\n",
    "budget = 1.0\n",
    "max_tries = 10\n",
    "\n",
    "index = 0\n",
    "tries = 0\n",
    "back_end = None\n"
   ]
  },
  {
   "cell_type": "code",
   "execution_count": 23,
   "id": "f5ce151d",
   "metadata": {},
   "outputs": [
    {
     "data": {
      "text/plain": [
       "Domain(age: 100, income: 100, marital: 7, race: 4)"
      ]
     },
     "execution_count": 23,
     "metadata": {},
     "output_type": "execute_result"
    }
   ],
   "source": [
    "cps_domain"
   ]
  },
  {
   "cell_type": "markdown",
   "id": "b86f40a0",
   "metadata": {},
   "source": [
    "# Logging"
   ]
  },
  {
   "cell_type": "code",
   "execution_count": 24,
   "id": "bd5cd755",
   "metadata": {},
   "outputs": [],
   "source": [
    "import logging\n",
    "\n",
    "class OutputWidgetHandler(logging.Handler):\n",
    "    \"\"\" Custom logging handler sending logs to an output widget \"\"\"\n",
    "\n",
    "    def __init__(self, *args, **kwargs):\n",
    "        super(OutputWidgetHandler, self).__init__(*args, **kwargs)\n",
    "        layout = {\n",
    "            'width': '100%',\n",
    "            'height': '160px',\n",
    "            'border': '1px solid black'\n",
    "        }\n",
    "        self.out = widgets.Output(layout=layout)\n",
    "\n",
    "    def emit(self, record):\n",
    "        \"\"\" Overload of logging.Handler method \"\"\"\n",
    "        formatted_record = self.format(record)\n",
    "        new_output = {\n",
    "            'name': 'stdout',\n",
    "            'output_type': 'stream',\n",
    "            'text': formatted_record+'\\n'\n",
    "        }\n",
    "        self.out.outputs = (new_output, ) + self.out.outputs\n",
    "\n",
    "    def show_logs(self):\n",
    "        \"\"\" Show the logs \"\"\"\n",
    "        display(self.out)\n",
    "\n",
    "    def clear_logs(self):\n",
    "        \"\"\" Clear the current logs \"\"\"\n",
    "        self.out.clear_output()\n",
    "\n",
    "\n",
    "logger = logging.getLogger(__name__)\n",
    "handler = OutputWidgetHandler()\n",
    "handler.setFormatter(logging.Formatter('%(asctime)s  - [%(levelname)s] %(message)s'))\n",
    "logger.addHandler(handler)\n",
    "logger.setLevel(logging.INFO)"
   ]
  },
  {
   "cell_type": "code",
   "execution_count": 25,
   "id": "289aa384",
   "metadata": {},
   "outputs": [],
   "source": [
    "plot_output1 = widgets.Output()\n",
    "plot_output2 = widgets.Output()\n",
    "plot_output3 = widgets.Output()\n",
    "plot_output4 = widgets.Output()\n",
    "plot_output5 = widgets.Output()\n",
    "plot_output6 = widgets.Output()"
   ]
  },
  {
   "cell_type": "code",
   "execution_count": 26,
   "id": "80e0c988",
   "metadata": {},
   "outputs": [],
   "source": [
    "plot_output_rm1 = widgets.Output()\n",
    "plot_output_rm2 = widgets.Output()\n",
    "plot_output_rm3 = widgets.Output()\n",
    "plot_output_rm4 = widgets.Output()\n",
    "plot_output_rm5 = widgets.Output()\n",
    "plot_output_rm6 = widgets.Output()"
   ]
  },
  {
   "cell_type": "code",
   "execution_count": 27,
   "id": "cbf15dc1",
   "metadata": {},
   "outputs": [],
   "source": [
    "plot_output_after = widgets.Output()"
   ]
  },
  {
   "cell_type": "code",
   "execution_count": 28,
   "id": "9277ee65",
   "metadata": {},
   "outputs": [],
   "source": [
    "plot_output = widgets.Output()"
   ]
  },
  {
   "cell_type": "code",
   "execution_count": 29,
   "id": "86c43640",
   "metadata": {},
   "outputs": [],
   "source": [
    "# plot_output"
   ]
  },
  {
   "cell_type": "markdown",
   "id": "858a662d",
   "metadata": {},
   "source": [
    " ## Dropdown Boxes"
   ]
  },
  {
   "cell_type": "code",
   "execution_count": 30,
   "id": "8d82c70a",
   "metadata": {},
   "outputs": [],
   "source": [
    "columns = ['Age','Income','Marital Status']\n",
    "translate = {'Income': 'income', 'Marital Status': 'marital', 'Age': 'age', 'Race':'race'}"
   ]
  },
  {
   "cell_type": "code",
   "execution_count": null,
   "id": "f853c0d0",
   "metadata": {},
   "outputs": [],
   "source": []
  },
  {
   "cell_type": "markdown",
   "id": "1892fcb0",
   "metadata": {},
   "source": [
    "Text Boxes"
   ]
  },
  {
   "cell_type": "code",
   "execution_count": 31,
   "id": "f3fc5827",
   "metadata": {},
   "outputs": [],
   "source": [
    "import IPython\n",
    "from ipywidgets import Layout\n",
    "\n",
    "global index\n",
    "\n",
    "IPython.display.HTML('''<style>\n",
    ".mytext > select,.mytext > textarea   {\n",
    "    font-style: italic;\n",
    "    color: blue;\n",
    "    font-size: 30px;\n",
    "}\n",
    "</style>''')\n",
    "# w2=widgets.Textarea(value=\"Here it is\")\n",
    "# w2.add_class(\"mytext\")\n",
    "\n",
    "# prompt = widgets.Label(\n",
    "#     value= questions[0],\n",
    "#     placeholder='Type',\n",
    "#     font_weight='bold',\n",
    "#     # description=questions[0],\n",
    "#     # style = {'button_color': 'transparent', 'font_size': \"20px\"},\n",
    "#     disabled=True,\n",
    "#     layout=widgets.Layout(width='1000px', height='30px', font_size='200px')\n",
    "# )\n",
    "\n",
    "prompt = widgets.HTML(\n",
    "    value=\"<b>\" + questions[0] + \"</b>\",\n",
    "    placeholder='',\n",
    "    description='',\n",
    ")\n",
    "\n",
    "prompt2 = widgets.HTML(\n",
    "    value=\"<b>\" + questions[1] + \"</b>\",\n",
    "    placeholder='',\n",
    "    description='',\n",
    ")\n",
    "\n",
    "prompt3 = widgets.HTML(\n",
    "    value=\"<b>\" + questions[2] + \"</b>\",\n",
    "    placeholder='',\n",
    "    description='',\n",
    ")\n",
    "\n",
    "prompt4 = widgets.HTML(\n",
    "    value=\"<b>\" + questions[3] + \"</b>\",\n",
    "    placeholder='',\n",
    "    description='',\n",
    ")\n",
    "\n",
    "prompt5 = widgets.HTML(\n",
    "    value=\"<b>\" + questions[4] + \"</b>\",\n",
    "    placeholder='',\n",
    "    description='',\n",
    ")\n",
    "\n",
    "prompt6 = widgets.HTML(\n",
    "    value=\"<b>\" + questions[5] + \"</b>\",\n",
    "    placeholder='',\n",
    "    description='',\n",
    ")\n",
    "\n",
    "prompt7 = widgets.HTML(\n",
    "    value=\"<b>\" + questions[6] + \"</b>\",\n",
    "    placeholder='',\n",
    "    description='',\n",
    ")\n",
    "# prompt = widgets.Text(description=\"\", value=questions[0], disabled=True, layout=Layout(width='40%', height='30px'), style=dict(\n",
    "#     font_style='italic',\n",
    "#     font_size='20px',\n",
    "#     font_weight='bold',\n",
    "#     font_variant=\"small-caps\",\n",
    "#     text_color='red',\n",
    "#     text_decoration='underline'\n",
    "# ))\n",
    "\n",
    "# prompt2 = widgets.Button(description=questions[1], layout=Layout(width='55%', height='30px'), style=dict(\n",
    "#     font_style='italic',\n",
    "#     font_size='20px',\n",
    "#     font_weight='bold',\n",
    "#     font_variant=\"small-caps\",\n",
    "#     text_color='red',\n",
    "#     text_decoration='underline'\n",
    "# ))\n",
    "#\n",
    "# prompt3 = widgets.Button(description=questions[2], layout=Layout(width='55%', height='30px'), style=dict(\n",
    "#     font_style='italic',\n",
    "#     font_size='20px',\n",
    "#     font_weight='bold',\n",
    "#     font_variant=\"small-caps\",\n",
    "#     text_color='red',\n",
    "#     text_decoration='underline'\n",
    "# ))\n",
    "#\n",
    "# prompt4 = widgets.Button(description=questions[3], layout=Layout(width='55%', height='30px'), style=dict(\n",
    "#     font_style='italic',\n",
    "#     font_size='20px',\n",
    "#     font_weight='bold',\n",
    "#     font_variant=\"small-caps\",\n",
    "#     text_color='red',\n",
    "#     text_decoration='underline'\n",
    "# ))\n",
    "#\n",
    "# prompt5 = widgets.Button(description=questions[4], layout=Layout(width='55%', height='30px'), style=dict(\n",
    "#     font_style='italic',\n",
    "#     font_size='20px',\n",
    "#     font_weight='bold',\n",
    "#     font_variant=\"small-caps\",\n",
    "#     text_color='red',\n",
    "#     text_decoration='underline'\n",
    "# ))\n",
    "#\n",
    "# prompt6 = widgets.Button(description=questions[5], layout=Layout(width='55%', height='30px'), style=dict(\n",
    "#     font_style='italic',\n",
    "#     font_size='20px',\n",
    "#     font_weight='bold',\n",
    "#     font_variant=\"small-caps\",\n",
    "#     text_color='red',\n",
    "#     text_decoration='underline'\n",
    "# ))\n",
    "#\n",
    "# prompt7 = widgets.Button(description=questions[6], layout=Layout(width='55%', height='30px'), style=dict(\n",
    "#     font_style='italic',\n",
    "#     font_size='20px',\n",
    "#     font_weight='bold',\n",
    "#     font_variant=\"small-caps\",\n",
    "#     text_color='red',\n",
    "#     text_decoration='underline'\n",
    "# ))\n",
    "\n",
    "# finished_tries = widgets.Textarea(\n",
    "#     value=\"\",\n",
    "#     placeholder='Type',\n",
    "#     description='',\n",
    "#     disabled=True,\n",
    "#     layout=widgets.Layout(width='500px', height='30px') #500,30\n",
    "# )\n",
    "\n",
    "answer = widgets.Textarea(\n",
    "    value='',\n",
    "    placeholder='',\n",
    "    description='Answer:',\n",
    "    layout=widgets.Layout(width='300px', height='40px')\n",
    ")\n",
    "\n",
    "answer2 = widgets.Textarea(\n",
    "    value='',\n",
    "    placeholder='',\n",
    "    description='Answer:',\n",
    "    layout=widgets.Layout(width='500px', height='50px')\n",
    ")\n",
    "\n",
    "answer3 = widgets.Textarea(\n",
    "    value='',\n",
    "    placeholder='',\n",
    "    description='Answer:',\n",
    "    layout=widgets.Layout(width='500px', height='50px')\n",
    ")\n",
    "\n",
    "answer4 = widgets.Textarea(\n",
    "    value='',\n",
    "    placeholder='',\n",
    "    description='Answer:',\n",
    "    layout=widgets.Layout(width='500px', height='50px')\n",
    ")\n",
    "\n",
    "answer5 = widgets.Textarea(\n",
    "    value='',\n",
    "    placeholder='',\n",
    "    description='Answer:',\n",
    "    layout=widgets.Layout(width='500px', height='50px')\n",
    ")\n",
    "\n",
    "answer6 = widgets.Textarea(\n",
    "    value='',\n",
    "    placeholder='',\n",
    "    description='Answer:',\n",
    "    layout=widgets.Layout(width='500px', height='50px')\n",
    ")\n",
    "\n",
    "answer7 = widgets.Textarea(\n",
    "    value='',\n",
    "    placeholder='',\n",
    "    description='Answer:',\n",
    "    layout=widgets.Layout(width='500px', height='50px')\n",
    ")"
   ]
  },
  {
   "cell_type": "code",
   "execution_count": 32,
   "id": "e3d97086",
   "metadata": {},
   "outputs": [],
   "source": [
    "def make_plots(idd):\n",
    "    for i in range(len(questions) - 1):\n",
    "        if i == idd:\n",
    "            continue\n",
    "        # with plot_output_arr[i]:\n",
    "        column_names = list(visualizations[i+1].keys())\n",
    "        plot = src.plots.linked_hist(column_names[0], column_names[1], data=current_spec_arr[i].reset_index(column_names), display_true=False, history=False)\n",
    "        logger.info(plot)\n",
    "        # print(\"hhhhhhhhhhhhhhhhhhhhhhhhhhhhhhhhhhhhhhhhhhhhhh\")\n",
    "\n",
    "        bar_label = widgets.HBox([budget_spent, progress_bar, remeasure_arr[i]])\n",
    "        ques = widgets.HBox([prompt_arr[i+1]])\n",
    "        # prompt_answer = widgets.VBox([answer_arr[i+1], submit_btn], layout=box_layout)\n",
    "        prompt_answer = widgets.VBox([answer_arr[i+1]], layout=box_layout)\n",
    "        display(bar_label)\n",
    "        display(ques)\n",
    "\n",
    "        display(plot)\n",
    "        histogram_plots.append(widgets.VBox([plot_output_arr[i]]))\n",
    "        display(histogram_plots[i])\n",
    "        interface = widgets.VBox([prompt_answer])\n",
    "        display(interface)\n"
   ]
  },
  {
   "cell_type": "code",
   "execution_count": 33,
   "id": "5f10aa29",
   "metadata": {},
   "outputs": [],
   "source": [
    "plot_output_arr = [plot_output1, plot_output2, plot_output3, plot_output4, plot_output5, plot_output6]"
   ]
  },
  {
   "cell_type": "markdown",
   "id": "8bc9e0d1",
   "metadata": {},
   "source": [
    "## Buttons"
   ]
  },
  {
   "cell_type": "code",
   "execution_count": 34,
   "id": "24fdcf7d",
   "metadata": {},
   "outputs": [],
   "source": [
    "import copy\n",
    "import numpy as np\n",
    "from ipywidgets import Layout\n",
    "\n",
    "submit_btn = widgets.Button(description='Start')\n",
    "submit_btn.style.button_color = '#808080'\n",
    "# submit_btn_final = widgets.Button(description='Submit', layout=Layout(width='20%', height='50px'))\n",
    "submit_btn_final = widgets.Button(description='Submit All')\n",
    "submit_btn_final.style.button_color = '#808080'\n",
    "# make_it_better1 = widgets.Button(description='Remeasure Q1', button_style='warning')\n",
    "make_it_better1 = widgets.Button(description='Remeasure Q1')\n",
    "make_it_better2 = widgets.Button(description='Remeasure Q2')\n",
    "make_it_better3 = widgets.Button(description='Remeasure Q3')\n",
    "make_it_better4 = widgets.Button(description='Remeasure Q4')\n",
    "make_it_better5 = widgets.Button(description='Remeasure Q5')\n",
    "make_it_better6 = widgets.Button(description='Remeasure Q6')\n",
    "rm_button_arr = [make_it_better1, make_it_better2, make_it_better3, make_it_better4, make_it_better5, make_it_better6]\n",
    "\n",
    "separator = widgets.Button(description='', layout=Layout(width='99%', height='5px'))\n",
    "separator.style.button_color = 'black'\n",
    "for i in range(len(questions)-1):\n",
    "    rm_button_arr[i].style.button_color = '#808080'\n",
    "\n",
    "gap_button = widgets.Button(description='', layout=Layout(width='95%', height='50px'), disabled=True)\n",
    "gap_button.style.button_color = 'white'\n",
    "gap_button_Q = widgets.Button(description='', layout=Layout(width='95%', height='1px'), disabled=True)\n",
    "gap_button_Q.style.button_color = 'white'\n",
    "\n",
    "align_button = widgets.Button(description='', layout=Layout(width='40%', height='30px'), disabled=True)\n",
    "align_button.style.button_color = 'white'\n",
    "align_button_remeasure = widgets.Button(description='', layout=Layout(width='4%', height='1px'), disabled=True)\n",
    "align_button_remeasure.style.button_color = 'white'\n",
    "\n",
    "prompt_arr = [prompt, prompt2, prompt3, prompt4, prompt5, prompt6, prompt7]\n",
    "answer_arr = [answer, answer2, answer3, answer4, answer5, answer6, answer7]\n",
    "\n",
    "remeasure_arr = [make_it_better1, make_it_better2, make_it_better3, make_it_better4, make_it_better5, make_it_better6]\n",
    "\n",
    "plot_output_rm_arr = [plot_output_rm1, plot_output_rm2, plot_output_rm3, plot_output_rm4, plot_output_rm5, plot_output_rm6]\n",
    "\n",
    "progress_bar = widgets.FloatProgress(min=0.0, max=max_tries, layout=Layout(width='30%', height='30px'), bar_style='warning') # instantiate the bar\n",
    "# progress_bar.style.bar_color = '#8B4000'\n",
    "progress_bar.description = str(tries) + '/' + str(max_tries)\n",
    "# budget_spent = widgets.Label(value='Number of Remeasures Used So Far', style=dict(font_weight='bold'))\n",
    "\n",
    "budget_spent = widgets.HTML(\n",
    "    value=\"<b>Number of Remeasures are Used So Far</b>\",\n",
    "    placeholder='',\n",
    "    description='',\n",
    ")\n",
    "\n",
    "num_answers = len(questions)\n",
    "survey_answers = [0]*num_answers\n",
    "\n",
    "current_spec_arr = []\n",
    "current_spec_remeasure = []\n",
    "hist_workloads = []\n",
    "histogram_plots = []\n",
    "# hist_plot = None\n",
    "\n",
    "\n",
    "def make_vis(do_not_update=None):\n",
    "    global index, survey_answers, visualizations, epsilon_increments, curr_spec, back_end, bar_label, interface, ques\n",
    "    back_end = src.backend.initialize_backend(cps_domain, data_path, budget=1.0)\n",
    "\n",
    "    seed = 123\n",
    "    for i in range(len(questions) - 1):\n",
    "        # prompt_arr[i+1].value = questions[i+1]\n",
    "        hist = builder.histogram_workload(cps_domain.config, bin_widths=visualizations[i+1])\n",
    "        hist_workloads.append(hist)\n",
    "\n",
    "        y_hat, strategy_matrix = back_end.measure_hdmm(workload=hist, eps=epsilon_increments[i+1], restarts=20, seed=seed) # got y_hat\n",
    "\n",
    "        column_names = list(visualizations[i+1].keys())\n",
    "        curr_spec, cached = back_end.display(hist)\n",
    "        current_spec_arr.append(curr_spec)\n",
    "        current_spec_remeasure.append(curr_spec)\n",
    "\n",
    "        with plot_output_arr[i]:\n",
    "            plot_output_arr[i].clear_output()\n",
    "            plot = src.plots.linked_hist(column_names[0], column_names[1], data=curr_spec.reset_index(column_names), display_true=False, history=False)\n",
    "            # plot_output_arr[i].append_display_data(plot)\n",
    "            # display(plot_output_arr[i])\n",
    "        # plot = src.plots.linked_hist(column_names[0], column_names[1], data=curr_spec.reset_index(column_names), display_true=False, history=False)\n",
    "        # plot_output_arr[i].append_display_data(plot)\n",
    "        # display(plot_output_arr[i])\n",
    "\n",
    "        bar_label = widgets.HBox([budget_spent, progress_bar, align_button_remeasure, remeasure_arr[i]])\n",
    "        ques = widgets.HBox([prompt_arr[i+1]])\n",
    "        # prompt_answer = widgets.VBox([answer_arr[i+1], submit_btn], layout=box_layout)\n",
    "        prompt_answer = widgets.VBox([answer_arr[i+1]], layout=box_layout)\n",
    "\n",
    "        display(separator)\n",
    "        display(ques)\n",
    "        display(gap_button_Q)\n",
    "        display(bar_label)\n",
    "        display(plot)\n",
    "\n",
    "        # histogram_plots.append(widgets.VBox([plot_output_arr[i]]))\n",
    "        # display(histogram_plots[i])\n",
    "        hist_plot = widgets.VBox([plot_output_arr[i]])\n",
    "        display(hist_plot)\n",
    "        interface = widgets.VBox([prompt_answer])\n",
    "        display(interface)\n",
    "\n",
    "\n",
    "def on_click_submit(obj):\n",
    "    global index, survey_answers, visualizations, epsilon_increments, curr_spec, back_end, bar_label, interface, ques, plot\n",
    "    logger.info('Clicked submit')\n",
    "    if answer.value == '':\n",
    "        return\n",
    "    val = answer.value\n",
    "    answer.value = answer.placeholder\n",
    "    survey_answers[index] = val\n",
    "\n",
    "    interface.close()\n",
    "\n",
    "    display(gap_button)\n",
    "\n",
    "    make_vis()\n",
    "\n",
    "    display(separator)\n",
    "\n",
    "    display(widgets.HBox([align_button, submit_btn_final]))\n",
    "\n",
    "    # for i in range(len(questions) - 1):\n",
    "    #     prompt_arr[i+1].value = questions[i+1]\n",
    "    #     back_end = src.backend.initialize_backend(cps_domain, data_path, budget=1.0)\n",
    "    #     hist = builder.histogram_workload(cps_domain.config, bin_widths=visualizations[i+1])\n",
    "    #     y_hat, strategy_matrix = back_end.measure_hdmm(workload=hist, eps=epsilon_increments[i+1], restarts=20) # got y_hat\n",
    "    #     column_names = list(visualizations[i+1].keys())\n",
    "    #     curr_spec = back_end.display(hist)\n",
    "    #\n",
    "    #     with plot_output:\n",
    "    #         # plot_output.clear_output()\n",
    "    #         plot = src.plots.linked_hist(column_names[0], column_names[1], data=curr_spec.reset_index(column_names), display_true=False, history=False)\n",
    "    #         logger.info(plot)\n",
    "    #\n",
    "    #     bar_label = widgets.HBox([budget_spent, progress_bar, make_it_better])\n",
    "    #     ques = widgets.HBox([prompt_arr[i+1]])\n",
    "    #     prompt_answer = widgets.VBox([answer_arr[i+1], submit_btn], layout=box_layout)\n",
    "    #     display(bar_label)\n",
    "    #     display(ques)\n",
    "    #     display(plot)\n",
    "    #     interface = widgets.VBox([plot_output, prompt_answer])\n",
    "    #     display(interface)\n",
    "\n",
    "    # with plot_output:\n",
    "    #     clear_output()\n",
    "    # submit_btn.close()\n",
    "    # interface.close()\n",
    "    # bar_label.close()\n",
    "    # prompt.value = 'Tutorial finished, thanks for your participation!'\n",
    "    # display(prompt)\n",
    "    # return\n",
    "\n",
    "idx = 1\n",
    "\n",
    "def remeasure_clicked(question_no):\n",
    "    global index, visualizations, tries, idx, interface, submit_btn,  histogram_plots, plot_output_rm_arr\n",
    "    logger.info('Clicked remeasure, question: {}'.format(index))\n",
    "    # clear_output()\n",
    "    # plot_output_arr[question_no].clear_output()\n",
    "\n",
    "    key_val = [x for x in visualizations[question_no].items()]\n",
    "\n",
    "\n",
    "    measure_dict = {'left': key_val[0], 'right': key_val[1]}\n",
    "    binning(measure_dict, question_no-1, epsilon = epsilon_increments[question_no])\n",
    "\n",
    "    # for i in range(len(questions) - 1):\n",
    "    #     key_val = [x for x in visualizations[i+1].items()]\n",
    "    #     # logger.info(key_val)\n",
    "    #     measure_dict = {'left': key_val[0], 'right': key_val[1]}\n",
    "    #     binning(measure_dict, i, epsilon = epsilon_increments[idx])\n",
    "    # idx += 1\n",
    "\n",
    "    # make_vis()\n",
    "    tries += 1\n",
    "    progress_bar.value = tries\n",
    "    progress_bar.description = str(tries) + '/' + str(max_tries)\n",
    "\n",
    "def on_click_make_it_better(obj):\n",
    "    global index, visualizations, tries, idx, interface, submit_btn, plot_output\n",
    "    logger.info('Clicked remeasure, question: {}'.format(index))\n",
    "\n",
    "    with plot_output:\n",
    "        clear_output()\n",
    "    # plot_output_before[0].clear_output()\n",
    "    # print(plot_output_before)\n",
    "    # submit_btn.close()\n",
    "    # interface.close()\n",
    "    # bar_label.close()\n",
    "    \n",
    "    key_val = [x for x in visualizations[1].items()]\n",
    "    measure_dict = {'left': key_val[0], 'right': key_val[1]}\n",
    "    binning(measure_dict, 0, epsilon = epsilon_increments[1])\n",
    "\n",
    "    # for i in range(len(questions) - 1):\n",
    "    #     key_val = [x for x in visualizations[i+1].items()]\n",
    "    #     # logger.info(key_val)\n",
    "    #     measure_dict = {'left': key_val[0], 'right': key_val[1]}\n",
    "    #     binning(measure_dict, i, epsilon = epsilon_increments[idx])\n",
    "    # idx += 1\n",
    "\n",
    "    # make_vis()\n",
    "    tries += 1\n",
    "    progress_bar.value = tries\n",
    "    progress_bar.description = str(tries) + '/' + str(max_tries)\n",
    "\n",
    "def on_click_make_it_better_1(obj):\n",
    "    remeasure_clicked(1)\n",
    "\n",
    "def on_click_make_it_better_2(obj):\n",
    "    remeasure_clicked(2)\n",
    "\n",
    "def on_click_make_it_better_3(obj):\n",
    "    remeasure_clicked(3)\n",
    "\n",
    "def on_click_make_it_better_4(obj):\n",
    "    remeasure_clicked(4)\n",
    "\n",
    "def on_click_make_it_better_5(obj):\n",
    "    remeasure_clicked(5)\n",
    "\n",
    "def on_click_make_it_better_6(obj):\n",
    "    remeasure_clicked(6)\n",
    "\n",
    "submit_btn.on_click(on_click_submit)\n",
    "make_it_better1.on_click(on_click_make_it_better_1)\n",
    "make_it_better2.on_click(on_click_make_it_better_2)\n",
    "make_it_better3.on_click(on_click_make_it_better_3)\n",
    "make_it_better4.on_click(on_click_make_it_better_4)\n",
    "make_it_better5.on_click(on_click_make_it_better_5)\n",
    "make_it_better6.on_click(on_click_make_it_better_6)\n",
    "\n",
    "box_layout = widgets.Layout(display='flex',\n",
    "    flex_flow='column',\n",
    "    align_items='flex-start',\n",
    "    color='black',\n",
    "    width='80%')\n",
    "\n",
    "# bar_label = widgets.HBox([budget_spent, progress_bar, make_it_better])\n",
    "prompt_answer = widgets.VBox([answer, submit_btn], layout=box_layout)"
   ]
  },
  {
   "cell_type": "code",
   "execution_count": 35,
   "id": "d8cdb83f",
   "metadata": {},
   "outputs": [],
   "source": [
    "# import numpy as np\n",
    "#\n",
    "# submit_btn = widgets.Button(description='Submit')\n",
    "# make_it_better = widgets.Button(description='Remeasure')\n",
    "#\n",
    "# def on_click_submit(obj):\n",
    "#     global index, survey_answers, visualizations, epsilon_increments, curr_spec, back_end\n",
    "#     logger.info('Clicked submit')\n",
    "#     if answer.value == '':\n",
    "#         return\n",
    "#     val = answer.value\n",
    "#     answer.value = answer.placeholder\n",
    "#     survey_answers[index] = val\n",
    "#\n",
    "#     if index+1 < len(questions):\n",
    "#         index += 1\n",
    "#         prompt.value = questions[index]\n",
    "#     else:\n",
    "#         with plot_output:\n",
    "#             clear_output()\n",
    "#         submit_btn.close()\n",
    "#         interface.close()\n",
    "#         bar_label.close()\n",
    "#         prompt.value = 'Tutorial finished, thanks for your participation!'\n",
    "#         display(prompt)\n",
    "#         return\n",
    "#\n",
    "#     back_end = src.backend.initialize_backend(cps_domain, data_path, budget=1.0)\n",
    "#\n",
    "#     hist = builder.histogram_workload(cps_domain.config, bin_widths=visualizations[index])\n",
    "#\n",
    "#     # logger.info(hist.matrix.matrix)\n",
    "#\n",
    "#     y_hat, strategy_matrix = back_end.measure_hdmm(workload=hist, eps=epsilon_increments[index], restarts=20) # got y_hat\n",
    "#\n",
    "#     # B = np.linalg.pinv(strategy_matrix)\n",
    "#\n",
    "#     # logger.info(\"printing y_hat\")\n",
    "#     # logger.info(B)\n",
    "#     logger.info(\"printing strategy matrix\")\n",
    "# #     logger.info(strategy_matrix.matrix)\n",
    "#\n",
    "#     column_names = list(visualizations[index].keys())\n",
    "#     curr_spec = back_end.display(hist)\n",
    "#\n",
    "#     with plot_output:\n",
    "#         plot_output.clear_output()\n",
    "#         plot = src.plots.linked_hist(column_names[0], column_names[1], data=curr_spec.reset_index(column_names), display_true=False, history=False)\n",
    "#         logger.info(plot)\n",
    "# #         display(\"Updating...\")\n",
    "#         display(plot)\n",
    "# #         altair_viewer.show(plot)\n",
    "#\n",
    "# def on_click_make_it_better(obj):\n",
    "#     global index, visualizations, tries\n",
    "#     logger.info('Clicked remeasure, question: {}'.format(index))\n",
    "#\n",
    "#     key_val = [x for x in visualizations[index].items()]\n",
    "#     logger.info(key_val)\n",
    "#     measure_dict = {'left': key_val[0], 'right': key_val[1]}\n",
    "#     binning(measure_dict, epsilon = epsilon_increments[index])\n",
    "#\n",
    "# submit_btn.on_click(on_click_submit)\n",
    "# make_it_better.on_click(on_click_make_it_better)"
   ]
  },
  {
   "cell_type": "code",
   "execution_count": 36,
   "id": "0183764d",
   "metadata": {},
   "outputs": [],
   "source": [
    "# text_area = []\n",
    "# for i in range(len(questions)):\n",
    "#     text_area.append(answer)\n"
   ]
  },
  {
   "cell_type": "code",
   "execution_count": 37,
   "id": "f03b6c44",
   "metadata": {},
   "outputs": [],
   "source": [
    "back_end = src.backend.initialize_backend(cps_domain, data_path, budget=budget)\n",
    "# global back_end\n",
    "rm_spec = [0, 0, 0, 0, 0, 0]\n",
    "rm_hit = [False, False, False, False, False, False]\n",
    "\n",
    "def binning(measure_dict, id=None, epsilon=None):\n",
    "    rm_hit[id] = True\n",
    "    global tries, curr_spec, back_end, current_spec_arr, hist_workloads, plot_output_rm_arr\n",
    "    \n",
    "    left_col = measure_dict['left'] \n",
    "    right_col = measure_dict['right']\n",
    "    \n",
    "    widths = {left_col[0]:left_col[1], right_col[0]:right_col[1]}\n",
    "    \n",
    "    hist = builder.histogram_workload(cps_domain.config, bin_widths=widths)\n",
    "\n",
    "    if epsilon is not None:\n",
    "        if tries+1 >= max_tries:\n",
    "            for i in range(len(questions)-1):\n",
    "                remeasure_arr[i].close()\n",
    "                budget_spent.value = \"<b>You have used all the remeasures</b>\"\n",
    "                # progress_bar.bar_style='danger'\n",
    "        elif tries+1 > max_tries:\n",
    "            return\n",
    "        # else:\n",
    "        #     clear_output()\n",
    "        y_hat, strategy_matrix = back_end.measure_hdmm(workload=hist, eps=epsilon, restarts=20)\n",
    "\n",
    "    prev_spec = current_spec_remeasure[id]\n",
    "\n",
    "    # print(\"Spec Previous\", prev_spec)\n",
    "    # print(\"---------------------------------------------------------------\")\n",
    "    prev_spec.rename(columns={'error': 'error_prev', 'plus_error': 'plus_error_prev', 'minus_error': 'minus_error_prev', 'true_count':'true_count_prev', 'noisy_count':'noisy_count_prev'}, inplace=True)\n",
    "\n",
    "    current_spec_remeasure[id], cached = back_end.display(hist) ################# Cache_search function called\n",
    "\n",
    "    # print(\"spec after \", prev_spec)\n",
    "\n",
    "    spec = current_spec_remeasure[id].join(prev_spec, on=[left_col[0], right_col[0]]).reset_index([left_col[0], right_col[0]])\n",
    "\n",
    "    rm_spec[id] = spec\n",
    "    clear_output()\n",
    "    display(gap_button)\n",
    "    for i in range(len(questions) - 1):\n",
    "        if tries+1 < max_tries:\n",
    "            bar_label = widgets.HBox([budget_spent, progress_bar, align_button_remeasure, remeasure_arr[i]])\n",
    "        else:\n",
    "            bar_label = widgets.HBox([budget_spent, progress_bar])\n",
    "        ques = widgets.HBox([prompt_arr[i+1]])\n",
    "        # prompt_answer = widgets.VBox([answer_arr[i+1], submit_btn], layout=box_layout)\n",
    "        prompt_answer = widgets.VBox([answer_arr[i+1]], layout=box_layout)\n",
    "        display(separator)\n",
    "        display(ques)\n",
    "        display(bar_label)\n",
    "        if rm_hit[i]:\n",
    "            key_value_new = [x for x in visualizations[i+1].items()]\n",
    "            measure_dict_new = {'left': key_value_new[0], 'right': key_value_new[1]}\n",
    "            left_col_new = measure_dict_new['left']\n",
    "            right_col_new = measure_dict_new['right']\n",
    "            plot_new = src.plots.linked_hist_test(left_col_new[0], right_col_new[0], data=rm_spec[i], projection=True,label=False)\n",
    "            display(plot_new)\n",
    "        else:\n",
    "            column_names_new = list(visualizations[i+1].keys())\n",
    "            plot_new = src.plots.linked_hist(column_names_new[0], column_names_new[1], data=current_spec_arr[i].reset_index(column_names_new), display_true=False, history=False)\n",
    "            display(plot_new)\n",
    "        interface = widgets.VBox([prompt_answer])\n",
    "        display(interface)\n",
    "    display(separator)\n",
    "    display(widgets.HBox([align_button, submit_btn_final]))\n",
    "\n",
    "    # with plot_output_arr[id]:\n",
    "    #     plot_output_arr[id].clear_output()\n",
    "    #     # clear_output()\n",
    "    #     # plot_output_arr[id].close()\n",
    "    #     plot = src.plots.linked_hist_test(left_col[0], right_col[0], data=spec, projection=True,label=False)\n",
    "    #     display(plot)\n",
    "\n",
    "    # display(plot_output_arr[id])\n",
    "        # print(\"remeasure plot output: \", plot_output_arr[id])\n",
    "\n",
    "    # hist_plot_rm = widgets.VBox([plot_output_arr[id]])\n",
    "    # display(hist_plot_rm)\n",
    "\n",
    "    # for i in range(len(questions) - 2):\n",
    "    #     key_val2 = [x for x in visualizations[i + 2].items()]\n",
    "    #     measure_dict2 = {'left': key_val2[0], 'right': key_val2[1]}\n",
    "    #     left_col2 = measure_dict2['left']\n",
    "    #     right_col2 = measure_dict2['right']\n",
    "    #     widths = {left_col2[0]:left_col2[1], right_col2[0]:right_col2[1]}\n",
    "    #\n",
    "    #     prev_spec2 = current_spec_arr[i + 1]\n",
    "    #     prev_spec2.rename(columns={'error': 'error_prev', 'plus_error': 'plus_error_prev', 'minus_error': 'minus_error_prev', 'true_count':'true_count_prev', 'noisy_count':'noisy_count_prev'}, inplace=True)\n",
    "    #     # hist2 = hist_workloads[i + 2]\n",
    "    #     hist2 = builder.histogram_workload(cps_domain.config, bin_widths=widths)\n",
    "    #\n",
    "    #     current_spec_arr[i + 1], cached2 = back_end.display(hist2) ################# Cache_search function called\n",
    "    #\n",
    "    #     spec2 = current_spec_arr[i + 1].join(prev_spec2, on=[left_col2[0], right_col2[0]]).reset_index([left_col2[0], right_col2[0]])\n",
    "    #     spec2 = spec2.round(0)\n",
    "    #\n",
    "    #     with plot_output:\n",
    "    #         # plot_output.clear_output()\n",
    "    #         plot2 = src.plots.linked_hist_test(left_col2[0], right_col2[0], data=spec2, projection=True,label=False)\n",
    "    #         # plot = src.plots.linked_hist(left_col[0], right_col[0], data=spec, display_true=False, history=False)\n",
    "    #         display(plot2)\n",
    "    \n",
    "box_layout = widgets.Layout(display='flex',\n",
    "    flex_flow='column',\n",
    "    align_items='flex-start',\n",
    "    color='black',\n",
    "    width='80%')\n",
    "\n",
    "def on_click_submit_all(obj):\n",
    "    ans_dict = {}\n",
    "    for i in range(len(questions) - 1):\n",
    "        if answer_arr[i + 1].value == '':\n",
    "            align_button.description = 'Please answer all the questions'\n",
    "            align_button.style.text_color = '#E30000'\n",
    "            return\n",
    "        a = i+1\n",
    "        ans_dict['Question ' + str(a) + ' answer'] = answer_arr[i+1].value\n",
    "    with open(\"answers/answer.txt\", 'a') as f:\n",
    "        f.write('\\n')\n",
    "        for key, value in ans_dict.items():\n",
    "            f.write('%s : %s\\n' % (key, value))\n",
    "        f.write('-------------------------------------------------------------')\n",
    "    clear_output()\n",
    "    prompt.value=\"<b>Survey finished, thanks for your participation!</b>\"\n",
    "    display(prompt)\n",
    "\n",
    "\n",
    "# bar_label = widgets.HBox([budget_spent, progress_bar, make_it_better])\n",
    "prompt_answer = widgets.VBox([answer, submit_btn], layout=box_layout)\n",
    "submit_btn_final.on_click(on_click_submit_all)"
   ]
  },
  {
   "cell_type": "code",
   "execution_count": 38,
   "id": "32c70e80",
   "metadata": {
    "scrolled": true
   },
   "outputs": [
    {
     "data": {
      "application/vnd.jupyter.widget-view+json": {
       "model_id": "4b85330c65ea49f884469371c4e5a482",
       "version_major": 2,
       "version_minor": 0
      },
      "text/plain": [
       "Button(disabled=True, layout=Layout(height='50px', width='95%'), style=ButtonStyle(button_color='white'))"
      ]
     },
     "metadata": {},
     "output_type": "display_data"
    },
    {
     "data": {
      "application/vnd.jupyter.widget-view+json": {
       "model_id": "a016dd17ee4a43b39d7604f98784dbb9",
       "version_major": 2,
       "version_minor": 0
      },
      "text/plain": [
       "Button(layout=Layout(height='5px', width='99%'), style=ButtonStyle(button_color='black'))"
      ]
     },
     "metadata": {},
     "output_type": "display_data"
    },
    {
     "data": {
      "application/vnd.jupyter.widget-view+json": {
       "model_id": "d97a7bd8e76042eb811d87ed67cab143",
       "version_major": 2,
       "version_minor": 0
      },
      "text/plain": [
       "HBox(children=(HTML(value=\"<b>Question 1/6: How many Chinese and American Indians have 'Widowed' as their mari…"
      ]
     },
     "metadata": {},
     "output_type": "display_data"
    },
    {
     "data": {
      "application/vnd.jupyter.widget-view+json": {
       "model_id": "337fabd4ee534bdeab9a9cddd5fb8209",
       "version_major": 2,
       "version_minor": 0
      },
      "text/plain": [
       "HBox(children=(HTML(value='<b>Number of Remeasures are Used So Far</b>', placeholder=''), FloatProgress(value=…"
      ]
     },
     "metadata": {},
     "output_type": "display_data"
    },
    {
     "data": {
      "text/html": [
       "\n",
       "<div id=\"altair-viz-bd526085dcbb41739273df6ac1135264\"></div>\n",
       "<script type=\"text/javascript\">\n",
       "  var VEGA_DEBUG = (typeof VEGA_DEBUG == \"undefined\") ? {} : VEGA_DEBUG;\n",
       "  (function(spec, embedOpt){\n",
       "    let outputDiv = document.currentScript.previousElementSibling;\n",
       "    if (outputDiv.id !== \"altair-viz-bd526085dcbb41739273df6ac1135264\") {\n",
       "      outputDiv = document.getElementById(\"altair-viz-bd526085dcbb41739273df6ac1135264\");\n",
       "    }\n",
       "    const paths = {\n",
       "      \"vega\": \"https://cdn.jsdelivr.net/npm//vega@5?noext\",\n",
       "      \"vega-lib\": \"https://cdn.jsdelivr.net/npm//vega-lib?noext\",\n",
       "      \"vega-lite\": \"https://cdn.jsdelivr.net/npm//vega-lite@4.17.0?noext\",\n",
       "      \"vega-embed\": \"https://cdn.jsdelivr.net/npm//vega-embed@6?noext\",\n",
       "    };\n",
       "\n",
       "    function maybeLoadScript(lib, version) {\n",
       "      var key = `${lib.replace(\"-\", \"\")}_version`;\n",
       "      return (VEGA_DEBUG[key] == version) ?\n",
       "        Promise.resolve(paths[lib]) :\n",
       "        new Promise(function(resolve, reject) {\n",
       "          var s = document.createElement('script');\n",
       "          document.getElementsByTagName(\"head\")[0].appendChild(s);\n",
       "          s.async = true;\n",
       "          s.onload = () => {\n",
       "            VEGA_DEBUG[key] = version;\n",
       "            return resolve(paths[lib]);\n",
       "          };\n",
       "          s.onerror = () => reject(`Error loading script: ${paths[lib]}`);\n",
       "          s.src = paths[lib];\n",
       "        });\n",
       "    }\n",
       "\n",
       "    function showError(err) {\n",
       "      outputDiv.innerHTML = `<div class=\"error\" style=\"color:red;\">${err}</div>`;\n",
       "      throw err;\n",
       "    }\n",
       "\n",
       "    function displayChart(vegaEmbed) {\n",
       "      vegaEmbed(outputDiv, spec, embedOpt)\n",
       "        .catch(err => showError(`Javascript Error: ${err.message}<br>This usually means there's a typo in your chart specification. See the javascript console for the full traceback.`));\n",
       "    }\n",
       "\n",
       "    if(typeof define === \"function\" && define.amd) {\n",
       "      requirejs.config({paths});\n",
       "      require([\"vega-embed\"], displayChart, err => showError(`Error loading script: ${err.message}`));\n",
       "    } else {\n",
       "      maybeLoadScript(\"vega\", \"5\")\n",
       "        .then(() => maybeLoadScript(\"vega-lite\", \"4.17.0\"))\n",
       "        .then(() => maybeLoadScript(\"vega-embed\", \"6\"))\n",
       "        .catch(showError)\n",
       "        .then(() => displayChart(vegaEmbed));\n",
       "    }\n",
       "  })({\"config\": {\"view\": {\"continuousWidth\": 400, \"continuousHeight\": 300}, \"axis\": {\"labelFontSize\": 11, \"titleFontSize\": 15}, \"axisBottom\": {\"labelAngle\": 60}}, \"hconcat\": [{\"layer\": [{\"mark\": \"bar\", \"encoding\": {\"color\": {\"value\": \"transparent\"}, \"tooltip\": [{\"aggregate\": \"sum\", \"field\": \"noisy_count\", \"title\": \"noisy count\", \"type\": \"quantitative\"}, {\"aggregate\": \"sum\", \"field\": \"error\", \"title\": \"error\", \"type\": \"quantitative\"}], \"x\": {\"field\": \"marital\", \"sort\": null, \"title\": \"Marital\", \"type\": \"ordinal\"}}, \"height\": 300, \"selection\": {\"selector049\": {\"type\": \"interval\", \"encodings\": [\"x\"]}}, \"transform\": [{\"filter\": {\"selection\": \"selector050\"}}], \"width\": 450}, {\"mark\": {\"type\": \"bar\", \"color\": \"#4C7FFF\", \"opacity\": 0.7}, \"encoding\": {\"x\": {\"field\": \"marital\", \"sort\": null, \"title\": \"Marital\", \"type\": \"ordinal\"}, \"y\": {\"aggregate\": \"sum\", \"field\": \"noisy_count\", \"type\": \"quantitative\"}}, \"transform\": [{\"filter\": {\"selection\": \"selector050\"}}]}, {\"mark\": {\"type\": \"tick\", \"color\": \"black\", \"width\": 0}, \"encoding\": {\"x\": {\"field\": \"marital\", \"sort\": null, \"title\": \"Marital\", \"type\": \"ordinal\"}, \"y\": {\"aggregate\": \"sum\", \"field\": \"plus_error\", \"type\": \"quantitative\"}}, \"transform\": [{\"filter\": {\"selection\": \"selector050\"}}]}, {\"mark\": {\"type\": \"tick\", \"color\": \"black\", \"width\": 0}, \"encoding\": {\"x\": {\"field\": \"marital\", \"sort\": null, \"title\": \"Marital\", \"type\": \"ordinal\"}, \"y\": {\"aggregate\": \"sum\", \"field\": \"minus_error\", \"type\": \"quantitative\"}}, \"transform\": [{\"filter\": {\"selection\": \"selector050\"}}]}, {\"mark\": {\"type\": \"point\", \"color\": \"black\"}, \"encoding\": {\"x\": {\"field\": \"marital\", \"sort\": null, \"title\": \"Marital\", \"type\": \"ordinal\"}, \"y\": {\"aggregate\": \"sum\", \"field\": \"noisy_count\", \"title\": \"Noisy Count\", \"type\": \"quantitative\"}}, \"transform\": [{\"filter\": {\"selection\": \"selector050\"}}]}, {\"mark\": {\"type\": \"rule\", \"size\": 2}, \"encoding\": {\"x\": {\"field\": \"marital\", \"sort\": null, \"title\": \"Marital\", \"type\": \"ordinal\"}, \"y\": {\"aggregate\": \"sum\", \"field\": \"plus_error\", \"title\": \"\", \"type\": \"quantitative\"}, \"y2\": {\"aggregate\": \"sum\", \"field\": \"minus_error\", \"title\": \"\"}}, \"transform\": [{\"filter\": {\"selection\": \"selector050\"}}]}]}, {\"layer\": [{\"mark\": \"bar\", \"encoding\": {\"color\": {\"value\": \"transparent\"}, \"tooltip\": [{\"aggregate\": \"sum\", \"field\": \"noisy_count\", \"title\": \"noisy count\", \"type\": \"quantitative\"}, {\"aggregate\": \"sum\", \"field\": \"error\", \"title\": \"error\", \"type\": \"quantitative\"}], \"x\": {\"field\": \"race\", \"sort\": null, \"title\": \"Race\", \"type\": \"ordinal\"}}, \"height\": 300, \"selection\": {\"selector050\": {\"type\": \"interval\", \"encodings\": [\"x\"]}}, \"transform\": [{\"filter\": {\"selection\": \"selector049\"}}], \"width\": 450}, {\"mark\": {\"type\": \"bar\", \"color\": \"#4C7FFF\", \"opacity\": 0.7}, \"encoding\": {\"x\": {\"field\": \"race\", \"sort\": null, \"title\": \"Race\", \"type\": \"ordinal\"}, \"y\": {\"aggregate\": \"sum\", \"field\": \"noisy_count\", \"type\": \"quantitative\"}}, \"transform\": [{\"filter\": {\"selection\": \"selector049\"}}]}, {\"mark\": {\"type\": \"tick\", \"color\": \"black\", \"width\": 0}, \"encoding\": {\"x\": {\"field\": \"race\", \"sort\": null, \"title\": \"Race\", \"type\": \"ordinal\"}, \"y\": {\"aggregate\": \"sum\", \"field\": \"plus_error\", \"type\": \"quantitative\"}}, \"transform\": [{\"filter\": {\"selection\": \"selector049\"}}]}, {\"mark\": {\"type\": \"tick\", \"color\": \"black\", \"width\": 0}, \"encoding\": {\"x\": {\"field\": \"race\", \"sort\": null, \"title\": \"Race\", \"type\": \"ordinal\"}, \"y\": {\"aggregate\": \"sum\", \"field\": \"minus_error\", \"type\": \"quantitative\"}}, \"transform\": [{\"filter\": {\"selection\": \"selector049\"}}]}, {\"mark\": {\"type\": \"point\", \"color\": \"black\"}, \"encoding\": {\"x\": {\"field\": \"race\", \"sort\": null, \"title\": \"Race\", \"type\": \"ordinal\"}, \"y\": {\"aggregate\": \"sum\", \"field\": \"noisy_count\", \"title\": \"Noisy Count\", \"type\": \"quantitative\"}}, \"transform\": [{\"filter\": {\"selection\": \"selector049\"}}]}, {\"mark\": {\"type\": \"rule\", \"size\": 2}, \"encoding\": {\"x\": {\"field\": \"race\", \"sort\": null, \"title\": \"Race\", \"type\": \"ordinal\"}, \"y\": {\"aggregate\": \"sum\", \"field\": \"plus_error\", \"title\": \"\", \"type\": \"quantitative\"}, \"y2\": {\"aggregate\": \"sum\", \"field\": \"minus_error\", \"title\": \"\"}}, \"transform\": [{\"filter\": {\"selection\": \"selector049\"}}]}]}], \"data\": {\"name\": \"data-2b9f1a5276c666aff4f61dafc8ff91e4\"}, \"$schema\": \"https://vega.github.io/schema/vega-lite/v4.17.0.json\", \"datasets\": {\"data-2b9f1a5276c666aff4f61dafc8ff91e4\": [{\"marital\": \"Married\", \"race\": \"White\", \"noisy_count\": 24271.1, \"true_count\": 24269.0, \"plus_error\": 24299.3, \"minus_error\": 24242.8, \"error\": 28.3}, {\"marital\": \"Married\", \"race\": \"Black\", \"noisy_count\": 1678.3, \"true_count\": 1667.0, \"plus_error\": 1706.5, \"minus_error\": 1650.0, \"error\": 28.3}, {\"marital\": \"Married\", \"race\": \"American Indian\", \"noisy_count\": 270.6, \"true_count\": 266.0, \"plus_error\": 298.9, \"minus_error\": 242.3, \"error\": 28.3}, {\"marital\": \"Married\", \"race\": \"Chinese\", \"noisy_count\": 864.9, \"true_count\": 863.0, \"plus_error\": 893.2, \"minus_error\": 836.6, \"error\": 28.3}, {\"marital\": \"Absent\", \"race\": \"White\", \"noisy_count\": 100.9, \"true_count\": 94.0, \"plus_error\": 129.2, \"minus_error\": 72.6, \"error\": 28.3}, {\"marital\": \"Absent\", \"race\": \"Black\", \"noisy_count\": 13.3, \"true_count\": 16.0, \"plus_error\": 41.6, \"minus_error\": -15.0, \"error\": 28.3}, {\"marital\": \"Absent\", \"race\": \"American Indian\", \"noisy_count\": 30.6, \"true_count\": 0.0, \"plus_error\": 58.9, \"minus_error\": 2.3, \"error\": 28.3}, {\"marital\": \"Absent\", \"race\": \"Chinese\", \"noisy_count\": 59.4, \"true_count\": 7.0, \"plus_error\": 87.7, \"minus_error\": 31.2, \"error\": 28.3}, {\"marital\": \"Separated\", \"race\": \"White\", \"noisy_count\": 584.5, \"true_count\": 567.0, \"plus_error\": 612.8, \"minus_error\": 556.2, \"error\": 28.3}, {\"marital\": \"Separated\", \"race\": \"Black\", \"noisy_count\": 85.2, \"true_count\": 84.0, \"plus_error\": 113.5, \"minus_error\": 56.9, \"error\": 28.3}, {\"marital\": \"Separated\", \"race\": \"American Indian\", \"noisy_count\": 15.9, \"true_count\": 13.0, \"plus_error\": 44.2, \"minus_error\": -12.4, \"error\": 28.3}, {\"marital\": \"Separated\", \"race\": \"Chinese\", \"noisy_count\": 85.1, \"true_count\": 47.0, \"plus_error\": 113.4, \"minus_error\": 56.8, \"error\": 28.3}, {\"marital\": \"Widowed\", \"race\": \"White\", \"noisy_count\": 4043.1, \"true_count\": 4078.0, \"plus_error\": 4071.3, \"minus_error\": 4014.8, \"error\": 28.3}, {\"marital\": \"Widowed\", \"race\": \"Black\", \"noisy_count\": 478.8, \"true_count\": 543.0, \"plus_error\": 507.1, \"minus_error\": 450.6, \"error\": 28.3}, {\"marital\": \"Widowed\", \"race\": \"American Indian\", \"noisy_count\": 56.9, \"true_count\": 35.0, \"plus_error\": 85.2, \"minus_error\": 28.6, \"error\": 28.3}, {\"marital\": \"Widowed\", \"race\": \"Chinese\", \"noisy_count\": 93.3, \"true_count\": 77.0, \"plus_error\": 121.5, \"minus_error\": 65.0, \"error\": 28.3}, {\"marital\": \"Divorced\", \"race\": \"White\", \"noisy_count\": 5964.0, \"true_count\": 5901.0, \"plus_error\": 5992.3, \"minus_error\": 5935.8, \"error\": 28.3}, {\"marital\": \"Divorced\", \"race\": \"Black\", \"noisy_count\": 768.2, \"true_count\": 750.0, \"plus_error\": 796.5, \"minus_error\": 740.0, \"error\": 28.3}, {\"marital\": \"Divorced\", \"race\": \"American Indian\", \"noisy_count\": 92.4, \"true_count\": 94.0, \"plus_error\": 120.7, \"minus_error\": 64.1, \"error\": 28.3}, {\"marital\": \"Divorced\", \"race\": \"Chinese\", \"noisy_count\": 121.5, \"true_count\": 105.0, \"plus_error\": 149.8, \"minus_error\": 93.2, \"error\": 28.3}, {\"marital\": \"Divorced/Widowed\", \"race\": \"White\", \"noisy_count\": 1011.6, \"true_count\": 1005.0, \"plus_error\": 1039.8, \"minus_error\": 983.3, \"error\": 28.3}, {\"marital\": \"Divorced/Widowed\", \"race\": \"Black\", \"noisy_count\": 319.0, \"true_count\": 344.0, \"plus_error\": 347.3, \"minus_error\": 290.7, \"error\": 28.3}, {\"marital\": \"Divorced/Widowed\", \"race\": \"American Indian\", \"noisy_count\": 65.0, \"true_count\": 21.0, \"plus_error\": 93.3, \"minus_error\": 36.7, \"error\": 28.3}, {\"marital\": \"Divorced/Widowed\", \"race\": \"Chinese\", \"noisy_count\": 33.9, \"true_count\": 33.0, \"plus_error\": 62.2, \"minus_error\": 5.6, \"error\": 28.3}, {\"marital\": \"Never Married\", \"race\": \"White\", \"noisy_count\": 6577.3, \"true_count\": 6590.0, \"plus_error\": 6605.6, \"minus_error\": 6549.0, \"error\": 28.3}, {\"marital\": \"Never Married\", \"race\": \"Black\", \"noisy_count\": 1540.9, \"true_count\": 1525.0, \"plus_error\": 1569.2, \"minus_error\": 1512.6, \"error\": 28.3}, {\"marital\": \"Never Married\", \"race\": \"American Indian\", \"noisy_count\": 130.2, \"true_count\": 132.0, \"plus_error\": 158.4, \"minus_error\": 101.9, \"error\": 28.3}, {\"marital\": \"Never Married\", \"race\": \"Chinese\", \"noisy_count\": 312.9, \"true_count\": 310.0, \"plus_error\": 341.2, \"minus_error\": 284.7, \"error\": 28.3}]}}, {\"mode\": \"vega-lite\"});\n",
       "</script>"
      ],
      "text/plain": [
       "alt.HConcatChart(...)"
      ]
     },
     "metadata": {},
     "output_type": "display_data"
    },
    {
     "data": {
      "application/vnd.jupyter.widget-view+json": {
       "model_id": "75c30ffb46684fb396336335194c080a",
       "version_major": 2,
       "version_minor": 0
      },
      "text/plain": [
       "VBox(children=(VBox(children=(Textarea(value='', description='Answer:', layout=Layout(height='50px', width='50…"
      ]
     },
     "metadata": {},
     "output_type": "display_data"
    },
    {
     "data": {
      "application/vnd.jupyter.widget-view+json": {
       "model_id": "a016dd17ee4a43b39d7604f98784dbb9",
       "version_major": 2,
       "version_minor": 0
      },
      "text/plain": [
       "Button(layout=Layout(height='5px', width='99%'), style=ButtonStyle(button_color='black'))"
      ]
     },
     "metadata": {},
     "output_type": "display_data"
    },
    {
     "data": {
      "application/vnd.jupyter.widget-view+json": {
       "model_id": "ca0160e2a0af435194f8b9fcd62a89f4",
       "version_major": 2,
       "version_minor": 0
      },
      "text/plain": [
       "HBox(children=(HTML(value='<b>Question 2/6: How many people over the age of 65 have income between 100,000 and…"
      ]
     },
     "metadata": {},
     "output_type": "display_data"
    },
    {
     "data": {
      "application/vnd.jupyter.widget-view+json": {
       "model_id": "ddae139243924efa81bfefcc84484c49",
       "version_major": 2,
       "version_minor": 0
      },
      "text/plain": [
       "HBox(children=(HTML(value='<b>Number of Remeasures are Used So Far</b>', placeholder=''), FloatProgress(value=…"
      ]
     },
     "metadata": {},
     "output_type": "display_data"
    },
    {
     "data": {
      "text/html": [
       "\n",
       "<div id=\"altair-viz-02cdc325a5d84c4a99b70dd78dd68f01\"></div>\n",
       "<script type=\"text/javascript\">\n",
       "  var VEGA_DEBUG = (typeof VEGA_DEBUG == \"undefined\") ? {} : VEGA_DEBUG;\n",
       "  (function(spec, embedOpt){\n",
       "    let outputDiv = document.currentScript.previousElementSibling;\n",
       "    if (outputDiv.id !== \"altair-viz-02cdc325a5d84c4a99b70dd78dd68f01\") {\n",
       "      outputDiv = document.getElementById(\"altair-viz-02cdc325a5d84c4a99b70dd78dd68f01\");\n",
       "    }\n",
       "    const paths = {\n",
       "      \"vega\": \"https://cdn.jsdelivr.net/npm//vega@5?noext\",\n",
       "      \"vega-lib\": \"https://cdn.jsdelivr.net/npm//vega-lib?noext\",\n",
       "      \"vega-lite\": \"https://cdn.jsdelivr.net/npm//vega-lite@4.17.0?noext\",\n",
       "      \"vega-embed\": \"https://cdn.jsdelivr.net/npm//vega-embed@6?noext\",\n",
       "    };\n",
       "\n",
       "    function maybeLoadScript(lib, version) {\n",
       "      var key = `${lib.replace(\"-\", \"\")}_version`;\n",
       "      return (VEGA_DEBUG[key] == version) ?\n",
       "        Promise.resolve(paths[lib]) :\n",
       "        new Promise(function(resolve, reject) {\n",
       "          var s = document.createElement('script');\n",
       "          document.getElementsByTagName(\"head\")[0].appendChild(s);\n",
       "          s.async = true;\n",
       "          s.onload = () => {\n",
       "            VEGA_DEBUG[key] = version;\n",
       "            return resolve(paths[lib]);\n",
       "          };\n",
       "          s.onerror = () => reject(`Error loading script: ${paths[lib]}`);\n",
       "          s.src = paths[lib];\n",
       "        });\n",
       "    }\n",
       "\n",
       "    function showError(err) {\n",
       "      outputDiv.innerHTML = `<div class=\"error\" style=\"color:red;\">${err}</div>`;\n",
       "      throw err;\n",
       "    }\n",
       "\n",
       "    function displayChart(vegaEmbed) {\n",
       "      vegaEmbed(outputDiv, spec, embedOpt)\n",
       "        .catch(err => showError(`Javascript Error: ${err.message}<br>This usually means there's a typo in your chart specification. See the javascript console for the full traceback.`));\n",
       "    }\n",
       "\n",
       "    if(typeof define === \"function\" && define.amd) {\n",
       "      requirejs.config({paths});\n",
       "      require([\"vega-embed\"], displayChart, err => showError(`Error loading script: ${err.message}`));\n",
       "    } else {\n",
       "      maybeLoadScript(\"vega\", \"5\")\n",
       "        .then(() => maybeLoadScript(\"vega-lite\", \"4.17.0\"))\n",
       "        .then(() => maybeLoadScript(\"vega-embed\", \"6\"))\n",
       "        .catch(showError)\n",
       "        .then(() => displayChart(vegaEmbed));\n",
       "    }\n",
       "  })({\"config\": {\"view\": {\"continuousWidth\": 400, \"continuousHeight\": 300}, \"axis\": {\"labelFontSize\": 11, \"titleFontSize\": 15}, \"axisBottom\": {\"labelAngle\": 60}}, \"hconcat\": [{\"layer\": [{\"mark\": \"bar\", \"encoding\": {\"color\": {\"value\": \"transparent\"}, \"tooltip\": [{\"aggregate\": \"sum\", \"field\": \"noisy_count\", \"title\": \"noisy count\", \"type\": \"quantitative\"}, {\"aggregate\": \"sum\", \"field\": \"noisy_count_prev\", \"title\": \"prev count\", \"type\": \"quantitative\"}, {\"aggregate\": \"sum\", \"field\": \"error\", \"title\": \"current error\", \"type\": \"quantitative\"}, {\"aggregate\": \"sum\", \"field\": \"error_prev\", \"title\": \"prev error\", \"type\": \"quantitative\"}], \"x\": {\"field\": \"age\", \"sort\": null, \"title\": \"Age\", \"type\": \"ordinal\"}}, \"height\": 300, \"selection\": {\"selector051\": {\"type\": \"interval\", \"encodings\": [\"x\"]}}, \"transform\": [{\"filter\": {\"selection\": \"selector052\"}}], \"width\": 450}, {\"mark\": {\"type\": \"bar\", \"color\": \"gray\", \"opacity\": 0}, \"encoding\": {\"x\": {\"field\": \"age\", \"sort\": null, \"title\": \"Age\", \"type\": \"ordinal\"}, \"y\": {\"aggregate\": \"sum\", \"field\": \"noisy_count_prev\", \"type\": \"quantitative\"}}, \"transform\": [{\"filter\": {\"selection\": \"selector052\"}}]}, {\"mark\": {\"type\": \"bar\", \"color\": \"#4C7FFF\", \"opacity\": 0.7}, \"encoding\": {\"x\": {\"field\": \"age\", \"sort\": null, \"title\": \"Age\", \"type\": \"ordinal\"}, \"y\": {\"aggregate\": \"sum\", \"field\": \"noisy_count\", \"type\": \"quantitative\"}}, \"transform\": [{\"filter\": {\"selection\": \"selector052\"}}]}, {\"mark\": {\"type\": \"point\", \"color\": \"black\", \"opacity\": 0.7}, \"encoding\": {\"x\": {\"field\": \"age\", \"sort\": null, \"title\": \"Age\", \"type\": \"ordinal\"}, \"y\": {\"aggregate\": \"sum\", \"field\": \"noisy_count\", \"title\": \"Noisy Count\", \"type\": \"quantitative\"}}, \"transform\": [{\"filter\": {\"selection\": \"selector052\"}}]}, {\"mark\": {\"type\": \"rule\", \"color\": \"#B6B6B6\", \"size\": 2, \"strokeDash\": [3, 3]}, \"encoding\": {\"x\": {\"field\": \"age\", \"sort\": null, \"title\": \"Age\", \"type\": \"ordinal\"}, \"y\": {\"aggregate\": \"sum\", \"field\": \"plus_error_prev_age\", \"title\": \"\", \"type\": \"quantitative\"}, \"y2\": {\"aggregate\": \"sum\", \"field\": \"minus_error_prev_age\", \"title\": \"\"}}, \"transform\": [{\"filter\": {\"selection\": \"selector052\"}}]}, {\"mark\": {\"type\": \"tick\", \"color\": \"#B90000\", \"size\": 0, \"strokeDash\": [1, 1]}, \"encoding\": {\"x\": {\"field\": \"age\", \"sort\": null, \"title\": \"Age\", \"type\": \"ordinal\"}, \"y\": {\"aggregate\": \"sum\", \"field\": \"plus_error_prev_age\", \"type\": \"quantitative\"}}, \"transform\": [{\"filter\": {\"selection\": \"selector052\"}}]}, {\"mark\": {\"type\": \"tick\", \"color\": \"#B90000\", \"size\": 0, \"strokeDash\": [3, 1]}, \"encoding\": {\"x\": {\"field\": \"age\", \"sort\": null, \"title\": \"Age\", \"type\": \"ordinal\"}, \"y\": {\"aggregate\": \"sum\", \"field\": \"minus_error_prev_age\", \"type\": \"quantitative\"}}, \"transform\": [{\"filter\": {\"selection\": \"selector052\"}}]}, {\"mark\": {\"type\": \"rule\", \"color\": \"black\", \"size\": 2}, \"encoding\": {\"x\": {\"field\": \"age\", \"sort\": null, \"title\": \"Age\", \"type\": \"ordinal\"}, \"y\": {\"aggregate\": \"sum\", \"field\": \"plus_error\", \"title\": \"\", \"type\": \"quantitative\"}, \"y2\": {\"aggregate\": \"sum\", \"field\": \"minus_error\", \"title\": \"\"}}, \"transform\": [{\"filter\": {\"selection\": \"selector052\"}}]}, {\"mark\": {\"type\": \"tick\", \"color\": \"black\", \"width\": 0}, \"encoding\": {\"x\": {\"field\": \"age\", \"sort\": null, \"title\": \"Age\", \"type\": \"ordinal\"}, \"y\": {\"aggregate\": \"sum\", \"field\": \"plus_error\", \"type\": \"quantitative\"}}, \"transform\": [{\"filter\": {\"selection\": \"selector052\"}}]}, {\"mark\": {\"type\": \"tick\", \"color\": \"black\", \"width\": 0}, \"encoding\": {\"x\": {\"field\": \"age\", \"sort\": null, \"title\": \"Age\", \"type\": \"ordinal\"}, \"y\": {\"aggregate\": \"sum\", \"field\": \"minus_error\", \"type\": \"quantitative\"}}, \"transform\": [{\"filter\": {\"selection\": \"selector052\"}}]}]}, {\"layer\": [{\"mark\": \"bar\", \"encoding\": {\"color\": {\"value\": \"transparent\"}, \"tooltip\": [{\"aggregate\": \"sum\", \"field\": \"noisy_count\", \"title\": \"noisy count\", \"type\": \"quantitative\"}, {\"aggregate\": \"sum\", \"field\": \"noisy_count_prev\", \"title\": \"prev count\", \"type\": \"quantitative\"}, {\"aggregate\": \"sum\", \"field\": \"error\", \"title\": \"current error\", \"type\": \"quantitative\"}, {\"aggregate\": \"sum\", \"field\": \"error_prev\", \"title\": \"prev error\", \"type\": \"quantitative\"}], \"x\": {\"field\": \"income\", \"sort\": null, \"title\": \"Income\", \"type\": \"ordinal\"}}, \"height\": 300, \"selection\": {\"selector052\": {\"type\": \"interval\", \"encodings\": [\"x\"]}}, \"transform\": [{\"filter\": {\"selection\": \"selector051\"}}], \"width\": 450}, {\"mark\": {\"type\": \"bar\", \"color\": \"gray\", \"opacity\": 0}, \"encoding\": {\"x\": {\"field\": \"income\", \"sort\": null, \"title\": \"Income\", \"type\": \"ordinal\"}, \"y\": {\"aggregate\": \"sum\", \"field\": \"noisy_count_prev\", \"type\": \"quantitative\"}}, \"transform\": [{\"filter\": {\"selection\": \"selector051\"}}]}, {\"mark\": {\"type\": \"bar\", \"color\": \"#4C7FFF\", \"opacity\": 0.7}, \"encoding\": {\"x\": {\"field\": \"income\", \"sort\": null, \"title\": \"Income\", \"type\": \"ordinal\"}, \"y\": {\"aggregate\": \"sum\", \"field\": \"noisy_count\", \"type\": \"quantitative\"}}, \"transform\": [{\"filter\": {\"selection\": \"selector051\"}}]}, {\"mark\": {\"type\": \"point\", \"color\": \"black\", \"opacity\": 0.7}, \"encoding\": {\"x\": {\"field\": \"income\", \"sort\": null, \"title\": \"Income\", \"type\": \"ordinal\"}, \"y\": {\"aggregate\": \"sum\", \"field\": \"noisy_count\", \"title\": \"Noisy Count\", \"type\": \"quantitative\"}}, \"transform\": [{\"filter\": {\"selection\": \"selector051\"}}]}, {\"mark\": {\"type\": \"rule\", \"color\": \"#B6B6B6\", \"size\": 2, \"strokeDash\": [3, 3]}, \"encoding\": {\"x\": {\"field\": \"income\", \"sort\": null, \"title\": \"Income\", \"type\": \"ordinal\"}, \"y\": {\"aggregate\": \"sum\", \"field\": \"plus_error_prev_income\", \"title\": \"\", \"type\": \"quantitative\"}, \"y2\": {\"aggregate\": \"sum\", \"field\": \"minus_error_prev_income\", \"title\": \"\"}}, \"transform\": [{\"filter\": {\"selection\": \"selector051\"}}]}, {\"mark\": {\"type\": \"tick\", \"color\": \"#B90000\", \"size\": 0, \"strokeDash\": [1, 1]}, \"encoding\": {\"x\": {\"field\": \"income\", \"sort\": null, \"title\": \"Income\", \"type\": \"ordinal\"}, \"y\": {\"aggregate\": \"sum\", \"field\": \"plus_error_prev_income\", \"type\": \"quantitative\"}}, \"transform\": [{\"filter\": {\"selection\": \"selector051\"}}]}, {\"mark\": {\"type\": \"tick\", \"color\": \"#B90000\", \"size\": 0, \"strokeDash\": [3, 1]}, \"encoding\": {\"x\": {\"field\": \"income\", \"sort\": null, \"title\": \"Income\", \"type\": \"ordinal\"}, \"y\": {\"aggregate\": \"sum\", \"field\": \"minus_error_prev_income\", \"type\": \"quantitative\"}}, \"transform\": [{\"filter\": {\"selection\": \"selector051\"}}]}, {\"mark\": {\"type\": \"rule\", \"color\": \"black\", \"size\": 2}, \"encoding\": {\"x\": {\"field\": \"income\", \"sort\": null, \"title\": \"Income\", \"type\": \"ordinal\"}, \"y\": {\"aggregate\": \"sum\", \"field\": \"plus_error\", \"title\": \"\", \"type\": \"quantitative\"}, \"y2\": {\"aggregate\": \"sum\", \"field\": \"minus_error\", \"title\": \"\"}}, \"transform\": [{\"filter\": {\"selection\": \"selector051\"}}]}, {\"mark\": {\"type\": \"tick\", \"color\": \"black\", \"width\": 0}, \"encoding\": {\"x\": {\"field\": \"income\", \"sort\": null, \"title\": \"Income\", \"type\": \"ordinal\"}, \"y\": {\"aggregate\": \"sum\", \"field\": \"plus_error\", \"type\": \"quantitative\"}}, \"transform\": [{\"filter\": {\"selection\": \"selector051\"}}]}, {\"mark\": {\"type\": \"tick\", \"color\": \"black\", \"width\": 0}, \"encoding\": {\"x\": {\"field\": \"income\", \"sort\": null, \"title\": \"Income\", \"type\": \"ordinal\"}, \"y\": {\"aggregate\": \"sum\", \"field\": \"minus_error\", \"type\": \"quantitative\"}}, \"transform\": [{\"filter\": {\"selection\": \"selector051\"}}]}]}], \"data\": {\"name\": \"data-d7cfcce30153e4149fcca1121536c62c\"}, \"$schema\": \"https://vega.github.io/schema/vega-lite/v4.17.0.json\", \"datasets\": {\"data-d7cfcce30153e4149fcca1121536c62c\": [{\"age\": \"15-24\", \"income\": \"$0k - $49k\", \"noisy_count\": 1331.9, \"true_count\": 1474.0, \"plus_error\": 1473.3, \"minus_error\": 1190.5, \"error\": 141.4, \"noisy_count_prev\": 1474.5, \"true_count_prev\": 1474.0, \"plus_error_prev\": 1757.3, \"minus_error_prev\": 1191.7, \"error_prev\": 282.8, \"plus_error_prev_age\": 1656.98, \"minus_error_prev_age\": 1091.38, \"plus_error_prev_income\": 1788.6299999999994, \"minus_error_prev_income\": 1223.0299999999995}, {\"age\": \"15-24\", \"income\": \"$50k - $99k\", \"noisy_count\": 40.6, \"true_count\": 73.0, \"plus_error\": 109.2, \"minus_error\": -27.9, \"error\": 68.5, \"noisy_count_prev\": 152.0, \"true_count_prev\": 73.0, \"plus_error_prev\": 434.9, \"minus_error_prev\": -130.8, \"error_prev\": 282.8, \"plus_error_prev_age\": 334.58, \"minus_error_prev_age\": -231.12, \"plus_error_prev_income\": 464.41, \"minus_error_prev_income\": -101.28999999999998}, {\"age\": \"15-24\", \"income\": \"$100k - $149k\", \"noisy_count\": 12.3, \"true_count\": 6.0, \"plus_error\": 153.8, \"minus_error\": -129.1, \"error\": 141.4, \"noisy_count_prev\": 133.5, \"true_count_prev\": 6.0, \"plus_error_prev\": 416.3, \"minus_error_prev\": -149.4, \"error_prev\": 282.8, \"plus_error_prev_age\": 315.98, \"minus_error_prev_age\": -249.72000000000003, \"plus_error_prev_income\": 499.16, \"minus_error_prev_income\": -66.53999999999999}, {\"age\": \"15-24\", \"income\": \"$150k - $199k\", \"noisy_count\": -353.0, \"true_count\": 1.0, \"plus_error\": -211.6, \"minus_error\": -494.4, \"error\": 141.4, \"noisy_count_prev\": -335.2, \"true_count_prev\": 1.0, \"plus_error_prev\": -52.4, \"minus_error_prev\": -618.1, \"error_prev\": 282.8, \"plus_error_prev_age\": -152.72, \"minus_error_prev_age\": -718.4200000000001, \"plus_error_prev_income\": -23.259999999999994, \"minus_error_prev_income\": -588.96}, {\"age\": \"15-24\", \"income\": \"$200k - $249k\", \"noisy_count\": 7.8, \"true_count\": 2.0, \"plus_error\": 149.3, \"minus_error\": -133.6, \"error\": 141.4, \"noisy_count_prev\": 51.6, \"true_count_prev\": 2.0, \"plus_error_prev\": 334.4, \"minus_error_prev\": -231.2, \"error_prev\": 282.8, \"plus_error_prev_age\": 234.07999999999998, \"minus_error_prev_age\": -331.52, \"plus_error_prev_income\": 354.7, \"minus_error_prev_income\": -210.9}, {\"age\": \"15-24\", \"income\": \"$250k - $299k\", \"noisy_count\": -594.7, \"true_count\": 0.0, \"plus_error\": -453.3, \"minus_error\": -736.1, \"error\": 141.4, \"noisy_count_prev\": -874.3, \"true_count_prev\": 0.0, \"plus_error_prev\": -591.5, \"minus_error_prev\": -1157.1, \"error_prev\": 282.8, \"plus_error_prev_age\": -691.82, \"minus_error_prev_age\": -1257.4199999999998, \"plus_error_prev_income\": -604.23, \"minus_error_prev_income\": -1169.83}, {\"age\": \"15-24\", \"income\": \"$300k - $349k\", \"noisy_count\": -104.5, \"true_count\": 0.0, \"plus_error\": -33.8, \"minus_error\": -175.1, \"error\": 70.6, \"noisy_count_prev\": -268.0, \"true_count_prev\": 0.0, \"plus_error_prev\": 14.8, \"minus_error_prev\": -550.9, \"error_prev\": 282.8, \"plus_error_prev_age\": -85.52000000000001, \"minus_error_prev_age\": -651.22, \"plus_error_prev_income\": -17.509999999999994, \"minus_error_prev_income\": -583.2099999999999}, {\"age\": \"15-24\", \"income\": \"$350k - $399k\", \"noisy_count\": -158.0, \"true_count\": 0.0, \"plus_error\": -16.6, \"minus_error\": -299.5, \"error\": 141.4, \"noisy_count_prev\": 129.9, \"true_count_prev\": 0.0, \"plus_error_prev\": 412.7, \"minus_error_prev\": -153.0, \"error_prev\": 282.8, \"plus_error_prev_age\": 312.38, \"minus_error_prev_age\": -253.32, \"plus_error_prev_income\": 436.86, \"minus_error_prev_income\": -128.84}, {\"age\": \"15-24\", \"income\": \"$400k - $449k\", \"noisy_count\": -195.3, \"true_count\": 0.0, \"plus_error\": -53.9, \"minus_error\": -336.7, \"error\": 141.4, \"noisy_count_prev\": 134.1, \"true_count_prev\": 0.0, \"plus_error_prev\": 416.9, \"minus_error_prev\": -148.8, \"error_prev\": 282.8, \"plus_error_prev_age\": 316.58, \"minus_error_prev_age\": -249.12, \"plus_error_prev_income\": 405.36, \"minus_error_prev_income\": -160.34}, {\"age\": \"15-24\", \"income\": \"$450k - $499k\", \"noisy_count\": -6.7, \"true_count\": 0.0, \"plus_error\": 134.7, \"minus_error\": -148.1, \"error\": 141.4, \"noisy_count_prev\": 385.5, \"true_count_prev\": 0.0, \"plus_error_prev\": 668.3, \"minus_error_prev\": 102.7, \"error_prev\": 282.8, \"plus_error_prev_age\": 567.9799999999999, \"minus_error_prev_age\": 2.3799999999999955, \"plus_error_prev_income\": 603.76, \"minus_error_prev_income\": 38.16000000000001}, {\"age\": \"25-34\", \"income\": \"$0k - $49k\", \"noisy_count\": 5515.7, \"true_count\": 5377.0, \"plus_error\": 5657.1, \"minus_error\": 5374.3, \"error\": 141.4, \"noisy_count_prev\": 5459.3, \"true_count_prev\": 5377.0, \"plus_error_prev\": 5742.1, \"minus_error_prev\": 5176.4, \"error_prev\": 282.8, \"plus_error_prev_age\": 5729.77, \"minus_error_prev_age\": 5164.07, \"plus_error_prev_income\": 5773.43, \"minus_error_prev_income\": 5207.73}, {\"age\": \"25-34\", \"income\": \"$50k - $99k\", \"noisy_count\": 653.2, \"true_count\": 666.0, \"plus_error\": 721.7, \"minus_error\": 584.7, \"error\": 68.5, \"noisy_count_prev\": 630.8, \"true_count_prev\": 666.0, \"plus_error_prev\": 913.7, \"minus_error_prev\": 348.0, \"error_prev\": 282.8, \"plus_error_prev_age\": 901.37, \"minus_error_prev_age\": 335.66999999999996, \"plus_error_prev_income\": 943.21, \"minus_error_prev_income\": 377.51000000000005}, {\"age\": \"25-34\", \"income\": \"$100k - $149k\", \"noisy_count\": 314.2, \"true_count\": 60.0, \"plus_error\": 455.7, \"minus_error\": 172.8, \"error\": 141.4, \"noisy_count_prev\": 436.2, \"true_count_prev\": 60.0, \"plus_error_prev\": 719.0, \"minus_error_prev\": 153.3, \"error_prev\": 282.8, \"plus_error_prev_age\": 706.67, \"minus_error_prev_age\": 140.97, \"plus_error_prev_income\": 801.86, \"minus_error_prev_income\": 236.16000000000003}, {\"age\": \"25-34\", \"income\": \"$150k - $199k\", \"noisy_count\": 113.3, \"true_count\": 29.0, \"plus_error\": 254.8, \"minus_error\": -28.1, \"error\": 141.4, \"noisy_count_prev\": 84.6, \"true_count_prev\": 29.0, \"plus_error_prev\": 367.4, \"minus_error_prev\": -198.3, \"error_prev\": 282.8, \"plus_error_prev_age\": 355.06999999999994, \"minus_error_prev_age\": -210.63000000000002, \"plus_error_prev_income\": 396.53999999999996, \"minus_error_prev_income\": -169.16}, {\"age\": \"25-34\", \"income\": \"$200k - $249k\", \"noisy_count\": 168.5, \"true_count\": 3.0, \"plus_error\": 309.9, \"minus_error\": 27.0, \"error\": 141.4, \"noisy_count_prev\": 66.7, \"true_count_prev\": 3.0, \"plus_error_prev\": 349.5, \"minus_error_prev\": -216.2, \"error_prev\": 282.8, \"plus_error_prev_age\": 337.16999999999996, \"minus_error_prev_age\": -228.53, \"plus_error_prev_income\": 369.8, \"minus_error_prev_income\": -195.9}, {\"age\": \"25-34\", \"income\": \"$250k - $299k\", \"noisy_count\": 347.5, \"true_count\": 2.0, \"plus_error\": 488.9, \"minus_error\": 206.1, \"error\": 141.4, \"noisy_count_prev\": 291.4, \"true_count_prev\": 2.0, \"plus_error_prev\": 574.2, \"minus_error_prev\": 8.5, \"error_prev\": 282.8, \"plus_error_prev_age\": 561.87, \"minus_error_prev_age\": -3.830000000000018, \"plus_error_prev_income\": 561.47, \"minus_error_prev_income\": -4.229999999999995}, {\"age\": \"25-34\", \"income\": \"$300k - $349k\", \"noisy_count\": -38.1, \"true_count\": 0.0, \"plus_error\": 32.6, \"minus_error\": -108.7, \"error\": 70.6, \"noisy_count_prev\": -128.3, \"true_count_prev\": 0.0, \"plus_error_prev\": 154.5, \"minus_error_prev\": -411.2, \"error_prev\": 282.8, \"plus_error_prev_age\": 142.17, \"minus_error_prev_age\": -423.53000000000003, \"plus_error_prev_income\": 122.19, \"minus_error_prev_income\": -443.51}, {\"age\": \"25-34\", \"income\": \"$350k - $399k\", \"noisy_count\": -73.7, \"true_count\": 0.0, \"plus_error\": 67.7, \"minus_error\": -215.1, \"error\": 141.4, \"noisy_count_prev\": 158.4, \"true_count_prev\": 0.0, \"plus_error_prev\": 441.3, \"minus_error_prev\": -124.4, \"error_prev\": 282.8, \"plus_error_prev_age\": 428.96999999999997, \"minus_error_prev_age\": -136.73000000000002, \"plus_error_prev_income\": 465.46000000000004, \"minus_error_prev_income\": -100.24000000000001}, {\"age\": \"25-34\", \"income\": \"$400k - $449k\", \"noisy_count\": 117.7, \"true_count\": 0.0, \"plus_error\": 259.1, \"minus_error\": -23.7, \"error\": 141.4, \"noisy_count_prev\": 84.8, \"true_count_prev\": 0.0, \"plus_error_prev\": 367.6, \"minus_error_prev\": -198.1, \"error_prev\": 282.8, \"plus_error_prev_age\": 355.27, \"minus_error_prev_age\": -210.43, \"plus_error_prev_income\": 356.06000000000006, \"minus_error_prev_income\": -209.64}, {\"age\": \"25-34\", \"income\": \"$450k - $499k\", \"noisy_count\": 79.9, \"true_count\": 0.0, \"plus_error\": 221.4, \"minus_error\": -61.5, \"error\": 141.4, \"noisy_count_prev\": 237.6, \"true_count_prev\": 0.0, \"plus_error_prev\": 520.5, \"minus_error_prev\": -45.2, \"error_prev\": 282.8, \"plus_error_prev_age\": 508.16999999999996, \"minus_error_prev_age\": -57.53000000000002, \"plus_error_prev_income\": 455.96000000000004, \"minus_error_prev_income\": -109.74}, {\"age\": \"35-44\", \"income\": \"$0k - $49k\", \"noisy_count\": 5876.0, \"true_count\": 5792.0, \"plus_error\": 5921.0, \"minus_error\": 5831.1, \"error\": 44.9, \"noisy_count_prev\": 5757.5, \"true_count_prev\": 5792.0, \"plus_error_prev\": 5847.2, \"minus_error_prev\": 5667.9, \"error_prev\": 89.7, \"plus_error_prev_age\": 5890.62, \"minus_error_prev_age\": 5711.32, \"plus_error_prev_income\": 5878.53, \"minus_error_prev_income\": 5699.23}, {\"age\": \"35-44\", \"income\": \"$50k - $99k\", \"noisy_count\": 1265.3, \"true_count\": 1276.0, \"plus_error\": 1287.1, \"minus_error\": 1243.5, \"error\": 21.8, \"noisy_count_prev\": 1236.5, \"true_count_prev\": 1276.0, \"plus_error_prev\": 1326.2, \"minus_error_prev\": 1146.8, \"error_prev\": 89.7, \"plus_error_prev_age\": 1369.6200000000001, \"minus_error_prev_age\": 1190.22, \"plus_error_prev_income\": 1355.71, \"minus_error_prev_income\": 1176.31}, {\"age\": \"35-44\", \"income\": \"$100k - $149k\", \"noisy_count\": 122.5, \"true_count\": 155.0, \"plus_error\": 167.4, \"minus_error\": 77.5, \"error\": 44.9, \"noisy_count_prev\": 58.0, \"true_count_prev\": 155.0, \"plus_error_prev\": 147.7, \"minus_error_prev\": -31.6, \"error_prev\": 89.7, \"plus_error_prev_age\": 191.12000000000006, \"minus_error_prev_age\": 11.820000000000071, \"plus_error_prev_income\": 230.56, \"minus_error_prev_income\": 51.26000000000001}, {\"age\": \"35-44\", \"income\": \"$150k - $199k\", \"noisy_count\": 117.9, \"true_count\": 87.0, \"plus_error\": 162.8, \"minus_error\": 73.0, \"error\": 44.9, \"noisy_count_prev\": 74.1, \"true_count_prev\": 87.0, \"plus_error_prev\": 163.8, \"minus_error_prev\": -15.6, \"error_prev\": 89.7, \"plus_error_prev_age\": 207.22000000000008, \"minus_error_prev_age\": 27.82000000000007, \"plus_error_prev_income\": 192.94000000000003, \"minus_error_prev_income\": 13.540000000000004}, {\"age\": \"35-44\", \"income\": \"$200k - $249k\", \"noisy_count\": 1.6, \"true_count\": 16.0, \"plus_error\": 46.5, \"minus_error\": -43.4, \"error\": 44.9, \"noisy_count_prev\": -44.0, \"true_count_prev\": 16.0, \"plus_error_prev\": 45.7, \"minus_error_prev\": -133.7, \"error_prev\": 89.7, \"plus_error_prev_age\": 89.12000000000008, \"minus_error_prev_age\": -90.27999999999992, \"plus_error_prev_income\": 66.0, \"minus_error_prev_income\": -113.39999999999999}, {\"age\": \"35-44\", \"income\": \"$250k - $299k\", \"noisy_count\": 33.9, \"true_count\": 6.0, \"plus_error\": 78.9, \"minus_error\": -11.0, \"error\": 44.9, \"noisy_count_prev\": -35.8, \"true_count_prev\": 6.0, \"plus_error_prev\": 53.9, \"minus_error_prev\": -125.4, \"error_prev\": 89.7, \"plus_error_prev_age\": 97.32000000000008, \"minus_error_prev_age\": -81.97999999999993, \"plus_error_prev_income\": 41.17, \"minus_error_prev_income\": -138.13}, {\"age\": \"35-44\", \"income\": \"$300k - $349k\", \"noisy_count\": -32.8, \"true_count\": 0.0, \"plus_error\": -10.4, \"minus_error\": -55.3, \"error\": 22.5, \"noisy_count_prev\": -136.4, \"true_count_prev\": 0.0, \"plus_error_prev\": -46.7, \"minus_error_prev\": -226.0, \"error_prev\": 89.7, \"plus_error_prev_age\": -3.27999999999993, \"minus_error_prev_age\": -182.57999999999993, \"plus_error_prev_income\": -79.00999999999999, \"minus_error_prev_income\": -258.31}, {\"age\": \"35-44\", \"income\": \"$350k - $399k\", \"noisy_count\": -51.9, \"true_count\": 0.0, \"plus_error\": -7.0, \"minus_error\": -96.9, \"error\": 44.9, \"noisy_count_prev\": -19.1, \"true_count_prev\": 0.0, \"plus_error_prev\": 70.5, \"minus_error_prev\": -108.8, \"error_prev\": 89.7, \"plus_error_prev_age\": 113.92000000000007, \"minus_error_prev_age\": -65.37999999999992, \"plus_error_prev_income\": 94.66, \"minus_error_prev_income\": -84.63999999999999}, {\"age\": \"35-44\", \"income\": \"$400k - $449k\", \"noisy_count\": 100.4, \"true_count\": 0.0, \"plus_error\": 145.3, \"minus_error\": 55.4, \"error\": 44.9, \"noisy_count_prev\": 174.7, \"true_count_prev\": 0.0, \"plus_error_prev\": 264.4, \"minus_error_prev\": 85.0, \"error_prev\": 89.7, \"plus_error_prev_age\": 307.82000000000005, \"minus_error_prev_age\": 128.42000000000007, \"plus_error_prev_income\": 252.85999999999999, \"minus_error_prev_income\": 73.46000000000001}, {\"age\": \"35-44\", \"income\": \"$450k - $499k\", \"noisy_count\": 8.2, \"true_count\": 0.0, \"plus_error\": 53.1, \"minus_error\": -36.8, \"error\": 44.9, \"noisy_count_prev\": -58.6, \"true_count_prev\": 0.0, \"plus_error_prev\": 31.1, \"minus_error_prev\": -148.3, \"error_prev\": 89.7, \"plus_error_prev_age\": 74.52000000000007, \"minus_error_prev_age\": -104.87999999999994, \"plus_error_prev_income\": -33.43999999999999, \"minus_error_prev_income\": -212.84}, {\"age\": \"45-54\", \"income\": \"$0k - $49k\", \"noisy_count\": 6785.8, \"true_count\": 6798.0, \"plus_error\": 6855.3, \"minus_error\": 6716.4, \"error\": 69.4, \"noisy_count_prev\": 7020.3, \"true_count_prev\": 6798.0, \"plus_error_prev\": 7303.1, \"minus_error_prev\": 6737.4, \"error_prev\": 282.8, \"plus_error_prev_age\": 7378.120000000001, \"minus_error_prev_age\": 6812.42, \"plus_error_prev_income\": 7334.43, \"minus_error_prev_income\": 6768.73}, {\"age\": \"45-54\", \"income\": \"$50k - $99k\", \"noisy_count\": 2084.1, \"true_count\": 2097.0, \"plus_error\": 2110.8, \"minus_error\": 2057.5, \"error\": 26.6, \"noisy_count_prev\": 2209.5, \"true_count_prev\": 2097.0, \"plus_error_prev\": 2492.4, \"minus_error_prev\": 1926.7, \"error_prev\": 282.8, \"plus_error_prev_age\": 2567.42, \"minus_error_prev_age\": 2001.72, \"plus_error_prev_income\": 2521.9100000000003, \"minus_error_prev_income\": 1956.21}, {\"age\": \"45-54\", \"income\": \"$100k - $149k\", \"noisy_count\": 167.2, \"true_count\": 246.0, \"plus_error\": 236.6, \"minus_error\": 97.7, \"error\": 69.4, \"noisy_count_prev\": -308.9, \"true_count_prev\": 246.0, \"plus_error_prev\": -26.0, \"minus_error_prev\": -591.7, \"error_prev\": 282.8, \"plus_error_prev_age\": 49.02000000000007, \"minus_error_prev_age\": -516.68, \"plus_error_prev_income\": 56.860000000000014, \"minus_error_prev_income\": -508.84000000000003}, {\"age\": \"45-54\", \"income\": \"$150k - $199k\", \"noisy_count\": 77.3, \"true_count\": 149.0, \"plus_error\": 146.7, \"minus_error\": 7.9, \"error\": 69.4, \"noisy_count_prev\": 212.3, \"true_count_prev\": 149.0, \"plus_error_prev\": 495.1, \"minus_error_prev\": -70.6, \"error_prev\": 282.8, \"plus_error_prev_age\": 570.1200000000001, \"minus_error_prev_age\": 4.420000000000073, \"plus_error_prev_income\": 524.24, \"minus_error_prev_income\": -41.459999999999994}, {\"age\": \"45-54\", \"income\": \"$200k - $249k\", \"noisy_count\": -145.1, \"true_count\": 29.0, \"plus_error\": -75.6, \"minus_error\": -214.5, \"error\": 69.4, \"noisy_count_prev\": 149.4, \"true_count_prev\": 29.0, \"plus_error_prev\": 432.3, \"minus_error_prev\": -133.4, \"error_prev\": 282.8, \"plus_error_prev_age\": 507.32000000000005, \"minus_error_prev_age\": -58.37999999999994, \"plus_error_prev_income\": 452.6, \"minus_error_prev_income\": -113.10000000000001}, {\"age\": \"45-54\", \"income\": \"$250k - $299k\", \"noisy_count\": 131.9, \"true_count\": 11.0, \"plus_error\": 201.4, \"minus_error\": 62.5, \"error\": 69.4, \"noisy_count_prev\": 228.2, \"true_count_prev\": 11.0, \"plus_error_prev\": 511.1, \"minus_error_prev\": -54.6, \"error_prev\": 282.8, \"plus_error_prev_age\": 586.1200000000001, \"minus_error_prev_age\": 20.420000000000066, \"plus_error_prev_income\": 498.37, \"minus_error_prev_income\": -67.33}, {\"age\": \"45-54\", \"income\": \"$300k - $349k\", \"noisy_count\": 8.8, \"true_count\": 2.0, \"plus_error\": 36.4, \"minus_error\": -18.9, \"error\": 27.6, \"noisy_count_prev\": 21.8, \"true_count_prev\": 2.0, \"plus_error_prev\": 304.7, \"minus_error_prev\": -261.0, \"error_prev\": 282.8, \"plus_error_prev_age\": 379.72, \"minus_error_prev_age\": -185.97999999999993, \"plus_error_prev_income\": 272.39, \"minus_error_prev_income\": -293.31}, {\"age\": \"45-54\", \"income\": \"$350k - $399k\", \"noisy_count\": -93.0, \"true_count\": 1.0, \"plus_error\": -23.5, \"minus_error\": -162.4, \"error\": 69.4, \"noisy_count_prev\": -436.4, \"true_count_prev\": 1.0, \"plus_error_prev\": -153.6, \"minus_error_prev\": -719.3, \"error_prev\": 282.8, \"plus_error_prev_age\": -78.57999999999993, \"minus_error_prev_age\": -644.2799999999999, \"plus_error_prev_income\": -129.44, \"minus_error_prev_income\": -695.14}, {\"age\": \"45-54\", \"income\": \"$400k - $449k\", \"noisy_count\": 36.5, \"true_count\": 0.0, \"plus_error\": 105.9, \"minus_error\": -33.0, \"error\": 69.4, \"noisy_count_prev\": -382.5, \"true_count_prev\": 0.0, \"plus_error_prev\": -99.6, \"minus_error_prev\": -665.3, \"error_prev\": 282.8, \"plus_error_prev_age\": -24.579999999999927, \"minus_error_prev_age\": -590.2799999999999, \"plus_error_prev_income\": -111.13999999999999, \"minus_error_prev_income\": -676.8399999999999}, {\"age\": \"45-54\", \"income\": \"$450k - $499k\", \"noisy_count\": -47.9, \"true_count\": 0.0, \"plus_error\": 21.5, \"minus_error\": -117.3, \"error\": 69.4, \"noisy_count_prev\": -458.3, \"true_count_prev\": 0.0, \"plus_error_prev\": -175.5, \"minus_error_prev\": -741.2, \"error_prev\": 282.8, \"plus_error_prev_age\": -100.47999999999993, \"minus_error_prev_age\": -666.18, \"plus_error_prev_income\": -240.04, \"minus_error_prev_income\": -805.74}, {\"age\": \"55-64\", \"income\": \"$0k - $49k\", \"noisy_count\": 4861.1, \"true_count\": 4884.0, \"plus_error\": 5002.5, \"minus_error\": 4719.6, \"error\": 141.4, \"noisy_count_prev\": 4699.6, \"true_count_prev\": 4884.0, \"plus_error_prev\": 4982.4, \"minus_error_prev\": 4416.7, \"error_prev\": 282.8, \"plus_error_prev_age\": 5085.5599999999995, \"minus_error_prev_age\": 4519.86, \"plus_error_prev_income\": 5013.73, \"minus_error_prev_income\": 4448.03}, {\"age\": \"55-64\", \"income\": \"$50k - $99k\", \"noisy_count\": 1864.8, \"true_count\": 1954.0, \"plus_error\": 1933.3, \"minus_error\": 1796.3, \"error\": 68.5, \"noisy_count_prev\": 1471.9, \"true_count_prev\": 1954.0, \"plus_error_prev\": 1754.8, \"minus_error_prev\": 1189.1, \"error_prev\": 282.8, \"plus_error_prev_age\": 1857.9599999999998, \"minus_error_prev_age\": 1292.2599999999998, \"plus_error_prev_income\": 1784.31, \"minus_error_prev_income\": 1218.61}, {\"age\": \"55-64\", \"income\": \"$100k - $149k\", \"noisy_count\": -1.0, \"true_count\": 273.0, \"plus_error\": 140.5, \"minus_error\": -142.4, \"error\": 141.4, \"noisy_count_prev\": -303.8, \"true_count_prev\": 273.0, \"plus_error_prev\": -20.9, \"minus_error_prev\": -586.6, \"error_prev\": 282.8, \"plus_error_prev_age\": 82.25999999999993, \"minus_error_prev_age\": -483.44000000000005, \"plus_error_prev_income\": 61.960000000000015, \"minus_error_prev_income\": -503.74}, {\"age\": \"55-64\", \"income\": \"$150k - $199k\", \"noisy_count\": 35.2, \"true_count\": 158.0, \"plus_error\": 176.6, \"minus_error\": -106.2, \"error\": 141.4, \"noisy_count_prev\": 69.8, \"true_count_prev\": 158.0, \"plus_error_prev\": 352.7, \"minus_error_prev\": -213.0, \"error_prev\": 282.8, \"plus_error_prev_age\": 455.8599999999999, \"minus_error_prev_age\": -109.84000000000006, \"plus_error_prev_income\": 381.84, \"minus_error_prev_income\": -183.85999999999999}, {\"age\": \"55-64\", \"income\": \"$200k - $249k\", \"noisy_count\": -14.8, \"true_count\": 34.0, \"plus_error\": 126.6, \"minus_error\": -156.2, \"error\": 141.4, \"noisy_count_prev\": -38.4, \"true_count_prev\": 34.0, \"plus_error_prev\": 244.4, \"minus_error_prev\": -321.2, \"error_prev\": 282.8, \"plus_error_prev_age\": 347.55999999999995, \"minus_error_prev_age\": -218.04000000000005, \"plus_error_prev_income\": 264.7, \"minus_error_prev_income\": -300.9}, {\"age\": \"55-64\", \"income\": \"$250k - $299k\", \"noisy_count\": -35.3, \"true_count\": 12.0, \"plus_error\": 106.1, \"minus_error\": -176.7, \"error\": 141.4, \"noisy_count_prev\": -165.7, \"true_count_prev\": 12.0, \"plus_error_prev\": 117.2, \"minus_error_prev\": -448.5, \"error_prev\": 282.8, \"plus_error_prev_age\": 220.35999999999996, \"minus_error_prev_age\": -345.34000000000003, \"plus_error_prev_income\": 104.47000000000001, \"minus_error_prev_income\": -461.23}, {\"age\": \"55-64\", \"income\": \"$300k - $349k\", \"noisy_count\": 158.6, \"true_count\": 3.0, \"plus_error\": 229.2, \"minus_error\": 87.9, \"error\": 70.6, \"noisy_count_prev\": 481.2, \"true_count_prev\": 3.0, \"plus_error_prev\": 764.0, \"minus_error_prev\": 198.3, \"error_prev\": 282.8, \"plus_error_prev_age\": 867.16, \"minus_error_prev_age\": 301.4599999999999, \"plus_error_prev_income\": 731.69, \"minus_error_prev_income\": 165.99}, {\"age\": \"55-64\", \"income\": \"$350k - $399k\", \"noisy_count\": -22.9, \"true_count\": 1.0, \"plus_error\": 118.6, \"minus_error\": -164.3, \"error\": 141.4, \"noisy_count_prev\": -519.5, \"true_count_prev\": 1.0, \"plus_error_prev\": -236.7, \"minus_error_prev\": -802.4, \"error_prev\": 282.8, \"plus_error_prev_age\": -133.54000000000005, \"minus_error_prev_age\": -699.24, \"plus_error_prev_income\": -212.54, \"minus_error_prev_income\": -778.24}, {\"age\": \"55-64\", \"income\": \"$400k - $449k\", \"noisy_count\": 66.5, \"true_count\": 0.0, \"plus_error\": 207.9, \"minus_error\": -74.9, \"error\": 141.4, \"noisy_count_prev\": 36.1, \"true_count_prev\": 0.0, \"plus_error_prev\": 318.9, \"minus_error_prev\": -246.8, \"error_prev\": 282.8, \"plus_error_prev_age\": 422.05999999999995, \"minus_error_prev_age\": -143.64000000000007, \"plus_error_prev_income\": 307.36, \"minus_error_prev_income\": -258.34}, {\"age\": \"55-64\", \"income\": \"$450k - $499k\", \"noisy_count\": -200.9, \"true_count\": 0.0, \"plus_error\": -59.5, \"minus_error\": -342.3, \"error\": 141.4, \"noisy_count_prev\": -51.5, \"true_count_prev\": 0.0, \"plus_error_prev\": 231.4, \"minus_error_prev\": -334.3, \"error_prev\": 282.8, \"plus_error_prev_age\": 334.55999999999995, \"minus_error_prev_age\": -231.14000000000007, \"plus_error_prev_income\": 166.86, \"minus_error_prev_income\": -398.84000000000003}, {\"age\": \"65-74\", \"income\": \"$0k - $49k\", \"noisy_count\": 4115.1, \"true_count\": 4113.0, \"plus_error\": 4162.9, \"minus_error\": 4067.3, \"error\": 47.8, \"noisy_count_prev\": 4114.6, \"true_count_prev\": 4113.0, \"plus_error_prev\": 4213.1, \"minus_error_prev\": 4016.0, \"error_prev\": 98.5, \"plus_error_prev_age\": 4180.31, \"minus_error_prev_age\": 3983.21, \"plus_error_prev_income\": 4244.43, \"minus_error_prev_income\": 4047.3299999999995}, {\"age\": \"65-74\", \"income\": \"$50k - $99k\", \"noisy_count\": 1374.9, \"true_count\": 1349.0, \"plus_error\": 1397.6, \"minus_error\": 1352.1, \"error\": 22.8, \"noisy_count_prev\": 1446.9, \"true_count_prev\": 1349.0, \"plus_error_prev\": 1545.5, \"minus_error_prev\": 1348.4, \"error_prev\": 98.5, \"plus_error_prev_age\": 1512.71, \"minus_error_prev_age\": 1315.6100000000001, \"plus_error_prev_income\": 1575.01, \"minus_error_prev_income\": 1377.91}, {\"age\": \"65-74\", \"income\": \"$100k - $149k\", \"noisy_count\": 230.0, \"true_count\": 240.0, \"plus_error\": 277.7, \"minus_error\": 182.2, \"error\": 47.8, \"noisy_count_prev\": 91.7, \"true_count_prev\": 240.0, \"plus_error_prev\": 190.3, \"minus_error_prev\": -6.8, \"error_prev\": 98.5, \"plus_error_prev_age\": 157.50999999999996, \"minus_error_prev_age\": -39.59000000000005, \"plus_error_prev_income\": 273.16, \"minus_error_prev_income\": 76.06000000000002}, {\"age\": \"65-74\", \"income\": \"$150k - $199k\", \"noisy_count\": 149.9, \"true_count\": 123.0, \"plus_error\": 197.7, \"minus_error\": 102.1, \"error\": 47.8, \"noisy_count_prev\": 172.2, \"true_count_prev\": 123.0, \"plus_error_prev\": 270.7, \"minus_error_prev\": 73.6, \"error_prev\": 98.5, \"plus_error_prev_age\": 237.90999999999994, \"minus_error_prev_age\": 40.80999999999994, \"plus_error_prev_income\": 299.84, \"minus_error_prev_income\": 102.74}, {\"age\": \"65-74\", \"income\": \"$200k - $249k\", \"noisy_count\": 25.7, \"true_count\": 28.0, \"plus_error\": 73.5, \"minus_error\": -22.1, \"error\": 47.8, \"noisy_count_prev\": 65.0, \"true_count_prev\": 28.0, \"plus_error_prev\": 163.6, \"minus_error_prev\": -33.5, \"error_prev\": 98.5, \"plus_error_prev_age\": 130.80999999999995, \"minus_error_prev_age\": -66.29000000000005, \"plus_error_prev_income\": 183.89999999999998, \"minus_error_prev_income\": -13.200000000000006}, {\"age\": \"65-74\", \"income\": \"$250k - $299k\", \"noisy_count\": 7.1, \"true_count\": 9.0, \"plus_error\": 54.9, \"minus_error\": -40.7, \"error\": 47.8, \"noisy_count_prev\": 91.7, \"true_count_prev\": 9.0, \"plus_error_prev\": 190.2, \"minus_error_prev\": -6.9, \"error_prev\": 98.5, \"plus_error_prev_age\": 157.40999999999994, \"minus_error_prev_age\": -39.690000000000055, \"plus_error_prev_income\": 177.47, \"minus_error_prev_income\": -19.629999999999995}, {\"age\": \"65-74\", \"income\": \"$300k - $349k\", \"noisy_count\": 50.7, \"true_count\": 4.0, \"plus_error\": 74.3, \"minus_error\": 27.2, \"error\": 23.5, \"noisy_count_prev\": 178.6, \"true_count_prev\": 4.0, \"plus_error_prev\": 277.2, \"minus_error_prev\": 80.1, \"error_prev\": 98.5, \"plus_error_prev_age\": 244.40999999999994, \"minus_error_prev_age\": 47.30999999999994, \"plus_error_prev_income\": 244.89, \"minus_error_prev_income\": 47.79}, {\"age\": \"65-74\", \"income\": \"$350k - $399k\", \"noisy_count\": -59.8, \"true_count\": 0.0, \"plus_error\": -12.0, \"minus_error\": -107.5, \"error\": 47.8, \"noisy_count_prev\": -93.8, \"true_count_prev\": 0.0, \"plus_error_prev\": 4.7, \"minus_error_prev\": -192.4, \"error_prev\": 98.5, \"plus_error_prev_age\": -28.090000000000057, \"minus_error_prev_age\": -225.19000000000005, \"plus_error_prev_income\": 28.860000000000003, \"minus_error_prev_income\": -168.24}, {\"age\": \"65-74\", \"income\": \"$400k - $449k\", \"noisy_count\": -12.5, \"true_count\": 0.0, \"plus_error\": 35.2, \"minus_error\": -60.3, \"error\": 47.8, \"noisy_count_prev\": -10.5, \"true_count_prev\": 0.0, \"plus_error_prev\": 88.1, \"minus_error_prev\": -109.0, \"error_prev\": 98.5, \"plus_error_prev_age\": 55.30999999999994, \"minus_error_prev_age\": -141.79000000000005, \"plus_error_prev_income\": 76.56, \"minus_error_prev_income\": -120.53999999999999}, {\"age\": \"65-74\", \"income\": \"$450k - $499k\", \"noisy_count\": 69.7, \"true_count\": 1.0, \"plus_error\": 117.5, \"minus_error\": 21.9, \"error\": 47.8, \"noisy_count_prev\": 222.3, \"true_count_prev\": 1.0, \"plus_error_prev\": 320.9, \"minus_error_prev\": 123.8, \"error_prev\": 98.5, \"plus_error_prev_age\": 288.1099999999999, \"minus_error_prev_age\": 91.00999999999993, \"plus_error_prev_income\": 256.36, \"minus_error_prev_income\": 59.260000000000005}, {\"age\": \"75-84\", \"income\": \"$0k - $49k\", \"noisy_count\": 2963.3, \"true_count\": 3217.0, \"plus_error\": 3104.7, \"minus_error\": 2821.9, \"error\": 141.4, \"noisy_count_prev\": 2519.9, \"true_count_prev\": 3217.0, \"plus_error_prev\": 2802.8, \"minus_error_prev\": 2237.1, \"error_prev\": 282.8, \"plus_error_prev_age\": 2853.29, \"minus_error_prev_age\": 2287.5899999999997, \"plus_error_prev_income\": 2834.1299999999997, \"minus_error_prev_income\": 2268.4299999999994}, {\"age\": \"75-84\", \"income\": \"$50k - $99k\", \"noisy_count\": 662.8, \"true_count\": 567.0, \"plus_error\": 731.3, \"minus_error\": 594.3, \"error\": 68.5, \"noisy_count_prev\": 525.4, \"true_count_prev\": 567.0, \"plus_error_prev\": 808.2, \"minus_error_prev\": 242.5, \"error_prev\": 282.8, \"plus_error_prev_age\": 858.69, \"minus_error_prev_age\": 292.98999999999995, \"plus_error_prev_income\": 837.71, \"minus_error_prev_income\": 272.01000000000005}, {\"age\": \"75-84\", \"income\": \"$100k - $149k\", \"noisy_count\": 36.4, \"true_count\": 69.0, \"plus_error\": 177.8, \"minus_error\": -105.1, \"error\": 141.4, \"noisy_count_prev\": -294.6, \"true_count_prev\": 69.0, \"plus_error_prev\": -11.7, \"minus_error_prev\": -577.4, \"error_prev\": 282.8, \"plus_error_prev_age\": 38.789999999999964, \"minus_error_prev_age\": -526.91, \"plus_error_prev_income\": 71.16000000000001, \"minus_error_prev_income\": -494.53999999999996}, {\"age\": \"75-84\", \"income\": \"$150k - $199k\", \"noisy_count\": 274.0, \"true_count\": 34.0, \"plus_error\": 415.5, \"minus_error\": 132.6, \"error\": 141.4, \"noisy_count_prev\": 27.4, \"true_count_prev\": 34.0, \"plus_error_prev\": 310.3, \"minus_error_prev\": -255.4, \"error_prev\": 282.8, \"plus_error_prev_age\": 360.78999999999996, \"minus_error_prev_age\": -204.91000000000003, \"plus_error_prev_income\": 339.44, \"minus_error_prev_income\": -226.26}, {\"age\": \"75-84\", \"income\": \"$200k - $249k\", \"noisy_count\": 111.6, \"true_count\": 15.0, \"plus_error\": 253.1, \"minus_error\": -29.8, \"error\": 141.4, \"noisy_count_prev\": -26.6, \"true_count_prev\": 15.0, \"plus_error_prev\": 256.2, \"minus_error_prev\": -309.5, \"error_prev\": 282.8, \"plus_error_prev_age\": 306.68999999999994, \"minus_error_prev_age\": -259.01000000000005, \"plus_error_prev_income\": 276.5, \"minus_error_prev_income\": -289.2}, {\"age\": \"75-84\", \"income\": \"$250k - $299k\", \"noisy_count\": 234.4, \"true_count\": 4.0, \"plus_error\": 375.8, \"minus_error\": 93.0, \"error\": 141.4, \"noisy_count_prev\": 643.3, \"true_count_prev\": 4.0, \"plus_error_prev\": 926.1, \"minus_error_prev\": 360.4, \"error_prev\": 282.8, \"plus_error_prev_age\": 976.59, \"minus_error_prev_age\": 410.88999999999993, \"plus_error_prev_income\": 913.37, \"minus_error_prev_income\": 347.66999999999996}, {\"age\": \"75-84\", \"income\": \"$300k - $349k\", \"noisy_count\": -6.1, \"true_count\": 2.0, \"plus_error\": 64.5, \"minus_error\": -76.8, \"error\": 70.6, \"noisy_count_prev\": 504.1, \"true_count_prev\": 2.0, \"plus_error_prev\": 786.9, \"minus_error_prev\": 221.2, \"error_prev\": 282.8, \"plus_error_prev_age\": 837.39, \"minus_error_prev_age\": 271.68999999999994, \"plus_error_prev_income\": 754.59, \"minus_error_prev_income\": 188.89}, {\"age\": \"75-84\", \"income\": \"$350k - $399k\", \"noisy_count\": 93.7, \"true_count\": 0.0, \"plus_error\": 235.1, \"minus_error\": -47.7, \"error\": 141.4, \"noisy_count_prev\": 250.6, \"true_count_prev\": 0.0, \"plus_error_prev\": 533.4, \"minus_error_prev\": -32.3, \"error_prev\": 282.8, \"plus_error_prev_age\": 583.89, \"minus_error_prev_age\": 18.18999999999997, \"plus_error_prev_income\": 557.56, \"minus_error_prev_income\": -8.139999999999993}, {\"age\": \"75-84\", \"income\": \"$400k - $449k\", \"noisy_count\": -8.5, \"true_count\": 1.0, \"plus_error\": 132.9, \"minus_error\": -149.9, \"error\": 141.4, \"noisy_count_prev\": -182.8, \"true_count_prev\": 1.0, \"plus_error_prev\": 100.1, \"minus_error_prev\": -465.6, \"error_prev\": 282.8, \"plus_error_prev_age\": 150.58999999999997, \"minus_error_prev_age\": -415.11000000000007, \"plus_error_prev_income\": 88.56, \"minus_error_prev_income\": -477.14}, {\"age\": \"75-84\", \"income\": \"$450k - $499k\", \"noisy_count\": 290.9, \"true_count\": 0.0, \"plus_error\": 432.3, \"minus_error\": 149.5, \"error\": 141.4, \"noisy_count_prev\": 180.9, \"true_count_prev\": 0.0, \"plus_error_prev\": 463.7, \"minus_error_prev\": -102.0, \"error_prev\": 282.8, \"plus_error_prev_age\": 514.1899999999999, \"minus_error_prev_age\": -51.51000000000003, \"plus_error_prev_income\": 399.15999999999997, \"minus_error_prev_income\": -166.54}, {\"age\": \"85-94\", \"income\": \"$0k - $49k\", \"noisy_count\": 3442.0, \"true_count\": 3603.0, \"plus_error\": 3510.2, \"minus_error\": 3373.9, \"error\": 68.2, \"noisy_count_prev\": 3488.5, \"true_count_prev\": 3603.0, \"plus_error_prev\": 3578.3, \"minus_error_prev\": 3398.7, \"error_prev\": 89.8, \"plus_error_prev_age\": 3580.52, \"minus_error_prev_age\": 3400.9199999999996, \"plus_error_prev_income\": 3609.6299999999997, \"minus_error_prev_income\": 3430.0299999999993}, {\"age\": \"85-94\", \"income\": \"$50k - $99k\", \"noisy_count\": 318.3, \"true_count\": 344.0, \"plus_error\": 363.4, \"minus_error\": 273.3, \"error\": 45.1, \"noisy_count_prev\": 277.7, \"true_count_prev\": 344.0, \"plus_error_prev\": 367.5, \"minus_error_prev\": 188.0, \"error_prev\": 89.8, \"plus_error_prev_age\": 369.71999999999997, \"minus_error_prev_age\": 190.21999999999997, \"plus_error_prev_income\": 397.01000000000005, \"minus_error_prev_income\": 217.51000000000005}, {\"age\": \"85-94\", \"income\": \"$100k - $149k\", \"noisy_count\": 106.6, \"true_count\": 66.0, \"plus_error\": 174.7, \"minus_error\": 38.4, \"error\": 68.2, \"noisy_count_prev\": 165.3, \"true_count_prev\": 66.0, \"plus_error_prev\": 255.1, \"minus_error_prev\": 75.5, \"error_prev\": 89.8, \"plus_error_prev_age\": 257.32, \"minus_error_prev_age\": 77.71999999999998, \"plus_error_prev_income\": 337.96000000000004, \"minus_error_prev_income\": 158.36}, {\"age\": \"85-94\", \"income\": \"$150k - $199k\", \"noisy_count\": -75.7, \"true_count\": 13.0, \"plus_error\": -7.5, \"minus_error\": -143.9, \"error\": 68.2, \"noisy_count_prev\": -25.9, \"true_count_prev\": 13.0, \"plus_error_prev\": 63.9, \"minus_error_prev\": -115.7, \"error_prev\": 89.8, \"plus_error_prev_age\": 66.11999999999998, \"minus_error_prev_age\": -113.48000000000002, \"plus_error_prev_income\": 93.04, \"minus_error_prev_income\": -86.56}, {\"age\": \"85-94\", \"income\": \"$200k - $249k\", \"noisy_count\": -55.1, \"true_count\": 7.0, \"plus_error\": 13.1, \"minus_error\": -123.3, \"error\": 68.2, \"noisy_count_prev\": -32.1, \"true_count_prev\": 7.0, \"plus_error_prev\": 57.7, \"minus_error_prev\": -121.9, \"error_prev\": 89.8, \"plus_error_prev_age\": 59.91999999999999, \"minus_error_prev_age\": -119.68000000000002, \"plus_error_prev_income\": 78.0, \"minus_error_prev_income\": -101.60000000000001}, {\"age\": \"85-94\", \"income\": \"$250k - $299k\", \"noisy_count\": 87.7, \"true_count\": 2.0, \"plus_error\": 155.9, \"minus_error\": 19.6, \"error\": 68.2, \"noisy_count_prev\": -14.8, \"true_count_prev\": 2.0, \"plus_error_prev\": 75.0, \"minus_error_prev\": -104.6, \"error_prev\": 89.8, \"plus_error_prev_age\": 77.21999999999998, \"minus_error_prev_age\": -102.38000000000001, \"plus_error_prev_income\": 62.27, \"minus_error_prev_income\": -117.32999999999998}, {\"age\": \"85-94\", \"income\": \"$300k - $349k\", \"noisy_count\": 46.5, \"true_count\": 1.0, \"plus_error\": 92.5, \"minus_error\": 0.6, \"error\": 46.0, \"noisy_count_prev\": -76.5, \"true_count_prev\": 1.0, \"plus_error_prev\": 13.3, \"minus_error_prev\": -166.3, \"error_prev\": 89.8, \"plus_error_prev_age\": 15.519999999999982, \"minus_error_prev_age\": -164.08000000000004, \"plus_error_prev_income\": -19.009999999999994, \"minus_error_prev_income\": -198.61}, {\"age\": \"85-94\", \"income\": \"$350k - $399k\", \"noisy_count\": -37.5, \"true_count\": 0.0, \"plus_error\": 30.7, \"minus_error\": -105.6, \"error\": 68.2, \"noisy_count_prev\": -43.4, \"true_count_prev\": 0.0, \"plus_error_prev\": 46.4, \"minus_error_prev\": -133.2, \"error_prev\": 89.8, \"plus_error_prev_age\": 48.61999999999998, \"minus_error_prev_age\": -130.98000000000002, \"plus_error_prev_income\": 70.56, \"minus_error_prev_income\": -109.03999999999999}, {\"age\": \"85-94\", \"income\": \"$400k - $449k\", \"noisy_count\": 107.2, \"true_count\": 1.0, \"plus_error\": 175.4, \"minus_error\": 39.1, \"error\": 68.2, \"noisy_count_prev\": 143.1, \"true_count_prev\": 1.0, \"plus_error_prev\": 232.8, \"minus_error_prev\": 53.3, \"error_prev\": 89.8, \"plus_error_prev_age\": 235.01999999999998, \"minus_error_prev_age\": 55.51999999999998, \"plus_error_prev_income\": 221.26000000000002, \"minus_error_prev_income\": 41.760000000000005}, {\"age\": \"85-94\", \"income\": \"$450k - $499k\", \"noisy_count\": -13.3, \"true_count\": 0.0, \"plus_error\": 54.8, \"minus_error\": -81.5, \"error\": 68.2, \"noisy_count_prev\": 22.6, \"true_count_prev\": 0.0, \"plus_error_prev\": 112.3, \"minus_error_prev\": -67.2, \"error_prev\": 89.8, \"plus_error_prev_age\": 114.51999999999998, \"minus_error_prev_age\": -64.98000000000002, \"plus_error_prev_income\": 47.760000000000005, \"minus_error_prev_income\": -131.74}, {\"age\": \"95-104\", \"income\": \"$0k - $49k\", \"noisy_count\": 2394.3, \"true_count\": 2374.0, \"plus_error\": 2535.7, \"minus_error\": 2252.8, \"error\": 141.4, \"noisy_count_prev\": 2506.5, \"true_count_prev\": 2374.0, \"plus_error_prev\": 2789.4, \"minus_error_prev\": 2223.7, \"error_prev\": 282.8, \"plus_error_prev_age\": 2814.87, \"minus_error_prev_age\": 2249.17, \"plus_error_prev_income\": 2820.7299999999996, \"minus_error_prev_income\": 2255.0299999999993}, {\"age\": \"95-104\", \"income\": \"$50k - $99k\", \"noisy_count\": 88.8, \"true_count\": 134.0, \"plus_error\": 157.3, \"minus_error\": 20.3, \"error\": 68.5, \"noisy_count_prev\": 93.2, \"true_count_prev\": 134.0, \"plus_error_prev\": 376.1, \"minus_error_prev\": -189.6, \"error_prev\": 282.8, \"plus_error_prev_age\": 401.57000000000005, \"minus_error_prev_age\": -164.12999999999997, \"plus_error_prev_income\": 405.61000000000007, \"minus_error_prev_income\": -160.08999999999995}, {\"age\": \"95-104\", \"income\": \"$100k - $149k\", \"noisy_count\": 105.3, \"true_count\": 24.0, \"plus_error\": 246.7, \"minus_error\": -36.1, \"error\": 141.4, \"noisy_count_prev\": 45.2, \"true_count_prev\": 24.0, \"plus_error_prev\": 328.0, \"minus_error_prev\": -237.7, \"error_prev\": 282.8, \"plus_error_prev_age\": 353.47, \"minus_error_prev_age\": -212.22999999999996, \"plus_error_prev_income\": 410.86, \"minus_error_prev_income\": -154.83999999999997}, {\"age\": \"95-104\", \"income\": \"$150k - $199k\", \"noisy_count\": 103.6, \"true_count\": 10.0, \"plus_error\": 245.0, \"minus_error\": -37.8, \"error\": 141.4, \"noisy_count_prev\": -76.9, \"true_count_prev\": 10.0, \"plus_error_prev\": 206.0, \"minus_error_prev\": -359.7, \"error_prev\": 282.8, \"plus_error_prev_age\": 231.47000000000003, \"minus_error_prev_age\": -334.22999999999996, \"plus_error_prev_income\": 235.14000000000001, \"minus_error_prev_income\": -330.56}, {\"age\": \"95-104\", \"income\": \"$200k - $249k\", \"noisy_count\": -236.7, \"true_count\": 3.0, \"plus_error\": -95.3, \"minus_error\": -378.1, \"error\": 141.4, \"noisy_count_prev\": -361.4, \"true_count_prev\": 3.0, \"plus_error_prev\": -78.6, \"minus_error_prev\": -644.3, \"error_prev\": 282.8, \"plus_error_prev_age\": -53.12999999999997, \"minus_error_prev_age\": -618.8299999999999, \"plus_error_prev_income\": -58.3, \"minus_error_prev_income\": -624.0}, {\"age\": \"95-104\", \"income\": \"$250k - $299k\", \"noisy_count\": -341.7, \"true_count\": 0.0, \"plus_error\": -200.3, \"minus_error\": -483.1, \"error\": 141.4, \"noisy_count_prev\": -314.0, \"true_count_prev\": 0.0, \"plus_error_prev\": -31.2, \"minus_error_prev\": -596.9, \"error_prev\": 282.8, \"plus_error_prev_age\": -5.729999999999972, \"minus_error_prev_age\": -571.43, \"plus_error_prev_income\": -43.92999999999999, \"minus_error_prev_income\": -609.63}, {\"age\": \"95-104\", \"income\": \"$300k - $349k\", \"noisy_count\": -88.6, \"true_count\": 0.0, \"plus_error\": -17.9, \"minus_error\": -159.2, \"error\": 70.6, \"noisy_count_prev\": -257.1, \"true_count_prev\": 0.0, \"plus_error_prev\": 25.7, \"minus_error_prev\": -539.9, \"error_prev\": 282.8, \"plus_error_prev_age\": 51.17000000000003, \"minus_error_prev_age\": -514.43, \"plus_error_prev_income\": -6.609999999999996, \"minus_error_prev_income\": -572.2099999999999}, {\"age\": \"95-104\", \"income\": \"$350k - $399k\", \"noisy_count\": 133.5, \"true_count\": 0.0, \"plus_error\": 274.9, \"minus_error\": -7.9, \"error\": 141.4, \"noisy_count_prev\": 49.7, \"true_count_prev\": 0.0, \"plus_error_prev\": 332.5, \"minus_error_prev\": -233.1, \"error_prev\": 282.8, \"plus_error_prev_age\": 357.97, \"minus_error_prev_age\": -207.62999999999997, \"plus_error_prev_income\": 356.66, \"minus_error_prev_income\": -208.94}, {\"age\": \"95-104\", \"income\": \"$400k - $449k\", \"noisy_count\": -340.5, \"true_count\": 0.0, \"plus_error\": -199.1, \"minus_error\": -482.0, \"error\": 141.4, \"noisy_count_prev\": -326.1, \"true_count_prev\": 0.0, \"plus_error_prev\": -43.3, \"minus_error_prev\": -609.0, \"error_prev\": 282.8, \"plus_error_prev_age\": -17.82999999999997, \"minus_error_prev_age\": -583.53, \"plus_error_prev_income\": -54.83999999999999, \"minus_error_prev_income\": -620.54}, {\"age\": \"95-104\", \"income\": \"$450k - $499k\", \"noisy_count\": 1.0, \"true_count\": 0.0, \"plus_error\": 142.5, \"minus_error\": -140.4, \"error\": 141.4, \"noisy_count_prev\": 205.2, \"true_count_prev\": 0.0, \"plus_error_prev\": 488.1, \"minus_error_prev\": -77.6, \"error_prev\": 282.8, \"plus_error_prev_age\": 513.57, \"minus_error_prev_age\": -52.12999999999997, \"plus_error_prev_income\": 423.56000000000006, \"minus_error_prev_income\": -142.14}, {\"age\": \"105-114\", \"income\": \"$0k - $49k\", \"noisy_count\": 1211.8, \"true_count\": 1319.0, \"plus_error\": 1285.1, \"minus_error\": 1138.5, \"error\": 73.3, \"noisy_count_prev\": 1143.0, \"true_count_prev\": 1319.0, \"plus_error_prev\": 1425.8, \"minus_error_prev\": 860.1, \"error_prev\": 282.8, \"plus_error_prev_age\": 1367.6399999999999, \"minus_error_prev_age\": 801.94, \"plus_error_prev_income\": 1457.1299999999994, \"minus_error_prev_income\": 891.4299999999996}, {\"age\": \"105-114\", \"income\": \"$50k - $99k\", \"noisy_count\": 98.3, \"true_count\": 67.0, \"plus_error\": 126.7, \"minus_error\": 69.8, \"error\": 28.5, \"noisy_count_prev\": 112.1, \"true_count_prev\": 67.0, \"plus_error_prev\": 394.9, \"minus_error_prev\": -170.8, \"error_prev\": 282.8, \"plus_error_prev_age\": 336.73999999999995, \"minus_error_prev_age\": -228.96000000000004, \"plus_error_prev_income\": 424.41, \"minus_error_prev_income\": -141.28999999999996}, {\"age\": \"105-114\", \"income\": \"$100k - $149k\", \"noisy_count\": 141.4, \"true_count\": 10.0, \"plus_error\": 214.7, \"minus_error\": 68.1, \"error\": 73.3, \"noisy_count_prev\": 383.7, \"true_count_prev\": 10.0, \"plus_error_prev\": 666.6, \"minus_error_prev\": 100.9, \"error_prev\": 282.8, \"plus_error_prev_age\": 608.44, \"minus_error_prev_age\": 42.739999999999995, \"plus_error_prev_income\": 749.46, \"minus_error_prev_income\": 183.76000000000002}, {\"age\": \"105-114\", \"income\": \"$150k - $199k\", \"noisy_count\": -67.3, \"true_count\": 5.0, \"plus_error\": 6.0, \"minus_error\": -140.6, \"error\": 73.3, \"noisy_count_prev\": -118.6, \"true_count_prev\": 5.0, \"plus_error_prev\": 164.2, \"minus_error_prev\": -401.5, \"error_prev\": 282.8, \"plus_error_prev_age\": 106.03999999999998, \"minus_error_prev_age\": -459.66, \"plus_error_prev_income\": 193.34, \"minus_error_prev_income\": -372.36}, {\"age\": \"105-114\", \"income\": \"$200k - $249k\", \"noisy_count\": -51.2, \"true_count\": 0.0, \"plus_error\": 22.1, \"minus_error\": -124.5, \"error\": 73.3, \"noisy_count_prev\": -220.9, \"true_count_prev\": 0.0, \"plus_error_prev\": 61.9, \"minus_error_prev\": -503.7, \"error_prev\": 282.8, \"plus_error_prev_age\": 3.739999999999988, \"minus_error_prev_age\": -561.86, \"plus_error_prev_income\": 82.19999999999999, \"minus_error_prev_income\": -483.4}, {\"age\": \"105-114\", \"income\": \"$250k - $299k\", \"noisy_count\": 101.6, \"true_count\": 0.0, \"plus_error\": 174.9, \"minus_error\": 28.3, \"error\": 73.3, \"noisy_count_prev\": 249.7, \"true_count_prev\": 0.0, \"plus_error_prev\": 532.5, \"minus_error_prev\": -33.2, \"error_prev\": 282.8, \"plus_error_prev_age\": 474.34, \"minus_error_prev_age\": -91.36000000000001, \"plus_error_prev_income\": 519.77, \"minus_error_prev_income\": -45.93}, {\"age\": \"105-114\", \"income\": \"$300k - $349k\", \"noisy_count\": -15.7, \"true_count\": 0.0, \"plus_error\": 13.9, \"minus_error\": -45.2, \"error\": 29.5, \"noisy_count_prev\": -17.5, \"true_count_prev\": 0.0, \"plus_error_prev\": 265.3, \"minus_error_prev\": -300.4, \"error_prev\": 282.8, \"plus_error_prev_age\": 207.14, \"minus_error_prev_age\": -358.56, \"plus_error_prev_income\": 232.99, \"minus_error_prev_income\": -332.71}, {\"age\": \"105-114\", \"income\": \"$350k - $399k\", \"noisy_count\": -68.5, \"true_count\": 0.0, \"plus_error\": 4.8, \"minus_error\": -141.8, \"error\": 73.3, \"noisy_count_prev\": -56.1, \"true_count_prev\": 0.0, \"plus_error_prev\": 226.8, \"minus_error_prev\": -338.9, \"error_prev\": 282.8, \"plus_error_prev_age\": 168.64, \"minus_error_prev_age\": -397.06, \"plus_error_prev_income\": 250.96, \"minus_error_prev_income\": -314.73999999999995}, {\"age\": \"105-114\", \"income\": \"$400k - $449k\", \"noisy_count\": 117.4, \"true_count\": 0.0, \"plus_error\": 190.7, \"minus_error\": 44.1, \"error\": 73.3, \"noisy_count_prev\": 433.4, \"true_count_prev\": 0.0, \"plus_error_prev\": 716.3, \"minus_error_prev\": 150.6, \"error_prev\": 282.8, \"plus_error_prev_age\": 658.14, \"minus_error_prev_age\": 92.43999999999998, \"plus_error_prev_income\": 704.76, \"minus_error_prev_income\": 139.06}, {\"age\": \"105-114\", \"income\": \"$450k - $499k\", \"noisy_count\": 111.0, \"true_count\": 0.0, \"plus_error\": 184.3, \"minus_error\": 37.7, \"error\": 73.3, \"noisy_count_prev\": 251.6, \"true_count_prev\": 0.0, \"plus_error_prev\": 534.4, \"minus_error_prev\": -31.3, \"error_prev\": 282.8, \"plus_error_prev_age\": 476.23999999999995, \"minus_error_prev_age\": -89.46000000000001, \"plus_error_prev_income\": 469.86, \"minus_error_prev_income\": -95.83999999999999}]}}, {\"mode\": \"vega-lite\"});\n",
       "</script>"
      ],
      "text/plain": [
       "alt.HConcatChart(...)"
      ]
     },
     "metadata": {},
     "output_type": "display_data"
    },
    {
     "data": {
      "application/vnd.jupyter.widget-view+json": {
       "model_id": "22514c4f08b443fcbd97011c122f04d7",
       "version_major": 2,
       "version_minor": 0
      },
      "text/plain": [
       "VBox(children=(VBox(children=(Textarea(value='', description='Answer:', layout=Layout(height='50px', width='50…"
      ]
     },
     "metadata": {},
     "output_type": "display_data"
    },
    {
     "data": {
      "application/vnd.jupyter.widget-view+json": {
       "model_id": "a016dd17ee4a43b39d7604f98784dbb9",
       "version_major": 2,
       "version_minor": 0
      },
      "text/plain": [
       "Button(layout=Layout(height='5px', width='99%'), style=ButtonStyle(button_color='black'))"
      ]
     },
     "metadata": {},
     "output_type": "display_data"
    },
    {
     "data": {
      "application/vnd.jupyter.widget-view+json": {
       "model_id": "7590f9a29a6440bcbbdfdd66c66ffc7c",
       "version_major": 2,
       "version_minor": 0
      },
      "text/plain": [
       "HBox(children=(HTML(value='<b>Question 3/6: What is the second most common marital status of people with incom…"
      ]
     },
     "metadata": {},
     "output_type": "display_data"
    },
    {
     "data": {
      "application/vnd.jupyter.widget-view+json": {
       "model_id": "cbb5de64b0d6457bbb6f6f81999d107e",
       "version_major": 2,
       "version_minor": 0
      },
      "text/plain": [
       "HBox(children=(HTML(value='<b>Number of Remeasures are Used So Far</b>', placeholder=''), FloatProgress(value=…"
      ]
     },
     "metadata": {},
     "output_type": "display_data"
    },
    {
     "data": {
      "text/html": [
       "\n",
       "<div id=\"altair-viz-32d23c4c5d0149168ba7b61af88beabc\"></div>\n",
       "<script type=\"text/javascript\">\n",
       "  var VEGA_DEBUG = (typeof VEGA_DEBUG == \"undefined\") ? {} : VEGA_DEBUG;\n",
       "  (function(spec, embedOpt){\n",
       "    let outputDiv = document.currentScript.previousElementSibling;\n",
       "    if (outputDiv.id !== \"altair-viz-32d23c4c5d0149168ba7b61af88beabc\") {\n",
       "      outputDiv = document.getElementById(\"altair-viz-32d23c4c5d0149168ba7b61af88beabc\");\n",
       "    }\n",
       "    const paths = {\n",
       "      \"vega\": \"https://cdn.jsdelivr.net/npm//vega@5?noext\",\n",
       "      \"vega-lib\": \"https://cdn.jsdelivr.net/npm//vega-lib?noext\",\n",
       "      \"vega-lite\": \"https://cdn.jsdelivr.net/npm//vega-lite@4.17.0?noext\",\n",
       "      \"vega-embed\": \"https://cdn.jsdelivr.net/npm//vega-embed@6?noext\",\n",
       "    };\n",
       "\n",
       "    function maybeLoadScript(lib, version) {\n",
       "      var key = `${lib.replace(\"-\", \"\")}_version`;\n",
       "      return (VEGA_DEBUG[key] == version) ?\n",
       "        Promise.resolve(paths[lib]) :\n",
       "        new Promise(function(resolve, reject) {\n",
       "          var s = document.createElement('script');\n",
       "          document.getElementsByTagName(\"head\")[0].appendChild(s);\n",
       "          s.async = true;\n",
       "          s.onload = () => {\n",
       "            VEGA_DEBUG[key] = version;\n",
       "            return resolve(paths[lib]);\n",
       "          };\n",
       "          s.onerror = () => reject(`Error loading script: ${paths[lib]}`);\n",
       "          s.src = paths[lib];\n",
       "        });\n",
       "    }\n",
       "\n",
       "    function showError(err) {\n",
       "      outputDiv.innerHTML = `<div class=\"error\" style=\"color:red;\">${err}</div>`;\n",
       "      throw err;\n",
       "    }\n",
       "\n",
       "    function displayChart(vegaEmbed) {\n",
       "      vegaEmbed(outputDiv, spec, embedOpt)\n",
       "        .catch(err => showError(`Javascript Error: ${err.message}<br>This usually means there's a typo in your chart specification. See the javascript console for the full traceback.`));\n",
       "    }\n",
       "\n",
       "    if(typeof define === \"function\" && define.amd) {\n",
       "      requirejs.config({paths});\n",
       "      require([\"vega-embed\"], displayChart, err => showError(`Error loading script: ${err.message}`));\n",
       "    } else {\n",
       "      maybeLoadScript(\"vega\", \"5\")\n",
       "        .then(() => maybeLoadScript(\"vega-lite\", \"4.17.0\"))\n",
       "        .then(() => maybeLoadScript(\"vega-embed\", \"6\"))\n",
       "        .catch(showError)\n",
       "        .then(() => displayChart(vegaEmbed));\n",
       "    }\n",
       "  })({\"config\": {\"view\": {\"continuousWidth\": 400, \"continuousHeight\": 300}, \"axis\": {\"labelFontSize\": 11, \"titleFontSize\": 15}, \"axisBottom\": {\"labelAngle\": 60}}, \"hconcat\": [{\"layer\": [{\"mark\": \"bar\", \"encoding\": {\"color\": {\"value\": \"transparent\"}, \"tooltip\": [{\"aggregate\": \"sum\", \"field\": \"noisy_count\", \"title\": \"noisy count\", \"type\": \"quantitative\"}, {\"aggregate\": \"sum\", \"field\": \"error\", \"title\": \"error\", \"type\": \"quantitative\"}], \"x\": {\"field\": \"income\", \"sort\": null, \"title\": \"Income\", \"type\": \"ordinal\"}}, \"height\": 300, \"selection\": {\"selector053\": {\"type\": \"interval\", \"encodings\": [\"x\"]}}, \"transform\": [{\"filter\": {\"selection\": \"selector054\"}}], \"width\": 450}, {\"mark\": {\"type\": \"bar\", \"color\": \"#4C7FFF\", \"opacity\": 0.7}, \"encoding\": {\"x\": {\"field\": \"income\", \"sort\": null, \"title\": \"Income\", \"type\": \"ordinal\"}, \"y\": {\"aggregate\": \"sum\", \"field\": \"noisy_count\", \"type\": \"quantitative\"}}, \"transform\": [{\"filter\": {\"selection\": \"selector054\"}}]}, {\"mark\": {\"type\": \"tick\", \"color\": \"black\", \"width\": 0}, \"encoding\": {\"x\": {\"field\": \"income\", \"sort\": null, \"title\": \"Income\", \"type\": \"ordinal\"}, \"y\": {\"aggregate\": \"sum\", \"field\": \"plus_error\", \"type\": \"quantitative\"}}, \"transform\": [{\"filter\": {\"selection\": \"selector054\"}}]}, {\"mark\": {\"type\": \"tick\", \"color\": \"black\", \"width\": 0}, \"encoding\": {\"x\": {\"field\": \"income\", \"sort\": null, \"title\": \"Income\", \"type\": \"ordinal\"}, \"y\": {\"aggregate\": \"sum\", \"field\": \"minus_error\", \"type\": \"quantitative\"}}, \"transform\": [{\"filter\": {\"selection\": \"selector054\"}}]}, {\"mark\": {\"type\": \"point\", \"color\": \"black\"}, \"encoding\": {\"x\": {\"field\": \"income\", \"sort\": null, \"title\": \"Income\", \"type\": \"ordinal\"}, \"y\": {\"aggregate\": \"sum\", \"field\": \"noisy_count\", \"title\": \"Noisy Count\", \"type\": \"quantitative\"}}, \"transform\": [{\"filter\": {\"selection\": \"selector054\"}}]}, {\"mark\": {\"type\": \"rule\", \"size\": 2}, \"encoding\": {\"x\": {\"field\": \"income\", \"sort\": null, \"title\": \"Income\", \"type\": \"ordinal\"}, \"y\": {\"aggregate\": \"sum\", \"field\": \"plus_error\", \"title\": \"\", \"type\": \"quantitative\"}, \"y2\": {\"aggregate\": \"sum\", \"field\": \"minus_error\", \"title\": \"\"}}, \"transform\": [{\"filter\": {\"selection\": \"selector054\"}}]}]}, {\"layer\": [{\"mark\": \"bar\", \"encoding\": {\"color\": {\"value\": \"transparent\"}, \"tooltip\": [{\"aggregate\": \"sum\", \"field\": \"noisy_count\", \"title\": \"noisy count\", \"type\": \"quantitative\"}, {\"aggregate\": \"sum\", \"field\": \"error\", \"title\": \"error\", \"type\": \"quantitative\"}], \"x\": {\"field\": \"marital\", \"sort\": null, \"title\": \"Marital\", \"type\": \"ordinal\"}}, \"height\": 300, \"selection\": {\"selector054\": {\"type\": \"interval\", \"encodings\": [\"x\"]}}, \"transform\": [{\"filter\": {\"selection\": \"selector053\"}}], \"width\": 450}, {\"mark\": {\"type\": \"bar\", \"color\": \"#4C7FFF\", \"opacity\": 0.7}, \"encoding\": {\"x\": {\"field\": \"marital\", \"sort\": null, \"title\": \"Marital\", \"type\": \"ordinal\"}, \"y\": {\"aggregate\": \"sum\", \"field\": \"noisy_count\", \"type\": \"quantitative\"}}, \"transform\": [{\"filter\": {\"selection\": \"selector053\"}}]}, {\"mark\": {\"type\": \"tick\", \"color\": \"black\", \"width\": 0}, \"encoding\": {\"x\": {\"field\": \"marital\", \"sort\": null, \"title\": \"Marital\", \"type\": \"ordinal\"}, \"y\": {\"aggregate\": \"sum\", \"field\": \"plus_error\", \"type\": \"quantitative\"}}, \"transform\": [{\"filter\": {\"selection\": \"selector053\"}}]}, {\"mark\": {\"type\": \"tick\", \"color\": \"black\", \"width\": 0}, \"encoding\": {\"x\": {\"field\": \"marital\", \"sort\": null, \"title\": \"Marital\", \"type\": \"ordinal\"}, \"y\": {\"aggregate\": \"sum\", \"field\": \"minus_error\", \"type\": \"quantitative\"}}, \"transform\": [{\"filter\": {\"selection\": \"selector053\"}}]}, {\"mark\": {\"type\": \"point\", \"color\": \"black\"}, \"encoding\": {\"x\": {\"field\": \"marital\", \"sort\": null, \"title\": \"Marital\", \"type\": \"ordinal\"}, \"y\": {\"aggregate\": \"sum\", \"field\": \"noisy_count\", \"title\": \"Noisy Count\", \"type\": \"quantitative\"}}, \"transform\": [{\"filter\": {\"selection\": \"selector053\"}}]}, {\"mark\": {\"type\": \"rule\", \"size\": 2}, \"encoding\": {\"x\": {\"field\": \"marital\", \"sort\": null, \"title\": \"Marital\", \"type\": \"ordinal\"}, \"y\": {\"aggregate\": \"sum\", \"field\": \"plus_error\", \"title\": \"\", \"type\": \"quantitative\"}, \"y2\": {\"aggregate\": \"sum\", \"field\": \"minus_error\", \"title\": \"\"}}, \"transform\": [{\"filter\": {\"selection\": \"selector053\"}}]}]}], \"data\": {\"name\": \"data-8329bc2be20d94c1af2ae3d07c13a20d\"}, \"$schema\": \"https://vega.github.io/schema/vega-lite/v4.17.0.json\", \"datasets\": {\"data-8329bc2be20d94c1af2ae3d07c13a20d\": [{\"income\": \"$0k - $49k\", \"marital\": \"Married\", \"noisy_count\": 18785.4, \"true_count\": 18732.0, \"plus_error\": 18874.9, \"minus_error\": 18696.0, \"error\": 89.4}, {\"income\": \"$0k - $49k\", \"marital\": \"Absent\", \"noisy_count\": -12.5, \"true_count\": 91.0, \"plus_error\": 76.9, \"minus_error\": -101.9, \"error\": 89.4}, {\"income\": \"$0k - $49k\", \"marital\": \"Separated\", \"noisy_count\": 560.5, \"true_count\": 622.0, \"plus_error\": 650.0, \"minus_error\": 471.1, \"error\": 89.4}, {\"income\": \"$0k - $49k\", \"marital\": \"Widowed\", \"noisy_count\": 4395.7, \"true_count\": 4450.0, \"plus_error\": 4485.2, \"minus_error\": 4306.3, \"error\": 89.4}, {\"income\": \"$0k - $49k\", \"marital\": \"Divorced\", \"noisy_count\": 6128.1, \"true_count\": 6076.0, \"plus_error\": 6217.5, \"minus_error\": 6038.7, \"error\": 89.4}, {\"income\": \"$0k - $49k\", \"marital\": \"Divorced/Widowed\", \"noisy_count\": 1277.5, \"true_count\": 1315.0, \"plus_error\": 1366.9, \"minus_error\": 1188.0, \"error\": 89.4}, {\"income\": \"$0k - $49k\", \"marital\": \"Never Married\", \"noisy_count\": 7804.5, \"true_count\": 7665.0, \"plus_error\": 7894.0, \"minus_error\": 7715.1, \"error\": 89.4}, {\"income\": \"$50k - $99k\", \"marital\": \"Married\", \"noisy_count\": 6655.3, \"true_count\": 6704.0, \"plus_error\": 6744.8, \"minus_error\": 6565.9, \"error\": 89.4}, {\"income\": \"$50k - $99k\", \"marital\": \"Absent\", \"noisy_count\": 150.4, \"true_count\": 24.0, \"plus_error\": 239.8, \"minus_error\": 61.0, \"error\": 89.4}, {\"income\": \"$50k - $99k\", \"marital\": \"Separated\", \"noisy_count\": -14.5, \"true_count\": 76.0, \"plus_error\": 75.0, \"minus_error\": -103.9, \"error\": 89.4}, {\"income\": \"$50k - $99k\", \"marital\": \"Widowed\", \"noisy_count\": 200.1, \"true_count\": 250.0, \"plus_error\": 289.5, \"minus_error\": 110.6, \"error\": 89.4}, {\"income\": \"$50k - $99k\", \"marital\": \"Divorced\", \"noisy_count\": 473.2, \"true_count\": 650.0, \"plus_error\": 562.7, \"minus_error\": 383.8, \"error\": 89.4}, {\"income\": \"$50k - $99k\", \"marital\": \"Divorced/Widowed\", \"noisy_count\": 103.7, \"true_count\": 75.0, \"plus_error\": 193.1, \"minus_error\": 14.2, \"error\": 89.4}, {\"income\": \"$50k - $99k\", \"marital\": \"Never Married\", \"noisy_count\": 847.8, \"true_count\": 748.0, \"plus_error\": 937.3, \"minus_error\": 758.4, \"error\": 89.4}, {\"income\": \"$100k - $149k\", \"marital\": \"Married\", \"noisy_count\": 771.3, \"true_count\": 937.0, \"plus_error\": 860.7, \"minus_error\": 681.8, \"error\": 89.4}, {\"income\": \"$100k - $149k\", \"marital\": \"Absent\", \"noisy_count\": -43.6, \"true_count\": 2.0, \"plus_error\": 45.9, \"minus_error\": -133.0, \"error\": 89.4}, {\"income\": \"$100k - $149k\", \"marital\": \"Separated\", \"noisy_count\": 140.0, \"true_count\": 8.0, \"plus_error\": 229.4, \"minus_error\": 50.5, \"error\": 89.4}, {\"income\": \"$100k - $149k\", \"marital\": \"Widowed\", \"noisy_count\": 49.2, \"true_count\": 22.0, \"plus_error\": 138.6, \"minus_error\": -40.3, \"error\": 89.4}, {\"income\": \"$100k - $149k\", \"marital\": \"Divorced\", \"noisy_count\": -3.4, \"true_count\": 78.0, \"plus_error\": 86.1, \"minus_error\": -92.8, \"error\": 89.4}, {\"income\": \"$100k - $149k\", \"marital\": \"Divorced/Widowed\", \"noisy_count\": -87.1, \"true_count\": 7.0, \"plus_error\": 2.3, \"minus_error\": -176.6, \"error\": 89.4}, {\"income\": \"$100k - $149k\", \"marital\": \"Never Married\", \"noisy_count\": -79.0, \"true_count\": 95.0, \"plus_error\": 10.5, \"minus_error\": -168.4, \"error\": 89.4}, {\"income\": \"$150k - $199k\", \"marital\": \"Married\", \"noisy_count\": 446.8, \"true_count\": 524.0, \"plus_error\": 536.3, \"minus_error\": 357.4, \"error\": 89.4}, {\"income\": \"$150k - $199k\", \"marital\": \"Absent\", \"noisy_count\": -25.9, \"true_count\": 0.0, \"plus_error\": 63.6, \"minus_error\": -115.3, \"error\": 89.4}, {\"income\": \"$150k - $199k\", \"marital\": \"Separated\", \"noisy_count\": -24.4, \"true_count\": 4.0, \"plus_error\": 65.0, \"minus_error\": -113.9, \"error\": 89.4}, {\"income\": \"$150k - $199k\", \"marital\": \"Widowed\", \"noisy_count\": 129.9, \"true_count\": 7.0, \"plus_error\": 219.4, \"minus_error\": 40.5, \"error\": 89.4}, {\"income\": \"$150k - $199k\", \"marital\": \"Divorced\", \"noisy_count\": -42.7, \"true_count\": 27.0, \"plus_error\": 46.7, \"minus_error\": -132.2, \"error\": 89.4}, {\"income\": \"$150k - $199k\", \"marital\": \"Divorced/Widowed\", \"noisy_count\": -5.1, \"true_count\": 3.0, \"plus_error\": 84.3, \"minus_error\": -94.6, \"error\": 89.4}, {\"income\": \"$150k - $199k\", \"marital\": \"Never Married\", \"noisy_count\": 32.3, \"true_count\": 44.0, \"plus_error\": 121.8, \"minus_error\": -57.1, \"error\": 89.4}, {\"income\": \"$200k - $249k\", \"marital\": \"Married\", \"noisy_count\": 111.6, \"true_count\": 111.0, \"plus_error\": 201.1, \"minus_error\": 22.2, \"error\": 89.4}, {\"income\": \"$200k - $249k\", \"marital\": \"Absent\", \"noisy_count\": 9.1, \"true_count\": 0.0, \"plus_error\": 98.5, \"minus_error\": -80.4, \"error\": 89.4}, {\"income\": \"$200k - $249k\", \"marital\": \"Separated\", \"noisy_count\": -40.8, \"true_count\": 1.0, \"plus_error\": 48.6, \"minus_error\": -130.3, \"error\": 89.4}, {\"income\": \"$200k - $249k\", \"marital\": \"Widowed\", \"noisy_count\": 54.2, \"true_count\": 4.0, \"plus_error\": 143.6, \"minus_error\": -35.3, \"error\": 89.4}, {\"income\": \"$200k - $249k\", \"marital\": \"Divorced\", \"noisy_count\": 53.7, \"true_count\": 13.0, \"plus_error\": 143.1, \"minus_error\": -35.7, \"error\": 89.4}, {\"income\": \"$200k - $249k\", \"marital\": \"Divorced/Widowed\", \"noisy_count\": -224.9, \"true_count\": 3.0, \"plus_error\": -135.5, \"minus_error\": -314.4, \"error\": 89.4}, {\"income\": \"$200k - $249k\", \"marital\": \"Never Married\", \"noisy_count\": -171.3, \"true_count\": 5.0, \"plus_error\": -81.8, \"minus_error\": -260.7, \"error\": 89.4}, {\"income\": \"$250k - $299k\", \"marital\": \"Married\", \"noisy_count\": 147.0, \"true_count\": 41.0, \"plus_error\": 236.5, \"minus_error\": 57.6, \"error\": 89.4}, {\"income\": \"$250k - $299k\", \"marital\": \"Absent\", \"noisy_count\": 57.3, \"true_count\": 0.0, \"plus_error\": 146.8, \"minus_error\": -32.1, \"error\": 89.4}, {\"income\": \"$250k - $299k\", \"marital\": \"Separated\", \"noisy_count\": 46.4, \"true_count\": 0.0, \"plus_error\": 135.8, \"minus_error\": -43.1, \"error\": 89.4}, {\"income\": \"$250k - $299k\", \"marital\": \"Widowed\", \"noisy_count\": -39.5, \"true_count\": 0.0, \"plus_error\": 49.9, \"minus_error\": -129.0, \"error\": 89.4}, {\"income\": \"$250k - $299k\", \"marital\": \"Divorced\", \"noisy_count\": 99.9, \"true_count\": 5.0, \"plus_error\": 189.4, \"minus_error\": 10.5, \"error\": 89.4}, {\"income\": \"$250k - $299k\", \"marital\": \"Divorced/Widowed\", \"noisy_count\": 117.1, \"true_count\": 0.0, \"plus_error\": 206.6, \"minus_error\": 27.7, \"error\": 89.4}, {\"income\": \"$250k - $299k\", \"marital\": \"Never Married\", \"noisy_count\": -41.0, \"true_count\": 0.0, \"plus_error\": 48.5, \"minus_error\": -130.4, \"error\": 89.4}, {\"income\": \"$300k - $349k\", \"marital\": \"Married\", \"noisy_count\": -27.9, \"true_count\": 11.0, \"plus_error\": 0.6, \"minus_error\": -56.3, \"error\": 28.4}, {\"income\": \"$300k - $349k\", \"marital\": \"Absent\", \"noisy_count\": -25.0, \"true_count\": 0.0, \"plus_error\": 3.4, \"minus_error\": -53.5, \"error\": 28.4}, {\"income\": \"$300k - $349k\", \"marital\": \"Separated\", \"noisy_count\": -2.5, \"true_count\": 0.0, \"plus_error\": 25.9, \"minus_error\": -31.0, \"error\": 28.4}, {\"income\": \"$300k - $349k\", \"marital\": \"Widowed\", \"noisy_count\": -47.2, \"true_count\": 0.0, \"plus_error\": -18.8, \"minus_error\": -75.7, \"error\": 28.4}, {\"income\": \"$300k - $349k\", \"marital\": \"Divorced\", \"noisy_count\": -11.4, \"true_count\": 1.0, \"plus_error\": 17.0, \"minus_error\": -39.8, \"error\": 28.4}, {\"income\": \"$300k - $349k\", \"marital\": \"Divorced/Widowed\", \"noisy_count\": 4.4, \"true_count\": 0.0, \"plus_error\": 32.8, \"minus_error\": -24.1, \"error\": 28.4}, {\"income\": \"$300k - $349k\", \"marital\": \"Never Married\", \"noisy_count\": -26.8, \"true_count\": 0.0, \"plus_error\": 1.6, \"minus_error\": -55.3, \"error\": 28.4}, {\"income\": \"$350k - $399k\", \"marital\": \"Married\", \"noisy_count\": 7.5, \"true_count\": 2.0, \"plus_error\": 97.0, \"minus_error\": -81.9, \"error\": 89.4}, {\"income\": \"$350k - $399k\", \"marital\": \"Absent\", \"noisy_count\": 120.1, \"true_count\": 0.0, \"plus_error\": 209.6, \"minus_error\": 30.7, \"error\": 89.4}, {\"income\": \"$350k - $399k\", \"marital\": \"Separated\", \"noisy_count\": 27.6, \"true_count\": 0.0, \"plus_error\": 117.1, \"minus_error\": -61.8, \"error\": 89.4}, {\"income\": \"$350k - $399k\", \"marital\": \"Widowed\", \"noisy_count\": 111.3, \"true_count\": 0.0, \"plus_error\": 200.8, \"minus_error\": 21.9, \"error\": 89.4}, {\"income\": \"$350k - $399k\", \"marital\": \"Divorced\", \"noisy_count\": -102.4, \"true_count\": 0.0, \"plus_error\": -13.0, \"minus_error\": -191.8, \"error\": 89.4}, {\"income\": \"$350k - $399k\", \"marital\": \"Divorced/Widowed\", \"noisy_count\": 35.1, \"true_count\": 0.0, \"plus_error\": 124.5, \"minus_error\": -54.4, \"error\": 89.4}, {\"income\": \"$350k - $399k\", \"marital\": \"Never Married\", \"noisy_count\": -49.1, \"true_count\": 0.0, \"plus_error\": 40.4, \"minus_error\": -138.5, \"error\": 89.4}, {\"income\": \"$400k - $449k\", \"marital\": \"Married\", \"noisy_count\": -172.3, \"true_count\": 2.0, \"plus_error\": -82.9, \"minus_error\": -261.8, \"error\": 89.4}, {\"income\": \"$400k - $449k\", \"marital\": \"Absent\", \"noisy_count\": -86.7, \"true_count\": 0.0, \"plus_error\": 2.7, \"minus_error\": -176.2, \"error\": 89.4}, {\"income\": \"$400k - $449k\", \"marital\": \"Separated\", \"noisy_count\": 105.7, \"true_count\": 0.0, \"plus_error\": 195.1, \"minus_error\": 16.2, \"error\": 89.4}, {\"income\": \"$400k - $449k\", \"marital\": \"Widowed\", \"noisy_count\": 67.3, \"true_count\": 0.0, \"plus_error\": 156.7, \"minus_error\": -22.1, \"error\": 89.4}, {\"income\": \"$400k - $449k\", \"marital\": \"Divorced\", \"noisy_count\": -21.6, \"true_count\": 0.0, \"plus_error\": 67.9, \"minus_error\": -111.0, \"error\": 89.4}, {\"income\": \"$400k - $449k\", \"marital\": \"Divorced/Widowed\", \"noisy_count\": -71.5, \"true_count\": 0.0, \"plus_error\": 17.9, \"minus_error\": -160.9, \"error\": 89.4}, {\"income\": \"$400k - $449k\", \"marital\": \"Never Married\", \"noisy_count\": 26.9, \"true_count\": 0.0, \"plus_error\": 116.4, \"minus_error\": -62.5, \"error\": 89.4}, {\"income\": \"$450k - $499k\", \"marital\": \"Married\", \"noisy_count\": -17.1, \"true_count\": 1.0, \"plus_error\": 11.3, \"minus_error\": -45.5, \"error\": 28.4}, {\"income\": \"$450k - $499k\", \"marital\": \"Absent\", \"noisy_count\": -70.2, \"true_count\": 0.0, \"plus_error\": -41.8, \"minus_error\": -98.6, \"error\": 28.4}, {\"income\": \"$450k - $499k\", \"marital\": \"Separated\", \"noisy_count\": 2.5, \"true_count\": 0.0, \"plus_error\": 30.9, \"minus_error\": -25.9, \"error\": 28.4}, {\"income\": \"$450k - $499k\", \"marital\": \"Widowed\", \"noisy_count\": 10.1, \"true_count\": 0.0, \"plus_error\": 38.5, \"minus_error\": -18.3, \"error\": 28.4}, {\"income\": \"$450k - $499k\", \"marital\": \"Divorced\", \"noisy_count\": -4.7, \"true_count\": 0.0, \"plus_error\": 23.7, \"minus_error\": -33.1, \"error\": 28.4}, {\"income\": \"$450k - $499k\", \"marital\": \"Divorced/Widowed\", \"noisy_count\": 6.8, \"true_count\": 0.0, \"plus_error\": 35.2, \"minus_error\": -21.6, \"error\": 28.4}, {\"income\": \"$450k - $499k\", \"marital\": \"Never Married\", \"noisy_count\": -8.7, \"true_count\": 0.0, \"plus_error\": 19.7, \"minus_error\": -37.1, \"error\": 28.4}]}}, {\"mode\": \"vega-lite\"});\n",
       "</script>"
      ],
      "text/plain": [
       "alt.HConcatChart(...)"
      ]
     },
     "metadata": {},
     "output_type": "display_data"
    },
    {
     "data": {
      "application/vnd.jupyter.widget-view+json": {
       "model_id": "1db5956f439241d4ad9fd8bc67f06dea",
       "version_major": 2,
       "version_minor": 0
      },
      "text/plain": [
       "VBox(children=(VBox(children=(Textarea(value='', description='Answer:', layout=Layout(height='50px', width='50…"
      ]
     },
     "metadata": {},
     "output_type": "display_data"
    },
    {
     "data": {
      "application/vnd.jupyter.widget-view+json": {
       "model_id": "a016dd17ee4a43b39d7604f98784dbb9",
       "version_major": 2,
       "version_minor": 0
      },
      "text/plain": [
       "Button(layout=Layout(height='5px', width='99%'), style=ButtonStyle(button_color='black'))"
      ]
     },
     "metadata": {},
     "output_type": "display_data"
    },
    {
     "data": {
      "application/vnd.jupyter.widget-view+json": {
       "model_id": "880fae711f054442a4c4d5b00f96c6eb",
       "version_major": 2,
       "version_minor": 0
      },
      "text/plain": [
       "HBox(children=(HTML(value=\"<b>Question 4/6: Choose the top 3 age groups that have marital status: 'Never Marri…"
      ]
     },
     "metadata": {},
     "output_type": "display_data"
    },
    {
     "data": {
      "application/vnd.jupyter.widget-view+json": {
       "model_id": "e0ff18eb859d468ba2a4a0a54e82e290",
       "version_major": 2,
       "version_minor": 0
      },
      "text/plain": [
       "HBox(children=(HTML(value='<b>Number of Remeasures are Used So Far</b>', placeholder=''), FloatProgress(value=…"
      ]
     },
     "metadata": {},
     "output_type": "display_data"
    },
    {
     "data": {
      "text/html": [
       "\n",
       "<div id=\"altair-viz-2e1a965737cd4a6eb13a8e537c5037f2\"></div>\n",
       "<script type=\"text/javascript\">\n",
       "  var VEGA_DEBUG = (typeof VEGA_DEBUG == \"undefined\") ? {} : VEGA_DEBUG;\n",
       "  (function(spec, embedOpt){\n",
       "    let outputDiv = document.currentScript.previousElementSibling;\n",
       "    if (outputDiv.id !== \"altair-viz-2e1a965737cd4a6eb13a8e537c5037f2\") {\n",
       "      outputDiv = document.getElementById(\"altair-viz-2e1a965737cd4a6eb13a8e537c5037f2\");\n",
       "    }\n",
       "    const paths = {\n",
       "      \"vega\": \"https://cdn.jsdelivr.net/npm//vega@5?noext\",\n",
       "      \"vega-lib\": \"https://cdn.jsdelivr.net/npm//vega-lib?noext\",\n",
       "      \"vega-lite\": \"https://cdn.jsdelivr.net/npm//vega-lite@4.17.0?noext\",\n",
       "      \"vega-embed\": \"https://cdn.jsdelivr.net/npm//vega-embed@6?noext\",\n",
       "    };\n",
       "\n",
       "    function maybeLoadScript(lib, version) {\n",
       "      var key = `${lib.replace(\"-\", \"\")}_version`;\n",
       "      return (VEGA_DEBUG[key] == version) ?\n",
       "        Promise.resolve(paths[lib]) :\n",
       "        new Promise(function(resolve, reject) {\n",
       "          var s = document.createElement('script');\n",
       "          document.getElementsByTagName(\"head\")[0].appendChild(s);\n",
       "          s.async = true;\n",
       "          s.onload = () => {\n",
       "            VEGA_DEBUG[key] = version;\n",
       "            return resolve(paths[lib]);\n",
       "          };\n",
       "          s.onerror = () => reject(`Error loading script: ${paths[lib]}`);\n",
       "          s.src = paths[lib];\n",
       "        });\n",
       "    }\n",
       "\n",
       "    function showError(err) {\n",
       "      outputDiv.innerHTML = `<div class=\"error\" style=\"color:red;\">${err}</div>`;\n",
       "      throw err;\n",
       "    }\n",
       "\n",
       "    function displayChart(vegaEmbed) {\n",
       "      vegaEmbed(outputDiv, spec, embedOpt)\n",
       "        .catch(err => showError(`Javascript Error: ${err.message}<br>This usually means there's a typo in your chart specification. See the javascript console for the full traceback.`));\n",
       "    }\n",
       "\n",
       "    if(typeof define === \"function\" && define.amd) {\n",
       "      requirejs.config({paths});\n",
       "      require([\"vega-embed\"], displayChart, err => showError(`Error loading script: ${err.message}`));\n",
       "    } else {\n",
       "      maybeLoadScript(\"vega\", \"5\")\n",
       "        .then(() => maybeLoadScript(\"vega-lite\", \"4.17.0\"))\n",
       "        .then(() => maybeLoadScript(\"vega-embed\", \"6\"))\n",
       "        .catch(showError)\n",
       "        .then(() => displayChart(vegaEmbed));\n",
       "    }\n",
       "  })({\"config\": {\"view\": {\"continuousWidth\": 400, \"continuousHeight\": 300}, \"axis\": {\"labelFontSize\": 11, \"titleFontSize\": 15}, \"axisBottom\": {\"labelAngle\": 60}}, \"hconcat\": [{\"layer\": [{\"mark\": \"bar\", \"encoding\": {\"color\": {\"value\": \"transparent\"}, \"tooltip\": [{\"aggregate\": \"sum\", \"field\": \"noisy_count\", \"title\": \"noisy count\", \"type\": \"quantitative\"}, {\"aggregate\": \"sum\", \"field\": \"error\", \"title\": \"error\", \"type\": \"quantitative\"}], \"x\": {\"field\": \"age\", \"sort\": null, \"title\": \"Age\", \"type\": \"ordinal\"}}, \"height\": 300, \"selection\": {\"selector055\": {\"type\": \"interval\", \"encodings\": [\"x\"]}}, \"transform\": [{\"filter\": {\"selection\": \"selector056\"}}], \"width\": 450}, {\"mark\": {\"type\": \"bar\", \"color\": \"#4C7FFF\", \"opacity\": 0.7}, \"encoding\": {\"x\": {\"field\": \"age\", \"sort\": null, \"title\": \"Age\", \"type\": \"ordinal\"}, \"y\": {\"aggregate\": \"sum\", \"field\": \"noisy_count\", \"type\": \"quantitative\"}}, \"transform\": [{\"filter\": {\"selection\": \"selector056\"}}]}, {\"mark\": {\"type\": \"tick\", \"color\": \"black\", \"width\": 0}, \"encoding\": {\"x\": {\"field\": \"age\", \"sort\": null, \"title\": \"Age\", \"type\": \"ordinal\"}, \"y\": {\"aggregate\": \"sum\", \"field\": \"plus_error\", \"type\": \"quantitative\"}}, \"transform\": [{\"filter\": {\"selection\": \"selector056\"}}]}, {\"mark\": {\"type\": \"tick\", \"color\": \"black\", \"width\": 0}, \"encoding\": {\"x\": {\"field\": \"age\", \"sort\": null, \"title\": \"Age\", \"type\": \"ordinal\"}, \"y\": {\"aggregate\": \"sum\", \"field\": \"minus_error\", \"type\": \"quantitative\"}}, \"transform\": [{\"filter\": {\"selection\": \"selector056\"}}]}, {\"mark\": {\"type\": \"point\", \"color\": \"black\"}, \"encoding\": {\"x\": {\"field\": \"age\", \"sort\": null, \"title\": \"Age\", \"type\": \"ordinal\"}, \"y\": {\"aggregate\": \"sum\", \"field\": \"noisy_count\", \"title\": \"Noisy Count\", \"type\": \"quantitative\"}}, \"transform\": [{\"filter\": {\"selection\": \"selector056\"}}]}, {\"mark\": {\"type\": \"rule\", \"size\": 2}, \"encoding\": {\"x\": {\"field\": \"age\", \"sort\": null, \"title\": \"Age\", \"type\": \"ordinal\"}, \"y\": {\"aggregate\": \"sum\", \"field\": \"plus_error\", \"title\": \"\", \"type\": \"quantitative\"}, \"y2\": {\"aggregate\": \"sum\", \"field\": \"minus_error\", \"title\": \"\"}}, \"transform\": [{\"filter\": {\"selection\": \"selector056\"}}]}]}, {\"layer\": [{\"mark\": \"bar\", \"encoding\": {\"color\": {\"value\": \"transparent\"}, \"tooltip\": [{\"aggregate\": \"sum\", \"field\": \"noisy_count\", \"title\": \"noisy count\", \"type\": \"quantitative\"}, {\"aggregate\": \"sum\", \"field\": \"error\", \"title\": \"error\", \"type\": \"quantitative\"}], \"x\": {\"field\": \"marital\", \"sort\": null, \"title\": \"Marital\", \"type\": \"ordinal\"}}, \"height\": 300, \"selection\": {\"selector056\": {\"type\": \"interval\", \"encodings\": [\"x\"]}}, \"transform\": [{\"filter\": {\"selection\": \"selector055\"}}], \"width\": 450}, {\"mark\": {\"type\": \"bar\", \"color\": \"#4C7FFF\", \"opacity\": 0.7}, \"encoding\": {\"x\": {\"field\": \"marital\", \"sort\": null, \"title\": \"Marital\", \"type\": \"ordinal\"}, \"y\": {\"aggregate\": \"sum\", \"field\": \"noisy_count\", \"type\": \"quantitative\"}}, \"transform\": [{\"filter\": {\"selection\": \"selector055\"}}]}, {\"mark\": {\"type\": \"tick\", \"color\": \"black\", \"width\": 0}, \"encoding\": {\"x\": {\"field\": \"marital\", \"sort\": null, \"title\": \"Marital\", \"type\": \"ordinal\"}, \"y\": {\"aggregate\": \"sum\", \"field\": \"plus_error\", \"type\": \"quantitative\"}}, \"transform\": [{\"filter\": {\"selection\": \"selector055\"}}]}, {\"mark\": {\"type\": \"tick\", \"color\": \"black\", \"width\": 0}, \"encoding\": {\"x\": {\"field\": \"marital\", \"sort\": null, \"title\": \"Marital\", \"type\": \"ordinal\"}, \"y\": {\"aggregate\": \"sum\", \"field\": \"minus_error\", \"type\": \"quantitative\"}}, \"transform\": [{\"filter\": {\"selection\": \"selector055\"}}]}, {\"mark\": {\"type\": \"point\", \"color\": \"black\"}, \"encoding\": {\"x\": {\"field\": \"marital\", \"sort\": null, \"title\": \"Marital\", \"type\": \"ordinal\"}, \"y\": {\"aggregate\": \"sum\", \"field\": \"noisy_count\", \"title\": \"Noisy Count\", \"type\": \"quantitative\"}}, \"transform\": [{\"filter\": {\"selection\": \"selector055\"}}]}, {\"mark\": {\"type\": \"rule\", \"size\": 2}, \"encoding\": {\"x\": {\"field\": \"marital\", \"sort\": null, \"title\": \"Marital\", \"type\": \"ordinal\"}, \"y\": {\"aggregate\": \"sum\", \"field\": \"plus_error\", \"title\": \"\", \"type\": \"quantitative\"}, \"y2\": {\"aggregate\": \"sum\", \"field\": \"minus_error\", \"title\": \"\"}}, \"transform\": [{\"filter\": {\"selection\": \"selector055\"}}]}]}], \"data\": {\"name\": \"data-72b1fa728c27f24a331c0f89fed45bd6\"}, \"$schema\": \"https://vega.github.io/schema/vega-lite/v4.17.0.json\", \"datasets\": {\"data-72b1fa728c27f24a331c0f89fed45bd6\": [{\"age\": \"15-24\", \"marital\": \"Married\", \"noisy_count\": 231.7, \"true_count\": 295.0, \"plus_error\": 321.2, \"minus_error\": 142.3, \"error\": 89.4}, {\"age\": \"15-24\", \"marital\": \"Absent\", \"noisy_count\": 127.4, \"true_count\": 13.0, \"plus_error\": 216.9, \"minus_error\": 38.0, \"error\": 89.4}, {\"age\": \"15-24\", \"marital\": \"Separated\", \"noisy_count\": 52.6, \"true_count\": 18.0, \"plus_error\": 142.1, \"minus_error\": -36.8, \"error\": 89.4}, {\"age\": \"15-24\", \"marital\": \"Widowed\", \"noisy_count\": -135.7, \"true_count\": 2.0, \"plus_error\": -46.3, \"minus_error\": -225.1, \"error\": 89.4}, {\"age\": \"15-24\", \"marital\": \"Divorced\", \"noisy_count\": 27.9, \"true_count\": 22.0, \"plus_error\": 117.3, \"minus_error\": -61.6, \"error\": 89.4}, {\"age\": \"15-24\", \"marital\": \"Divorced/Widowed\", \"noisy_count\": 41.3, \"true_count\": 16.0, \"plus_error\": 130.8, \"minus_error\": -48.1, \"error\": 89.4}, {\"age\": \"15-24\", \"marital\": \"Never Married\", \"noisy_count\": 1158.7, \"true_count\": 1190.0, \"plus_error\": 1248.2, \"minus_error\": 1069.3, \"error\": 89.4}, {\"age\": \"25-34\", \"marital\": \"Married\", \"noisy_count\": 2869.1, \"true_count\": 2764.0, \"plus_error\": 2958.5, \"minus_error\": 2779.6, \"error\": 89.4}, {\"age\": \"25-34\", \"marital\": \"Absent\", \"noisy_count\": 162.1, \"true_count\": 33.0, \"plus_error\": 251.5, \"minus_error\": 72.7, \"error\": 89.4}, {\"age\": \"25-34\", \"marital\": \"Separated\", \"noisy_count\": 19.3, \"true_count\": 77.0, \"plus_error\": 108.7, \"minus_error\": -70.2, \"error\": 89.4}, {\"age\": \"25-34\", \"marital\": \"Widowed\", \"noisy_count\": -13.7, \"true_count\": 11.0, \"plus_error\": 75.7, \"minus_error\": -103.1, \"error\": 89.4}, {\"age\": \"25-34\", \"marital\": \"Divorced\", \"noisy_count\": 304.2, \"true_count\": 372.0, \"plus_error\": 393.6, \"minus_error\": 214.7, \"error\": 89.4}, {\"age\": \"25-34\", \"marital\": \"Divorced/Widowed\", \"noisy_count\": 243.4, \"true_count\": 189.0, \"plus_error\": 332.9, \"minus_error\": 154.0, \"error\": 89.4}, {\"age\": \"25-34\", \"marital\": \"Never Married\", \"noisy_count\": 2665.1, \"true_count\": 2691.0, \"plus_error\": 2754.6, \"minus_error\": 2575.7, \"error\": 89.4}, {\"age\": \"35-44\", \"marital\": \"Married\", \"noisy_count\": 4238.1, \"true_count\": 4273.0, \"plus_error\": 4269.1, \"minus_error\": 4207.1, \"error\": 31.0}, {\"age\": \"35-44\", \"marital\": \"Absent\", \"noisy_count\": 49.4, \"true_count\": 31.0, \"plus_error\": 80.4, \"minus_error\": 18.4, \"error\": 31.0}, {\"age\": \"35-44\", \"marital\": \"Separated\", \"noisy_count\": 99.4, \"true_count\": 96.0, \"plus_error\": 130.4, \"minus_error\": 68.4, \"error\": 31.0}, {\"age\": \"35-44\", \"marital\": \"Widowed\", \"noisy_count\": 49.3, \"true_count\": 57.0, \"plus_error\": 80.3, \"minus_error\": 18.3, \"error\": 31.0}, {\"age\": \"35-44\", \"marital\": \"Divorced\", \"noisy_count\": 897.5, \"true_count\": 905.0, \"plus_error\": 928.5, \"minus_error\": 866.5, \"error\": 31.0}, {\"age\": \"35-44\", \"marital\": \"Divorced/Widowed\", \"noisy_count\": 258.5, \"true_count\": 286.0, \"plus_error\": 289.5, \"minus_error\": 227.5, \"error\": 31.0}, {\"age\": \"35-44\", \"marital\": \"Never Married\", \"noisy_count\": 1674.2, \"true_count\": 1684.0, \"plus_error\": 1705.2, \"minus_error\": 1643.2, \"error\": 31.0}, {\"age\": \"45-54\", \"marital\": \"Married\", \"noisy_count\": 5544.8, \"true_count\": 5589.0, \"plus_error\": 5634.3, \"minus_error\": 5455.4, \"error\": 89.4}, {\"age\": \"45-54\", \"marital\": \"Absent\", \"noisy_count\": -9.2, \"true_count\": 27.0, \"plus_error\": 80.3, \"minus_error\": -98.6, \"error\": 89.4}, {\"age\": \"45-54\", \"marital\": \"Separated\", \"noisy_count\": 171.1, \"true_count\": 156.0, \"plus_error\": 260.6, \"minus_error\": 81.7, \"error\": 89.4}, {\"age\": \"45-54\", \"marital\": \"Widowed\", \"noisy_count\": 99.7, \"true_count\": 143.0, \"plus_error\": 189.1, \"minus_error\": 10.2, \"error\": 89.4}, {\"age\": \"45-54\", \"marital\": \"Divorced\", \"noisy_count\": 1763.9, \"true_count\": 1715.0, \"plus_error\": 1853.3, \"minus_error\": 1674.4, \"error\": 89.4}, {\"age\": \"45-54\", \"marital\": \"Divorced/Widowed\", \"noisy_count\": 338.3, \"true_count\": 379.0, \"plus_error\": 427.7, \"minus_error\": 248.9, \"error\": 89.4}, {\"age\": \"45-54\", \"marital\": \"Never Married\", \"noisy_count\": 1030.9, \"true_count\": 1324.0, \"plus_error\": 1120.3, \"minus_error\": 941.4, \"error\": 89.4}, {\"age\": \"55-64\", \"marital\": \"Married\", \"noisy_count\": 4515.5, \"true_count\": 4513.0, \"plus_error\": 4604.9, \"minus_error\": 4426.0, \"error\": 89.4}, {\"age\": \"55-64\", \"marital\": \"Absent\", \"noisy_count\": 90.7, \"true_count\": 10.0, \"plus_error\": 180.1, \"minus_error\": 1.2, \"error\": 89.4}, {\"age\": \"55-64\", \"marital\": \"Separated\", \"noisy_count\": -51.0, \"true_count\": 106.0, \"plus_error\": 38.4, \"minus_error\": -140.5, \"error\": 89.4}, {\"age\": \"55-64\", \"marital\": \"Widowed\", \"noisy_count\": 207.3, \"true_count\": 210.0, \"plus_error\": 296.7, \"minus_error\": 117.8, \"error\": 89.4}, {\"age\": \"55-64\", \"marital\": \"Divorced\", \"noisy_count\": 1439.6, \"true_count\": 1509.0, \"plus_error\": 1529.0, \"minus_error\": 1350.1, \"error\": 89.4}, {\"age\": \"55-64\", \"marital\": \"Divorced/Widowed\", \"noisy_count\": 290.2, \"true_count\": 241.0, \"plus_error\": 379.7, \"minus_error\": 200.8, \"error\": 89.4}, {\"age\": \"55-64\", \"marital\": \"Never Married\", \"noisy_count\": 705.4, \"true_count\": 730.0, \"plus_error\": 794.9, \"minus_error\": 616.0, \"error\": 89.4}, {\"age\": \"65-74\", \"marital\": \"Married\", \"noisy_count\": 3594.8, \"true_count\": 3666.0, \"plus_error\": 3684.2, \"minus_error\": 3505.3, \"error\": 89.4}, {\"age\": \"65-74\", \"marital\": \"Absent\", \"noisy_count\": -213.0, \"true_count\": 1.0, \"plus_error\": -123.6, \"minus_error\": -302.4, \"error\": 89.4}, {\"age\": \"65-74\", \"marital\": \"Separated\", \"noisy_count\": 72.1, \"true_count\": 84.0, \"plus_error\": 161.5, \"minus_error\": -17.4, \"error\": 89.4}, {\"age\": \"65-74\", \"marital\": \"Widowed\", \"noisy_count\": 475.0, \"true_count\": 406.0, \"plus_error\": 564.4, \"minus_error\": 385.5, \"error\": 89.4}, {\"age\": \"65-74\", \"marital\": \"Divorced\", \"noisy_count\": 1074.6, \"true_count\": 1161.0, \"plus_error\": 1164.0, \"minus_error\": 985.1, \"error\": 89.4}, {\"age\": \"65-74\", \"marital\": \"Divorced/Widowed\", \"noisy_count\": 121.0, \"true_count\": 150.0, \"plus_error\": 210.4, \"minus_error\": 31.5, \"error\": 89.4}, {\"age\": \"65-74\", \"marital\": \"Never Married\", \"noisy_count\": 442.7, \"true_count\": 399.0, \"plus_error\": 532.1, \"minus_error\": 353.3, \"error\": 89.4}, {\"age\": \"75-84\", \"marital\": \"Married\", \"noisy_count\": 2325.1, \"true_count\": 2360.0, \"plus_error\": 2353.9, \"minus_error\": 2296.3, \"error\": 28.8}, {\"age\": \"75-84\", \"marital\": \"Absent\", \"noisy_count\": 31.8, \"true_count\": 2.0, \"plus_error\": 60.6, \"minus_error\": 3.0, \"error\": 28.8}, {\"age\": \"75-84\", \"marital\": \"Separated\", \"noisy_count\": 69.6, \"true_count\": 56.0, \"plus_error\": 98.4, \"minus_error\": 40.9, \"error\": 28.8}, {\"age\": \"75-84\", \"marital\": \"Widowed\", \"noisy_count\": 667.7, \"true_count\": 638.0, \"plus_error\": 696.5, \"minus_error\": 638.9, \"error\": 28.8}, {\"age\": \"75-84\", \"marital\": \"Divorced\", \"noisy_count\": 585.1, \"true_count\": 592.0, \"plus_error\": 613.9, \"minus_error\": 556.4, \"error\": 28.8}, {\"age\": \"75-84\", \"marital\": \"Divorced/Widowed\", \"noisy_count\": 81.7, \"true_count\": 72.0, \"plus_error\": 110.5, \"minus_error\": 52.9, \"error\": 28.8}, {\"age\": \"75-84\", \"marital\": \"Never Married\", \"noisy_count\": 188.7, \"true_count\": 189.0, \"plus_error\": 217.4, \"minus_error\": 159.9, \"error\": 28.8}, {\"age\": \"85-94\", \"marital\": \"Married\", \"noisy_count\": 2151.1, \"true_count\": 2152.0, \"plus_error\": 2181.9, \"minus_error\": 2120.3, \"error\": 30.8}, {\"age\": \"85-94\", \"marital\": \"Absent\", \"noisy_count\": 26.9, \"true_count\": 0.0, \"plus_error\": 57.7, \"minus_error\": -4.0, \"error\": 30.8}, {\"age\": \"85-94\", \"marital\": \"Separated\", \"noisy_count\": 23.1, \"true_count\": 52.0, \"plus_error\": 53.9, \"minus_error\": -7.7, \"error\": 30.8}, {\"age\": \"85-94\", \"marital\": \"Widowed\", \"noisy_count\": 1252.1, \"true_count\": 1211.0, \"plus_error\": 1282.9, \"minus_error\": 1221.2, \"error\": 30.8}, {\"age\": \"85-94\", \"marital\": \"Divorced\", \"noisy_count\": 371.4, \"true_count\": 390.0, \"plus_error\": 402.2, \"minus_error\": 340.6, \"error\": 30.8}, {\"age\": \"85-94\", \"marital\": \"Divorced/Widowed\", \"noisy_count\": 70.6, \"true_count\": 50.0, \"plus_error\": 101.4, \"minus_error\": 39.8, \"error\": 30.8}, {\"age\": \"85-94\", \"marital\": \"Never Married\", \"noisy_count\": 46.2, \"true_count\": 182.0, \"plus_error\": 77.0, \"minus_error\": 15.4, \"error\": 30.8}, {\"age\": \"95-104\", \"marital\": \"Married\", \"noisy_count\": 1075.8, \"true_count\": 1055.0, \"plus_error\": 1165.2, \"minus_error\": 986.3, \"error\": 89.4}, {\"age\": \"95-104\", \"marital\": \"Absent\", \"noisy_count\": 178.0, \"true_count\": 0.0, \"plus_error\": 267.4, \"minus_error\": 88.5, \"error\": 89.4}, {\"age\": \"95-104\", \"marital\": \"Separated\", \"noisy_count\": 4.6, \"true_count\": 41.0, \"plus_error\": 94.1, \"minus_error\": -84.8, \"error\": 89.4}, {\"age\": \"95-104\", \"marital\": \"Widowed\", \"noisy_count\": 1212.1, \"true_count\": 1174.0, \"plus_error\": 1301.6, \"minus_error\": 1122.7, \"error\": 89.4}, {\"age\": \"95-104\", \"marital\": \"Divorced\", \"noisy_count\": 144.4, \"true_count\": 140.0, \"plus_error\": 233.8, \"minus_error\": 54.9, \"error\": 89.4}, {\"age\": \"95-104\", \"marital\": \"Divorced/Widowed\", \"noisy_count\": 98.9, \"true_count\": 16.0, \"plus_error\": 188.3, \"minus_error\": 9.4, \"error\": 89.4}, {\"age\": \"95-104\", \"marital\": \"Never Married\", \"noisy_count\": 192.6, \"true_count\": 119.0, \"plus_error\": 282.0, \"minus_error\": 103.1, \"error\": 89.4}, {\"age\": \"105-114\", \"marital\": \"Married\", \"noisy_count\": 443.6, \"true_count\": 398.0, \"plus_error\": 472.2, \"minus_error\": 414.9, \"error\": 28.6}, {\"age\": \"105-114\", \"marital\": \"Absent\", \"noisy_count\": 43.5, \"true_count\": 0.0, \"plus_error\": 72.1, \"minus_error\": 14.8, \"error\": 28.6}, {\"age\": \"105-114\", \"marital\": \"Separated\", \"noisy_count\": 29.9, \"true_count\": 25.0, \"plus_error\": 58.5, \"minus_error\": 1.2, \"error\": 28.6}, {\"age\": \"105-114\", \"marital\": \"Widowed\", \"noisy_count\": 861.1, \"true_count\": 881.0, \"plus_error\": 889.7, \"minus_error\": 832.5, \"error\": 28.6}, {\"age\": \"105-114\", \"marital\": \"Divorced\", \"noisy_count\": 3.8, \"true_count\": 44.0, \"plus_error\": 32.5, \"minus_error\": -24.8, \"error\": 28.6}, {\"age\": \"105-114\", \"marital\": \"Divorced/Widowed\", \"noisy_count\": 14.4, \"true_count\": 4.0, \"plus_error\": 43.1, \"minus_error\": -14.2, \"error\": 28.6}, {\"age\": \"105-114\", \"marital\": \"Never Married\", \"noisy_count\": 51.4, \"true_count\": 49.0, \"plus_error\": 80.1, \"minus_error\": 22.8, \"error\": 28.6}]}}, {\"mode\": \"vega-lite\"});\n",
       "</script>"
      ],
      "text/plain": [
       "alt.HConcatChart(...)"
      ]
     },
     "metadata": {},
     "output_type": "display_data"
    },
    {
     "data": {
      "application/vnd.jupyter.widget-view+json": {
       "model_id": "8ac6806086da4875bbcda241760c935d",
       "version_major": 2,
       "version_minor": 0
      },
      "text/plain": [
       "VBox(children=(VBox(children=(Textarea(value='', description='Answer:', layout=Layout(height='50px', width='50…"
      ]
     },
     "metadata": {},
     "output_type": "display_data"
    },
    {
     "data": {
      "application/vnd.jupyter.widget-view+json": {
       "model_id": "a016dd17ee4a43b39d7604f98784dbb9",
       "version_major": 2,
       "version_minor": 0
      },
      "text/plain": [
       "Button(layout=Layout(height='5px', width='99%'), style=ButtonStyle(button_color='black'))"
      ]
     },
     "metadata": {},
     "output_type": "display_data"
    },
    {
     "data": {
      "application/vnd.jupyter.widget-view+json": {
       "model_id": "15f05656f57d4374aca96c57c2a2c446",
       "version_major": 2,
       "version_minor": 0
      },
      "text/plain": [
       "HBox(children=(HTML(value='<b>Question 5/6: In the 100,000 to 199,000 income range, rank the top 3 races in te…"
      ]
     },
     "metadata": {},
     "output_type": "display_data"
    },
    {
     "data": {
      "application/vnd.jupyter.widget-view+json": {
       "model_id": "330a1145f269445bb41f79fd24291a85",
       "version_major": 2,
       "version_minor": 0
      },
      "text/plain": [
       "HBox(children=(HTML(value='<b>Number of Remeasures are Used So Far</b>', placeholder=''), FloatProgress(value=…"
      ]
     },
     "metadata": {},
     "output_type": "display_data"
    },
    {
     "data": {
      "text/html": [
       "\n",
       "<div id=\"altair-viz-4b71d707b21749abb48686b0391acff9\"></div>\n",
       "<script type=\"text/javascript\">\n",
       "  var VEGA_DEBUG = (typeof VEGA_DEBUG == \"undefined\") ? {} : VEGA_DEBUG;\n",
       "  (function(spec, embedOpt){\n",
       "    let outputDiv = document.currentScript.previousElementSibling;\n",
       "    if (outputDiv.id !== \"altair-viz-4b71d707b21749abb48686b0391acff9\") {\n",
       "      outputDiv = document.getElementById(\"altair-viz-4b71d707b21749abb48686b0391acff9\");\n",
       "    }\n",
       "    const paths = {\n",
       "      \"vega\": \"https://cdn.jsdelivr.net/npm//vega@5?noext\",\n",
       "      \"vega-lib\": \"https://cdn.jsdelivr.net/npm//vega-lib?noext\",\n",
       "      \"vega-lite\": \"https://cdn.jsdelivr.net/npm//vega-lite@4.17.0?noext\",\n",
       "      \"vega-embed\": \"https://cdn.jsdelivr.net/npm//vega-embed@6?noext\",\n",
       "    };\n",
       "\n",
       "    function maybeLoadScript(lib, version) {\n",
       "      var key = `${lib.replace(\"-\", \"\")}_version`;\n",
       "      return (VEGA_DEBUG[key] == version) ?\n",
       "        Promise.resolve(paths[lib]) :\n",
       "        new Promise(function(resolve, reject) {\n",
       "          var s = document.createElement('script');\n",
       "          document.getElementsByTagName(\"head\")[0].appendChild(s);\n",
       "          s.async = true;\n",
       "          s.onload = () => {\n",
       "            VEGA_DEBUG[key] = version;\n",
       "            return resolve(paths[lib]);\n",
       "          };\n",
       "          s.onerror = () => reject(`Error loading script: ${paths[lib]}`);\n",
       "          s.src = paths[lib];\n",
       "        });\n",
       "    }\n",
       "\n",
       "    function showError(err) {\n",
       "      outputDiv.innerHTML = `<div class=\"error\" style=\"color:red;\">${err}</div>`;\n",
       "      throw err;\n",
       "    }\n",
       "\n",
       "    function displayChart(vegaEmbed) {\n",
       "      vegaEmbed(outputDiv, spec, embedOpt)\n",
       "        .catch(err => showError(`Javascript Error: ${err.message}<br>This usually means there's a typo in your chart specification. See the javascript console for the full traceback.`));\n",
       "    }\n",
       "\n",
       "    if(typeof define === \"function\" && define.amd) {\n",
       "      requirejs.config({paths});\n",
       "      require([\"vega-embed\"], displayChart, err => showError(`Error loading script: ${err.message}`));\n",
       "    } else {\n",
       "      maybeLoadScript(\"vega\", \"5\")\n",
       "        .then(() => maybeLoadScript(\"vega-lite\", \"4.17.0\"))\n",
       "        .then(() => maybeLoadScript(\"vega-embed\", \"6\"))\n",
       "        .catch(showError)\n",
       "        .then(() => displayChart(vegaEmbed));\n",
       "    }\n",
       "  })({\"config\": {\"view\": {\"continuousWidth\": 400, \"continuousHeight\": 300}, \"axis\": {\"labelFontSize\": 11, \"titleFontSize\": 15}, \"axisBottom\": {\"labelAngle\": 60}}, \"hconcat\": [{\"layer\": [{\"mark\": \"bar\", \"encoding\": {\"color\": {\"value\": \"transparent\"}, \"tooltip\": [{\"aggregate\": \"sum\", \"field\": \"noisy_count\", \"title\": \"noisy count\", \"type\": \"quantitative\"}, {\"aggregate\": \"sum\", \"field\": \"error\", \"title\": \"error\", \"type\": \"quantitative\"}], \"x\": {\"field\": \"income\", \"sort\": null, \"title\": \"Income\", \"type\": \"ordinal\"}}, \"height\": 300, \"selection\": {\"selector057\": {\"type\": \"interval\", \"encodings\": [\"x\"]}}, \"transform\": [{\"filter\": {\"selection\": \"selector058\"}}], \"width\": 450}, {\"mark\": {\"type\": \"bar\", \"color\": \"#4C7FFF\", \"opacity\": 0.7}, \"encoding\": {\"x\": {\"field\": \"income\", \"sort\": null, \"title\": \"Income\", \"type\": \"ordinal\"}, \"y\": {\"aggregate\": \"sum\", \"field\": \"noisy_count\", \"type\": \"quantitative\"}}, \"transform\": [{\"filter\": {\"selection\": \"selector058\"}}]}, {\"mark\": {\"type\": \"tick\", \"color\": \"black\", \"width\": 0}, \"encoding\": {\"x\": {\"field\": \"income\", \"sort\": null, \"title\": \"Income\", \"type\": \"ordinal\"}, \"y\": {\"aggregate\": \"sum\", \"field\": \"plus_error\", \"type\": \"quantitative\"}}, \"transform\": [{\"filter\": {\"selection\": \"selector058\"}}]}, {\"mark\": {\"type\": \"tick\", \"color\": \"black\", \"width\": 0}, \"encoding\": {\"x\": {\"field\": \"income\", \"sort\": null, \"title\": \"Income\", \"type\": \"ordinal\"}, \"y\": {\"aggregate\": \"sum\", \"field\": \"minus_error\", \"type\": \"quantitative\"}}, \"transform\": [{\"filter\": {\"selection\": \"selector058\"}}]}, {\"mark\": {\"type\": \"point\", \"color\": \"black\"}, \"encoding\": {\"x\": {\"field\": \"income\", \"sort\": null, \"title\": \"Income\", \"type\": \"ordinal\"}, \"y\": {\"aggregate\": \"sum\", \"field\": \"noisy_count\", \"title\": \"Noisy Count\", \"type\": \"quantitative\"}}, \"transform\": [{\"filter\": {\"selection\": \"selector058\"}}]}, {\"mark\": {\"type\": \"rule\", \"size\": 2}, \"encoding\": {\"x\": {\"field\": \"income\", \"sort\": null, \"title\": \"Income\", \"type\": \"ordinal\"}, \"y\": {\"aggregate\": \"sum\", \"field\": \"plus_error\", \"title\": \"\", \"type\": \"quantitative\"}, \"y2\": {\"aggregate\": \"sum\", \"field\": \"minus_error\", \"title\": \"\"}}, \"transform\": [{\"filter\": {\"selection\": \"selector058\"}}]}]}, {\"layer\": [{\"mark\": \"bar\", \"encoding\": {\"color\": {\"value\": \"transparent\"}, \"tooltip\": [{\"aggregate\": \"sum\", \"field\": \"noisy_count\", \"title\": \"noisy count\", \"type\": \"quantitative\"}, {\"aggregate\": \"sum\", \"field\": \"error\", \"title\": \"error\", \"type\": \"quantitative\"}], \"x\": {\"field\": \"race\", \"sort\": null, \"title\": \"Race\", \"type\": \"ordinal\"}}, \"height\": 300, \"selection\": {\"selector058\": {\"type\": \"interval\", \"encodings\": [\"x\"]}}, \"transform\": [{\"filter\": {\"selection\": \"selector057\"}}], \"width\": 450}, {\"mark\": {\"type\": \"bar\", \"color\": \"#4C7FFF\", \"opacity\": 0.7}, \"encoding\": {\"x\": {\"field\": \"race\", \"sort\": null, \"title\": \"Race\", \"type\": \"ordinal\"}, \"y\": {\"aggregate\": \"sum\", \"field\": \"noisy_count\", \"type\": \"quantitative\"}}, \"transform\": [{\"filter\": {\"selection\": \"selector057\"}}]}, {\"mark\": {\"type\": \"tick\", \"color\": \"black\", \"width\": 0}, \"encoding\": {\"x\": {\"field\": \"race\", \"sort\": null, \"title\": \"Race\", \"type\": \"ordinal\"}, \"y\": {\"aggregate\": \"sum\", \"field\": \"plus_error\", \"type\": \"quantitative\"}}, \"transform\": [{\"filter\": {\"selection\": \"selector057\"}}]}, {\"mark\": {\"type\": \"tick\", \"color\": \"black\", \"width\": 0}, \"encoding\": {\"x\": {\"field\": \"race\", \"sort\": null, \"title\": \"Race\", \"type\": \"ordinal\"}, \"y\": {\"aggregate\": \"sum\", \"field\": \"minus_error\", \"type\": \"quantitative\"}}, \"transform\": [{\"filter\": {\"selection\": \"selector057\"}}]}, {\"mark\": {\"type\": \"point\", \"color\": \"black\"}, \"encoding\": {\"x\": {\"field\": \"race\", \"sort\": null, \"title\": \"Race\", \"type\": \"ordinal\"}, \"y\": {\"aggregate\": \"sum\", \"field\": \"noisy_count\", \"title\": \"Noisy Count\", \"type\": \"quantitative\"}}, \"transform\": [{\"filter\": {\"selection\": \"selector057\"}}]}, {\"mark\": {\"type\": \"rule\", \"size\": 2}, \"encoding\": {\"x\": {\"field\": \"race\", \"sort\": null, \"title\": \"Race\", \"type\": \"ordinal\"}, \"y\": {\"aggregate\": \"sum\", \"field\": \"plus_error\", \"title\": \"\", \"type\": \"quantitative\"}, \"y2\": {\"aggregate\": \"sum\", \"field\": \"minus_error\", \"title\": \"\"}}, \"transform\": [{\"filter\": {\"selection\": \"selector057\"}}]}]}], \"data\": {\"name\": \"data-d7f99d54dd4b5b7433c74acf62c78023\"}, \"$schema\": \"https://vega.github.io/schema/vega-lite/v4.17.0.json\", \"datasets\": {\"data-d7f99d54dd4b5b7433c74acf62c78023\": [{\"income\": \"$0k - $49k\", \"race\": \"White\", \"noisy_count\": 33184.1, \"true_count\": 33156.0, \"plus_error\": 33217.1, \"minus_error\": 33151.1, \"error\": 33.0}, {\"income\": \"$0k - $49k\", \"race\": \"Black\", \"noisy_count\": 4338.2, \"true_count\": 4314.0, \"plus_error\": 4371.2, \"minus_error\": 4305.2, \"error\": 33.0}, {\"income\": \"$0k - $49k\", \"race\": \"American Indian\", \"noisy_count\": 476.4, \"true_count\": 489.0, \"plus_error\": 509.4, \"minus_error\": 443.5, \"error\": 33.0}, {\"income\": \"$0k - $49k\", \"race\": \"Chinese\", \"noisy_count\": 985.1, \"true_count\": 992.0, \"plus_error\": 1018.1, \"minus_error\": 952.2, \"error\": 33.0}, {\"income\": \"$50k - $99k\", \"race\": \"White\", \"noisy_count\": 7537.9, \"true_count\": 7572.0, \"plus_error\": 7627.4, \"minus_error\": 7448.5, \"error\": 89.4}, {\"income\": \"$50k - $99k\", \"race\": \"Black\", \"noisy_count\": 353.3, \"true_count\": 547.0, \"plus_error\": 442.7, \"minus_error\": 263.8, \"error\": 89.4}, {\"income\": \"$50k - $99k\", \"race\": \"American Indian\", \"noisy_count\": 11.3, \"true_count\": 64.0, \"plus_error\": 100.7, \"minus_error\": -78.1, \"error\": 89.4}, {\"income\": \"$50k - $99k\", \"race\": \"Chinese\", \"noisy_count\": 423.8, \"true_count\": 344.0, \"plus_error\": 513.2, \"minus_error\": 334.3, \"error\": 89.4}, {\"income\": \"$100k - $149k\", \"race\": \"White\", \"noisy_count\": 1019.9, \"true_count\": 1036.0, \"plus_error\": 1109.4, \"minus_error\": 930.5, \"error\": 89.4}, {\"income\": \"$100k - $149k\", \"race\": \"Black\", \"noisy_count\": 68.5, \"true_count\": 45.0, \"plus_error\": 158.0, \"minus_error\": -20.9, \"error\": 89.4}, {\"income\": \"$100k - $149k\", \"race\": \"American Indian\", \"noisy_count\": 87.0, \"true_count\": 4.0, \"plus_error\": 176.4, \"minus_error\": -2.5, \"error\": 89.4}, {\"income\": \"$100k - $149k\", \"race\": \"Chinese\", \"noisy_count\": -93.6, \"true_count\": 64.0, \"plus_error\": -4.2, \"minus_error\": -183.1, \"error\": 89.4}, {\"income\": \"$150k - $199k\", \"race\": \"White\", \"noisy_count\": 546.9, \"true_count\": 559.0, \"plus_error\": 636.3, \"minus_error\": 457.4, \"error\": 89.4}, {\"income\": \"$150k - $199k\", \"race\": \"Black\", \"noisy_count\": -103.0, \"true_count\": 15.0, \"plus_error\": -13.6, \"minus_error\": -192.4, \"error\": 89.4}, {\"income\": \"$150k - $199k\", \"race\": \"American Indian\", \"noisy_count\": 89.2, \"true_count\": 1.0, \"plus_error\": 178.6, \"minus_error\": -0.3, \"error\": 89.4}, {\"income\": \"$150k - $199k\", \"race\": \"Chinese\", \"noisy_count\": 113.1, \"true_count\": 34.0, \"plus_error\": 202.5, \"minus_error\": 23.7, \"error\": 89.4}, {\"income\": \"$200k - $249k\", \"race\": \"White\", \"noisy_count\": 30.5, \"true_count\": 122.0, \"plus_error\": 119.9, \"minus_error\": -58.9, \"error\": 89.4}, {\"income\": \"$200k - $249k\", \"race\": \"Black\", \"noisy_count\": -63.3, \"true_count\": 7.0, \"plus_error\": 26.2, \"minus_error\": -152.7, \"error\": 89.4}, {\"income\": \"$200k - $249k\", \"race\": \"American Indian\", \"noisy_count\": -205.5, \"true_count\": 3.0, \"plus_error\": -116.0, \"minus_error\": -294.9, \"error\": 89.4}, {\"income\": \"$200k - $249k\", \"race\": \"Chinese\", \"noisy_count\": -50.7, \"true_count\": 5.0, \"plus_error\": 38.7, \"minus_error\": -140.2, \"error\": 89.4}, {\"income\": \"$250k - $299k\", \"race\": \"White\", \"noisy_count\": 33.2, \"true_count\": 43.0, \"plus_error\": 61.8, \"minus_error\": 4.6, \"error\": 28.6}, {\"income\": \"$250k - $299k\", \"race\": \"Black\", \"noisy_count\": -26.2, \"true_count\": 0.0, \"plus_error\": 2.4, \"minus_error\": -54.8, \"error\": 28.6}, {\"income\": \"$250k - $299k\", \"race\": \"American Indian\", \"noisy_count\": -75.9, \"true_count\": 0.0, \"plus_error\": -47.3, \"minus_error\": -104.5, \"error\": 28.6}, {\"income\": \"$250k - $299k\", \"race\": \"Chinese\", \"noisy_count\": -5.5, \"true_count\": 3.0, \"plus_error\": 23.1, \"minus_error\": -34.1, \"error\": 28.6}, {\"income\": \"$300k - $349k\", \"race\": \"White\", \"noisy_count\": -25.7, \"true_count\": 11.0, \"plus_error\": 63.7, \"minus_error\": -115.2, \"error\": 89.4}, {\"income\": \"$300k - $349k\", \"race\": \"Black\", \"noisy_count\": 111.4, \"true_count\": 1.0, \"plus_error\": 200.8, \"minus_error\": 21.9, \"error\": 89.4}, {\"income\": \"$300k - $349k\", \"race\": \"American Indian\", \"noisy_count\": 90.5, \"true_count\": 0.0, \"plus_error\": 179.9, \"minus_error\": 1.1, \"error\": 89.4}, {\"income\": \"$300k - $349k\", \"race\": \"Chinese\", \"noisy_count\": -20.7, \"true_count\": 0.0, \"plus_error\": 68.8, \"minus_error\": -110.1, \"error\": 89.4}, {\"income\": \"$350k - $399k\", \"race\": \"White\", \"noisy_count\": 47.0, \"true_count\": 2.0, \"plus_error\": 136.4, \"minus_error\": -42.5, \"error\": 89.4}, {\"income\": \"$350k - $399k\", \"race\": \"Black\", \"noisy_count\": 45.6, \"true_count\": 0.0, \"plus_error\": 135.0, \"minus_error\": -43.9, \"error\": 89.4}, {\"income\": \"$350k - $399k\", \"race\": \"American Indian\", \"noisy_count\": 91.1, \"true_count\": 0.0, \"plus_error\": 180.6, \"minus_error\": 1.7, \"error\": 89.4}, {\"income\": \"$350k - $399k\", \"race\": \"Chinese\", \"noisy_count\": 27.2, \"true_count\": 0.0, \"plus_error\": 116.7, \"minus_error\": -62.2, \"error\": 89.4}, {\"income\": \"$400k - $449k\", \"race\": \"White\", \"noisy_count\": -5.0, \"true_count\": 2.0, \"plus_error\": 34.6, \"minus_error\": -44.5, \"error\": 39.6}, {\"income\": \"$400k - $449k\", \"race\": \"Black\", \"noisy_count\": 53.5, \"true_count\": 0.0, \"plus_error\": 93.1, \"minus_error\": 14.0, \"error\": 39.6}, {\"income\": \"$400k - $449k\", \"race\": \"American Indian\", \"noisy_count\": -12.2, \"true_count\": 0.0, \"plus_error\": 27.4, \"minus_error\": -51.7, \"error\": 39.6}, {\"income\": \"$400k - $449k\", \"race\": \"Chinese\", \"noisy_count\": 22.5, \"true_count\": 0.0, \"plus_error\": 62.0, \"minus_error\": -17.1, \"error\": 39.6}, {\"income\": \"$450k - $499k\", \"race\": \"White\", \"noisy_count\": 12.2, \"true_count\": 1.0, \"plus_error\": 40.9, \"minus_error\": -16.5, \"error\": 28.7}, {\"income\": \"$450k - $499k\", \"race\": \"Black\", \"noisy_count\": 3.7, \"true_count\": 0.0, \"plus_error\": 32.4, \"minus_error\": -25.0, \"error\": 28.7}, {\"income\": \"$450k - $499k\", \"race\": \"American Indian\", \"noisy_count\": -0.6, \"true_count\": 0.0, \"plus_error\": 28.2, \"minus_error\": -29.3, \"error\": 28.7}, {\"income\": \"$450k - $499k\", \"race\": \"Chinese\", \"noisy_count\": 61.8, \"true_count\": 0.0, \"plus_error\": 90.5, \"minus_error\": 33.1, \"error\": 28.7}]}}, {\"mode\": \"vega-lite\"});\n",
       "</script>"
      ],
      "text/plain": [
       "alt.HConcatChart(...)"
      ]
     },
     "metadata": {},
     "output_type": "display_data"
    },
    {
     "data": {
      "application/vnd.jupyter.widget-view+json": {
       "model_id": "cdc0c5144d4949e9a501b9058156f214",
       "version_major": 2,
       "version_minor": 0
      },
      "text/plain": [
       "VBox(children=(VBox(children=(Textarea(value='', description='Answer:', layout=Layout(height='50px', width='50…"
      ]
     },
     "metadata": {},
     "output_type": "display_data"
    },
    {
     "data": {
      "application/vnd.jupyter.widget-view+json": {
       "model_id": "a016dd17ee4a43b39d7604f98784dbb9",
       "version_major": 2,
       "version_minor": 0
      },
      "text/plain": [
       "Button(layout=Layout(height='5px', width='99%'), style=ButtonStyle(button_color='black'))"
      ]
     },
     "metadata": {},
     "output_type": "display_data"
    },
    {
     "data": {
      "application/vnd.jupyter.widget-view+json": {
       "model_id": "de238d2a202740aaa1af4c9cf81919d2",
       "version_major": 2,
       "version_minor": 0
      },
      "text/plain": [
       "HBox(children=(HTML(value='<b>Question 6/6: What is the second most common race in the 45-54 age group?</b>', …"
      ]
     },
     "metadata": {},
     "output_type": "display_data"
    },
    {
     "data": {
      "application/vnd.jupyter.widget-view+json": {
       "model_id": "5ff305e79b944d9cbd0970ff388f98e6",
       "version_major": 2,
       "version_minor": 0
      },
      "text/plain": [
       "HBox(children=(HTML(value='<b>Number of Remeasures are Used So Far</b>', placeholder=''), FloatProgress(value=…"
      ]
     },
     "metadata": {},
     "output_type": "display_data"
    },
    {
     "data": {
      "text/html": [
       "\n",
       "<div id=\"altair-viz-68ac5ccca5234fccb755d8459f5827a5\"></div>\n",
       "<script type=\"text/javascript\">\n",
       "  var VEGA_DEBUG = (typeof VEGA_DEBUG == \"undefined\") ? {} : VEGA_DEBUG;\n",
       "  (function(spec, embedOpt){\n",
       "    let outputDiv = document.currentScript.previousElementSibling;\n",
       "    if (outputDiv.id !== \"altair-viz-68ac5ccca5234fccb755d8459f5827a5\") {\n",
       "      outputDiv = document.getElementById(\"altair-viz-68ac5ccca5234fccb755d8459f5827a5\");\n",
       "    }\n",
       "    const paths = {\n",
       "      \"vega\": \"https://cdn.jsdelivr.net/npm//vega@5?noext\",\n",
       "      \"vega-lib\": \"https://cdn.jsdelivr.net/npm//vega-lib?noext\",\n",
       "      \"vega-lite\": \"https://cdn.jsdelivr.net/npm//vega-lite@4.17.0?noext\",\n",
       "      \"vega-embed\": \"https://cdn.jsdelivr.net/npm//vega-embed@6?noext\",\n",
       "    };\n",
       "\n",
       "    function maybeLoadScript(lib, version) {\n",
       "      var key = `${lib.replace(\"-\", \"\")}_version`;\n",
       "      return (VEGA_DEBUG[key] == version) ?\n",
       "        Promise.resolve(paths[lib]) :\n",
       "        new Promise(function(resolve, reject) {\n",
       "          var s = document.createElement('script');\n",
       "          document.getElementsByTagName(\"head\")[0].appendChild(s);\n",
       "          s.async = true;\n",
       "          s.onload = () => {\n",
       "            VEGA_DEBUG[key] = version;\n",
       "            return resolve(paths[lib]);\n",
       "          };\n",
       "          s.onerror = () => reject(`Error loading script: ${paths[lib]}`);\n",
       "          s.src = paths[lib];\n",
       "        });\n",
       "    }\n",
       "\n",
       "    function showError(err) {\n",
       "      outputDiv.innerHTML = `<div class=\"error\" style=\"color:red;\">${err}</div>`;\n",
       "      throw err;\n",
       "    }\n",
       "\n",
       "    function displayChart(vegaEmbed) {\n",
       "      vegaEmbed(outputDiv, spec, embedOpt)\n",
       "        .catch(err => showError(`Javascript Error: ${err.message}<br>This usually means there's a typo in your chart specification. See the javascript console for the full traceback.`));\n",
       "    }\n",
       "\n",
       "    if(typeof define === \"function\" && define.amd) {\n",
       "      requirejs.config({paths});\n",
       "      require([\"vega-embed\"], displayChart, err => showError(`Error loading script: ${err.message}`));\n",
       "    } else {\n",
       "      maybeLoadScript(\"vega\", \"5\")\n",
       "        .then(() => maybeLoadScript(\"vega-lite\", \"4.17.0\"))\n",
       "        .then(() => maybeLoadScript(\"vega-embed\", \"6\"))\n",
       "        .catch(showError)\n",
       "        .then(() => displayChart(vegaEmbed));\n",
       "    }\n",
       "  })({\"config\": {\"view\": {\"continuousWidth\": 400, \"continuousHeight\": 300}, \"axis\": {\"labelFontSize\": 11, \"titleFontSize\": 15}, \"axisBottom\": {\"labelAngle\": 60}}, \"hconcat\": [{\"layer\": [{\"mark\": \"bar\", \"encoding\": {\"color\": {\"value\": \"transparent\"}, \"tooltip\": [{\"aggregate\": \"sum\", \"field\": \"noisy_count\", \"title\": \"noisy count\", \"type\": \"quantitative\"}, {\"aggregate\": \"sum\", \"field\": \"error\", \"title\": \"error\", \"type\": \"quantitative\"}], \"x\": {\"field\": \"age\", \"sort\": null, \"title\": \"Age\", \"type\": \"ordinal\"}}, \"height\": 300, \"selection\": {\"selector059\": {\"type\": \"interval\", \"encodings\": [\"x\"]}}, \"transform\": [{\"filter\": {\"selection\": \"selector060\"}}], \"width\": 450}, {\"mark\": {\"type\": \"bar\", \"color\": \"#4C7FFF\", \"opacity\": 0.7}, \"encoding\": {\"x\": {\"field\": \"age\", \"sort\": null, \"title\": \"Age\", \"type\": \"ordinal\"}, \"y\": {\"aggregate\": \"sum\", \"field\": \"noisy_count\", \"type\": \"quantitative\"}}, \"transform\": [{\"filter\": {\"selection\": \"selector060\"}}]}, {\"mark\": {\"type\": \"tick\", \"color\": \"black\", \"width\": 0}, \"encoding\": {\"x\": {\"field\": \"age\", \"sort\": null, \"title\": \"Age\", \"type\": \"ordinal\"}, \"y\": {\"aggregate\": \"sum\", \"field\": \"plus_error\", \"type\": \"quantitative\"}}, \"transform\": [{\"filter\": {\"selection\": \"selector060\"}}]}, {\"mark\": {\"type\": \"tick\", \"color\": \"black\", \"width\": 0}, \"encoding\": {\"x\": {\"field\": \"age\", \"sort\": null, \"title\": \"Age\", \"type\": \"ordinal\"}, \"y\": {\"aggregate\": \"sum\", \"field\": \"minus_error\", \"type\": \"quantitative\"}}, \"transform\": [{\"filter\": {\"selection\": \"selector060\"}}]}, {\"mark\": {\"type\": \"point\", \"color\": \"black\"}, \"encoding\": {\"x\": {\"field\": \"age\", \"sort\": null, \"title\": \"Age\", \"type\": \"ordinal\"}, \"y\": {\"aggregate\": \"sum\", \"field\": \"noisy_count\", \"title\": \"Noisy Count\", \"type\": \"quantitative\"}}, \"transform\": [{\"filter\": {\"selection\": \"selector060\"}}]}, {\"mark\": {\"type\": \"rule\", \"size\": 2}, \"encoding\": {\"x\": {\"field\": \"age\", \"sort\": null, \"title\": \"Age\", \"type\": \"ordinal\"}, \"y\": {\"aggregate\": \"sum\", \"field\": \"plus_error\", \"title\": \"\", \"type\": \"quantitative\"}, \"y2\": {\"aggregate\": \"sum\", \"field\": \"minus_error\", \"title\": \"\"}}, \"transform\": [{\"filter\": {\"selection\": \"selector060\"}}]}]}, {\"layer\": [{\"mark\": \"bar\", \"encoding\": {\"color\": {\"value\": \"transparent\"}, \"tooltip\": [{\"aggregate\": \"sum\", \"field\": \"noisy_count\", \"title\": \"noisy count\", \"type\": \"quantitative\"}, {\"aggregate\": \"sum\", \"field\": \"error\", \"title\": \"error\", \"type\": \"quantitative\"}], \"x\": {\"field\": \"race\", \"sort\": null, \"title\": \"Race\", \"type\": \"ordinal\"}}, \"height\": 300, \"selection\": {\"selector060\": {\"type\": \"interval\", \"encodings\": [\"x\"]}}, \"transform\": [{\"filter\": {\"selection\": \"selector059\"}}], \"width\": 450}, {\"mark\": {\"type\": \"bar\", \"color\": \"#4C7FFF\", \"opacity\": 0.7}, \"encoding\": {\"x\": {\"field\": \"race\", \"sort\": null, \"title\": \"Race\", \"type\": \"ordinal\"}, \"y\": {\"aggregate\": \"sum\", \"field\": \"noisy_count\", \"type\": \"quantitative\"}}, \"transform\": [{\"filter\": {\"selection\": \"selector059\"}}]}, {\"mark\": {\"type\": \"tick\", \"color\": \"black\", \"width\": 0}, \"encoding\": {\"x\": {\"field\": \"race\", \"sort\": null, \"title\": \"Race\", \"type\": \"ordinal\"}, \"y\": {\"aggregate\": \"sum\", \"field\": \"plus_error\", \"type\": \"quantitative\"}}, \"transform\": [{\"filter\": {\"selection\": \"selector059\"}}]}, {\"mark\": {\"type\": \"tick\", \"color\": \"black\", \"width\": 0}, \"encoding\": {\"x\": {\"field\": \"race\", \"sort\": null, \"title\": \"Race\", \"type\": \"ordinal\"}, \"y\": {\"aggregate\": \"sum\", \"field\": \"minus_error\", \"type\": \"quantitative\"}}, \"transform\": [{\"filter\": {\"selection\": \"selector059\"}}]}, {\"mark\": {\"type\": \"point\", \"color\": \"black\"}, \"encoding\": {\"x\": {\"field\": \"race\", \"sort\": null, \"title\": \"Race\", \"type\": \"ordinal\"}, \"y\": {\"aggregate\": \"sum\", \"field\": \"noisy_count\", \"title\": \"Noisy Count\", \"type\": \"quantitative\"}}, \"transform\": [{\"filter\": {\"selection\": \"selector059\"}}]}, {\"mark\": {\"type\": \"rule\", \"size\": 2}, \"encoding\": {\"x\": {\"field\": \"race\", \"sort\": null, \"title\": \"Race\", \"type\": \"ordinal\"}, \"y\": {\"aggregate\": \"sum\", \"field\": \"plus_error\", \"title\": \"\", \"type\": \"quantitative\"}, \"y2\": {\"aggregate\": \"sum\", \"field\": \"minus_error\", \"title\": \"\"}}, \"transform\": [{\"filter\": {\"selection\": \"selector059\"}}]}]}], \"data\": {\"name\": \"data-a534efb0e8cabbcbcce2ebb79a8d56cd\"}, \"$schema\": \"https://vega.github.io/schema/vega-lite/v4.17.0.json\", \"datasets\": {\"data-a534efb0e8cabbcbcce2ebb79a8d56cd\": [{\"age\": \"15-24\", \"race\": \"White\", \"noisy_count\": 1187.7, \"true_count\": 1271.0, \"plus_error\": 1277.1, \"minus_error\": 1098.2, \"error\": 89.4}, {\"age\": \"15-24\", \"race\": \"Black\", \"noisy_count\": 131.1, \"true_count\": 192.0, \"plus_error\": 220.5, \"minus_error\": 41.6, \"error\": 89.4}, {\"age\": \"15-24\", \"race\": \"American Indian\", \"noisy_count\": -15.2, \"true_count\": 31.0, \"plus_error\": 74.2, \"minus_error\": -104.7, \"error\": 89.4}, {\"age\": \"15-24\", \"race\": \"Chinese\", \"noisy_count\": 84.1, \"true_count\": 62.0, \"plus_error\": 173.5, \"minus_error\": -5.4, \"error\": 89.4}, {\"age\": \"25-34\", \"race\": \"White\", \"noisy_count\": 5147.3, \"true_count\": 5110.0, \"plus_error\": 5176.4, \"minus_error\": 5118.3, \"error\": 29.1}, {\"age\": \"25-34\", \"race\": \"Black\", \"noisy_count\": 693.4, \"true_count\": 700.0, \"plus_error\": 722.5, \"minus_error\": 664.3, \"error\": 29.1}, {\"age\": \"25-34\", \"race\": \"American Indian\", \"noisy_count\": 75.9, \"true_count\": 83.0, \"plus_error\": 105.0, \"minus_error\": 46.9, \"error\": 29.1}, {\"age\": \"25-34\", \"race\": \"Chinese\", \"noisy_count\": 209.3, \"true_count\": 244.0, \"plus_error\": 238.3, \"minus_error\": 180.2, \"error\": 29.1}, {\"age\": \"35-44\", \"race\": \"White\", \"noisy_count\": 6186.3, \"true_count\": 6181.0, \"plus_error\": 6275.8, \"minus_error\": 6096.9, \"error\": 89.4}, {\"age\": \"35-44\", \"race\": \"Black\", \"noisy_count\": 992.2, \"true_count\": 793.0, \"plus_error\": 1081.6, \"minus_error\": 902.8, \"error\": 89.4}, {\"age\": \"35-44\", \"race\": \"American Indian\", \"noisy_count\": 177.8, \"true_count\": 93.0, \"plus_error\": 267.2, \"minus_error\": 88.3, \"error\": 89.4}, {\"age\": \"35-44\", \"race\": \"Chinese\", \"noisy_count\": 334.7, \"true_count\": 265.0, \"plus_error\": 424.2, \"minus_error\": 245.3, \"error\": 89.4}, {\"age\": \"45-54\", \"race\": \"White\", \"noisy_count\": 7978.8, \"true_count\": 7988.0, \"plus_error\": 8068.3, \"minus_error\": 7889.4, \"error\": 89.4}, {\"age\": \"45-54\", \"race\": \"Black\", \"noisy_count\": 800.7, \"true_count\": 967.0, \"plus_error\": 890.2, \"minus_error\": 711.3, \"error\": 89.4}, {\"age\": \"45-54\", \"race\": \"American Indian\", \"noisy_count\": 74.5, \"true_count\": 112.0, \"plus_error\": 164.0, \"minus_error\": -14.9, \"error\": 89.4}, {\"age\": \"45-54\", \"race\": \"Chinese\", \"noisy_count\": 178.0, \"true_count\": 266.0, \"plus_error\": 267.5, \"minus_error\": 88.6, \"error\": 89.4}, {\"age\": \"55-64\", \"race\": \"White\", \"noisy_count\": 6430.3, \"true_count\": 6252.0, \"plus_error\": 6519.8, \"minus_error\": 6340.9, \"error\": 89.4}, {\"age\": \"55-64\", \"race\": \"Black\", \"noisy_count\": 854.7, \"true_count\": 744.0, \"plus_error\": 944.1, \"minus_error\": 765.2, \"error\": 89.4}, {\"age\": \"55-64\", \"race\": \"American Indian\", \"noisy_count\": 38.9, \"true_count\": 90.0, \"plus_error\": 128.3, \"minus_error\": -50.6, \"error\": 89.4}, {\"age\": \"55-64\", \"race\": \"Chinese\", \"noisy_count\": 234.7, \"true_count\": 233.0, \"plus_error\": 324.2, \"minus_error\": 145.3, \"error\": 89.4}, {\"age\": \"65-74\", \"race\": \"White\", \"noisy_count\": 5051.6, \"true_count\": 5121.0, \"plus_error\": 5141.1, \"minus_error\": 4962.2, \"error\": 89.4}, {\"age\": \"65-74\", \"race\": \"Black\", \"noisy_count\": 538.0, \"true_count\": 525.0, \"plus_error\": 627.4, \"minus_error\": 448.5, \"error\": 89.4}, {\"age\": \"65-74\", \"race\": \"American Indian\", \"noisy_count\": 98.9, \"true_count\": 68.0, \"plus_error\": 188.3, \"minus_error\": 9.4, \"error\": 89.4}, {\"age\": \"65-74\", \"race\": \"Chinese\", \"noisy_count\": 102.5, \"true_count\": 153.0, \"plus_error\": 192.0, \"minus_error\": 13.1, \"error\": 89.4}, {\"age\": \"75-84\", \"race\": \"White\", \"noisy_count\": 3555.9, \"true_count\": 3396.0, \"plus_error\": 3645.3, \"minus_error\": 3466.4, \"error\": 89.4}, {\"age\": \"75-84\", \"race\": \"Black\", \"noisy_count\": 475.4, \"true_count\": 387.0, \"plus_error\": 564.8, \"minus_error\": 385.9, \"error\": 89.4}, {\"age\": \"75-84\", \"race\": \"American Indian\", \"noisy_count\": -36.8, \"true_count\": 33.0, \"plus_error\": 52.6, \"minus_error\": -126.3, \"error\": 89.4}, {\"age\": \"75-84\", \"race\": \"Chinese\", \"noisy_count\": -57.3, \"true_count\": 93.0, \"plus_error\": 32.2, \"minus_error\": -146.7, \"error\": 89.4}, {\"age\": \"85-94\", \"race\": \"White\", \"noisy_count\": 3625.2, \"true_count\": 3579.0, \"plus_error\": 3714.7, \"minus_error\": 3535.8, \"error\": 89.4}, {\"age\": \"85-94\", \"race\": \"Black\", \"noisy_count\": 312.4, \"true_count\": 351.0, \"plus_error\": 401.9, \"minus_error\": 223.0, \"error\": 89.4}, {\"age\": \"85-94\", \"race\": \"American Indian\", \"noisy_count\": 135.3, \"true_count\": 33.0, \"plus_error\": 224.7, \"minus_error\": 45.9, \"error\": 89.4}, {\"age\": \"85-94\", \"race\": \"Chinese\", \"noisy_count\": 4.9, \"true_count\": 74.0, \"plus_error\": 94.4, \"minus_error\": -84.5, \"error\": 89.4}, {\"age\": \"95-104\", \"race\": \"White\", \"noisy_count\": 2391.3, \"true_count\": 2336.0, \"plus_error\": 2420.5, \"minus_error\": 2362.1, \"error\": 29.2}, {\"age\": \"95-104\", \"race\": \"Black\", \"noisy_count\": 151.6, \"true_count\": 160.0, \"plus_error\": 180.8, \"minus_error\": 122.4, \"error\": 29.2}, {\"age\": \"95-104\", \"race\": \"American Indian\", \"noisy_count\": 4.6, \"true_count\": 14.0, \"plus_error\": 33.9, \"minus_error\": -24.6, \"error\": 29.2}, {\"age\": \"95-104\", \"race\": \"Chinese\", \"noisy_count\": 32.0, \"true_count\": 35.0, \"plus_error\": 61.2, \"minus_error\": 2.8, \"error\": 29.2}, {\"age\": \"105-114\", \"race\": \"White\", \"noisy_count\": 1347.9, \"true_count\": 1270.0, \"plus_error\": 1437.3, \"minus_error\": 1258.4, \"error\": 89.4}, {\"age\": \"105-114\", \"race\": \"Black\", \"noisy_count\": 281.6, \"true_count\": 110.0, \"plus_error\": 371.0, \"minus_error\": 192.1, \"error\": 89.4}, {\"age\": \"105-114\", \"race\": \"American Indian\", \"noisy_count\": -105.5, \"true_count\": 4.0, \"plus_error\": -16.1, \"minus_error\": -195.0, \"error\": 89.4}, {\"age\": \"105-114\", \"race\": \"Chinese\", \"noisy_count\": 15.0, \"true_count\": 17.0, \"plus_error\": 104.4, \"minus_error\": -74.4, \"error\": 89.4}]}}, {\"mode\": \"vega-lite\"});\n",
       "</script>"
      ],
      "text/plain": [
       "alt.HConcatChart(...)"
      ]
     },
     "metadata": {},
     "output_type": "display_data"
    },
    {
     "data": {
      "application/vnd.jupyter.widget-view+json": {
       "model_id": "8b2473096b19404ab20eb50fb08cf06a",
       "version_major": 2,
       "version_minor": 0
      },
      "text/plain": [
       "VBox(children=(VBox(children=(Textarea(value='', description='Answer:', layout=Layout(height='50px', width='50…"
      ]
     },
     "metadata": {},
     "output_type": "display_data"
    },
    {
     "data": {
      "application/vnd.jupyter.widget-view+json": {
       "model_id": "a016dd17ee4a43b39d7604f98784dbb9",
       "version_major": 2,
       "version_minor": 0
      },
      "text/plain": [
       "Button(layout=Layout(height='5px', width='99%'), style=ButtonStyle(button_color='black'))"
      ]
     },
     "metadata": {},
     "output_type": "display_data"
    },
    {
     "data": {
      "application/vnd.jupyter.widget-view+json": {
       "model_id": "8886527068004edf8c353183c7641ec4",
       "version_major": 2,
       "version_minor": 0
      },
      "text/plain": [
       "HBox(children=(Button(disabled=True, layout=Layout(height='30px', width='40%'), style=ButtonStyle(button_color…"
      ]
     },
     "metadata": {},
     "output_type": "display_data"
    }
   ],
   "source": [
    "# display(bar_label)\n",
    "interface = widgets.VBox([gap_button, prompt, prompt_answer])\n",
    "display(interface)"
   ]
  }
 ],
 "metadata": {
  "kernelspec": {
   "display_name": "Python 3 (ipykernel)",
   "language": "python",
   "name": "python3"
  },
  "language_info": {
   "codemirror_mode": {
    "name": "ipython",
    "version": 3
   },
   "file_extension": ".py",
   "mimetype": "text/x-python",
   "name": "python",
   "nbconvert_exporter": "python",
   "pygments_lexer": "ipython3",
   "version": "3.9.12"
  }
 },
 "nbformat": 4,
 "nbformat_minor": 5
}
