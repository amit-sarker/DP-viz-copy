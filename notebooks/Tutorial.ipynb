{
 "cells": [
  {
   "cell_type": "code",
   "execution_count": 39,
   "id": "d9071880",
   "metadata": {
    "scrolled": true
   },
   "outputs": [
    {
     "data": {
      "application/javascript": [
       "IPython.OutputArea.prototype._should_scroll = function(lines) {\n",
       "    return false;\n",
       "}\n"
      ],
      "text/plain": [
       "<IPython.core.display.Javascript object>"
      ]
     },
     "metadata": {},
     "output_type": "display_data"
    }
   ],
   "source": [
    "%%javascript\n",
    "IPython.OutputArea.prototype._should_scroll = function(lines) {\n",
    "    return false;\n",
    "}"
   ]
  },
  {
   "cell_type": "code",
   "execution_count": 40,
   "id": "0edede79",
   "metadata": {},
   "outputs": [
    {
     "name": "stderr",
     "output_type": "stream",
     "text": [
      "/tmp/ipykernel_70381/218976982.py:16: DeprecationWarning: Importing display from IPython.core.display is deprecated since IPython 7.14, please import from IPython display\n",
      "  from IPython.core.display import display, HTML\n"
     ]
    },
    {
     "data": {
      "text/html": [
       "<style>.container { width:100% !important; }</style>"
      ],
      "text/plain": [
       "<IPython.core.display.HTML object>"
      ]
     },
     "metadata": {},
     "output_type": "display_data"
    },
    {
     "data": {
      "text/plain": [
       "DataTransformerRegistry.enable('default')"
      ]
     },
     "execution_count": 40,
     "metadata": {},
     "output_type": "execute_result"
    }
   ],
   "source": [
    "\n",
    "import sys\n",
    "\n",
    "import ipywidgets as widgets\n",
    "\n",
    "sys.path.append('../')\n",
    "sys.path.append('../src')\n",
    "\n",
    "import src.backend\n",
    "import src.workload_builder as builder\n",
    "from mbi import Domain\n",
    "import src.plots\n",
    "import altair as alt\n",
    "alt.renderers.enable('default')\n",
    "from IPython.display import display, clear_output\n",
    "\n",
    "from IPython.core.display import display, HTML\n",
    "display(HTML(\"<style>.container { width:100% !important; }</style>\"))\n",
    "\n",
    "\n",
    "alt.data_transformers.disable_max_rows()"
   ]
  },
  {
   "cell_type": "code",
   "execution_count": 41,
   "id": "e8caecaf",
   "metadata": {},
   "outputs": [],
   "source": [
    "data_path = '../data/CPS/CPS.csv'\n",
    "cps_domain = Domain(attrs=('age','income','marital','race'), shape=(100,100,7,4))\n",
    "questions = [\"Warm Up Question: Type 'Yes' if you are ready to begin!\",\n",
    "            \"Question 1/6: How many Chinese and American Indians have 'Widowed' as their marital status?\",\n",
    "            \"Question 2/6: How many people over the age of 65 have income between 100,000 and 149,000?\",\n",
    "            \"Question 3/6: What is the second most common marital status of people with income in the 100,000 to 199,000 range?\",\n",
    "            \"Question 4/6: Choose the top 3 age groups that have marital status: 'Never Married'?\",\n",
    "            \"Question 5/6: In the 100,000 to 199,000 income range, rank the top 3 races in terms of count from greatest to least.\",\n",
    "            \"Question 6/6: What is the second most common race in the 45-54 age group?\"]\n",
    "\n",
    "marital_race = {'marital':1, 'race':1}\n",
    "age_income = {'age':10, 'income':10}\n",
    "marital_income = {'income':10, 'marital':1}\n",
    "age_marital = {'age':10, 'marital':1}\n",
    "race_income = {'income':10, 'race':1}\n",
    "age_race = {'age':10, 'race':1}\n",
    "\n",
    "visualizations = [None, marital_race, age_income, marital_income, age_marital, race_income, age_race]\n",
    "prev_spec = None\n",
    "curr_spec = None\n",
    "epsilon_increments = [None,0.05,0.05,0.05,0.05,0.05,0.05,0.05]\n",
    "budget = 1.0\n",
    "max_tries = 10\n",
    "\n",
    "index = 0\n",
    "tries = 0\n",
    "back_end = None\n"
   ]
  },
  {
   "cell_type": "code",
   "execution_count": 42,
   "id": "f5ce151d",
   "metadata": {},
   "outputs": [
    {
     "data": {
      "text/plain": [
       "Domain(age: 100, income: 100, marital: 7, race: 4)"
      ]
     },
     "execution_count": 42,
     "metadata": {},
     "output_type": "execute_result"
    }
   ],
   "source": [
    "cps_domain"
   ]
  },
  {
   "cell_type": "markdown",
   "id": "b86f40a0",
   "metadata": {},
   "source": [
    "# Logging"
   ]
  },
  {
   "cell_type": "code",
   "execution_count": 43,
   "id": "bd5cd755",
   "metadata": {},
   "outputs": [],
   "source": [
    "import logging\n",
    "\n",
    "class OutputWidgetHandler(logging.Handler):\n",
    "    \"\"\" Custom logging handler sending logs to an output widget \"\"\"\n",
    "\n",
    "    def __init__(self, *args, **kwargs):\n",
    "        super(OutputWidgetHandler, self).__init__(*args, **kwargs)\n",
    "        layout = {\n",
    "            'width': '100%',\n",
    "            'height': '160px',\n",
    "            'border': '1px solid black'\n",
    "        }\n",
    "        self.out = widgets.Output(layout=layout)\n",
    "\n",
    "    def emit(self, record):\n",
    "        \"\"\" Overload of logging.Handler method \"\"\"\n",
    "        formatted_record = self.format(record)\n",
    "        new_output = {\n",
    "            'name': 'stdout',\n",
    "            'output_type': 'stream',\n",
    "            'text': formatted_record+'\\n'\n",
    "        }\n",
    "        self.out.outputs = (new_output, ) + self.out.outputs\n",
    "\n",
    "    def show_logs(self):\n",
    "        \"\"\" Show the logs \"\"\"\n",
    "        display(self.out)\n",
    "\n",
    "    def clear_logs(self):\n",
    "        \"\"\" Clear the current logs \"\"\"\n",
    "        self.out.clear_output()\n",
    "\n",
    "\n",
    "logger = logging.getLogger(__name__)\n",
    "handler = OutputWidgetHandler()\n",
    "handler.setFormatter(logging.Formatter('%(asctime)s  - [%(levelname)s] %(message)s'))\n",
    "logger.addHandler(handler)\n",
    "logger.setLevel(logging.INFO)"
   ]
  },
  {
   "cell_type": "code",
   "execution_count": 44,
   "id": "289aa384",
   "metadata": {},
   "outputs": [],
   "source": [
    "plot_output1 = widgets.Output()\n",
    "plot_output2 = widgets.Output()\n",
    "plot_output3 = widgets.Output()\n",
    "plot_output4 = widgets.Output()\n",
    "plot_output5 = widgets.Output()\n",
    "plot_output6 = widgets.Output()"
   ]
  },
  {
   "cell_type": "code",
   "execution_count": 45,
   "id": "80e0c988",
   "metadata": {},
   "outputs": [],
   "source": [
    "plot_output_rm1 = widgets.Output()\n",
    "plot_output_rm2 = widgets.Output()\n",
    "plot_output_rm3 = widgets.Output()\n",
    "plot_output_rm4 = widgets.Output()\n",
    "plot_output_rm5 = widgets.Output()\n",
    "plot_output_rm6 = widgets.Output()"
   ]
  },
  {
   "cell_type": "code",
   "execution_count": 46,
   "id": "cbf15dc1",
   "metadata": {},
   "outputs": [],
   "source": [
    "plot_output_after = widgets.Output()"
   ]
  },
  {
   "cell_type": "code",
   "execution_count": 47,
   "id": "9277ee65",
   "metadata": {},
   "outputs": [],
   "source": [
    "plot_output = widgets.Output()"
   ]
  },
  {
   "cell_type": "code",
   "execution_count": 48,
   "id": "86c43640",
   "metadata": {},
   "outputs": [],
   "source": [
    "# plot_output"
   ]
  },
  {
   "cell_type": "markdown",
   "id": "858a662d",
   "metadata": {},
   "source": [
    " ## Dropdown Boxes"
   ]
  },
  {
   "cell_type": "code",
   "execution_count": 49,
   "id": "8d82c70a",
   "metadata": {},
   "outputs": [],
   "source": [
    "columns = ['Age','Income','Marital Status']\n",
    "translate = {'Income': 'income', 'Marital Status': 'marital', 'Age': 'age', 'Race':'race'}"
   ]
  },
  {
   "cell_type": "code",
   "execution_count": null,
   "id": "f853c0d0",
   "metadata": {},
   "outputs": [],
   "source": []
  },
  {
   "cell_type": "markdown",
   "id": "1892fcb0",
   "metadata": {},
   "source": [
    "Text Boxes"
   ]
  },
  {
   "cell_type": "code",
   "execution_count": 50,
   "id": "f3fc5827",
   "metadata": {},
   "outputs": [],
   "source": [
    "import IPython\n",
    "from ipywidgets import Layout\n",
    "\n",
    "global index\n",
    "\n",
    "IPython.display.HTML('''<style>\n",
    ".mytext > select,.mytext > textarea   {\n",
    "    font-style: italic;\n",
    "    color: blue;\n",
    "    font-size: 30px;\n",
    "}\n",
    "</style>''')\n",
    "# w2=widgets.Textarea(value=\"Here it is\")\n",
    "# w2.add_class(\"mytext\")\n",
    "\n",
    "# prompt = widgets.Label(\n",
    "#     value= questions[0],\n",
    "#     placeholder='Type',\n",
    "#     font_weight='bold',\n",
    "#     # description=questions[0],\n",
    "#     # style = {'button_color': 'transparent', 'font_size': \"20px\"},\n",
    "#     disabled=True,\n",
    "#     layout=widgets.Layout(width='1000px', height='30px', font_size='200px')\n",
    "# )\n",
    "\n",
    "prompt = widgets.HTML(\n",
    "    value=\"<b>\" + questions[0] + \"</b>\",\n",
    "    placeholder='',\n",
    "    description='',\n",
    ")\n",
    "\n",
    "prompt2 = widgets.HTML(\n",
    "    value=\"<b>\" + questions[1] + \"</b>\",\n",
    "    placeholder='',\n",
    "    description='',\n",
    ")\n",
    "\n",
    "prompt3 = widgets.HTML(\n",
    "    value=\"<b>\" + questions[2] + \"</b>\",\n",
    "    placeholder='',\n",
    "    description='',\n",
    ")\n",
    "\n",
    "prompt4 = widgets.HTML(\n",
    "    value=\"<b>\" + questions[3] + \"</b>\",\n",
    "    placeholder='',\n",
    "    description='',\n",
    ")\n",
    "\n",
    "prompt5 = widgets.HTML(\n",
    "    value=\"<b>\" + questions[4] + \"</b>\",\n",
    "    placeholder='',\n",
    "    description='',\n",
    ")\n",
    "\n",
    "prompt6 = widgets.HTML(\n",
    "    value=\"<b>\" + questions[5] + \"</b>\",\n",
    "    placeholder='',\n",
    "    description='',\n",
    ")\n",
    "\n",
    "prompt7 = widgets.HTML(\n",
    "    value=\"<b>\" + questions[6] + \"</b>\",\n",
    "    placeholder='',\n",
    "    description='',\n",
    ")\n",
    "# prompt = widgets.Text(description=\"\", value=questions[0], disabled=True, layout=Layout(width='40%', height='30px'), style=dict(\n",
    "#     font_style='italic',\n",
    "#     font_size='20px',\n",
    "#     font_weight='bold',\n",
    "#     font_variant=\"small-caps\",\n",
    "#     text_color='red',\n",
    "#     text_decoration='underline'\n",
    "# ))\n",
    "\n",
    "# prompt2 = widgets.Button(description=questions[1], layout=Layout(width='55%', height='30px'), style=dict(\n",
    "#     font_style='italic',\n",
    "#     font_size='20px',\n",
    "#     font_weight='bold',\n",
    "#     font_variant=\"small-caps\",\n",
    "#     text_color='red',\n",
    "#     text_decoration='underline'\n",
    "# ))\n",
    "#\n",
    "# prompt3 = widgets.Button(description=questions[2], layout=Layout(width='55%', height='30px'), style=dict(\n",
    "#     font_style='italic',\n",
    "#     font_size='20px',\n",
    "#     font_weight='bold',\n",
    "#     font_variant=\"small-caps\",\n",
    "#     text_color='red',\n",
    "#     text_decoration='underline'\n",
    "# ))\n",
    "#\n",
    "# prompt4 = widgets.Button(description=questions[3], layout=Layout(width='55%', height='30px'), style=dict(\n",
    "#     font_style='italic',\n",
    "#     font_size='20px',\n",
    "#     font_weight='bold',\n",
    "#     font_variant=\"small-caps\",\n",
    "#     text_color='red',\n",
    "#     text_decoration='underline'\n",
    "# ))\n",
    "#\n",
    "# prompt5 = widgets.Button(description=questions[4], layout=Layout(width='55%', height='30px'), style=dict(\n",
    "#     font_style='italic',\n",
    "#     font_size='20px',\n",
    "#     font_weight='bold',\n",
    "#     font_variant=\"small-caps\",\n",
    "#     text_color='red',\n",
    "#     text_decoration='underline'\n",
    "# ))\n",
    "#\n",
    "# prompt6 = widgets.Button(description=questions[5], layout=Layout(width='55%', height='30px'), style=dict(\n",
    "#     font_style='italic',\n",
    "#     font_size='20px',\n",
    "#     font_weight='bold',\n",
    "#     font_variant=\"small-caps\",\n",
    "#     text_color='red',\n",
    "#     text_decoration='underline'\n",
    "# ))\n",
    "#\n",
    "# prompt7 = widgets.Button(description=questions[6], layout=Layout(width='55%', height='30px'), style=dict(\n",
    "#     font_style='italic',\n",
    "#     font_size='20px',\n",
    "#     font_weight='bold',\n",
    "#     font_variant=\"small-caps\",\n",
    "#     text_color='red',\n",
    "#     text_decoration='underline'\n",
    "# ))\n",
    "\n",
    "# finished_tries = widgets.Textarea(\n",
    "#     value=\"\",\n",
    "#     placeholder='Type',\n",
    "#     description='',\n",
    "#     disabled=True,\n",
    "#     layout=widgets.Layout(width='500px', height='30px') #500,30\n",
    "# )\n",
    "\n",
    "answer = widgets.Textarea(\n",
    "    value='',\n",
    "    placeholder='',\n",
    "    description='Answer:',\n",
    "    layout=widgets.Layout(width='300px', height='40px')\n",
    ")\n",
    "\n",
    "answer2 = widgets.Textarea(\n",
    "    value='',\n",
    "    placeholder='',\n",
    "    description='Answer:',\n",
    "    layout=widgets.Layout(width='500px', height='50px')\n",
    ")\n",
    "\n",
    "answer3 = widgets.Textarea(\n",
    "    value='',\n",
    "    placeholder='',\n",
    "    description='Answer:',\n",
    "    layout=widgets.Layout(width='500px', height='50px')\n",
    ")\n",
    "\n",
    "answer4 = widgets.Textarea(\n",
    "    value='',\n",
    "    placeholder='',\n",
    "    description='Answer:',\n",
    "    layout=widgets.Layout(width='500px', height='50px')\n",
    ")\n",
    "\n",
    "answer5 = widgets.Textarea(\n",
    "    value='',\n",
    "    placeholder='',\n",
    "    description='Answer:',\n",
    "    layout=widgets.Layout(width='500px', height='50px')\n",
    ")\n",
    "\n",
    "answer6 = widgets.Textarea(\n",
    "    value='',\n",
    "    placeholder='',\n",
    "    description='Answer:',\n",
    "    layout=widgets.Layout(width='500px', height='50px')\n",
    ")\n",
    "\n",
    "answer7 = widgets.Textarea(\n",
    "    value='',\n",
    "    placeholder='',\n",
    "    description='Answer:',\n",
    "    layout=widgets.Layout(width='500px', height='50px')\n",
    ")"
   ]
  },
  {
   "cell_type": "code",
   "execution_count": 51,
   "id": "e3d97086",
   "metadata": {},
   "outputs": [],
   "source": [
    "def make_plots(idd):\n",
    "    for i in range(len(questions) - 1):\n",
    "        if i == idd:\n",
    "            continue\n",
    "        # with plot_output_arr[i]:\n",
    "        column_names = list(visualizations[i+1].keys())\n",
    "        plot = src.plots.linked_hist(column_names[0], column_names[1], data=current_spec_arr[i].reset_index(column_names), display_true=False, history=False)\n",
    "        logger.info(plot)\n",
    "        # print(\"hhhhhhhhhhhhhhhhhhhhhhhhhhhhhhhhhhhhhhhhhhhhhh\")\n",
    "\n",
    "        bar_label = widgets.HBox([budget_spent, progress_bar, remeasure_arr[i]])\n",
    "        ques = widgets.HBox([prompt_arr[i+1]])\n",
    "        # prompt_answer = widgets.VBox([answer_arr[i+1], submit_btn], layout=box_layout)\n",
    "        prompt_answer = widgets.VBox([answer_arr[i+1]], layout=box_layout)\n",
    "        display(bar_label)\n",
    "        display(ques)\n",
    "\n",
    "        display(plot)\n",
    "        histogram_plots.append(widgets.VBox([plot_output_arr[i]]))\n",
    "        display(histogram_plots[i])\n",
    "        interface = widgets.VBox([prompt_answer])\n",
    "        display(interface)\n"
   ]
  },
  {
   "cell_type": "code",
   "execution_count": 52,
   "id": "5f10aa29",
   "metadata": {},
   "outputs": [],
   "source": [
    "plot_output_arr = [plot_output1, plot_output2, plot_output3, plot_output4, plot_output5, plot_output6]"
   ]
  },
  {
   "cell_type": "markdown",
   "id": "8bc9e0d1",
   "metadata": {},
   "source": [
    "## Buttons"
   ]
  },
  {
   "cell_type": "code",
   "execution_count": 53,
   "id": "24fdcf7d",
   "metadata": {},
   "outputs": [],
   "source": [
    "import copy\n",
    "import numpy as np\n",
    "from ipywidgets import Layout\n",
    "\n",
    "submit_btn = widgets.Button(description='Start')\n",
    "submit_btn.style.button_color = '#C6C6C6'\n",
    "# submit_btn_final = widgets.Button(description='Submit', layout=Layout(width='20%', height='50px'))\n",
    "submit_btn_final = widgets.Button(description='Submit All')\n",
    "submit_btn_final.style.button_color = '#C6C6C6'\n",
    "# make_it_better1 = widgets.Button(description='Remeasure Q1', button_style='warning')\n",
    "make_it_better1 = widgets.Button(description='Remeasure Q1')\n",
    "make_it_better2 = widgets.Button(description='Remeasure Q2')\n",
    "make_it_better3 = widgets.Button(description='Remeasure Q3')\n",
    "make_it_better4 = widgets.Button(description='Remeasure Q4')\n",
    "make_it_better5 = widgets.Button(description='Remeasure Q5')\n",
    "make_it_better6 = widgets.Button(description='Remeasure Q6')\n",
    "rm_button_arr = [make_it_better1, make_it_better2, make_it_better3, make_it_better4, make_it_better5, make_it_better6]\n",
    "\n",
    "separator = widgets.Button(description='', layout=Layout(width='99%', height='1px'))\n",
    "separator.style.button_color = 'black'\n",
    "for i in range(len(questions)-1):\n",
    "    rm_button_arr[i].style.button_color = '#C6C6C6'\n",
    "\n",
    "gap_button = widgets.Button(description='', layout=Layout(width='95%', height='50px'), disabled=True)\n",
    "gap_button.style.button_color = 'white'\n",
    "gap_button_Q = widgets.Button(description='', layout=Layout(width='95%', height='1px'), disabled=True)\n",
    "gap_button_Q.style.button_color = 'white'\n",
    "\n",
    "align_button = widgets.Button(description='', layout=Layout(width='40%', height='30px'), disabled=True)\n",
    "align_button.style.button_color = 'white'\n",
    "align_button_remeasure = widgets.Button(description='', layout=Layout(width='4%', height='1px'), disabled=True)\n",
    "align_button_remeasure.style.button_color = 'white'\n",
    "\n",
    "prompt_arr = [prompt, prompt2, prompt3, prompt4, prompt5, prompt6, prompt7]\n",
    "answer_arr = [answer, answer2, answer3, answer4, answer5, answer6, answer7]\n",
    "\n",
    "remeasure_arr = [make_it_better1, make_it_better2, make_it_better3, make_it_better4, make_it_better5, make_it_better6]\n",
    "\n",
    "plot_output_rm_arr = [plot_output_rm1, plot_output_rm2, plot_output_rm3, plot_output_rm4, plot_output_rm5, plot_output_rm6]\n",
    "\n",
    "progress_bar = widgets.FloatProgress(min=0.0, max=max_tries, layout=Layout(width='30%', height='30px'), bar_style='warning') # instantiate the bar\n",
    "# progress_bar.style.bar_color = '#8B4000'\n",
    "progress_bar.description = str(tries) + '/' + str(max_tries)\n",
    "# budget_spent = widgets.Label(value='Number of Remeasures Used So Far', style=dict(font_weight='bold'))\n",
    "\n",
    "budget_spent = widgets.HTML(\n",
    "    value=\"<b>Number of Remeasures are Used So Far</b>\",\n",
    "    placeholder='',\n",
    "    description='',\n",
    ")\n",
    "\n",
    "num_answers = len(questions)\n",
    "survey_answers = [0]*num_answers\n",
    "\n",
    "current_spec_arr = []\n",
    "current_spec_remeasure = []\n",
    "hist_workloads = []\n",
    "histogram_plots = []\n",
    "# hist_plot = None\n",
    "\n",
    "\n",
    "def make_vis(do_not_update=None):\n",
    "    global index, survey_answers, visualizations, epsilon_increments, curr_spec, back_end, bar_label, interface, ques\n",
    "    back_end = src.backend.initialize_backend(cps_domain, data_path, budget=1.0)\n",
    "\n",
    "    seed = 123\n",
    "    for i in range(len(questions) - 1):\n",
    "        # prompt_arr[i+1].value = questions[i+1]\n",
    "        hist = builder.histogram_workload(cps_domain.config, bin_widths=visualizations[i+1])\n",
    "        hist_workloads.append(hist)\n",
    "\n",
    "        y_hat, strategy_matrix = back_end.measure_hdmm(workload=hist, eps=epsilon_increments[i+1], restarts=20, seed=seed) # got y_hat\n",
    "\n",
    "        column_names = list(visualizations[i+1].keys())\n",
    "        curr_spec, cached = back_end.display(hist)\n",
    "        current_spec_arr.append(curr_spec)\n",
    "        current_spec_remeasure.append(curr_spec)\n",
    "\n",
    "        with plot_output_arr[i]:\n",
    "            plot_output_arr[i].clear_output()\n",
    "            plot = src.plots.linked_hist(column_names[0], column_names[1], data=curr_spec.reset_index(column_names), display_true=False, history=False)\n",
    "            # plot_output_arr[i].append_display_data(plot)\n",
    "            # display(plot_output_arr[i])\n",
    "        # plot = src.plots.linked_hist(column_names[0], column_names[1], data=curr_spec.reset_index(column_names), display_true=False, history=False)\n",
    "        # plot_output_arr[i].append_display_data(plot)\n",
    "        # display(plot_output_arr[i])\n",
    "\n",
    "        bar_label = widgets.HBox([budget_spent, progress_bar, align_button_remeasure, remeasure_arr[i]])\n",
    "        ques = widgets.HBox([prompt_arr[i+1]])\n",
    "        # prompt_answer = widgets.VBox([answer_arr[i+1], submit_btn], layout=box_layout)\n",
    "        prompt_answer = widgets.VBox([answer_arr[i+1]], layout=box_layout)\n",
    "\n",
    "        display(separator)\n",
    "        display(ques)\n",
    "        display(gap_button_Q)\n",
    "        display(bar_label)\n",
    "        display(plot)\n",
    "\n",
    "        # histogram_plots.append(widgets.VBox([plot_output_arr[i]]))\n",
    "        # display(histogram_plots[i])\n",
    "        hist_plot = widgets.VBox([plot_output_arr[i]])\n",
    "        display(hist_plot)\n",
    "        interface = widgets.VBox([prompt_answer])\n",
    "        display(interface)\n",
    "\n",
    "\n",
    "def on_click_submit(obj):\n",
    "    global index, survey_answers, visualizations, epsilon_increments, curr_spec, back_end, bar_label, interface, ques, plot\n",
    "    logger.info('Clicked submit')\n",
    "    if answer.value == '':\n",
    "        return\n",
    "    val = answer.value\n",
    "    answer.value = answer.placeholder\n",
    "    survey_answers[index] = val\n",
    "\n",
    "    interface.close()\n",
    "\n",
    "    display(gap_button)\n",
    "\n",
    "    make_vis()\n",
    "\n",
    "    display(separator)\n",
    "\n",
    "    display(widgets.HBox([align_button, submit_btn_final]))\n",
    "\n",
    "    # for i in range(len(questions) - 1):\n",
    "    #     prompt_arr[i+1].value = questions[i+1]\n",
    "    #     back_end = src.backend.initialize_backend(cps_domain, data_path, budget=1.0)\n",
    "    #     hist = builder.histogram_workload(cps_domain.config, bin_widths=visualizations[i+1])\n",
    "    #     y_hat, strategy_matrix = back_end.measure_hdmm(workload=hist, eps=epsilon_increments[i+1], restarts=20) # got y_hat\n",
    "    #     column_names = list(visualizations[i+1].keys())\n",
    "    #     curr_spec = back_end.display(hist)\n",
    "    #\n",
    "    #     with plot_output:\n",
    "    #         # plot_output.clear_output()\n",
    "    #         plot = src.plots.linked_hist(column_names[0], column_names[1], data=curr_spec.reset_index(column_names), display_true=False, history=False)\n",
    "    #         logger.info(plot)\n",
    "    #\n",
    "    #     bar_label = widgets.HBox([budget_spent, progress_bar, make_it_better])\n",
    "    #     ques = widgets.HBox([prompt_arr[i+1]])\n",
    "    #     prompt_answer = widgets.VBox([answer_arr[i+1], submit_btn], layout=box_layout)\n",
    "    #     display(bar_label)\n",
    "    #     display(ques)\n",
    "    #     display(plot)\n",
    "    #     interface = widgets.VBox([plot_output, prompt_answer])\n",
    "    #     display(interface)\n",
    "\n",
    "    # with plot_output:\n",
    "    #     clear_output()\n",
    "    # submit_btn.close()\n",
    "    # interface.close()\n",
    "    # bar_label.close()\n",
    "    # prompt.value = 'Tutorial finished, thanks for your participation!'\n",
    "    # display(prompt)\n",
    "    # return\n",
    "\n",
    "idx = 1\n",
    "\n",
    "def remeasure_clicked(question_no):\n",
    "    global index, visualizations, tries, idx, interface, submit_btn,  histogram_plots, plot_output_rm_arr\n",
    "    logger.info('Clicked remeasure, question: {}'.format(index))\n",
    "    # clear_output()\n",
    "    # plot_output_arr[question_no].clear_output()\n",
    "\n",
    "    key_val = [x for x in visualizations[question_no].items()]\n",
    "\n",
    "\n",
    "    measure_dict = {'left': key_val[0], 'right': key_val[1]}\n",
    "    binning(measure_dict, question_no-1, epsilon = epsilon_increments[question_no])\n",
    "\n",
    "    # for i in range(len(questions) - 1):\n",
    "    #     key_val = [x for x in visualizations[i+1].items()]\n",
    "    #     # logger.info(key_val)\n",
    "    #     measure_dict = {'left': key_val[0], 'right': key_val[1]}\n",
    "    #     binning(measure_dict, i, epsilon = epsilon_increments[idx])\n",
    "    # idx += 1\n",
    "\n",
    "    # make_vis()\n",
    "    tries += 1\n",
    "    progress_bar.value = tries\n",
    "    progress_bar.description = str(tries) + '/' + str(max_tries)\n",
    "\n",
    "def on_click_make_it_better(obj):\n",
    "    global index, visualizations, tries, idx, interface, submit_btn, plot_output\n",
    "    logger.info('Clicked remeasure, question: {}'.format(index))\n",
    "\n",
    "    with plot_output:\n",
    "        clear_output()\n",
    "    # plot_output_before[0].clear_output()\n",
    "    # print(plot_output_before)\n",
    "    # submit_btn.close()\n",
    "    # interface.close()\n",
    "    # bar_label.close()\n",
    "    \n",
    "    key_val = [x for x in visualizations[1].items()]\n",
    "    measure_dict = {'left': key_val[0], 'right': key_val[1]}\n",
    "    binning(measure_dict, 0, epsilon = epsilon_increments[1])\n",
    "\n",
    "    # for i in range(len(questions) - 1):\n",
    "    #     key_val = [x for x in visualizations[i+1].items()]\n",
    "    #     # logger.info(key_val)\n",
    "    #     measure_dict = {'left': key_val[0], 'right': key_val[1]}\n",
    "    #     binning(measure_dict, i, epsilon = epsilon_increments[idx])\n",
    "    # idx += 1\n",
    "\n",
    "    # make_vis()\n",
    "    tries += 1\n",
    "    progress_bar.value = tries\n",
    "    progress_bar.description = str(tries) + '/' + str(max_tries)\n",
    "\n",
    "def on_click_make_it_better_1(obj):\n",
    "    remeasure_clicked(1)\n",
    "\n",
    "def on_click_make_it_better_2(obj):\n",
    "    remeasure_clicked(2)\n",
    "\n",
    "def on_click_make_it_better_3(obj):\n",
    "    remeasure_clicked(3)\n",
    "\n",
    "def on_click_make_it_better_4(obj):\n",
    "    remeasure_clicked(4)\n",
    "\n",
    "def on_click_make_it_better_5(obj):\n",
    "    remeasure_clicked(5)\n",
    "\n",
    "def on_click_make_it_better_6(obj):\n",
    "    remeasure_clicked(6)\n",
    "\n",
    "submit_btn.on_click(on_click_submit)\n",
    "make_it_better1.on_click(on_click_make_it_better_1)\n",
    "make_it_better2.on_click(on_click_make_it_better_2)\n",
    "make_it_better3.on_click(on_click_make_it_better_3)\n",
    "make_it_better4.on_click(on_click_make_it_better_4)\n",
    "make_it_better5.on_click(on_click_make_it_better_5)\n",
    "make_it_better6.on_click(on_click_make_it_better_6)\n",
    "\n",
    "box_layout = widgets.Layout(display='flex',\n",
    "    flex_flow='column',\n",
    "    align_items='flex-start',\n",
    "    color='black',\n",
    "    width='80%')\n",
    "\n",
    "# bar_label = widgets.HBox([budget_spent, progress_bar, make_it_better])\n",
    "prompt_answer = widgets.VBox([answer, submit_btn], layout=box_layout)"
   ]
  },
  {
   "cell_type": "code",
   "execution_count": 54,
   "id": "d8cdb83f",
   "metadata": {},
   "outputs": [],
   "source": [
    "# import numpy as np\n",
    "#\n",
    "# submit_btn = widgets.Button(description='Submit')\n",
    "# make_it_better = widgets.Button(description='Remeasure')\n",
    "#\n",
    "# def on_click_submit(obj):\n",
    "#     global index, survey_answers, visualizations, epsilon_increments, curr_spec, back_end\n",
    "#     logger.info('Clicked submit')\n",
    "#     if answer.value == '':\n",
    "#         return\n",
    "#     val = answer.value\n",
    "#     answer.value = answer.placeholder\n",
    "#     survey_answers[index] = val\n",
    "#\n",
    "#     if index+1 < len(questions):\n",
    "#         index += 1\n",
    "#         prompt.value = questions[index]\n",
    "#     else:\n",
    "#         with plot_output:\n",
    "#             clear_output()\n",
    "#         submit_btn.close()\n",
    "#         interface.close()\n",
    "#         bar_label.close()\n",
    "#         prompt.value = 'Tutorial finished, thanks for your participation!'\n",
    "#         display(prompt)\n",
    "#         return\n",
    "#\n",
    "#     back_end = src.backend.initialize_backend(cps_domain, data_path, budget=1.0)\n",
    "#\n",
    "#     hist = builder.histogram_workload(cps_domain.config, bin_widths=visualizations[index])\n",
    "#\n",
    "#     # logger.info(hist.matrix.matrix)\n",
    "#\n",
    "#     y_hat, strategy_matrix = back_end.measure_hdmm(workload=hist, eps=epsilon_increments[index], restarts=20) # got y_hat\n",
    "#\n",
    "#     # B = np.linalg.pinv(strategy_matrix)\n",
    "#\n",
    "#     # logger.info(\"printing y_hat\")\n",
    "#     # logger.info(B)\n",
    "#     logger.info(\"printing strategy matrix\")\n",
    "# #     logger.info(strategy_matrix.matrix)\n",
    "#\n",
    "#     column_names = list(visualizations[index].keys())\n",
    "#     curr_spec = back_end.display(hist)\n",
    "#\n",
    "#     with plot_output:\n",
    "#         plot_output.clear_output()\n",
    "#         plot = src.plots.linked_hist(column_names[0], column_names[1], data=curr_spec.reset_index(column_names), display_true=False, history=False)\n",
    "#         logger.info(plot)\n",
    "# #         display(\"Updating...\")\n",
    "#         display(plot)\n",
    "# #         altair_viewer.show(plot)\n",
    "#\n",
    "# def on_click_make_it_better(obj):\n",
    "#     global index, visualizations, tries\n",
    "#     logger.info('Clicked remeasure, question: {}'.format(index))\n",
    "#\n",
    "#     key_val = [x for x in visualizations[index].items()]\n",
    "#     logger.info(key_val)\n",
    "#     measure_dict = {'left': key_val[0], 'right': key_val[1]}\n",
    "#     binning(measure_dict, epsilon = epsilon_increments[index])\n",
    "#\n",
    "# submit_btn.on_click(on_click_submit)\n",
    "# make_it_better.on_click(on_click_make_it_better)"
   ]
  },
  {
   "cell_type": "code",
   "execution_count": 55,
   "id": "0183764d",
   "metadata": {},
   "outputs": [],
   "source": [
    "# text_area = []\n",
    "# for i in range(len(questions)):\n",
    "#     text_area.append(answer)\n"
   ]
  },
  {
   "cell_type": "code",
   "execution_count": 56,
   "id": "f03b6c44",
   "metadata": {},
   "outputs": [
    {
     "name": "stdout",
     "output_type": "stream",
     "text": [
      "Seed  0\n",
      "Inside BackEnd  RandomState(MT19937)\n"
     ]
    }
   ],
   "source": [
    "back_end = src.backend.initialize_backend(cps_domain, data_path, budget=budget)\n",
    "# global back_end\n",
    "rm_spec = [0, 0, 0, 0, 0, 0]\n",
    "rm_hit = [False, False, False, False, False, False]\n",
    "\n",
    "def binning(measure_dict, id=None, epsilon=None):\n",
    "    rm_hit[id] = True\n",
    "    global tries, curr_spec, back_end, current_spec_arr, hist_workloads, plot_output_rm_arr\n",
    "    \n",
    "    left_col = measure_dict['left'] \n",
    "    right_col = measure_dict['right']\n",
    "    \n",
    "    widths = {left_col[0]:left_col[1], right_col[0]:right_col[1]}\n",
    "    \n",
    "    hist = builder.histogram_workload(cps_domain.config, bin_widths=widths)\n",
    "\n",
    "    if epsilon is not None:\n",
    "        if tries+1 >= max_tries:\n",
    "            for i in range(len(questions)-1):\n",
    "                remeasure_arr[i].close()\n",
    "                budget_spent.value = \"<b>You have used all the remeasures</b>\"\n",
    "                # progress_bar.bar_style='danger'\n",
    "        elif tries+1 > max_tries:\n",
    "            return\n",
    "        # else:\n",
    "        #     clear_output()\n",
    "        y_hat, strategy_matrix = back_end.measure_hdmm(workload=hist, eps=epsilon, restarts=20)\n",
    "\n",
    "    prev_spec = current_spec_remeasure[id]\n",
    "\n",
    "    # print(\"Spec Previous\", prev_spec)\n",
    "    # print(\"---------------------------------------------------------------\")\n",
    "    prev_spec.rename(columns={'error': 'error_prev', 'plus_error': 'plus_error_prev', 'minus_error': 'minus_error_prev', 'true_count':'true_count_prev', 'noisy_count':'noisy_count_prev'}, inplace=True)\n",
    "\n",
    "    current_spec_remeasure[id], cached = back_end.display(hist) ################# Cache_search function called\n",
    "\n",
    "    # print(\"spec after \", prev_spec)\n",
    "\n",
    "    spec = current_spec_remeasure[id].join(prev_spec, on=[left_col[0], right_col[0]]).reset_index([left_col[0], right_col[0]])\n",
    "\n",
    "    rm_spec[id] = spec\n",
    "    clear_output()\n",
    "    display(gap_button)\n",
    "    for i in range(len(questions) - 1):\n",
    "        if tries+1 < max_tries:\n",
    "            bar_label = widgets.HBox([budget_spent, progress_bar, align_button_remeasure, remeasure_arr[i]])\n",
    "        else:\n",
    "            bar_label = widgets.HBox([budget_spent, progress_bar])\n",
    "        ques = widgets.HBox([prompt_arr[i+1]])\n",
    "        # prompt_answer = widgets.VBox([answer_arr[i+1], submit_btn], layout=box_layout)\n",
    "        prompt_answer = widgets.VBox([answer_arr[i+1]], layout=box_layout)\n",
    "        display(separator)\n",
    "        display(ques)\n",
    "        display(bar_label)\n",
    "        if rm_hit[i]:\n",
    "            key_value_new = [x for x in visualizations[i+1].items()]\n",
    "            measure_dict_new = {'left': key_value_new[0], 'right': key_value_new[1]}\n",
    "            left_col_new = measure_dict_new['left']\n",
    "            right_col_new = measure_dict_new['right']\n",
    "            plot_new = src.plots.linked_hist_test(left_col_new[0], right_col_new[0], data=rm_spec[i], projection=True,label=False)\n",
    "            display(plot_new)\n",
    "        else:\n",
    "            column_names_new = list(visualizations[i+1].keys())\n",
    "            plot_new = src.plots.linked_hist(column_names_new[0], column_names_new[1], data=current_spec_arr[i].reset_index(column_names_new), display_true=False, history=False)\n",
    "            display(plot_new)\n",
    "        interface = widgets.VBox([prompt_answer])\n",
    "        display(interface)\n",
    "    display(separator)\n",
    "    display(widgets.HBox([align_button, submit_btn_final]))\n",
    "\n",
    "    # with plot_output_arr[id]:\n",
    "    #     plot_output_arr[id].clear_output()\n",
    "    #     # clear_output()\n",
    "    #     # plot_output_arr[id].close()\n",
    "    #     plot = src.plots.linked_hist_test(left_col[0], right_col[0], data=spec, projection=True,label=False)\n",
    "    #     display(plot)\n",
    "\n",
    "    # display(plot_output_arr[id])\n",
    "        # print(\"remeasure plot output: \", plot_output_arr[id])\n",
    "\n",
    "    # hist_plot_rm = widgets.VBox([plot_output_arr[id]])\n",
    "    # display(hist_plot_rm)\n",
    "\n",
    "    # for i in range(len(questions) - 2):\n",
    "    #     key_val2 = [x for x in visualizations[i + 2].items()]\n",
    "    #     measure_dict2 = {'left': key_val2[0], 'right': key_val2[1]}\n",
    "    #     left_col2 = measure_dict2['left']\n",
    "    #     right_col2 = measure_dict2['right']\n",
    "    #     widths = {left_col2[0]:left_col2[1], right_col2[0]:right_col2[1]}\n",
    "    #\n",
    "    #     prev_spec2 = current_spec_arr[i + 1]\n",
    "    #     prev_spec2.rename(columns={'error': 'error_prev', 'plus_error': 'plus_error_prev', 'minus_error': 'minus_error_prev', 'true_count':'true_count_prev', 'noisy_count':'noisy_count_prev'}, inplace=True)\n",
    "    #     # hist2 = hist_workloads[i + 2]\n",
    "    #     hist2 = builder.histogram_workload(cps_domain.config, bin_widths=widths)\n",
    "    #\n",
    "    #     current_spec_arr[i + 1], cached2 = back_end.display(hist2) ################# Cache_search function called\n",
    "    #\n",
    "    #     spec2 = current_spec_arr[i + 1].join(prev_spec2, on=[left_col2[0], right_col2[0]]).reset_index([left_col2[0], right_col2[0]])\n",
    "    #     spec2 = spec2.round(0)\n",
    "    #\n",
    "    #     with plot_output:\n",
    "    #         # plot_output.clear_output()\n",
    "    #         plot2 = src.plots.linked_hist_test(left_col2[0], right_col2[0], data=spec2, projection=True,label=False)\n",
    "    #         # plot = src.plots.linked_hist(left_col[0], right_col[0], data=spec, display_true=False, history=False)\n",
    "    #         display(plot2)\n",
    "    \n",
    "box_layout = widgets.Layout(display='flex',\n",
    "    flex_flow='column',\n",
    "    align_items='flex-start',\n",
    "    color='black',\n",
    "    width='80%')\n",
    "\n",
    "def on_click_submit_all(obj):\n",
    "    ans_dict = {}\n",
    "    for i in range(len(questions) - 1):\n",
    "        if answer_arr[i + 1].value == '':\n",
    "            align_button.description = 'Please answer all the questions'\n",
    "            align_button.style.text_color = '#E30000'\n",
    "            return\n",
    "        a = i+1\n",
    "        ans_dict['Question ' + str(a) + ' answer'] = answer_arr[i+1].value\n",
    "    with open(\"answers/answer.txt\", 'a') as f:\n",
    "        f.write('\\n')\n",
    "        for key, value in ans_dict.items():\n",
    "            f.write('%s : %s\\n' % (key, value))\n",
    "        f.write('-------------------------------------------------------------')\n",
    "    clear_output()\n",
    "    prompt.value=\"<b>Survey finished, thanks for your participation!</b>\"\n",
    "    display(prompt)\n",
    "\n",
    "\n",
    "# bar_label = widgets.HBox([budget_spent, progress_bar, make_it_better])\n",
    "prompt_answer = widgets.VBox([answer, submit_btn], layout=box_layout)\n",
    "submit_btn_final.on_click(on_click_submit_all)"
   ]
  },
  {
   "cell_type": "code",
   "execution_count": 58,
   "id": "32c70e80",
   "metadata": {
    "scrolled": true
   },
   "outputs": [
    {
     "data": {
      "application/vnd.jupyter.widget-view+json": {
       "model_id": "",
       "version_major": 2,
       "version_minor": 0
      },
      "text/plain": [
       "VBox(children=(Button(disabled=True, layout=Layout(height='50px', width='95%'), style=ButtonStyle(button_color…"
      ]
     },
     "metadata": {},
     "output_type": "display_data"
    },
    {
     "data": {
      "application/vnd.jupyter.widget-view+json": {
       "model_id": "29f15df9e501428fb96d5cf68d04ac9b",
       "version_major": 2,
       "version_minor": 0
      },
      "text/plain": [
       "Button(disabled=True, layout=Layout(height='50px', width='95%'), style=ButtonStyle(button_color='white'))"
      ]
     },
     "metadata": {},
     "output_type": "display_data"
    },
    {
     "name": "stdout",
     "output_type": "stream",
     "text": [
      "Seed  0\n",
      "Inside BackEnd  RandomState(MT19937)\n",
      "RandomState(MT19937)\n"
     ]
    },
    {
     "data": {
      "application/vnd.jupyter.widget-view+json": {
       "model_id": "7e32f2e70f9e423ab6eb5817e1290e0a",
       "version_major": 2,
       "version_minor": 0
      },
      "text/plain": [
       "Button(layout=Layout(height='5px', width='99%'), style=ButtonStyle(button_color='black'))"
      ]
     },
     "metadata": {},
     "output_type": "display_data"
    },
    {
     "data": {
      "application/vnd.jupyter.widget-view+json": {
       "model_id": "feca5ab762924d638fe8f602ed7e86bf",
       "version_major": 2,
       "version_minor": 0
      },
      "text/plain": [
       "HBox(children=(HTML(value=\"<b>Question 1/6: How many Chinese and American Indians have 'Widowed' as their mari…"
      ]
     },
     "metadata": {},
     "output_type": "display_data"
    },
    {
     "data": {
      "application/vnd.jupyter.widget-view+json": {
       "model_id": "e5eca99abca545f881421b5a83c30f4f",
       "version_major": 2,
       "version_minor": 0
      },
      "text/plain": [
       "Button(disabled=True, layout=Layout(height='1px', width='95%'), style=ButtonStyle(button_color='white'))"
      ]
     },
     "metadata": {},
     "output_type": "display_data"
    },
    {
     "data": {
      "application/vnd.jupyter.widget-view+json": {
       "model_id": "9f75bf235fa14a5c985cfa020780734c",
       "version_major": 2,
       "version_minor": 0
      },
      "text/plain": [
       "HBox(children=(HTML(value='<b>Number of Remeasures are Used So Far</b>', placeholder=''), FloatProgress(value=…"
      ]
     },
     "metadata": {},
     "output_type": "display_data"
    },
    {
     "data": {
      "text/html": [
       "\n",
       "<div id=\"altair-viz-18d4f7032e324afc83215efc2b9331eb\"></div>\n",
       "<script type=\"text/javascript\">\n",
       "  var VEGA_DEBUG = (typeof VEGA_DEBUG == \"undefined\") ? {} : VEGA_DEBUG;\n",
       "  (function(spec, embedOpt){\n",
       "    let outputDiv = document.currentScript.previousElementSibling;\n",
       "    if (outputDiv.id !== \"altair-viz-18d4f7032e324afc83215efc2b9331eb\") {\n",
       "      outputDiv = document.getElementById(\"altair-viz-18d4f7032e324afc83215efc2b9331eb\");\n",
       "    }\n",
       "    const paths = {\n",
       "      \"vega\": \"https://cdn.jsdelivr.net/npm//vega@5?noext\",\n",
       "      \"vega-lib\": \"https://cdn.jsdelivr.net/npm//vega-lib?noext\",\n",
       "      \"vega-lite\": \"https://cdn.jsdelivr.net/npm//vega-lite@4.17.0?noext\",\n",
       "      \"vega-embed\": \"https://cdn.jsdelivr.net/npm//vega-embed@6?noext\",\n",
       "    };\n",
       "\n",
       "    function maybeLoadScript(lib, version) {\n",
       "      var key = `${lib.replace(\"-\", \"\")}_version`;\n",
       "      return (VEGA_DEBUG[key] == version) ?\n",
       "        Promise.resolve(paths[lib]) :\n",
       "        new Promise(function(resolve, reject) {\n",
       "          var s = document.createElement('script');\n",
       "          document.getElementsByTagName(\"head\")[0].appendChild(s);\n",
       "          s.async = true;\n",
       "          s.onload = () => {\n",
       "            VEGA_DEBUG[key] = version;\n",
       "            return resolve(paths[lib]);\n",
       "          };\n",
       "          s.onerror = () => reject(`Error loading script: ${paths[lib]}`);\n",
       "          s.src = paths[lib];\n",
       "        });\n",
       "    }\n",
       "\n",
       "    function showError(err) {\n",
       "      outputDiv.innerHTML = `<div class=\"error\" style=\"color:red;\">${err}</div>`;\n",
       "      throw err;\n",
       "    }\n",
       "\n",
       "    function displayChart(vegaEmbed) {\n",
       "      vegaEmbed(outputDiv, spec, embedOpt)\n",
       "        .catch(err => showError(`Javascript Error: ${err.message}<br>This usually means there's a typo in your chart specification. See the javascript console for the full traceback.`));\n",
       "    }\n",
       "\n",
       "    if(typeof define === \"function\" && define.amd) {\n",
       "      requirejs.config({paths});\n",
       "      require([\"vega-embed\"], displayChart, err => showError(`Error loading script: ${err.message}`));\n",
       "    } else {\n",
       "      maybeLoadScript(\"vega\", \"5\")\n",
       "        .then(() => maybeLoadScript(\"vega-lite\", \"4.17.0\"))\n",
       "        .then(() => maybeLoadScript(\"vega-embed\", \"6\"))\n",
       "        .catch(showError)\n",
       "        .then(() => displayChart(vegaEmbed));\n",
       "    }\n",
       "  })({\"config\": {\"view\": {\"continuousWidth\": 400, \"continuousHeight\": 300}, \"axis\": {\"labelFontSize\": 11, \"titleFontSize\": 15}, \"axisBottom\": {\"labelAngle\": 60}}, \"hconcat\": [{\"layer\": [{\"mark\": \"bar\", \"encoding\": {\"color\": {\"value\": \"transparent\"}, \"tooltip\": [{\"aggregate\": \"sum\", \"field\": \"noisy_count\", \"title\": \"noisy count\", \"type\": \"quantitative\"}, {\"aggregate\": \"sum\", \"field\": \"error\", \"title\": \"error\", \"type\": \"quantitative\"}], \"x\": {\"field\": \"marital\", \"sort\": null, \"title\": \"Marital\", \"type\": \"ordinal\"}}, \"height\": 300, \"selection\": {\"selector025\": {\"type\": \"interval\", \"encodings\": [\"x\"]}}, \"transform\": [{\"filter\": {\"selection\": \"selector026\"}}], \"width\": 450}, {\"mark\": {\"type\": \"bar\", \"color\": \"#4C7FFF\", \"opacity\": 0.7}, \"encoding\": {\"x\": {\"field\": \"marital\", \"sort\": null, \"title\": \"Marital\", \"type\": \"ordinal\"}, \"y\": {\"aggregate\": \"sum\", \"field\": \"noisy_count\", \"type\": \"quantitative\"}}, \"transform\": [{\"filter\": {\"selection\": \"selector026\"}}]}, {\"mark\": {\"type\": \"tick\", \"color\": \"black\", \"width\": 0}, \"encoding\": {\"x\": {\"field\": \"marital\", \"sort\": null, \"title\": \"Marital\", \"type\": \"ordinal\"}, \"y\": {\"aggregate\": \"sum\", \"field\": \"plus_error\", \"type\": \"quantitative\"}}, \"transform\": [{\"filter\": {\"selection\": \"selector026\"}}]}, {\"mark\": {\"type\": \"tick\", \"color\": \"black\", \"width\": 0}, \"encoding\": {\"x\": {\"field\": \"marital\", \"sort\": null, \"title\": \"Marital\", \"type\": \"ordinal\"}, \"y\": {\"aggregate\": \"sum\", \"field\": \"minus_error\", \"type\": \"quantitative\"}}, \"transform\": [{\"filter\": {\"selection\": \"selector026\"}}]}, {\"mark\": {\"type\": \"point\", \"color\": \"black\"}, \"encoding\": {\"x\": {\"field\": \"marital\", \"sort\": null, \"title\": \"Marital\", \"type\": \"ordinal\"}, \"y\": {\"aggregate\": \"sum\", \"field\": \"noisy_count\", \"title\": \"Noisy Count\", \"type\": \"quantitative\"}}, \"transform\": [{\"filter\": {\"selection\": \"selector026\"}}]}, {\"mark\": {\"type\": \"rule\", \"size\": 2}, \"encoding\": {\"x\": {\"field\": \"marital\", \"sort\": null, \"title\": \"Marital\", \"type\": \"ordinal\"}, \"y\": {\"aggregate\": \"sum\", \"field\": \"plus_error\", \"title\": \"\", \"type\": \"quantitative\"}, \"y2\": {\"aggregate\": \"sum\", \"field\": \"minus_error\", \"title\": \"\"}}, \"transform\": [{\"filter\": {\"selection\": \"selector026\"}}]}]}, {\"layer\": [{\"mark\": \"bar\", \"encoding\": {\"color\": {\"value\": \"transparent\"}, \"tooltip\": [{\"aggregate\": \"sum\", \"field\": \"noisy_count\", \"title\": \"noisy count\", \"type\": \"quantitative\"}, {\"aggregate\": \"sum\", \"field\": \"error\", \"title\": \"error\", \"type\": \"quantitative\"}], \"x\": {\"field\": \"race\", \"sort\": null, \"title\": \"Race\", \"type\": \"ordinal\"}}, \"height\": 300, \"selection\": {\"selector026\": {\"type\": \"interval\", \"encodings\": [\"x\"]}}, \"transform\": [{\"filter\": {\"selection\": \"selector025\"}}], \"width\": 450}, {\"mark\": {\"type\": \"bar\", \"color\": \"#4C7FFF\", \"opacity\": 0.7}, \"encoding\": {\"x\": {\"field\": \"race\", \"sort\": null, \"title\": \"Race\", \"type\": \"ordinal\"}, \"y\": {\"aggregate\": \"sum\", \"field\": \"noisy_count\", \"type\": \"quantitative\"}}, \"transform\": [{\"filter\": {\"selection\": \"selector025\"}}]}, {\"mark\": {\"type\": \"tick\", \"color\": \"black\", \"width\": 0}, \"encoding\": {\"x\": {\"field\": \"race\", \"sort\": null, \"title\": \"Race\", \"type\": \"ordinal\"}, \"y\": {\"aggregate\": \"sum\", \"field\": \"plus_error\", \"type\": \"quantitative\"}}, \"transform\": [{\"filter\": {\"selection\": \"selector025\"}}]}, {\"mark\": {\"type\": \"tick\", \"color\": \"black\", \"width\": 0}, \"encoding\": {\"x\": {\"field\": \"race\", \"sort\": null, \"title\": \"Race\", \"type\": \"ordinal\"}, \"y\": {\"aggregate\": \"sum\", \"field\": \"minus_error\", \"type\": \"quantitative\"}}, \"transform\": [{\"filter\": {\"selection\": \"selector025\"}}]}, {\"mark\": {\"type\": \"point\", \"color\": \"black\"}, \"encoding\": {\"x\": {\"field\": \"race\", \"sort\": null, \"title\": \"Race\", \"type\": \"ordinal\"}, \"y\": {\"aggregate\": \"sum\", \"field\": \"noisy_count\", \"title\": \"Noisy Count\", \"type\": \"quantitative\"}}, \"transform\": [{\"filter\": {\"selection\": \"selector025\"}}]}, {\"mark\": {\"type\": \"rule\", \"size\": 2}, \"encoding\": {\"x\": {\"field\": \"race\", \"sort\": null, \"title\": \"Race\", \"type\": \"ordinal\"}, \"y\": {\"aggregate\": \"sum\", \"field\": \"plus_error\", \"title\": \"\", \"type\": \"quantitative\"}, \"y2\": {\"aggregate\": \"sum\", \"field\": \"minus_error\", \"title\": \"\"}}, \"transform\": [{\"filter\": {\"selection\": \"selector025\"}}]}]}], \"data\": {\"name\": \"data-d2c875ecad8a8e351684412fb05425e7\"}, \"$schema\": \"https://vega.github.io/schema/vega-lite/v4.17.0.json\", \"datasets\": {\"data-d2c875ecad8a8e351684412fb05425e7\": [{\"marital\": \"Married\", \"race\": \"White\", \"noisy_count\": 24279.0, \"true_count\": 24269.0, \"plus_error\": 24307.3, \"minus_error\": 24250.7, \"error\": 28.3}, {\"marital\": \"Married\", \"race\": \"Black\", \"noisy_count\": 1655.8, \"true_count\": 1667.0, \"plus_error\": 1684.1, \"minus_error\": 1627.6, \"error\": 28.3}, {\"marital\": \"Married\", \"race\": \"American Indian\", \"noisy_count\": 250.2, \"true_count\": 266.0, \"plus_error\": 278.5, \"minus_error\": 221.9, \"error\": 28.3}, {\"marital\": \"Married\", \"race\": \"Chinese\", \"noisy_count\": 865.2, \"true_count\": 863.0, \"plus_error\": 893.5, \"minus_error\": 836.9, \"error\": 28.3}, {\"marital\": \"Absent\", \"race\": \"White\", \"noisy_count\": 90.7, \"true_count\": 94.0, \"plus_error\": 118.9, \"minus_error\": 62.4, \"error\": 28.3}, {\"marital\": \"Absent\", \"race\": \"Black\", \"noisy_count\": 81.2, \"true_count\": 16.0, \"plus_error\": 109.4, \"minus_error\": 52.9, \"error\": 28.3}, {\"marital\": \"Absent\", \"race\": \"American Indian\", \"noisy_count\": 9.2, \"true_count\": 0.0, \"plus_error\": 37.5, \"minus_error\": -19.1, \"error\": 28.3}, {\"marital\": \"Absent\", \"race\": \"Chinese\", \"noisy_count\": 6.2, \"true_count\": 7.0, \"plus_error\": 34.5, \"minus_error\": -22.1, \"error\": 28.3}, {\"marital\": \"Separated\", \"race\": \"White\", \"noisy_count\": 559.5, \"true_count\": 567.0, \"plus_error\": 587.8, \"minus_error\": 531.2, \"error\": 28.3}, {\"marital\": \"Separated\", \"race\": \"Black\", \"noisy_count\": 96.3, \"true_count\": 84.0, \"plus_error\": 124.5, \"minus_error\": 68.0, \"error\": 28.3}, {\"marital\": \"Separated\", \"race\": \"American Indian\", \"noisy_count\": 10.4, \"true_count\": 13.0, \"plus_error\": 38.7, \"minus_error\": -17.9, \"error\": 28.3}, {\"marital\": \"Separated\", \"race\": \"Chinese\", \"noisy_count\": 4.5, \"true_count\": 47.0, \"plus_error\": 32.8, \"minus_error\": -23.8, \"error\": 28.3}, {\"marital\": \"Widowed\", \"race\": \"White\", \"noisy_count\": 4090.9, \"true_count\": 4078.0, \"plus_error\": 4119.2, \"minus_error\": 4062.6, \"error\": 28.3}, {\"marital\": \"Widowed\", \"race\": \"Black\", \"noisy_count\": 522.8, \"true_count\": 543.0, \"plus_error\": 551.1, \"minus_error\": 494.6, \"error\": 28.3}, {\"marital\": \"Widowed\", \"race\": \"American Indian\", \"noisy_count\": 14.1, \"true_count\": 35.0, \"plus_error\": 42.3, \"minus_error\": -14.2, \"error\": 28.3}, {\"marital\": \"Widowed\", \"race\": \"Chinese\", \"noisy_count\": 78.3, \"true_count\": 77.0, \"plus_error\": 106.6, \"minus_error\": 50.0, \"error\": 28.3}, {\"marital\": \"Divorced\", \"race\": \"White\", \"noisy_count\": 5907.3, \"true_count\": 5901.0, \"plus_error\": 5935.5, \"minus_error\": 5879.0, \"error\": 28.3}, {\"marital\": \"Divorced\", \"race\": \"Black\", \"noisy_count\": 774.0, \"true_count\": 750.0, \"plus_error\": 802.3, \"minus_error\": 745.7, \"error\": 28.3}, {\"marital\": \"Divorced\", \"race\": \"American Indian\", \"noisy_count\": 105.9, \"true_count\": 94.0, \"plus_error\": 134.2, \"minus_error\": 77.6, \"error\": 28.3}, {\"marital\": \"Divorced\", \"race\": \"Chinese\", \"noisy_count\": 110.0, \"true_count\": 105.0, \"plus_error\": 138.3, \"minus_error\": 81.7, \"error\": 28.3}, {\"marital\": \"Divorced/Widowed\", \"race\": \"White\", \"noisy_count\": 996.3, \"true_count\": 1005.0, \"plus_error\": 1024.5, \"minus_error\": 968.0, \"error\": 28.3}, {\"marital\": \"Divorced/Widowed\", \"race\": \"Black\", \"noisy_count\": 337.5, \"true_count\": 344.0, \"plus_error\": 365.8, \"minus_error\": 309.2, \"error\": 28.3}, {\"marital\": \"Divorced/Widowed\", \"race\": \"American Indian\", \"noisy_count\": 5.3, \"true_count\": 21.0, \"plus_error\": 33.6, \"minus_error\": -23.0, \"error\": 28.3}, {\"marital\": \"Divorced/Widowed\", \"race\": \"Chinese\", \"noisy_count\": 22.4, \"true_count\": 33.0, \"plus_error\": 50.6, \"minus_error\": -5.9, \"error\": 28.3}, {\"marital\": \"Never Married\", \"race\": \"White\", \"noisy_count\": 6556.2, \"true_count\": 6590.0, \"plus_error\": 6584.5, \"minus_error\": 6527.9, \"error\": 28.3}, {\"marital\": \"Never Married\", \"race\": \"Black\", \"noisy_count\": 1522.2, \"true_count\": 1525.0, \"plus_error\": 1550.4, \"minus_error\": 1493.9, \"error\": 28.3}, {\"marital\": \"Never Married\", \"race\": \"American Indian\", \"noisy_count\": 129.0, \"true_count\": 132.0, \"plus_error\": 157.3, \"minus_error\": 100.7, \"error\": 28.3}, {\"marital\": \"Never Married\", \"race\": \"Chinese\", \"noisy_count\": 309.7, \"true_count\": 310.0, \"plus_error\": 338.0, \"minus_error\": 281.5, \"error\": 28.3}]}}, {\"mode\": \"vega-lite\"});\n",
       "</script>"
      ],
      "text/plain": [
       "alt.HConcatChart(...)"
      ]
     },
     "metadata": {},
     "output_type": "display_data"
    },
    {
     "data": {
      "application/vnd.jupyter.widget-view+json": {
       "model_id": "ab947874da6e42a6a03605937fdf120d",
       "version_major": 2,
       "version_minor": 0
      },
      "text/plain": [
       "VBox(children=(Output(),))"
      ]
     },
     "metadata": {},
     "output_type": "display_data"
    },
    {
     "data": {
      "application/vnd.jupyter.widget-view+json": {
       "model_id": "e3ca91fc50134f31acbd795f94050b59",
       "version_major": 2,
       "version_minor": 0
      },
      "text/plain": [
       "VBox(children=(VBox(children=(Textarea(value='', description='Answer:', layout=Layout(height='50px', width='50…"
      ]
     },
     "metadata": {},
     "output_type": "display_data"
    },
    {
     "name": "stdout",
     "output_type": "stream",
     "text": [
      "RandomState(MT19937)\n"
     ]
    },
    {
     "data": {
      "application/vnd.jupyter.widget-view+json": {
       "model_id": "7e32f2e70f9e423ab6eb5817e1290e0a",
       "version_major": 2,
       "version_minor": 0
      },
      "text/plain": [
       "Button(layout=Layout(height='5px', width='99%'), style=ButtonStyle(button_color='black'))"
      ]
     },
     "metadata": {},
     "output_type": "display_data"
    },
    {
     "data": {
      "application/vnd.jupyter.widget-view+json": {
       "model_id": "f9db8501b09a412b92e639c65afacd74",
       "version_major": 2,
       "version_minor": 0
      },
      "text/plain": [
       "HBox(children=(HTML(value='<b>Question 2/6: How many people over the age of 65 have income between 100,000 and…"
      ]
     },
     "metadata": {},
     "output_type": "display_data"
    },
    {
     "data": {
      "application/vnd.jupyter.widget-view+json": {
       "model_id": "e5eca99abca545f881421b5a83c30f4f",
       "version_major": 2,
       "version_minor": 0
      },
      "text/plain": [
       "Button(disabled=True, layout=Layout(height='1px', width='95%'), style=ButtonStyle(button_color='white'))"
      ]
     },
     "metadata": {},
     "output_type": "display_data"
    },
    {
     "data": {
      "application/vnd.jupyter.widget-view+json": {
       "model_id": "2827cd00a471438ca14981bb6995850b",
       "version_major": 2,
       "version_minor": 0
      },
      "text/plain": [
       "HBox(children=(HTML(value='<b>Number of Remeasures are Used So Far</b>', placeholder=''), FloatProgress(value=…"
      ]
     },
     "metadata": {},
     "output_type": "display_data"
    },
    {
     "data": {
      "text/html": [
       "\n",
       "<div id=\"altair-viz-8372af8ea30244f1897bb339b79e616f\"></div>\n",
       "<script type=\"text/javascript\">\n",
       "  var VEGA_DEBUG = (typeof VEGA_DEBUG == \"undefined\") ? {} : VEGA_DEBUG;\n",
       "  (function(spec, embedOpt){\n",
       "    let outputDiv = document.currentScript.previousElementSibling;\n",
       "    if (outputDiv.id !== \"altair-viz-8372af8ea30244f1897bb339b79e616f\") {\n",
       "      outputDiv = document.getElementById(\"altair-viz-8372af8ea30244f1897bb339b79e616f\");\n",
       "    }\n",
       "    const paths = {\n",
       "      \"vega\": \"https://cdn.jsdelivr.net/npm//vega@5?noext\",\n",
       "      \"vega-lib\": \"https://cdn.jsdelivr.net/npm//vega-lib?noext\",\n",
       "      \"vega-lite\": \"https://cdn.jsdelivr.net/npm//vega-lite@4.17.0?noext\",\n",
       "      \"vega-embed\": \"https://cdn.jsdelivr.net/npm//vega-embed@6?noext\",\n",
       "    };\n",
       "\n",
       "    function maybeLoadScript(lib, version) {\n",
       "      var key = `${lib.replace(\"-\", \"\")}_version`;\n",
       "      return (VEGA_DEBUG[key] == version) ?\n",
       "        Promise.resolve(paths[lib]) :\n",
       "        new Promise(function(resolve, reject) {\n",
       "          var s = document.createElement('script');\n",
       "          document.getElementsByTagName(\"head\")[0].appendChild(s);\n",
       "          s.async = true;\n",
       "          s.onload = () => {\n",
       "            VEGA_DEBUG[key] = version;\n",
       "            return resolve(paths[lib]);\n",
       "          };\n",
       "          s.onerror = () => reject(`Error loading script: ${paths[lib]}`);\n",
       "          s.src = paths[lib];\n",
       "        });\n",
       "    }\n",
       "\n",
       "    function showError(err) {\n",
       "      outputDiv.innerHTML = `<div class=\"error\" style=\"color:red;\">${err}</div>`;\n",
       "      throw err;\n",
       "    }\n",
       "\n",
       "    function displayChart(vegaEmbed) {\n",
       "      vegaEmbed(outputDiv, spec, embedOpt)\n",
       "        .catch(err => showError(`Javascript Error: ${err.message}<br>This usually means there's a typo in your chart specification. See the javascript console for the full traceback.`));\n",
       "    }\n",
       "\n",
       "    if(typeof define === \"function\" && define.amd) {\n",
       "      requirejs.config({paths});\n",
       "      require([\"vega-embed\"], displayChart, err => showError(`Error loading script: ${err.message}`));\n",
       "    } else {\n",
       "      maybeLoadScript(\"vega\", \"5\")\n",
       "        .then(() => maybeLoadScript(\"vega-lite\", \"4.17.0\"))\n",
       "        .then(() => maybeLoadScript(\"vega-embed\", \"6\"))\n",
       "        .catch(showError)\n",
       "        .then(() => displayChart(vegaEmbed));\n",
       "    }\n",
       "  })({\"config\": {\"view\": {\"continuousWidth\": 400, \"continuousHeight\": 300}, \"axis\": {\"labelFontSize\": 11, \"titleFontSize\": 15}, \"axisBottom\": {\"labelAngle\": 60}}, \"hconcat\": [{\"layer\": [{\"mark\": \"bar\", \"encoding\": {\"color\": {\"value\": \"transparent\"}, \"tooltip\": [{\"aggregate\": \"sum\", \"field\": \"noisy_count\", \"title\": \"noisy count\", \"type\": \"quantitative\"}, {\"aggregate\": \"sum\", \"field\": \"error\", \"title\": \"error\", \"type\": \"quantitative\"}], \"x\": {\"field\": \"age\", \"sort\": null, \"title\": \"Age\", \"type\": \"ordinal\"}}, \"height\": 300, \"selection\": {\"selector027\": {\"type\": \"interval\", \"encodings\": [\"x\"]}}, \"transform\": [{\"filter\": {\"selection\": \"selector028\"}}], \"width\": 450}, {\"mark\": {\"type\": \"bar\", \"color\": \"#4C7FFF\", \"opacity\": 0.7}, \"encoding\": {\"x\": {\"field\": \"age\", \"sort\": null, \"title\": \"Age\", \"type\": \"ordinal\"}, \"y\": {\"aggregate\": \"sum\", \"field\": \"noisy_count\", \"type\": \"quantitative\"}}, \"transform\": [{\"filter\": {\"selection\": \"selector028\"}}]}, {\"mark\": {\"type\": \"tick\", \"color\": \"black\", \"width\": 0}, \"encoding\": {\"x\": {\"field\": \"age\", \"sort\": null, \"title\": \"Age\", \"type\": \"ordinal\"}, \"y\": {\"aggregate\": \"sum\", \"field\": \"plus_error\", \"type\": \"quantitative\"}}, \"transform\": [{\"filter\": {\"selection\": \"selector028\"}}]}, {\"mark\": {\"type\": \"tick\", \"color\": \"black\", \"width\": 0}, \"encoding\": {\"x\": {\"field\": \"age\", \"sort\": null, \"title\": \"Age\", \"type\": \"ordinal\"}, \"y\": {\"aggregate\": \"sum\", \"field\": \"minus_error\", \"type\": \"quantitative\"}}, \"transform\": [{\"filter\": {\"selection\": \"selector028\"}}]}, {\"mark\": {\"type\": \"point\", \"color\": \"black\"}, \"encoding\": {\"x\": {\"field\": \"age\", \"sort\": null, \"title\": \"Age\", \"type\": \"ordinal\"}, \"y\": {\"aggregate\": \"sum\", \"field\": \"noisy_count\", \"title\": \"Noisy Count\", \"type\": \"quantitative\"}}, \"transform\": [{\"filter\": {\"selection\": \"selector028\"}}]}, {\"mark\": {\"type\": \"rule\", \"size\": 2}, \"encoding\": {\"x\": {\"field\": \"age\", \"sort\": null, \"title\": \"Age\", \"type\": \"ordinal\"}, \"y\": {\"aggregate\": \"sum\", \"field\": \"plus_error\", \"title\": \"\", \"type\": \"quantitative\"}, \"y2\": {\"aggregate\": \"sum\", \"field\": \"minus_error\", \"title\": \"\"}}, \"transform\": [{\"filter\": {\"selection\": \"selector028\"}}]}]}, {\"layer\": [{\"mark\": \"bar\", \"encoding\": {\"color\": {\"value\": \"transparent\"}, \"tooltip\": [{\"aggregate\": \"sum\", \"field\": \"noisy_count\", \"title\": \"noisy count\", \"type\": \"quantitative\"}, {\"aggregate\": \"sum\", \"field\": \"error\", \"title\": \"error\", \"type\": \"quantitative\"}], \"x\": {\"field\": \"income\", \"sort\": null, \"title\": \"Income\", \"type\": \"ordinal\"}}, \"height\": 300, \"selection\": {\"selector028\": {\"type\": \"interval\", \"encodings\": [\"x\"]}}, \"transform\": [{\"filter\": {\"selection\": \"selector027\"}}], \"width\": 450}, {\"mark\": {\"type\": \"bar\", \"color\": \"#4C7FFF\", \"opacity\": 0.7}, \"encoding\": {\"x\": {\"field\": \"income\", \"sort\": null, \"title\": \"Income\", \"type\": \"ordinal\"}, \"y\": {\"aggregate\": \"sum\", \"field\": \"noisy_count\", \"type\": \"quantitative\"}}, \"transform\": [{\"filter\": {\"selection\": \"selector027\"}}]}, {\"mark\": {\"type\": \"tick\", \"color\": \"black\", \"width\": 0}, \"encoding\": {\"x\": {\"field\": \"income\", \"sort\": null, \"title\": \"Income\", \"type\": \"ordinal\"}, \"y\": {\"aggregate\": \"sum\", \"field\": \"plus_error\", \"type\": \"quantitative\"}}, \"transform\": [{\"filter\": {\"selection\": \"selector027\"}}]}, {\"mark\": {\"type\": \"tick\", \"color\": \"black\", \"width\": 0}, \"encoding\": {\"x\": {\"field\": \"income\", \"sort\": null, \"title\": \"Income\", \"type\": \"ordinal\"}, \"y\": {\"aggregate\": \"sum\", \"field\": \"minus_error\", \"type\": \"quantitative\"}}, \"transform\": [{\"filter\": {\"selection\": \"selector027\"}}]}, {\"mark\": {\"type\": \"point\", \"color\": \"black\"}, \"encoding\": {\"x\": {\"field\": \"income\", \"sort\": null, \"title\": \"Income\", \"type\": \"ordinal\"}, \"y\": {\"aggregate\": \"sum\", \"field\": \"noisy_count\", \"title\": \"Noisy Count\", \"type\": \"quantitative\"}}, \"transform\": [{\"filter\": {\"selection\": \"selector027\"}}]}, {\"mark\": {\"type\": \"rule\", \"size\": 2}, \"encoding\": {\"x\": {\"field\": \"income\", \"sort\": null, \"title\": \"Income\", \"type\": \"ordinal\"}, \"y\": {\"aggregate\": \"sum\", \"field\": \"plus_error\", \"title\": \"\", \"type\": \"quantitative\"}, \"y2\": {\"aggregate\": \"sum\", \"field\": \"minus_error\", \"title\": \"\"}}, \"transform\": [{\"filter\": {\"selection\": \"selector027\"}}]}]}], \"data\": {\"name\": \"data-d5dbf45c0d67269ccdf07b22cba4a1ee\"}, \"$schema\": \"https://vega.github.io/schema/vega-lite/v4.17.0.json\", \"datasets\": {\"data-d5dbf45c0d67269ccdf07b22cba4a1ee\": [{\"age\": \"15-24\", \"income\": \"$0k - $49k\", \"noisy_count\": 1409.4, \"true_count\": 1474.0, \"plus_error\": 1511.5, \"minus_error\": 1307.3, \"error\": 102.1}, {\"age\": \"15-24\", \"income\": \"$50k - $99k\", \"noisy_count\": 48.9, \"true_count\": 73.0, \"plus_error\": 151.0, \"minus_error\": -53.2, \"error\": 102.1}, {\"age\": \"15-24\", \"income\": \"$100k - $149k\", \"noisy_count\": -125.0, \"true_count\": 6.0, \"plus_error\": -22.9, \"minus_error\": -227.1, \"error\": 102.1}, {\"age\": \"15-24\", \"income\": \"$150k - $199k\", \"noisy_count\": -126.5, \"true_count\": 1.0, \"plus_error\": -24.4, \"minus_error\": -228.6, \"error\": 102.1}, {\"age\": \"15-24\", \"income\": \"$200k - $249k\", \"noisy_count\": -41.4, \"true_count\": 2.0, \"plus_error\": 60.7, \"minus_error\": -143.5, \"error\": 102.1}, {\"age\": \"15-24\", \"income\": \"$250k - $299k\", \"noisy_count\": -36.4, \"true_count\": 0.0, \"plus_error\": 65.7, \"minus_error\": -138.6, \"error\": 102.1}, {\"age\": \"15-24\", \"income\": \"$300k - $349k\", \"noisy_count\": 108.6, \"true_count\": 0.0, \"plus_error\": 210.8, \"minus_error\": 6.5, \"error\": 102.1}, {\"age\": \"15-24\", \"income\": \"$350k - $399k\", \"noisy_count\": -24.3, \"true_count\": 0.0, \"plus_error\": 13.4, \"minus_error\": -61.9, \"error\": 37.7}, {\"age\": \"15-24\", \"income\": \"$400k - $449k\", \"noisy_count\": -28.1, \"true_count\": 0.0, \"plus_error\": 74.0, \"minus_error\": -130.2, \"error\": 102.1}, {\"age\": \"15-24\", \"income\": \"$450k - $499k\", \"noisy_count\": 4.8, \"true_count\": 0.0, \"plus_error\": 106.9, \"minus_error\": -97.3, \"error\": 102.1}, {\"age\": \"25-34\", \"income\": \"$0k - $49k\", \"noisy_count\": 5427.6, \"true_count\": 5377.0, \"plus_error\": 5710.4, \"minus_error\": 5144.7, \"error\": 282.8}, {\"age\": \"25-34\", \"income\": \"$50k - $99k\", \"noisy_count\": 522.2, \"true_count\": 666.0, \"plus_error\": 805.1, \"minus_error\": 239.4, \"error\": 282.8}, {\"age\": \"25-34\", \"income\": \"$100k - $149k\", \"noisy_count\": 14.0, \"true_count\": 60.0, \"plus_error\": 296.8, \"minus_error\": -268.9, \"error\": 282.8}, {\"age\": \"25-34\", \"income\": \"$150k - $199k\", \"noisy_count\": 473.2, \"true_count\": 29.0, \"plus_error\": 756.0, \"minus_error\": 190.3, \"error\": 282.8}, {\"age\": \"25-34\", \"income\": \"$200k - $249k\", \"noisy_count\": 142.4, \"true_count\": 3.0, \"plus_error\": 425.2, \"minus_error\": -140.5, \"error\": 282.8}, {\"age\": \"25-34\", \"income\": \"$250k - $299k\", \"noisy_count\": -240.3, \"true_count\": 2.0, \"plus_error\": 42.6, \"minus_error\": -523.1, \"error\": 282.8}, {\"age\": \"25-34\", \"income\": \"$300k - $349k\", \"noisy_count\": -115.9, \"true_count\": 0.0, \"plus_error\": 166.9, \"minus_error\": -398.8, \"error\": 282.8}, {\"age\": \"25-34\", \"income\": \"$350k - $399k\", \"noisy_count\": 98.1, \"true_count\": 0.0, \"plus_error\": 202.4, \"minus_error\": -6.2, \"error\": 104.3}, {\"age\": \"25-34\", \"income\": \"$400k - $449k\", \"noisy_count\": -323.8, \"true_count\": 0.0, \"plus_error\": -41.0, \"minus_error\": -606.7, \"error\": 282.8}, {\"age\": \"25-34\", \"income\": \"$450k - $499k\", \"noisy_count\": -195.6, \"true_count\": 0.0, \"plus_error\": 87.2, \"minus_error\": -478.5, \"error\": 282.8}, {\"age\": \"35-44\", \"income\": \"$0k - $49k\", \"noisy_count\": 5804.3, \"true_count\": 5792.0, \"plus_error\": 5895.0, \"minus_error\": 5713.6, \"error\": 90.7}, {\"age\": \"35-44\", \"income\": \"$50k - $99k\", \"noisy_count\": 1358.7, \"true_count\": 1276.0, \"plus_error\": 1449.4, \"minus_error\": 1268.1, \"error\": 90.7}, {\"age\": \"35-44\", \"income\": \"$100k - $149k\", \"noisy_count\": 80.0, \"true_count\": 155.0, \"plus_error\": 170.7, \"minus_error\": -10.7, \"error\": 90.7}, {\"age\": \"35-44\", \"income\": \"$150k - $199k\", \"noisy_count\": 65.9, \"true_count\": 87.0, \"plus_error\": 156.6, \"minus_error\": -24.8, \"error\": 90.7}, {\"age\": \"35-44\", \"income\": \"$200k - $249k\", \"noisy_count\": -178.5, \"true_count\": 16.0, \"plus_error\": -87.8, \"minus_error\": -269.2, \"error\": 90.7}, {\"age\": \"35-44\", \"income\": \"$250k - $299k\", \"noisy_count\": 21.0, \"true_count\": 6.0, \"plus_error\": 111.7, \"minus_error\": -69.7, \"error\": 90.7}, {\"age\": \"35-44\", \"income\": \"$300k - $349k\", \"noisy_count\": 69.8, \"true_count\": 0.0, \"plus_error\": 160.5, \"minus_error\": -20.9, \"error\": 90.7}, {\"age\": \"35-44\", \"income\": \"$350k - $399k\", \"noisy_count\": -3.0, \"true_count\": 0.0, \"plus_error\": 30.5, \"minus_error\": -36.4, \"error\": 33.4}, {\"age\": \"35-44\", \"income\": \"$400k - $449k\", \"noisy_count\": 49.2, \"true_count\": 0.0, \"plus_error\": 139.9, \"minus_error\": -41.5, \"error\": 90.7}, {\"age\": \"35-44\", \"income\": \"$450k - $499k\", \"noisy_count\": -57.6, \"true_count\": 0.0, \"plus_error\": 33.1, \"minus_error\": -148.3, \"error\": 90.7}, {\"age\": \"45-54\", \"income\": \"$0k - $49k\", \"noisy_count\": 6831.2, \"true_count\": 6798.0, \"plus_error\": 6921.5, \"minus_error\": 6740.9, \"error\": 90.3}, {\"age\": \"45-54\", \"income\": \"$50k - $99k\", \"noisy_count\": 2092.4, \"true_count\": 2097.0, \"plus_error\": 2182.7, \"minus_error\": 2002.0, \"error\": 90.3}, {\"age\": \"45-54\", \"income\": \"$100k - $149k\", \"noisy_count\": 245.8, \"true_count\": 246.0, \"plus_error\": 336.1, \"minus_error\": 155.4, \"error\": 90.3}, {\"age\": \"45-54\", \"income\": \"$150k - $199k\", \"noisy_count\": 272.3, \"true_count\": 149.0, \"plus_error\": 362.7, \"minus_error\": 182.0, \"error\": 90.3}, {\"age\": \"45-54\", \"income\": \"$200k - $249k\", \"noisy_count\": 166.7, \"true_count\": 29.0, \"plus_error\": 257.1, \"minus_error\": 76.4, \"error\": 90.3}, {\"age\": \"45-54\", \"income\": \"$250k - $299k\", \"noisy_count\": -7.2, \"true_count\": 11.0, \"plus_error\": 83.2, \"minus_error\": -97.5, \"error\": 90.3}, {\"age\": \"45-54\", \"income\": \"$300k - $349k\", \"noisy_count\": -37.3, \"true_count\": 2.0, \"plus_error\": 53.0, \"minus_error\": -127.7, \"error\": 90.3}, {\"age\": \"45-54\", \"income\": \"$350k - $399k\", \"noisy_count\": 14.9, \"true_count\": 1.0, \"plus_error\": 48.2, \"minus_error\": -18.4, \"error\": 33.3}, {\"age\": \"45-54\", \"income\": \"$400k - $449k\", \"noisy_count\": 44.7, \"true_count\": 0.0, \"plus_error\": 135.1, \"minus_error\": -45.6, \"error\": 90.3}, {\"age\": \"45-54\", \"income\": \"$450k - $499k\", \"noisy_count\": 18.0, \"true_count\": 0.0, \"plus_error\": 108.4, \"minus_error\": -72.3, \"error\": 90.3}, {\"age\": \"55-64\", \"income\": \"$0k - $49k\", \"noisy_count\": 4549.7, \"true_count\": 4884.0, \"plus_error\": 4832.5, \"minus_error\": 4266.9, \"error\": 282.8}, {\"age\": \"55-64\", \"income\": \"$50k - $99k\", \"noisy_count\": 1865.0, \"true_count\": 1954.0, \"plus_error\": 2147.9, \"minus_error\": 1582.2, \"error\": 282.8}, {\"age\": \"55-64\", \"income\": \"$100k - $149k\", \"noisy_count\": 254.2, \"true_count\": 273.0, \"plus_error\": 537.1, \"minus_error\": -28.6, \"error\": 282.8}, {\"age\": \"55-64\", \"income\": \"$150k - $199k\", \"noisy_count\": 586.1, \"true_count\": 158.0, \"plus_error\": 869.0, \"minus_error\": 303.3, \"error\": 282.8}, {\"age\": \"55-64\", \"income\": \"$200k - $249k\", \"noisy_count\": 149.5, \"true_count\": 34.0, \"plus_error\": 432.3, \"minus_error\": -133.4, \"error\": 282.8}, {\"age\": \"55-64\", \"income\": \"$250k - $299k\", \"noisy_count\": 337.7, \"true_count\": 12.0, \"plus_error\": 620.5, \"minus_error\": 54.8, \"error\": 282.8}, {\"age\": \"55-64\", \"income\": \"$300k - $349k\", \"noisy_count\": -595.9, \"true_count\": 3.0, \"plus_error\": -313.0, \"minus_error\": -878.7, \"error\": 282.8}, {\"age\": \"55-64\", \"income\": \"$350k - $399k\", \"noisy_count\": -145.4, \"true_count\": 1.0, \"plus_error\": -41.0, \"minus_error\": -249.7, \"error\": 104.3}, {\"age\": \"55-64\", \"income\": \"$400k - $449k\", \"noisy_count\": -73.1, \"true_count\": 0.0, \"plus_error\": 209.7, \"minus_error\": -356.0, \"error\": 282.8}, {\"age\": \"55-64\", \"income\": \"$450k - $499k\", \"noisy_count\": 176.6, \"true_count\": 0.0, \"plus_error\": 459.5, \"minus_error\": -106.2, \"error\": 282.8}, {\"age\": \"65-74\", \"income\": \"$0k - $49k\", \"noisy_count\": 4357.0, \"true_count\": 4113.0, \"plus_error\": 4639.8, \"minus_error\": 4074.2, \"error\": 282.8}, {\"age\": \"65-74\", \"income\": \"$50k - $99k\", \"noisy_count\": 764.2, \"true_count\": 1349.0, \"plus_error\": 1047.1, \"minus_error\": 481.4, \"error\": 282.8}, {\"age\": \"65-74\", \"income\": \"$100k - $149k\", \"noisy_count\": -72.1, \"true_count\": 240.0, \"plus_error\": 210.7, \"minus_error\": -355.0, \"error\": 282.8}, {\"age\": \"65-74\", \"income\": \"$150k - $199k\", \"noisy_count\": 204.2, \"true_count\": 123.0, \"plus_error\": 487.0, \"minus_error\": -78.7, \"error\": 282.8}, {\"age\": \"65-74\", \"income\": \"$200k - $249k\", \"noisy_count\": 166.4, \"true_count\": 28.0, \"plus_error\": 449.2, \"minus_error\": -116.4, \"error\": 282.8}, {\"age\": \"65-74\", \"income\": \"$250k - $299k\", \"noisy_count\": 136.8, \"true_count\": 9.0, \"plus_error\": 419.6, \"minus_error\": -146.1, \"error\": 282.8}, {\"age\": \"65-74\", \"income\": \"$300k - $349k\", \"noisy_count\": 76.1, \"true_count\": 4.0, \"plus_error\": 358.9, \"minus_error\": -206.7, \"error\": 282.8}, {\"age\": \"65-74\", \"income\": \"$350k - $399k\", \"noisy_count\": -30.5, \"true_count\": 0.0, \"plus_error\": 73.8, \"minus_error\": -134.8, \"error\": 104.3}, {\"age\": \"65-74\", \"income\": \"$400k - $449k\", \"noisy_count\": 188.9, \"true_count\": 0.0, \"plus_error\": 471.7, \"minus_error\": -94.0, \"error\": 282.8}, {\"age\": \"65-74\", \"income\": \"$450k - $499k\", \"noisy_count\": -6.2, \"true_count\": 1.0, \"plus_error\": 276.6, \"minus_error\": -289.1, \"error\": 282.8}, {\"age\": \"75-84\", \"income\": \"$0k - $49k\", \"noisy_count\": 3309.7, \"true_count\": 3217.0, \"plus_error\": 3592.5, \"minus_error\": 3026.8, \"error\": 282.8}, {\"age\": \"75-84\", \"income\": \"$50k - $99k\", \"noisy_count\": 569.2, \"true_count\": 567.0, \"plus_error\": 852.0, \"minus_error\": 286.3, \"error\": 282.8}, {\"age\": \"75-84\", \"income\": \"$100k - $149k\", \"noisy_count\": -81.4, \"true_count\": 69.0, \"plus_error\": 201.4, \"minus_error\": -364.3, \"error\": 282.8}, {\"age\": \"75-84\", \"income\": \"$150k - $199k\", \"noisy_count\": -2.7, \"true_count\": 34.0, \"plus_error\": 280.1, \"minus_error\": -285.6, \"error\": 282.8}, {\"age\": \"75-84\", \"income\": \"$200k - $249k\", \"noisy_count\": 184.8, \"true_count\": 15.0, \"plus_error\": 467.7, \"minus_error\": -98.0, \"error\": 282.8}, {\"age\": \"75-84\", \"income\": \"$250k - $299k\", \"noisy_count\": 224.1, \"true_count\": 4.0, \"plus_error\": 506.9, \"minus_error\": -58.8, \"error\": 282.8}, {\"age\": \"75-84\", \"income\": \"$300k - $349k\", \"noisy_count\": 60.5, \"true_count\": 2.0, \"plus_error\": 343.4, \"minus_error\": -222.3, \"error\": 282.8}, {\"age\": \"75-84\", \"income\": \"$350k - $399k\", \"noisy_count\": -25.9, \"true_count\": 0.0, \"plus_error\": 78.5, \"minus_error\": -130.2, \"error\": 104.3}, {\"age\": \"75-84\", \"income\": \"$400k - $449k\", \"noisy_count\": -233.9, \"true_count\": 1.0, \"plus_error\": 49.0, \"minus_error\": -516.7, \"error\": 282.8}, {\"age\": \"75-84\", \"income\": \"$450k - $499k\", \"noisy_count\": -353.3, \"true_count\": 0.0, \"plus_error\": -70.4, \"minus_error\": -636.1, \"error\": 282.8}, {\"age\": \"85-94\", \"income\": \"$0k - $49k\", \"noisy_count\": 3377.3, \"true_count\": 3603.0, \"plus_error\": 3660.1, \"minus_error\": 3094.4, \"error\": 282.8}, {\"age\": \"85-94\", \"income\": \"$50k - $99k\", \"noisy_count\": 276.6, \"true_count\": 344.0, \"plus_error\": 559.4, \"minus_error\": -6.3, \"error\": 282.8}, {\"age\": \"85-94\", \"income\": \"$100k - $149k\", \"noisy_count\": 363.3, \"true_count\": 66.0, \"plus_error\": 646.1, \"minus_error\": 80.5, \"error\": 282.8}, {\"age\": \"85-94\", \"income\": \"$150k - $199k\", \"noisy_count\": -141.3, \"true_count\": 13.0, \"plus_error\": 141.5, \"minus_error\": -424.2, \"error\": 282.8}, {\"age\": \"85-94\", \"income\": \"$200k - $249k\", \"noisy_count\": -135.6, \"true_count\": 7.0, \"plus_error\": 147.2, \"minus_error\": -418.5, \"error\": 282.8}, {\"age\": \"85-94\", \"income\": \"$250k - $299k\", \"noisy_count\": -302.5, \"true_count\": 2.0, \"plus_error\": -19.6, \"minus_error\": -585.3, \"error\": 282.8}, {\"age\": \"85-94\", \"income\": \"$300k - $349k\", \"noisy_count\": -24.3, \"true_count\": 1.0, \"plus_error\": 258.6, \"minus_error\": -307.1, \"error\": 282.8}, {\"age\": \"85-94\", \"income\": \"$350k - $399k\", \"noisy_count\": 58.8, \"true_count\": 0.0, \"plus_error\": 163.1, \"minus_error\": -45.5, \"error\": 104.3}, {\"age\": \"85-94\", \"income\": \"$400k - $449k\", \"noisy_count\": 117.7, \"true_count\": 1.0, \"plus_error\": 400.5, \"minus_error\": -165.2, \"error\": 282.8}, {\"age\": \"85-94\", \"income\": \"$450k - $499k\", \"noisy_count\": -550.5, \"true_count\": 0.0, \"plus_error\": -267.6, \"minus_error\": -833.3, \"error\": 282.8}, {\"age\": \"95-104\", \"income\": \"$0k - $49k\", \"noisy_count\": 2527.1, \"true_count\": 2374.0, \"plus_error\": 2809.9, \"minus_error\": 2244.2, \"error\": 282.8}, {\"age\": \"95-104\", \"income\": \"$50k - $99k\", \"noisy_count\": 191.7, \"true_count\": 134.0, \"plus_error\": 474.5, \"minus_error\": -91.2, \"error\": 282.8}, {\"age\": \"95-104\", \"income\": \"$100k - $149k\", \"noisy_count\": -68.8, \"true_count\": 24.0, \"plus_error\": 214.1, \"minus_error\": -351.6, \"error\": 282.8}, {\"age\": \"95-104\", \"income\": \"$150k - $199k\", \"noisy_count\": 276.9, \"true_count\": 10.0, \"plus_error\": 559.7, \"minus_error\": -5.9, \"error\": 282.8}, {\"age\": \"95-104\", \"income\": \"$200k - $249k\", \"noisy_count\": -475.4, \"true_count\": 3.0, \"plus_error\": -192.5, \"minus_error\": -758.2, \"error\": 282.8}, {\"age\": \"95-104\", \"income\": \"$250k - $299k\", \"noisy_count\": -615.9, \"true_count\": 0.0, \"plus_error\": -333.1, \"minus_error\": -898.8, \"error\": 282.8}, {\"age\": \"95-104\", \"income\": \"$300k - $349k\", \"noisy_count\": 170.8, \"true_count\": 0.0, \"plus_error\": 453.6, \"minus_error\": -112.0, \"error\": 282.8}, {\"age\": \"95-104\", \"income\": \"$350k - $399k\", \"noisy_count\": 48.0, \"true_count\": 0.0, \"plus_error\": 152.4, \"minus_error\": -56.3, \"error\": 104.3}, {\"age\": \"95-104\", \"income\": \"$400k - $449k\", \"noisy_count\": 323.3, \"true_count\": 0.0, \"plus_error\": 606.1, \"minus_error\": 40.5, \"error\": 282.8}, {\"age\": \"95-104\", \"income\": \"$450k - $499k\", \"noisy_count\": 221.7, \"true_count\": 0.0, \"plus_error\": 504.5, \"minus_error\": -61.2, \"error\": 282.8}, {\"age\": \"105-114\", \"income\": \"$0k - $49k\", \"noisy_count\": 1402.5, \"true_count\": 1319.0, \"plus_error\": 1494.9, \"minus_error\": 1310.0, \"error\": 92.5}, {\"age\": \"105-114\", \"income\": \"$50k - $99k\", \"noisy_count\": -24.7, \"true_count\": 67.0, \"plus_error\": 67.8, \"minus_error\": -117.1, \"error\": 92.5}, {\"age\": \"105-114\", \"income\": \"$100k - $149k\", \"noisy_count\": 96.2, \"true_count\": 10.0, \"plus_error\": 188.7, \"minus_error\": 3.7, \"error\": 92.5}, {\"age\": \"105-114\", \"income\": \"$150k - $199k\", \"noisy_count\": 136.9, \"true_count\": 5.0, \"plus_error\": 229.3, \"minus_error\": 44.4, \"error\": 92.5}, {\"age\": \"105-114\", \"income\": \"$200k - $249k\", \"noisy_count\": 96.1, \"true_count\": 0.0, \"plus_error\": 188.6, \"minus_error\": 3.6, \"error\": 92.5}, {\"age\": \"105-114\", \"income\": \"$250k - $299k\", \"noisy_count\": -62.5, \"true_count\": 0.0, \"plus_error\": 29.9, \"minus_error\": -155.0, \"error\": 92.5}, {\"age\": \"105-114\", \"income\": \"$300k - $349k\", \"noisy_count\": -145.3, \"true_count\": 0.0, \"plus_error\": -52.9, \"minus_error\": -237.8, \"error\": 92.5}, {\"age\": \"105-114\", \"income\": \"$350k - $399k\", \"noisy_count\": 7.5, \"true_count\": 0.0, \"plus_error\": 41.6, \"minus_error\": -26.6, \"error\": 34.1}, {\"age\": \"105-114\", \"income\": \"$400k - $449k\", \"noisy_count\": -38.9, \"true_count\": 0.0, \"plus_error\": 53.6, \"minus_error\": -131.4, \"error\": 92.5}, {\"age\": \"105-114\", \"income\": \"$450k - $499k\", \"noisy_count\": -25.9, \"true_count\": 0.0, \"plus_error\": 66.6, \"minus_error\": -118.4, \"error\": 92.5}]}}, {\"mode\": \"vega-lite\"});\n",
       "</script>"
      ],
      "text/plain": [
       "alt.HConcatChart(...)"
      ]
     },
     "metadata": {},
     "output_type": "display_data"
    },
    {
     "data": {
      "application/vnd.jupyter.widget-view+json": {
       "model_id": "52297338ad8948d39cd24454e3b5e30a",
       "version_major": 2,
       "version_minor": 0
      },
      "text/plain": [
       "VBox(children=(Output(),))"
      ]
     },
     "metadata": {},
     "output_type": "display_data"
    },
    {
     "data": {
      "application/vnd.jupyter.widget-view+json": {
       "model_id": "7ae579bde31e469c8c7bddd9af022106",
       "version_major": 2,
       "version_minor": 0
      },
      "text/plain": [
       "VBox(children=(VBox(children=(Textarea(value='', description='Answer:', layout=Layout(height='50px', width='50…"
      ]
     },
     "metadata": {},
     "output_type": "display_data"
    },
    {
     "name": "stdout",
     "output_type": "stream",
     "text": [
      "RandomState(MT19937)\n"
     ]
    },
    {
     "data": {
      "application/vnd.jupyter.widget-view+json": {
       "model_id": "7e32f2e70f9e423ab6eb5817e1290e0a",
       "version_major": 2,
       "version_minor": 0
      },
      "text/plain": [
       "Button(layout=Layout(height='5px', width='99%'), style=ButtonStyle(button_color='black'))"
      ]
     },
     "metadata": {},
     "output_type": "display_data"
    },
    {
     "data": {
      "application/vnd.jupyter.widget-view+json": {
       "model_id": "4c4caab822ee4d6faca94086620b7e36",
       "version_major": 2,
       "version_minor": 0
      },
      "text/plain": [
       "HBox(children=(HTML(value='<b>Question 3/6: What is the second most common marital status of people with incom…"
      ]
     },
     "metadata": {},
     "output_type": "display_data"
    },
    {
     "data": {
      "application/vnd.jupyter.widget-view+json": {
       "model_id": "e5eca99abca545f881421b5a83c30f4f",
       "version_major": 2,
       "version_minor": 0
      },
      "text/plain": [
       "Button(disabled=True, layout=Layout(height='1px', width='95%'), style=ButtonStyle(button_color='white'))"
      ]
     },
     "metadata": {},
     "output_type": "display_data"
    },
    {
     "data": {
      "application/vnd.jupyter.widget-view+json": {
       "model_id": "923dedfcbdb1461f97ec12101b31c749",
       "version_major": 2,
       "version_minor": 0
      },
      "text/plain": [
       "HBox(children=(HTML(value='<b>Number of Remeasures are Used So Far</b>', placeholder=''), FloatProgress(value=…"
      ]
     },
     "metadata": {},
     "output_type": "display_data"
    },
    {
     "data": {
      "text/html": [
       "\n",
       "<div id=\"altair-viz-7eef00b759dd4ebebc11c2ac3ad5e881\"></div>\n",
       "<script type=\"text/javascript\">\n",
       "  var VEGA_DEBUG = (typeof VEGA_DEBUG == \"undefined\") ? {} : VEGA_DEBUG;\n",
       "  (function(spec, embedOpt){\n",
       "    let outputDiv = document.currentScript.previousElementSibling;\n",
       "    if (outputDiv.id !== \"altair-viz-7eef00b759dd4ebebc11c2ac3ad5e881\") {\n",
       "      outputDiv = document.getElementById(\"altair-viz-7eef00b759dd4ebebc11c2ac3ad5e881\");\n",
       "    }\n",
       "    const paths = {\n",
       "      \"vega\": \"https://cdn.jsdelivr.net/npm//vega@5?noext\",\n",
       "      \"vega-lib\": \"https://cdn.jsdelivr.net/npm//vega-lib?noext\",\n",
       "      \"vega-lite\": \"https://cdn.jsdelivr.net/npm//vega-lite@4.17.0?noext\",\n",
       "      \"vega-embed\": \"https://cdn.jsdelivr.net/npm//vega-embed@6?noext\",\n",
       "    };\n",
       "\n",
       "    function maybeLoadScript(lib, version) {\n",
       "      var key = `${lib.replace(\"-\", \"\")}_version`;\n",
       "      return (VEGA_DEBUG[key] == version) ?\n",
       "        Promise.resolve(paths[lib]) :\n",
       "        new Promise(function(resolve, reject) {\n",
       "          var s = document.createElement('script');\n",
       "          document.getElementsByTagName(\"head\")[0].appendChild(s);\n",
       "          s.async = true;\n",
       "          s.onload = () => {\n",
       "            VEGA_DEBUG[key] = version;\n",
       "            return resolve(paths[lib]);\n",
       "          };\n",
       "          s.onerror = () => reject(`Error loading script: ${paths[lib]}`);\n",
       "          s.src = paths[lib];\n",
       "        });\n",
       "    }\n",
       "\n",
       "    function showError(err) {\n",
       "      outputDiv.innerHTML = `<div class=\"error\" style=\"color:red;\">${err}</div>`;\n",
       "      throw err;\n",
       "    }\n",
       "\n",
       "    function displayChart(vegaEmbed) {\n",
       "      vegaEmbed(outputDiv, spec, embedOpt)\n",
       "        .catch(err => showError(`Javascript Error: ${err.message}<br>This usually means there's a typo in your chart specification. See the javascript console for the full traceback.`));\n",
       "    }\n",
       "\n",
       "    if(typeof define === \"function\" && define.amd) {\n",
       "      requirejs.config({paths});\n",
       "      require([\"vega-embed\"], displayChart, err => showError(`Error loading script: ${err.message}`));\n",
       "    } else {\n",
       "      maybeLoadScript(\"vega\", \"5\")\n",
       "        .then(() => maybeLoadScript(\"vega-lite\", \"4.17.0\"))\n",
       "        .then(() => maybeLoadScript(\"vega-embed\", \"6\"))\n",
       "        .catch(showError)\n",
       "        .then(() => displayChart(vegaEmbed));\n",
       "    }\n",
       "  })({\"config\": {\"view\": {\"continuousWidth\": 400, \"continuousHeight\": 300}, \"axis\": {\"labelFontSize\": 11, \"titleFontSize\": 15}, \"axisBottom\": {\"labelAngle\": 60}}, \"hconcat\": [{\"layer\": [{\"mark\": \"bar\", \"encoding\": {\"color\": {\"value\": \"transparent\"}, \"tooltip\": [{\"aggregate\": \"sum\", \"field\": \"noisy_count\", \"title\": \"noisy count\", \"type\": \"quantitative\"}, {\"aggregate\": \"sum\", \"field\": \"error\", \"title\": \"error\", \"type\": \"quantitative\"}], \"x\": {\"field\": \"income\", \"sort\": null, \"title\": \"Income\", \"type\": \"ordinal\"}}, \"height\": 300, \"selection\": {\"selector029\": {\"type\": \"interval\", \"encodings\": [\"x\"]}}, \"transform\": [{\"filter\": {\"selection\": \"selector030\"}}], \"width\": 450}, {\"mark\": {\"type\": \"bar\", \"color\": \"#4C7FFF\", \"opacity\": 0.7}, \"encoding\": {\"x\": {\"field\": \"income\", \"sort\": null, \"title\": \"Income\", \"type\": \"ordinal\"}, \"y\": {\"aggregate\": \"sum\", \"field\": \"noisy_count\", \"type\": \"quantitative\"}}, \"transform\": [{\"filter\": {\"selection\": \"selector030\"}}]}, {\"mark\": {\"type\": \"tick\", \"color\": \"black\", \"width\": 0}, \"encoding\": {\"x\": {\"field\": \"income\", \"sort\": null, \"title\": \"Income\", \"type\": \"ordinal\"}, \"y\": {\"aggregate\": \"sum\", \"field\": \"plus_error\", \"type\": \"quantitative\"}}, \"transform\": [{\"filter\": {\"selection\": \"selector030\"}}]}, {\"mark\": {\"type\": \"tick\", \"color\": \"black\", \"width\": 0}, \"encoding\": {\"x\": {\"field\": \"income\", \"sort\": null, \"title\": \"Income\", \"type\": \"ordinal\"}, \"y\": {\"aggregate\": \"sum\", \"field\": \"minus_error\", \"type\": \"quantitative\"}}, \"transform\": [{\"filter\": {\"selection\": \"selector030\"}}]}, {\"mark\": {\"type\": \"point\", \"color\": \"black\"}, \"encoding\": {\"x\": {\"field\": \"income\", \"sort\": null, \"title\": \"Income\", \"type\": \"ordinal\"}, \"y\": {\"aggregate\": \"sum\", \"field\": \"noisy_count\", \"title\": \"Noisy Count\", \"type\": \"quantitative\"}}, \"transform\": [{\"filter\": {\"selection\": \"selector030\"}}]}, {\"mark\": {\"type\": \"rule\", \"size\": 2}, \"encoding\": {\"x\": {\"field\": \"income\", \"sort\": null, \"title\": \"Income\", \"type\": \"ordinal\"}, \"y\": {\"aggregate\": \"sum\", \"field\": \"plus_error\", \"title\": \"\", \"type\": \"quantitative\"}, \"y2\": {\"aggregate\": \"sum\", \"field\": \"minus_error\", \"title\": \"\"}}, \"transform\": [{\"filter\": {\"selection\": \"selector030\"}}]}]}, {\"layer\": [{\"mark\": \"bar\", \"encoding\": {\"color\": {\"value\": \"transparent\"}, \"tooltip\": [{\"aggregate\": \"sum\", \"field\": \"noisy_count\", \"title\": \"noisy count\", \"type\": \"quantitative\"}, {\"aggregate\": \"sum\", \"field\": \"error\", \"title\": \"error\", \"type\": \"quantitative\"}], \"x\": {\"field\": \"marital\", \"sort\": null, \"title\": \"Marital\", \"type\": \"ordinal\"}}, \"height\": 300, \"selection\": {\"selector030\": {\"type\": \"interval\", \"encodings\": [\"x\"]}}, \"transform\": [{\"filter\": {\"selection\": \"selector029\"}}], \"width\": 450}, {\"mark\": {\"type\": \"bar\", \"color\": \"#4C7FFF\", \"opacity\": 0.7}, \"encoding\": {\"x\": {\"field\": \"marital\", \"sort\": null, \"title\": \"Marital\", \"type\": \"ordinal\"}, \"y\": {\"aggregate\": \"sum\", \"field\": \"noisy_count\", \"type\": \"quantitative\"}}, \"transform\": [{\"filter\": {\"selection\": \"selector029\"}}]}, {\"mark\": {\"type\": \"tick\", \"color\": \"black\", \"width\": 0}, \"encoding\": {\"x\": {\"field\": \"marital\", \"sort\": null, \"title\": \"Marital\", \"type\": \"ordinal\"}, \"y\": {\"aggregate\": \"sum\", \"field\": \"plus_error\", \"type\": \"quantitative\"}}, \"transform\": [{\"filter\": {\"selection\": \"selector029\"}}]}, {\"mark\": {\"type\": \"tick\", \"color\": \"black\", \"width\": 0}, \"encoding\": {\"x\": {\"field\": \"marital\", \"sort\": null, \"title\": \"Marital\", \"type\": \"ordinal\"}, \"y\": {\"aggregate\": \"sum\", \"field\": \"minus_error\", \"type\": \"quantitative\"}}, \"transform\": [{\"filter\": {\"selection\": \"selector029\"}}]}, {\"mark\": {\"type\": \"point\", \"color\": \"black\"}, \"encoding\": {\"x\": {\"field\": \"marital\", \"sort\": null, \"title\": \"Marital\", \"type\": \"ordinal\"}, \"y\": {\"aggregate\": \"sum\", \"field\": \"noisy_count\", \"title\": \"Noisy Count\", \"type\": \"quantitative\"}}, \"transform\": [{\"filter\": {\"selection\": \"selector029\"}}]}, {\"mark\": {\"type\": \"rule\", \"size\": 2}, \"encoding\": {\"x\": {\"field\": \"marital\", \"sort\": null, \"title\": \"Marital\", \"type\": \"ordinal\"}, \"y\": {\"aggregate\": \"sum\", \"field\": \"plus_error\", \"title\": \"\", \"type\": \"quantitative\"}, \"y2\": {\"aggregate\": \"sum\", \"field\": \"minus_error\", \"title\": \"\"}}, \"transform\": [{\"filter\": {\"selection\": \"selector029\"}}]}]}], \"data\": {\"name\": \"data-4ca00eaabe62b66bdf76a4836ccae1ba\"}, \"$schema\": \"https://vega.github.io/schema/vega-lite/v4.17.0.json\", \"datasets\": {\"data-4ca00eaabe62b66bdf76a4836ccae1ba\": [{\"income\": \"$0k - $49k\", \"marital\": \"Married\", \"noisy_count\": 18761.7, \"true_count\": 18732.0, \"plus_error\": 18851.1, \"minus_error\": 18672.2, \"error\": 89.4}, {\"income\": \"$0k - $49k\", \"marital\": \"Absent\", \"noisy_count\": 5.8, \"true_count\": 91.0, \"plus_error\": 95.3, \"minus_error\": -83.6, \"error\": 89.4}, {\"income\": \"$0k - $49k\", \"marital\": \"Separated\", \"noisy_count\": 526.9, \"true_count\": 622.0, \"plus_error\": 616.3, \"minus_error\": 437.4, \"error\": 89.4}, {\"income\": \"$0k - $49k\", \"marital\": \"Widowed\", \"noisy_count\": 4448.3, \"true_count\": 4450.0, \"plus_error\": 4537.7, \"minus_error\": 4358.8, \"error\": 89.4}, {\"income\": \"$0k - $49k\", \"marital\": \"Divorced\", \"noisy_count\": 6100.1, \"true_count\": 6076.0, \"plus_error\": 6189.6, \"minus_error\": 6010.7, \"error\": 89.4}, {\"income\": \"$0k - $49k\", \"marital\": \"Divorced/Widowed\", \"noisy_count\": 1302.2, \"true_count\": 1315.0, \"plus_error\": 1391.6, \"minus_error\": 1212.7, \"error\": 89.4}, {\"income\": \"$0k - $49k\", \"marital\": \"Never Married\", \"noisy_count\": 7688.3, \"true_count\": 7665.0, \"plus_error\": 7777.7, \"minus_error\": 7598.8, \"error\": 89.4}, {\"income\": \"$50k - $99k\", \"marital\": \"Married\", \"noisy_count\": 6667.2, \"true_count\": 6704.0, \"plus_error\": 6756.7, \"minus_error\": 6577.8, \"error\": 89.4}, {\"income\": \"$50k - $99k\", \"marital\": \"Absent\", \"noisy_count\": 18.1, \"true_count\": 24.0, \"plus_error\": 107.5, \"minus_error\": -71.4, \"error\": 89.4}, {\"income\": \"$50k - $99k\", \"marital\": \"Separated\", \"noisy_count\": 110.9, \"true_count\": 76.0, \"plus_error\": 200.4, \"minus_error\": 21.5, \"error\": 89.4}, {\"income\": \"$50k - $99k\", \"marital\": \"Widowed\", \"noisy_count\": 239.0, \"true_count\": 250.0, \"plus_error\": 328.5, \"minus_error\": 149.6, \"error\": 89.4}, {\"income\": \"$50k - $99k\", \"marital\": \"Divorced\", \"noisy_count\": 732.1, \"true_count\": 650.0, \"plus_error\": 821.6, \"minus_error\": 642.7, \"error\": 89.4}, {\"income\": \"$50k - $99k\", \"marital\": \"Divorced/Widowed\", \"noisy_count\": 253.5, \"true_count\": 75.0, \"plus_error\": 342.9, \"minus_error\": 164.1, \"error\": 89.4}, {\"income\": \"$50k - $99k\", \"marital\": \"Never Married\", \"noisy_count\": 682.3, \"true_count\": 748.0, \"plus_error\": 771.7, \"minus_error\": 592.8, \"error\": 89.4}, {\"income\": \"$100k - $149k\", \"marital\": \"Married\", \"noisy_count\": 951.4, \"true_count\": 937.0, \"plus_error\": 980.4, \"minus_error\": 922.4, \"error\": 29.0}, {\"income\": \"$100k - $149k\", \"marital\": \"Absent\", \"noisy_count\": 0.4, \"true_count\": 2.0, \"plus_error\": 29.4, \"minus_error\": -28.6, \"error\": 29.0}, {\"income\": \"$100k - $149k\", \"marital\": \"Separated\", \"noisy_count\": 11.9, \"true_count\": 8.0, \"plus_error\": 40.9, \"minus_error\": -17.1, \"error\": 29.0}, {\"income\": \"$100k - $149k\", \"marital\": \"Widowed\", \"noisy_count\": 25.6, \"true_count\": 22.0, \"plus_error\": 54.6, \"minus_error\": -3.4, \"error\": 29.0}, {\"income\": \"$100k - $149k\", \"marital\": \"Divorced\", \"noisy_count\": 144.0, \"true_count\": 78.0, \"plus_error\": 173.0, \"minus_error\": 115.0, \"error\": 29.0}, {\"income\": \"$100k - $149k\", \"marital\": \"Divorced/Widowed\", \"noisy_count\": 15.3, \"true_count\": 7.0, \"plus_error\": 44.3, \"minus_error\": -13.7, \"error\": 29.0}, {\"income\": \"$100k - $149k\", \"marital\": \"Never Married\", \"noisy_count\": 79.6, \"true_count\": 95.0, \"plus_error\": 108.6, \"minus_error\": 50.6, \"error\": 29.0}, {\"income\": \"$150k - $199k\", \"marital\": \"Married\", \"noisy_count\": 510.7, \"true_count\": 524.0, \"plus_error\": 540.0, \"minus_error\": 481.5, \"error\": 29.2}, {\"income\": \"$150k - $199k\", \"marital\": \"Absent\", \"noisy_count\": 8.9, \"true_count\": 0.0, \"plus_error\": 38.1, \"minus_error\": -20.4, \"error\": 29.2}, {\"income\": \"$150k - $199k\", \"marital\": \"Separated\", \"noisy_count\": -33.9, \"true_count\": 4.0, \"plus_error\": -4.6, \"minus_error\": -63.1, \"error\": 29.2}, {\"income\": \"$150k - $199k\", \"marital\": \"Widowed\", \"noisy_count\": 19.3, \"true_count\": 7.0, \"plus_error\": 48.6, \"minus_error\": -9.9, \"error\": 29.2}, {\"income\": \"$150k - $199k\", \"marital\": \"Divorced\", \"noisy_count\": 22.8, \"true_count\": 27.0, \"plus_error\": 52.1, \"minus_error\": -6.4, \"error\": 29.2}, {\"income\": \"$150k - $199k\", \"marital\": \"Divorced/Widowed\", \"noisy_count\": 40.1, \"true_count\": 3.0, \"plus_error\": 69.3, \"minus_error\": 10.8, \"error\": 29.2}, {\"income\": \"$150k - $199k\", \"marital\": \"Never Married\", \"noisy_count\": 34.3, \"true_count\": 44.0, \"plus_error\": 63.5, \"minus_error\": 5.1, \"error\": 29.2}, {\"income\": \"$200k - $249k\", \"marital\": \"Married\", \"noisy_count\": 11.3, \"true_count\": 111.0, \"plus_error\": 100.8, \"minus_error\": -78.1, \"error\": 89.4}, {\"income\": \"$200k - $249k\", \"marital\": \"Absent\", \"noisy_count\": -10.9, \"true_count\": 0.0, \"plus_error\": 78.5, \"minus_error\": -100.4, \"error\": 89.4}, {\"income\": \"$200k - $249k\", \"marital\": \"Separated\", \"noisy_count\": 52.0, \"true_count\": 1.0, \"plus_error\": 141.5, \"minus_error\": -37.4, \"error\": 89.4}, {\"income\": \"$200k - $249k\", \"marital\": \"Widowed\", \"noisy_count\": -30.1, \"true_count\": 4.0, \"plus_error\": 59.4, \"minus_error\": -119.5, \"error\": 89.4}, {\"income\": \"$200k - $249k\", \"marital\": \"Divorced\", \"noisy_count\": -25.4, \"true_count\": 13.0, \"plus_error\": 64.0, \"minus_error\": -114.8, \"error\": 89.4}, {\"income\": \"$200k - $249k\", \"marital\": \"Divorced/Widowed\", \"noisy_count\": 21.8, \"true_count\": 3.0, \"plus_error\": 111.2, \"minus_error\": -67.7, \"error\": 89.4}, {\"income\": \"$200k - $249k\", \"marital\": \"Never Married\", \"noisy_count\": -25.7, \"true_count\": 5.0, \"plus_error\": 63.7, \"minus_error\": -115.2, \"error\": 89.4}, {\"income\": \"$250k - $299k\", \"marital\": \"Married\", \"noisy_count\": -77.5, \"true_count\": 41.0, \"plus_error\": 12.0, \"minus_error\": -166.9, \"error\": 89.4}, {\"income\": \"$250k - $299k\", \"marital\": \"Absent\", \"noisy_count\": -164.7, \"true_count\": 0.0, \"plus_error\": -75.3, \"minus_error\": -254.2, \"error\": 89.4}, {\"income\": \"$250k - $299k\", \"marital\": \"Separated\", \"noisy_count\": 195.2, \"true_count\": 0.0, \"plus_error\": 284.6, \"minus_error\": 105.7, \"error\": 89.4}, {\"income\": \"$250k - $299k\", \"marital\": \"Widowed\", \"noisy_count\": -43.1, \"true_count\": 0.0, \"plus_error\": 46.3, \"minus_error\": -132.6, \"error\": 89.4}, {\"income\": \"$250k - $299k\", \"marital\": \"Divorced\", \"noisy_count\": 55.3, \"true_count\": 5.0, \"plus_error\": 144.8, \"minus_error\": -34.1, \"error\": 89.4}, {\"income\": \"$250k - $299k\", \"marital\": \"Divorced/Widowed\", \"noisy_count\": -97.6, \"true_count\": 0.0, \"plus_error\": -8.1, \"minus_error\": -187.0, \"error\": 89.4}, {\"income\": \"$250k - $299k\", \"marital\": \"Never Married\", \"noisy_count\": 114.6, \"true_count\": 0.0, \"plus_error\": 204.0, \"minus_error\": 25.1, \"error\": 89.4}, {\"income\": \"$300k - $349k\", \"marital\": \"Married\", \"noisy_count\": 82.8, \"true_count\": 11.0, \"plus_error\": 172.2, \"minus_error\": -6.7, \"error\": 89.4}, {\"income\": \"$300k - $349k\", \"marital\": \"Absent\", \"noisy_count\": 38.6, \"true_count\": 0.0, \"plus_error\": 128.1, \"minus_error\": -50.8, \"error\": 89.4}, {\"income\": \"$300k - $349k\", \"marital\": \"Separated\", \"noisy_count\": 20.9, \"true_count\": 0.0, \"plus_error\": 110.3, \"minus_error\": -68.6, \"error\": 89.4}, {\"income\": \"$300k - $349k\", \"marital\": \"Widowed\", \"noisy_count\": 103.5, \"true_count\": 0.0, \"plus_error\": 192.9, \"minus_error\": 14.0, \"error\": 89.4}, {\"income\": \"$300k - $349k\", \"marital\": \"Divorced\", \"noisy_count\": -40.4, \"true_count\": 1.0, \"plus_error\": 49.1, \"minus_error\": -129.8, \"error\": 89.4}, {\"income\": \"$300k - $349k\", \"marital\": \"Divorced/Widowed\", \"noisy_count\": -14.2, \"true_count\": 0.0, \"plus_error\": 75.3, \"minus_error\": -103.6, \"error\": 89.4}, {\"income\": \"$300k - $349k\", \"marital\": \"Never Married\", \"noisy_count\": -155.3, \"true_count\": 0.0, \"plus_error\": -65.8, \"minus_error\": -244.7, \"error\": 89.4}, {\"income\": \"$350k - $399k\", \"marital\": \"Married\", \"noisy_count\": 2.0, \"true_count\": 2.0, \"plus_error\": 31.2, \"minus_error\": -27.2, \"error\": 29.2}, {\"income\": \"$350k - $399k\", \"marital\": \"Absent\", \"noisy_count\": -6.2, \"true_count\": 0.0, \"plus_error\": 23.0, \"minus_error\": -35.4, \"error\": 29.2}, {\"income\": \"$350k - $399k\", \"marital\": \"Separated\", \"noisy_count\": 7.3, \"true_count\": 0.0, \"plus_error\": 36.5, \"minus_error\": -22.0, \"error\": 29.2}, {\"income\": \"$350k - $399k\", \"marital\": \"Widowed\", \"noisy_count\": -14.0, \"true_count\": 0.0, \"plus_error\": 15.2, \"minus_error\": -43.2, \"error\": 29.2}, {\"income\": \"$350k - $399k\", \"marital\": \"Divorced\", \"noisy_count\": -16.1, \"true_count\": 0.0, \"plus_error\": 13.1, \"minus_error\": -45.3, \"error\": 29.2}, {\"income\": \"$350k - $399k\", \"marital\": \"Divorced/Widowed\", \"noisy_count\": -16.9, \"true_count\": 0.0, \"plus_error\": 12.3, \"minus_error\": -46.1, \"error\": 29.2}, {\"income\": \"$350k - $399k\", \"marital\": \"Never Married\", \"noisy_count\": 52.2, \"true_count\": 0.0, \"plus_error\": 81.4, \"minus_error\": 23.0, \"error\": 29.2}, {\"income\": \"$400k - $449k\", \"marital\": \"Married\", \"noisy_count\": 123.4, \"true_count\": 2.0, \"plus_error\": 212.9, \"minus_error\": 34.0, \"error\": 89.4}, {\"income\": \"$400k - $449k\", \"marital\": \"Absent\", \"noisy_count\": -34.9, \"true_count\": 0.0, \"plus_error\": 54.5, \"minus_error\": -124.4, \"error\": 89.4}, {\"income\": \"$400k - $449k\", \"marital\": \"Separated\", \"noisy_count\": 82.9, \"true_count\": 0.0, \"plus_error\": 172.3, \"minus_error\": -6.6, \"error\": 89.4}, {\"income\": \"$400k - $449k\", \"marital\": \"Widowed\", \"noisy_count\": 111.4, \"true_count\": 0.0, \"plus_error\": 200.8, \"minus_error\": 21.9, \"error\": 89.4}, {\"income\": \"$400k - $449k\", \"marital\": \"Divorced\", \"noisy_count\": -124.9, \"true_count\": 0.0, \"plus_error\": -35.4, \"minus_error\": -214.3, \"error\": 89.4}, {\"income\": \"$400k - $449k\", \"marital\": \"Divorced/Widowed\", \"noisy_count\": 150.3, \"true_count\": 0.0, \"plus_error\": 239.8, \"minus_error\": 60.9, \"error\": 89.4}, {\"income\": \"$400k - $449k\", \"marital\": \"Never Married\", \"noisy_count\": 36.3, \"true_count\": 0.0, \"plus_error\": 125.7, \"minus_error\": -53.2, \"error\": 89.4}, {\"income\": \"$450k - $499k\", \"marital\": \"Married\", \"noisy_count\": -24.6, \"true_count\": 1.0, \"plus_error\": 64.8, \"minus_error\": -114.0, \"error\": 89.4}, {\"income\": \"$450k - $499k\", \"marital\": \"Absent\", \"noisy_count\": -6.2, \"true_count\": 0.0, \"plus_error\": 83.3, \"minus_error\": -95.6, \"error\": 89.4}, {\"income\": \"$450k - $499k\", \"marital\": \"Separated\", \"noisy_count\": 190.1, \"true_count\": 0.0, \"plus_error\": 279.6, \"minus_error\": 100.7, \"error\": 89.4}, {\"income\": \"$450k - $499k\", \"marital\": \"Widowed\", \"noisy_count\": 95.8, \"true_count\": 0.0, \"plus_error\": 185.3, \"minus_error\": 6.4, \"error\": 89.4}, {\"income\": \"$450k - $499k\", \"marital\": \"Divorced\", \"noisy_count\": 24.3, \"true_count\": 0.0, \"plus_error\": 113.8, \"minus_error\": -65.1, \"error\": 89.4}, {\"income\": \"$450k - $499k\", \"marital\": \"Divorced/Widowed\", \"noisy_count\": 54.7, \"true_count\": 0.0, \"plus_error\": 144.2, \"minus_error\": -34.7, \"error\": 89.4}, {\"income\": \"$450k - $499k\", \"marital\": \"Never Married\", \"noisy_count\": -66.6, \"true_count\": 0.0, \"plus_error\": 22.9, \"minus_error\": -156.0, \"error\": 89.4}]}}, {\"mode\": \"vega-lite\"});\n",
       "</script>"
      ],
      "text/plain": [
       "alt.HConcatChart(...)"
      ]
     },
     "metadata": {},
     "output_type": "display_data"
    },
    {
     "data": {
      "application/vnd.jupyter.widget-view+json": {
       "model_id": "bd9de01a9a694888989432919fd6ab03",
       "version_major": 2,
       "version_minor": 0
      },
      "text/plain": [
       "VBox(children=(Output(),))"
      ]
     },
     "metadata": {},
     "output_type": "display_data"
    },
    {
     "data": {
      "application/vnd.jupyter.widget-view+json": {
       "model_id": "ddf465493b134b14b71e4b939194c53b",
       "version_major": 2,
       "version_minor": 0
      },
      "text/plain": [
       "VBox(children=(VBox(children=(Textarea(value='', description='Answer:', layout=Layout(height='50px', width='50…"
      ]
     },
     "metadata": {},
     "output_type": "display_data"
    },
    {
     "name": "stdout",
     "output_type": "stream",
     "text": [
      "RandomState(MT19937)\n"
     ]
    },
    {
     "data": {
      "application/vnd.jupyter.widget-view+json": {
       "model_id": "7e32f2e70f9e423ab6eb5817e1290e0a",
       "version_major": 2,
       "version_minor": 0
      },
      "text/plain": [
       "Button(layout=Layout(height='5px', width='99%'), style=ButtonStyle(button_color='black'))"
      ]
     },
     "metadata": {},
     "output_type": "display_data"
    },
    {
     "data": {
      "application/vnd.jupyter.widget-view+json": {
       "model_id": "9bbc6fc3dfd94d2786f44c13ee5f5302",
       "version_major": 2,
       "version_minor": 0
      },
      "text/plain": [
       "HBox(children=(HTML(value=\"<b>Question 4/6: Choose the top 3 age groups that have marital status: 'Never Marri…"
      ]
     },
     "metadata": {},
     "output_type": "display_data"
    },
    {
     "data": {
      "application/vnd.jupyter.widget-view+json": {
       "model_id": "e5eca99abca545f881421b5a83c30f4f",
       "version_major": 2,
       "version_minor": 0
      },
      "text/plain": [
       "Button(disabled=True, layout=Layout(height='1px', width='95%'), style=ButtonStyle(button_color='white'))"
      ]
     },
     "metadata": {},
     "output_type": "display_data"
    },
    {
     "data": {
      "application/vnd.jupyter.widget-view+json": {
       "model_id": "6159f638e774430c8529899968a249e7",
       "version_major": 2,
       "version_minor": 0
      },
      "text/plain": [
       "HBox(children=(HTML(value='<b>Number of Remeasures are Used So Far</b>', placeholder=''), FloatProgress(value=…"
      ]
     },
     "metadata": {},
     "output_type": "display_data"
    },
    {
     "data": {
      "text/html": [
       "\n",
       "<div id=\"altair-viz-dfec9c232f54481a81eafafdb5aa6046\"></div>\n",
       "<script type=\"text/javascript\">\n",
       "  var VEGA_DEBUG = (typeof VEGA_DEBUG == \"undefined\") ? {} : VEGA_DEBUG;\n",
       "  (function(spec, embedOpt){\n",
       "    let outputDiv = document.currentScript.previousElementSibling;\n",
       "    if (outputDiv.id !== \"altair-viz-dfec9c232f54481a81eafafdb5aa6046\") {\n",
       "      outputDiv = document.getElementById(\"altair-viz-dfec9c232f54481a81eafafdb5aa6046\");\n",
       "    }\n",
       "    const paths = {\n",
       "      \"vega\": \"https://cdn.jsdelivr.net/npm//vega@5?noext\",\n",
       "      \"vega-lib\": \"https://cdn.jsdelivr.net/npm//vega-lib?noext\",\n",
       "      \"vega-lite\": \"https://cdn.jsdelivr.net/npm//vega-lite@4.17.0?noext\",\n",
       "      \"vega-embed\": \"https://cdn.jsdelivr.net/npm//vega-embed@6?noext\",\n",
       "    };\n",
       "\n",
       "    function maybeLoadScript(lib, version) {\n",
       "      var key = `${lib.replace(\"-\", \"\")}_version`;\n",
       "      return (VEGA_DEBUG[key] == version) ?\n",
       "        Promise.resolve(paths[lib]) :\n",
       "        new Promise(function(resolve, reject) {\n",
       "          var s = document.createElement('script');\n",
       "          document.getElementsByTagName(\"head\")[0].appendChild(s);\n",
       "          s.async = true;\n",
       "          s.onload = () => {\n",
       "            VEGA_DEBUG[key] = version;\n",
       "            return resolve(paths[lib]);\n",
       "          };\n",
       "          s.onerror = () => reject(`Error loading script: ${paths[lib]}`);\n",
       "          s.src = paths[lib];\n",
       "        });\n",
       "    }\n",
       "\n",
       "    function showError(err) {\n",
       "      outputDiv.innerHTML = `<div class=\"error\" style=\"color:red;\">${err}</div>`;\n",
       "      throw err;\n",
       "    }\n",
       "\n",
       "    function displayChart(vegaEmbed) {\n",
       "      vegaEmbed(outputDiv, spec, embedOpt)\n",
       "        .catch(err => showError(`Javascript Error: ${err.message}<br>This usually means there's a typo in your chart specification. See the javascript console for the full traceback.`));\n",
       "    }\n",
       "\n",
       "    if(typeof define === \"function\" && define.amd) {\n",
       "      requirejs.config({paths});\n",
       "      require([\"vega-embed\"], displayChart, err => showError(`Error loading script: ${err.message}`));\n",
       "    } else {\n",
       "      maybeLoadScript(\"vega\", \"5\")\n",
       "        .then(() => maybeLoadScript(\"vega-lite\", \"4.17.0\"))\n",
       "        .then(() => maybeLoadScript(\"vega-embed\", \"6\"))\n",
       "        .catch(showError)\n",
       "        .then(() => displayChart(vegaEmbed));\n",
       "    }\n",
       "  })({\"config\": {\"view\": {\"continuousWidth\": 400, \"continuousHeight\": 300}, \"axis\": {\"labelFontSize\": 11, \"titleFontSize\": 15}, \"axisBottom\": {\"labelAngle\": 60}}, \"hconcat\": [{\"layer\": [{\"mark\": \"bar\", \"encoding\": {\"color\": {\"value\": \"transparent\"}, \"tooltip\": [{\"aggregate\": \"sum\", \"field\": \"noisy_count\", \"title\": \"noisy count\", \"type\": \"quantitative\"}, {\"aggregate\": \"sum\", \"field\": \"error\", \"title\": \"error\", \"type\": \"quantitative\"}], \"x\": {\"field\": \"age\", \"sort\": null, \"title\": \"Age\", \"type\": \"ordinal\"}}, \"height\": 300, \"selection\": {\"selector031\": {\"type\": \"interval\", \"encodings\": [\"x\"]}}, \"transform\": [{\"filter\": {\"selection\": \"selector032\"}}], \"width\": 450}, {\"mark\": {\"type\": \"bar\", \"color\": \"#4C7FFF\", \"opacity\": 0.7}, \"encoding\": {\"x\": {\"field\": \"age\", \"sort\": null, \"title\": \"Age\", \"type\": \"ordinal\"}, \"y\": {\"aggregate\": \"sum\", \"field\": \"noisy_count\", \"type\": \"quantitative\"}}, \"transform\": [{\"filter\": {\"selection\": \"selector032\"}}]}, {\"mark\": {\"type\": \"tick\", \"color\": \"black\", \"width\": 0}, \"encoding\": {\"x\": {\"field\": \"age\", \"sort\": null, \"title\": \"Age\", \"type\": \"ordinal\"}, \"y\": {\"aggregate\": \"sum\", \"field\": \"plus_error\", \"type\": \"quantitative\"}}, \"transform\": [{\"filter\": {\"selection\": \"selector032\"}}]}, {\"mark\": {\"type\": \"tick\", \"color\": \"black\", \"width\": 0}, \"encoding\": {\"x\": {\"field\": \"age\", \"sort\": null, \"title\": \"Age\", \"type\": \"ordinal\"}, \"y\": {\"aggregate\": \"sum\", \"field\": \"minus_error\", \"type\": \"quantitative\"}}, \"transform\": [{\"filter\": {\"selection\": \"selector032\"}}]}, {\"mark\": {\"type\": \"point\", \"color\": \"black\"}, \"encoding\": {\"x\": {\"field\": \"age\", \"sort\": null, \"title\": \"Age\", \"type\": \"ordinal\"}, \"y\": {\"aggregate\": \"sum\", \"field\": \"noisy_count\", \"title\": \"Noisy Count\", \"type\": \"quantitative\"}}, \"transform\": [{\"filter\": {\"selection\": \"selector032\"}}]}, {\"mark\": {\"type\": \"rule\", \"size\": 2}, \"encoding\": {\"x\": {\"field\": \"age\", \"sort\": null, \"title\": \"Age\", \"type\": \"ordinal\"}, \"y\": {\"aggregate\": \"sum\", \"field\": \"plus_error\", \"title\": \"\", \"type\": \"quantitative\"}, \"y2\": {\"aggregate\": \"sum\", \"field\": \"minus_error\", \"title\": \"\"}}, \"transform\": [{\"filter\": {\"selection\": \"selector032\"}}]}]}, {\"layer\": [{\"mark\": \"bar\", \"encoding\": {\"color\": {\"value\": \"transparent\"}, \"tooltip\": [{\"aggregate\": \"sum\", \"field\": \"noisy_count\", \"title\": \"noisy count\", \"type\": \"quantitative\"}, {\"aggregate\": \"sum\", \"field\": \"error\", \"title\": \"error\", \"type\": \"quantitative\"}], \"x\": {\"field\": \"marital\", \"sort\": null, \"title\": \"Marital\", \"type\": \"ordinal\"}}, \"height\": 300, \"selection\": {\"selector032\": {\"type\": \"interval\", \"encodings\": [\"x\"]}}, \"transform\": [{\"filter\": {\"selection\": \"selector031\"}}], \"width\": 450}, {\"mark\": {\"type\": \"bar\", \"color\": \"#4C7FFF\", \"opacity\": 0.7}, \"encoding\": {\"x\": {\"field\": \"marital\", \"sort\": null, \"title\": \"Marital\", \"type\": \"ordinal\"}, \"y\": {\"aggregate\": \"sum\", \"field\": \"noisy_count\", \"type\": \"quantitative\"}}, \"transform\": [{\"filter\": {\"selection\": \"selector031\"}}]}, {\"mark\": {\"type\": \"tick\", \"color\": \"black\", \"width\": 0}, \"encoding\": {\"x\": {\"field\": \"marital\", \"sort\": null, \"title\": \"Marital\", \"type\": \"ordinal\"}, \"y\": {\"aggregate\": \"sum\", \"field\": \"plus_error\", \"type\": \"quantitative\"}}, \"transform\": [{\"filter\": {\"selection\": \"selector031\"}}]}, {\"mark\": {\"type\": \"tick\", \"color\": \"black\", \"width\": 0}, \"encoding\": {\"x\": {\"field\": \"marital\", \"sort\": null, \"title\": \"Marital\", \"type\": \"ordinal\"}, \"y\": {\"aggregate\": \"sum\", \"field\": \"minus_error\", \"type\": \"quantitative\"}}, \"transform\": [{\"filter\": {\"selection\": \"selector031\"}}]}, {\"mark\": {\"type\": \"point\", \"color\": \"black\"}, \"encoding\": {\"x\": {\"field\": \"marital\", \"sort\": null, \"title\": \"Marital\", \"type\": \"ordinal\"}, \"y\": {\"aggregate\": \"sum\", \"field\": \"noisy_count\", \"title\": \"Noisy Count\", \"type\": \"quantitative\"}}, \"transform\": [{\"filter\": {\"selection\": \"selector031\"}}]}, {\"mark\": {\"type\": \"rule\", \"size\": 2}, \"encoding\": {\"x\": {\"field\": \"marital\", \"sort\": null, \"title\": \"Marital\", \"type\": \"ordinal\"}, \"y\": {\"aggregate\": \"sum\", \"field\": \"plus_error\", \"title\": \"\", \"type\": \"quantitative\"}, \"y2\": {\"aggregate\": \"sum\", \"field\": \"minus_error\", \"title\": \"\"}}, \"transform\": [{\"filter\": {\"selection\": \"selector031\"}}]}]}], \"data\": {\"name\": \"data-886156f203464e04f174e6c909164de4\"}, \"$schema\": \"https://vega.github.io/schema/vega-lite/v4.17.0.json\", \"datasets\": {\"data-886156f203464e04f174e6c909164de4\": [{\"age\": \"15-24\", \"marital\": \"Married\", \"noisy_count\": 324.7, \"true_count\": 295.0, \"plus_error\": 414.1, \"minus_error\": 235.2, \"error\": 89.4}, {\"age\": \"15-24\", \"marital\": \"Absent\", \"noisy_count\": -72.2, \"true_count\": 13.0, \"plus_error\": 17.3, \"minus_error\": -161.6, \"error\": 89.4}, {\"age\": \"15-24\", \"marital\": \"Separated\", \"noisy_count\": -77.1, \"true_count\": 18.0, \"plus_error\": 12.3, \"minus_error\": -166.6, \"error\": 89.4}, {\"age\": \"15-24\", \"marital\": \"Widowed\", \"noisy_count\": 0.3, \"true_count\": 2.0, \"plus_error\": 89.7, \"minus_error\": -89.2, \"error\": 89.4}, {\"age\": \"15-24\", \"marital\": \"Divorced\", \"noisy_count\": 46.1, \"true_count\": 22.0, \"plus_error\": 135.6, \"minus_error\": -43.3, \"error\": 89.4}, {\"age\": \"15-24\", \"marital\": \"Divorced/Widowed\", \"noisy_count\": 3.2, \"true_count\": 16.0, \"plus_error\": 92.6, \"minus_error\": -86.3, \"error\": 89.4}, {\"age\": \"15-24\", \"marital\": \"Never Married\", \"noisy_count\": 1213.3, \"true_count\": 1190.0, \"plus_error\": 1302.7, \"minus_error\": 1123.8, \"error\": 89.4}, {\"age\": \"25-34\", \"marital\": \"Married\", \"noisy_count\": 2727.2, \"true_count\": 2764.0, \"plus_error\": 2816.7, \"minus_error\": 2637.8, \"error\": 89.4}, {\"age\": \"25-34\", \"marital\": \"Absent\", \"noisy_count\": 27.1, \"true_count\": 33.0, \"plus_error\": 116.5, \"minus_error\": -62.4, \"error\": 89.4}, {\"age\": \"25-34\", \"marital\": \"Separated\", \"noisy_count\": 111.9, \"true_count\": 77.0, \"plus_error\": 201.4, \"minus_error\": 22.5, \"error\": 89.4}, {\"age\": \"25-34\", \"marital\": \"Widowed\", \"noisy_count\": 0.0, \"true_count\": 11.0, \"plus_error\": 89.5, \"minus_error\": -89.4, \"error\": 89.4}, {\"age\": \"25-34\", \"marital\": \"Divorced\", \"noisy_count\": 454.1, \"true_count\": 372.0, \"plus_error\": 543.6, \"minus_error\": 364.7, \"error\": 89.4}, {\"age\": \"25-34\", \"marital\": \"Divorced/Widowed\", \"noisy_count\": 367.5, \"true_count\": 189.0, \"plus_error\": 456.9, \"minus_error\": 278.1, \"error\": 89.4}, {\"age\": \"25-34\", \"marital\": \"Never Married\", \"noisy_count\": 2625.3, \"true_count\": 2691.0, \"plus_error\": 2714.7, \"minus_error\": 2535.8, \"error\": 89.4}, {\"age\": \"35-44\", \"marital\": \"Married\", \"noisy_count\": 4251.9, \"true_count\": 4273.0, \"plus_error\": 4341.4, \"minus_error\": 4162.5, \"error\": 89.4}, {\"age\": \"35-44\", \"marital\": \"Absent\", \"noisy_count\": -59.4, \"true_count\": 31.0, \"plus_error\": 30.0, \"minus_error\": -148.9, \"error\": 89.4}, {\"age\": \"35-44\", \"marital\": \"Separated\", \"noisy_count\": 45.5, \"true_count\": 96.0, \"plus_error\": 134.9, \"minus_error\": -44.0, \"error\": 89.4}, {\"age\": \"35-44\", \"marital\": \"Widowed\", \"noisy_count\": 19.1, \"true_count\": 57.0, \"plus_error\": 108.6, \"minus_error\": -70.3, \"error\": 89.4}, {\"age\": \"35-44\", \"marital\": \"Divorced\", \"noisy_count\": 910.9, \"true_count\": 905.0, \"plus_error\": 1000.4, \"minus_error\": 821.5, \"error\": 89.4}, {\"age\": \"35-44\", \"marital\": \"Divorced/Widowed\", \"noisy_count\": 429.9, \"true_count\": 286.0, \"plus_error\": 519.4, \"minus_error\": 340.5, \"error\": 89.4}, {\"age\": \"35-44\", \"marital\": \"Never Married\", \"noisy_count\": 1609.9, \"true_count\": 1684.0, \"plus_error\": 1699.4, \"minus_error\": 1520.5, \"error\": 89.4}, {\"age\": \"45-54\", \"marital\": \"Married\", \"noisy_count\": 5603.5, \"true_count\": 5589.0, \"plus_error\": 5632.7, \"minus_error\": 5574.3, \"error\": 29.2}, {\"age\": \"45-54\", \"marital\": \"Absent\", \"noisy_count\": 25.2, \"true_count\": 27.0, \"plus_error\": 54.4, \"minus_error\": -4.0, \"error\": 29.2}, {\"age\": \"45-54\", \"marital\": \"Separated\", \"noisy_count\": 158.1, \"true_count\": 156.0, \"plus_error\": 187.3, \"minus_error\": 128.9, \"error\": 29.2}, {\"age\": \"45-54\", \"marital\": \"Widowed\", \"noisy_count\": 146.2, \"true_count\": 143.0, \"plus_error\": 175.4, \"minus_error\": 117.1, \"error\": 29.2}, {\"age\": \"45-54\", \"marital\": \"Divorced\", \"noisy_count\": 1781.4, \"true_count\": 1715.0, \"plus_error\": 1810.6, \"minus_error\": 1752.2, \"error\": 29.2}, {\"age\": \"45-54\", \"marital\": \"Divorced/Widowed\", \"noisy_count\": 386.5, \"true_count\": 379.0, \"plus_error\": 415.6, \"minus_error\": 357.3, \"error\": 29.2}, {\"age\": \"45-54\", \"marital\": \"Never Married\", \"noisy_count\": 1309.1, \"true_count\": 1324.0, \"plus_error\": 1338.3, \"minus_error\": 1279.9, \"error\": 29.2}, {\"age\": \"55-64\", \"marital\": \"Married\", \"noisy_count\": 4512.4, \"true_count\": 4513.0, \"plus_error\": 4541.2, \"minus_error\": 4483.5, \"error\": 28.9}, {\"age\": \"55-64\", \"marital\": \"Absent\", \"noisy_count\": 2.7, \"true_count\": 10.0, \"plus_error\": 31.6, \"minus_error\": -26.2, \"error\": 28.9}, {\"age\": \"55-64\", \"marital\": \"Separated\", \"noisy_count\": 112.1, \"true_count\": 106.0, \"plus_error\": 141.0, \"minus_error\": 83.2, \"error\": 28.9}, {\"age\": \"55-64\", \"marital\": \"Widowed\", \"noisy_count\": 193.7, \"true_count\": 210.0, \"plus_error\": 222.6, \"minus_error\": 164.9, \"error\": 28.9}, {\"age\": \"55-64\", \"marital\": \"Divorced\", \"noisy_count\": 1492.4, \"true_count\": 1509.0, \"plus_error\": 1521.2, \"minus_error\": 1463.5, \"error\": 28.9}, {\"age\": \"55-64\", \"marital\": \"Divorced/Widowed\", \"noisy_count\": 220.8, \"true_count\": 241.0, \"plus_error\": 249.7, \"minus_error\": 191.9, \"error\": 28.9}, {\"age\": \"55-64\", \"marital\": \"Never Married\", \"noisy_count\": 782.1, \"true_count\": 730.0, \"plus_error\": 810.9, \"minus_error\": 753.2, \"error\": 28.9}, {\"age\": \"65-74\", \"marital\": \"Married\", \"noisy_count\": 3547.5, \"true_count\": 3666.0, \"plus_error\": 3637.0, \"minus_error\": 3458.1, \"error\": 89.4}, {\"age\": \"65-74\", \"marital\": \"Absent\", \"noisy_count\": -163.7, \"true_count\": 1.0, \"plus_error\": -74.3, \"minus_error\": -253.2, \"error\": 89.4}, {\"age\": \"65-74\", \"marital\": \"Separated\", \"noisy_count\": 279.2, \"true_count\": 84.0, \"plus_error\": 368.6, \"minus_error\": 189.7, \"error\": 89.4}, {\"age\": \"65-74\", \"marital\": \"Widowed\", \"noisy_count\": 362.9, \"true_count\": 406.0, \"plus_error\": 452.3, \"minus_error\": 273.4, \"error\": 89.4}, {\"age\": \"65-74\", \"marital\": \"Divorced\", \"noisy_count\": 1211.3, \"true_count\": 1161.0, \"plus_error\": 1300.8, \"minus_error\": 1121.9, \"error\": 89.4}, {\"age\": \"65-74\", \"marital\": \"Divorced/Widowed\", \"noisy_count\": 52.4, \"true_count\": 150.0, \"plus_error\": 141.9, \"minus_error\": -37.0, \"error\": 89.4}, {\"age\": \"65-74\", \"marital\": \"Never Married\", \"noisy_count\": 513.6, \"true_count\": 399.0, \"plus_error\": 603.0, \"minus_error\": 424.1, \"error\": 89.4}, {\"age\": \"75-84\", \"marital\": \"Married\", \"noisy_count\": 2431.8, \"true_count\": 2360.0, \"plus_error\": 2521.2, \"minus_error\": 2342.3, \"error\": 89.4}, {\"age\": \"75-84\", \"marital\": \"Absent\", \"noisy_count\": 40.6, \"true_count\": 2.0, \"plus_error\": 130.1, \"minus_error\": -48.8, \"error\": 89.4}, {\"age\": \"75-84\", \"marital\": \"Separated\", \"noisy_count\": 76.9, \"true_count\": 56.0, \"plus_error\": 166.3, \"minus_error\": -12.6, \"error\": 89.4}, {\"age\": \"75-84\", \"marital\": \"Widowed\", \"noisy_count\": 741.5, \"true_count\": 638.0, \"plus_error\": 830.9, \"minus_error\": 652.0, \"error\": 89.4}, {\"age\": \"75-84\", \"marital\": \"Divorced\", \"noisy_count\": 550.6, \"true_count\": 592.0, \"plus_error\": 640.1, \"minus_error\": 461.2, \"error\": 89.4}, {\"age\": \"75-84\", \"marital\": \"Divorced/Widowed\", \"noisy_count\": 57.8, \"true_count\": 72.0, \"plus_error\": 147.3, \"minus_error\": -31.6, \"error\": 89.4}, {\"age\": \"75-84\", \"marital\": \"Never Married\", \"noisy_count\": 33.7, \"true_count\": 189.0, \"plus_error\": 123.2, \"minus_error\": -55.7, \"error\": 89.4}, {\"age\": \"85-94\", \"marital\": \"Married\", \"noisy_count\": 2147.4, \"true_count\": 2152.0, \"plus_error\": 2175.9, \"minus_error\": 2118.9, \"error\": 28.5}, {\"age\": \"85-94\", \"marital\": \"Absent\", \"noisy_count\": 9.6, \"true_count\": 0.0, \"plus_error\": 38.1, \"minus_error\": -18.9, \"error\": 28.5}, {\"age\": \"85-94\", \"marital\": \"Separated\", \"noisy_count\": 60.6, \"true_count\": 52.0, \"plus_error\": 89.1, \"minus_error\": 32.1, \"error\": 28.5}, {\"age\": \"85-94\", \"marital\": \"Widowed\", \"noisy_count\": 1207.5, \"true_count\": 1211.0, \"plus_error\": 1236.0, \"minus_error\": 1179.1, \"error\": 28.5}, {\"age\": \"85-94\", \"marital\": \"Divorced\", \"noisy_count\": 371.5, \"true_count\": 390.0, \"plus_error\": 400.0, \"minus_error\": 343.0, \"error\": 28.5}, {\"age\": \"85-94\", \"marital\": \"Divorced/Widowed\", \"noisy_count\": 103.7, \"true_count\": 50.0, \"plus_error\": 132.1, \"minus_error\": 75.2, \"error\": 28.5}, {\"age\": \"85-94\", \"marital\": \"Never Married\", \"noisy_count\": 140.8, \"true_count\": 182.0, \"plus_error\": 169.2, \"minus_error\": 112.3, \"error\": 28.5}, {\"age\": \"95-104\", \"marital\": \"Married\", \"noisy_count\": 1042.1, \"true_count\": 1055.0, \"plus_error\": 1071.3, \"minus_error\": 1012.9, \"error\": 29.2}, {\"age\": \"95-104\", \"marital\": \"Absent\", \"noisy_count\": 9.1, \"true_count\": 0.0, \"plus_error\": 38.3, \"minus_error\": -20.1, \"error\": 29.2}, {\"age\": \"95-104\", \"marital\": \"Separated\", \"noisy_count\": 2.4, \"true_count\": 41.0, \"plus_error\": 31.6, \"minus_error\": -26.8, \"error\": 29.2}, {\"age\": \"95-104\", \"marital\": \"Widowed\", \"noisy_count\": 1185.5, \"true_count\": 1174.0, \"plus_error\": 1214.7, \"minus_error\": 1156.3, \"error\": 29.2}, {\"age\": \"95-104\", \"marital\": \"Divorced\", \"noisy_count\": 136.3, \"true_count\": 140.0, \"plus_error\": 165.5, \"minus_error\": 107.1, \"error\": 29.2}, {\"age\": \"95-104\", \"marital\": \"Divorced/Widowed\", \"noisy_count\": 53.1, \"true_count\": 16.0, \"plus_error\": 82.3, \"minus_error\": 23.9, \"error\": 29.2}, {\"age\": \"95-104\", \"marital\": \"Never Married\", \"noisy_count\": 108.9, \"true_count\": 119.0, \"plus_error\": 138.1, \"minus_error\": 79.7, \"error\": 29.2}, {\"age\": \"105-114\", \"marital\": \"Married\", \"noisy_count\": 372.4, \"true_count\": 398.0, \"plus_error\": 461.8, \"minus_error\": 283.0, \"error\": 89.4}, {\"age\": \"105-114\", \"marital\": \"Absent\", \"noisy_count\": -6.2, \"true_count\": 0.0, \"plus_error\": 83.3, \"minus_error\": -95.6, \"error\": 89.4}, {\"age\": \"105-114\", \"marital\": \"Separated\", \"noisy_count\": 215.1, \"true_count\": 25.0, \"plus_error\": 304.6, \"minus_error\": 125.7, \"error\": 89.4}, {\"age\": \"105-114\", \"marital\": \"Widowed\", \"noisy_count\": 976.8, \"true_count\": 881.0, \"plus_error\": 1066.3, \"minus_error\": 887.4, \"error\": 89.4}, {\"age\": \"105-114\", \"marital\": \"Divorced\", \"noisy_count\": 68.3, \"true_count\": 44.0, \"plus_error\": 157.8, \"minus_error\": -21.1, \"error\": 89.4}, {\"age\": \"105-114\", \"marital\": \"Divorced/Widowed\", \"noisy_count\": 58.7, \"true_count\": 4.0, \"plus_error\": 148.2, \"minus_error\": -30.7, \"error\": 89.4}, {\"age\": \"105-114\", \"marital\": \"Never Married\", \"noisy_count\": -17.6, \"true_count\": 49.0, \"plus_error\": 71.9, \"minus_error\": -107.0, \"error\": 89.4}]}}, {\"mode\": \"vega-lite\"});\n",
       "</script>"
      ],
      "text/plain": [
       "alt.HConcatChart(...)"
      ]
     },
     "metadata": {},
     "output_type": "display_data"
    },
    {
     "data": {
      "application/vnd.jupyter.widget-view+json": {
       "model_id": "61c0f94bfaa64317a77cfec7a19ae30b",
       "version_major": 2,
       "version_minor": 0
      },
      "text/plain": [
       "VBox(children=(Output(),))"
      ]
     },
     "metadata": {},
     "output_type": "display_data"
    },
    {
     "data": {
      "application/vnd.jupyter.widget-view+json": {
       "model_id": "2479c7a00f5d42978a04acacffe64c7e",
       "version_major": 2,
       "version_minor": 0
      },
      "text/plain": [
       "VBox(children=(VBox(children=(Textarea(value='', description='Answer:', layout=Layout(height='50px', width='50…"
      ]
     },
     "metadata": {},
     "output_type": "display_data"
    },
    {
     "name": "stdout",
     "output_type": "stream",
     "text": [
      "RandomState(MT19937)\n"
     ]
    },
    {
     "data": {
      "application/vnd.jupyter.widget-view+json": {
       "model_id": "7e32f2e70f9e423ab6eb5817e1290e0a",
       "version_major": 2,
       "version_minor": 0
      },
      "text/plain": [
       "Button(layout=Layout(height='5px', width='99%'), style=ButtonStyle(button_color='black'))"
      ]
     },
     "metadata": {},
     "output_type": "display_data"
    },
    {
     "data": {
      "application/vnd.jupyter.widget-view+json": {
       "model_id": "1b5a5d82ac7a49b9a440b73b248417fa",
       "version_major": 2,
       "version_minor": 0
      },
      "text/plain": [
       "HBox(children=(HTML(value='<b>Question 5/6: In the 100,000 to 199,000 income range, rank the top 3 races in te…"
      ]
     },
     "metadata": {},
     "output_type": "display_data"
    },
    {
     "data": {
      "application/vnd.jupyter.widget-view+json": {
       "model_id": "e5eca99abca545f881421b5a83c30f4f",
       "version_major": 2,
       "version_minor": 0
      },
      "text/plain": [
       "Button(disabled=True, layout=Layout(height='1px', width='95%'), style=ButtonStyle(button_color='white'))"
      ]
     },
     "metadata": {},
     "output_type": "display_data"
    },
    {
     "data": {
      "application/vnd.jupyter.widget-view+json": {
       "model_id": "574981654cc6464da2f2b356b3d27fef",
       "version_major": 2,
       "version_minor": 0
      },
      "text/plain": [
       "HBox(children=(HTML(value='<b>Number of Remeasures are Used So Far</b>', placeholder=''), FloatProgress(value=…"
      ]
     },
     "metadata": {},
     "output_type": "display_data"
    },
    {
     "data": {
      "text/html": [
       "\n",
       "<div id=\"altair-viz-103406ef2cec4ecdb9e03362fcf00999\"></div>\n",
       "<script type=\"text/javascript\">\n",
       "  var VEGA_DEBUG = (typeof VEGA_DEBUG == \"undefined\") ? {} : VEGA_DEBUG;\n",
       "  (function(spec, embedOpt){\n",
       "    let outputDiv = document.currentScript.previousElementSibling;\n",
       "    if (outputDiv.id !== \"altair-viz-103406ef2cec4ecdb9e03362fcf00999\") {\n",
       "      outputDiv = document.getElementById(\"altair-viz-103406ef2cec4ecdb9e03362fcf00999\");\n",
       "    }\n",
       "    const paths = {\n",
       "      \"vega\": \"https://cdn.jsdelivr.net/npm//vega@5?noext\",\n",
       "      \"vega-lib\": \"https://cdn.jsdelivr.net/npm//vega-lib?noext\",\n",
       "      \"vega-lite\": \"https://cdn.jsdelivr.net/npm//vega-lite@4.17.0?noext\",\n",
       "      \"vega-embed\": \"https://cdn.jsdelivr.net/npm//vega-embed@6?noext\",\n",
       "    };\n",
       "\n",
       "    function maybeLoadScript(lib, version) {\n",
       "      var key = `${lib.replace(\"-\", \"\")}_version`;\n",
       "      return (VEGA_DEBUG[key] == version) ?\n",
       "        Promise.resolve(paths[lib]) :\n",
       "        new Promise(function(resolve, reject) {\n",
       "          var s = document.createElement('script');\n",
       "          document.getElementsByTagName(\"head\")[0].appendChild(s);\n",
       "          s.async = true;\n",
       "          s.onload = () => {\n",
       "            VEGA_DEBUG[key] = version;\n",
       "            return resolve(paths[lib]);\n",
       "          };\n",
       "          s.onerror = () => reject(`Error loading script: ${paths[lib]}`);\n",
       "          s.src = paths[lib];\n",
       "        });\n",
       "    }\n",
       "\n",
       "    function showError(err) {\n",
       "      outputDiv.innerHTML = `<div class=\"error\" style=\"color:red;\">${err}</div>`;\n",
       "      throw err;\n",
       "    }\n",
       "\n",
       "    function displayChart(vegaEmbed) {\n",
       "      vegaEmbed(outputDiv, spec, embedOpt)\n",
       "        .catch(err => showError(`Javascript Error: ${err.message}<br>This usually means there's a typo in your chart specification. See the javascript console for the full traceback.`));\n",
       "    }\n",
       "\n",
       "    if(typeof define === \"function\" && define.amd) {\n",
       "      requirejs.config({paths});\n",
       "      require([\"vega-embed\"], displayChart, err => showError(`Error loading script: ${err.message}`));\n",
       "    } else {\n",
       "      maybeLoadScript(\"vega\", \"5\")\n",
       "        .then(() => maybeLoadScript(\"vega-lite\", \"4.17.0\"))\n",
       "        .then(() => maybeLoadScript(\"vega-embed\", \"6\"))\n",
       "        .catch(showError)\n",
       "        .then(() => displayChart(vegaEmbed));\n",
       "    }\n",
       "  })({\"config\": {\"view\": {\"continuousWidth\": 400, \"continuousHeight\": 300}, \"axis\": {\"labelFontSize\": 11, \"titleFontSize\": 15}, \"axisBottom\": {\"labelAngle\": 60}}, \"hconcat\": [{\"layer\": [{\"mark\": \"bar\", \"encoding\": {\"color\": {\"value\": \"transparent\"}, \"tooltip\": [{\"aggregate\": \"sum\", \"field\": \"noisy_count\", \"title\": \"noisy count\", \"type\": \"quantitative\"}, {\"aggregate\": \"sum\", \"field\": \"error\", \"title\": \"error\", \"type\": \"quantitative\"}], \"x\": {\"field\": \"income\", \"sort\": null, \"title\": \"Income\", \"type\": \"ordinal\"}}, \"height\": 300, \"selection\": {\"selector033\": {\"type\": \"interval\", \"encodings\": [\"x\"]}}, \"transform\": [{\"filter\": {\"selection\": \"selector034\"}}], \"width\": 450}, {\"mark\": {\"type\": \"bar\", \"color\": \"#4C7FFF\", \"opacity\": 0.7}, \"encoding\": {\"x\": {\"field\": \"income\", \"sort\": null, \"title\": \"Income\", \"type\": \"ordinal\"}, \"y\": {\"aggregate\": \"sum\", \"field\": \"noisy_count\", \"type\": \"quantitative\"}}, \"transform\": [{\"filter\": {\"selection\": \"selector034\"}}]}, {\"mark\": {\"type\": \"tick\", \"color\": \"black\", \"width\": 0}, \"encoding\": {\"x\": {\"field\": \"income\", \"sort\": null, \"title\": \"Income\", \"type\": \"ordinal\"}, \"y\": {\"aggregate\": \"sum\", \"field\": \"plus_error\", \"type\": \"quantitative\"}}, \"transform\": [{\"filter\": {\"selection\": \"selector034\"}}]}, {\"mark\": {\"type\": \"tick\", \"color\": \"black\", \"width\": 0}, \"encoding\": {\"x\": {\"field\": \"income\", \"sort\": null, \"title\": \"Income\", \"type\": \"ordinal\"}, \"y\": {\"aggregate\": \"sum\", \"field\": \"minus_error\", \"type\": \"quantitative\"}}, \"transform\": [{\"filter\": {\"selection\": \"selector034\"}}]}, {\"mark\": {\"type\": \"point\", \"color\": \"black\"}, \"encoding\": {\"x\": {\"field\": \"income\", \"sort\": null, \"title\": \"Income\", \"type\": \"ordinal\"}, \"y\": {\"aggregate\": \"sum\", \"field\": \"noisy_count\", \"title\": \"Noisy Count\", \"type\": \"quantitative\"}}, \"transform\": [{\"filter\": {\"selection\": \"selector034\"}}]}, {\"mark\": {\"type\": \"rule\", \"size\": 2}, \"encoding\": {\"x\": {\"field\": \"income\", \"sort\": null, \"title\": \"Income\", \"type\": \"ordinal\"}, \"y\": {\"aggregate\": \"sum\", \"field\": \"plus_error\", \"title\": \"\", \"type\": \"quantitative\"}, \"y2\": {\"aggregate\": \"sum\", \"field\": \"minus_error\", \"title\": \"\"}}, \"transform\": [{\"filter\": {\"selection\": \"selector034\"}}]}]}, {\"layer\": [{\"mark\": \"bar\", \"encoding\": {\"color\": {\"value\": \"transparent\"}, \"tooltip\": [{\"aggregate\": \"sum\", \"field\": \"noisy_count\", \"title\": \"noisy count\", \"type\": \"quantitative\"}, {\"aggregate\": \"sum\", \"field\": \"error\", \"title\": \"error\", \"type\": \"quantitative\"}], \"x\": {\"field\": \"race\", \"sort\": null, \"title\": \"Race\", \"type\": \"ordinal\"}}, \"height\": 300, \"selection\": {\"selector034\": {\"type\": \"interval\", \"encodings\": [\"x\"]}}, \"transform\": [{\"filter\": {\"selection\": \"selector033\"}}], \"width\": 450}, {\"mark\": {\"type\": \"bar\", \"color\": \"#4C7FFF\", \"opacity\": 0.7}, \"encoding\": {\"x\": {\"field\": \"race\", \"sort\": null, \"title\": \"Race\", \"type\": \"ordinal\"}, \"y\": {\"aggregate\": \"sum\", \"field\": \"noisy_count\", \"type\": \"quantitative\"}}, \"transform\": [{\"filter\": {\"selection\": \"selector033\"}}]}, {\"mark\": {\"type\": \"tick\", \"color\": \"black\", \"width\": 0}, \"encoding\": {\"x\": {\"field\": \"race\", \"sort\": null, \"title\": \"Race\", \"type\": \"ordinal\"}, \"y\": {\"aggregate\": \"sum\", \"field\": \"plus_error\", \"type\": \"quantitative\"}}, \"transform\": [{\"filter\": {\"selection\": \"selector033\"}}]}, {\"mark\": {\"type\": \"tick\", \"color\": \"black\", \"width\": 0}, \"encoding\": {\"x\": {\"field\": \"race\", \"sort\": null, \"title\": \"Race\", \"type\": \"ordinal\"}, \"y\": {\"aggregate\": \"sum\", \"field\": \"minus_error\", \"type\": \"quantitative\"}}, \"transform\": [{\"filter\": {\"selection\": \"selector033\"}}]}, {\"mark\": {\"type\": \"point\", \"color\": \"black\"}, \"encoding\": {\"x\": {\"field\": \"race\", \"sort\": null, \"title\": \"Race\", \"type\": \"ordinal\"}, \"y\": {\"aggregate\": \"sum\", \"field\": \"noisy_count\", \"title\": \"Noisy Count\", \"type\": \"quantitative\"}}, \"transform\": [{\"filter\": {\"selection\": \"selector033\"}}]}, {\"mark\": {\"type\": \"rule\", \"size\": 2}, \"encoding\": {\"x\": {\"field\": \"race\", \"sort\": null, \"title\": \"Race\", \"type\": \"ordinal\"}, \"y\": {\"aggregate\": \"sum\", \"field\": \"plus_error\", \"title\": \"\", \"type\": \"quantitative\"}, \"y2\": {\"aggregate\": \"sum\", \"field\": \"minus_error\", \"title\": \"\"}}, \"transform\": [{\"filter\": {\"selection\": \"selector033\"}}]}]}], \"data\": {\"name\": \"data-ab70051fc914b71b220147951c83fec8\"}, \"$schema\": \"https://vega.github.io/schema/vega-lite/v4.17.0.json\", \"datasets\": {\"data-ab70051fc914b71b220147951c83fec8\": [{\"income\": \"$0k - $49k\", \"race\": \"White\", \"noisy_count\": 33175.4, \"true_count\": 33156.0, \"plus_error\": 33205.2, \"minus_error\": 33145.7, \"error\": 29.8}, {\"income\": \"$0k - $49k\", \"race\": \"Black\", \"noisy_count\": 4339.6, \"true_count\": 4314.0, \"plus_error\": 4369.3, \"minus_error\": 4309.8, \"error\": 29.8}, {\"income\": \"$0k - $49k\", \"race\": \"American Indian\", \"noisy_count\": 529.6, \"true_count\": 489.0, \"plus_error\": 559.3, \"minus_error\": 499.8, \"error\": 29.8}, {\"income\": \"$0k - $49k\", \"race\": \"Chinese\", \"noisy_count\": 980.2, \"true_count\": 992.0, \"plus_error\": 1010.0, \"minus_error\": 950.5, \"error\": 29.8}, {\"income\": \"$50k - $99k\", \"race\": \"White\", \"noisy_count\": 7511.4, \"true_count\": 7572.0, \"plus_error\": 7600.8, \"minus_error\": 7421.9, \"error\": 89.4}, {\"income\": \"$50k - $99k\", \"race\": \"Black\", \"noisy_count\": 687.8, \"true_count\": 547.0, \"plus_error\": 777.2, \"minus_error\": 598.3, \"error\": 89.4}, {\"income\": \"$50k - $99k\", \"race\": \"American Indian\", \"noisy_count\": -5.9, \"true_count\": 64.0, \"plus_error\": 83.6, \"minus_error\": -95.3, \"error\": 89.4}, {\"income\": \"$50k - $99k\", \"race\": \"Chinese\", \"noisy_count\": 336.9, \"true_count\": 344.0, \"plus_error\": 426.3, \"minus_error\": 247.5, \"error\": 89.4}, {\"income\": \"$100k - $149k\", \"race\": \"White\", \"noisy_count\": 1095.3, \"true_count\": 1036.0, \"plus_error\": 1184.7, \"minus_error\": 1005.8, \"error\": 89.4}, {\"income\": \"$100k - $149k\", \"race\": \"Black\", \"noisy_count\": 19.5, \"true_count\": 45.0, \"plus_error\": 108.9, \"minus_error\": -70.0, \"error\": 89.4}, {\"income\": \"$100k - $149k\", \"race\": \"American Indian\", \"noisy_count\": -74.7, \"true_count\": 4.0, \"plus_error\": 14.8, \"minus_error\": -164.1, \"error\": 89.4}, {\"income\": \"$100k - $149k\", \"race\": \"Chinese\", \"noisy_count\": 36.7, \"true_count\": 64.0, \"plus_error\": 126.1, \"minus_error\": -52.7, \"error\": 89.4}, {\"income\": \"$150k - $199k\", \"race\": \"White\", \"noisy_count\": 563.4, \"true_count\": 559.0, \"plus_error\": 592.7, \"minus_error\": 534.2, \"error\": 29.2}, {\"income\": \"$150k - $199k\", \"race\": \"Black\", \"noisy_count\": 12.4, \"true_count\": 15.0, \"plus_error\": 41.6, \"minus_error\": -16.8, \"error\": 29.2}, {\"income\": \"$150k - $199k\", \"race\": \"American Indian\", \"noisy_count\": 42.3, \"true_count\": 1.0, \"plus_error\": 71.5, \"minus_error\": 13.0, \"error\": 29.2}, {\"income\": \"$150k - $199k\", \"race\": \"Chinese\", \"noisy_count\": 29.4, \"true_count\": 34.0, \"plus_error\": 58.7, \"minus_error\": 0.2, \"error\": 29.2}, {\"income\": \"$200k - $249k\", \"race\": \"White\", \"noisy_count\": -49.0, \"true_count\": 122.0, \"plus_error\": 40.5, \"minus_error\": -138.4, \"error\": 89.4}, {\"income\": \"$200k - $249k\", \"race\": \"Black\", \"noisy_count\": -1.3, \"true_count\": 7.0, \"plus_error\": 88.2, \"minus_error\": -90.7, \"error\": 89.4}, {\"income\": \"$200k - $249k\", \"race\": \"American Indian\", \"noisy_count\": 111.3, \"true_count\": 3.0, \"plus_error\": 200.7, \"minus_error\": 21.8, \"error\": 89.4}, {\"income\": \"$200k - $249k\", \"race\": \"Chinese\", \"noisy_count\": 210.2, \"true_count\": 5.0, \"plus_error\": 299.7, \"minus_error\": 120.8, \"error\": 89.4}, {\"income\": \"$250k - $299k\", \"race\": \"White\", \"noisy_count\": 42.8, \"true_count\": 43.0, \"plus_error\": 71.3, \"minus_error\": 14.2, \"error\": 28.5}, {\"income\": \"$250k - $299k\", \"race\": \"Black\", \"noisy_count\": -3.2, \"true_count\": 0.0, \"plus_error\": 25.4, \"minus_error\": -31.7, \"error\": 28.5}, {\"income\": \"$250k - $299k\", \"race\": \"American Indian\", \"noisy_count\": -10.0, \"true_count\": 0.0, \"plus_error\": 18.5, \"minus_error\": -38.6, \"error\": 28.5}, {\"income\": \"$250k - $299k\", \"race\": \"Chinese\", \"noisy_count\": 40.0, \"true_count\": 3.0, \"plus_error\": 68.5, \"minus_error\": 11.4, \"error\": 28.5}, {\"income\": \"$300k - $349k\", \"race\": \"White\", \"noisy_count\": -63.9, \"true_count\": 11.0, \"plus_error\": 25.5, \"minus_error\": -153.4, \"error\": 89.4}, {\"income\": \"$300k - $349k\", \"race\": \"Black\", \"noisy_count\": 65.3, \"true_count\": 1.0, \"plus_error\": 154.7, \"minus_error\": -24.2, \"error\": 89.4}, {\"income\": \"$300k - $349k\", \"race\": \"American Indian\", \"noisy_count\": 20.4, \"true_count\": 0.0, \"plus_error\": 109.8, \"minus_error\": -69.0, \"error\": 89.4}, {\"income\": \"$300k - $349k\", \"race\": \"Chinese\", \"noisy_count\": -62.2, \"true_count\": 0.0, \"plus_error\": 27.3, \"minus_error\": -151.6, \"error\": 89.4}, {\"income\": \"$350k - $399k\", \"race\": \"White\", \"noisy_count\": -32.3, \"true_count\": 2.0, \"plus_error\": 57.2, \"minus_error\": -121.7, \"error\": 89.4}, {\"income\": \"$350k - $399k\", \"race\": \"Black\", \"noisy_count\": 54.6, \"true_count\": 0.0, \"plus_error\": 144.0, \"minus_error\": -34.8, \"error\": 89.4}, {\"income\": \"$350k - $399k\", \"race\": \"American Indian\", \"noisy_count\": 14.1, \"true_count\": 0.0, \"plus_error\": 103.5, \"minus_error\": -75.3, \"error\": 89.4}, {\"income\": \"$350k - $399k\", \"race\": \"Chinese\", \"noisy_count\": 12.8, \"true_count\": 0.0, \"plus_error\": 102.2, \"minus_error\": -76.7, \"error\": 89.4}, {\"income\": \"$400k - $449k\", \"race\": \"White\", \"noisy_count\": -36.0, \"true_count\": 2.0, \"plus_error\": 53.4, \"minus_error\": -125.5, \"error\": 89.4}, {\"income\": \"$400k - $449k\", \"race\": \"Black\", \"noisy_count\": 68.2, \"true_count\": 0.0, \"plus_error\": 157.6, \"minus_error\": -21.3, \"error\": 89.4}, {\"income\": \"$400k - $449k\", \"race\": \"American Indian\", \"noisy_count\": 74.8, \"true_count\": 0.0, \"plus_error\": 164.3, \"minus_error\": -14.6, \"error\": 89.4}, {\"income\": \"$400k - $449k\", \"race\": \"Chinese\", \"noisy_count\": -2.3, \"true_count\": 0.0, \"plus_error\": 87.1, \"minus_error\": -91.8, \"error\": 89.4}, {\"income\": \"$450k - $499k\", \"race\": \"White\", \"noisy_count\": -103.3, \"true_count\": 1.0, \"plus_error\": -13.8, \"minus_error\": -192.7, \"error\": 89.4}, {\"income\": \"$450k - $499k\", \"race\": \"Black\", \"noisy_count\": 86.3, \"true_count\": 0.0, \"plus_error\": 175.7, \"minus_error\": -3.2, \"error\": 89.4}, {\"income\": \"$450k - $499k\", \"race\": \"American Indian\", \"noisy_count\": -76.7, \"true_count\": 0.0, \"plus_error\": 12.7, \"minus_error\": -166.1, \"error\": 89.4}, {\"income\": \"$450k - $499k\", \"race\": \"Chinese\", \"noisy_count\": 33.1, \"true_count\": 0.0, \"plus_error\": 122.5, \"minus_error\": -56.4, \"error\": 89.4}]}}, {\"mode\": \"vega-lite\"});\n",
       "</script>"
      ],
      "text/plain": [
       "alt.HConcatChart(...)"
      ]
     },
     "metadata": {},
     "output_type": "display_data"
    },
    {
     "data": {
      "application/vnd.jupyter.widget-view+json": {
       "model_id": "5e4c09336f484536997b5b20ff797495",
       "version_major": 2,
       "version_minor": 0
      },
      "text/plain": [
       "VBox(children=(Output(),))"
      ]
     },
     "metadata": {},
     "output_type": "display_data"
    },
    {
     "data": {
      "application/vnd.jupyter.widget-view+json": {
       "model_id": "7ff0b070e34b4013b517b385317dc75a",
       "version_major": 2,
       "version_minor": 0
      },
      "text/plain": [
       "VBox(children=(VBox(children=(Textarea(value='', description='Answer:', layout=Layout(height='50px', width='50…"
      ]
     },
     "metadata": {},
     "output_type": "display_data"
    },
    {
     "name": "stdout",
     "output_type": "stream",
     "text": [
      "RandomState(MT19937)\n"
     ]
    },
    {
     "data": {
      "application/vnd.jupyter.widget-view+json": {
       "model_id": "7e32f2e70f9e423ab6eb5817e1290e0a",
       "version_major": 2,
       "version_minor": 0
      },
      "text/plain": [
       "Button(layout=Layout(height='5px', width='99%'), style=ButtonStyle(button_color='black'))"
      ]
     },
     "metadata": {},
     "output_type": "display_data"
    },
    {
     "data": {
      "application/vnd.jupyter.widget-view+json": {
       "model_id": "318c1458479c4891b35a899c413568c7",
       "version_major": 2,
       "version_minor": 0
      },
      "text/plain": [
       "HBox(children=(HTML(value='<b>Question 6/6: What is the second most common race in the 45-54 age group?</b>', …"
      ]
     },
     "metadata": {},
     "output_type": "display_data"
    },
    {
     "data": {
      "application/vnd.jupyter.widget-view+json": {
       "model_id": "e5eca99abca545f881421b5a83c30f4f",
       "version_major": 2,
       "version_minor": 0
      },
      "text/plain": [
       "Button(disabled=True, layout=Layout(height='1px', width='95%'), style=ButtonStyle(button_color='white'))"
      ]
     },
     "metadata": {},
     "output_type": "display_data"
    },
    {
     "data": {
      "application/vnd.jupyter.widget-view+json": {
       "model_id": "d05f0656c9c5459f919a841797825bf1",
       "version_major": 2,
       "version_minor": 0
      },
      "text/plain": [
       "HBox(children=(HTML(value='<b>Number of Remeasures are Used So Far</b>', placeholder=''), FloatProgress(value=…"
      ]
     },
     "metadata": {},
     "output_type": "display_data"
    },
    {
     "data": {
      "text/html": [
       "\n",
       "<div id=\"altair-viz-396432a0e6214ba1b6335fdb56d9c194\"></div>\n",
       "<script type=\"text/javascript\">\n",
       "  var VEGA_DEBUG = (typeof VEGA_DEBUG == \"undefined\") ? {} : VEGA_DEBUG;\n",
       "  (function(spec, embedOpt){\n",
       "    let outputDiv = document.currentScript.previousElementSibling;\n",
       "    if (outputDiv.id !== \"altair-viz-396432a0e6214ba1b6335fdb56d9c194\") {\n",
       "      outputDiv = document.getElementById(\"altair-viz-396432a0e6214ba1b6335fdb56d9c194\");\n",
       "    }\n",
       "    const paths = {\n",
       "      \"vega\": \"https://cdn.jsdelivr.net/npm//vega@5?noext\",\n",
       "      \"vega-lib\": \"https://cdn.jsdelivr.net/npm//vega-lib?noext\",\n",
       "      \"vega-lite\": \"https://cdn.jsdelivr.net/npm//vega-lite@4.17.0?noext\",\n",
       "      \"vega-embed\": \"https://cdn.jsdelivr.net/npm//vega-embed@6?noext\",\n",
       "    };\n",
       "\n",
       "    function maybeLoadScript(lib, version) {\n",
       "      var key = `${lib.replace(\"-\", \"\")}_version`;\n",
       "      return (VEGA_DEBUG[key] == version) ?\n",
       "        Promise.resolve(paths[lib]) :\n",
       "        new Promise(function(resolve, reject) {\n",
       "          var s = document.createElement('script');\n",
       "          document.getElementsByTagName(\"head\")[0].appendChild(s);\n",
       "          s.async = true;\n",
       "          s.onload = () => {\n",
       "            VEGA_DEBUG[key] = version;\n",
       "            return resolve(paths[lib]);\n",
       "          };\n",
       "          s.onerror = () => reject(`Error loading script: ${paths[lib]}`);\n",
       "          s.src = paths[lib];\n",
       "        });\n",
       "    }\n",
       "\n",
       "    function showError(err) {\n",
       "      outputDiv.innerHTML = `<div class=\"error\" style=\"color:red;\">${err}</div>`;\n",
       "      throw err;\n",
       "    }\n",
       "\n",
       "    function displayChart(vegaEmbed) {\n",
       "      vegaEmbed(outputDiv, spec, embedOpt)\n",
       "        .catch(err => showError(`Javascript Error: ${err.message}<br>This usually means there's a typo in your chart specification. See the javascript console for the full traceback.`));\n",
       "    }\n",
       "\n",
       "    if(typeof define === \"function\" && define.amd) {\n",
       "      requirejs.config({paths});\n",
       "      require([\"vega-embed\"], displayChart, err => showError(`Error loading script: ${err.message}`));\n",
       "    } else {\n",
       "      maybeLoadScript(\"vega\", \"5\")\n",
       "        .then(() => maybeLoadScript(\"vega-lite\", \"4.17.0\"))\n",
       "        .then(() => maybeLoadScript(\"vega-embed\", \"6\"))\n",
       "        .catch(showError)\n",
       "        .then(() => displayChart(vegaEmbed));\n",
       "    }\n",
       "  })({\"config\": {\"view\": {\"continuousWidth\": 400, \"continuousHeight\": 300}, \"axis\": {\"labelFontSize\": 11, \"titleFontSize\": 15}, \"axisBottom\": {\"labelAngle\": 60}}, \"hconcat\": [{\"layer\": [{\"mark\": \"bar\", \"encoding\": {\"color\": {\"value\": \"transparent\"}, \"tooltip\": [{\"aggregate\": \"sum\", \"field\": \"noisy_count\", \"title\": \"noisy count\", \"type\": \"quantitative\"}, {\"aggregate\": \"sum\", \"field\": \"error\", \"title\": \"error\", \"type\": \"quantitative\"}], \"x\": {\"field\": \"age\", \"sort\": null, \"title\": \"Age\", \"type\": \"ordinal\"}}, \"height\": 300, \"selection\": {\"selector035\": {\"type\": \"interval\", \"encodings\": [\"x\"]}}, \"transform\": [{\"filter\": {\"selection\": \"selector036\"}}], \"width\": 450}, {\"mark\": {\"type\": \"bar\", \"color\": \"#4C7FFF\", \"opacity\": 0.7}, \"encoding\": {\"x\": {\"field\": \"age\", \"sort\": null, \"title\": \"Age\", \"type\": \"ordinal\"}, \"y\": {\"aggregate\": \"sum\", \"field\": \"noisy_count\", \"type\": \"quantitative\"}}, \"transform\": [{\"filter\": {\"selection\": \"selector036\"}}]}, {\"mark\": {\"type\": \"tick\", \"color\": \"black\", \"width\": 0}, \"encoding\": {\"x\": {\"field\": \"age\", \"sort\": null, \"title\": \"Age\", \"type\": \"ordinal\"}, \"y\": {\"aggregate\": \"sum\", \"field\": \"plus_error\", \"type\": \"quantitative\"}}, \"transform\": [{\"filter\": {\"selection\": \"selector036\"}}]}, {\"mark\": {\"type\": \"tick\", \"color\": \"black\", \"width\": 0}, \"encoding\": {\"x\": {\"field\": \"age\", \"sort\": null, \"title\": \"Age\", \"type\": \"ordinal\"}, \"y\": {\"aggregate\": \"sum\", \"field\": \"minus_error\", \"type\": \"quantitative\"}}, \"transform\": [{\"filter\": {\"selection\": \"selector036\"}}]}, {\"mark\": {\"type\": \"point\", \"color\": \"black\"}, \"encoding\": {\"x\": {\"field\": \"age\", \"sort\": null, \"title\": \"Age\", \"type\": \"ordinal\"}, \"y\": {\"aggregate\": \"sum\", \"field\": \"noisy_count\", \"title\": \"Noisy Count\", \"type\": \"quantitative\"}}, \"transform\": [{\"filter\": {\"selection\": \"selector036\"}}]}, {\"mark\": {\"type\": \"rule\", \"size\": 2}, \"encoding\": {\"x\": {\"field\": \"age\", \"sort\": null, \"title\": \"Age\", \"type\": \"ordinal\"}, \"y\": {\"aggregate\": \"sum\", \"field\": \"plus_error\", \"title\": \"\", \"type\": \"quantitative\"}, \"y2\": {\"aggregate\": \"sum\", \"field\": \"minus_error\", \"title\": \"\"}}, \"transform\": [{\"filter\": {\"selection\": \"selector036\"}}]}]}, {\"layer\": [{\"mark\": \"bar\", \"encoding\": {\"color\": {\"value\": \"transparent\"}, \"tooltip\": [{\"aggregate\": \"sum\", \"field\": \"noisy_count\", \"title\": \"noisy count\", \"type\": \"quantitative\"}, {\"aggregate\": \"sum\", \"field\": \"error\", \"title\": \"error\", \"type\": \"quantitative\"}], \"x\": {\"field\": \"race\", \"sort\": null, \"title\": \"Race\", \"type\": \"ordinal\"}}, \"height\": 300, \"selection\": {\"selector036\": {\"type\": \"interval\", \"encodings\": [\"x\"]}}, \"transform\": [{\"filter\": {\"selection\": \"selector035\"}}], \"width\": 450}, {\"mark\": {\"type\": \"bar\", \"color\": \"#4C7FFF\", \"opacity\": 0.7}, \"encoding\": {\"x\": {\"field\": \"race\", \"sort\": null, \"title\": \"Race\", \"type\": \"ordinal\"}, \"y\": {\"aggregate\": \"sum\", \"field\": \"noisy_count\", \"type\": \"quantitative\"}}, \"transform\": [{\"filter\": {\"selection\": \"selector035\"}}]}, {\"mark\": {\"type\": \"tick\", \"color\": \"black\", \"width\": 0}, \"encoding\": {\"x\": {\"field\": \"race\", \"sort\": null, \"title\": \"Race\", \"type\": \"ordinal\"}, \"y\": {\"aggregate\": \"sum\", \"field\": \"plus_error\", \"type\": \"quantitative\"}}, \"transform\": [{\"filter\": {\"selection\": \"selector035\"}}]}, {\"mark\": {\"type\": \"tick\", \"color\": \"black\", \"width\": 0}, \"encoding\": {\"x\": {\"field\": \"race\", \"sort\": null, \"title\": \"Race\", \"type\": \"ordinal\"}, \"y\": {\"aggregate\": \"sum\", \"field\": \"minus_error\", \"type\": \"quantitative\"}}, \"transform\": [{\"filter\": {\"selection\": \"selector035\"}}]}, {\"mark\": {\"type\": \"point\", \"color\": \"black\"}, \"encoding\": {\"x\": {\"field\": \"race\", \"sort\": null, \"title\": \"Race\", \"type\": \"ordinal\"}, \"y\": {\"aggregate\": \"sum\", \"field\": \"noisy_count\", \"title\": \"Noisy Count\", \"type\": \"quantitative\"}}, \"transform\": [{\"filter\": {\"selection\": \"selector035\"}}]}, {\"mark\": {\"type\": \"rule\", \"size\": 2}, \"encoding\": {\"x\": {\"field\": \"race\", \"sort\": null, \"title\": \"Race\", \"type\": \"ordinal\"}, \"y\": {\"aggregate\": \"sum\", \"field\": \"plus_error\", \"title\": \"\", \"type\": \"quantitative\"}, \"y2\": {\"aggregate\": \"sum\", \"field\": \"minus_error\", \"title\": \"\"}}, \"transform\": [{\"filter\": {\"selection\": \"selector035\"}}]}]}], \"data\": {\"name\": \"data-c9665de9c04f569bf90641a12126bd0c\"}, \"$schema\": \"https://vega.github.io/schema/vega-lite/v4.17.0.json\", \"datasets\": {\"data-c9665de9c04f569bf90641a12126bd0c\": [{\"age\": \"15-24\", \"race\": \"White\", \"noisy_count\": 1229.2, \"true_count\": 1271.0, \"plus_error\": 1318.6, \"minus_error\": 1139.7, \"error\": 89.4}, {\"age\": \"15-24\", \"race\": \"Black\", \"noisy_count\": 219.6, \"true_count\": 192.0, \"plus_error\": 309.1, \"minus_error\": 130.2, \"error\": 89.4}, {\"age\": \"15-24\", \"race\": \"American Indian\", \"noisy_count\": 86.8, \"true_count\": 31.0, \"plus_error\": 176.3, \"minus_error\": -2.6, \"error\": 89.4}, {\"age\": \"15-24\", \"race\": \"Chinese\", \"noisy_count\": 57.2, \"true_count\": 62.0, \"plus_error\": 146.7, \"minus_error\": -32.2, \"error\": 89.4}, {\"age\": \"25-34\", \"race\": \"White\", \"noisy_count\": 5115.9, \"true_count\": 5110.0, \"plus_error\": 5144.5, \"minus_error\": 5087.3, \"error\": 28.6}, {\"age\": \"25-34\", \"race\": \"Black\", \"noisy_count\": 696.0, \"true_count\": 700.0, \"plus_error\": 724.6, \"minus_error\": 667.4, \"error\": 28.6}, {\"age\": \"25-34\", \"race\": \"American Indian\", \"noisy_count\": 167.9, \"true_count\": 83.0, \"plus_error\": 196.5, \"minus_error\": 139.3, \"error\": 28.6}, {\"age\": \"25-34\", \"race\": \"Chinese\", \"noisy_count\": 211.3, \"true_count\": 244.0, \"plus_error\": 239.9, \"minus_error\": 182.7, \"error\": 28.6}, {\"age\": \"35-44\", \"race\": \"White\", \"noisy_count\": 6240.3, \"true_count\": 6181.0, \"plus_error\": 6329.7, \"minus_error\": 6150.8, \"error\": 89.4}, {\"age\": \"35-44\", \"race\": \"Black\", \"noisy_count\": 767.5, \"true_count\": 793.0, \"plus_error\": 856.9, \"minus_error\": 678.0, \"error\": 89.4}, {\"age\": \"35-44\", \"race\": \"American Indian\", \"noisy_count\": 14.3, \"true_count\": 93.0, \"plus_error\": 103.8, \"minus_error\": -75.1, \"error\": 89.4}, {\"age\": \"35-44\", \"race\": \"Chinese\", \"noisy_count\": 237.7, \"true_count\": 265.0, \"plus_error\": 327.1, \"minus_error\": 148.3, \"error\": 89.4}, {\"age\": \"45-54\", \"race\": \"White\", \"noisy_count\": 7968.0, \"true_count\": 7988.0, \"plus_error\": 7999.6, \"minus_error\": 7936.5, \"error\": 31.5}, {\"age\": \"45-54\", \"race\": \"Black\", \"noisy_count\": 959.9, \"true_count\": 967.0, \"plus_error\": 991.4, \"minus_error\": 928.4, \"error\": 31.5}, {\"age\": \"45-54\", \"race\": \"American Indian\", \"noisy_count\": 139.9, \"true_count\": 112.0, \"plus_error\": 171.4, \"minus_error\": 108.3, \"error\": 31.5}, {\"age\": \"45-54\", \"race\": \"Chinese\", \"noisy_count\": 238.0, \"true_count\": 266.0, \"plus_error\": 269.5, \"minus_error\": 206.4, \"error\": 31.5}, {\"age\": \"55-64\", \"race\": \"White\", \"noisy_count\": 6081.0, \"true_count\": 6252.0, \"plus_error\": 6170.5, \"minus_error\": 5991.6, \"error\": 89.4}, {\"age\": \"55-64\", \"race\": \"Black\", \"noisy_count\": 735.7, \"true_count\": 744.0, \"plus_error\": 825.2, \"minus_error\": 646.3, \"error\": 89.4}, {\"age\": \"55-64\", \"race\": \"American Indian\", \"noisy_count\": 198.3, \"true_count\": 90.0, \"plus_error\": 287.7, \"minus_error\": 108.8, \"error\": 89.4}, {\"age\": \"55-64\", \"race\": \"Chinese\", \"noisy_count\": 438.2, \"true_count\": 233.0, \"plus_error\": 527.7, \"minus_error\": 348.8, \"error\": 89.4}, {\"age\": \"65-74\", \"race\": \"White\", \"noisy_count\": 5122.3, \"true_count\": 5121.0, \"plus_error\": 5151.6, \"minus_error\": 5093.0, \"error\": 29.3}, {\"age\": \"65-74\", \"race\": \"Black\", \"noisy_count\": 521.4, \"true_count\": 525.0, \"plus_error\": 550.7, \"minus_error\": 492.1, \"error\": 29.3}, {\"age\": \"65-74\", \"race\": \"American Indian\", \"noisy_count\": 58.4, \"true_count\": 68.0, \"plus_error\": 87.7, \"minus_error\": 29.1, \"error\": 29.3}, {\"age\": \"65-74\", \"race\": \"Chinese\", \"noisy_count\": 189.7, \"true_count\": 153.0, \"plus_error\": 219.0, \"minus_error\": 160.4, \"error\": 29.3}, {\"age\": \"75-84\", \"race\": \"White\", \"noisy_count\": 3321.1, \"true_count\": 3396.0, \"plus_error\": 3410.5, \"minus_error\": 3231.6, \"error\": 89.4}, {\"age\": \"75-84\", \"race\": \"Black\", \"noisy_count\": 451.3, \"true_count\": 387.0, \"plus_error\": 540.7, \"minus_error\": 361.8, \"error\": 89.4}, {\"age\": \"75-84\", \"race\": \"American Indian\", \"noisy_count\": 53.4, \"true_count\": 33.0, \"plus_error\": 142.8, \"minus_error\": -36.0, \"error\": 89.4}, {\"age\": \"75-84\", \"race\": \"Chinese\", \"noisy_count\": 30.8, \"true_count\": 93.0, \"plus_error\": 120.3, \"minus_error\": -58.6, \"error\": 89.4}, {\"age\": \"85-94\", \"race\": \"White\", \"noisy_count\": 3544.7, \"true_count\": 3579.0, \"plus_error\": 3634.2, \"minus_error\": 3455.3, \"error\": 89.4}, {\"age\": \"85-94\", \"race\": \"Black\", \"noisy_count\": 405.6, \"true_count\": 351.0, \"plus_error\": 495.0, \"minus_error\": 316.2, \"error\": 89.4}, {\"age\": \"85-94\", \"race\": \"American Indian\", \"noisy_count\": 47.1, \"true_count\": 33.0, \"plus_error\": 136.5, \"minus_error\": -42.3, \"error\": 89.4}, {\"age\": \"85-94\", \"race\": \"Chinese\", \"noisy_count\": 86.8, \"true_count\": 74.0, \"plus_error\": 176.2, \"minus_error\": -2.7, \"error\": 89.4}, {\"age\": \"95-104\", \"race\": \"White\", \"noisy_count\": 2298.0, \"true_count\": 2336.0, \"plus_error\": 2387.4, \"minus_error\": 2208.5, \"error\": 89.4}, {\"age\": \"95-104\", \"race\": \"Black\", \"noisy_count\": 228.2, \"true_count\": 160.0, \"plus_error\": 317.6, \"minus_error\": 138.7, \"error\": 89.4}, {\"age\": \"95-104\", \"race\": \"American Indian\", \"noisy_count\": 88.8, \"true_count\": 14.0, \"plus_error\": 178.3, \"minus_error\": -0.6, \"error\": 89.4}, {\"age\": \"95-104\", \"race\": \"Chinese\", \"noisy_count\": 32.7, \"true_count\": 35.0, \"plus_error\": 122.1, \"minus_error\": -56.8, \"error\": 89.4}, {\"age\": \"105-114\", \"race\": \"White\", \"noisy_count\": 1275.2, \"true_count\": 1270.0, \"plus_error\": 1304.7, \"minus_error\": 1245.7, \"error\": 29.5}, {\"age\": \"105-114\", \"race\": \"Black\", \"noisy_count\": 107.7, \"true_count\": 110.0, \"plus_error\": 137.2, \"minus_error\": 78.1, \"error\": 29.5}, {\"age\": \"105-114\", \"race\": \"American Indian\", \"noisy_count\": 46.5, \"true_count\": 4.0, \"plus_error\": 76.0, \"minus_error\": 17.0, \"error\": 29.5}, {\"age\": \"105-114\", \"race\": \"Chinese\", \"noisy_count\": 13.0, \"true_count\": 17.0, \"plus_error\": 42.5, \"minus_error\": -16.5, \"error\": 29.5}]}}, {\"mode\": \"vega-lite\"});\n",
       "</script>"
      ],
      "text/plain": [
       "alt.HConcatChart(...)"
      ]
     },
     "metadata": {},
     "output_type": "display_data"
    },
    {
     "data": {
      "application/vnd.jupyter.widget-view+json": {
       "model_id": "2752e35739784d8b9a7ae76e1f6029cf",
       "version_major": 2,
       "version_minor": 0
      },
      "text/plain": [
       "VBox(children=(Output(),))"
      ]
     },
     "metadata": {},
     "output_type": "display_data"
    },
    {
     "data": {
      "application/vnd.jupyter.widget-view+json": {
       "model_id": "29a7b2a45037414f9cb4e91bd94cd299",
       "version_major": 2,
       "version_minor": 0
      },
      "text/plain": [
       "VBox(children=(VBox(children=(Textarea(value='', description='Answer:', layout=Layout(height='50px', width='50…"
      ]
     },
     "metadata": {},
     "output_type": "display_data"
    },
    {
     "data": {
      "application/vnd.jupyter.widget-view+json": {
       "model_id": "7e32f2e70f9e423ab6eb5817e1290e0a",
       "version_major": 2,
       "version_minor": 0
      },
      "text/plain": [
       "Button(layout=Layout(height='5px', width='99%'), style=ButtonStyle(button_color='black'))"
      ]
     },
     "metadata": {},
     "output_type": "display_data"
    },
    {
     "data": {
      "application/vnd.jupyter.widget-view+json": {
       "model_id": "74423292c1c5435399c0d35b015af808",
       "version_major": 2,
       "version_minor": 0
      },
      "text/plain": [
       "HBox(children=(Button(disabled=True, layout=Layout(height='30px', width='40%'), style=ButtonStyle(button_color…"
      ]
     },
     "metadata": {},
     "output_type": "display_data"
    }
   ],
   "source": [
    "# display(bar_label)\n",
    "interface = widgets.VBox([gap_button, prompt, prompt_answer])\n",
    "display(interface)"
   ]
  },
  {
   "cell_type": "code",
   "execution_count": null,
   "id": "74c27dab",
   "metadata": {},
   "outputs": [],
   "source": []
  }
 ],
 "metadata": {
  "kernelspec": {
   "display_name": "Python 3 (ipykernel)",
   "language": "python",
   "name": "python3"
  },
  "language_info": {
   "codemirror_mode": {
    "name": "ipython",
    "version": 3
   },
   "file_extension": ".py",
   "mimetype": "text/x-python",
   "name": "python",
   "nbconvert_exporter": "python",
   "pygments_lexer": "ipython3",
   "version": "3.9.12"
  }
 },
 "nbformat": 4,
 "nbformat_minor": 5
}
