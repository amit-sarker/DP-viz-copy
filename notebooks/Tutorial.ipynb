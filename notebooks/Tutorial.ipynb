{
 "cells": [
  {
   "cell_type": "code",
   "execution_count": 20,
   "id": "d9071880",
   "metadata": {
    "scrolled": true
   },
   "outputs": [
    {
     "data": {
      "application/javascript": [
       "IPython.OutputArea.prototype._should_scroll = function(lines) {\n",
       "    return false;\n",
       "}\n"
      ],
      "text/plain": [
       "<IPython.core.display.Javascript object>"
      ]
     },
     "metadata": {},
     "output_type": "display_data"
    }
   ],
   "source": [
    "%%javascript\n",
    "IPython.OutputArea.prototype._should_scroll = function(lines) {\n",
    "    return false;\n",
    "}"
   ]
  },
  {
   "cell_type": "code",
   "execution_count": 21,
   "id": "0edede79",
   "metadata": {},
   "outputs": [
    {
     "name": "stderr",
     "output_type": "stream",
     "text": [
      "/tmp/ipykernel_91223/218976982.py:16: DeprecationWarning: Importing display from IPython.core.display is deprecated since IPython 7.14, please import from IPython display\n",
      "  from IPython.core.display import display, HTML\n"
     ]
    },
    {
     "data": {
      "text/html": [
       "<style>.container { width:100% !important; }</style>"
      ],
      "text/plain": [
       "<IPython.core.display.HTML object>"
      ]
     },
     "metadata": {},
     "output_type": "display_data"
    },
    {
     "data": {
      "text/plain": [
       "DataTransformerRegistry.enable('default')"
      ]
     },
     "execution_count": 21,
     "metadata": {},
     "output_type": "execute_result"
    }
   ],
   "source": [
    "\n",
    "import sys\n",
    "\n",
    "import ipywidgets as widgets\n",
    "\n",
    "sys.path.append('../')\n",
    "sys.path.append('../src')\n",
    "\n",
    "import src.backend\n",
    "import src.workload_builder as builder\n",
    "from mbi import Domain\n",
    "import src.plots\n",
    "import altair as alt\n",
    "alt.renderers.enable('default')\n",
    "from IPython.display import display, clear_output\n",
    "\n",
    "from IPython.core.display import display, HTML\n",
    "display(HTML(\"<style>.container { width:100% !important; }</style>\"))\n",
    "\n",
    "\n",
    "alt.data_transformers.disable_max_rows()"
   ]
  },
  {
   "cell_type": "code",
   "execution_count": 22,
   "id": "e8caecaf",
   "metadata": {},
   "outputs": [],
   "source": [
    "data_path = '../data/CPS/CPS.csv'\n",
    "cps_domain = Domain(attrs=('age','income','marital','race'), shape=(100,100,7,4))\n",
    "questions = [\"Warm Up Question: Type 'Yes' if you are ready to begin!\",\n",
    "            \"Question 1/6: How many Chinese and American Indians have 'Widowed' as their marital status?\",\n",
    "            \"Question 2/6: How many people over the age of 65 have income between 100,000 and 149,000?\",\n",
    "            \"Question 3/6: What is the second most common marital status of people with income in the 100,000 to 199,000 range?\",\n",
    "            \"Question 4/6: Choose the top 3 age groups that have marital status: 'Never Married'?\",\n",
    "            \"Question 5/6: In the 100,000 to 199,000 income range, rank the top 3 races in terms of count from greatest to least.\",\n",
    "            \"Question 6/6: What is the second most common race in the 45-54 age group?\"]\n",
    "\n",
    "marital_race = {'marital':1, 'race':1}\n",
    "age_income = {'age':10, 'income':10}\n",
    "marital_income = {'income':10, 'marital':1}\n",
    "age_marital = {'age':10, 'marital':1}\n",
    "race_income = {'income':10, 'race':1}\n",
    "age_race = {'age':10, 'race':1}\n",
    "\n",
    "visualizations = [None, marital_race, age_income, marital_income, age_marital, race_income, age_race]\n",
    "prev_spec = None\n",
    "curr_spec = None\n",
    "epsilon_increments = [None,0.05,0.05,0.05,0.05,0.05,0.05,0.05]\n",
    "budget = 1.0\n",
    "max_tries = 10\n",
    "\n",
    "index = 0\n",
    "tries = 0\n",
    "back_end = None\n"
   ]
  },
  {
   "cell_type": "code",
   "execution_count": 23,
   "id": "f5ce151d",
   "metadata": {},
   "outputs": [
    {
     "data": {
      "text/plain": [
       "Domain(age: 100, income: 100, marital: 7, race: 4)"
      ]
     },
     "execution_count": 23,
     "metadata": {},
     "output_type": "execute_result"
    }
   ],
   "source": [
    "cps_domain"
   ]
  },
  {
   "cell_type": "markdown",
   "id": "b86f40a0",
   "metadata": {},
   "source": [
    "# Logging"
   ]
  },
  {
   "cell_type": "code",
   "execution_count": 24,
   "id": "bd5cd755",
   "metadata": {},
   "outputs": [],
   "source": [
    "import logging\n",
    "\n",
    "class OutputWidgetHandler(logging.Handler):\n",
    "    \"\"\" Custom logging handler sending logs to an output widget \"\"\"\n",
    "\n",
    "    def __init__(self, *args, **kwargs):\n",
    "        super(OutputWidgetHandler, self).__init__(*args, **kwargs)\n",
    "        layout = {\n",
    "            'width': '100%',\n",
    "            'height': '160px',\n",
    "            'border': '1px solid black'\n",
    "        }\n",
    "        self.out = widgets.Output(layout=layout)\n",
    "\n",
    "    def emit(self, record):\n",
    "        \"\"\" Overload of logging.Handler method \"\"\"\n",
    "        formatted_record = self.format(record)\n",
    "        new_output = {\n",
    "            'name': 'stdout',\n",
    "            'output_type': 'stream',\n",
    "            'text': formatted_record+'\\n'\n",
    "        }\n",
    "        self.out.outputs = (new_output, ) + self.out.outputs\n",
    "\n",
    "    def show_logs(self):\n",
    "        \"\"\" Show the logs \"\"\"\n",
    "        display(self.out)\n",
    "\n",
    "    def clear_logs(self):\n",
    "        \"\"\" Clear the current logs \"\"\"\n",
    "        self.out.clear_output()\n",
    "\n",
    "\n",
    "logger = logging.getLogger(__name__)\n",
    "handler = OutputWidgetHandler()\n",
    "handler.setFormatter(logging.Formatter('%(asctime)s  - [%(levelname)s] %(message)s'))\n",
    "logger.addHandler(handler)\n",
    "logger.setLevel(logging.INFO)"
   ]
  },
  {
   "cell_type": "code",
   "execution_count": 25,
   "id": "289aa384",
   "metadata": {},
   "outputs": [],
   "source": [
    "plot_output1 = widgets.Output()\n",
    "plot_output2 = widgets.Output()\n",
    "plot_output3 = widgets.Output()\n",
    "plot_output4 = widgets.Output()\n",
    "plot_output5 = widgets.Output()\n",
    "plot_output6 = widgets.Output()"
   ]
  },
  {
   "cell_type": "code",
   "execution_count": 26,
   "id": "80e0c988",
   "metadata": {},
   "outputs": [],
   "source": [
    "plot_output_rm1 = widgets.Output()\n",
    "plot_output_rm2 = widgets.Output()\n",
    "plot_output_rm3 = widgets.Output()\n",
    "plot_output_rm4 = widgets.Output()\n",
    "plot_output_rm5 = widgets.Output()\n",
    "plot_output_rm6 = widgets.Output()"
   ]
  },
  {
   "cell_type": "code",
   "execution_count": 27,
   "id": "cbf15dc1",
   "metadata": {},
   "outputs": [],
   "source": [
    "plot_output_after = widgets.Output()"
   ]
  },
  {
   "cell_type": "code",
   "execution_count": 28,
   "id": "9277ee65",
   "metadata": {},
   "outputs": [],
   "source": [
    "plot_output = widgets.Output()"
   ]
  },
  {
   "cell_type": "code",
   "execution_count": 29,
   "id": "86c43640",
   "metadata": {},
   "outputs": [],
   "source": [
    "# plot_output"
   ]
  },
  {
   "cell_type": "markdown",
   "id": "858a662d",
   "metadata": {},
   "source": [
    " ## Dropdown Boxes"
   ]
  },
  {
   "cell_type": "code",
   "execution_count": 30,
   "id": "8d82c70a",
   "metadata": {},
   "outputs": [],
   "source": [
    "columns = ['Age','Income','Marital Status']\n",
    "translate = {'Income': 'income', 'Marital Status': 'marital', 'Age': 'age', 'Race':'race'}"
   ]
  },
  {
   "cell_type": "code",
   "execution_count": null,
   "id": "f853c0d0",
   "metadata": {},
   "outputs": [],
   "source": []
  },
  {
   "cell_type": "markdown",
   "id": "1892fcb0",
   "metadata": {},
   "source": [
    "Text Boxes"
   ]
  },
  {
   "cell_type": "code",
   "execution_count": 31,
   "id": "f3fc5827",
   "metadata": {},
   "outputs": [],
   "source": [
    "import IPython\n",
    "from ipywidgets import Layout\n",
    "\n",
    "global index\n",
    "\n",
    "IPython.display.HTML('''<style>\n",
    ".mytext > select,.mytext > textarea   {\n",
    "    font-style: italic;\n",
    "    color: blue;\n",
    "    font-size: 30px;\n",
    "}\n",
    "</style>''')\n",
    "# w2=widgets.Textarea(value=\"Here it is\")\n",
    "# w2.add_class(\"mytext\")\n",
    "\n",
    "# prompt = widgets.Label(\n",
    "#     value= questions[0],\n",
    "#     placeholder='Type',\n",
    "#     font_weight='bold',\n",
    "#     # description=questions[0],\n",
    "#     # style = {'button_color': 'transparent', 'font_size': \"20px\"},\n",
    "#     disabled=True,\n",
    "#     layout=widgets.Layout(width='1000px', height='30px', font_size='200px')\n",
    "# )\n",
    "\n",
    "prompt = widgets.HTML(\n",
    "    value=\"<b>\" + questions[0] + \"</b>\",\n",
    "    placeholder='',\n",
    "    description='',\n",
    ")\n",
    "\n",
    "prompt2 = widgets.HTML(\n",
    "    value=\"<b>\" + questions[1] + \"</b>\",\n",
    "    placeholder='',\n",
    "    description='',\n",
    ")\n",
    "\n",
    "prompt3 = widgets.HTML(\n",
    "    value=\"<b>\" + questions[2] + \"</b>\",\n",
    "    placeholder='',\n",
    "    description='',\n",
    ")\n",
    "\n",
    "prompt4 = widgets.HTML(\n",
    "    value=\"<b>\" + questions[3] + \"</b>\",\n",
    "    placeholder='',\n",
    "    description='',\n",
    ")\n",
    "\n",
    "prompt5 = widgets.HTML(\n",
    "    value=\"<b>\" + questions[4] + \"</b>\",\n",
    "    placeholder='',\n",
    "    description='',\n",
    ")\n",
    "\n",
    "prompt6 = widgets.HTML(\n",
    "    value=\"<b>\" + questions[5] + \"</b>\",\n",
    "    placeholder='',\n",
    "    description='',\n",
    ")\n",
    "\n",
    "prompt7 = widgets.HTML(\n",
    "    value=\"<b>\" + questions[6] + \"</b>\",\n",
    "    placeholder='',\n",
    "    description='',\n",
    ")\n",
    "# prompt = widgets.Text(description=\"\", value=questions[0], disabled=True, layout=Layout(width='40%', height='30px'), style=dict(\n",
    "#     font_style='italic',\n",
    "#     font_size='20px',\n",
    "#     font_weight='bold',\n",
    "#     font_variant=\"small-caps\",\n",
    "#     text_color='red',\n",
    "#     text_decoration='underline'\n",
    "# ))\n",
    "\n",
    "# prompt2 = widgets.Button(description=questions[1], layout=Layout(width='55%', height='30px'), style=dict(\n",
    "#     font_style='italic',\n",
    "#     font_size='20px',\n",
    "#     font_weight='bold',\n",
    "#     font_variant=\"small-caps\",\n",
    "#     text_color='red',\n",
    "#     text_decoration='underline'\n",
    "# ))\n",
    "#\n",
    "# prompt3 = widgets.Button(description=questions[2], layout=Layout(width='55%', height='30px'), style=dict(\n",
    "#     font_style='italic',\n",
    "#     font_size='20px',\n",
    "#     font_weight='bold',\n",
    "#     font_variant=\"small-caps\",\n",
    "#     text_color='red',\n",
    "#     text_decoration='underline'\n",
    "# ))\n",
    "#\n",
    "# prompt4 = widgets.Button(description=questions[3], layout=Layout(width='55%', height='30px'), style=dict(\n",
    "#     font_style='italic',\n",
    "#     font_size='20px',\n",
    "#     font_weight='bold',\n",
    "#     font_variant=\"small-caps\",\n",
    "#     text_color='red',\n",
    "#     text_decoration='underline'\n",
    "# ))\n",
    "#\n",
    "# prompt5 = widgets.Button(description=questions[4], layout=Layout(width='55%', height='30px'), style=dict(\n",
    "#     font_style='italic',\n",
    "#     font_size='20px',\n",
    "#     font_weight='bold',\n",
    "#     font_variant=\"small-caps\",\n",
    "#     text_color='red',\n",
    "#     text_decoration='underline'\n",
    "# ))\n",
    "#\n",
    "# prompt6 = widgets.Button(description=questions[5], layout=Layout(width='55%', height='30px'), style=dict(\n",
    "#     font_style='italic',\n",
    "#     font_size='20px',\n",
    "#     font_weight='bold',\n",
    "#     font_variant=\"small-caps\",\n",
    "#     text_color='red',\n",
    "#     text_decoration='underline'\n",
    "# ))\n",
    "#\n",
    "# prompt7 = widgets.Button(description=questions[6], layout=Layout(width='55%', height='30px'), style=dict(\n",
    "#     font_style='italic',\n",
    "#     font_size='20px',\n",
    "#     font_weight='bold',\n",
    "#     font_variant=\"small-caps\",\n",
    "#     text_color='red',\n",
    "#     text_decoration='underline'\n",
    "# ))\n",
    "\n",
    "# finished_tries = widgets.Textarea(\n",
    "#     value=\"\",\n",
    "#     placeholder='Type',\n",
    "#     description='',\n",
    "#     disabled=True,\n",
    "#     layout=widgets.Layout(width='500px', height='30px') #500,30\n",
    "# )\n",
    "\n",
    "answer = widgets.Textarea(\n",
    "    value='',\n",
    "    placeholder='',\n",
    "    description='Answer:',\n",
    "    layout=widgets.Layout(width='300px', height='40px')\n",
    ")\n",
    "\n",
    "answer2 = widgets.Textarea(\n",
    "    value='',\n",
    "    placeholder='',\n",
    "    description='Answer:',\n",
    "    layout=widgets.Layout(width='500px', height='50px')\n",
    ")\n",
    "\n",
    "answer3 = widgets.Textarea(\n",
    "    value='',\n",
    "    placeholder='',\n",
    "    description='Answer:',\n",
    "    layout=widgets.Layout(width='500px', height='50px')\n",
    ")\n",
    "\n",
    "answer4 = widgets.Textarea(\n",
    "    value='',\n",
    "    placeholder='',\n",
    "    description='Answer:',\n",
    "    layout=widgets.Layout(width='500px', height='50px')\n",
    ")\n",
    "\n",
    "answer5 = widgets.Textarea(\n",
    "    value='',\n",
    "    placeholder='',\n",
    "    description='Answer:',\n",
    "    layout=widgets.Layout(width='500px', height='50px')\n",
    ")\n",
    "\n",
    "answer6 = widgets.Textarea(\n",
    "    value='',\n",
    "    placeholder='',\n",
    "    description='Answer:',\n",
    "    layout=widgets.Layout(width='500px', height='50px')\n",
    ")\n",
    "\n",
    "answer7 = widgets.Textarea(\n",
    "    value='',\n",
    "    placeholder='',\n",
    "    description='Answer:',\n",
    "    layout=widgets.Layout(width='500px', height='50px')\n",
    ")"
   ]
  },
  {
   "cell_type": "code",
   "execution_count": 32,
   "id": "e3d97086",
   "metadata": {},
   "outputs": [],
   "source": [
    "def make_plots(idd):\n",
    "    for i in range(len(questions) - 1):\n",
    "        if i == idd:\n",
    "            continue\n",
    "        # with plot_output_arr[i]:\n",
    "        column_names = list(visualizations[i+1].keys())\n",
    "        plot = src.plots.linked_hist(column_names[0], column_names[1], data=current_spec_arr[i].reset_index(column_names), display_true=False, history=False)\n",
    "        logger.info(plot)\n",
    "        # print(\"hhhhhhhhhhhhhhhhhhhhhhhhhhhhhhhhhhhhhhhhhhhhhh\")\n",
    "\n",
    "        bar_label = widgets.HBox([budget_spent, progress_bar, remeasure_arr[i]])\n",
    "        ques = widgets.HBox([prompt_arr[i+1]])\n",
    "        # prompt_answer = widgets.VBox([answer_arr[i+1], submit_btn], layout=box_layout)\n",
    "        prompt_answer = widgets.VBox([answer_arr[i+1]], layout=box_layout)\n",
    "        display(bar_label)\n",
    "        display(ques)\n",
    "\n",
    "        display(plot)\n",
    "        histogram_plots.append(widgets.VBox([plot_output_arr[i]]))\n",
    "        display(histogram_plots[i])\n",
    "        interface = widgets.VBox([prompt_answer])\n",
    "        display(interface)\n"
   ]
  },
  {
   "cell_type": "code",
   "execution_count": 33,
   "id": "5f10aa29",
   "metadata": {},
   "outputs": [],
   "source": [
    "plot_output_arr = [plot_output1, plot_output2, plot_output3, plot_output4, plot_output5, plot_output6]"
   ]
  },
  {
   "cell_type": "markdown",
   "id": "8bc9e0d1",
   "metadata": {},
   "source": [
    "## Buttons"
   ]
  },
  {
   "cell_type": "code",
   "execution_count": 34,
   "id": "24fdcf7d",
   "metadata": {},
   "outputs": [],
   "source": [
    "import copy\n",
    "import numpy as np\n",
    "from ipywidgets import Layout\n",
    "\n",
    "submit_btn = widgets.Button(description='Start')\n",
    "submit_btn.style.button_color = '#C6C6C6'\n",
    "# submit_btn_final = widgets.Button(description='Submit', layout=Layout(width='20%', height='50px'))\n",
    "submit_btn_final = widgets.Button(description='Submit All')\n",
    "submit_btn_final.style.button_color = '#C6C6C6'\n",
    "# make_it_better1 = widgets.Button(description='Remeasure Q1', button_style='warning')\n",
    "make_it_better1 = widgets.Button(description='Remeasure Q1')\n",
    "make_it_better2 = widgets.Button(description='Remeasure Q2')\n",
    "make_it_better3 = widgets.Button(description='Remeasure Q3')\n",
    "make_it_better4 = widgets.Button(description='Remeasure Q4')\n",
    "make_it_better5 = widgets.Button(description='Remeasure Q5')\n",
    "make_it_better6 = widgets.Button(description='Remeasure Q6')\n",
    "rm_button_arr = [make_it_better1, make_it_better2, make_it_better3, make_it_better4, make_it_better5, make_it_better6]\n",
    "\n",
    "separator = widgets.Button(description='', layout=Layout(width='99%', height='1px'))\n",
    "separator.style.button_color = 'black'\n",
    "for i in range(len(questions)-1):\n",
    "    rm_button_arr[i].style.button_color = '#C6C6C6'\n",
    "\n",
    "gap_button = widgets.Button(description='', layout=Layout(width='95%', height='50px'), disabled=True)\n",
    "gap_button.style.button_color = 'white'\n",
    "gap_button_Q = widgets.Button(description='', layout=Layout(width='95%', height='1px'), disabled=True)\n",
    "gap_button_Q.style.button_color = 'white'\n",
    "\n",
    "align_button = widgets.Button(description='', layout=Layout(width='40%', height='30px'), disabled=True)\n",
    "align_button.style.button_color = 'white'\n",
    "align_button_remeasure = widgets.Button(description='', layout=Layout(width='4%', height='1px'), disabled=True)\n",
    "align_button_remeasure.style.button_color = 'white'\n",
    "\n",
    "prompt_arr = [prompt, prompt2, prompt3, prompt4, prompt5, prompt6, prompt7]\n",
    "answer_arr = [answer, answer2, answer3, answer4, answer5, answer6, answer7]\n",
    "\n",
    "remeasure_arr = [make_it_better1, make_it_better2, make_it_better3, make_it_better4, make_it_better5, make_it_better6]\n",
    "\n",
    "plot_output_rm_arr = [plot_output_rm1, plot_output_rm2, plot_output_rm3, plot_output_rm4, plot_output_rm5, plot_output_rm6]\n",
    "progress_bar = widgets.FloatProgress(min=0.0, max=max_tries, layout=Layout(width='30%', height='30px'), bar_style='warning') # instantiate the bar\n",
    "# progress_bar.style.bar_color = '#8B4000'\n",
    "progress_bar.description = str(tries) + '/' + str(max_tries)\n",
    "# budget_spent = widgets.Label(value='Number of Remeasures Used So Far', style=dict(font_weight='bold'))\n",
    "\n",
    "budget_spent = widgets.HTML(\n",
    "    value=\"<b>Number of Remeasures are Used So Far</b>\",\n",
    "    placeholder='',\n",
    "    description='',\n",
    ")\n",
    "\n",
    "num_answers = len(questions)\n",
    "survey_answers = [0]*num_answers\n",
    "\n",
    "current_spec_arr = []\n",
    "current_spec_remeasure = []\n",
    "hist_workloads = []\n",
    "histogram_plots = []\n",
    "# hist_plot = None\n",
    "\n",
    "\n",
    "def make_vis(do_not_update=None):\n",
    "    global index, survey_answers, visualizations, epsilon_increments, curr_spec, back_end, bar_label, interface, ques\n",
    "    back_end = src.backend.initialize_backend(cps_domain, data_path, budget=1.0)\n",
    "\n",
    "    seed = 1234\n",
    "    for i in range(len(questions) - 1):\n",
    "        # prompt_arr[i+1].value = questions[i+1]\n",
    "        hist = builder.histogram_workload(cps_domain.config, bin_widths=visualizations[i+1])\n",
    "        hist_workloads.append(hist)\n",
    "\n",
    "        y_hat, strategy_matrix = back_end.measure_hdmm(workload=hist, eps=epsilon_increments[i+1], restarts=20, seed=seed) # got y_hat\n",
    "\n",
    "        column_names = list(visualizations[i+1].keys())\n",
    "        curr_spec, cached = back_end.display(hist)\n",
    "        current_spec_arr.append(curr_spec)\n",
    "        current_spec_remeasure.append(curr_spec)\n",
    "\n",
    "        with plot_output_arr[i]:\n",
    "            plot_output_arr[i].clear_output()\n",
    "            plot = src.plots.linked_hist(column_names[0], column_names[1], data=curr_spec.reset_index(column_names), display_true=False, history=False)\n",
    "            plot.save('charts/question_' + str(i) + '.json')\n",
    "            # plot_output_arr[i].append_display_data(plot)\n",
    "            # display(plot_output_arr[i])\n",
    "        # plot = src.plots.linked_hist(column_names[0], column_names[1], data=curr_spec.reset_index(column_names), display_true=False, history=False)\n",
    "        # plot_output_arr[i].append_display_data(plot)\n",
    "        # display(plot_output_arr[i])\n",
    "\n",
    "        bar_label = widgets.HBox([budget_spent, progress_bar, align_button_remeasure, remeasure_arr[i]])\n",
    "        ques = widgets.HBox([prompt_arr[i+1]])\n",
    "        # prompt_answer = widgets.VBox([answer_arr[i+1], submit_btn], layout=box_layout)\n",
    "        prompt_answer = widgets.VBox([answer_arr[i+1]], layout=box_layout)\n",
    "\n",
    "        display(separator)\n",
    "        display(ques)\n",
    "        display(gap_button_Q)\n",
    "        display(bar_label)\n",
    "        display(plot)\n",
    "\n",
    "        # histogram_plots.append(widgets.VBox([plot_output_arr[i]]))\n",
    "        # display(histogram_plots[i])\n",
    "        hist_plot = widgets.VBox([plot_output_arr[i]])\n",
    "        display(hist_plot)\n",
    "        interface = widgets.VBox([prompt_answer])\n",
    "        display(interface)\n",
    "\n",
    "\n",
    "def on_click_submit(obj):\n",
    "    global index, survey_answers, visualizations, epsilon_increments, curr_spec, back_end, bar_label, interface, ques, plot\n",
    "    logger.info('Clicked submit')\n",
    "    if answer.value == '':\n",
    "        return\n",
    "    val = answer.value\n",
    "    answer.value = answer.placeholder\n",
    "    survey_answers[index] = val\n",
    "\n",
    "    interface.close()\n",
    "\n",
    "    display(gap_button)\n",
    "\n",
    "    make_vis()\n",
    "\n",
    "    display(separator)\n",
    "\n",
    "    display(widgets.HBox([align_button, submit_btn_final]))\n",
    "\n",
    "    # for i in range(len(questions) - 1):\n",
    "    #     prompt_arr[i+1].value = questions[i+1]\n",
    "    #     back_end = src.backend.initialize_backend(cps_domain, data_path, budget=1.0)\n",
    "    #     hist = builder.histogram_workload(cps_domain.config, bin_widths=visualizations[i+1])\n",
    "    #     y_hat, strategy_matrix = back_end.measure_hdmm(workload=hist, eps=epsilon_increments[i+1], restarts=20) # got y_hat\n",
    "    #     column_names = list(visualizations[i+1].keys())\n",
    "    #     curr_spec = back_end.display(hist)\n",
    "    #\n",
    "    #     with plot_output:\n",
    "    #         # plot_output.clear_output()\n",
    "    #         plot = src.plots.linked_hist(column_names[0], column_names[1], data=curr_spec.reset_index(column_names), display_true=False, history=False)\n",
    "    #         logger.info(plot)\n",
    "    #\n",
    "    #     bar_label = widgets.HBox([budget_spent, progress_bar, make_it_better])\n",
    "    #     ques = widgets.HBox([prompt_arr[i+1]])\n",
    "    #     prompt_answer = widgets.VBox([answer_arr[i+1], submit_btn], layout=box_layout)\n",
    "    #     display(bar_label)\n",
    "    #     display(ques)\n",
    "    #     display(plot)\n",
    "    #     interface = widgets.VBox([plot_output, prompt_answer])\n",
    "    #     display(interface)\n",
    "\n",
    "    # with plot_output:\n",
    "    #     clear_output()\n",
    "    # submit_btn.close()\n",
    "    # interface.close()\n",
    "    # bar_label.close()\n",
    "    # prompt.value = 'Tutorial finished, thanks for your participation!'\n",
    "    # display(prompt)\n",
    "    # return\n",
    "\n",
    "idx = 1\n",
    "\n",
    "def remeasure_clicked(question_no):\n",
    "    global index, visualizations, tries, idx, interface, submit_btn,  histogram_plots, plot_output_rm_arr\n",
    "    logger.info('Clicked remeasure, question: {}'.format(index))\n",
    "    # clear_output()\n",
    "    # plot_output_arr[question_no].clear_output()\n",
    "\n",
    "    key_val = [x for x in visualizations[question_no].items()]\n",
    "\n",
    "\n",
    "    measure_dict = {'left': key_val[0], 'right': key_val[1]}\n",
    "    binning(measure_dict, question_no-1, epsilon = epsilon_increments[question_no])\n",
    "\n",
    "    # for i in range(len(questions) - 1):\n",
    "    #     key_val = [x for x in visualizations[i+1].items()]\n",
    "    #     # logger.info(key_val)\n",
    "    #     measure_dict = {'left': key_val[0], 'right': key_val[1]}\n",
    "    #     binning(measure_dict, i, epsilon = epsilon_increments[idx])\n",
    "    # idx += 1\n",
    "\n",
    "    # make_vis()\n",
    "    tries += 1\n",
    "    progress_bar.value = tries\n",
    "    progress_bar.description = str(tries) + '/' + str(max_tries)\n",
    "\n",
    "def on_click_make_it_better(obj):\n",
    "    global index, visualizations, tries, idx, interface, submit_btn, plot_output\n",
    "    logger.info('Clicked remeasure, question: {}'.format(index))\n",
    "\n",
    "    with plot_output:\n",
    "        clear_output()\n",
    "    # plot_output_before[0].clear_output()\n",
    "    # print(plot_output_before)\n",
    "    # submit_btn.close()\n",
    "    # interface.close()\n",
    "    # bar_label.close()\n",
    "    \n",
    "    key_val = [x for x in visualizations[1].items()]\n",
    "    measure_dict = {'left': key_val[0], 'right': key_val[1]}\n",
    "    binning(measure_dict, 0, epsilon = epsilon_increments[1])\n",
    "\n",
    "    # for i in range(len(questions) - 1):\n",
    "    #     key_val = [x for x in visualizations[i+1].items()]\n",
    "    #     # logger.info(key_val)\n",
    "    #     measure_dict = {'left': key_val[0], 'right': key_val[1]}\n",
    "    #     binning(measure_dict, i, epsilon = epsilon_increments[idx])\n",
    "    # idx += 1\n",
    "\n",
    "    # make_vis()\n",
    "    tries += 1\n",
    "    progress_bar.value = tries\n",
    "    progress_bar.description = str(tries) + '/' + str(max_tries)\n",
    "\n",
    "def on_click_make_it_better_1(obj):\n",
    "    remeasure_clicked(1)\n",
    "\n",
    "def on_click_make_it_better_2(obj):\n",
    "    remeasure_clicked(2)\n",
    "\n",
    "def on_click_make_it_better_3(obj):\n",
    "    remeasure_clicked(3)\n",
    "\n",
    "def on_click_make_it_better_4(obj):\n",
    "    remeasure_clicked(4)\n",
    "\n",
    "def on_click_make_it_better_5(obj):\n",
    "    remeasure_clicked(5)\n",
    "\n",
    "def on_click_make_it_better_6(obj):\n",
    "    remeasure_clicked(6)\n",
    "\n",
    "submit_btn.on_click(on_click_submit)\n",
    "make_it_better1.on_click(on_click_make_it_better_1)\n",
    "make_it_better2.on_click(on_click_make_it_better_2)\n",
    "make_it_better3.on_click(on_click_make_it_better_3)\n",
    "make_it_better4.on_click(on_click_make_it_better_4)\n",
    "make_it_better5.on_click(on_click_make_it_better_5)\n",
    "make_it_better6.on_click(on_click_make_it_better_6)\n",
    "\n",
    "box_layout = widgets.Layout(display='flex',\n",
    "    flex_flow='column',\n",
    "    align_items='flex-start',\n",
    "    color='black',\n",
    "    width='80%')\n",
    "\n",
    "# bar_label = widgets.HBox([budget_spent, progress_bar, make_it_better])\n",
    "prompt_answer = widgets.VBox([answer, submit_btn], layout=box_layout)"
   ]
  },
  {
   "cell_type": "code",
   "execution_count": 35,
   "id": "d8cdb83f",
   "metadata": {},
   "outputs": [],
   "source": [
    "# import numpy as np\n",
    "#\n",
    "# submit_btn = widgets.Button(description='Submit')\n",
    "# make_it_better = widgets.Button(description='Remeasure')\n",
    "#\n",
    "# def on_click_submit(obj):\n",
    "#     global index, survey_answers, visualizations, epsilon_increments, curr_spec, back_end\n",
    "#     logger.info('Clicked submit')\n",
    "#     if answer.value == '':\n",
    "#         return\n",
    "#     val = answer.value\n",
    "#     answer.value = answer.placeholder\n",
    "#     survey_answers[index] = val\n",
    "#\n",
    "#     if index+1 < len(questions):\n",
    "#         index += 1\n",
    "#         prompt.value = questions[index]\n",
    "#     else:\n",
    "#         with plot_output:\n",
    "#             clear_output()\n",
    "#         submit_btn.close()\n",
    "#         interface.close()\n",
    "#         bar_label.close()\n",
    "#         prompt.value = 'Tutorial finished, thanks for your participation!'\n",
    "#         display(prompt)\n",
    "#         return\n",
    "#\n",
    "#     back_end = src.backend.initialize_backend(cps_domain, data_path, budget=1.0)\n",
    "#\n",
    "#     hist = builder.histogram_workload(cps_domain.config, bin_widths=visualizations[index])\n",
    "#\n",
    "#     # logger.info(hist.matrix.matrix)\n",
    "#\n",
    "#     y_hat, strategy_matrix = back_end.measure_hdmm(workload=hist, eps=epsilon_increments[index], restarts=20) # got y_hat\n",
    "#\n",
    "#     # B = np.linalg.pinv(strategy_matrix)\n",
    "#\n",
    "#     # logger.info(\"printing y_hat\")\n",
    "#     # logger.info(B)\n",
    "#     logger.info(\"printing strategy matrix\")\n",
    "# #     logger.info(strategy_matrix.matrix)\n",
    "#\n",
    "#     column_names = list(visualizations[index].keys())\n",
    "#     curr_spec = back_end.display(hist)\n",
    "#\n",
    "#     with plot_output:\n",
    "#         plot_output.clear_output()\n",
    "#         plot = src.plots.linked_hist(column_names[0], column_names[1], data=curr_spec.reset_index(column_names), display_true=False, history=False)\n",
    "#         logger.info(plot)\n",
    "# #         display(\"Updating...\")\n",
    "#         display(plot)\n",
    "# #         altair_viewer.show(plot)\n",
    "#\n",
    "# def on_click_make_it_better(obj):\n",
    "#     global index, visualizations, tries\n",
    "#     logger.info('Clicked remeasure, question: {}'.format(index))\n",
    "#\n",
    "#     key_val = [x for x in visualizations[index].items()]\n",
    "#     logger.info(key_val)\n",
    "#     measure_dict = {'left': key_val[0], 'right': key_val[1]}\n",
    "#     binning(measure_dict, epsilon = epsilon_increments[index])\n",
    "#\n",
    "# submit_btn.on_click(on_click_submit)\n",
    "# make_it_better.on_click(on_click_make_it_better)"
   ]
  },
  {
   "cell_type": "code",
   "execution_count": 36,
   "id": "0183764d",
   "metadata": {},
   "outputs": [],
   "source": [
    "# text_area = []\n",
    "# for i in range(len(questions)):\n",
    "#     text_area.append(answer)\n"
   ]
  },
  {
   "cell_type": "code",
   "execution_count": 37,
   "id": "f03b6c44",
   "metadata": {},
   "outputs": [],
   "source": [
    "back_end = src.backend.initialize_backend(cps_domain, data_path, budget=budget)\n",
    "# global back_end\n",
    "rm_spec = [0, 0, 0, 0, 0, 0]\n",
    "rm_hit = [False, False, False, False, False, False]\n",
    "\n",
    "def binning(measure_dict, id=None, epsilon=None):\n",
    "    rm_hit[id] = True\n",
    "    global tries, curr_spec, back_end, current_spec_arr, hist_workloads, plot_output_rm_arr\n",
    "    \n",
    "    left_col = measure_dict['left'] \n",
    "    right_col = measure_dict['right']\n",
    "    \n",
    "    widths = {left_col[0]:left_col[1], right_col[0]:right_col[1]}\n",
    "    \n",
    "    hist = builder.histogram_workload(cps_domain.config, bin_widths=widths)\n",
    "\n",
    "    if epsilon is not None:\n",
    "        if tries+1 >= max_tries:\n",
    "            for i in range(len(questions)-1):\n",
    "                remeasure_arr[i].close()\n",
    "                budget_spent.value = \"<b>You have used all the remeasures</b>\"\n",
    "                # progress_bar.bar_style='danger'\n",
    "        elif tries+1 > max_tries:\n",
    "            return\n",
    "        # else:\n",
    "        #     clear_output()\n",
    "        y_hat, strategy_matrix = back_end.measure_hdmm(workload=hist, eps=epsilon, restarts=20)\n",
    "\n",
    "    prev_spec = current_spec_remeasure[id]\n",
    "\n",
    "    # print(\"Spec Previous\", prev_spec)\n",
    "    # print(\"---------------------------------------------------------------\")\n",
    "    prev_spec.rename(columns={'error': 'error_prev', 'plus_error': 'plus_error_prev', 'minus_error': 'minus_error_prev', 'true_count':'true_count_prev', 'noisy_count':'noisy_count_prev'}, inplace=True)\n",
    "\n",
    "    current_spec_remeasure[id], cached = back_end.display(hist) ################# Cache_search function called\n",
    "\n",
    "    # print(\"spec after \", prev_spec)\n",
    "\n",
    "    spec = current_spec_remeasure[id].join(prev_spec, on=[left_col[0], right_col[0]]).reset_index([left_col[0], right_col[0]])\n",
    "\n",
    "    rm_spec[id] = spec\n",
    "    clear_output()\n",
    "    display(gap_button)\n",
    "    for i in range(len(questions) - 1):\n",
    "        if tries+1 < max_tries:\n",
    "            bar_label = widgets.HBox([budget_spent, progress_bar, align_button_remeasure, remeasure_arr[i]])\n",
    "        else:\n",
    "            bar_label = widgets.HBox([budget_spent, progress_bar])\n",
    "        ques = widgets.HBox([prompt_arr[i+1]])\n",
    "        # prompt_answer = widgets.VBox([answer_arr[i+1], submit_btn], layout=box_layout)\n",
    "        prompt_answer = widgets.VBox([answer_arr[i+1]], layout=box_layout)\n",
    "        display(separator)\n",
    "        display(ques)\n",
    "        display(bar_label)\n",
    "        if rm_hit[i]:\n",
    "            key_value_new = [x for x in visualizations[i+1].items()]\n",
    "            measure_dict_new = {'left': key_value_new[0], 'right': key_value_new[1]}\n",
    "            left_col_new = measure_dict_new['left']\n",
    "            right_col_new = measure_dict_new['right']\n",
    "            plot_new = src.plots.linked_hist_test(left_col_new[0], right_col_new[0], data=rm_spec[i], projection=True,label=False)\n",
    "            display(plot_new)\n",
    "        else:\n",
    "            column_names_new = list(visualizations[i+1].keys())\n",
    "            plot_new = src.plots.linked_hist(column_names_new[0], column_names_new[1], data=current_spec_arr[i].reset_index(column_names_new), display_true=False, history=False)\n",
    "            display(plot_new)\n",
    "        interface = widgets.VBox([prompt_answer])\n",
    "        display(interface)\n",
    "    display(separator)\n",
    "    display(widgets.HBox([align_button, submit_btn_final]))\n",
    "\n",
    "    # with plot_output_arr[id]:\n",
    "    #     plot_output_arr[id].clear_output()\n",
    "    #     # clear_output()\n",
    "    #     # plot_output_arr[id].close()\n",
    "    #     plot = src.plots.linked_hist_test(left_col[0], right_col[0], data=spec, projection=True,label=False)\n",
    "    #     display(plot)\n",
    "\n",
    "    # display(plot_output_arr[id])\n",
    "        # print(\"remeasure plot output: \", plot_output_arr[id])\n",
    "\n",
    "    # hist_plot_rm = widgets.VBox([plot_output_arr[id]])\n",
    "    # display(hist_plot_rm)\n",
    "\n",
    "    # for i in range(len(questions) - 2):\n",
    "    #     key_val2 = [x for x in visualizations[i + 2].items()]\n",
    "    #     measure_dict2 = {'left': key_val2[0], 'right': key_val2[1]}\n",
    "    #     left_col2 = measure_dict2['left']\n",
    "    #     right_col2 = measure_dict2['right']\n",
    "    #     widths = {left_col2[0]:left_col2[1], right_col2[0]:right_col2[1]}\n",
    "    #\n",
    "    #     prev_spec2 = current_spec_arr[i + 1]\n",
    "    #     prev_spec2.rename(columns={'error': 'error_prev', 'plus_error': 'plus_error_prev', 'minus_error': 'minus_error_prev', 'true_count':'true_count_prev', 'noisy_count':'noisy_count_prev'}, inplace=True)\n",
    "    #     # hist2 = hist_workloads[i + 2]\n",
    "    #     hist2 = builder.histogram_workload(cps_domain.config, bin_widths=widths)\n",
    "    #\n",
    "    #     current_spec_arr[i + 1], cached2 = back_end.display(hist2) ################# Cache_search function called\n",
    "    #\n",
    "    #     spec2 = current_spec_arr[i + 1].join(prev_spec2, on=[left_col2[0], right_col2[0]]).reset_index([left_col2[0], right_col2[0]])\n",
    "    #     spec2 = spec2.round(0)\n",
    "    #\n",
    "    #     with plot_output:\n",
    "    #         # plot_output.clear_output()\n",
    "    #         plot2 = src.plots.linked_hist_test(left_col2[0], right_col2[0], data=spec2, projection=True,label=False)\n",
    "    #         # plot = src.plots.linked_hist(left_col[0], right_col[0], data=spec, display_true=False, history=False)\n",
    "    #         display(plot2)\n",
    "    \n",
    "box_layout = widgets.Layout(display='flex',\n",
    "    flex_flow='column',\n",
    "    align_items='flex-start',\n",
    "    color='black',\n",
    "    width='80%')\n",
    "\n",
    "def on_click_submit_all(obj):\n",
    "    ans_dict = {}\n",
    "    for i in range(len(questions) - 1):\n",
    "        if answer_arr[i + 1].value == '':\n",
    "            align_button.description = 'Please answer all the questions'\n",
    "            align_button.style.text_color = '#E30000'\n",
    "            return\n",
    "        a = i+1\n",
    "        ans_dict['Question ' + str(a) + ' answer'] = answer_arr[i+1].value\n",
    "    with open(\"answers/answer.txt\", 'a') as f:\n",
    "        f.write('\\n')\n",
    "        for key, value in ans_dict.items():\n",
    "            f.write('%s : %s\\n' % (key, value))\n",
    "        f.write('-------------------------------------------------------------')\n",
    "    clear_output()\n",
    "    prompt.value=\"<b>Survey finished, thanks for your participation!</b>\"\n",
    "    display(prompt)\n",
    "\n",
    "\n",
    "# bar_label = widgets.HBox([budget_spent, progress_bar, make_it_better])\n",
    "prompt_answer = widgets.VBox([answer, submit_btn], layout=box_layout)\n",
    "submit_btn_final.on_click(on_click_submit_all)"
   ]
  },
  {
   "cell_type": "code",
   "execution_count": 38,
   "id": "32c70e80",
   "metadata": {
    "scrolled": true
   },
   "outputs": [
    {
     "data": {
      "application/vnd.jupyter.widget-view+json": {
       "model_id": "7c784650f06347b4a68787ea87dccc39",
       "version_major": 2,
       "version_minor": 0
      },
      "text/plain": [
       "Button(disabled=True, layout=Layout(height='50px', width='95%'), style=ButtonStyle(button_color='white'))"
      ]
     },
     "metadata": {},
     "output_type": "display_data"
    },
    {
     "data": {
      "application/vnd.jupyter.widget-view+json": {
       "model_id": "d0643da1a96547aea7d94da1a9a0bab3",
       "version_major": 2,
       "version_minor": 0
      },
      "text/plain": [
       "Button(layout=Layout(height='1px', width='99%'), style=ButtonStyle(button_color='black'))"
      ]
     },
     "metadata": {},
     "output_type": "display_data"
    },
    {
     "data": {
      "application/vnd.jupyter.widget-view+json": {
       "model_id": "a314e7ee36fe42bfa4f8a8bd8a51f9b8",
       "version_major": 2,
       "version_minor": 0
      },
      "text/plain": [
       "HBox(children=(HTML(value=\"<b>Question 1/6: How many Chinese and American Indians have 'Widowed' as their mari…"
      ]
     },
     "metadata": {},
     "output_type": "display_data"
    },
    {
     "data": {
      "application/vnd.jupyter.widget-view+json": {
       "model_id": "9cc2310869ab4a9f955d05ede94b0775",
       "version_major": 2,
       "version_minor": 0
      },
      "text/plain": [
       "HBox(children=(HTML(value='<b>Number of Remeasures are Used So Far</b>', placeholder=''), FloatProgress(value=…"
      ]
     },
     "metadata": {},
     "output_type": "display_data"
    },
    {
     "data": {
      "text/html": [
       "\n",
       "<div id=\"altair-viz-33b93ab9aaed48d899857d77b256df15\"></div>\n",
       "<script type=\"text/javascript\">\n",
       "  var VEGA_DEBUG = (typeof VEGA_DEBUG == \"undefined\") ? {} : VEGA_DEBUG;\n",
       "  (function(spec, embedOpt){\n",
       "    let outputDiv = document.currentScript.previousElementSibling;\n",
       "    if (outputDiv.id !== \"altair-viz-33b93ab9aaed48d899857d77b256df15\") {\n",
       "      outputDiv = document.getElementById(\"altair-viz-33b93ab9aaed48d899857d77b256df15\");\n",
       "    }\n",
       "    const paths = {\n",
       "      \"vega\": \"https://cdn.jsdelivr.net/npm//vega@5?noext\",\n",
       "      \"vega-lib\": \"https://cdn.jsdelivr.net/npm//vega-lib?noext\",\n",
       "      \"vega-lite\": \"https://cdn.jsdelivr.net/npm//vega-lite@4.17.0?noext\",\n",
       "      \"vega-embed\": \"https://cdn.jsdelivr.net/npm//vega-embed@6?noext\",\n",
       "    };\n",
       "\n",
       "    function maybeLoadScript(lib, version) {\n",
       "      var key = `${lib.replace(\"-\", \"\")}_version`;\n",
       "      return (VEGA_DEBUG[key] == version) ?\n",
       "        Promise.resolve(paths[lib]) :\n",
       "        new Promise(function(resolve, reject) {\n",
       "          var s = document.createElement('script');\n",
       "          document.getElementsByTagName(\"head\")[0].appendChild(s);\n",
       "          s.async = true;\n",
       "          s.onload = () => {\n",
       "            VEGA_DEBUG[key] = version;\n",
       "            return resolve(paths[lib]);\n",
       "          };\n",
       "          s.onerror = () => reject(`Error loading script: ${paths[lib]}`);\n",
       "          s.src = paths[lib];\n",
       "        });\n",
       "    }\n",
       "\n",
       "    function showError(err) {\n",
       "      outputDiv.innerHTML = `<div class=\"error\" style=\"color:red;\">${err}</div>`;\n",
       "      throw err;\n",
       "    }\n",
       "\n",
       "    function displayChart(vegaEmbed) {\n",
       "      vegaEmbed(outputDiv, spec, embedOpt)\n",
       "        .catch(err => showError(`Javascript Error: ${err.message}<br>This usually means there's a typo in your chart specification. See the javascript console for the full traceback.`));\n",
       "    }\n",
       "\n",
       "    if(typeof define === \"function\" && define.amd) {\n",
       "      requirejs.config({paths});\n",
       "      require([\"vega-embed\"], displayChart, err => showError(`Error loading script: ${err.message}`));\n",
       "    } else {\n",
       "      maybeLoadScript(\"vega\", \"5\")\n",
       "        .then(() => maybeLoadScript(\"vega-lite\", \"4.17.0\"))\n",
       "        .then(() => maybeLoadScript(\"vega-embed\", \"6\"))\n",
       "        .catch(showError)\n",
       "        .then(() => displayChart(vegaEmbed));\n",
       "    }\n",
       "  })({\"config\": {\"view\": {\"continuousWidth\": 400, \"continuousHeight\": 300}, \"axis\": {\"labelFontSize\": 11, \"titleFontSize\": 15}, \"axisBottom\": {\"labelAngle\": 60}}, \"hconcat\": [{\"layer\": [{\"mark\": \"bar\", \"encoding\": {\"color\": {\"value\": \"transparent\"}, \"tooltip\": [{\"aggregate\": \"sum\", \"field\": \"noisy_count\", \"title\": \"noisy count\", \"type\": \"quantitative\"}, {\"aggregate\": \"sum\", \"field\": \"noisy_count_prev\", \"title\": \"prev count\", \"type\": \"quantitative\"}, {\"aggregate\": \"sum\", \"field\": \"error\", \"title\": \"current error\", \"type\": \"quantitative\"}, {\"aggregate\": \"sum\", \"field\": \"error_prev\", \"title\": \"prev error\", \"type\": \"quantitative\"}], \"x\": {\"field\": \"marital\", \"sort\": null, \"title\": \"Marital\", \"type\": \"ordinal\"}}, \"height\": 300, \"selection\": {\"selector037\": {\"type\": \"interval\", \"encodings\": [\"x\"]}}, \"transform\": [{\"filter\": {\"selection\": \"selector038\"}}], \"width\": 450}, {\"mark\": {\"type\": \"bar\", \"color\": \"gray\", \"opacity\": 0}, \"encoding\": {\"x\": {\"field\": \"marital\", \"sort\": null, \"title\": \"Marital\", \"type\": \"ordinal\"}, \"y\": {\"aggregate\": \"sum\", \"field\": \"noisy_count_prev\", \"type\": \"quantitative\"}}, \"transform\": [{\"filter\": {\"selection\": \"selector038\"}}]}, {\"mark\": {\"type\": \"bar\", \"color\": \"#4C7FFF\", \"opacity\": 0.7}, \"encoding\": {\"x\": {\"field\": \"marital\", \"sort\": null, \"title\": \"Marital\", \"type\": \"ordinal\"}, \"y\": {\"aggregate\": \"sum\", \"field\": \"noisy_count\", \"type\": \"quantitative\"}}, \"transform\": [{\"filter\": {\"selection\": \"selector038\"}}]}, {\"mark\": {\"type\": \"point\", \"color\": \"black\", \"opacity\": 0.7}, \"encoding\": {\"x\": {\"field\": \"marital\", \"sort\": null, \"title\": \"Marital\", \"type\": \"ordinal\"}, \"y\": {\"aggregate\": \"sum\", \"field\": \"noisy_count\", \"title\": \"Noisy Count\", \"type\": \"quantitative\"}}, \"transform\": [{\"filter\": {\"selection\": \"selector038\"}}]}, {\"mark\": {\"type\": \"rule\", \"color\": \"#B6B6B6\", \"size\": 2, \"strokeDash\": [3, 3]}, \"encoding\": {\"x\": {\"field\": \"marital\", \"sort\": null, \"title\": \"Marital\", \"type\": \"ordinal\"}, \"y\": {\"aggregate\": \"sum\", \"field\": \"plus_error_prev_marital\", \"title\": \"\", \"type\": \"quantitative\"}, \"y2\": {\"aggregate\": \"sum\", \"field\": \"minus_error_prev_marital\", \"title\": \"\"}}, \"transform\": [{\"filter\": {\"selection\": \"selector038\"}}]}, {\"mark\": {\"type\": \"tick\", \"color\": \"#B90000\", \"size\": 0, \"strokeDash\": [1, 1]}, \"encoding\": {\"x\": {\"field\": \"marital\", \"sort\": null, \"title\": \"Marital\", \"type\": \"ordinal\"}, \"y\": {\"aggregate\": \"sum\", \"field\": \"plus_error_prev_marital\", \"type\": \"quantitative\"}}, \"transform\": [{\"filter\": {\"selection\": \"selector038\"}}]}, {\"mark\": {\"type\": \"tick\", \"color\": \"#B90000\", \"size\": 0, \"strokeDash\": [3, 1]}, \"encoding\": {\"x\": {\"field\": \"marital\", \"sort\": null, \"title\": \"Marital\", \"type\": \"ordinal\"}, \"y\": {\"aggregate\": \"sum\", \"field\": \"minus_error_prev_marital\", \"type\": \"quantitative\"}}, \"transform\": [{\"filter\": {\"selection\": \"selector038\"}}]}, {\"mark\": {\"type\": \"rule\", \"color\": \"black\", \"size\": 2}, \"encoding\": {\"x\": {\"field\": \"marital\", \"sort\": null, \"title\": \"Marital\", \"type\": \"ordinal\"}, \"y\": {\"aggregate\": \"sum\", \"field\": \"plus_error\", \"title\": \"\", \"type\": \"quantitative\"}, \"y2\": {\"aggregate\": \"sum\", \"field\": \"minus_error\", \"title\": \"\"}}, \"transform\": [{\"filter\": {\"selection\": \"selector038\"}}]}, {\"mark\": {\"type\": \"tick\", \"color\": \"black\", \"width\": 0}, \"encoding\": {\"x\": {\"field\": \"marital\", \"sort\": null, \"title\": \"Marital\", \"type\": \"ordinal\"}, \"y\": {\"aggregate\": \"sum\", \"field\": \"plus_error\", \"type\": \"quantitative\"}}, \"transform\": [{\"filter\": {\"selection\": \"selector038\"}}]}, {\"mark\": {\"type\": \"tick\", \"color\": \"black\", \"width\": 0}, \"encoding\": {\"x\": {\"field\": \"marital\", \"sort\": null, \"title\": \"Marital\", \"type\": \"ordinal\"}, \"y\": {\"aggregate\": \"sum\", \"field\": \"minus_error\", \"type\": \"quantitative\"}}, \"transform\": [{\"filter\": {\"selection\": \"selector038\"}}]}]}, {\"layer\": [{\"mark\": \"bar\", \"encoding\": {\"color\": {\"value\": \"transparent\"}, \"tooltip\": [{\"aggregate\": \"sum\", \"field\": \"noisy_count\", \"title\": \"noisy count\", \"type\": \"quantitative\"}, {\"aggregate\": \"sum\", \"field\": \"noisy_count_prev\", \"title\": \"prev count\", \"type\": \"quantitative\"}, {\"aggregate\": \"sum\", \"field\": \"error\", \"title\": \"current error\", \"type\": \"quantitative\"}, {\"aggregate\": \"sum\", \"field\": \"error_prev\", \"title\": \"prev error\", \"type\": \"quantitative\"}], \"x\": {\"field\": \"race\", \"sort\": null, \"title\": \"Race\", \"type\": \"ordinal\"}}, \"height\": 300, \"selection\": {\"selector038\": {\"type\": \"interval\", \"encodings\": [\"x\"]}}, \"transform\": [{\"filter\": {\"selection\": \"selector037\"}}], \"width\": 450}, {\"mark\": {\"type\": \"bar\", \"color\": \"gray\", \"opacity\": 0}, \"encoding\": {\"x\": {\"field\": \"race\", \"sort\": null, \"title\": \"Race\", \"type\": \"ordinal\"}, \"y\": {\"aggregate\": \"sum\", \"field\": \"noisy_count_prev\", \"type\": \"quantitative\"}}, \"transform\": [{\"filter\": {\"selection\": \"selector037\"}}]}, {\"mark\": {\"type\": \"bar\", \"color\": \"#4C7FFF\", \"opacity\": 0.7}, \"encoding\": {\"x\": {\"field\": \"race\", \"sort\": null, \"title\": \"Race\", \"type\": \"ordinal\"}, \"y\": {\"aggregate\": \"sum\", \"field\": \"noisy_count\", \"type\": \"quantitative\"}}, \"transform\": [{\"filter\": {\"selection\": \"selector037\"}}]}, {\"mark\": {\"type\": \"point\", \"color\": \"black\", \"opacity\": 0.7}, \"encoding\": {\"x\": {\"field\": \"race\", \"sort\": null, \"title\": \"Race\", \"type\": \"ordinal\"}, \"y\": {\"aggregate\": \"sum\", \"field\": \"noisy_count\", \"title\": \"Noisy Count\", \"type\": \"quantitative\"}}, \"transform\": [{\"filter\": {\"selection\": \"selector037\"}}]}, {\"mark\": {\"type\": \"rule\", \"color\": \"#B6B6B6\", \"size\": 2, \"strokeDash\": [3, 3]}, \"encoding\": {\"x\": {\"field\": \"race\", \"sort\": null, \"title\": \"Race\", \"type\": \"ordinal\"}, \"y\": {\"aggregate\": \"sum\", \"field\": \"plus_error_prev_race\", \"title\": \"\", \"type\": \"quantitative\"}, \"y2\": {\"aggregate\": \"sum\", \"field\": \"minus_error_prev_race\", \"title\": \"\"}}, \"transform\": [{\"filter\": {\"selection\": \"selector037\"}}]}, {\"mark\": {\"type\": \"tick\", \"color\": \"#B90000\", \"size\": 0, \"strokeDash\": [1, 1]}, \"encoding\": {\"x\": {\"field\": \"race\", \"sort\": null, \"title\": \"Race\", \"type\": \"ordinal\"}, \"y\": {\"aggregate\": \"sum\", \"field\": \"plus_error_prev_race\", \"type\": \"quantitative\"}}, \"transform\": [{\"filter\": {\"selection\": \"selector037\"}}]}, {\"mark\": {\"type\": \"tick\", \"color\": \"#B90000\", \"size\": 0, \"strokeDash\": [3, 1]}, \"encoding\": {\"x\": {\"field\": \"race\", \"sort\": null, \"title\": \"Race\", \"type\": \"ordinal\"}, \"y\": {\"aggregate\": \"sum\", \"field\": \"minus_error_prev_race\", \"type\": \"quantitative\"}}, \"transform\": [{\"filter\": {\"selection\": \"selector037\"}}]}, {\"mark\": {\"type\": \"rule\", \"color\": \"black\", \"size\": 2}, \"encoding\": {\"x\": {\"field\": \"race\", \"sort\": null, \"title\": \"Race\", \"type\": \"ordinal\"}, \"y\": {\"aggregate\": \"sum\", \"field\": \"plus_error\", \"title\": \"\", \"type\": \"quantitative\"}, \"y2\": {\"aggregate\": \"sum\", \"field\": \"minus_error\", \"title\": \"\"}}, \"transform\": [{\"filter\": {\"selection\": \"selector037\"}}]}, {\"mark\": {\"type\": \"tick\", \"color\": \"black\", \"width\": 0}, \"encoding\": {\"x\": {\"field\": \"race\", \"sort\": null, \"title\": \"Race\", \"type\": \"ordinal\"}, \"y\": {\"aggregate\": \"sum\", \"field\": \"plus_error\", \"type\": \"quantitative\"}}, \"transform\": [{\"filter\": {\"selection\": \"selector037\"}}]}, {\"mark\": {\"type\": \"tick\", \"color\": \"black\", \"width\": 0}, \"encoding\": {\"x\": {\"field\": \"race\", \"sort\": null, \"title\": \"Race\", \"type\": \"ordinal\"}, \"y\": {\"aggregate\": \"sum\", \"field\": \"minus_error\", \"type\": \"quantitative\"}}, \"transform\": [{\"filter\": {\"selection\": \"selector037\"}}]}]}], \"data\": {\"name\": \"data-b7a106202a826ef0e6947c698e4dc077\"}, \"$schema\": \"https://vega.github.io/schema/vega-lite/v4.17.0.json\", \"datasets\": {\"data-b7a106202a826ef0e6947c698e4dc077\": [{\"marital\": \"Married\", \"race\": \"White\", \"noisy_count\": 24260.4, \"true_count\": 24269.0, \"plus_error\": 24274.6, \"minus_error\": 24246.3, \"error\": 14.1, \"noisy_count_prev\": 24249.8, \"true_count_prev\": 24269.0, \"plus_error_prev\": 24278.1, \"minus_error_prev\": 24221.5, \"error_prev\": 28.3, \"plus_error_prev_marital\": 24280.5, \"minus_error_prev_marital\": 24223.9, \"plus_error_prev_race\": 24282.1, \"minus_error_prev_race\": 24225.5}, {\"marital\": \"Married\", \"race\": \"Black\", \"noisy_count\": 1675.4, \"true_count\": 1667.0, \"plus_error\": 1689.6, \"minus_error\": 1661.3, \"error\": 14.1, \"noisy_count_prev\": 1672.6, \"true_count_prev\": 1667.0, \"plus_error_prev\": 1700.9, \"minus_error_prev\": 1644.3, \"error_prev\": 28.3, \"plus_error_prev_marital\": 1703.3000000000006, \"minus_error_prev_marital\": 1646.7000000000005, \"plus_error_prev_race\": 1698.257142857143, \"minus_error_prev_race\": 1641.6571428571428}, {\"marital\": \"Married\", \"race\": \"American Indian\", \"noisy_count\": 267.0, \"true_count\": 266.0, \"plus_error\": 281.1, \"minus_error\": 252.8, \"error\": 14.1, \"noisy_count_prev\": 263.3, \"true_count_prev\": 266.0, \"plus_error_prev\": 291.6, \"minus_error_prev\": 235.1, \"error_prev\": 28.3, \"plus_error_prev_marital\": 294.00000000000057, \"minus_error_prev_marital\": 237.50000000000054, \"plus_error_prev_race\": 302.3, \"minus_error_prev_race\": 245.79999999999998}, {\"marital\": \"Married\", \"race\": \"Chinese\", \"noisy_count\": 872.4, \"true_count\": 863.0, \"plus_error\": 886.5, \"minus_error\": 858.3, \"error\": 14.1, \"noisy_count_prev\": 879.9, \"true_count_prev\": 863.0, \"plus_error_prev\": 908.2, \"minus_error_prev\": 851.6, \"error_prev\": 28.3, \"plus_error_prev_marital\": 910.6000000000006, \"minus_error_prev_marital\": 854.0000000000006, \"plus_error_prev_race\": 913.6, \"minus_error_prev_race\": 857.0}, {\"marital\": \"Absent\", \"race\": \"White\", \"noisy_count\": 91.4, \"true_count\": 94.0, \"plus_error\": 105.5, \"minus_error\": 77.2, \"error\": 14.1, \"noisy_count_prev\": 81.9, \"true_count_prev\": 94.0, \"plus_error_prev\": 110.2, \"minus_error_prev\": 53.6, \"error_prev\": 28.3, \"plus_error_prev_marital\": 115.6, \"minus_error_prev_marital\": 58.99999999999999, \"plus_error_prev_race\": 114.2, \"minus_error_prev_race\": 57.6}, {\"marital\": \"Absent\", \"race\": \"Black\", \"noisy_count\": 8.7, \"true_count\": 16.0, \"plus_error\": 22.9, \"minus_error\": -5.4, \"error\": 14.1, \"noisy_count_prev\": 4.1, \"true_count_prev\": 16.0, \"plus_error_prev\": 32.4, \"minus_error_prev\": -24.1, \"error_prev\": 28.3, \"plus_error_prev_marital\": 37.79999999999999, \"minus_error_prev_marital\": -18.70000000000001, \"plus_error_prev_race\": 29.757142857142856, \"minus_error_prev_race\": -26.742857142857144}, {\"marital\": \"Absent\", \"race\": \"American Indian\", \"noisy_count\": 24.6, \"true_count\": 0.0, \"plus_error\": 38.7, \"minus_error\": 10.4, \"error\": 14.1, \"noisy_count_prev\": 18.5, \"true_count_prev\": 0.0, \"plus_error_prev\": 46.8, \"minus_error_prev\": -9.8, \"error_prev\": 28.3, \"plus_error_prev_marital\": 52.19999999999999, \"minus_error_prev_marital\": -4.400000000000009, \"plus_error_prev_race\": 57.49999999999999, \"minus_error_prev_race\": 0.8999999999999968}, {\"marital\": \"Absent\", \"race\": \"Chinese\", \"noisy_count\": 58.0, \"true_count\": 7.0, \"plus_error\": 72.2, \"minus_error\": 43.9, \"error\": 14.1, \"noisy_count_prev\": 56.6, \"true_count_prev\": 7.0, \"plus_error_prev\": 84.9, \"minus_error_prev\": 28.3, \"error_prev\": 28.3, \"plus_error_prev_marital\": 90.3, \"minus_error_prev_marital\": 33.69999999999999, \"plus_error_prev_race\": 90.3, \"minus_error_prev_race\": 33.699999999999996}, {\"marital\": \"Separated\", \"race\": \"White\", \"noisy_count\": 572.4, \"true_count\": 567.0, \"plus_error\": 586.6, \"minus_error\": 558.3, \"error\": 14.1, \"noisy_count_prev\": 560.3, \"true_count_prev\": 567.0, \"plus_error_prev\": 588.6, \"minus_error_prev\": 532.0, \"error_prev\": 28.3, \"plus_error_prev_marital\": 594.375, \"minus_error_prev_marital\": 537.775, \"plus_error_prev_race\": 592.6, \"minus_error_prev_race\": 536.0}, {\"marital\": \"Separated\", \"race\": \"Black\", \"noisy_count\": 84.6, \"true_count\": 84.0, \"plus_error\": 98.8, \"minus_error\": 70.5, \"error\": 14.1, \"noisy_count_prev\": 84.0, \"true_count_prev\": 84.0, \"plus_error_prev\": 112.3, \"minus_error_prev\": 55.8, \"error_prev\": 28.3, \"plus_error_prev_marital\": 118.07499999999997, \"minus_error_prev_marital\": 61.574999999999974, \"plus_error_prev_race\": 109.65714285714286, \"minus_error_prev_race\": 53.15714285714285}, {\"marital\": \"Separated\", \"race\": \"American Indian\", \"noisy_count\": 19.0, \"true_count\": 13.0, \"plus_error\": 33.2, \"minus_error\": 4.9, \"error\": 14.1, \"noisy_count_prev\": 22.1, \"true_count_prev\": 13.0, \"plus_error_prev\": 50.4, \"minus_error_prev\": -6.1, \"error_prev\": 28.3, \"plus_error_prev_marital\": 56.174999999999976, \"minus_error_prev_marital\": -0.3250000000000224, \"plus_error_prev_race\": 61.099999999999994, \"minus_error_prev_race\": 4.599999999999998}, {\"marital\": \"Separated\", \"race\": \"Chinese\", \"noisy_count\": 71.6, \"true_count\": 47.0, \"plus_error\": 85.7, \"minus_error\": 57.4, \"error\": 14.1, \"noisy_count_prev\": 58.1, \"true_count_prev\": 47.0, \"plus_error_prev\": 86.4, \"minus_error_prev\": 29.8, \"error_prev\": 28.3, \"plus_error_prev_marital\": 92.17499999999998, \"minus_error_prev_marital\": 35.574999999999974, \"plus_error_prev_race\": 91.8, \"minus_error_prev_race\": 35.199999999999996}, {\"marital\": \"Widowed\", \"race\": \"White\", \"noisy_count\": 4061.8, \"true_count\": 4078.0, \"plus_error\": 4076.0, \"minus_error\": 4047.7, \"error\": 14.1, \"noisy_count_prev\": 4080.6, \"true_count_prev\": 4078.0, \"plus_error_prev\": 4108.9, \"minus_error_prev\": 4052.3, \"error_prev\": 28.3, \"plus_error_prev_marital\": 4107.924999999999, \"minus_error_prev_marital\": 4051.3250000000003, \"plus_error_prev_race\": 4112.9, \"minus_error_prev_race\": 4056.3}, {\"marital\": \"Widowed\", \"race\": \"Black\", \"noisy_count\": 511.0, \"true_count\": 543.0, \"plus_error\": 525.1, \"minus_error\": 496.8, \"error\": 14.1, \"noisy_count_prev\": 543.1, \"true_count_prev\": 543.0, \"plus_error_prev\": 571.4, \"minus_error_prev\": 514.8, \"error_prev\": 28.3, \"plus_error_prev_marital\": 570.4250000000001, \"minus_error_prev_marital\": 513.825, \"plus_error_prev_race\": 568.7571428571429, \"minus_error_prev_race\": 512.1571428571428}, {\"marital\": \"Widowed\", \"race\": \"American Indian\", \"noisy_count\": 10.0, \"true_count\": 35.0, \"plus_error\": 24.2, \"minus_error\": -4.1, \"error\": 14.1, \"noisy_count_prev\": -36.8, \"true_count_prev\": 35.0, \"plus_error_prev\": -8.6, \"minus_error_prev\": -65.1, \"error_prev\": 28.3, \"plus_error_prev_marital\": -9.574999999999909, \"minus_error_prev_marital\": -66.0749999999999, \"plus_error_prev_race\": 2.099999999999998, \"minus_error_prev_race\": -54.4}, {\"marital\": \"Widowed\", \"race\": \"Chinese\", \"noisy_count\": 93.0, \"true_count\": 77.0, \"plus_error\": 107.2, \"minus_error\": 78.9, \"error\": 14.1, \"noisy_count_prev\": 92.8, \"true_count_prev\": 77.0, \"plus_error_prev\": 121.1, \"minus_error_prev\": 64.5, \"error_prev\": 28.3, \"plus_error_prev_marital\": 120.12500000000009, \"minus_error_prev_marital\": 63.52500000000009, \"plus_error_prev_race\": 126.49999999999999, \"minus_error_prev_race\": 69.89999999999999}, {\"marital\": \"Divorced\", \"race\": \"White\", \"noisy_count\": 5929.4, \"true_count\": 5901.0, \"plus_error\": 5943.5, \"minus_error\": 5915.2, \"error\": 14.1, \"noisy_count_prev\": 5894.7, \"true_count_prev\": 5901.0, \"plus_error_prev\": 5923.0, \"minus_error_prev\": 5866.4, \"error_prev\": 28.3, \"plus_error_prev_marital\": 5940.65, \"minus_error_prev_marital\": 5884.049999999999, \"plus_error_prev_race\": 5927.0, \"minus_error_prev_race\": 5870.4}, {\"marital\": \"Divorced\", \"race\": \"Black\", \"noisy_count\": 761.7, \"true_count\": 750.0, \"plus_error\": 775.9, \"minus_error\": 747.6, \"error\": 14.1, \"noisy_count_prev\": 755.2, \"true_count_prev\": 750.0, \"plus_error_prev\": 783.5, \"minus_error_prev\": 727.0, \"error_prev\": 28.3, \"plus_error_prev_marital\": 801.1499999999999, \"minus_error_prev_marital\": 744.6499999999999, \"plus_error_prev_race\": 780.8571428571429, \"minus_error_prev_race\": 724.3571428571429}, {\"marital\": \"Divorced\", \"race\": \"American Indian\", \"noisy_count\": 74.3, \"true_count\": 94.0, \"plus_error\": 88.4, \"minus_error\": 60.1, \"error\": 14.1, \"noisy_count_prev\": 56.2, \"true_count_prev\": 94.0, \"plus_error_prev\": 84.4, \"minus_error_prev\": 27.9, \"error_prev\": 28.3, \"plus_error_prev_marital\": 102.04999999999987, \"minus_error_prev_marital\": 45.54999999999986, \"plus_error_prev_race\": 95.10000000000001, \"minus_error_prev_race\": 38.599999999999994}, {\"marital\": \"Divorced\", \"race\": \"Chinese\", \"noisy_count\": 110.2, \"true_count\": 105.0, \"plus_error\": 124.3, \"minus_error\": 96.0, \"error\": 14.1, \"noisy_count_prev\": 98.9, \"true_count_prev\": 105.0, \"plus_error_prev\": 127.2, \"minus_error_prev\": 70.6, \"error_prev\": 28.3, \"plus_error_prev_marital\": 144.84999999999985, \"minus_error_prev_marital\": 88.24999999999986, \"plus_error_prev_race\": 132.6, \"minus_error_prev_race\": 75.99999999999999}, {\"marital\": \"Divorced/Widowed\", \"race\": \"White\", \"noisy_count\": 1011.9, \"true_count\": 1005.0, \"plus_error\": 1026.0, \"minus_error\": 997.7, \"error\": 14.1, \"noisy_count_prev\": 1012.2, \"true_count_prev\": 1005.0, \"plus_error_prev\": 1040.5, \"minus_error_prev\": 983.9, \"error_prev\": 28.3, \"plus_error_prev_marital\": 1042.475, \"minus_error_prev_marital\": 985.875, \"plus_error_prev_race\": 1044.5, \"minus_error_prev_race\": 987.9}, {\"marital\": \"Divorced/Widowed\", \"race\": \"Black\", \"noisy_count\": 329.2, \"true_count\": 344.0, \"plus_error\": 343.3, \"minus_error\": 315.1, \"error\": 14.1, \"noisy_count_prev\": 339.4, \"true_count_prev\": 344.0, \"plus_error_prev\": 367.7, \"minus_error_prev\": 311.1, \"error_prev\": 28.3, \"plus_error_prev_marital\": 369.67499999999995, \"minus_error_prev_marital\": 313.075, \"plus_error_prev_race\": 365.0571428571428, \"minus_error_prev_race\": 308.45714285714286}, {\"marital\": \"Divorced/Widowed\", \"race\": \"American Indian\", \"noisy_count\": 51.6, \"true_count\": 21.0, \"plus_error\": 65.8, \"minus_error\": 37.5, \"error\": 14.1, \"noisy_count_prev\": 38.2, \"true_count_prev\": 21.0, \"plus_error_prev\": 66.5, \"minus_error_prev\": 9.9, \"error_prev\": 28.3, \"plus_error_prev_marital\": 68.47499999999997, \"minus_error_prev_marital\": 11.874999999999966, \"plus_error_prev_race\": 77.2, \"minus_error_prev_race\": 20.599999999999998}, {\"marital\": \"Divorced/Widowed\", \"race\": \"Chinese\", \"noisy_count\": 28.9, \"true_count\": 33.0, \"plus_error\": 43.0, \"minus_error\": 14.7, \"error\": 14.1, \"noisy_count_prev\": 23.9, \"true_count_prev\": 33.0, \"plus_error_prev\": 52.2, \"minus_error_prev\": -4.4, \"error_prev\": 28.3, \"plus_error_prev_marital\": 54.17499999999997, \"minus_error_prev_marital\": -2.4250000000000345, \"plus_error_prev_race\": 57.599999999999994, \"minus_error_prev_race\": 0.9999999999999929}, {\"marital\": \"Never Married\", \"race\": \"White\", \"noisy_count\": 6597.0, \"true_count\": 6590.0, \"plus_error\": 6611.2, \"minus_error\": 6582.9, \"error\": 14.1, \"noisy_count_prev\": 6616.8, \"true_count_prev\": 6590.0, \"plus_error_prev\": 6645.1, \"minus_error_prev\": 6588.5, \"error_prev\": 28.3, \"plus_error_prev_marital\": 6643.425, \"minus_error_prev_marital\": 6586.825, \"plus_error_prev_race\": 6649.1, \"minus_error_prev_race\": 6592.5}, {\"marital\": \"Never Married\", \"race\": \"Black\", \"noisy_count\": 1531.6, \"true_count\": 1525.0, \"plus_error\": 1545.7, \"minus_error\": 1517.4, \"error\": 14.1, \"noisy_count_prev\": 1522.3, \"true_count_prev\": 1525.0, \"plus_error_prev\": 1550.6, \"minus_error_prev\": 1494.0, \"error_prev\": 28.3, \"plus_error_prev_marital\": 1548.9249999999997, \"minus_error_prev_marital\": 1492.3249999999998, \"plus_error_prev_race\": 1547.9571428571428, \"minus_error_prev_race\": 1491.357142857143}, {\"marital\": \"Never Married\", \"race\": \"American Indian\", \"noisy_count\": 140.4, \"true_count\": 132.0, \"plus_error\": 154.5, \"minus_error\": 126.2, \"error\": 14.1, \"noisy_count_prev\": 150.5, \"true_count_prev\": 132.0, \"plus_error_prev\": 178.8, \"minus_error_prev\": 122.3, \"error_prev\": 28.3, \"plus_error_prev_marital\": 177.12499999999983, \"minus_error_prev_marital\": 120.62499999999982, \"plus_error_prev_race\": 189.5, \"minus_error_prev_race\": 133.0}, {\"marital\": \"Never Married\", \"race\": \"Chinese\", \"noisy_count\": 299.0, \"true_count\": 310.0, \"plus_error\": 313.1, \"minus_error\": 284.9, \"error\": 14.1, \"noisy_count_prev\": 285.1, \"true_count_prev\": 310.0, \"plus_error_prev\": 313.4, \"minus_error_prev\": 256.8, \"error_prev\": 28.3, \"plus_error_prev_marital\": 311.7249999999998, \"minus_error_prev_marital\": 255.12499999999983, \"plus_error_prev_race\": 318.79999999999995, \"minus_error_prev_race\": 262.2}]}}, {\"mode\": \"vega-lite\"});\n",
       "</script>"
      ],
      "text/plain": [
       "alt.HConcatChart(...)"
      ]
     },
     "metadata": {},
     "output_type": "display_data"
    },
    {
     "data": {
      "application/vnd.jupyter.widget-view+json": {
       "model_id": "5684dc42502d463fb9cd4219ac91c6d6",
       "version_major": 2,
       "version_minor": 0
      },
      "text/plain": [
       "VBox(children=(VBox(children=(Textarea(value='', description='Answer:', layout=Layout(height='50px', width='50…"
      ]
     },
     "metadata": {},
     "output_type": "display_data"
    },
    {
     "data": {
      "application/vnd.jupyter.widget-view+json": {
       "model_id": "d0643da1a96547aea7d94da1a9a0bab3",
       "version_major": 2,
       "version_minor": 0
      },
      "text/plain": [
       "Button(layout=Layout(height='1px', width='99%'), style=ButtonStyle(button_color='black'))"
      ]
     },
     "metadata": {},
     "output_type": "display_data"
    },
    {
     "data": {
      "application/vnd.jupyter.widget-view+json": {
       "model_id": "7e12d5a251264dc69ef525289db185b3",
       "version_major": 2,
       "version_minor": 0
      },
      "text/plain": [
       "HBox(children=(HTML(value='<b>Question 2/6: How many people over the age of 65 have income between 100,000 and…"
      ]
     },
     "metadata": {},
     "output_type": "display_data"
    },
    {
     "data": {
      "application/vnd.jupyter.widget-view+json": {
       "model_id": "09a99f3dd65b47c49baea39e937b123d",
       "version_major": 2,
       "version_minor": 0
      },
      "text/plain": [
       "HBox(children=(HTML(value='<b>Number of Remeasures are Used So Far</b>', placeholder=''), FloatProgress(value=…"
      ]
     },
     "metadata": {},
     "output_type": "display_data"
    },
    {
     "data": {
      "text/html": [
       "\n",
       "<div id=\"altair-viz-b891ff8e1d894399bbddafb5dcef04f4\"></div>\n",
       "<script type=\"text/javascript\">\n",
       "  var VEGA_DEBUG = (typeof VEGA_DEBUG == \"undefined\") ? {} : VEGA_DEBUG;\n",
       "  (function(spec, embedOpt){\n",
       "    let outputDiv = document.currentScript.previousElementSibling;\n",
       "    if (outputDiv.id !== \"altair-viz-b891ff8e1d894399bbddafb5dcef04f4\") {\n",
       "      outputDiv = document.getElementById(\"altair-viz-b891ff8e1d894399bbddafb5dcef04f4\");\n",
       "    }\n",
       "    const paths = {\n",
       "      \"vega\": \"https://cdn.jsdelivr.net/npm//vega@5?noext\",\n",
       "      \"vega-lib\": \"https://cdn.jsdelivr.net/npm//vega-lib?noext\",\n",
       "      \"vega-lite\": \"https://cdn.jsdelivr.net/npm//vega-lite@4.17.0?noext\",\n",
       "      \"vega-embed\": \"https://cdn.jsdelivr.net/npm//vega-embed@6?noext\",\n",
       "    };\n",
       "\n",
       "    function maybeLoadScript(lib, version) {\n",
       "      var key = `${lib.replace(\"-\", \"\")}_version`;\n",
       "      return (VEGA_DEBUG[key] == version) ?\n",
       "        Promise.resolve(paths[lib]) :\n",
       "        new Promise(function(resolve, reject) {\n",
       "          var s = document.createElement('script');\n",
       "          document.getElementsByTagName(\"head\")[0].appendChild(s);\n",
       "          s.async = true;\n",
       "          s.onload = () => {\n",
       "            VEGA_DEBUG[key] = version;\n",
       "            return resolve(paths[lib]);\n",
       "          };\n",
       "          s.onerror = () => reject(`Error loading script: ${paths[lib]}`);\n",
       "          s.src = paths[lib];\n",
       "        });\n",
       "    }\n",
       "\n",
       "    function showError(err) {\n",
       "      outputDiv.innerHTML = `<div class=\"error\" style=\"color:red;\">${err}</div>`;\n",
       "      throw err;\n",
       "    }\n",
       "\n",
       "    function displayChart(vegaEmbed) {\n",
       "      vegaEmbed(outputDiv, spec, embedOpt)\n",
       "        .catch(err => showError(`Javascript Error: ${err.message}<br>This usually means there's a typo in your chart specification. See the javascript console for the full traceback.`));\n",
       "    }\n",
       "\n",
       "    if(typeof define === \"function\" && define.amd) {\n",
       "      requirejs.config({paths});\n",
       "      require([\"vega-embed\"], displayChart, err => showError(`Error loading script: ${err.message}`));\n",
       "    } else {\n",
       "      maybeLoadScript(\"vega\", \"5\")\n",
       "        .then(() => maybeLoadScript(\"vega-lite\", \"4.17.0\"))\n",
       "        .then(() => maybeLoadScript(\"vega-embed\", \"6\"))\n",
       "        .catch(showError)\n",
       "        .then(() => displayChart(vegaEmbed));\n",
       "    }\n",
       "  })({\"config\": {\"view\": {\"continuousWidth\": 400, \"continuousHeight\": 300}, \"axis\": {\"labelFontSize\": 11, \"titleFontSize\": 15}, \"axisBottom\": {\"labelAngle\": 60}}, \"hconcat\": [{\"layer\": [{\"mark\": \"bar\", \"encoding\": {\"color\": {\"value\": \"transparent\"}, \"tooltip\": [{\"aggregate\": \"sum\", \"field\": \"noisy_count\", \"title\": \"noisy count\", \"type\": \"quantitative\"}, {\"aggregate\": \"sum\", \"field\": \"error\", \"title\": \"error\", \"type\": \"quantitative\"}], \"x\": {\"field\": \"age\", \"sort\": null, \"title\": \"Age\", \"type\": \"ordinal\"}}, \"height\": 300, \"selection\": {\"selector039\": {\"type\": \"interval\", \"encodings\": [\"x\"]}}, \"transform\": [{\"filter\": {\"selection\": \"selector040\"}}], \"width\": 450}, {\"mark\": {\"type\": \"bar\", \"color\": \"#4C7FFF\", \"opacity\": 0.7}, \"encoding\": {\"x\": {\"field\": \"age\", \"sort\": null, \"title\": \"Age\", \"type\": \"ordinal\"}, \"y\": {\"aggregate\": \"sum\", \"field\": \"noisy_count\", \"type\": \"quantitative\"}}, \"transform\": [{\"filter\": {\"selection\": \"selector040\"}}]}, {\"mark\": {\"type\": \"tick\", \"color\": \"black\", \"width\": 0}, \"encoding\": {\"x\": {\"field\": \"age\", \"sort\": null, \"title\": \"Age\", \"type\": \"ordinal\"}, \"y\": {\"aggregate\": \"sum\", \"field\": \"plus_error\", \"type\": \"quantitative\"}}, \"transform\": [{\"filter\": {\"selection\": \"selector040\"}}]}, {\"mark\": {\"type\": \"tick\", \"color\": \"black\", \"width\": 0}, \"encoding\": {\"x\": {\"field\": \"age\", \"sort\": null, \"title\": \"Age\", \"type\": \"ordinal\"}, \"y\": {\"aggregate\": \"sum\", \"field\": \"minus_error\", \"type\": \"quantitative\"}}, \"transform\": [{\"filter\": {\"selection\": \"selector040\"}}]}, {\"mark\": {\"type\": \"point\", \"color\": \"black\"}, \"encoding\": {\"x\": {\"field\": \"age\", \"sort\": null, \"title\": \"Age\", \"type\": \"ordinal\"}, \"y\": {\"aggregate\": \"sum\", \"field\": \"noisy_count\", \"title\": \"Noisy Count\", \"type\": \"quantitative\"}}, \"transform\": [{\"filter\": {\"selection\": \"selector040\"}}]}, {\"mark\": {\"type\": \"rule\", \"size\": 2}, \"encoding\": {\"x\": {\"field\": \"age\", \"sort\": null, \"title\": \"Age\", \"type\": \"ordinal\"}, \"y\": {\"aggregate\": \"sum\", \"field\": \"plus_error\", \"title\": \"\", \"type\": \"quantitative\"}, \"y2\": {\"aggregate\": \"sum\", \"field\": \"minus_error\", \"title\": \"\"}}, \"transform\": [{\"filter\": {\"selection\": \"selector040\"}}]}]}, {\"layer\": [{\"mark\": \"bar\", \"encoding\": {\"color\": {\"value\": \"transparent\"}, \"tooltip\": [{\"aggregate\": \"sum\", \"field\": \"noisy_count\", \"title\": \"noisy count\", \"type\": \"quantitative\"}, {\"aggregate\": \"sum\", \"field\": \"error\", \"title\": \"error\", \"type\": \"quantitative\"}], \"x\": {\"field\": \"income\", \"sort\": null, \"title\": \"Income\", \"type\": \"ordinal\"}}, \"height\": 300, \"selection\": {\"selector040\": {\"type\": \"interval\", \"encodings\": [\"x\"]}}, \"transform\": [{\"filter\": {\"selection\": \"selector039\"}}], \"width\": 450}, {\"mark\": {\"type\": \"bar\", \"color\": \"#4C7FFF\", \"opacity\": 0.7}, \"encoding\": {\"x\": {\"field\": \"income\", \"sort\": null, \"title\": \"Income\", \"type\": \"ordinal\"}, \"y\": {\"aggregate\": \"sum\", \"field\": \"noisy_count\", \"type\": \"quantitative\"}}, \"transform\": [{\"filter\": {\"selection\": \"selector039\"}}]}, {\"mark\": {\"type\": \"tick\", \"color\": \"black\", \"width\": 0}, \"encoding\": {\"x\": {\"field\": \"income\", \"sort\": null, \"title\": \"Income\", \"type\": \"ordinal\"}, \"y\": {\"aggregate\": \"sum\", \"field\": \"plus_error\", \"type\": \"quantitative\"}}, \"transform\": [{\"filter\": {\"selection\": \"selector039\"}}]}, {\"mark\": {\"type\": \"tick\", \"color\": \"black\", \"width\": 0}, \"encoding\": {\"x\": {\"field\": \"income\", \"sort\": null, \"title\": \"Income\", \"type\": \"ordinal\"}, \"y\": {\"aggregate\": \"sum\", \"field\": \"minus_error\", \"type\": \"quantitative\"}}, \"transform\": [{\"filter\": {\"selection\": \"selector039\"}}]}, {\"mark\": {\"type\": \"point\", \"color\": \"black\"}, \"encoding\": {\"x\": {\"field\": \"income\", \"sort\": null, \"title\": \"Income\", \"type\": \"ordinal\"}, \"y\": {\"aggregate\": \"sum\", \"field\": \"noisy_count\", \"title\": \"Noisy Count\", \"type\": \"quantitative\"}}, \"transform\": [{\"filter\": {\"selection\": \"selector039\"}}]}, {\"mark\": {\"type\": \"rule\", \"size\": 2}, \"encoding\": {\"x\": {\"field\": \"income\", \"sort\": null, \"title\": \"Income\", \"type\": \"ordinal\"}, \"y\": {\"aggregate\": \"sum\", \"field\": \"plus_error\", \"title\": \"\", \"type\": \"quantitative\"}, \"y2\": {\"aggregate\": \"sum\", \"field\": \"minus_error\", \"title\": \"\"}}, \"transform\": [{\"filter\": {\"selection\": \"selector039\"}}]}]}], \"data\": {\"name\": \"data-3d35a321f181199a21c423600a0e5246\"}, \"$schema\": \"https://vega.github.io/schema/vega-lite/v4.17.0.json\", \"datasets\": {\"data-3d35a321f181199a21c423600a0e5246\": [{\"age\": \"15-24\", \"income\": \"$0k - $49k\", \"noisy_count\": 1705.2, \"true_count\": 1474.0, \"plus_error\": 1988.1, \"minus_error\": 1422.4, \"error\": 282.8}, {\"age\": \"15-24\", \"income\": \"$50k - $99k\", \"noisy_count\": -67.5, \"true_count\": 73.0, \"plus_error\": 215.3, \"minus_error\": -350.4, \"error\": 282.8}, {\"age\": \"15-24\", \"income\": \"$100k - $149k\", \"noisy_count\": -46.8, \"true_count\": 6.0, \"plus_error\": 49.4, \"minus_error\": -143.0, \"error\": 96.2}, {\"age\": \"15-24\", \"income\": \"$150k - $199k\", \"noisy_count\": 40.8, \"true_count\": 1.0, \"plus_error\": 323.6, \"minus_error\": -242.1, \"error\": 282.8}, {\"age\": \"15-24\", \"income\": \"$200k - $249k\", \"noisy_count\": -4.2, \"true_count\": 2.0, \"plus_error\": 278.6, \"minus_error\": -287.1, \"error\": 282.8}, {\"age\": \"15-24\", \"income\": \"$250k - $299k\", \"noisy_count\": 173.6, \"true_count\": 0.0, \"plus_error\": 456.4, \"minus_error\": -109.3, \"error\": 282.8}, {\"age\": \"15-24\", \"income\": \"$300k - $349k\", \"noisy_count\": -393.4, \"true_count\": 0.0, \"plus_error\": -110.6, \"minus_error\": -676.3, \"error\": 282.8}, {\"age\": \"15-24\", \"income\": \"$350k - $399k\", \"noisy_count\": 298.1, \"true_count\": 0.0, \"plus_error\": 580.9, \"minus_error\": 15.2, \"error\": 282.8}, {\"age\": \"15-24\", \"income\": \"$400k - $449k\", \"noisy_count\": -408.8, \"true_count\": 0.0, \"plus_error\": -125.9, \"minus_error\": -691.6, \"error\": 282.8}, {\"age\": \"15-24\", \"income\": \"$450k - $499k\", \"noisy_count\": 4.8, \"true_count\": 0.0, \"plus_error\": 117.7, \"minus_error\": -108.1, \"error\": 112.9}, {\"age\": \"25-34\", \"income\": \"$0k - $49k\", \"noisy_count\": 5189.5, \"true_count\": 5377.0, \"plus_error\": 5472.3, \"minus_error\": 4906.7, \"error\": 282.8}, {\"age\": \"25-34\", \"income\": \"$50k - $99k\", \"noisy_count\": 192.8, \"true_count\": 666.0, \"plus_error\": 475.7, \"minus_error\": -90.0, \"error\": 282.8}, {\"age\": \"25-34\", \"income\": \"$100k - $149k\", \"noisy_count\": 12.8, \"true_count\": 60.0, \"plus_error\": 109.0, \"minus_error\": -83.4, \"error\": 96.2}, {\"age\": \"25-34\", \"income\": \"$150k - $199k\", \"noisy_count\": -542.7, \"true_count\": 29.0, \"plus_error\": -259.9, \"minus_error\": -825.6, \"error\": 282.8}, {\"age\": \"25-34\", \"income\": \"$200k - $249k\", \"noisy_count\": 100.6, \"true_count\": 3.0, \"plus_error\": 383.5, \"minus_error\": -182.2, \"error\": 282.8}, {\"age\": \"25-34\", \"income\": \"$250k - $299k\", \"noisy_count\": -417.7, \"true_count\": 2.0, \"plus_error\": -134.8, \"minus_error\": -700.5, \"error\": 282.8}, {\"age\": \"25-34\", \"income\": \"$300k - $349k\", \"noisy_count\": -217.0, \"true_count\": 0.0, \"plus_error\": 65.9, \"minus_error\": -499.8, \"error\": 282.8}, {\"age\": \"25-34\", \"income\": \"$350k - $399k\", \"noisy_count\": -343.6, \"true_count\": 0.0, \"plus_error\": -60.8, \"minus_error\": -626.5, \"error\": 282.8}, {\"age\": \"25-34\", \"income\": \"$400k - $449k\", \"noisy_count\": -113.4, \"true_count\": 0.0, \"plus_error\": 169.4, \"minus_error\": -396.2, \"error\": 282.8}, {\"age\": \"25-34\", \"income\": \"$450k - $499k\", \"noisy_count\": 0.8, \"true_count\": 0.0, \"plus_error\": 113.7, \"minus_error\": -112.1, \"error\": 112.9}, {\"age\": \"35-44\", \"income\": \"$0k - $49k\", \"noisy_count\": 5731.9, \"true_count\": 5792.0, \"plus_error\": 5822.3, \"minus_error\": 5641.5, \"error\": 90.4}, {\"age\": \"35-44\", \"income\": \"$50k - $99k\", \"noisy_count\": 1318.6, \"true_count\": 1276.0, \"plus_error\": 1408.9, \"minus_error\": 1228.2, \"error\": 90.4}, {\"age\": \"35-44\", \"income\": \"$100k - $149k\", \"noisy_count\": 168.7, \"true_count\": 155.0, \"plus_error\": 199.5, \"minus_error\": 138.0, \"error\": 30.7}, {\"age\": \"35-44\", \"income\": \"$150k - $199k\", \"noisy_count\": 152.6, \"true_count\": 87.0, \"plus_error\": 242.9, \"minus_error\": 62.2, \"error\": 90.4}, {\"age\": \"35-44\", \"income\": \"$200k - $249k\", \"noisy_count\": 100.0, \"true_count\": 16.0, \"plus_error\": 190.3, \"minus_error\": 9.6, \"error\": 90.4}, {\"age\": \"35-44\", \"income\": \"$250k - $299k\", \"noisy_count\": -16.3, \"true_count\": 6.0, \"plus_error\": 74.0, \"minus_error\": -106.7, \"error\": 90.4}, {\"age\": \"35-44\", \"income\": \"$300k - $349k\", \"noisy_count\": 75.9, \"true_count\": 0.0, \"plus_error\": 166.3, \"minus_error\": -14.5, \"error\": 90.4}, {\"age\": \"35-44\", \"income\": \"$350k - $399k\", \"noisy_count\": -2.8, \"true_count\": 0.0, \"plus_error\": 87.6, \"minus_error\": -93.2, \"error\": 90.4}, {\"age\": \"35-44\", \"income\": \"$400k - $449k\", \"noisy_count\": -63.5, \"true_count\": 0.0, \"plus_error\": 26.8, \"minus_error\": -153.9, \"error\": 90.4}, {\"age\": \"35-44\", \"income\": \"$450k - $499k\", \"noisy_count\": 6.0, \"true_count\": 0.0, \"plus_error\": 42.0, \"minus_error\": -30.1, \"error\": 36.1}, {\"age\": \"45-54\", \"income\": \"$0k - $49k\", \"noisy_count\": 6863.9, \"true_count\": 6798.0, \"plus_error\": 7146.8, \"minus_error\": 6581.1, \"error\": 282.8}, {\"age\": \"45-54\", \"income\": \"$50k - $99k\", \"noisy_count\": 2061.1, \"true_count\": 2097.0, \"plus_error\": 2344.0, \"minus_error\": 1778.3, \"error\": 282.8}, {\"age\": \"45-54\", \"income\": \"$100k - $149k\", \"noisy_count\": 161.9, \"true_count\": 246.0, \"plus_error\": 258.1, \"minus_error\": 65.7, \"error\": 96.2}, {\"age\": \"45-54\", \"income\": \"$150k - $199k\", \"noisy_count\": 120.2, \"true_count\": 149.0, \"plus_error\": 403.1, \"minus_error\": -162.6, \"error\": 282.8}, {\"age\": \"45-54\", \"income\": \"$200k - $249k\", \"noisy_count\": 465.0, \"true_count\": 29.0, \"plus_error\": 747.9, \"minus_error\": 182.2, \"error\": 282.8}, {\"age\": \"45-54\", \"income\": \"$250k - $299k\", \"noisy_count\": -628.7, \"true_count\": 11.0, \"plus_error\": -345.9, \"minus_error\": -911.6, \"error\": 282.8}, {\"age\": \"45-54\", \"income\": \"$300k - $349k\", \"noisy_count\": 273.4, \"true_count\": 2.0, \"plus_error\": 556.2, \"minus_error\": -9.4, \"error\": 282.8}, {\"age\": \"45-54\", \"income\": \"$350k - $399k\", \"noisy_count\": 517.0, \"true_count\": 1.0, \"plus_error\": 799.8, \"minus_error\": 234.1, \"error\": 282.8}, {\"age\": \"45-54\", \"income\": \"$400k - $449k\", \"noisy_count\": -201.6, \"true_count\": 0.0, \"plus_error\": 81.2, \"minus_error\": -484.4, \"error\": 282.8}, {\"age\": \"45-54\", \"income\": \"$450k - $499k\", \"noisy_count\": -178.9, \"true_count\": 0.0, \"plus_error\": -66.0, \"minus_error\": -291.8, \"error\": 112.9}, {\"age\": \"55-64\", \"income\": \"$0k - $49k\", \"noisy_count\": 4993.9, \"true_count\": 4884.0, \"plus_error\": 5276.8, \"minus_error\": 4711.1, \"error\": 282.8}, {\"age\": \"55-64\", \"income\": \"$50k - $99k\", \"noisy_count\": 1596.0, \"true_count\": 1954.0, \"plus_error\": 1878.9, \"minus_error\": 1313.2, \"error\": 282.8}, {\"age\": \"55-64\", \"income\": \"$100k - $149k\", \"noisy_count\": 311.1, \"true_count\": 273.0, \"plus_error\": 407.3, \"minus_error\": 214.9, \"error\": 96.2}, {\"age\": \"55-64\", \"income\": \"$150k - $199k\", \"noisy_count\": -3.1, \"true_count\": 158.0, \"plus_error\": 279.7, \"minus_error\": -285.9, \"error\": 282.8}, {\"age\": \"55-64\", \"income\": \"$200k - $249k\", \"noisy_count\": -140.8, \"true_count\": 34.0, \"plus_error\": 142.0, \"minus_error\": -423.7, \"error\": 282.8}, {\"age\": \"55-64\", \"income\": \"$250k - $299k\", \"noisy_count\": -533.1, \"true_count\": 12.0, \"plus_error\": -250.3, \"minus_error\": -816.0, \"error\": 282.8}, {\"age\": \"55-64\", \"income\": \"$300k - $349k\", \"noisy_count\": 588.5, \"true_count\": 3.0, \"plus_error\": 871.3, \"minus_error\": 305.6, \"error\": 282.8}, {\"age\": \"55-64\", \"income\": \"$350k - $399k\", \"noisy_count\": -197.9, \"true_count\": 1.0, \"plus_error\": 85.0, \"minus_error\": -480.7, \"error\": 282.8}, {\"age\": \"55-64\", \"income\": \"$400k - $449k\", \"noisy_count\": -318.1, \"true_count\": 0.0, \"plus_error\": -35.2, \"minus_error\": -600.9, \"error\": 282.8}, {\"age\": \"55-64\", \"income\": \"$450k - $499k\", \"noisy_count\": 108.7, \"true_count\": 0.0, \"plus_error\": 221.6, \"minus_error\": -4.2, \"error\": 112.9}, {\"age\": \"65-74\", \"income\": \"$0k - $49k\", \"noisy_count\": 4154.8, \"true_count\": 4113.0, \"plus_error\": 4248.5, \"minus_error\": 4061.1, \"error\": 93.7}, {\"age\": \"65-74\", \"income\": \"$50k - $99k\", \"noisy_count\": 1197.1, \"true_count\": 1349.0, \"plus_error\": 1290.8, \"minus_error\": 1103.4, \"error\": 93.7}, {\"age\": \"65-74\", \"income\": \"$100k - $149k\", \"noisy_count\": 266.9, \"true_count\": 240.0, \"plus_error\": 298.8, \"minus_error\": 235.0, \"error\": 31.9}, {\"age\": \"65-74\", \"income\": \"$150k - $199k\", \"noisy_count\": 232.8, \"true_count\": 123.0, \"plus_error\": 326.5, \"minus_error\": 139.0, \"error\": 93.7}, {\"age\": \"65-74\", \"income\": \"$200k - $249k\", \"noisy_count\": 41.2, \"true_count\": 28.0, \"plus_error\": 135.0, \"minus_error\": -52.5, \"error\": 93.7}, {\"age\": \"65-74\", \"income\": \"$250k - $299k\", \"noisy_count\": -148.8, \"true_count\": 9.0, \"plus_error\": -55.1, \"minus_error\": -242.5, \"error\": 93.7}, {\"age\": \"65-74\", \"income\": \"$300k - $349k\", \"noisy_count\": -131.3, \"true_count\": 4.0, \"plus_error\": -37.6, \"minus_error\": -225.0, \"error\": 93.7}, {\"age\": \"65-74\", \"income\": \"$350k - $399k\", \"noisy_count\": 60.1, \"true_count\": 0.0, \"plus_error\": 153.8, \"minus_error\": -33.6, \"error\": 93.7}, {\"age\": \"65-74\", \"income\": \"$400k - $449k\", \"noisy_count\": -58.2, \"true_count\": 0.0, \"plus_error\": 35.6, \"minus_error\": -151.9, \"error\": 93.7}, {\"age\": \"65-74\", \"income\": \"$450k - $499k\", \"noisy_count\": -94.4, \"true_count\": 1.0, \"plus_error\": -57.0, \"minus_error\": -131.8, \"error\": 37.4}, {\"age\": \"75-84\", \"income\": \"$0k - $49k\", \"noisy_count\": 3361.6, \"true_count\": 3217.0, \"plus_error\": 3452.0, \"minus_error\": 3271.2, \"error\": 90.4}, {\"age\": \"75-84\", \"income\": \"$50k - $99k\", \"noisy_count\": 638.6, \"true_count\": 567.0, \"plus_error\": 729.0, \"minus_error\": 548.2, \"error\": 90.4}, {\"age\": \"75-84\", \"income\": \"$100k - $149k\", \"noisy_count\": 70.4, \"true_count\": 69.0, \"plus_error\": 101.2, \"minus_error\": 39.7, \"error\": 30.7}, {\"age\": \"75-84\", \"income\": \"$150k - $199k\", \"noisy_count\": 201.6, \"true_count\": 34.0, \"plus_error\": 292.0, \"minus_error\": 111.2, \"error\": 90.4}, {\"age\": \"75-84\", \"income\": \"$200k - $249k\", \"noisy_count\": -38.2, \"true_count\": 15.0, \"plus_error\": 52.2, \"minus_error\": -128.6, \"error\": 90.4}, {\"age\": \"75-84\", \"income\": \"$250k - $299k\", \"noisy_count\": -94.1, \"true_count\": 4.0, \"plus_error\": -3.7, \"minus_error\": -184.5, \"error\": 90.4}, {\"age\": \"75-84\", \"income\": \"$300k - $349k\", \"noisy_count\": 38.1, \"true_count\": 2.0, \"plus_error\": 128.5, \"minus_error\": -52.3, \"error\": 90.4}, {\"age\": \"75-84\", \"income\": \"$350k - $399k\", \"noisy_count\": 42.4, \"true_count\": 0.0, \"plus_error\": 132.8, \"minus_error\": -48.0, \"error\": 90.4}, {\"age\": \"75-84\", \"income\": \"$400k - $449k\", \"noisy_count\": 25.4, \"true_count\": 1.0, \"plus_error\": 115.8, \"minus_error\": -65.0, \"error\": 90.4}, {\"age\": \"75-84\", \"income\": \"$450k - $499k\", \"noisy_count\": 16.9, \"true_count\": 0.0, \"plus_error\": 53.0, \"minus_error\": -19.2, \"error\": 36.1}, {\"age\": \"85-94\", \"income\": \"$0k - $49k\", \"noisy_count\": 3147.1, \"true_count\": 3603.0, \"plus_error\": 3429.9, \"minus_error\": 2864.2, \"error\": 282.8}, {\"age\": \"85-94\", \"income\": \"$50k - $99k\", \"noisy_count\": -98.2, \"true_count\": 344.0, \"plus_error\": 184.6, \"minus_error\": -381.1, \"error\": 282.8}, {\"age\": \"85-94\", \"income\": \"$100k - $149k\", \"noisy_count\": 120.0, \"true_count\": 66.0, \"plus_error\": 216.2, \"minus_error\": 23.8, \"error\": 96.2}, {\"age\": \"85-94\", \"income\": \"$150k - $199k\", \"noisy_count\": -47.2, \"true_count\": 13.0, \"plus_error\": 235.7, \"minus_error\": -330.0, \"error\": 282.8}, {\"age\": \"85-94\", \"income\": \"$200k - $249k\", \"noisy_count\": -779.9, \"true_count\": 7.0, \"plus_error\": -497.1, \"minus_error\": -1062.8, \"error\": 282.8}, {\"age\": \"85-94\", \"income\": \"$250k - $299k\", \"noisy_count\": 266.6, \"true_count\": 2.0, \"plus_error\": 549.4, \"minus_error\": -16.3, \"error\": 282.8}, {\"age\": \"85-94\", \"income\": \"$300k - $349k\", \"noisy_count\": 138.0, \"true_count\": 1.0, \"plus_error\": 420.9, \"minus_error\": -144.8, \"error\": 282.8}, {\"age\": \"85-94\", \"income\": \"$350k - $399k\", \"noisy_count\": -9.8, \"true_count\": 0.0, \"plus_error\": 273.0, \"minus_error\": -292.7, \"error\": 282.8}, {\"age\": \"85-94\", \"income\": \"$400k - $449k\", \"noisy_count\": 149.8, \"true_count\": 1.0, \"plus_error\": 432.6, \"minus_error\": -133.1, \"error\": 282.8}, {\"age\": \"85-94\", \"income\": \"$450k - $499k\", \"noisy_count\": 30.5, \"true_count\": 0.0, \"plus_error\": 143.4, \"minus_error\": -82.4, \"error\": 112.9}, {\"age\": \"95-104\", \"income\": \"$0k - $49k\", \"noisy_count\": 2856.3, \"true_count\": 2374.0, \"plus_error\": 3139.2, \"minus_error\": 2573.5, \"error\": 282.8}, {\"age\": \"95-104\", \"income\": \"$50k - $99k\", \"noisy_count\": 204.8, \"true_count\": 134.0, \"plus_error\": 487.6, \"minus_error\": -78.1, \"error\": 282.8}, {\"age\": \"95-104\", \"income\": \"$100k - $149k\", \"noisy_count\": 142.4, \"true_count\": 24.0, \"plus_error\": 238.6, \"minus_error\": 46.2, \"error\": 96.2}, {\"age\": \"95-104\", \"income\": \"$150k - $199k\", \"noisy_count\": 451.5, \"true_count\": 10.0, \"plus_error\": 734.4, \"minus_error\": 168.7, \"error\": 282.8}, {\"age\": \"95-104\", \"income\": \"$200k - $249k\", \"noisy_count\": -284.5, \"true_count\": 3.0, \"plus_error\": -1.7, \"minus_error\": -567.4, \"error\": 282.8}, {\"age\": \"95-104\", \"income\": \"$250k - $299k\", \"noisy_count\": -349.4, \"true_count\": 0.0, \"plus_error\": -66.6, \"minus_error\": -632.3, \"error\": 282.8}, {\"age\": \"95-104\", \"income\": \"$300k - $349k\", \"noisy_count\": 347.8, \"true_count\": 0.0, \"plus_error\": 630.6, \"minus_error\": 64.9, \"error\": 282.8}, {\"age\": \"95-104\", \"income\": \"$350k - $399k\", \"noisy_count\": 62.3, \"true_count\": 0.0, \"plus_error\": 345.1, \"minus_error\": -220.6, \"error\": 282.8}, {\"age\": \"95-104\", \"income\": \"$400k - $449k\", \"noisy_count\": 117.3, \"true_count\": 0.0, \"plus_error\": 400.1, \"minus_error\": -165.6, \"error\": 282.8}, {\"age\": \"95-104\", \"income\": \"$450k - $499k\", \"noisy_count\": 5.9, \"true_count\": 0.0, \"plus_error\": 118.8, \"minus_error\": -107.0, \"error\": 112.9}, {\"age\": \"105-114\", \"income\": \"$0k - $49k\", \"noisy_count\": 949.8, \"true_count\": 1319.0, \"plus_error\": 1232.7, \"minus_error\": 667.0, \"error\": 282.8}, {\"age\": \"105-114\", \"income\": \"$50k - $99k\", \"noisy_count\": -83.7, \"true_count\": 67.0, \"plus_error\": 199.2, \"minus_error\": -366.5, \"error\": 282.8}, {\"age\": \"105-114\", \"income\": \"$100k - $149k\", \"noisy_count\": -53.5, \"true_count\": 10.0, \"plus_error\": 42.7, \"minus_error\": -149.7, \"error\": 96.2}, {\"age\": \"105-114\", \"income\": \"$150k - $199k\", \"noisy_count\": 303.1, \"true_count\": 5.0, \"plus_error\": 585.9, \"minus_error\": 20.3, \"error\": 282.8}, {\"age\": \"105-114\", \"income\": \"$200k - $249k\", \"noisy_count\": -320.7, \"true_count\": 0.0, \"plus_error\": -37.9, \"minus_error\": -603.5, \"error\": 282.8}, {\"age\": \"105-114\", \"income\": \"$250k - $299k\", \"noisy_count\": -358.8, \"true_count\": 0.0, \"plus_error\": -76.0, \"minus_error\": -641.7, \"error\": 282.8}, {\"age\": \"105-114\", \"income\": \"$300k - $349k\", \"noisy_count\": 267.4, \"true_count\": 0.0, \"plus_error\": 550.3, \"minus_error\": -15.4, \"error\": 282.8}, {\"age\": \"105-114\", \"income\": \"$350k - $399k\", \"noisy_count\": 77.4, \"true_count\": 0.0, \"plus_error\": 360.2, \"minus_error\": -205.5, \"error\": 282.8}, {\"age\": \"105-114\", \"income\": \"$400k - $449k\", \"noisy_count\": -200.3, \"true_count\": 0.0, \"plus_error\": 82.6, \"minus_error\": -483.1, \"error\": 282.8}, {\"age\": \"105-114\", \"income\": \"$450k - $499k\", \"noisy_count\": 68.4, \"true_count\": 0.0, \"plus_error\": 181.3, \"minus_error\": -44.5, \"error\": 112.9}]}}, {\"mode\": \"vega-lite\"});\n",
       "</script>"
      ],
      "text/plain": [
       "alt.HConcatChart(...)"
      ]
     },
     "metadata": {},
     "output_type": "display_data"
    },
    {
     "data": {
      "application/vnd.jupyter.widget-view+json": {
       "model_id": "8b9dc8c88c8a445bb3c30c59bdbecd13",
       "version_major": 2,
       "version_minor": 0
      },
      "text/plain": [
       "VBox(children=(VBox(children=(Textarea(value='', description='Answer:', layout=Layout(height='50px', width='50…"
      ]
     },
     "metadata": {},
     "output_type": "display_data"
    },
    {
     "data": {
      "application/vnd.jupyter.widget-view+json": {
       "model_id": "d0643da1a96547aea7d94da1a9a0bab3",
       "version_major": 2,
       "version_minor": 0
      },
      "text/plain": [
       "Button(layout=Layout(height='1px', width='99%'), style=ButtonStyle(button_color='black'))"
      ]
     },
     "metadata": {},
     "output_type": "display_data"
    },
    {
     "data": {
      "application/vnd.jupyter.widget-view+json": {
       "model_id": "2a7352258f794a2d8a4fbc5b986cab9e",
       "version_major": 2,
       "version_minor": 0
      },
      "text/plain": [
       "HBox(children=(HTML(value='<b>Question 3/6: What is the second most common marital status of people with incom…"
      ]
     },
     "metadata": {},
     "output_type": "display_data"
    },
    {
     "data": {
      "application/vnd.jupyter.widget-view+json": {
       "model_id": "f0a0dec10f574f3da21bd50a609b5736",
       "version_major": 2,
       "version_minor": 0
      },
      "text/plain": [
       "HBox(children=(HTML(value='<b>Number of Remeasures are Used So Far</b>', placeholder=''), FloatProgress(value=…"
      ]
     },
     "metadata": {},
     "output_type": "display_data"
    },
    {
     "data": {
      "text/html": [
       "\n",
       "<div id=\"altair-viz-0166cbb5985e4612b3d36a9bad4f3542\"></div>\n",
       "<script type=\"text/javascript\">\n",
       "  var VEGA_DEBUG = (typeof VEGA_DEBUG == \"undefined\") ? {} : VEGA_DEBUG;\n",
       "  (function(spec, embedOpt){\n",
       "    let outputDiv = document.currentScript.previousElementSibling;\n",
       "    if (outputDiv.id !== \"altair-viz-0166cbb5985e4612b3d36a9bad4f3542\") {\n",
       "      outputDiv = document.getElementById(\"altair-viz-0166cbb5985e4612b3d36a9bad4f3542\");\n",
       "    }\n",
       "    const paths = {\n",
       "      \"vega\": \"https://cdn.jsdelivr.net/npm//vega@5?noext\",\n",
       "      \"vega-lib\": \"https://cdn.jsdelivr.net/npm//vega-lib?noext\",\n",
       "      \"vega-lite\": \"https://cdn.jsdelivr.net/npm//vega-lite@4.17.0?noext\",\n",
       "      \"vega-embed\": \"https://cdn.jsdelivr.net/npm//vega-embed@6?noext\",\n",
       "    };\n",
       "\n",
       "    function maybeLoadScript(lib, version) {\n",
       "      var key = `${lib.replace(\"-\", \"\")}_version`;\n",
       "      return (VEGA_DEBUG[key] == version) ?\n",
       "        Promise.resolve(paths[lib]) :\n",
       "        new Promise(function(resolve, reject) {\n",
       "          var s = document.createElement('script');\n",
       "          document.getElementsByTagName(\"head\")[0].appendChild(s);\n",
       "          s.async = true;\n",
       "          s.onload = () => {\n",
       "            VEGA_DEBUG[key] = version;\n",
       "            return resolve(paths[lib]);\n",
       "          };\n",
       "          s.onerror = () => reject(`Error loading script: ${paths[lib]}`);\n",
       "          s.src = paths[lib];\n",
       "        });\n",
       "    }\n",
       "\n",
       "    function showError(err) {\n",
       "      outputDiv.innerHTML = `<div class=\"error\" style=\"color:red;\">${err}</div>`;\n",
       "      throw err;\n",
       "    }\n",
       "\n",
       "    function displayChart(vegaEmbed) {\n",
       "      vegaEmbed(outputDiv, spec, embedOpt)\n",
       "        .catch(err => showError(`Javascript Error: ${err.message}<br>This usually means there's a typo in your chart specification. See the javascript console for the full traceback.`));\n",
       "    }\n",
       "\n",
       "    if(typeof define === \"function\" && define.amd) {\n",
       "      requirejs.config({paths});\n",
       "      require([\"vega-embed\"], displayChart, err => showError(`Error loading script: ${err.message}`));\n",
       "    } else {\n",
       "      maybeLoadScript(\"vega\", \"5\")\n",
       "        .then(() => maybeLoadScript(\"vega-lite\", \"4.17.0\"))\n",
       "        .then(() => maybeLoadScript(\"vega-embed\", \"6\"))\n",
       "        .catch(showError)\n",
       "        .then(() => displayChart(vegaEmbed));\n",
       "    }\n",
       "  })({\"config\": {\"view\": {\"continuousWidth\": 400, \"continuousHeight\": 300}, \"axis\": {\"labelFontSize\": 11, \"titleFontSize\": 15}, \"axisBottom\": {\"labelAngle\": 60}}, \"hconcat\": [{\"layer\": [{\"mark\": \"bar\", \"encoding\": {\"color\": {\"value\": \"transparent\"}, \"tooltip\": [{\"aggregate\": \"sum\", \"field\": \"noisy_count\", \"title\": \"noisy count\", \"type\": \"quantitative\"}, {\"aggregate\": \"sum\", \"field\": \"error\", \"title\": \"error\", \"type\": \"quantitative\"}], \"x\": {\"field\": \"income\", \"sort\": null, \"title\": \"Income\", \"type\": \"ordinal\"}}, \"height\": 300, \"selection\": {\"selector041\": {\"type\": \"interval\", \"encodings\": [\"x\"]}}, \"transform\": [{\"filter\": {\"selection\": \"selector042\"}}], \"width\": 450}, {\"mark\": {\"type\": \"bar\", \"color\": \"#4C7FFF\", \"opacity\": 0.7}, \"encoding\": {\"x\": {\"field\": \"income\", \"sort\": null, \"title\": \"Income\", \"type\": \"ordinal\"}, \"y\": {\"aggregate\": \"sum\", \"field\": \"noisy_count\", \"type\": \"quantitative\"}}, \"transform\": [{\"filter\": {\"selection\": \"selector042\"}}]}, {\"mark\": {\"type\": \"tick\", \"color\": \"black\", \"width\": 0}, \"encoding\": {\"x\": {\"field\": \"income\", \"sort\": null, \"title\": \"Income\", \"type\": \"ordinal\"}, \"y\": {\"aggregate\": \"sum\", \"field\": \"plus_error\", \"type\": \"quantitative\"}}, \"transform\": [{\"filter\": {\"selection\": \"selector042\"}}]}, {\"mark\": {\"type\": \"tick\", \"color\": \"black\", \"width\": 0}, \"encoding\": {\"x\": {\"field\": \"income\", \"sort\": null, \"title\": \"Income\", \"type\": \"ordinal\"}, \"y\": {\"aggregate\": \"sum\", \"field\": \"minus_error\", \"type\": \"quantitative\"}}, \"transform\": [{\"filter\": {\"selection\": \"selector042\"}}]}, {\"mark\": {\"type\": \"point\", \"color\": \"black\"}, \"encoding\": {\"x\": {\"field\": \"income\", \"sort\": null, \"title\": \"Income\", \"type\": \"ordinal\"}, \"y\": {\"aggregate\": \"sum\", \"field\": \"noisy_count\", \"title\": \"Noisy Count\", \"type\": \"quantitative\"}}, \"transform\": [{\"filter\": {\"selection\": \"selector042\"}}]}, {\"mark\": {\"type\": \"rule\", \"size\": 2}, \"encoding\": {\"x\": {\"field\": \"income\", \"sort\": null, \"title\": \"Income\", \"type\": \"ordinal\"}, \"y\": {\"aggregate\": \"sum\", \"field\": \"plus_error\", \"title\": \"\", \"type\": \"quantitative\"}, \"y2\": {\"aggregate\": \"sum\", \"field\": \"minus_error\", \"title\": \"\"}}, \"transform\": [{\"filter\": {\"selection\": \"selector042\"}}]}]}, {\"layer\": [{\"mark\": \"bar\", \"encoding\": {\"color\": {\"value\": \"transparent\"}, \"tooltip\": [{\"aggregate\": \"sum\", \"field\": \"noisy_count\", \"title\": \"noisy count\", \"type\": \"quantitative\"}, {\"aggregate\": \"sum\", \"field\": \"error\", \"title\": \"error\", \"type\": \"quantitative\"}], \"x\": {\"field\": \"marital\", \"sort\": null, \"title\": \"Marital\", \"type\": \"ordinal\"}}, \"height\": 300, \"selection\": {\"selector042\": {\"type\": \"interval\", \"encodings\": [\"x\"]}}, \"transform\": [{\"filter\": {\"selection\": \"selector041\"}}], \"width\": 450}, {\"mark\": {\"type\": \"bar\", \"color\": \"#4C7FFF\", \"opacity\": 0.7}, \"encoding\": {\"x\": {\"field\": \"marital\", \"sort\": null, \"title\": \"Marital\", \"type\": \"ordinal\"}, \"y\": {\"aggregate\": \"sum\", \"field\": \"noisy_count\", \"type\": \"quantitative\"}}, \"transform\": [{\"filter\": {\"selection\": \"selector041\"}}]}, {\"mark\": {\"type\": \"tick\", \"color\": \"black\", \"width\": 0}, \"encoding\": {\"x\": {\"field\": \"marital\", \"sort\": null, \"title\": \"Marital\", \"type\": \"ordinal\"}, \"y\": {\"aggregate\": \"sum\", \"field\": \"plus_error\", \"type\": \"quantitative\"}}, \"transform\": [{\"filter\": {\"selection\": \"selector041\"}}]}, {\"mark\": {\"type\": \"tick\", \"color\": \"black\", \"width\": 0}, \"encoding\": {\"x\": {\"field\": \"marital\", \"sort\": null, \"title\": \"Marital\", \"type\": \"ordinal\"}, \"y\": {\"aggregate\": \"sum\", \"field\": \"minus_error\", \"type\": \"quantitative\"}}, \"transform\": [{\"filter\": {\"selection\": \"selector041\"}}]}, {\"mark\": {\"type\": \"point\", \"color\": \"black\"}, \"encoding\": {\"x\": {\"field\": \"marital\", \"sort\": null, \"title\": \"Marital\", \"type\": \"ordinal\"}, \"y\": {\"aggregate\": \"sum\", \"field\": \"noisy_count\", \"title\": \"Noisy Count\", \"type\": \"quantitative\"}}, \"transform\": [{\"filter\": {\"selection\": \"selector041\"}}]}, {\"mark\": {\"type\": \"rule\", \"size\": 2}, \"encoding\": {\"x\": {\"field\": \"marital\", \"sort\": null, \"title\": \"Marital\", \"type\": \"ordinal\"}, \"y\": {\"aggregate\": \"sum\", \"field\": \"plus_error\", \"title\": \"\", \"type\": \"quantitative\"}, \"y2\": {\"aggregate\": \"sum\", \"field\": \"minus_error\", \"title\": \"\"}}, \"transform\": [{\"filter\": {\"selection\": \"selector041\"}}]}]}], \"data\": {\"name\": \"data-724bbb1f54b10d8a7cefd90d7addc8b7\"}, \"$schema\": \"https://vega.github.io/schema/vega-lite/v4.17.0.json\", \"datasets\": {\"data-724bbb1f54b10d8a7cefd90d7addc8b7\": [{\"income\": \"$0k - $49k\", \"marital\": \"Married\", \"noisy_count\": 18781.4, \"true_count\": 18732.0, \"plus_error\": 18870.8, \"minus_error\": 18691.9, \"error\": 89.4}, {\"income\": \"$0k - $49k\", \"marital\": \"Absent\", \"noisy_count\": 22.6, \"true_count\": 91.0, \"plus_error\": 112.1, \"minus_error\": -66.8, \"error\": 89.4}, {\"income\": \"$0k - $49k\", \"marital\": \"Separated\", \"noisy_count\": 589.5, \"true_count\": 622.0, \"plus_error\": 679.0, \"minus_error\": 500.1, \"error\": 89.4}, {\"income\": \"$0k - $49k\", \"marital\": \"Widowed\", \"noisy_count\": 4653.3, \"true_count\": 4450.0, \"plus_error\": 4742.8, \"minus_error\": 4563.9, \"error\": 89.4}, {\"income\": \"$0k - $49k\", \"marital\": \"Divorced\", \"noisy_count\": 6033.9, \"true_count\": 6076.0, \"plus_error\": 6123.3, \"minus_error\": 5944.4, \"error\": 89.4}, {\"income\": \"$0k - $49k\", \"marital\": \"Divorced/Widowed\", \"noisy_count\": 1253.9, \"true_count\": 1315.0, \"plus_error\": 1343.4, \"minus_error\": 1164.5, \"error\": 89.4}, {\"income\": \"$0k - $49k\", \"marital\": \"Never Married\", \"noisy_count\": 7514.4, \"true_count\": 7665.0, \"plus_error\": 7603.8, \"minus_error\": 7424.9, \"error\": 89.4}, {\"income\": \"$50k - $99k\", \"marital\": \"Married\", \"noisy_count\": 6776.5, \"true_count\": 6704.0, \"plus_error\": 6866.0, \"minus_error\": 6687.1, \"error\": 89.4}, {\"income\": \"$50k - $99k\", \"marital\": \"Absent\", \"noisy_count\": -12.1, \"true_count\": 24.0, \"plus_error\": 77.4, \"minus_error\": -101.5, \"error\": 89.4}, {\"income\": \"$50k - $99k\", \"marital\": \"Separated\", \"noisy_count\": 43.8, \"true_count\": 76.0, \"plus_error\": 133.2, \"minus_error\": -45.7, \"error\": 89.4}, {\"income\": \"$50k - $99k\", \"marital\": \"Widowed\", \"noisy_count\": 260.4, \"true_count\": 250.0, \"plus_error\": 349.8, \"minus_error\": 171.0, \"error\": 89.4}, {\"income\": \"$50k - $99k\", \"marital\": \"Divorced\", \"noisy_count\": 591.5, \"true_count\": 650.0, \"plus_error\": 680.9, \"minus_error\": 502.0, \"error\": 89.4}, {\"income\": \"$50k - $99k\", \"marital\": \"Divorced/Widowed\", \"noisy_count\": 155.1, \"true_count\": 75.0, \"plus_error\": 244.5, \"minus_error\": 65.6, \"error\": 89.4}, {\"income\": \"$50k - $99k\", \"marital\": \"Never Married\", \"noisy_count\": 902.5, \"true_count\": 748.0, \"plus_error\": 991.9, \"minus_error\": 813.0, \"error\": 89.4}, {\"income\": \"$100k - $149k\", \"marital\": \"Married\", \"noisy_count\": 976.2, \"true_count\": 937.0, \"plus_error\": 1065.7, \"minus_error\": 886.8, \"error\": 89.4}, {\"income\": \"$100k - $149k\", \"marital\": \"Absent\", \"noisy_count\": 109.4, \"true_count\": 2.0, \"plus_error\": 198.8, \"minus_error\": 20.0, \"error\": 89.4}, {\"income\": \"$100k - $149k\", \"marital\": \"Separated\", \"noisy_count\": -1.1, \"true_count\": 8.0, \"plus_error\": 88.3, \"minus_error\": -90.5, \"error\": 89.4}, {\"income\": \"$100k - $149k\", \"marital\": \"Widowed\", \"noisy_count\": 157.4, \"true_count\": 22.0, \"plus_error\": 246.8, \"minus_error\": 68.0, \"error\": 89.4}, {\"income\": \"$100k - $149k\", \"marital\": \"Divorced\", \"noisy_count\": 150.1, \"true_count\": 78.0, \"plus_error\": 239.5, \"minus_error\": 60.6, \"error\": 89.4}, {\"income\": \"$100k - $149k\", \"marital\": \"Divorced/Widowed\", \"noisy_count\": -21.8, \"true_count\": 7.0, \"plus_error\": 67.6, \"minus_error\": -111.3, \"error\": 89.4}, {\"income\": \"$100k - $149k\", \"marital\": \"Never Married\", \"noisy_count\": 115.2, \"true_count\": 95.0, \"plus_error\": 204.7, \"minus_error\": 25.8, \"error\": 89.4}, {\"income\": \"$150k - $199k\", \"marital\": \"Married\", \"noisy_count\": 518.5, \"true_count\": 524.0, \"plus_error\": 547.0, \"minus_error\": 490.1, \"error\": 28.4}, {\"income\": \"$150k - $199k\", \"marital\": \"Absent\", \"noisy_count\": 30.4, \"true_count\": 0.0, \"plus_error\": 58.8, \"minus_error\": 1.9, \"error\": 28.4}, {\"income\": \"$150k - $199k\", \"marital\": \"Separated\", \"noisy_count\": -33.2, \"true_count\": 4.0, \"plus_error\": -4.8, \"minus_error\": -61.7, \"error\": 28.4}, {\"income\": \"$150k - $199k\", \"marital\": \"Widowed\", \"noisy_count\": -13.6, \"true_count\": 7.0, \"plus_error\": 14.8, \"minus_error\": -42.0, \"error\": 28.4}, {\"income\": \"$150k - $199k\", \"marital\": \"Divorced\", \"noisy_count\": -19.2, \"true_count\": 27.0, \"plus_error\": 9.3, \"minus_error\": -47.6, \"error\": 28.4}, {\"income\": \"$150k - $199k\", \"marital\": \"Divorced/Widowed\", \"noisy_count\": -3.0, \"true_count\": 3.0, \"plus_error\": 25.4, \"minus_error\": -31.5, \"error\": 28.4}, {\"income\": \"$150k - $199k\", \"marital\": \"Never Married\", \"noisy_count\": 23.9, \"true_count\": 44.0, \"plus_error\": 52.4, \"minus_error\": -4.5, \"error\": 28.4}, {\"income\": \"$200k - $249k\", \"marital\": \"Married\", \"noisy_count\": 103.5, \"true_count\": 111.0, \"plus_error\": 132.7, \"minus_error\": 74.3, \"error\": 29.2}, {\"income\": \"$200k - $249k\", \"marital\": \"Absent\", \"noisy_count\": 49.4, \"true_count\": 0.0, \"plus_error\": 78.7, \"minus_error\": 20.2, \"error\": 29.2}, {\"income\": \"$200k - $249k\", \"marital\": \"Separated\", \"noisy_count\": -26.8, \"true_count\": 1.0, \"plus_error\": 2.4, \"minus_error\": -56.0, \"error\": 29.2}, {\"income\": \"$200k - $249k\", \"marital\": \"Widowed\", \"noisy_count\": -8.4, \"true_count\": 4.0, \"plus_error\": 20.8, \"minus_error\": -37.6, \"error\": 29.2}, {\"income\": \"$200k - $249k\", \"marital\": \"Divorced\", \"noisy_count\": 33.2, \"true_count\": 13.0, \"plus_error\": 62.4, \"minus_error\": 3.9, \"error\": 29.2}, {\"income\": \"$200k - $249k\", \"marital\": \"Divorced/Widowed\", \"noisy_count\": 58.8, \"true_count\": 3.0, \"plus_error\": 88.1, \"minus_error\": 29.6, \"error\": 29.2}, {\"income\": \"$200k - $249k\", \"marital\": \"Never Married\", \"noisy_count\": -29.9, \"true_count\": 5.0, \"plus_error\": -0.7, \"minus_error\": -59.1, \"error\": 29.2}, {\"income\": \"$250k - $299k\", \"marital\": \"Married\", \"noisy_count\": 113.8, \"true_count\": 41.0, \"plus_error\": 203.3, \"minus_error\": 24.4, \"error\": 89.4}, {\"income\": \"$250k - $299k\", \"marital\": \"Absent\", \"noisy_count\": 75.7, \"true_count\": 0.0, \"plus_error\": 165.1, \"minus_error\": -13.8, \"error\": 89.4}, {\"income\": \"$250k - $299k\", \"marital\": \"Separated\", \"noisy_count\": -108.6, \"true_count\": 0.0, \"plus_error\": -19.2, \"minus_error\": -198.0, \"error\": 89.4}, {\"income\": \"$250k - $299k\", \"marital\": \"Widowed\", \"noisy_count\": -47.1, \"true_count\": 0.0, \"plus_error\": 42.4, \"minus_error\": -136.5, \"error\": 89.4}, {\"income\": \"$250k - $299k\", \"marital\": \"Divorced\", \"noisy_count\": 36.4, \"true_count\": 5.0, \"plus_error\": 125.8, \"minus_error\": -53.1, \"error\": 89.4}, {\"income\": \"$250k - $299k\", \"marital\": \"Divorced/Widowed\", \"noisy_count\": 6.6, \"true_count\": 0.0, \"plus_error\": 96.1, \"minus_error\": -82.8, \"error\": 89.4}, {\"income\": \"$250k - $299k\", \"marital\": \"Never Married\", \"noisy_count\": 57.3, \"true_count\": 0.0, \"plus_error\": 146.8, \"minus_error\": -32.1, \"error\": 89.4}, {\"income\": \"$300k - $349k\", \"marital\": \"Married\", \"noisy_count\": -55.9, \"true_count\": 11.0, \"plus_error\": 33.6, \"minus_error\": -145.3, \"error\": 89.4}, {\"income\": \"$300k - $349k\", \"marital\": \"Absent\", \"noisy_count\": 90.2, \"true_count\": 0.0, \"plus_error\": 179.6, \"minus_error\": 0.7, \"error\": 89.4}, {\"income\": \"$300k - $349k\", \"marital\": \"Separated\", \"noisy_count\": -157.3, \"true_count\": 0.0, \"plus_error\": -67.8, \"minus_error\": -246.7, \"error\": 89.4}, {\"income\": \"$300k - $349k\", \"marital\": \"Widowed\", \"noisy_count\": 4.7, \"true_count\": 0.0, \"plus_error\": 94.1, \"minus_error\": -84.8, \"error\": 89.4}, {\"income\": \"$300k - $349k\", \"marital\": \"Divorced\", \"noisy_count\": 72.4, \"true_count\": 1.0, \"plus_error\": 161.8, \"minus_error\": -17.1, \"error\": 89.4}, {\"income\": \"$300k - $349k\", \"marital\": \"Divorced/Widowed\", \"noisy_count\": 50.5, \"true_count\": 0.0, \"plus_error\": 139.9, \"minus_error\": -39.0, \"error\": 89.4}, {\"income\": \"$300k - $349k\", \"marital\": \"Never Married\", \"noisy_count\": -161.8, \"true_count\": 0.0, \"plus_error\": -72.3, \"minus_error\": -251.2, \"error\": 89.4}, {\"income\": \"$350k - $399k\", \"marital\": \"Married\", \"noisy_count\": 72.1, \"true_count\": 2.0, \"plus_error\": 161.6, \"minus_error\": -17.3, \"error\": 89.4}, {\"income\": \"$350k - $399k\", \"marital\": \"Absent\", \"noisy_count\": -129.0, \"true_count\": 0.0, \"plus_error\": -39.5, \"minus_error\": -218.4, \"error\": 89.4}, {\"income\": \"$350k - $399k\", \"marital\": \"Separated\", \"noisy_count\": -103.1, \"true_count\": 0.0, \"plus_error\": -13.6, \"minus_error\": -192.5, \"error\": 89.4}, {\"income\": \"$350k - $399k\", \"marital\": \"Widowed\", \"noisy_count\": 14.2, \"true_count\": 0.0, \"plus_error\": 103.7, \"minus_error\": -75.2, \"error\": 89.4}, {\"income\": \"$350k - $399k\", \"marital\": \"Divorced\", \"noisy_count\": -18.0, \"true_count\": 0.0, \"plus_error\": 71.4, \"minus_error\": -107.5, \"error\": 89.4}, {\"income\": \"$350k - $399k\", \"marital\": \"Divorced/Widowed\", \"noisy_count\": -82.9, \"true_count\": 0.0, \"plus_error\": 6.6, \"minus_error\": -172.3, \"error\": 89.4}, {\"income\": \"$350k - $399k\", \"marital\": \"Never Married\", \"noisy_count\": 4.0, \"true_count\": 0.0, \"plus_error\": 93.4, \"minus_error\": -85.4, \"error\": 89.4}, {\"income\": \"$400k - $449k\", \"marital\": \"Married\", \"noisy_count\": -148.7, \"true_count\": 2.0, \"plus_error\": -59.2, \"minus_error\": -238.1, \"error\": 89.4}, {\"income\": \"$400k - $449k\", \"marital\": \"Absent\", \"noisy_count\": -22.2, \"true_count\": 0.0, \"plus_error\": 67.2, \"minus_error\": -111.7, \"error\": 89.4}, {\"income\": \"$400k - $449k\", \"marital\": \"Separated\", \"noisy_count\": -70.8, \"true_count\": 0.0, \"plus_error\": 18.7, \"minus_error\": -160.2, \"error\": 89.4}, {\"income\": \"$400k - $449k\", \"marital\": \"Widowed\", \"noisy_count\": 4.3, \"true_count\": 0.0, \"plus_error\": 93.8, \"minus_error\": -85.1, \"error\": 89.4}, {\"income\": \"$400k - $449k\", \"marital\": \"Divorced\", \"noisy_count\": 24.8, \"true_count\": 0.0, \"plus_error\": 114.3, \"minus_error\": -64.6, \"error\": 89.4}, {\"income\": \"$400k - $449k\", \"marital\": \"Divorced/Widowed\", \"noisy_count\": 58.5, \"true_count\": 0.0, \"plus_error\": 147.9, \"minus_error\": -31.0, \"error\": 89.4}, {\"income\": \"$400k - $449k\", \"marital\": \"Never Married\", \"noisy_count\": -92.0, \"true_count\": 0.0, \"plus_error\": -2.6, \"minus_error\": -181.5, \"error\": 89.4}, {\"income\": \"$450k - $499k\", \"marital\": \"Married\", \"noisy_count\": 64.7, \"true_count\": 1.0, \"plus_error\": 154.1, \"minus_error\": -24.7, \"error\": 89.4}, {\"income\": \"$450k - $499k\", \"marital\": \"Absent\", \"noisy_count\": -37.9, \"true_count\": 0.0, \"plus_error\": 51.6, \"minus_error\": -127.3, \"error\": 89.4}, {\"income\": \"$450k - $499k\", \"marital\": \"Separated\", \"noisy_count\": 313.1, \"true_count\": 0.0, \"plus_error\": 402.5, \"minus_error\": 223.6, \"error\": 89.4}, {\"income\": \"$450k - $499k\", \"marital\": \"Widowed\", \"noisy_count\": 29.5, \"true_count\": 0.0, \"plus_error\": 119.0, \"minus_error\": -59.9, \"error\": 89.4}, {\"income\": \"$450k - $499k\", \"marital\": \"Divorced\", \"noisy_count\": 39.1, \"true_count\": 0.0, \"plus_error\": 128.6, \"minus_error\": -50.3, \"error\": 89.4}, {\"income\": \"$450k - $499k\", \"marital\": \"Divorced/Widowed\", \"noisy_count\": 83.0, \"true_count\": 0.0, \"plus_error\": 172.4, \"minus_error\": -6.5, \"error\": 89.4}, {\"income\": \"$450k - $499k\", \"marital\": \"Never Married\", \"noisy_count\": -73.9, \"true_count\": 0.0, \"plus_error\": 15.5, \"minus_error\": -163.4, \"error\": 89.4}]}}, {\"mode\": \"vega-lite\"});\n",
       "</script>"
      ],
      "text/plain": [
       "alt.HConcatChart(...)"
      ]
     },
     "metadata": {},
     "output_type": "display_data"
    },
    {
     "data": {
      "application/vnd.jupyter.widget-view+json": {
       "model_id": "89fc2301eab64611a00c70efecace14e",
       "version_major": 2,
       "version_minor": 0
      },
      "text/plain": [
       "VBox(children=(VBox(children=(Textarea(value='', description='Answer:', layout=Layout(height='50px', width='50…"
      ]
     },
     "metadata": {},
     "output_type": "display_data"
    },
    {
     "data": {
      "application/vnd.jupyter.widget-view+json": {
       "model_id": "d0643da1a96547aea7d94da1a9a0bab3",
       "version_major": 2,
       "version_minor": 0
      },
      "text/plain": [
       "Button(layout=Layout(height='1px', width='99%'), style=ButtonStyle(button_color='black'))"
      ]
     },
     "metadata": {},
     "output_type": "display_data"
    },
    {
     "data": {
      "application/vnd.jupyter.widget-view+json": {
       "model_id": "e12ccccce53e4297afbdb76bb01ffdd5",
       "version_major": 2,
       "version_minor": 0
      },
      "text/plain": [
       "HBox(children=(HTML(value=\"<b>Question 4/6: Choose the top 3 age groups that have marital status: 'Never Marri…"
      ]
     },
     "metadata": {},
     "output_type": "display_data"
    },
    {
     "data": {
      "application/vnd.jupyter.widget-view+json": {
       "model_id": "accf754907e74c20a80ed112a39fe834",
       "version_major": 2,
       "version_minor": 0
      },
      "text/plain": [
       "HBox(children=(HTML(value='<b>Number of Remeasures are Used So Far</b>', placeholder=''), FloatProgress(value=…"
      ]
     },
     "metadata": {},
     "output_type": "display_data"
    },
    {
     "data": {
      "text/html": [
       "\n",
       "<div id=\"altair-viz-faeada8b2b77405e8d5bfb2886b76346\"></div>\n",
       "<script type=\"text/javascript\">\n",
       "  var VEGA_DEBUG = (typeof VEGA_DEBUG == \"undefined\") ? {} : VEGA_DEBUG;\n",
       "  (function(spec, embedOpt){\n",
       "    let outputDiv = document.currentScript.previousElementSibling;\n",
       "    if (outputDiv.id !== \"altair-viz-faeada8b2b77405e8d5bfb2886b76346\") {\n",
       "      outputDiv = document.getElementById(\"altair-viz-faeada8b2b77405e8d5bfb2886b76346\");\n",
       "    }\n",
       "    const paths = {\n",
       "      \"vega\": \"https://cdn.jsdelivr.net/npm//vega@5?noext\",\n",
       "      \"vega-lib\": \"https://cdn.jsdelivr.net/npm//vega-lib?noext\",\n",
       "      \"vega-lite\": \"https://cdn.jsdelivr.net/npm//vega-lite@4.17.0?noext\",\n",
       "      \"vega-embed\": \"https://cdn.jsdelivr.net/npm//vega-embed@6?noext\",\n",
       "    };\n",
       "\n",
       "    function maybeLoadScript(lib, version) {\n",
       "      var key = `${lib.replace(\"-\", \"\")}_version`;\n",
       "      return (VEGA_DEBUG[key] == version) ?\n",
       "        Promise.resolve(paths[lib]) :\n",
       "        new Promise(function(resolve, reject) {\n",
       "          var s = document.createElement('script');\n",
       "          document.getElementsByTagName(\"head\")[0].appendChild(s);\n",
       "          s.async = true;\n",
       "          s.onload = () => {\n",
       "            VEGA_DEBUG[key] = version;\n",
       "            return resolve(paths[lib]);\n",
       "          };\n",
       "          s.onerror = () => reject(`Error loading script: ${paths[lib]}`);\n",
       "          s.src = paths[lib];\n",
       "        });\n",
       "    }\n",
       "\n",
       "    function showError(err) {\n",
       "      outputDiv.innerHTML = `<div class=\"error\" style=\"color:red;\">${err}</div>`;\n",
       "      throw err;\n",
       "    }\n",
       "\n",
       "    function displayChart(vegaEmbed) {\n",
       "      vegaEmbed(outputDiv, spec, embedOpt)\n",
       "        .catch(err => showError(`Javascript Error: ${err.message}<br>This usually means there's a typo in your chart specification. See the javascript console for the full traceback.`));\n",
       "    }\n",
       "\n",
       "    if(typeof define === \"function\" && define.amd) {\n",
       "      requirejs.config({paths});\n",
       "      require([\"vega-embed\"], displayChart, err => showError(`Error loading script: ${err.message}`));\n",
       "    } else {\n",
       "      maybeLoadScript(\"vega\", \"5\")\n",
       "        .then(() => maybeLoadScript(\"vega-lite\", \"4.17.0\"))\n",
       "        .then(() => maybeLoadScript(\"vega-embed\", \"6\"))\n",
       "        .catch(showError)\n",
       "        .then(() => displayChart(vegaEmbed));\n",
       "    }\n",
       "  })({\"config\": {\"view\": {\"continuousWidth\": 400, \"continuousHeight\": 300}, \"axis\": {\"labelFontSize\": 11, \"titleFontSize\": 15}, \"axisBottom\": {\"labelAngle\": 60}}, \"hconcat\": [{\"layer\": [{\"mark\": \"bar\", \"encoding\": {\"color\": {\"value\": \"transparent\"}, \"tooltip\": [{\"aggregate\": \"sum\", \"field\": \"noisy_count\", \"title\": \"noisy count\", \"type\": \"quantitative\"}, {\"aggregate\": \"sum\", \"field\": \"error\", \"title\": \"error\", \"type\": \"quantitative\"}], \"x\": {\"field\": \"age\", \"sort\": null, \"title\": \"Age\", \"type\": \"ordinal\"}}, \"height\": 300, \"selection\": {\"selector043\": {\"type\": \"interval\", \"encodings\": [\"x\"]}}, \"transform\": [{\"filter\": {\"selection\": \"selector044\"}}], \"width\": 450}, {\"mark\": {\"type\": \"bar\", \"color\": \"#4C7FFF\", \"opacity\": 0.7}, \"encoding\": {\"x\": {\"field\": \"age\", \"sort\": null, \"title\": \"Age\", \"type\": \"ordinal\"}, \"y\": {\"aggregate\": \"sum\", \"field\": \"noisy_count\", \"type\": \"quantitative\"}}, \"transform\": [{\"filter\": {\"selection\": \"selector044\"}}]}, {\"mark\": {\"type\": \"tick\", \"color\": \"black\", \"width\": 0}, \"encoding\": {\"x\": {\"field\": \"age\", \"sort\": null, \"title\": \"Age\", \"type\": \"ordinal\"}, \"y\": {\"aggregate\": \"sum\", \"field\": \"plus_error\", \"type\": \"quantitative\"}}, \"transform\": [{\"filter\": {\"selection\": \"selector044\"}}]}, {\"mark\": {\"type\": \"tick\", \"color\": \"black\", \"width\": 0}, \"encoding\": {\"x\": {\"field\": \"age\", \"sort\": null, \"title\": \"Age\", \"type\": \"ordinal\"}, \"y\": {\"aggregate\": \"sum\", \"field\": \"minus_error\", \"type\": \"quantitative\"}}, \"transform\": [{\"filter\": {\"selection\": \"selector044\"}}]}, {\"mark\": {\"type\": \"point\", \"color\": \"black\"}, \"encoding\": {\"x\": {\"field\": \"age\", \"sort\": null, \"title\": \"Age\", \"type\": \"ordinal\"}, \"y\": {\"aggregate\": \"sum\", \"field\": \"noisy_count\", \"title\": \"Noisy Count\", \"type\": \"quantitative\"}}, \"transform\": [{\"filter\": {\"selection\": \"selector044\"}}]}, {\"mark\": {\"type\": \"rule\", \"size\": 2}, \"encoding\": {\"x\": {\"field\": \"age\", \"sort\": null, \"title\": \"Age\", \"type\": \"ordinal\"}, \"y\": {\"aggregate\": \"sum\", \"field\": \"plus_error\", \"title\": \"\", \"type\": \"quantitative\"}, \"y2\": {\"aggregate\": \"sum\", \"field\": \"minus_error\", \"title\": \"\"}}, \"transform\": [{\"filter\": {\"selection\": \"selector044\"}}]}]}, {\"layer\": [{\"mark\": \"bar\", \"encoding\": {\"color\": {\"value\": \"transparent\"}, \"tooltip\": [{\"aggregate\": \"sum\", \"field\": \"noisy_count\", \"title\": \"noisy count\", \"type\": \"quantitative\"}, {\"aggregate\": \"sum\", \"field\": \"error\", \"title\": \"error\", \"type\": \"quantitative\"}], \"x\": {\"field\": \"marital\", \"sort\": null, \"title\": \"Marital\", \"type\": \"ordinal\"}}, \"height\": 300, \"selection\": {\"selector044\": {\"type\": \"interval\", \"encodings\": [\"x\"]}}, \"transform\": [{\"filter\": {\"selection\": \"selector043\"}}], \"width\": 450}, {\"mark\": {\"type\": \"bar\", \"color\": \"#4C7FFF\", \"opacity\": 0.7}, \"encoding\": {\"x\": {\"field\": \"marital\", \"sort\": null, \"title\": \"Marital\", \"type\": \"ordinal\"}, \"y\": {\"aggregate\": \"sum\", \"field\": \"noisy_count\", \"type\": \"quantitative\"}}, \"transform\": [{\"filter\": {\"selection\": \"selector043\"}}]}, {\"mark\": {\"type\": \"tick\", \"color\": \"black\", \"width\": 0}, \"encoding\": {\"x\": {\"field\": \"marital\", \"sort\": null, \"title\": \"Marital\", \"type\": \"ordinal\"}, \"y\": {\"aggregate\": \"sum\", \"field\": \"plus_error\", \"type\": \"quantitative\"}}, \"transform\": [{\"filter\": {\"selection\": \"selector043\"}}]}, {\"mark\": {\"type\": \"tick\", \"color\": \"black\", \"width\": 0}, \"encoding\": {\"x\": {\"field\": \"marital\", \"sort\": null, \"title\": \"Marital\", \"type\": \"ordinal\"}, \"y\": {\"aggregate\": \"sum\", \"field\": \"minus_error\", \"type\": \"quantitative\"}}, \"transform\": [{\"filter\": {\"selection\": \"selector043\"}}]}, {\"mark\": {\"type\": \"point\", \"color\": \"black\"}, \"encoding\": {\"x\": {\"field\": \"marital\", \"sort\": null, \"title\": \"Marital\", \"type\": \"ordinal\"}, \"y\": {\"aggregate\": \"sum\", \"field\": \"noisy_count\", \"title\": \"Noisy Count\", \"type\": \"quantitative\"}}, \"transform\": [{\"filter\": {\"selection\": \"selector043\"}}]}, {\"mark\": {\"type\": \"rule\", \"size\": 2}, \"encoding\": {\"x\": {\"field\": \"marital\", \"sort\": null, \"title\": \"Marital\", \"type\": \"ordinal\"}, \"y\": {\"aggregate\": \"sum\", \"field\": \"plus_error\", \"title\": \"\", \"type\": \"quantitative\"}, \"y2\": {\"aggregate\": \"sum\", \"field\": \"minus_error\", \"title\": \"\"}}, \"transform\": [{\"filter\": {\"selection\": \"selector043\"}}]}]}], \"data\": {\"name\": \"data-923936def348aa8163173a6f8390beea\"}, \"$schema\": \"https://vega.github.io/schema/vega-lite/v4.17.0.json\", \"datasets\": {\"data-923936def348aa8163173a6f8390beea\": [{\"age\": \"15-24\", \"marital\": \"Married\", \"noisy_count\": 344.4, \"true_count\": 295.0, \"plus_error\": 433.8, \"minus_error\": 254.9, \"error\": 89.4}, {\"age\": \"15-24\", \"marital\": \"Absent\", \"noisy_count\": -55.4, \"true_count\": 13.0, \"plus_error\": 34.1, \"minus_error\": -144.8, \"error\": 89.4}, {\"age\": \"15-24\", \"marital\": \"Separated\", \"noisy_count\": -14.5, \"true_count\": 18.0, \"plus_error\": 75.0, \"minus_error\": -103.9, \"error\": 89.4}, {\"age\": \"15-24\", \"marital\": \"Widowed\", \"noisy_count\": 205.3, \"true_count\": 2.0, \"plus_error\": 294.8, \"minus_error\": 115.9, \"error\": 89.4}, {\"age\": \"15-24\", \"marital\": \"Divorced\", \"noisy_count\": -20.1, \"true_count\": 22.0, \"plus_error\": 69.3, \"minus_error\": -109.6, \"error\": 89.4}, {\"age\": \"15-24\", \"marital\": \"Divorced/Widowed\", \"noisy_count\": -45.1, \"true_count\": 16.0, \"plus_error\": 44.4, \"minus_error\": -134.5, \"error\": 89.4}, {\"age\": \"15-24\", \"marital\": \"Never Married\", \"noisy_count\": 1039.4, \"true_count\": 1190.0, \"plus_error\": 1128.8, \"minus_error\": 949.9, \"error\": 89.4}, {\"age\": \"25-34\", \"marital\": \"Married\", \"noisy_count\": 2836.5, \"true_count\": 2764.0, \"plus_error\": 2926.0, \"minus_error\": 2747.1, \"error\": 89.4}, {\"age\": \"25-34\", \"marital\": \"Absent\", \"noisy_count\": -3.1, \"true_count\": 33.0, \"plus_error\": 86.4, \"minus_error\": -92.5, \"error\": 89.4}, {\"age\": \"25-34\", \"marital\": \"Separated\", \"noisy_count\": 44.8, \"true_count\": 77.0, \"plus_error\": 134.2, \"minus_error\": -44.7, \"error\": 89.4}, {\"age\": \"25-34\", \"marital\": \"Widowed\", \"noisy_count\": 21.4, \"true_count\": 11.0, \"plus_error\": 110.8, \"minus_error\": -68.0, \"error\": 89.4}, {\"age\": \"25-34\", \"marital\": \"Divorced\", \"noisy_count\": 313.5, \"true_count\": 372.0, \"plus_error\": 402.9, \"minus_error\": 224.0, \"error\": 89.4}, {\"age\": \"25-34\", \"marital\": \"Divorced/Widowed\", \"noisy_count\": 269.1, \"true_count\": 189.0, \"plus_error\": 358.5, \"minus_error\": 179.6, \"error\": 89.4}, {\"age\": \"25-34\", \"marital\": \"Never Married\", \"noisy_count\": 2845.5, \"true_count\": 2691.0, \"plus_error\": 2934.9, \"minus_error\": 2756.0, \"error\": 89.4}, {\"age\": \"35-44\", \"marital\": \"Married\", \"noisy_count\": 4243.4, \"true_count\": 4273.0, \"plus_error\": 4272.1, \"minus_error\": 4214.8, \"error\": 28.6}, {\"age\": \"35-44\", \"marital\": \"Absent\", \"noisy_count\": 0.4, \"true_count\": 31.0, \"plus_error\": 29.0, \"minus_error\": -28.2, \"error\": 28.6}, {\"age\": \"35-44\", \"marital\": \"Separated\", \"noisy_count\": 107.5, \"true_count\": 96.0, \"plus_error\": 136.1, \"minus_error\": 78.8, \"error\": 28.6}, {\"age\": \"35-44\", \"marital\": \"Widowed\", \"noisy_count\": 41.2, \"true_count\": 57.0, \"plus_error\": 69.8, \"minus_error\": 12.5, \"error\": 28.6}, {\"age\": \"35-44\", \"marital\": \"Divorced\", \"noisy_count\": 936.7, \"true_count\": 905.0, \"plus_error\": 965.4, \"minus_error\": 908.1, \"error\": 28.6}, {\"age\": \"35-44\", \"marital\": \"Divorced/Widowed\", \"noisy_count\": 276.8, \"true_count\": 286.0, \"plus_error\": 305.4, \"minus_error\": 248.2, \"error\": 28.6}, {\"age\": \"35-44\", \"marital\": \"Never Married\", \"noisy_count\": 1712.8, \"true_count\": 1684.0, \"plus_error\": 1741.4, \"minus_error\": 1684.2, \"error\": 28.6}, {\"age\": \"45-54\", \"marital\": \"Married\", \"noisy_count\": 5368.8, \"true_count\": 5589.0, \"plus_error\": 5458.3, \"minus_error\": 5279.4, \"error\": 89.4}, {\"age\": \"45-54\", \"marital\": \"Absent\", \"noisy_count\": -77.0, \"true_count\": 27.0, \"plus_error\": 12.5, \"minus_error\": -166.4, \"error\": 89.4}, {\"age\": \"45-54\", \"marital\": \"Separated\", \"noisy_count\": 89.8, \"true_count\": 156.0, \"plus_error\": 179.3, \"minus_error\": 0.4, \"error\": 89.4}, {\"age\": \"45-54\", \"marital\": \"Widowed\", \"noisy_count\": 136.1, \"true_count\": 143.0, \"plus_error\": 225.5, \"minus_error\": 46.6, \"error\": 89.4}, {\"age\": \"45-54\", \"marital\": \"Divorced\", \"noisy_count\": 1868.8, \"true_count\": 1715.0, \"plus_error\": 1958.2, \"minus_error\": 1779.4, \"error\": 89.4}, {\"age\": \"45-54\", \"marital\": \"Divorced/Widowed\", \"noisy_count\": 496.2, \"true_count\": 379.0, \"plus_error\": 585.7, \"minus_error\": 406.8, \"error\": 89.4}, {\"age\": \"45-54\", \"marital\": \"Never Married\", \"noisy_count\": 1293.7, \"true_count\": 1324.0, \"plus_error\": 1383.1, \"minus_error\": 1204.3, \"error\": 89.4}, {\"age\": \"55-64\", \"marital\": \"Married\", \"noisy_count\": 4614.1, \"true_count\": 4513.0, \"plus_error\": 4703.5, \"minus_error\": 4524.6, \"error\": 89.4}, {\"age\": \"55-64\", \"marital\": \"Absent\", \"noisy_count\": -34.7, \"true_count\": 10.0, \"plus_error\": 54.8, \"minus_error\": -124.1, \"error\": 89.4}, {\"age\": \"55-64\", \"marital\": \"Separated\", \"noisy_count\": 44.7, \"true_count\": 106.0, \"plus_error\": 134.1, \"minus_error\": -44.8, \"error\": 89.4}, {\"age\": \"55-64\", \"marital\": \"Widowed\", \"noisy_count\": 230.1, \"true_count\": 210.0, \"plus_error\": 319.6, \"minus_error\": 140.7, \"error\": 89.4}, {\"age\": \"55-64\", \"marital\": \"Divorced\", \"noisy_count\": 1610.4, \"true_count\": 1509.0, \"plus_error\": 1699.8, \"minus_error\": 1521.0, \"error\": 89.4}, {\"age\": \"55-64\", \"marital\": \"Divorced/Widowed\", \"noisy_count\": 428.3, \"true_count\": 241.0, \"plus_error\": 517.7, \"minus_error\": 338.8, \"error\": 89.4}, {\"age\": \"55-64\", \"marital\": \"Never Married\", \"noisy_count\": 825.7, \"true_count\": 730.0, \"plus_error\": 915.1, \"minus_error\": 736.2, \"error\": 89.4}, {\"age\": \"65-74\", \"marital\": \"Married\", \"noisy_count\": 3738.8, \"true_count\": 3666.0, \"plus_error\": 3828.3, \"minus_error\": 3649.4, \"error\": 89.4}, {\"age\": \"65-74\", \"marital\": \"Absent\", \"noisy_count\": 76.7, \"true_count\": 1.0, \"plus_error\": 166.1, \"minus_error\": -12.8, \"error\": 89.4}, {\"age\": \"65-74\", \"marital\": \"Separated\", \"noisy_count\": -24.6, \"true_count\": 84.0, \"plus_error\": 64.8, \"minus_error\": -114.0, \"error\": 89.4}, {\"age\": \"65-74\", \"marital\": \"Widowed\", \"noisy_count\": 358.9, \"true_count\": 406.0, \"plus_error\": 448.4, \"minus_error\": 269.5, \"error\": 89.4}, {\"age\": \"65-74\", \"marital\": \"Divorced\", \"noisy_count\": 1192.4, \"true_count\": 1161.0, \"plus_error\": 1281.8, \"minus_error\": 1102.9, \"error\": 89.4}, {\"age\": \"65-74\", \"marital\": \"Divorced/Widowed\", \"noisy_count\": 156.6, \"true_count\": 150.0, \"plus_error\": 246.1, \"minus_error\": 67.2, \"error\": 89.4}, {\"age\": \"65-74\", \"marital\": \"Never Married\", \"noisy_count\": 456.3, \"true_count\": 399.0, \"plus_error\": 545.8, \"minus_error\": 366.9, \"error\": 89.4}, {\"age\": \"75-84\", \"marital\": \"Married\", \"noisy_count\": 2293.1, \"true_count\": 2360.0, \"plus_error\": 2382.6, \"minus_error\": 2203.7, \"error\": 89.4}, {\"age\": \"75-84\", \"marital\": \"Absent\", \"noisy_count\": 92.2, \"true_count\": 2.0, \"plus_error\": 181.6, \"minus_error\": 2.7, \"error\": 89.4}, {\"age\": \"75-84\", \"marital\": \"Separated\", \"noisy_count\": -101.3, \"true_count\": 56.0, \"plus_error\": -11.8, \"minus_error\": -190.7, \"error\": 89.4}, {\"age\": \"75-84\", \"marital\": \"Widowed\", \"noisy_count\": 642.7, \"true_count\": 638.0, \"plus_error\": 732.1, \"minus_error\": 553.2, \"error\": 89.4}, {\"age\": \"75-84\", \"marital\": \"Divorced\", \"noisy_count\": 663.4, \"true_count\": 592.0, \"plus_error\": 752.8, \"minus_error\": 573.9, \"error\": 89.4}, {\"age\": \"75-84\", \"marital\": \"Divorced/Widowed\", \"noisy_count\": 122.5, \"true_count\": 72.0, \"plus_error\": 211.9, \"minus_error\": 33.0, \"error\": 89.4}, {\"age\": \"75-84\", \"marital\": \"Never Married\", \"noisy_count\": 27.2, \"true_count\": 189.0, \"plus_error\": 116.7, \"minus_error\": -62.2, \"error\": 89.4}, {\"age\": \"85-94\", \"marital\": \"Married\", \"noisy_count\": 2222.1, \"true_count\": 2152.0, \"plus_error\": 2311.6, \"minus_error\": 2132.7, \"error\": 89.4}, {\"age\": \"85-94\", \"marital\": \"Absent\", \"noisy_count\": -129.0, \"true_count\": 0.0, \"plus_error\": -39.5, \"minus_error\": -218.4, \"error\": 89.4}, {\"age\": \"85-94\", \"marital\": \"Separated\", \"noisy_count\": -51.1, \"true_count\": 52.0, \"plus_error\": 38.4, \"minus_error\": -140.5, \"error\": 89.4}, {\"age\": \"85-94\", \"marital\": \"Widowed\", \"noisy_count\": 1225.2, \"true_count\": 1211.0, \"plus_error\": 1314.7, \"minus_error\": 1135.8, \"error\": 89.4}, {\"age\": \"85-94\", \"marital\": \"Divorced\", \"noisy_count\": 372.0, \"true_count\": 390.0, \"plus_error\": 461.4, \"minus_error\": 282.5, \"error\": 89.4}, {\"age\": \"85-94\", \"marital\": \"Divorced/Widowed\", \"noisy_count\": -32.9, \"true_count\": 50.0, \"plus_error\": 56.6, \"minus_error\": -122.3, \"error\": 89.4}, {\"age\": \"85-94\", \"marital\": \"Never Married\", \"noisy_count\": 186.0, \"true_count\": 182.0, \"plus_error\": 275.4, \"minus_error\": 96.6, \"error\": 89.4}, {\"age\": \"95-104\", \"marital\": \"Married\", \"noisy_count\": 1049.5, \"true_count\": 1055.0, \"plus_error\": 1078.1, \"minus_error\": 1020.9, \"error\": 28.6}, {\"age\": \"95-104\", \"marital\": \"Absent\", \"noisy_count\": 49.6, \"true_count\": 0.0, \"plus_error\": 78.2, \"minus_error\": 21.0, \"error\": 28.6}, {\"age\": \"95-104\", \"marital\": \"Separated\", \"noisy_count\": 15.2, \"true_count\": 41.0, \"plus_error\": 43.8, \"minus_error\": -13.5, \"error\": 28.6}, {\"age\": \"95-104\", \"marital\": \"Widowed\", \"noisy_count\": 1162.7, \"true_count\": 1174.0, \"plus_error\": 1191.3, \"minus_error\": 1134.1, \"error\": 28.6}, {\"age\": \"95-104\", \"marital\": \"Divorced\", \"noisy_count\": 160.2, \"true_count\": 140.0, \"plus_error\": 188.9, \"minus_error\": 131.6, \"error\": 28.6}, {\"age\": \"95-104\", \"marital\": \"Divorced/Widowed\", \"noisy_count\": 69.1, \"true_count\": 16.0, \"plus_error\": 97.7, \"minus_error\": 40.5, \"error\": 28.6}, {\"age\": \"95-104\", \"marital\": \"Never Married\", \"noisy_count\": 83.8, \"true_count\": 119.0, \"plus_error\": 112.4, \"minus_error\": 55.2, \"error\": 28.6}, {\"age\": \"105-114\", \"marital\": \"Married\", \"noisy_count\": 461.7, \"true_count\": 398.0, \"plus_error\": 551.1, \"minus_error\": 372.3, \"error\": 89.4}, {\"age\": \"105-114\", \"marital\": \"Absent\", \"noisy_count\": -37.9, \"true_count\": 0.0, \"plus_error\": 51.6, \"minus_error\": -127.3, \"error\": 89.4}, {\"age\": \"105-114\", \"marital\": \"Separated\", \"noisy_count\": 338.1, \"true_count\": 25.0, \"plus_error\": 427.5, \"minus_error\": 248.6, \"error\": 89.4}, {\"age\": \"105-114\", \"marital\": \"Widowed\", \"noisy_count\": 910.5, \"true_count\": 881.0, \"plus_error\": 1000.0, \"minus_error\": 821.1, \"error\": 89.4}, {\"age\": \"105-114\", \"marital\": \"Divorced\", \"noisy_count\": 83.1, \"true_count\": 44.0, \"plus_error\": 172.6, \"minus_error\": -6.3, \"error\": 89.4}, {\"age\": \"105-114\", \"marital\": \"Divorced/Widowed\", \"noisy_count\": 87.0, \"true_count\": 4.0, \"plus_error\": 176.4, \"minus_error\": -2.5, \"error\": 89.4}, {\"age\": \"105-114\", \"marital\": \"Never Married\", \"noisy_count\": -24.9, \"true_count\": 49.0, \"plus_error\": 64.5, \"minus_error\": -114.4, \"error\": 89.4}]}}, {\"mode\": \"vega-lite\"});\n",
       "</script>"
      ],
      "text/plain": [
       "alt.HConcatChart(...)"
      ]
     },
     "metadata": {},
     "output_type": "display_data"
    },
    {
     "data": {
      "application/vnd.jupyter.widget-view+json": {
       "model_id": "70fad660372d4e5cb05b5e2fc5978ffb",
       "version_major": 2,
       "version_minor": 0
      },
      "text/plain": [
       "VBox(children=(VBox(children=(Textarea(value='', description='Answer:', layout=Layout(height='50px', width='50…"
      ]
     },
     "metadata": {},
     "output_type": "display_data"
    },
    {
     "data": {
      "application/vnd.jupyter.widget-view+json": {
       "model_id": "d0643da1a96547aea7d94da1a9a0bab3",
       "version_major": 2,
       "version_minor": 0
      },
      "text/plain": [
       "Button(layout=Layout(height='1px', width='99%'), style=ButtonStyle(button_color='black'))"
      ]
     },
     "metadata": {},
     "output_type": "display_data"
    },
    {
     "data": {
      "application/vnd.jupyter.widget-view+json": {
       "model_id": "95a5231f96214e7d877ceea75b3d650d",
       "version_major": 2,
       "version_minor": 0
      },
      "text/plain": [
       "HBox(children=(HTML(value='<b>Question 5/6: In the 100,000 to 199,000 income range, rank the top 3 races in te…"
      ]
     },
     "metadata": {},
     "output_type": "display_data"
    },
    {
     "data": {
      "application/vnd.jupyter.widget-view+json": {
       "model_id": "e6e12491b431471686d399f666a92a3e",
       "version_major": 2,
       "version_minor": 0
      },
      "text/plain": [
       "HBox(children=(HTML(value='<b>Number of Remeasures are Used So Far</b>', placeholder=''), FloatProgress(value=…"
      ]
     },
     "metadata": {},
     "output_type": "display_data"
    },
    {
     "data": {
      "text/html": [
       "\n",
       "<div id=\"altair-viz-eb500e6e6e014632b0c55244d7342fe7\"></div>\n",
       "<script type=\"text/javascript\">\n",
       "  var VEGA_DEBUG = (typeof VEGA_DEBUG == \"undefined\") ? {} : VEGA_DEBUG;\n",
       "  (function(spec, embedOpt){\n",
       "    let outputDiv = document.currentScript.previousElementSibling;\n",
       "    if (outputDiv.id !== \"altair-viz-eb500e6e6e014632b0c55244d7342fe7\") {\n",
       "      outputDiv = document.getElementById(\"altair-viz-eb500e6e6e014632b0c55244d7342fe7\");\n",
       "    }\n",
       "    const paths = {\n",
       "      \"vega\": \"https://cdn.jsdelivr.net/npm//vega@5?noext\",\n",
       "      \"vega-lib\": \"https://cdn.jsdelivr.net/npm//vega-lib?noext\",\n",
       "      \"vega-lite\": \"https://cdn.jsdelivr.net/npm//vega-lite@4.17.0?noext\",\n",
       "      \"vega-embed\": \"https://cdn.jsdelivr.net/npm//vega-embed@6?noext\",\n",
       "    };\n",
       "\n",
       "    function maybeLoadScript(lib, version) {\n",
       "      var key = `${lib.replace(\"-\", \"\")}_version`;\n",
       "      return (VEGA_DEBUG[key] == version) ?\n",
       "        Promise.resolve(paths[lib]) :\n",
       "        new Promise(function(resolve, reject) {\n",
       "          var s = document.createElement('script');\n",
       "          document.getElementsByTagName(\"head\")[0].appendChild(s);\n",
       "          s.async = true;\n",
       "          s.onload = () => {\n",
       "            VEGA_DEBUG[key] = version;\n",
       "            return resolve(paths[lib]);\n",
       "          };\n",
       "          s.onerror = () => reject(`Error loading script: ${paths[lib]}`);\n",
       "          s.src = paths[lib];\n",
       "        });\n",
       "    }\n",
       "\n",
       "    function showError(err) {\n",
       "      outputDiv.innerHTML = `<div class=\"error\" style=\"color:red;\">${err}</div>`;\n",
       "      throw err;\n",
       "    }\n",
       "\n",
       "    function displayChart(vegaEmbed) {\n",
       "      vegaEmbed(outputDiv, spec, embedOpt)\n",
       "        .catch(err => showError(`Javascript Error: ${err.message}<br>This usually means there's a typo in your chart specification. See the javascript console for the full traceback.`));\n",
       "    }\n",
       "\n",
       "    if(typeof define === \"function\" && define.amd) {\n",
       "      requirejs.config({paths});\n",
       "      require([\"vega-embed\"], displayChart, err => showError(`Error loading script: ${err.message}`));\n",
       "    } else {\n",
       "      maybeLoadScript(\"vega\", \"5\")\n",
       "        .then(() => maybeLoadScript(\"vega-lite\", \"4.17.0\"))\n",
       "        .then(() => maybeLoadScript(\"vega-embed\", \"6\"))\n",
       "        .catch(showError)\n",
       "        .then(() => displayChart(vegaEmbed));\n",
       "    }\n",
       "  })({\"config\": {\"view\": {\"continuousWidth\": 400, \"continuousHeight\": 300}, \"axis\": {\"labelFontSize\": 11, \"titleFontSize\": 15}, \"axisBottom\": {\"labelAngle\": 60}}, \"hconcat\": [{\"layer\": [{\"mark\": \"bar\", \"encoding\": {\"color\": {\"value\": \"transparent\"}, \"tooltip\": [{\"aggregate\": \"sum\", \"field\": \"noisy_count\", \"title\": \"noisy count\", \"type\": \"quantitative\"}, {\"aggregate\": \"sum\", \"field\": \"error\", \"title\": \"error\", \"type\": \"quantitative\"}], \"x\": {\"field\": \"income\", \"sort\": null, \"title\": \"Income\", \"type\": \"ordinal\"}}, \"height\": 300, \"selection\": {\"selector045\": {\"type\": \"interval\", \"encodings\": [\"x\"]}}, \"transform\": [{\"filter\": {\"selection\": \"selector046\"}}], \"width\": 450}, {\"mark\": {\"type\": \"bar\", \"color\": \"#4C7FFF\", \"opacity\": 0.7}, \"encoding\": {\"x\": {\"field\": \"income\", \"sort\": null, \"title\": \"Income\", \"type\": \"ordinal\"}, \"y\": {\"aggregate\": \"sum\", \"field\": \"noisy_count\", \"type\": \"quantitative\"}}, \"transform\": [{\"filter\": {\"selection\": \"selector046\"}}]}, {\"mark\": {\"type\": \"tick\", \"color\": \"black\", \"width\": 0}, \"encoding\": {\"x\": {\"field\": \"income\", \"sort\": null, \"title\": \"Income\", \"type\": \"ordinal\"}, \"y\": {\"aggregate\": \"sum\", \"field\": \"plus_error\", \"type\": \"quantitative\"}}, \"transform\": [{\"filter\": {\"selection\": \"selector046\"}}]}, {\"mark\": {\"type\": \"tick\", \"color\": \"black\", \"width\": 0}, \"encoding\": {\"x\": {\"field\": \"income\", \"sort\": null, \"title\": \"Income\", \"type\": \"ordinal\"}, \"y\": {\"aggregate\": \"sum\", \"field\": \"minus_error\", \"type\": \"quantitative\"}}, \"transform\": [{\"filter\": {\"selection\": \"selector046\"}}]}, {\"mark\": {\"type\": \"point\", \"color\": \"black\"}, \"encoding\": {\"x\": {\"field\": \"income\", \"sort\": null, \"title\": \"Income\", \"type\": \"ordinal\"}, \"y\": {\"aggregate\": \"sum\", \"field\": \"noisy_count\", \"title\": \"Noisy Count\", \"type\": \"quantitative\"}}, \"transform\": [{\"filter\": {\"selection\": \"selector046\"}}]}, {\"mark\": {\"type\": \"rule\", \"size\": 2}, \"encoding\": {\"x\": {\"field\": \"income\", \"sort\": null, \"title\": \"Income\", \"type\": \"ordinal\"}, \"y\": {\"aggregate\": \"sum\", \"field\": \"plus_error\", \"title\": \"\", \"type\": \"quantitative\"}, \"y2\": {\"aggregate\": \"sum\", \"field\": \"minus_error\", \"title\": \"\"}}, \"transform\": [{\"filter\": {\"selection\": \"selector046\"}}]}]}, {\"layer\": [{\"mark\": \"bar\", \"encoding\": {\"color\": {\"value\": \"transparent\"}, \"tooltip\": [{\"aggregate\": \"sum\", \"field\": \"noisy_count\", \"title\": \"noisy count\", \"type\": \"quantitative\"}, {\"aggregate\": \"sum\", \"field\": \"error\", \"title\": \"error\", \"type\": \"quantitative\"}], \"x\": {\"field\": \"race\", \"sort\": null, \"title\": \"Race\", \"type\": \"ordinal\"}}, \"height\": 300, \"selection\": {\"selector046\": {\"type\": \"interval\", \"encodings\": [\"x\"]}}, \"transform\": [{\"filter\": {\"selection\": \"selector045\"}}], \"width\": 450}, {\"mark\": {\"type\": \"bar\", \"color\": \"#4C7FFF\", \"opacity\": 0.7}, \"encoding\": {\"x\": {\"field\": \"race\", \"sort\": null, \"title\": \"Race\", \"type\": \"ordinal\"}, \"y\": {\"aggregate\": \"sum\", \"field\": \"noisy_count\", \"type\": \"quantitative\"}}, \"transform\": [{\"filter\": {\"selection\": \"selector045\"}}]}, {\"mark\": {\"type\": \"tick\", \"color\": \"black\", \"width\": 0}, \"encoding\": {\"x\": {\"field\": \"race\", \"sort\": null, \"title\": \"Race\", \"type\": \"ordinal\"}, \"y\": {\"aggregate\": \"sum\", \"field\": \"plus_error\", \"type\": \"quantitative\"}}, \"transform\": [{\"filter\": {\"selection\": \"selector045\"}}]}, {\"mark\": {\"type\": \"tick\", \"color\": \"black\", \"width\": 0}, \"encoding\": {\"x\": {\"field\": \"race\", \"sort\": null, \"title\": \"Race\", \"type\": \"ordinal\"}, \"y\": {\"aggregate\": \"sum\", \"field\": \"minus_error\", \"type\": \"quantitative\"}}, \"transform\": [{\"filter\": {\"selection\": \"selector045\"}}]}, {\"mark\": {\"type\": \"point\", \"color\": \"black\"}, \"encoding\": {\"x\": {\"field\": \"race\", \"sort\": null, \"title\": \"Race\", \"type\": \"ordinal\"}, \"y\": {\"aggregate\": \"sum\", \"field\": \"noisy_count\", \"title\": \"Noisy Count\", \"type\": \"quantitative\"}}, \"transform\": [{\"filter\": {\"selection\": \"selector045\"}}]}, {\"mark\": {\"type\": \"rule\", \"size\": 2}, \"encoding\": {\"x\": {\"field\": \"race\", \"sort\": null, \"title\": \"Race\", \"type\": \"ordinal\"}, \"y\": {\"aggregate\": \"sum\", \"field\": \"plus_error\", \"title\": \"\", \"type\": \"quantitative\"}, \"y2\": {\"aggregate\": \"sum\", \"field\": \"minus_error\", \"title\": \"\"}}, \"transform\": [{\"filter\": {\"selection\": \"selector045\"}}]}]}], \"data\": {\"name\": \"data-4409ed698e117e5fdd9c4da5f61c9858\"}, \"$schema\": \"https://vega.github.io/schema/vega-lite/v4.17.0.json\", \"datasets\": {\"data-4409ed698e117e5fdd9c4da5f61c9858\": [{\"income\": \"$0k - $49k\", \"race\": \"White\", \"noisy_count\": 33117.7, \"true_count\": 33156.0, \"plus_error\": 33207.2, \"minus_error\": 33028.3, \"error\": 89.4}, {\"income\": \"$0k - $49k\", \"race\": \"Black\", \"noisy_count\": 4220.4, \"true_count\": 4314.0, \"plus_error\": 4309.9, \"minus_error\": 4131.0, \"error\": 89.4}, {\"income\": \"$0k - $49k\", \"race\": \"American Indian\", \"noisy_count\": 433.5, \"true_count\": 489.0, \"plus_error\": 522.9, \"minus_error\": 344.0, \"error\": 89.4}, {\"income\": \"$0k - $49k\", \"race\": \"Chinese\", \"noisy_count\": 1043.1, \"true_count\": 992.0, \"plus_error\": 1132.5, \"minus_error\": 953.6, \"error\": 89.4}, {\"income\": \"$50k - $99k\", \"race\": \"White\", \"noisy_count\": 7515.8, \"true_count\": 7572.0, \"plus_error\": 7605.2, \"minus_error\": 7426.3, \"error\": 89.4}, {\"income\": \"$50k - $99k\", \"race\": \"Black\", \"noisy_count\": 596.2, \"true_count\": 547.0, \"plus_error\": 685.7, \"minus_error\": 506.8, \"error\": 89.4}, {\"income\": \"$50k - $99k\", \"race\": \"American Indian\", \"noisy_count\": 295.1, \"true_count\": 64.0, \"plus_error\": 384.5, \"minus_error\": 205.6, \"error\": 89.4}, {\"income\": \"$50k - $99k\", \"race\": \"Chinese\", \"noisy_count\": 157.9, \"true_count\": 344.0, \"plus_error\": 247.3, \"minus_error\": 68.4, \"error\": 89.4}, {\"income\": \"$100k - $149k\", \"race\": \"White\", \"noisy_count\": 870.0, \"true_count\": 1036.0, \"plus_error\": 959.4, \"minus_error\": 780.6, \"error\": 89.4}, {\"income\": \"$100k - $149k\", \"race\": \"Black\", \"noisy_count\": 136.5, \"true_count\": 45.0, \"plus_error\": 226.0, \"minus_error\": 47.1, \"error\": 89.4}, {\"income\": \"$100k - $149k\", \"race\": \"American Indian\", \"noisy_count\": 69.0, \"true_count\": 4.0, \"plus_error\": 158.4, \"minus_error\": -20.5, \"error\": 89.4}, {\"income\": \"$100k - $149k\", \"race\": \"Chinese\", \"noisy_count\": 56.7, \"true_count\": 64.0, \"plus_error\": 146.1, \"minus_error\": -32.8, \"error\": 89.4}, {\"income\": \"$150k - $199k\", \"race\": \"White\", \"noisy_count\": 603.1, \"true_count\": 559.0, \"plus_error\": 631.9, \"minus_error\": 574.3, \"error\": 28.8}, {\"income\": \"$150k - $199k\", \"race\": \"Black\", \"noisy_count\": 37.4, \"true_count\": 15.0, \"plus_error\": 66.2, \"minus_error\": 8.6, \"error\": 28.8}, {\"income\": \"$150k - $199k\", \"race\": \"American Indian\", \"noisy_count\": -17.7, \"true_count\": 1.0, \"plus_error\": 11.2, \"minus_error\": -46.5, \"error\": 28.8}, {\"income\": \"$150k - $199k\", \"race\": \"Chinese\", \"noisy_count\": 39.4, \"true_count\": 34.0, \"plus_error\": 68.2, \"minus_error\": 10.5, \"error\": 28.8}, {\"income\": \"$200k - $249k\", \"race\": \"White\", \"noisy_count\": -12.7, \"true_count\": 122.0, \"plus_error\": 76.7, \"minus_error\": -102.2, \"error\": 89.4}, {\"income\": \"$200k - $249k\", \"race\": \"Black\", \"noisy_count\": -173.6, \"true_count\": 7.0, \"plus_error\": -84.2, \"minus_error\": -263.0, \"error\": 89.4}, {\"income\": \"$200k - $249k\", \"race\": \"American Indian\", \"noisy_count\": 39.0, \"true_count\": 3.0, \"plus_error\": 128.4, \"minus_error\": -50.4, \"error\": 89.4}, {\"income\": \"$200k - $249k\", \"race\": \"Chinese\", \"noisy_count\": 66.2, \"true_count\": 5.0, \"plus_error\": 155.6, \"minus_error\": -23.3, \"error\": 89.4}, {\"income\": \"$250k - $299k\", \"race\": \"White\", \"noisy_count\": 4.3, \"true_count\": 43.0, \"plus_error\": 93.8, \"minus_error\": -85.1, \"error\": 89.4}, {\"income\": \"$250k - $299k\", \"race\": \"Black\", \"noisy_count\": 81.6, \"true_count\": 0.0, \"plus_error\": 171.0, \"minus_error\": -7.8, \"error\": 89.4}, {\"income\": \"$250k - $299k\", \"race\": \"American Indian\", \"noisy_count\": 77.0, \"true_count\": 0.0, \"plus_error\": 166.4, \"minus_error\": -12.5, \"error\": 89.4}, {\"income\": \"$250k - $299k\", \"race\": \"Chinese\", \"noisy_count\": -8.4, \"true_count\": 3.0, \"plus_error\": 81.1, \"minus_error\": -97.8, \"error\": 89.4}, {\"income\": \"$300k - $349k\", \"race\": \"White\", \"noisy_count\": 0.7, \"true_count\": 11.0, \"plus_error\": 35.2, \"minus_error\": -33.8, \"error\": 34.5}, {\"income\": \"$300k - $349k\", \"race\": \"Black\", \"noisy_count\": -39.0, \"true_count\": 1.0, \"plus_error\": -4.5, \"minus_error\": -73.5, \"error\": 34.5}, {\"income\": \"$300k - $349k\", \"race\": \"American Indian\", \"noisy_count\": -6.0, \"true_count\": 0.0, \"plus_error\": 28.5, \"minus_error\": -40.5, \"error\": 34.5}, {\"income\": \"$300k - $349k\", \"race\": \"Chinese\", \"noisy_count\": -61.8, \"true_count\": 0.0, \"plus_error\": -27.3, \"minus_error\": -96.3, \"error\": 34.5}, {\"income\": \"$350k - $399k\", \"race\": \"White\", \"noisy_count\": 152.4, \"true_count\": 2.0, \"plus_error\": 241.9, \"minus_error\": 63.0, \"error\": 89.4}, {\"income\": \"$350k - $399k\", \"race\": \"Black\", \"noisy_count\": 28.5, \"true_count\": 0.0, \"plus_error\": 117.9, \"minus_error\": -60.9, \"error\": 89.4}, {\"income\": \"$350k - $399k\", \"race\": \"American Indian\", \"noisy_count\": 4.1, \"true_count\": 0.0, \"plus_error\": 93.5, \"minus_error\": -85.4, \"error\": 89.4}, {\"income\": \"$350k - $399k\", \"race\": \"Chinese\", \"noisy_count\": 28.0, \"true_count\": 0.0, \"plus_error\": 117.4, \"minus_error\": -61.5, \"error\": 89.4}, {\"income\": \"$400k - $449k\", \"race\": \"White\", \"noisy_count\": 38.3, \"true_count\": 2.0, \"plus_error\": 127.8, \"minus_error\": -51.1, \"error\": 89.4}, {\"income\": \"$400k - $449k\", \"race\": \"Black\", \"noisy_count\": -12.7, \"true_count\": 0.0, \"plus_error\": 76.8, \"minus_error\": -102.1, \"error\": 89.4}, {\"income\": \"$400k - $449k\", \"race\": \"American Indian\", \"noisy_count\": 36.6, \"true_count\": 0.0, \"plus_error\": 126.0, \"minus_error\": -52.9, \"error\": 89.4}, {\"income\": \"$400k - $449k\", \"race\": \"Chinese\", \"noisy_count\": 27.6, \"true_count\": 0.0, \"plus_error\": 117.0, \"minus_error\": -61.9, \"error\": 89.4}, {\"income\": \"$450k - $499k\", \"race\": \"White\", \"noisy_count\": -88.9, \"true_count\": 1.0, \"plus_error\": 0.5, \"minus_error\": -178.3, \"error\": 89.4}, {\"income\": \"$450k - $499k\", \"race\": \"Black\", \"noisy_count\": 101.2, \"true_count\": 0.0, \"plus_error\": 190.6, \"minus_error\": 11.7, \"error\": 89.4}, {\"income\": \"$450k - $499k\", \"race\": \"American Indian\", \"noisy_count\": -137.8, \"true_count\": 0.0, \"plus_error\": -48.3, \"minus_error\": -227.2, \"error\": 89.4}, {\"income\": \"$450k - $499k\", \"race\": \"Chinese\", \"noisy_count\": 91.4, \"true_count\": 0.0, \"plus_error\": 180.9, \"minus_error\": 2.0, \"error\": 89.4}]}}, {\"mode\": \"vega-lite\"});\n",
       "</script>"
      ],
      "text/plain": [
       "alt.HConcatChart(...)"
      ]
     },
     "metadata": {},
     "output_type": "display_data"
    },
    {
     "data": {
      "application/vnd.jupyter.widget-view+json": {
       "model_id": "e10d7ed3f3174af7a0cef0a68872b179",
       "version_major": 2,
       "version_minor": 0
      },
      "text/plain": [
       "VBox(children=(VBox(children=(Textarea(value='', description='Answer:', layout=Layout(height='50px', width='50…"
      ]
     },
     "metadata": {},
     "output_type": "display_data"
    },
    {
     "data": {
      "application/vnd.jupyter.widget-view+json": {
       "model_id": "d0643da1a96547aea7d94da1a9a0bab3",
       "version_major": 2,
       "version_minor": 0
      },
      "text/plain": [
       "Button(layout=Layout(height='1px', width='99%'), style=ButtonStyle(button_color='black'))"
      ]
     },
     "metadata": {},
     "output_type": "display_data"
    },
    {
     "data": {
      "application/vnd.jupyter.widget-view+json": {
       "model_id": "803806a254a24b7f980d428026e5d84e",
       "version_major": 2,
       "version_minor": 0
      },
      "text/plain": [
       "HBox(children=(HTML(value='<b>Question 6/6: What is the second most common race in the 45-54 age group?</b>', …"
      ]
     },
     "metadata": {},
     "output_type": "display_data"
    },
    {
     "data": {
      "application/vnd.jupyter.widget-view+json": {
       "model_id": "7c8eeef82b4d4efcb9f2ed21b888165e",
       "version_major": 2,
       "version_minor": 0
      },
      "text/plain": [
       "HBox(children=(HTML(value='<b>Number of Remeasures are Used So Far</b>', placeholder=''), FloatProgress(value=…"
      ]
     },
     "metadata": {},
     "output_type": "display_data"
    },
    {
     "data": {
      "text/html": [
       "\n",
       "<div id=\"altair-viz-feb2892d8b1641cea2317d18cce09dc8\"></div>\n",
       "<script type=\"text/javascript\">\n",
       "  var VEGA_DEBUG = (typeof VEGA_DEBUG == \"undefined\") ? {} : VEGA_DEBUG;\n",
       "  (function(spec, embedOpt){\n",
       "    let outputDiv = document.currentScript.previousElementSibling;\n",
       "    if (outputDiv.id !== \"altair-viz-feb2892d8b1641cea2317d18cce09dc8\") {\n",
       "      outputDiv = document.getElementById(\"altair-viz-feb2892d8b1641cea2317d18cce09dc8\");\n",
       "    }\n",
       "    const paths = {\n",
       "      \"vega\": \"https://cdn.jsdelivr.net/npm//vega@5?noext\",\n",
       "      \"vega-lib\": \"https://cdn.jsdelivr.net/npm//vega-lib?noext\",\n",
       "      \"vega-lite\": \"https://cdn.jsdelivr.net/npm//vega-lite@4.17.0?noext\",\n",
       "      \"vega-embed\": \"https://cdn.jsdelivr.net/npm//vega-embed@6?noext\",\n",
       "    };\n",
       "\n",
       "    function maybeLoadScript(lib, version) {\n",
       "      var key = `${lib.replace(\"-\", \"\")}_version`;\n",
       "      return (VEGA_DEBUG[key] == version) ?\n",
       "        Promise.resolve(paths[lib]) :\n",
       "        new Promise(function(resolve, reject) {\n",
       "          var s = document.createElement('script');\n",
       "          document.getElementsByTagName(\"head\")[0].appendChild(s);\n",
       "          s.async = true;\n",
       "          s.onload = () => {\n",
       "            VEGA_DEBUG[key] = version;\n",
       "            return resolve(paths[lib]);\n",
       "          };\n",
       "          s.onerror = () => reject(`Error loading script: ${paths[lib]}`);\n",
       "          s.src = paths[lib];\n",
       "        });\n",
       "    }\n",
       "\n",
       "    function showError(err) {\n",
       "      outputDiv.innerHTML = `<div class=\"error\" style=\"color:red;\">${err}</div>`;\n",
       "      throw err;\n",
       "    }\n",
       "\n",
       "    function displayChart(vegaEmbed) {\n",
       "      vegaEmbed(outputDiv, spec, embedOpt)\n",
       "        .catch(err => showError(`Javascript Error: ${err.message}<br>This usually means there's a typo in your chart specification. See the javascript console for the full traceback.`));\n",
       "    }\n",
       "\n",
       "    if(typeof define === \"function\" && define.amd) {\n",
       "      requirejs.config({paths});\n",
       "      require([\"vega-embed\"], displayChart, err => showError(`Error loading script: ${err.message}`));\n",
       "    } else {\n",
       "      maybeLoadScript(\"vega\", \"5\")\n",
       "        .then(() => maybeLoadScript(\"vega-lite\", \"4.17.0\"))\n",
       "        .then(() => maybeLoadScript(\"vega-embed\", \"6\"))\n",
       "        .catch(showError)\n",
       "        .then(() => displayChart(vegaEmbed));\n",
       "    }\n",
       "  })({\"config\": {\"view\": {\"continuousWidth\": 400, \"continuousHeight\": 300}, \"axis\": {\"labelFontSize\": 11, \"titleFontSize\": 15}, \"axisBottom\": {\"labelAngle\": 60}}, \"hconcat\": [{\"layer\": [{\"mark\": \"bar\", \"encoding\": {\"color\": {\"value\": \"transparent\"}, \"tooltip\": [{\"aggregate\": \"sum\", \"field\": \"noisy_count\", \"title\": \"noisy count\", \"type\": \"quantitative\"}, {\"aggregate\": \"sum\", \"field\": \"error\", \"title\": \"error\", \"type\": \"quantitative\"}], \"x\": {\"field\": \"age\", \"sort\": null, \"title\": \"Age\", \"type\": \"ordinal\"}}, \"height\": 300, \"selection\": {\"selector047\": {\"type\": \"interval\", \"encodings\": [\"x\"]}}, \"transform\": [{\"filter\": {\"selection\": \"selector048\"}}], \"width\": 450}, {\"mark\": {\"type\": \"bar\", \"color\": \"#4C7FFF\", \"opacity\": 0.7}, \"encoding\": {\"x\": {\"field\": \"age\", \"sort\": null, \"title\": \"Age\", \"type\": \"ordinal\"}, \"y\": {\"aggregate\": \"sum\", \"field\": \"noisy_count\", \"type\": \"quantitative\"}}, \"transform\": [{\"filter\": {\"selection\": \"selector048\"}}]}, {\"mark\": {\"type\": \"tick\", \"color\": \"black\", \"width\": 0}, \"encoding\": {\"x\": {\"field\": \"age\", \"sort\": null, \"title\": \"Age\", \"type\": \"ordinal\"}, \"y\": {\"aggregate\": \"sum\", \"field\": \"plus_error\", \"type\": \"quantitative\"}}, \"transform\": [{\"filter\": {\"selection\": \"selector048\"}}]}, {\"mark\": {\"type\": \"tick\", \"color\": \"black\", \"width\": 0}, \"encoding\": {\"x\": {\"field\": \"age\", \"sort\": null, \"title\": \"Age\", \"type\": \"ordinal\"}, \"y\": {\"aggregate\": \"sum\", \"field\": \"minus_error\", \"type\": \"quantitative\"}}, \"transform\": [{\"filter\": {\"selection\": \"selector048\"}}]}, {\"mark\": {\"type\": \"point\", \"color\": \"black\"}, \"encoding\": {\"x\": {\"field\": \"age\", \"sort\": null, \"title\": \"Age\", \"type\": \"ordinal\"}, \"y\": {\"aggregate\": \"sum\", \"field\": \"noisy_count\", \"title\": \"Noisy Count\", \"type\": \"quantitative\"}}, \"transform\": [{\"filter\": {\"selection\": \"selector048\"}}]}, {\"mark\": {\"type\": \"rule\", \"size\": 2}, \"encoding\": {\"x\": {\"field\": \"age\", \"sort\": null, \"title\": \"Age\", \"type\": \"ordinal\"}, \"y\": {\"aggregate\": \"sum\", \"field\": \"plus_error\", \"title\": \"\", \"type\": \"quantitative\"}, \"y2\": {\"aggregate\": \"sum\", \"field\": \"minus_error\", \"title\": \"\"}}, \"transform\": [{\"filter\": {\"selection\": \"selector048\"}}]}]}, {\"layer\": [{\"mark\": \"bar\", \"encoding\": {\"color\": {\"value\": \"transparent\"}, \"tooltip\": [{\"aggregate\": \"sum\", \"field\": \"noisy_count\", \"title\": \"noisy count\", \"type\": \"quantitative\"}, {\"aggregate\": \"sum\", \"field\": \"error\", \"title\": \"error\", \"type\": \"quantitative\"}], \"x\": {\"field\": \"race\", \"sort\": null, \"title\": \"Race\", \"type\": \"ordinal\"}}, \"height\": 300, \"selection\": {\"selector048\": {\"type\": \"interval\", \"encodings\": [\"x\"]}}, \"transform\": [{\"filter\": {\"selection\": \"selector047\"}}], \"width\": 450}, {\"mark\": {\"type\": \"bar\", \"color\": \"#4C7FFF\", \"opacity\": 0.7}, \"encoding\": {\"x\": {\"field\": \"race\", \"sort\": null, \"title\": \"Race\", \"type\": \"ordinal\"}, \"y\": {\"aggregate\": \"sum\", \"field\": \"noisy_count\", \"type\": \"quantitative\"}}, \"transform\": [{\"filter\": {\"selection\": \"selector047\"}}]}, {\"mark\": {\"type\": \"tick\", \"color\": \"black\", \"width\": 0}, \"encoding\": {\"x\": {\"field\": \"race\", \"sort\": null, \"title\": \"Race\", \"type\": \"ordinal\"}, \"y\": {\"aggregate\": \"sum\", \"field\": \"plus_error\", \"type\": \"quantitative\"}}, \"transform\": [{\"filter\": {\"selection\": \"selector047\"}}]}, {\"mark\": {\"type\": \"tick\", \"color\": \"black\", \"width\": 0}, \"encoding\": {\"x\": {\"field\": \"race\", \"sort\": null, \"title\": \"Race\", \"type\": \"ordinal\"}, \"y\": {\"aggregate\": \"sum\", \"field\": \"minus_error\", \"type\": \"quantitative\"}}, \"transform\": [{\"filter\": {\"selection\": \"selector047\"}}]}, {\"mark\": {\"type\": \"point\", \"color\": \"black\"}, \"encoding\": {\"x\": {\"field\": \"race\", \"sort\": null, \"title\": \"Race\", \"type\": \"ordinal\"}, \"y\": {\"aggregate\": \"sum\", \"field\": \"noisy_count\", \"title\": \"Noisy Count\", \"type\": \"quantitative\"}}, \"transform\": [{\"filter\": {\"selection\": \"selector047\"}}]}, {\"mark\": {\"type\": \"rule\", \"size\": 2}, \"encoding\": {\"x\": {\"field\": \"race\", \"sort\": null, \"title\": \"Race\", \"type\": \"ordinal\"}, \"y\": {\"aggregate\": \"sum\", \"field\": \"plus_error\", \"title\": \"\", \"type\": \"quantitative\"}, \"y2\": {\"aggregate\": \"sum\", \"field\": \"minus_error\", \"title\": \"\"}}, \"transform\": [{\"filter\": {\"selection\": \"selector047\"}}]}]}], \"data\": {\"name\": \"data-a95627ba1c6be64acd89f24cf4f53992\"}, \"$schema\": \"https://vega.github.io/schema/vega-lite/v4.17.0.json\", \"datasets\": {\"data-a95627ba1c6be64acd89f24cf4f53992\": [{\"age\": \"15-24\", \"race\": \"White\", \"noisy_count\": 1232.7, \"true_count\": 1271.0, \"plus_error\": 1322.2, \"minus_error\": 1143.3, \"error\": 89.4}, {\"age\": \"15-24\", \"race\": \"Black\", \"noisy_count\": 98.4, \"true_count\": 192.0, \"plus_error\": 187.9, \"minus_error\": 9.0, \"error\": 89.4}, {\"age\": \"15-24\", \"race\": \"American Indian\", \"noisy_count\": -24.5, \"true_count\": 31.0, \"plus_error\": 64.9, \"minus_error\": -114.0, \"error\": 89.4}, {\"age\": \"15-24\", \"race\": \"Chinese\", \"noisy_count\": 113.1, \"true_count\": 62.0, \"plus_error\": 202.5, \"minus_error\": 23.6, \"error\": 89.4}, {\"age\": \"25-34\", \"race\": \"White\", \"noisy_count\": 5053.8, \"true_count\": 5110.0, \"plus_error\": 5143.2, \"minus_error\": 4964.3, \"error\": 89.4}, {\"age\": \"25-34\", \"race\": \"Black\", \"noisy_count\": 749.2, \"true_count\": 700.0, \"plus_error\": 838.7, \"minus_error\": 659.8, \"error\": 89.4}, {\"age\": \"25-34\", \"race\": \"American Indian\", \"noisy_count\": 314.1, \"true_count\": 83.0, \"plus_error\": 403.5, \"minus_error\": 224.6, \"error\": 89.4}, {\"age\": \"25-34\", \"race\": \"Chinese\", \"noisy_count\": 57.9, \"true_count\": 244.0, \"plus_error\": 147.3, \"minus_error\": -31.6, \"error\": 89.4}, {\"age\": \"35-44\", \"race\": \"White\", \"noisy_count\": 6015.0, \"true_count\": 6181.0, \"plus_error\": 6104.4, \"minus_error\": 5925.6, \"error\": 89.4}, {\"age\": \"35-44\", \"race\": \"Black\", \"noisy_count\": 884.5, \"true_count\": 793.0, \"plus_error\": 974.0, \"minus_error\": 795.1, \"error\": 89.4}, {\"age\": \"35-44\", \"race\": \"American Indian\", \"noisy_count\": 158.0, \"true_count\": 93.0, \"plus_error\": 247.4, \"minus_error\": 68.5, \"error\": 89.4}, {\"age\": \"35-44\", \"race\": \"Chinese\", \"noisy_count\": 257.7, \"true_count\": 265.0, \"plus_error\": 347.1, \"minus_error\": 168.2, \"error\": 89.4}, {\"age\": \"45-54\", \"race\": \"White\", \"noisy_count\": 8033.8, \"true_count\": 7988.0, \"plus_error\": 8123.2, \"minus_error\": 7944.3, \"error\": 89.4}, {\"age\": \"45-54\", \"race\": \"Black\", \"noisy_count\": 960.0, \"true_count\": 967.0, \"plus_error\": 1049.4, \"minus_error\": 870.5, \"error\": 89.4}, {\"age\": \"45-54\", \"race\": \"American Indian\", \"noisy_count\": 170.8, \"true_count\": 112.0, \"plus_error\": 260.2, \"minus_error\": 81.3, \"error\": 89.4}, {\"age\": \"45-54\", \"race\": \"Chinese\", \"noisy_count\": 389.0, \"true_count\": 266.0, \"plus_error\": 478.4, \"minus_error\": 299.5, \"error\": 89.4}, {\"age\": \"55-64\", \"race\": \"White\", \"noisy_count\": 6117.3, \"true_count\": 6252.0, \"plus_error\": 6206.7, \"minus_error\": 6027.8, \"error\": 89.4}, {\"age\": \"55-64\", \"race\": \"Black\", \"noisy_count\": 563.4, \"true_count\": 744.0, \"plus_error\": 652.8, \"minus_error\": 474.0, \"error\": 89.4}, {\"age\": \"55-64\", \"race\": \"American Indian\", \"noisy_count\": 126.0, \"true_count\": 90.0, \"plus_error\": 215.4, \"minus_error\": 36.6, \"error\": 89.4}, {\"age\": \"55-64\", \"race\": \"Chinese\", \"noisy_count\": 294.2, \"true_count\": 233.0, \"plus_error\": 383.6, \"minus_error\": 204.7, \"error\": 89.4}, {\"age\": \"65-74\", \"race\": \"White\", \"noisy_count\": 5082.3, \"true_count\": 5121.0, \"plus_error\": 5171.8, \"minus_error\": 4992.9, \"error\": 89.4}, {\"age\": \"65-74\", \"race\": \"Black\", \"noisy_count\": 606.6, \"true_count\": 525.0, \"plus_error\": 696.0, \"minus_error\": 517.2, \"error\": 89.4}, {\"age\": \"65-74\", \"race\": \"American Indian\", \"noisy_count\": 145.0, \"true_count\": 68.0, \"plus_error\": 234.4, \"minus_error\": 55.5, \"error\": 89.4}, {\"age\": \"65-74\", \"race\": \"Chinese\", \"noisy_count\": 141.6, \"true_count\": 153.0, \"plus_error\": 231.1, \"minus_error\": 52.2, \"error\": 89.4}, {\"age\": \"75-84\", \"race\": \"White\", \"noisy_count\": 3381.3, \"true_count\": 3396.0, \"plus_error\": 3409.9, \"minus_error\": 3352.7, \"error\": 28.6}, {\"age\": \"75-84\", \"race\": \"Black\", \"noisy_count\": 357.5, \"true_count\": 387.0, \"plus_error\": 386.1, \"minus_error\": 328.9, \"error\": 28.6}, {\"age\": \"75-84\", \"race\": \"American Indian\", \"noisy_count\": 28.7, \"true_count\": 33.0, \"plus_error\": 57.3, \"minus_error\": 0.1, \"error\": 28.6}, {\"age\": \"75-84\", \"race\": \"Chinese\", \"noisy_count\": 43.2, \"true_count\": 93.0, \"plus_error\": 71.8, \"minus_error\": 14.6, \"error\": 28.6}, {\"age\": \"85-94\", \"race\": \"White\", \"noisy_count\": 3588.9, \"true_count\": 3579.0, \"plus_error\": 3617.5, \"minus_error\": 3560.4, \"error\": 28.5}, {\"age\": \"85-94\", \"race\": \"Black\", \"noisy_count\": 349.9, \"true_count\": 351.0, \"plus_error\": 378.4, \"minus_error\": 321.4, \"error\": 28.5}, {\"age\": \"85-94\", \"race\": \"American Indian\", \"noisy_count\": 11.2, \"true_count\": 33.0, \"plus_error\": 39.7, \"minus_error\": -17.4, \"error\": 28.5}, {\"age\": \"85-94\", \"race\": \"Chinese\", \"noisy_count\": 32.3, \"true_count\": 74.0, \"plus_error\": 60.8, \"minus_error\": 3.8, \"error\": 28.5}, {\"age\": \"95-104\", \"race\": \"White\", \"noisy_count\": 2372.3, \"true_count\": 2336.0, \"plus_error\": 2461.8, \"minus_error\": 2282.9, \"error\": 89.4}, {\"age\": \"95-104\", \"race\": \"Black\", \"noisy_count\": 147.3, \"true_count\": 160.0, \"plus_error\": 236.8, \"minus_error\": 57.9, \"error\": 89.4}, {\"age\": \"95-104\", \"race\": \"American Indian\", \"noisy_count\": 50.6, \"true_count\": 14.0, \"plus_error\": 140.0, \"minus_error\": -38.9, \"error\": 89.4}, {\"age\": \"95-104\", \"race\": \"Chinese\", \"noisy_count\": 62.6, \"true_count\": 35.0, \"plus_error\": 152.0, \"minus_error\": -26.9, \"error\": 89.4}, {\"age\": \"105-114\", \"race\": \"White\", \"noisy_count\": 1180.1, \"true_count\": 1270.0, \"plus_error\": 1269.5, \"minus_error\": 1090.7, \"error\": 89.4}, {\"age\": \"105-114\", \"race\": \"Black\", \"noisy_count\": 211.2, \"true_count\": 110.0, \"plus_error\": 300.6, \"minus_error\": 121.7, \"error\": 89.4}, {\"age\": \"105-114\", \"race\": \"American Indian\", \"noisy_count\": -133.8, \"true_count\": 4.0, \"plus_error\": -44.3, \"minus_error\": -223.2, \"error\": 89.4}, {\"age\": \"105-114\", \"race\": \"Chinese\", \"noisy_count\": 108.4, \"true_count\": 17.0, \"plus_error\": 197.9, \"minus_error\": 19.0, \"error\": 89.4}]}}, {\"mode\": \"vega-lite\"});\n",
       "</script>"
      ],
      "text/plain": [
       "alt.HConcatChart(...)"
      ]
     },
     "metadata": {},
     "output_type": "display_data"
    },
    {
     "data": {
      "application/vnd.jupyter.widget-view+json": {
       "model_id": "b8d8cd1e3d1d4e218abd109a6c3cdb14",
       "version_major": 2,
       "version_minor": 0
      },
      "text/plain": [
       "VBox(children=(VBox(children=(Textarea(value='', description='Answer:', layout=Layout(height='50px', width='50…"
      ]
     },
     "metadata": {},
     "output_type": "display_data"
    },
    {
     "data": {
      "application/vnd.jupyter.widget-view+json": {
       "model_id": "d0643da1a96547aea7d94da1a9a0bab3",
       "version_major": 2,
       "version_minor": 0
      },
      "text/plain": [
       "Button(layout=Layout(height='1px', width='99%'), style=ButtonStyle(button_color='black'))"
      ]
     },
     "metadata": {},
     "output_type": "display_data"
    },
    {
     "data": {
      "application/vnd.jupyter.widget-view+json": {
       "model_id": "97c89e6bb1504211b1ac214e73ce87fa",
       "version_major": 2,
       "version_minor": 0
      },
      "text/plain": [
       "HBox(children=(Button(disabled=True, layout=Layout(height='30px', width='40%'), style=ButtonStyle(button_color…"
      ]
     },
     "metadata": {},
     "output_type": "display_data"
    }
   ],
   "source": [
    "# display(bar_label)\n",
    "interface = widgets.VBox([gap_button, prompt, prompt_answer])\n",
    "display(interface)"
   ]
  },
  {
   "cell_type": "code",
   "execution_count": null,
   "id": "74c27dab",
   "metadata": {},
   "outputs": [],
   "source": []
  }
 ],
 "metadata": {
  "kernelspec": {
   "display_name": "Python 3 (ipykernel)",
   "language": "python",
   "name": "python3"
  },
  "language_info": {
   "codemirror_mode": {
    "name": "ipython",
    "version": 3
   },
   "file_extension": ".py",
   "mimetype": "text/x-python",
   "name": "python",
   "nbconvert_exporter": "python",
   "pygments_lexer": "ipython3",
   "version": "3.9.12"
  }
 },
 "nbformat": 4,
 "nbformat_minor": 5
}
