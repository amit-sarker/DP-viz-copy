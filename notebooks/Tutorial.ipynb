{
 "cells": [
  {
   "cell_type": "code",
   "execution_count": 1,
   "id": "d9071880",
   "metadata": {
    "scrolled": true
   },
   "outputs": [
    {
     "data": {
      "application/javascript": [
       "IPython.OutputArea.prototype._should_scroll = function(lines) {\n",
       "    return false;\n",
       "}\n"
      ],
      "text/plain": [
       "<IPython.core.display.Javascript object>"
      ]
     },
     "metadata": {},
     "output_type": "display_data"
    }
   ],
   "source": [
    "%%javascript\n",
    "IPython.OutputArea.prototype._should_scroll = function(lines) {\n",
    "    return false;\n",
    "}"
   ]
  },
  {
   "cell_type": "code",
   "execution_count": 2,
   "id": "0edede79",
   "metadata": {},
   "outputs": [
    {
     "name": "stderr",
     "output_type": "stream",
     "text": [
      "/home/amit/anaconda3/lib/python3.9/site-packages/mbi/__init__.py:15: UserWarning: MixtureInference disabled, please install jax and jaxlib\n",
      "  warnings.warn('MixtureInference disabled, please install jax and jaxlib')\n",
      "/tmp/ipykernel_21314/218976982.py:16: DeprecationWarning: Importing display from IPython.core.display is deprecated since IPython 7.14, please import from IPython display\n",
      "  from IPython.core.display import display, HTML\n"
     ]
    },
    {
     "data": {
      "text/html": [
       "<style>.container { width:100% !important; }</style>"
      ],
      "text/plain": [
       "<IPython.core.display.HTML object>"
      ]
     },
     "metadata": {},
     "output_type": "display_data"
    },
    {
     "data": {
      "text/plain": [
       "DataTransformerRegistry.enable('default')"
      ]
     },
     "execution_count": 2,
     "metadata": {},
     "output_type": "execute_result"
    }
   ],
   "source": [
    "\n",
    "import sys\n",
    "\n",
    "import ipywidgets as widgets\n",
    "\n",
    "sys.path.append('../')\n",
    "sys.path.append('../src')\n",
    "\n",
    "import src.backend\n",
    "import src.workload_builder as builder\n",
    "from mbi import Domain\n",
    "import src.plots\n",
    "import altair as alt\n",
    "alt.renderers.enable('default')\n",
    "from IPython.display import display, clear_output\n",
    "\n",
    "from IPython.core.display import display, HTML\n",
    "display(HTML(\"<style>.container { width:100% !important; }</style>\"))\n",
    "\n",
    "\n",
    "alt.data_transformers.disable_max_rows()"
   ]
  },
  {
   "cell_type": "code",
   "execution_count": 3,
   "id": "e8caecaf",
   "metadata": {},
   "outputs": [],
   "source": [
    "data_path = '../data/CPS/CPS.csv'\n",
    "cps_domain = Domain(attrs=('age','income','marital','race'), shape=(100,100,7,4))\n",
    "questions = [\"Warm Up: Type 'Yes' if you are ready to begin!\",\n",
    "            \"Question 1/6: How many Chinese and American Indians have 'Widowed' as their marital status?\",\n",
    "            \"Question 2/6: How many people over the age of 65 have income between 100,000 and 149,000?\",\n",
    "            \"Question 3/6: What is the second most common marital status of people with income in the 100,000 to 199,000 range?\",\n",
    "            \"Question 4/6: Choose the top 3 age groups that have marital status: 'Never Married'?\",\n",
    "            \"Question 5/6: In the 100,000 to 199,000 income range, rank the top 3 races in terms of count from greatest to least.\",\n",
    "            \"Question 6/6: What is the second most common race in the 45-54 age group?\"]\n",
    "\n",
    "marital_race = {'marital':1, 'race':1}\n",
    "age_income = {'age':10, 'income':10}\n",
    "marital_income = {'income':10, 'marital':1}\n",
    "age_marital = {'age':10, 'marital':1}\n",
    "race_income = {'income':10, 'race':1}\n",
    "age_race = {'age':10, 'race':1}\n",
    "\n",
    "visualizations = [None, marital_race, age_income, marital_income, age_marital, race_income, age_race]\n",
    "prev_spec = None\n",
    "curr_spec = None\n",
    "epsilon_increments = [None,0.05,0.05,0.05,0.05,0.05,0.05,0.05]\n",
    "budget = 1.0\n",
    "max_tries = 10\n",
    "\n",
    "index = 0\n",
    "tries = 0\n",
    "back_end = None\n"
   ]
  },
  {
   "cell_type": "code",
   "execution_count": 4,
   "id": "f5ce151d",
   "metadata": {},
   "outputs": [
    {
     "data": {
      "text/plain": [
       "Domain(age: 100, income: 100, marital: 7, race: 4)"
      ]
     },
     "execution_count": 4,
     "metadata": {},
     "output_type": "execute_result"
    }
   ],
   "source": [
    "cps_domain"
   ]
  },
  {
   "cell_type": "markdown",
   "id": "b86f40a0",
   "metadata": {},
   "source": [
    "# Logging"
   ]
  },
  {
   "cell_type": "code",
   "execution_count": 5,
   "id": "bd5cd755",
   "metadata": {},
   "outputs": [],
   "source": [
    "import logging\n",
    "\n",
    "class OutputWidgetHandler(logging.Handler):\n",
    "    \"\"\" Custom logging handler sending logs to an output widget \"\"\"\n",
    "\n",
    "    def __init__(self, *args, **kwargs):\n",
    "        super(OutputWidgetHandler, self).__init__(*args, **kwargs)\n",
    "        layout = {\n",
    "            'width': '100%',\n",
    "            'height': '160px',\n",
    "            'border': '1px solid black'\n",
    "        }\n",
    "        self.out = widgets.Output(layout=layout)\n",
    "\n",
    "    def emit(self, record):\n",
    "        \"\"\" Overload of logging.Handler method \"\"\"\n",
    "        formatted_record = self.format(record)\n",
    "        new_output = {\n",
    "            'name': 'stdout',\n",
    "            'output_type': 'stream',\n",
    "            'text': formatted_record+'\\n'\n",
    "        }\n",
    "        self.out.outputs = (new_output, ) + self.out.outputs\n",
    "\n",
    "    def show_logs(self):\n",
    "        \"\"\" Show the logs \"\"\"\n",
    "        display(self.out)\n",
    "\n",
    "    def clear_logs(self):\n",
    "        \"\"\" Clear the current logs \"\"\"\n",
    "        self.out.clear_output()\n",
    "\n",
    "\n",
    "logger = logging.getLogger(__name__)\n",
    "handler = OutputWidgetHandler()\n",
    "handler.setFormatter(logging.Formatter('%(asctime)s  - [%(levelname)s] %(message)s'))\n",
    "logger.addHandler(handler)\n",
    "logger.setLevel(logging.INFO)"
   ]
  },
  {
   "cell_type": "code",
   "execution_count": 6,
   "id": "289aa384",
   "metadata": {},
   "outputs": [],
   "source": [
    "plot_output1 = widgets.Output()\n",
    "plot_output2 = widgets.Output()\n",
    "plot_output3 = widgets.Output()\n",
    "plot_output4 = widgets.Output()\n",
    "plot_output5 = widgets.Output()\n",
    "plot_output6 = widgets.Output()"
   ]
  },
  {
   "cell_type": "code",
   "execution_count": 7,
   "id": "80e0c988",
   "metadata": {},
   "outputs": [],
   "source": [
    "plot_output_rm1 = widgets.Output()\n",
    "plot_output_rm2 = widgets.Output()\n",
    "plot_output_rm3 = widgets.Output()\n",
    "plot_output_rm4 = widgets.Output()\n",
    "plot_output_rm5 = widgets.Output()\n",
    "plot_output_rm6 = widgets.Output()"
   ]
  },
  {
   "cell_type": "code",
   "execution_count": 8,
   "id": "cbf15dc1",
   "metadata": {},
   "outputs": [],
   "source": [
    "plot_output_after = widgets.Output()"
   ]
  },
  {
   "cell_type": "code",
   "execution_count": 9,
   "id": "9277ee65",
   "metadata": {},
   "outputs": [],
   "source": [
    "plot_output = widgets.Output()"
   ]
  },
  {
   "cell_type": "code",
   "execution_count": 10,
   "id": "86c43640",
   "metadata": {},
   "outputs": [],
   "source": [
    "# plot_output"
   ]
  },
  {
   "cell_type": "markdown",
   "id": "858a662d",
   "metadata": {},
   "source": [
    " ## Dropdown Boxes"
   ]
  },
  {
   "cell_type": "code",
   "execution_count": 11,
   "id": "8d82c70a",
   "metadata": {},
   "outputs": [],
   "source": [
    "columns = ['Age','Income','Marital Status']\n",
    "translate = {'Income': 'income', 'Marital Status': 'marital', 'Age': 'age', 'Race':'race'}"
   ]
  },
  {
   "cell_type": "markdown",
   "id": "1892fcb0",
   "metadata": {},
   "source": [
    "Text Boxes"
   ]
  },
  {
   "cell_type": "code",
   "execution_count": 12,
   "id": "f3fc5827",
   "metadata": {},
   "outputs": [],
   "source": [
    "global index\n",
    "prompt = widgets.Textarea(\n",
    "    value=questions[0],\n",
    "    placeholder='Type',\n",
    "    description='',\n",
    "    disabled=True,\n",
    "    layout=widgets.Layout(width='1200px', height='30px')\n",
    ")\n",
    "\n",
    "prompt2 = widgets.Textarea(\n",
    "    value=questions[1],\n",
    "    placeholder='Type',\n",
    "    description='',\n",
    "    disabled=True,\n",
    "    layout=widgets.Layout(width='1000px', height='30px')\n",
    ")\n",
    "\n",
    "prompt3 = widgets.Textarea(\n",
    "    value=questions[2],\n",
    "    placeholder='Type',\n",
    "    description='',\n",
    "    disabled=True,\n",
    "    layout=widgets.Layout(width='1000px', height='30px')\n",
    ")\n",
    "\n",
    "prompt4 = widgets.Textarea(\n",
    "    value=questions[3],\n",
    "    placeholder='Type',\n",
    "    description='',\n",
    "    disabled=True,\n",
    "    layout=widgets.Layout(width='1000px', height='30px')\n",
    ")\n",
    "\n",
    "prompt5 = widgets.Textarea(\n",
    "    value=questions[4],\n",
    "    placeholder='Type',\n",
    "    description='',\n",
    "    disabled=True,\n",
    "    layout=widgets.Layout(width='1000px', height='30px')\n",
    ")\n",
    "\n",
    "prompt6 = widgets.Textarea(\n",
    "    value=questions[5],\n",
    "    placeholder='Type',\n",
    "    description='',\n",
    "    disabled=True,\n",
    "    layout=widgets.Layout(width='1000px', height='30px')\n",
    ")\n",
    "\n",
    "prompt7 = widgets.Textarea(\n",
    "    value=questions[6],\n",
    "    placeholder='Type',\n",
    "    description='',\n",
    "    disabled=True,\n",
    "    layout=widgets.Layout(width='1000px', height='30px')\n",
    ")\n",
    "\n",
    "# finished_tries = widgets.Textarea(\n",
    "#     value=\"\",\n",
    "#     placeholder='Type',\n",
    "#     description='',\n",
    "#     disabled=True,\n",
    "#     layout=widgets.Layout(width='500px', height='30px') #500,30\n",
    "# )\n",
    "\n",
    "answer = widgets.Textarea(\n",
    "    value='',\n",
    "    placeholder='',\n",
    "    description='Answer:',\n",
    "    layout=widgets.Layout(width='300px', height='40px')\n",
    ")\n",
    "\n",
    "answer2 = widgets.Textarea(\n",
    "    value='',\n",
    "    placeholder='',\n",
    "    description='Answer:',\n",
    "    layout=widgets.Layout(width='300px', height='40px')\n",
    ")\n",
    "\n",
    "answer3 = widgets.Textarea(\n",
    "    value='',\n",
    "    placeholder='',\n",
    "    description='Answer:',\n",
    "    layout=widgets.Layout(width='300px', height='40px')\n",
    ")\n",
    "\n",
    "answer4 = widgets.Textarea(\n",
    "    value='',\n",
    "    placeholder='',\n",
    "    description='Answer:',\n",
    "    layout=widgets.Layout(width='300px', height='40px')\n",
    ")\n",
    "\n",
    "answer5 = widgets.Textarea(\n",
    "    value='',\n",
    "    placeholder='',\n",
    "    description='Answer:',\n",
    "    layout=widgets.Layout(width='300px', height='40px')\n",
    ")\n",
    "\n",
    "answer6 = widgets.Textarea(\n",
    "    value='',\n",
    "    placeholder='',\n",
    "    description='Answer:',\n",
    "    layout=widgets.Layout(width='300px', height='40px', align_items='center')\n",
    ")\n",
    "\n",
    "answer7 = widgets.Textarea(\n",
    "    value='',\n",
    "    placeholder='',\n",
    "    description='Answer:',\n",
    "    layout=widgets.Layout(width='300px', height='40px')\n",
    ")"
   ]
  },
  {
   "cell_type": "code",
   "execution_count": 13,
   "id": "e3d97086",
   "metadata": {},
   "outputs": [],
   "source": [
    "def make_plots(idd):\n",
    "    for i in range(len(questions) - 1):\n",
    "        if i == idd:\n",
    "            continue\n",
    "        # with plot_output_arr[i]:\n",
    "        column_names = list(visualizations[i+1].keys())\n",
    "        plot = src.plots.linked_hist(column_names[0], column_names[1], data=current_spec_arr[i].reset_index(column_names), display_true=False, history=False)\n",
    "        logger.info(plot)\n",
    "        # print(\"hhhhhhhhhhhhhhhhhhhhhhhhhhhhhhhhhhhhhhhhhhhhhh\")\n",
    "\n",
    "        bar_label = widgets.HBox([budget_spent, progress_bar, remeasure_arr[i]])\n",
    "        ques = widgets.HBox([prompt_arr[i+1]])\n",
    "        # prompt_answer = widgets.VBox([answer_arr[i+1], submit_btn], layout=box_layout)\n",
    "        prompt_answer = widgets.VBox([answer_arr[i+1]], layout=box_layout)\n",
    "        display(bar_label)\n",
    "        display(ques)\n",
    "\n",
    "        display(plot)\n",
    "        histogram_plots.append(widgets.VBox([plot_output_arr[i]]))\n",
    "        display(histogram_plots[i])\n",
    "        interface = widgets.VBox([prompt_answer])\n",
    "        display(interface)\n"
   ]
  },
  {
   "cell_type": "markdown",
   "id": "8bc9e0d1",
   "metadata": {},
   "source": [
    "## Buttons"
   ]
  },
  {
   "cell_type": "code",
   "execution_count": 14,
   "id": "24fdcf7d",
   "metadata": {},
   "outputs": [],
   "source": [
    "import numpy as np\n",
    "from ipywidgets import Layout\n",
    "\n",
    "submit_btn = widgets.Button(description='Start')\n",
    "submit_btn_final = widgets.Button(description='Submit', layout=Layout(width='20%', height='50px'))\n",
    "make_it_better1 = widgets.Button(description='Remeasure Q1')\n",
    "make_it_better2 = widgets.Button(description='Remeasure Q2')\n",
    "make_it_better3 = widgets.Button(description='Remeasure Q3')\n",
    "make_it_better4 = widgets.Button(description='Remeasure Q4')\n",
    "make_it_better5 = widgets.Button(description='Remeasure Q5')\n",
    "make_it_better6 = widgets.Button(description='Remeasure Q6')\n",
    "# make_it_better = widgets.Button(description='Remeasure')\n",
    "# make_it_better = []\n",
    "# for i in range(len(questions)):\n",
    "#     make_it_better[i] = widgets.Button(description='Remeasure')\n",
    "\n",
    "prompt_arr = [prompt, prompt2, prompt3, prompt4, prompt5, prompt6, prompt7]\n",
    "answer_arr = [answer, answer2, answer3, answer4, answer5, answer6, answer7]\n",
    "remeasure_arr = [make_it_better1, make_it_better2, make_it_better3, make_it_better4, make_it_better5, make_it_better6]\n",
    "plot_output_arr = [plot_output1, plot_output2, plot_output3, plot_output4, plot_output5, plot_output6]\n",
    "plot_output_rm_arr = [plot_output_rm1, plot_output_rm2, plot_output_rm3, plot_output_rm4, plot_output_rm5, plot_output_rm6]\n",
    "\n",
    "progress_bar = widgets.FloatProgress(min=0.0, max=max_tries) # instantiate the bar\n",
    "progress_bar.style.bar_color = 'red'\n",
    "progress_bar.description = str(tries) + '/' + str(max_tries)\n",
    "budget_spent = widgets.Label(value='Remeasure Used')\n",
    "num_answers = len(questions)\n",
    "survey_answers = [0]*num_answers\n",
    "\n",
    "current_spec_arr = []\n",
    "hist_workloads = []\n",
    "histogram_plots = []\n",
    "# hist_plot = None\n",
    "\n",
    "\n",
    "def make_vis(do_not_update=None):\n",
    "    global index, survey_answers, visualizations, epsilon_increments, curr_spec, back_end, bar_label, interface, ques\n",
    "    back_end = src.backend.initialize_backend(cps_domain, data_path, budget=1.0)\n",
    "\n",
    "    for i in range(len(questions) - 1):\n",
    "        prompt_arr[i+1].value = questions[i+1]\n",
    "        hist = builder.histogram_workload(cps_domain.config, bin_widths=visualizations[i+1])\n",
    "        hist_workloads.append(hist)\n",
    "\n",
    "        y_hat, strategy_matrix = back_end.measure_hdmm(workload=hist, eps=epsilon_increments[i+1], restarts=20) # got y_hat\n",
    "\n",
    "        column_names = list(visualizations[i+1].keys())\n",
    "        curr_spec, cached = back_end.display(hist)\n",
    "        current_spec_arr.append(curr_spec)\n",
    "\n",
    "        with plot_output_arr[i]:\n",
    "            plot = src.plots.linked_hist(column_names[0], column_names[1], data=curr_spec.reset_index(column_names), display_true=False, history=False)\n",
    "            logger.info(plot)\n",
    "\n",
    "        bar_label = widgets.HBox([budget_spent, progress_bar, remeasure_arr[i]])\n",
    "        ques = widgets.HBox([prompt_arr[i+1]])\n",
    "        # prompt_answer = widgets.VBox([answer_arr[i+1], submit_btn], layout=box_layout)\n",
    "        prompt_answer = widgets.VBox([answer_arr[i+1]], layout=box_layout)\n",
    "        display(bar_label)\n",
    "        display(ques)\n",
    "\n",
    "        display(plot)\n",
    "        histogram_plots.append(widgets.VBox([plot_output_arr[i]]))\n",
    "        display(histogram_plots[i])\n",
    "        interface = widgets.VBox([prompt_answer])\n",
    "        display(interface)\n",
    "\n",
    "def on_click_submit(obj):\n",
    "    global index, survey_answers, visualizations, epsilon_increments, curr_spec, back_end, bar_label, interface, ques, plot, plot_output_arr\n",
    "    logger.info('Clicked submit')\n",
    "    if answer.value == '':\n",
    "        return\n",
    "    val = answer.value\n",
    "    answer.value = answer.placeholder\n",
    "    survey_answers[index] = val\n",
    "\n",
    "    interface.close()\n",
    "\n",
    "    make_vis()\n",
    "\n",
    "    display(submit_btn_final)\n",
    "\n",
    "    # for i in range(len(questions) - 1):\n",
    "    #     prompt_arr[i+1].value = questions[i+1]\n",
    "    #     back_end = src.backend.initialize_backend(cps_domain, data_path, budget=1.0)\n",
    "    #     hist = builder.histogram_workload(cps_domain.config, bin_widths=visualizations[i+1])\n",
    "    #     y_hat, strategy_matrix = back_end.measure_hdmm(workload=hist, eps=epsilon_increments[i+1], restarts=20) # got y_hat\n",
    "    #     column_names = list(visualizations[i+1].keys())\n",
    "    #     curr_spec = back_end.display(hist)\n",
    "    #\n",
    "    #     with plot_output:\n",
    "    #         # plot_output.clear_output()\n",
    "    #         plot = src.plots.linked_hist(column_names[0], column_names[1], data=curr_spec.reset_index(column_names), display_true=False, history=False)\n",
    "    #         logger.info(plot)\n",
    "    #\n",
    "    #     bar_label = widgets.HBox([budget_spent, progress_bar, make_it_better])\n",
    "    #     ques = widgets.HBox([prompt_arr[i+1]])\n",
    "    #     prompt_answer = widgets.VBox([answer_arr[i+1], submit_btn], layout=box_layout)\n",
    "    #     display(bar_label)\n",
    "    #     display(ques)\n",
    "    #     display(plot)\n",
    "    #     interface = widgets.VBox([plot_output, prompt_answer])\n",
    "    #     display(interface)\n",
    "\n",
    "    # with plot_output:\n",
    "    #     clear_output()\n",
    "    # submit_btn.close()\n",
    "    # interface.close()\n",
    "    # bar_label.close()\n",
    "    # prompt.value = 'Tutorial finished, thanks for your participation!'\n",
    "    # display(prompt)\n",
    "    # return\n",
    "\n",
    "idx = 1\n",
    "\n",
    "def remeasure_clicked(question_no):\n",
    "    global index, visualizations, tries, idx, interface, submit_btn, plot_output_arr, histogram_plots, plot_output_rm_arr\n",
    "    logger.info('Clicked remeasure, question: {}'.format(index))\n",
    "    # clear_output()\n",
    "    plot_output_arr[question_no].clear_output()\n",
    "\n",
    "    key_val = [x for x in visualizations[question_no].items()]\n",
    "\n",
    "    measure_dict = {'left': key_val[0], 'right': key_val[1]}\n",
    "    binning(measure_dict, question_no-1, epsilon = epsilon_increments[question_no])\n",
    "\n",
    "    # for i in range(len(questions) - 1):\n",
    "    #     key_val = [x for x in visualizations[i+1].items()]\n",
    "    #     # logger.info(key_val)\n",
    "    #     measure_dict = {'left': key_val[0], 'right': key_val[1]}\n",
    "    #     binning(measure_dict, i, epsilon = epsilon_increments[idx])\n",
    "    # idx += 1\n",
    "\n",
    "    # make_vis()\n",
    "    tries += 1\n",
    "    progress_bar.value = tries\n",
    "    progress_bar.description = str(tries) + '/' + str(max_tries)\n",
    "\n",
    "def on_click_make_it_better(obj):\n",
    "    print(\"AAAAA \", obj)\n",
    "    global index, visualizations, tries, idx, interface, submit_btn, plot_output\n",
    "    logger.info('Clicked remeasure, question: {}'.format(index))\n",
    "\n",
    "    with plot_output:\n",
    "        clear_output()\n",
    "    # plot_output_before[0].clear_output()\n",
    "    # print(plot_output_before)\n",
    "    # submit_btn.close()\n",
    "    # interface.close()\n",
    "    # bar_label.close()\n",
    "    \n",
    "    key_val = [x for x in visualizations[1].items()]\n",
    "    print(\"keyyyyy   \", key_val)\n",
    "    measure_dict = {'left': key_val[0], 'right': key_val[1]}\n",
    "    binning(measure_dict, 0, epsilon = epsilon_increments[1])\n",
    "\n",
    "    # for i in range(len(questions) - 1):\n",
    "    #     key_val = [x for x in visualizations[i+1].items()]\n",
    "    #     # logger.info(key_val)\n",
    "    #     measure_dict = {'left': key_val[0], 'right': key_val[1]}\n",
    "    #     binning(measure_dict, i, epsilon = epsilon_increments[idx])\n",
    "    # idx += 1\n",
    "\n",
    "    # make_vis()\n",
    "    tries += 1\n",
    "    progress_bar.value = tries\n",
    "    progress_bar.description = str(tries) + '/' + str(max_tries)\n",
    "\n",
    "def on_click_make_it_better_1(obj):\n",
    "    remeasure_clicked(1)\n",
    "\n",
    "def on_click_make_it_better_2(obj):\n",
    "    remeasure_clicked(2)\n",
    "\n",
    "def on_click_make_it_better_3(obj):\n",
    "    remeasure_clicked(3)\n",
    "\n",
    "def on_click_make_it_better_4(obj):\n",
    "    remeasure_clicked(4)\n",
    "\n",
    "def on_click_make_it_better_5(obj):\n",
    "    remeasure_clicked(5)\n",
    "\n",
    "def on_click_make_it_better_6(obj):\n",
    "    remeasure_clicked(6)\n",
    "\n",
    "submit_btn.on_click(on_click_submit)\n",
    "make_it_better1.on_click(on_click_make_it_better_1)\n",
    "make_it_better2.on_click(on_click_make_it_better_2)\n",
    "make_it_better3.on_click(on_click_make_it_better_3)\n",
    "make_it_better4.on_click(on_click_make_it_better_4)\n",
    "make_it_better5.on_click(on_click_make_it_better_5)\n",
    "make_it_better6.on_click(on_click_make_it_better_6)\n",
    "\n",
    "box_layout = widgets.Layout(display='flex',\n",
    "    flex_flow='column',\n",
    "    align_items='flex-start',\n",
    "    color='black',\n",
    "    width='80%')\n",
    "\n",
    "# bar_label = widgets.HBox([budget_spent, progress_bar, make_it_better])\n",
    "prompt_answer = widgets.VBox([answer, submit_btn], layout=box_layout)"
   ]
  },
  {
   "cell_type": "code",
   "execution_count": 15,
   "id": "d8cdb83f",
   "metadata": {},
   "outputs": [],
   "source": [
    "# import numpy as np\n",
    "#\n",
    "# submit_btn = widgets.Button(description='Submit')\n",
    "# make_it_better = widgets.Button(description='Remeasure')\n",
    "#\n",
    "# def on_click_submit(obj):\n",
    "#     global index, survey_answers, visualizations, epsilon_increments, curr_spec, back_end\n",
    "#     logger.info('Clicked submit')\n",
    "#     if answer.value == '':\n",
    "#         return\n",
    "#     val = answer.value\n",
    "#     answer.value = answer.placeholder\n",
    "#     survey_answers[index] = val\n",
    "#\n",
    "#     if index+1 < len(questions):\n",
    "#         index += 1\n",
    "#         prompt.value = questions[index]\n",
    "#     else:\n",
    "#         with plot_output:\n",
    "#             clear_output()\n",
    "#         submit_btn.close()\n",
    "#         interface.close()\n",
    "#         bar_label.close()\n",
    "#         prompt.value = 'Tutorial finished, thanks for your participation!'\n",
    "#         display(prompt)\n",
    "#         return\n",
    "#\n",
    "#     back_end = src.backend.initialize_backend(cps_domain, data_path, budget=1.0)\n",
    "#\n",
    "#     hist = builder.histogram_workload(cps_domain.config, bin_widths=visualizations[index])\n",
    "#\n",
    "#     # logger.info(hist.matrix.matrix)\n",
    "#\n",
    "#     y_hat, strategy_matrix = back_end.measure_hdmm(workload=hist, eps=epsilon_increments[index], restarts=20) # got y_hat\n",
    "#\n",
    "#     # B = np.linalg.pinv(strategy_matrix)\n",
    "#\n",
    "#     # logger.info(\"printing y_hat\")\n",
    "#     # logger.info(B)\n",
    "#     logger.info(\"printing strategy matrix\")\n",
    "# #     logger.info(strategy_matrix.matrix)\n",
    "#\n",
    "#     column_names = list(visualizations[index].keys())\n",
    "#     curr_spec = back_end.display(hist)\n",
    "#\n",
    "#     with plot_output:\n",
    "#         plot_output.clear_output()\n",
    "#         plot = src.plots.linked_hist(column_names[0], column_names[1], data=curr_spec.reset_index(column_names), display_true=False, history=False)\n",
    "#         logger.info(plot)\n",
    "# #         display(\"Updating...\")\n",
    "#         display(plot)\n",
    "# #         altair_viewer.show(plot)\n",
    "#\n",
    "# def on_click_make_it_better(obj):\n",
    "#     global index, visualizations, tries\n",
    "#     logger.info('Clicked remeasure, question: {}'.format(index))\n",
    "#\n",
    "#     key_val = [x for x in visualizations[index].items()]\n",
    "#     logger.info(key_val)\n",
    "#     measure_dict = {'left': key_val[0], 'right': key_val[1]}\n",
    "#     binning(measure_dict, epsilon = epsilon_increments[index])\n",
    "#\n",
    "# submit_btn.on_click(on_click_submit)\n",
    "# make_it_better.on_click(on_click_make_it_better)"
   ]
  },
  {
   "cell_type": "code",
   "execution_count": 16,
   "id": "0183764d",
   "metadata": {},
   "outputs": [],
   "source": [
    "# text_area = []\n",
    "# for i in range(len(questions)):\n",
    "#     text_area.append(answer)\n"
   ]
  },
  {
   "cell_type": "code",
   "execution_count": 17,
   "id": "f03b6c44",
   "metadata": {},
   "outputs": [],
   "source": [
    "back_end = src.backend.initialize_backend(cps_domain, data_path, budget=budget)\n",
    "# global back_end\n",
    "\n",
    "def binning(measure_dict, id=None, epsilon=None):\n",
    "    global tries, curr_spec, back_end, current_spec_arr, hist_workloads, plot_output_arr, plot_output_rm_arr\n",
    "    \n",
    "    left_col = measure_dict['left'] \n",
    "    right_col = measure_dict['right']\n",
    "    \n",
    "    widths = {left_col[0]:left_col[1], right_col[0]:right_col[1]}\n",
    "    \n",
    "    hist = builder.histogram_workload(cps_domain.config, bin_widths=widths)\n",
    "\n",
    "    if epsilon is not None:\n",
    "        if tries+1 >= max_tries:\n",
    "            for i in range(len(questions)-1):\n",
    "                remeasure_arr[i].close()\n",
    "                budget_spent.value = 'You have used all the remeasures'\n",
    "        if tries+1 > max_tries:\n",
    "            return\n",
    "        y_hat, strategy_matrix = back_end.measure_hdmm(workload=hist, eps=epsilon, restarts=20)\n",
    "\n",
    "    prev_spec = current_spec_arr[id]\n",
    "    # print(prev_spec)\n",
    "    prev_spec.rename(columns={'error': 'error_prev', 'plus_error': 'plus_error_prev', 'minus_error': 'minus_error_prev', 'true_count':'true_count_prev', 'noisy_count':'noisy_count_prev'}, inplace=True)\n",
    "\n",
    "    current_spec_arr[id], cached = back_end.display(hist) ################# Cache_search function called\n",
    "\n",
    "    spec = current_spec_arr[id].join(prev_spec, on=[left_col[0], right_col[0]]).reset_index([left_col[0], right_col[0]])\n",
    "\n",
    "    with plot_output_arr[id]:\n",
    "        plot_output_arr[id].clear_output()\n",
    "        plot = src.plots.linked_hist_test(left_col[0], right_col[0], data=spec, projection=True,label=False)\n",
    "        display(plot)\n",
    "\n",
    "    hist_plot_rm = widgets.VBox([plot_output_arr[id]])\n",
    "    display(hist_plot_rm)\n",
    "\n",
    "    # for i in range(len(questions) - 2):\n",
    "    #     key_val2 = [x for x in visualizations[i + 2].items()]\n",
    "    #     measure_dict2 = {'left': key_val2[0], 'right': key_val2[1]}\n",
    "    #     left_col2 = measure_dict2['left']\n",
    "    #     right_col2 = measure_dict2['right']\n",
    "    #     widths = {left_col2[0]:left_col2[1], right_col2[0]:right_col2[1]}\n",
    "    #\n",
    "    #     prev_spec2 = current_spec_arr[i + 1]\n",
    "    #     prev_spec2.rename(columns={'error': 'error_prev', 'plus_error': 'plus_error_prev', 'minus_error': 'minus_error_prev', 'true_count':'true_count_prev', 'noisy_count':'noisy_count_prev'}, inplace=True)\n",
    "    #     # hist2 = hist_workloads[i + 2]\n",
    "    #     hist2 = builder.histogram_workload(cps_domain.config, bin_widths=widths)\n",
    "    #\n",
    "    #     current_spec_arr[i + 1], cached2 = back_end.display(hist2) ################# Cache_search function called\n",
    "    #\n",
    "    #     spec2 = current_spec_arr[i + 1].join(prev_spec2, on=[left_col2[0], right_col2[0]]).reset_index([left_col2[0], right_col2[0]])\n",
    "    #     spec2 = spec2.round(0)\n",
    "    #\n",
    "    #     with plot_output:\n",
    "    #         # plot_output.clear_output()\n",
    "    #         plot2 = src.plots.linked_hist_test(left_col2[0], right_col2[0], data=spec2, projection=True,label=False)\n",
    "    #         # plot = src.plots.linked_hist(left_col[0], right_col[0], data=spec, display_true=False, history=False)\n",
    "    #         display(plot2)\n",
    "    \n",
    "box_layout = widgets.Layout(display='flex',\n",
    "    flex_flow='column',\n",
    "    align_items='flex-start',\n",
    "    color='black',\n",
    "    width='80%')\n",
    "\n",
    "# bar_label = widgets.HBox([budget_spent, progress_bar, make_it_better])\n",
    "prompt_answer = widgets.VBox([answer, submit_btn], layout=box_layout)"
   ]
  },
  {
   "cell_type": "code",
   "execution_count": 18,
   "id": "32c70e80",
   "metadata": {},
   "outputs": [
    {
     "data": {
      "application/vnd.jupyter.widget-view+json": {
       "model_id": "",
       "version_major": 2,
       "version_minor": 0
      },
      "text/plain": [
       "VBox(children=(Textarea(value=\"Warm Up: Type 'Yes' if you are ready to begin!\", disabled=True, layout=Layout(h…"
      ]
     },
     "metadata": {},
     "output_type": "display_data"
    },
    {
     "data": {
      "application/vnd.jupyter.widget-view+json": {
       "model_id": "55ffa8f4801343a7b65021c4b8a0e60d",
       "version_major": 2,
       "version_minor": 0
      },
      "text/plain": [
       "HBox(children=(Label(value='Remeasure Used'), FloatProgress(value=0.0, description='0/10', max=10.0, style=Pro…"
      ]
     },
     "metadata": {},
     "output_type": "display_data"
    },
    {
     "data": {
      "application/vnd.jupyter.widget-view+json": {
       "model_id": "f518d81b8a7b4971b50663488360cbd8",
       "version_major": 2,
       "version_minor": 0
      },
      "text/plain": [
       "HBox(children=(Textarea(value=\"Question 1/6: How many Chinese and American Indians have 'Widowed' as their mar…"
      ]
     },
     "metadata": {},
     "output_type": "display_data"
    },
    {
     "data": {
      "text/html": [
       "\n",
       "<div id=\"altair-viz-836253ee161845bfa6135b49f8033b03\"></div>\n",
       "<script type=\"text/javascript\">\n",
       "  var VEGA_DEBUG = (typeof VEGA_DEBUG == \"undefined\") ? {} : VEGA_DEBUG;\n",
       "  (function(spec, embedOpt){\n",
       "    let outputDiv = document.currentScript.previousElementSibling;\n",
       "    if (outputDiv.id !== \"altair-viz-836253ee161845bfa6135b49f8033b03\") {\n",
       "      outputDiv = document.getElementById(\"altair-viz-836253ee161845bfa6135b49f8033b03\");\n",
       "    }\n",
       "    const paths = {\n",
       "      \"vega\": \"https://cdn.jsdelivr.net/npm//vega@5?noext\",\n",
       "      \"vega-lib\": \"https://cdn.jsdelivr.net/npm//vega-lib?noext\",\n",
       "      \"vega-lite\": \"https://cdn.jsdelivr.net/npm//vega-lite@4.17.0?noext\",\n",
       "      \"vega-embed\": \"https://cdn.jsdelivr.net/npm//vega-embed@6?noext\",\n",
       "    };\n",
       "\n",
       "    function maybeLoadScript(lib, version) {\n",
       "      var key = `${lib.replace(\"-\", \"\")}_version`;\n",
       "      return (VEGA_DEBUG[key] == version) ?\n",
       "        Promise.resolve(paths[lib]) :\n",
       "        new Promise(function(resolve, reject) {\n",
       "          var s = document.createElement('script');\n",
       "          document.getElementsByTagName(\"head\")[0].appendChild(s);\n",
       "          s.async = true;\n",
       "          s.onload = () => {\n",
       "            VEGA_DEBUG[key] = version;\n",
       "            return resolve(paths[lib]);\n",
       "          };\n",
       "          s.onerror = () => reject(`Error loading script: ${paths[lib]}`);\n",
       "          s.src = paths[lib];\n",
       "        });\n",
       "    }\n",
       "\n",
       "    function showError(err) {\n",
       "      outputDiv.innerHTML = `<div class=\"error\" style=\"color:red;\">${err}</div>`;\n",
       "      throw err;\n",
       "    }\n",
       "\n",
       "    function displayChart(vegaEmbed) {\n",
       "      vegaEmbed(outputDiv, spec, embedOpt)\n",
       "        .catch(err => showError(`Javascript Error: ${err.message}<br>This usually means there's a typo in your chart specification. See the javascript console for the full traceback.`));\n",
       "    }\n",
       "\n",
       "    if(typeof define === \"function\" && define.amd) {\n",
       "      requirejs.config({paths});\n",
       "      require([\"vega-embed\"], displayChart, err => showError(`Error loading script: ${err.message}`));\n",
       "    } else {\n",
       "      maybeLoadScript(\"vega\", \"5\")\n",
       "        .then(() => maybeLoadScript(\"vega-lite\", \"4.17.0\"))\n",
       "        .then(() => maybeLoadScript(\"vega-embed\", \"6\"))\n",
       "        .catch(showError)\n",
       "        .then(() => displayChart(vegaEmbed));\n",
       "    }\n",
       "  })({\"config\": {\"view\": {\"continuousWidth\": 400, \"continuousHeight\": 300}, \"axis\": {\"labelFontSize\": 11, \"titleFontSize\": 15}, \"axisBottom\": {\"labelAngle\": 60}}, \"hconcat\": [{\"layer\": [{\"mark\": \"bar\", \"encoding\": {\"color\": {\"value\": \"transparent\"}, \"tooltip\": [{\"aggregate\": \"sum\", \"field\": \"noisy_count\", \"title\": \"noisy count\", \"type\": \"quantitative\"}, {\"aggregate\": \"sum\", \"field\": \"error\", \"title\": \"error\", \"type\": \"quantitative\"}], \"x\": {\"field\": \"marital\", \"sort\": null, \"type\": \"ordinal\"}}, \"height\": 300, \"selection\": {\"selector001\": {\"type\": \"interval\", \"encodings\": [\"x\"]}}, \"transform\": [{\"filter\": {\"selection\": \"selector002\"}}], \"width\": 450}, {\"mark\": {\"type\": \"bar\", \"color\": \"#4C7FFF\", \"opacity\": 0.7}, \"encoding\": {\"x\": {\"field\": \"marital\", \"sort\": null, \"type\": \"ordinal\"}, \"y\": {\"aggregate\": \"sum\", \"field\": \"noisy_count\", \"type\": \"quantitative\"}}, \"transform\": [{\"filter\": {\"selection\": \"selector002\"}}]}, {\"mark\": {\"type\": \"tick\", \"color\": \"black\", \"width\": 0}, \"encoding\": {\"x\": {\"field\": \"marital\", \"sort\": null, \"type\": \"ordinal\"}, \"y\": {\"aggregate\": \"sum\", \"field\": \"plus_error\", \"type\": \"quantitative\"}}, \"transform\": [{\"filter\": {\"selection\": \"selector002\"}}]}, {\"mark\": {\"type\": \"tick\", \"color\": \"black\", \"width\": 0}, \"encoding\": {\"x\": {\"field\": \"marital\", \"sort\": null, \"type\": \"ordinal\"}, \"y\": {\"aggregate\": \"sum\", \"field\": \"minus_error\", \"type\": \"quantitative\"}}, \"transform\": [{\"filter\": {\"selection\": \"selector002\"}}]}, {\"mark\": {\"type\": \"point\", \"color\": \"black\"}, \"encoding\": {\"x\": {\"field\": \"marital\", \"sort\": null, \"type\": \"ordinal\"}, \"y\": {\"aggregate\": \"sum\", \"field\": \"noisy_count\", \"title\": \"Noisy Count\", \"type\": \"quantitative\"}}, \"transform\": [{\"filter\": {\"selection\": \"selector002\"}}]}, {\"mark\": {\"type\": \"rule\", \"size\": 4}, \"encoding\": {\"x\": {\"field\": \"marital\", \"sort\": null, \"type\": \"ordinal\"}, \"y\": {\"aggregate\": \"sum\", \"field\": \"plus_error\", \"title\": \"\", \"type\": \"quantitative\"}, \"y2\": {\"aggregate\": \"sum\", \"field\": \"minus_error\", \"title\": \"\"}}, \"transform\": [{\"filter\": {\"selection\": \"selector002\"}}]}]}, {\"layer\": [{\"mark\": \"bar\", \"encoding\": {\"color\": {\"value\": \"transparent\"}, \"tooltip\": [{\"aggregate\": \"sum\", \"field\": \"noisy_count\", \"title\": \"noisy count\", \"type\": \"quantitative\"}, {\"aggregate\": \"sum\", \"field\": \"error\", \"title\": \"error\", \"type\": \"quantitative\"}], \"x\": {\"field\": \"race\", \"sort\": null, \"type\": \"ordinal\"}}, \"height\": 300, \"selection\": {\"selector002\": {\"type\": \"interval\", \"encodings\": [\"x\"]}}, \"transform\": [{\"filter\": {\"selection\": \"selector001\"}}], \"width\": 450}, {\"mark\": {\"type\": \"bar\", \"color\": \"#4C7FFF\", \"opacity\": 0.7}, \"encoding\": {\"x\": {\"field\": \"race\", \"sort\": null, \"type\": \"ordinal\"}, \"y\": {\"aggregate\": \"sum\", \"field\": \"noisy_count\", \"type\": \"quantitative\"}}, \"transform\": [{\"filter\": {\"selection\": \"selector001\"}}]}, {\"mark\": {\"type\": \"tick\", \"color\": \"black\", \"width\": 0}, \"encoding\": {\"x\": {\"field\": \"race\", \"sort\": null, \"type\": \"ordinal\"}, \"y\": {\"aggregate\": \"sum\", \"field\": \"plus_error\", \"type\": \"quantitative\"}}, \"transform\": [{\"filter\": {\"selection\": \"selector001\"}}]}, {\"mark\": {\"type\": \"tick\", \"color\": \"black\", \"width\": 0}, \"encoding\": {\"x\": {\"field\": \"race\", \"sort\": null, \"type\": \"ordinal\"}, \"y\": {\"aggregate\": \"sum\", \"field\": \"minus_error\", \"type\": \"quantitative\"}}, \"transform\": [{\"filter\": {\"selection\": \"selector001\"}}]}, {\"mark\": {\"type\": \"point\", \"color\": \"black\"}, \"encoding\": {\"x\": {\"field\": \"race\", \"sort\": null, \"type\": \"ordinal\"}, \"y\": {\"aggregate\": \"sum\", \"field\": \"noisy_count\", \"title\": \"Noisy Count\", \"type\": \"quantitative\"}}, \"transform\": [{\"filter\": {\"selection\": \"selector001\"}}]}, {\"mark\": {\"type\": \"rule\", \"size\": 4}, \"encoding\": {\"x\": {\"field\": \"race\", \"sort\": null, \"type\": \"ordinal\"}, \"y\": {\"aggregate\": \"sum\", \"field\": \"plus_error\", \"title\": \"\", \"type\": \"quantitative\"}, \"y2\": {\"aggregate\": \"sum\", \"field\": \"minus_error\", \"title\": \"\"}}, \"transform\": [{\"filter\": {\"selection\": \"selector001\"}}]}]}], \"data\": {\"name\": \"data-2b9f1a5276c666aff4f61dafc8ff91e4\"}, \"$schema\": \"https://vega.github.io/schema/vega-lite/v4.17.0.json\", \"datasets\": {\"data-2b9f1a5276c666aff4f61dafc8ff91e4\": [{\"marital\": \"Married\", \"race\": \"White\", \"noisy_count\": 24271.1, \"true_count\": 24269.0, \"plus_error\": 24299.3, \"minus_error\": 24242.8, \"error\": 28.3}, {\"marital\": \"Married\", \"race\": \"Black\", \"noisy_count\": 1678.3, \"true_count\": 1667.0, \"plus_error\": 1706.5, \"minus_error\": 1650.0, \"error\": 28.3}, {\"marital\": \"Married\", \"race\": \"American Indian\", \"noisy_count\": 270.6, \"true_count\": 266.0, \"plus_error\": 298.9, \"minus_error\": 242.3, \"error\": 28.3}, {\"marital\": \"Married\", \"race\": \"Chinese\", \"noisy_count\": 864.9, \"true_count\": 863.0, \"plus_error\": 893.2, \"minus_error\": 836.6, \"error\": 28.3}, {\"marital\": \"Absent\", \"race\": \"White\", \"noisy_count\": 100.9, \"true_count\": 94.0, \"plus_error\": 129.2, \"minus_error\": 72.6, \"error\": 28.3}, {\"marital\": \"Absent\", \"race\": \"Black\", \"noisy_count\": 13.3, \"true_count\": 16.0, \"plus_error\": 41.6, \"minus_error\": -15.0, \"error\": 28.3}, {\"marital\": \"Absent\", \"race\": \"American Indian\", \"noisy_count\": 30.6, \"true_count\": 0.0, \"plus_error\": 58.9, \"minus_error\": 2.3, \"error\": 28.3}, {\"marital\": \"Absent\", \"race\": \"Chinese\", \"noisy_count\": 59.4, \"true_count\": 7.0, \"plus_error\": 87.7, \"minus_error\": 31.2, \"error\": 28.3}, {\"marital\": \"Separated\", \"race\": \"White\", \"noisy_count\": 584.5, \"true_count\": 567.0, \"plus_error\": 612.8, \"minus_error\": 556.2, \"error\": 28.3}, {\"marital\": \"Separated\", \"race\": \"Black\", \"noisy_count\": 85.2, \"true_count\": 84.0, \"plus_error\": 113.5, \"minus_error\": 56.9, \"error\": 28.3}, {\"marital\": \"Separated\", \"race\": \"American Indian\", \"noisy_count\": 15.9, \"true_count\": 13.0, \"plus_error\": 44.2, \"minus_error\": -12.4, \"error\": 28.3}, {\"marital\": \"Separated\", \"race\": \"Chinese\", \"noisy_count\": 85.1, \"true_count\": 47.0, \"plus_error\": 113.4, \"minus_error\": 56.8, \"error\": 28.3}, {\"marital\": \"Widowed\", \"race\": \"White\", \"noisy_count\": 4043.1, \"true_count\": 4078.0, \"plus_error\": 4071.3, \"minus_error\": 4014.8, \"error\": 28.3}, {\"marital\": \"Widowed\", \"race\": \"Black\", \"noisy_count\": 478.8, \"true_count\": 543.0, \"plus_error\": 507.1, \"minus_error\": 450.6, \"error\": 28.3}, {\"marital\": \"Widowed\", \"race\": \"American Indian\", \"noisy_count\": 56.9, \"true_count\": 35.0, \"plus_error\": 85.2, \"minus_error\": 28.6, \"error\": 28.3}, {\"marital\": \"Widowed\", \"race\": \"Chinese\", \"noisy_count\": 93.3, \"true_count\": 77.0, \"plus_error\": 121.5, \"minus_error\": 65.0, \"error\": 28.3}, {\"marital\": \"Divorced\", \"race\": \"White\", \"noisy_count\": 5964.0, \"true_count\": 5901.0, \"plus_error\": 5992.3, \"minus_error\": 5935.8, \"error\": 28.3}, {\"marital\": \"Divorced\", \"race\": \"Black\", \"noisy_count\": 768.2, \"true_count\": 750.0, \"plus_error\": 796.5, \"minus_error\": 740.0, \"error\": 28.3}, {\"marital\": \"Divorced\", \"race\": \"American Indian\", \"noisy_count\": 92.4, \"true_count\": 94.0, \"plus_error\": 120.7, \"minus_error\": 64.1, \"error\": 28.3}, {\"marital\": \"Divorced\", \"race\": \"Chinese\", \"noisy_count\": 121.5, \"true_count\": 105.0, \"plus_error\": 149.8, \"minus_error\": 93.2, \"error\": 28.3}, {\"marital\": \"Divorced/Widowed\", \"race\": \"White\", \"noisy_count\": 1011.6, \"true_count\": 1005.0, \"plus_error\": 1039.8, \"minus_error\": 983.3, \"error\": 28.3}, {\"marital\": \"Divorced/Widowed\", \"race\": \"Black\", \"noisy_count\": 319.0, \"true_count\": 344.0, \"plus_error\": 347.3, \"minus_error\": 290.7, \"error\": 28.3}, {\"marital\": \"Divorced/Widowed\", \"race\": \"American Indian\", \"noisy_count\": 65.0, \"true_count\": 21.0, \"plus_error\": 93.3, \"minus_error\": 36.7, \"error\": 28.3}, {\"marital\": \"Divorced/Widowed\", \"race\": \"Chinese\", \"noisy_count\": 33.9, \"true_count\": 33.0, \"plus_error\": 62.2, \"minus_error\": 5.6, \"error\": 28.3}, {\"marital\": \"Never Married\", \"race\": \"White\", \"noisy_count\": 6577.3, \"true_count\": 6590.0, \"plus_error\": 6605.6, \"minus_error\": 6549.0, \"error\": 28.3}, {\"marital\": \"Never Married\", \"race\": \"Black\", \"noisy_count\": 1540.9, \"true_count\": 1525.0, \"plus_error\": 1569.2, \"minus_error\": 1512.6, \"error\": 28.3}, {\"marital\": \"Never Married\", \"race\": \"American Indian\", \"noisy_count\": 130.2, \"true_count\": 132.0, \"plus_error\": 158.4, \"minus_error\": 101.9, \"error\": 28.3}, {\"marital\": \"Never Married\", \"race\": \"Chinese\", \"noisy_count\": 312.9, \"true_count\": 310.0, \"plus_error\": 341.2, \"minus_error\": 284.7, \"error\": 28.3}]}}, {\"mode\": \"vega-lite\"});\n",
       "</script>"
      ],
      "text/plain": [
       "alt.HConcatChart(...)"
      ]
     },
     "metadata": {},
     "output_type": "display_data"
    },
    {
     "data": {
      "application/vnd.jupyter.widget-view+json": {
       "model_id": "aafd4ab21f8948f5b750aeffbcab7651",
       "version_major": 2,
       "version_minor": 0
      },
      "text/plain": [
       "VBox(children=(Output(),))"
      ]
     },
     "metadata": {},
     "output_type": "display_data"
    },
    {
     "data": {
      "application/vnd.jupyter.widget-view+json": {
       "model_id": "55522a4c0e224141847fd698e0b4897f",
       "version_major": 2,
       "version_minor": 0
      },
      "text/plain": [
       "VBox(children=(VBox(children=(Textarea(value='', description='Answer:', layout=Layout(height='40px', width='30…"
      ]
     },
     "metadata": {},
     "output_type": "display_data"
    },
    {
     "data": {
      "application/vnd.jupyter.widget-view+json": {
       "model_id": "613d6375a05a4d77825b88239108758c",
       "version_major": 2,
       "version_minor": 0
      },
      "text/plain": [
       "HBox(children=(Label(value='Remeasure Used'), FloatProgress(value=0.0, description='0/10', max=10.0, style=Pro…"
      ]
     },
     "metadata": {},
     "output_type": "display_data"
    },
    {
     "data": {
      "application/vnd.jupyter.widget-view+json": {
       "model_id": "5ffb06a7e2a34b42a6748675f4b894fa",
       "version_major": 2,
       "version_minor": 0
      },
      "text/plain": [
       "HBox(children=(Textarea(value='Question 2/6: How many people over the age of 65 have income between 100,000 an…"
      ]
     },
     "metadata": {},
     "output_type": "display_data"
    },
    {
     "data": {
      "text/html": [
       "\n",
       "<div id=\"altair-viz-eb996383dd7f4417886630f20d614d02\"></div>\n",
       "<script type=\"text/javascript\">\n",
       "  var VEGA_DEBUG = (typeof VEGA_DEBUG == \"undefined\") ? {} : VEGA_DEBUG;\n",
       "  (function(spec, embedOpt){\n",
       "    let outputDiv = document.currentScript.previousElementSibling;\n",
       "    if (outputDiv.id !== \"altair-viz-eb996383dd7f4417886630f20d614d02\") {\n",
       "      outputDiv = document.getElementById(\"altair-viz-eb996383dd7f4417886630f20d614d02\");\n",
       "    }\n",
       "    const paths = {\n",
       "      \"vega\": \"https://cdn.jsdelivr.net/npm//vega@5?noext\",\n",
       "      \"vega-lib\": \"https://cdn.jsdelivr.net/npm//vega-lib?noext\",\n",
       "      \"vega-lite\": \"https://cdn.jsdelivr.net/npm//vega-lite@4.17.0?noext\",\n",
       "      \"vega-embed\": \"https://cdn.jsdelivr.net/npm//vega-embed@6?noext\",\n",
       "    };\n",
       "\n",
       "    function maybeLoadScript(lib, version) {\n",
       "      var key = `${lib.replace(\"-\", \"\")}_version`;\n",
       "      return (VEGA_DEBUG[key] == version) ?\n",
       "        Promise.resolve(paths[lib]) :\n",
       "        new Promise(function(resolve, reject) {\n",
       "          var s = document.createElement('script');\n",
       "          document.getElementsByTagName(\"head\")[0].appendChild(s);\n",
       "          s.async = true;\n",
       "          s.onload = () => {\n",
       "            VEGA_DEBUG[key] = version;\n",
       "            return resolve(paths[lib]);\n",
       "          };\n",
       "          s.onerror = () => reject(`Error loading script: ${paths[lib]}`);\n",
       "          s.src = paths[lib];\n",
       "        });\n",
       "    }\n",
       "\n",
       "    function showError(err) {\n",
       "      outputDiv.innerHTML = `<div class=\"error\" style=\"color:red;\">${err}</div>`;\n",
       "      throw err;\n",
       "    }\n",
       "\n",
       "    function displayChart(vegaEmbed) {\n",
       "      vegaEmbed(outputDiv, spec, embedOpt)\n",
       "        .catch(err => showError(`Javascript Error: ${err.message}<br>This usually means there's a typo in your chart specification. See the javascript console for the full traceback.`));\n",
       "    }\n",
       "\n",
       "    if(typeof define === \"function\" && define.amd) {\n",
       "      requirejs.config({paths});\n",
       "      require([\"vega-embed\"], displayChart, err => showError(`Error loading script: ${err.message}`));\n",
       "    } else {\n",
       "      maybeLoadScript(\"vega\", \"5\")\n",
       "        .then(() => maybeLoadScript(\"vega-lite\", \"4.17.0\"))\n",
       "        .then(() => maybeLoadScript(\"vega-embed\", \"6\"))\n",
       "        .catch(showError)\n",
       "        .then(() => displayChart(vegaEmbed));\n",
       "    }\n",
       "  })({\"config\": {\"view\": {\"continuousWidth\": 400, \"continuousHeight\": 300}, \"axis\": {\"labelFontSize\": 11, \"titleFontSize\": 15}, \"axisBottom\": {\"labelAngle\": 60}}, \"hconcat\": [{\"layer\": [{\"mark\": \"bar\", \"encoding\": {\"color\": {\"value\": \"transparent\"}, \"tooltip\": [{\"aggregate\": \"sum\", \"field\": \"noisy_count\", \"title\": \"noisy count\", \"type\": \"quantitative\"}, {\"aggregate\": \"sum\", \"field\": \"error\", \"title\": \"error\", \"type\": \"quantitative\"}], \"x\": {\"field\": \"age\", \"sort\": null, \"type\": \"ordinal\"}}, \"height\": 300, \"selection\": {\"selector003\": {\"type\": \"interval\", \"encodings\": [\"x\"]}}, \"transform\": [{\"filter\": {\"selection\": \"selector004\"}}], \"width\": 450}, {\"mark\": {\"type\": \"bar\", \"color\": \"#4C7FFF\", \"opacity\": 0.7}, \"encoding\": {\"x\": {\"field\": \"age\", \"sort\": null, \"type\": \"ordinal\"}, \"y\": {\"aggregate\": \"sum\", \"field\": \"noisy_count\", \"type\": \"quantitative\"}}, \"transform\": [{\"filter\": {\"selection\": \"selector004\"}}]}, {\"mark\": {\"type\": \"tick\", \"color\": \"black\", \"width\": 0}, \"encoding\": {\"x\": {\"field\": \"age\", \"sort\": null, \"type\": \"ordinal\"}, \"y\": {\"aggregate\": \"sum\", \"field\": \"plus_error\", \"type\": \"quantitative\"}}, \"transform\": [{\"filter\": {\"selection\": \"selector004\"}}]}, {\"mark\": {\"type\": \"tick\", \"color\": \"black\", \"width\": 0}, \"encoding\": {\"x\": {\"field\": \"age\", \"sort\": null, \"type\": \"ordinal\"}, \"y\": {\"aggregate\": \"sum\", \"field\": \"minus_error\", \"type\": \"quantitative\"}}, \"transform\": [{\"filter\": {\"selection\": \"selector004\"}}]}, {\"mark\": {\"type\": \"point\", \"color\": \"black\"}, \"encoding\": {\"x\": {\"field\": \"age\", \"sort\": null, \"type\": \"ordinal\"}, \"y\": {\"aggregate\": \"sum\", \"field\": \"noisy_count\", \"title\": \"Noisy Count\", \"type\": \"quantitative\"}}, \"transform\": [{\"filter\": {\"selection\": \"selector004\"}}]}, {\"mark\": {\"type\": \"rule\", \"size\": 4}, \"encoding\": {\"x\": {\"field\": \"age\", \"sort\": null, \"type\": \"ordinal\"}, \"y\": {\"aggregate\": \"sum\", \"field\": \"plus_error\", \"title\": \"\", \"type\": \"quantitative\"}, \"y2\": {\"aggregate\": \"sum\", \"field\": \"minus_error\", \"title\": \"\"}}, \"transform\": [{\"filter\": {\"selection\": \"selector004\"}}]}]}, {\"layer\": [{\"mark\": \"bar\", \"encoding\": {\"color\": {\"value\": \"transparent\"}, \"tooltip\": [{\"aggregate\": \"sum\", \"field\": \"noisy_count\", \"title\": \"noisy count\", \"type\": \"quantitative\"}, {\"aggregate\": \"sum\", \"field\": \"error\", \"title\": \"error\", \"type\": \"quantitative\"}], \"x\": {\"field\": \"income\", \"sort\": null, \"type\": \"ordinal\"}}, \"height\": 300, \"selection\": {\"selector004\": {\"type\": \"interval\", \"encodings\": [\"x\"]}}, \"transform\": [{\"filter\": {\"selection\": \"selector003\"}}], \"width\": 450}, {\"mark\": {\"type\": \"bar\", \"color\": \"#4C7FFF\", \"opacity\": 0.7}, \"encoding\": {\"x\": {\"field\": \"income\", \"sort\": null, \"type\": \"ordinal\"}, \"y\": {\"aggregate\": \"sum\", \"field\": \"noisy_count\", \"type\": \"quantitative\"}}, \"transform\": [{\"filter\": {\"selection\": \"selector003\"}}]}, {\"mark\": {\"type\": \"tick\", \"color\": \"black\", \"width\": 0}, \"encoding\": {\"x\": {\"field\": \"income\", \"sort\": null, \"type\": \"ordinal\"}, \"y\": {\"aggregate\": \"sum\", \"field\": \"plus_error\", \"type\": \"quantitative\"}}, \"transform\": [{\"filter\": {\"selection\": \"selector003\"}}]}, {\"mark\": {\"type\": \"tick\", \"color\": \"black\", \"width\": 0}, \"encoding\": {\"x\": {\"field\": \"income\", \"sort\": null, \"type\": \"ordinal\"}, \"y\": {\"aggregate\": \"sum\", \"field\": \"minus_error\", \"type\": \"quantitative\"}}, \"transform\": [{\"filter\": {\"selection\": \"selector003\"}}]}, {\"mark\": {\"type\": \"point\", \"color\": \"black\"}, \"encoding\": {\"x\": {\"field\": \"income\", \"sort\": null, \"type\": \"ordinal\"}, \"y\": {\"aggregate\": \"sum\", \"field\": \"noisy_count\", \"title\": \"Noisy Count\", \"type\": \"quantitative\"}}, \"transform\": [{\"filter\": {\"selection\": \"selector003\"}}]}, {\"mark\": {\"type\": \"rule\", \"size\": 4}, \"encoding\": {\"x\": {\"field\": \"income\", \"sort\": null, \"type\": \"ordinal\"}, \"y\": {\"aggregate\": \"sum\", \"field\": \"plus_error\", \"title\": \"\", \"type\": \"quantitative\"}, \"y2\": {\"aggregate\": \"sum\", \"field\": \"minus_error\", \"title\": \"\"}}, \"transform\": [{\"filter\": {\"selection\": \"selector003\"}}]}]}], \"data\": {\"name\": \"data-55ca57c605a3d89976ebb2b900ed9900\"}, \"$schema\": \"https://vega.github.io/schema/vega-lite/v4.17.0.json\", \"datasets\": {\"data-55ca57c605a3d89976ebb2b900ed9900\": [{\"age\": \"15-24\", \"income\": \"$0k - $49k\", \"noisy_count\": 1474.5, \"true_count\": 1474.0, \"plus_error\": 1757.3, \"minus_error\": 1191.7, \"error\": 282.8}, {\"age\": \"15-24\", \"income\": \"$50k - $99k\", \"noisy_count\": -66.0, \"true_count\": 73.0, \"plus_error\": 24.1, \"minus_error\": -156.0, \"error\": 90.0}, {\"age\": \"15-24\", \"income\": \"$100k - $149k\", \"noisy_count\": -2.6, \"true_count\": 6.0, \"plus_error\": 87.7, \"minus_error\": -92.8, \"error\": 90.3}, {\"age\": \"15-24\", \"income\": \"$150k - $199k\", \"noisy_count\": -335.2, \"true_count\": 1.0, \"plus_error\": -52.4, \"minus_error\": -618.1, \"error\": 282.8}, {\"age\": \"15-24\", \"income\": \"$200k - $249k\", \"noisy_count\": 51.6, \"true_count\": 2.0, \"plus_error\": 334.4, \"minus_error\": -231.2, \"error\": 282.8}, {\"age\": \"15-24\", \"income\": \"$250k - $299k\", \"noisy_count\": -874.3, \"true_count\": 0.0, \"plus_error\": -591.5, \"minus_error\": -1157.1, \"error\": 282.8}, {\"age\": \"15-24\", \"income\": \"$300k - $349k\", \"noisy_count\": -268.0, \"true_count\": 0.0, \"plus_error\": 14.8, \"minus_error\": -550.9, \"error\": 282.8}, {\"age\": \"15-24\", \"income\": \"$350k - $399k\", \"noisy_count\": 129.9, \"true_count\": 0.0, \"plus_error\": 412.7, \"minus_error\": -153.0, \"error\": 282.8}, {\"age\": \"15-24\", \"income\": \"$400k - $449k\", \"noisy_count\": 134.1, \"true_count\": 0.0, \"plus_error\": 416.9, \"minus_error\": -148.8, \"error\": 282.8}, {\"age\": \"15-24\", \"income\": \"$450k - $499k\", \"noisy_count\": 385.5, \"true_count\": 0.0, \"plus_error\": 668.3, \"minus_error\": 102.7, \"error\": 282.8}, {\"age\": \"25-34\", \"income\": \"$0k - $49k\", \"noisy_count\": 5459.3, \"true_count\": 5377.0, \"plus_error\": 5742.1, \"minus_error\": 5176.4, \"error\": 282.8}, {\"age\": \"25-34\", \"income\": \"$50k - $99k\", \"noisy_count\": 897.0, \"true_count\": 666.0, \"plus_error\": 987.0, \"minus_error\": 806.9, \"error\": 90.0}, {\"age\": \"25-34\", \"income\": \"$100k - $149k\", \"noisy_count\": -52.4, \"true_count\": 60.0, \"plus_error\": 37.8, \"minus_error\": -142.7, \"error\": 90.3}, {\"age\": \"25-34\", \"income\": \"$150k - $199k\", \"noisy_count\": 84.6, \"true_count\": 29.0, \"plus_error\": 367.4, \"minus_error\": -198.3, \"error\": 282.8}, {\"age\": \"25-34\", \"income\": \"$200k - $249k\", \"noisy_count\": 66.7, \"true_count\": 3.0, \"plus_error\": 349.5, \"minus_error\": -216.2, \"error\": 282.8}, {\"age\": \"25-34\", \"income\": \"$250k - $299k\", \"noisy_count\": 291.4, \"true_count\": 2.0, \"plus_error\": 574.2, \"minus_error\": 8.5, \"error\": 282.8}, {\"age\": \"25-34\", \"income\": \"$300k - $349k\", \"noisy_count\": -128.3, \"true_count\": 0.0, \"plus_error\": 154.5, \"minus_error\": -411.2, \"error\": 282.8}, {\"age\": \"25-34\", \"income\": \"$350k - $399k\", \"noisy_count\": 158.4, \"true_count\": 0.0, \"plus_error\": 441.3, \"minus_error\": -124.4, \"error\": 282.8}, {\"age\": \"25-34\", \"income\": \"$400k - $449k\", \"noisy_count\": 84.8, \"true_count\": 0.0, \"plus_error\": 367.6, \"minus_error\": -198.1, \"error\": 282.8}, {\"age\": \"25-34\", \"income\": \"$450k - $499k\", \"noisy_count\": 237.6, \"true_count\": 0.0, \"plus_error\": 520.5, \"minus_error\": -45.2, \"error\": 282.8}, {\"age\": \"35-44\", \"income\": \"$0k - $49k\", \"noisy_count\": 5693.5, \"true_count\": 5792.0, \"plus_error\": 5976.3, \"minus_error\": 5410.6, \"error\": 282.8}, {\"age\": \"35-44\", \"income\": \"$50k - $99k\", \"noisy_count\": 1275.1, \"true_count\": 1276.0, \"plus_error\": 1365.2, \"minus_error\": 1185.1, \"error\": 90.0}, {\"age\": \"35-44\", \"income\": \"$100k - $149k\", \"noisy_count\": 419.4, \"true_count\": 155.0, \"plus_error\": 509.7, \"minus_error\": 329.2, \"error\": 90.3}, {\"age\": \"35-44\", \"income\": \"$150k - $199k\", \"noisy_count\": 398.2, \"true_count\": 87.0, \"plus_error\": 681.1, \"minus_error\": 115.4, \"error\": 282.8}, {\"age\": \"35-44\", \"income\": \"$200k - $249k\", \"noisy_count\": 336.3, \"true_count\": 16.0, \"plus_error\": 619.2, \"minus_error\": 53.5, \"error\": 282.8}, {\"age\": \"35-44\", \"income\": \"$250k - $299k\", \"noisy_count\": 246.6, \"true_count\": 6.0, \"plus_error\": 529.4, \"minus_error\": -36.3, \"error\": 282.8}, {\"age\": \"35-44\", \"income\": \"$300k - $349k\", \"noisy_count\": -136.3, \"true_count\": 0.0, \"plus_error\": 146.6, \"minus_error\": -419.1, \"error\": 282.8}, {\"age\": \"35-44\", \"income\": \"$350k - $399k\", \"noisy_count\": -13.1, \"true_count\": 0.0, \"plus_error\": 269.7, \"minus_error\": -296.0, \"error\": 282.8}, {\"age\": \"35-44\", \"income\": \"$400k - $449k\", \"noisy_count\": -206.6, \"true_count\": 0.0, \"plus_error\": 76.2, \"minus_error\": -489.5, \"error\": 282.8}, {\"age\": \"35-44\", \"income\": \"$450k - $499k\", \"noisy_count\": 484.6, \"true_count\": 0.0, \"plus_error\": 767.5, \"minus_error\": 201.8, \"error\": 282.8}, {\"age\": \"45-54\", \"income\": \"$0k - $49k\", \"noisy_count\": 7020.3, \"true_count\": 6798.0, \"plus_error\": 7303.1, \"minus_error\": 6737.4, \"error\": 282.8}, {\"age\": \"45-54\", \"income\": \"$50k - $99k\", \"noisy_count\": 2080.2, \"true_count\": 2097.0, \"plus_error\": 2170.2, \"minus_error\": 1990.1, \"error\": 90.0}, {\"age\": \"45-54\", \"income\": \"$100k - $149k\", \"noisy_count\": 163.0, \"true_count\": 246.0, \"plus_error\": 253.3, \"minus_error\": 72.8, \"error\": 90.3}, {\"age\": \"45-54\", \"income\": \"$150k - $199k\", \"noisy_count\": 212.3, \"true_count\": 149.0, \"plus_error\": 495.1, \"minus_error\": -70.6, \"error\": 282.8}, {\"age\": \"45-54\", \"income\": \"$200k - $249k\", \"noisy_count\": 149.4, \"true_count\": 29.0, \"plus_error\": 432.3, \"minus_error\": -133.4, \"error\": 282.8}, {\"age\": \"45-54\", \"income\": \"$250k - $299k\", \"noisy_count\": 228.2, \"true_count\": 11.0, \"plus_error\": 511.1, \"minus_error\": -54.6, \"error\": 282.8}, {\"age\": \"45-54\", \"income\": \"$300k - $349k\", \"noisy_count\": 21.8, \"true_count\": 2.0, \"plus_error\": 304.7, \"minus_error\": -261.0, \"error\": 282.8}, {\"age\": \"45-54\", \"income\": \"$350k - $399k\", \"noisy_count\": -436.4, \"true_count\": 1.0, \"plus_error\": -153.6, \"minus_error\": -719.3, \"error\": 282.8}, {\"age\": \"45-54\", \"income\": \"$400k - $449k\", \"noisy_count\": -382.5, \"true_count\": 0.0, \"plus_error\": -99.6, \"minus_error\": -665.3, \"error\": 282.8}, {\"age\": \"45-54\", \"income\": \"$450k - $499k\", \"noisy_count\": -458.3, \"true_count\": 0.0, \"plus_error\": -175.5, \"minus_error\": -741.2, \"error\": 282.8}, {\"age\": \"55-64\", \"income\": \"$0k - $49k\", \"noisy_count\": 4699.6, \"true_count\": 4884.0, \"plus_error\": 4982.4, \"minus_error\": 4416.7, \"error\": 282.8}, {\"age\": \"55-64\", \"income\": \"$50k - $99k\", \"noisy_count\": 1930.1, \"true_count\": 1954.0, \"plus_error\": 2020.2, \"minus_error\": 1840.1, \"error\": 90.0}, {\"age\": \"55-64\", \"income\": \"$100k - $149k\", \"noisy_count\": 426.2, \"true_count\": 273.0, \"plus_error\": 516.4, \"minus_error\": 335.9, \"error\": 90.3}, {\"age\": \"55-64\", \"income\": \"$150k - $199k\", \"noisy_count\": 69.8, \"true_count\": 158.0, \"plus_error\": 352.7, \"minus_error\": -213.0, \"error\": 282.8}, {\"age\": \"55-64\", \"income\": \"$200k - $249k\", \"noisy_count\": -38.4, \"true_count\": 34.0, \"plus_error\": 244.4, \"minus_error\": -321.2, \"error\": 282.8}, {\"age\": \"55-64\", \"income\": \"$250k - $299k\", \"noisy_count\": -165.7, \"true_count\": 12.0, \"plus_error\": 117.2, \"minus_error\": -448.5, \"error\": 282.8}, {\"age\": \"55-64\", \"income\": \"$300k - $349k\", \"noisy_count\": 481.2, \"true_count\": 3.0, \"plus_error\": 764.0, \"minus_error\": 198.3, \"error\": 282.8}, {\"age\": \"55-64\", \"income\": \"$350k - $399k\", \"noisy_count\": -519.5, \"true_count\": 1.0, \"plus_error\": -236.7, \"minus_error\": -802.4, \"error\": 282.8}, {\"age\": \"55-64\", \"income\": \"$400k - $449k\", \"noisy_count\": 36.1, \"true_count\": 0.0, \"plus_error\": 318.9, \"minus_error\": -246.8, \"error\": 282.8}, {\"age\": \"55-64\", \"income\": \"$450k - $499k\", \"noisy_count\": -51.5, \"true_count\": 0.0, \"plus_error\": 231.4, \"minus_error\": -334.3, \"error\": 282.8}, {\"age\": \"65-74\", \"income\": \"$0k - $49k\", \"noisy_count\": 4158.6, \"true_count\": 4113.0, \"plus_error\": 4251.5, \"minus_error\": 4065.6, \"error\": 92.9}, {\"age\": \"65-74\", \"income\": \"$50k - $99k\", \"noisy_count\": 1347.2, \"true_count\": 1349.0, \"plus_error\": 1376.8, \"minus_error\": 1317.7, \"error\": 29.6}, {\"age\": \"65-74\", \"income\": \"$100k - $149k\", \"noisy_count\": 224.3, \"true_count\": 240.0, \"plus_error\": 254.0, \"minus_error\": 194.7, \"error\": 29.7}, {\"age\": \"65-74\", \"income\": \"$150k - $199k\", \"noisy_count\": -33.9, \"true_count\": 123.0, \"plus_error\": 59.0, \"minus_error\": -126.9, \"error\": 92.9}, {\"age\": \"65-74\", \"income\": \"$200k - $249k\", \"noisy_count\": 35.8, \"true_count\": 28.0, \"plus_error\": 128.8, \"minus_error\": -57.1, \"error\": 92.9}, {\"age\": \"65-74\", \"income\": \"$250k - $299k\", \"noisy_count\": -75.8, \"true_count\": 9.0, \"plus_error\": 17.1, \"minus_error\": -168.7, \"error\": 92.9}, {\"age\": \"65-74\", \"income\": \"$300k - $349k\", \"noisy_count\": -0.7, \"true_count\": 4.0, \"plus_error\": 92.2, \"minus_error\": -93.6, \"error\": 92.9}, {\"age\": \"65-74\", \"income\": \"$350k - $399k\", \"noisy_count\": -22.1, \"true_count\": 0.0, \"plus_error\": 70.9, \"minus_error\": -115.0, \"error\": 92.9}, {\"age\": \"65-74\", \"income\": \"$400k - $449k\", \"noisy_count\": 91.9, \"true_count\": 0.0, \"plus_error\": 184.8, \"minus_error\": -1.0, \"error\": 92.9}, {\"age\": \"65-74\", \"income\": \"$450k - $499k\", \"noisy_count\": -67.0, \"true_count\": 1.0, \"plus_error\": 25.9, \"minus_error\": -159.9, \"error\": 92.9}, {\"age\": \"75-84\", \"income\": \"$0k - $49k\", \"noisy_count\": 2519.9, \"true_count\": 3217.0, \"plus_error\": 2802.8, \"minus_error\": 2237.1, \"error\": 282.8}, {\"age\": \"75-84\", \"income\": \"$50k - $99k\", \"noisy_count\": 429.7, \"true_count\": 567.0, \"plus_error\": 519.8, \"minus_error\": 339.7, \"error\": 90.0}, {\"age\": \"75-84\", \"income\": \"$100k - $149k\", \"noisy_count\": 68.3, \"true_count\": 69.0, \"plus_error\": 158.6, \"minus_error\": -21.9, \"error\": 90.3}, {\"age\": \"75-84\", \"income\": \"$150k - $199k\", \"noisy_count\": 27.4, \"true_count\": 34.0, \"plus_error\": 310.3, \"minus_error\": -255.4, \"error\": 282.8}, {\"age\": \"75-84\", \"income\": \"$200k - $249k\", \"noisy_count\": -26.6, \"true_count\": 15.0, \"plus_error\": 256.2, \"minus_error\": -309.5, \"error\": 282.8}, {\"age\": \"75-84\", \"income\": \"$250k - $299k\", \"noisy_count\": 643.3, \"true_count\": 4.0, \"plus_error\": 926.1, \"minus_error\": 360.4, \"error\": 282.8}, {\"age\": \"75-84\", \"income\": \"$300k - $349k\", \"noisy_count\": 504.1, \"true_count\": 2.0, \"plus_error\": 786.9, \"minus_error\": 221.2, \"error\": 282.8}, {\"age\": \"75-84\", \"income\": \"$350k - $399k\", \"noisy_count\": 250.6, \"true_count\": 0.0, \"plus_error\": 533.4, \"minus_error\": -32.3, \"error\": 282.8}, {\"age\": \"75-84\", \"income\": \"$400k - $449k\", \"noisy_count\": -182.8, \"true_count\": 1.0, \"plus_error\": 100.1, \"minus_error\": -465.6, \"error\": 282.8}, {\"age\": \"75-84\", \"income\": \"$450k - $499k\", \"noisy_count\": 180.9, \"true_count\": 0.0, \"plus_error\": 463.7, \"minus_error\": -102.0, \"error\": 282.8}, {\"age\": \"85-94\", \"income\": \"$0k - $49k\", \"noisy_count\": 3439.2, \"true_count\": 3603.0, \"plus_error\": 3722.0, \"minus_error\": 3156.3, \"error\": 282.8}, {\"age\": \"85-94\", \"income\": \"$50k - $99k\", \"noisy_count\": 271.7, \"true_count\": 344.0, \"plus_error\": 361.7, \"minus_error\": 181.6, \"error\": 90.0}, {\"age\": \"85-94\", \"income\": \"$100k - $149k\", \"noisy_count\": -159.7, \"true_count\": 66.0, \"plus_error\": -69.5, \"minus_error\": -250.0, \"error\": 90.3}, {\"age\": \"85-94\", \"income\": \"$150k - $199k\", \"noisy_count\": -126.4, \"true_count\": 13.0, \"plus_error\": 156.5, \"minus_error\": -409.2, \"error\": 282.8}, {\"age\": \"85-94\", \"income\": \"$200k - $249k\", \"noisy_count\": -271.4, \"true_count\": 7.0, \"plus_error\": 11.4, \"minus_error\": -554.2, \"error\": 282.8}, {\"age\": \"85-94\", \"income\": \"$250k - $299k\", \"noisy_count\": 20.6, \"true_count\": 2.0, \"plus_error\": 303.5, \"minus_error\": -262.2, \"error\": 282.8}, {\"age\": \"85-94\", \"income\": \"$300k - $349k\", \"noisy_count\": -182.2, \"true_count\": 1.0, \"plus_error\": 100.6, \"minus_error\": -465.1, \"error\": 282.8}, {\"age\": \"85-94\", \"income\": \"$350k - $399k\", \"noisy_count\": -286.8, \"true_count\": 0.0, \"plus_error\": -3.9, \"minus_error\": -569.6, \"error\": 282.8}, {\"age\": \"85-94\", \"income\": \"$400k - $449k\", \"noisy_count\": 142.0, \"true_count\": 1.0, \"plus_error\": 424.8, \"minus_error\": -140.8, \"error\": 282.8}, {\"age\": \"85-94\", \"income\": \"$450k - $499k\", \"noisy_count\": -322.8, \"true_count\": 0.0, \"plus_error\": -40.0, \"minus_error\": -605.7, \"error\": 282.8}, {\"age\": \"95-104\", \"income\": \"$0k - $49k\", \"noisy_count\": 2506.5, \"true_count\": 2374.0, \"plus_error\": 2789.4, \"minus_error\": 2223.7, \"error\": 282.8}, {\"age\": \"95-104\", \"income\": \"$50k - $99k\", \"noisy_count\": 206.9, \"true_count\": 134.0, \"plus_error\": 296.9, \"minus_error\": 116.8, \"error\": 90.0}, {\"age\": \"95-104\", \"income\": \"$100k - $149k\", \"noisy_count\": 177.4, \"true_count\": 24.0, \"plus_error\": 267.6, \"minus_error\": 87.1, \"error\": 90.3}, {\"age\": \"95-104\", \"income\": \"$150k - $199k\", \"noisy_count\": -76.9, \"true_count\": 10.0, \"plus_error\": 206.0, \"minus_error\": -359.7, \"error\": 282.8}, {\"age\": \"95-104\", \"income\": \"$200k - $249k\", \"noisy_count\": -361.4, \"true_count\": 3.0, \"plus_error\": -78.6, \"minus_error\": -644.3, \"error\": 282.8}, {\"age\": \"95-104\", \"income\": \"$250k - $299k\", \"noisy_count\": -314.0, \"true_count\": 0.0, \"plus_error\": -31.2, \"minus_error\": -596.9, \"error\": 282.8}, {\"age\": \"95-104\", \"income\": \"$300k - $349k\", \"noisy_count\": -257.1, \"true_count\": 0.0, \"plus_error\": 25.7, \"minus_error\": -539.9, \"error\": 282.8}, {\"age\": \"95-104\", \"income\": \"$350k - $399k\", \"noisy_count\": 49.7, \"true_count\": 0.0, \"plus_error\": 332.5, \"minus_error\": -233.1, \"error\": 282.8}, {\"age\": \"95-104\", \"income\": \"$400k - $449k\", \"noisy_count\": -326.1, \"true_count\": 0.0, \"plus_error\": -43.3, \"minus_error\": -609.0, \"error\": 282.8}, {\"age\": \"95-104\", \"income\": \"$450k - $499k\", \"noisy_count\": 205.2, \"true_count\": 0.0, \"plus_error\": 488.1, \"minus_error\": -77.6, \"error\": 282.8}, {\"age\": \"105-114\", \"income\": \"$0k - $49k\", \"noisy_count\": 1194.2, \"true_count\": 1319.0, \"plus_error\": 1293.8, \"minus_error\": 1094.5, \"error\": 99.7}, {\"age\": \"105-114\", \"income\": \"$50k - $99k\", \"noisy_count\": 92.4, \"true_count\": 67.0, \"plus_error\": 124.1, \"minus_error\": 60.7, \"error\": 31.7}, {\"age\": \"105-114\", \"income\": \"$100k - $149k\", \"noisy_count\": 13.1, \"true_count\": 10.0, \"plus_error\": 44.9, \"minus_error\": -18.7, \"error\": 31.8}, {\"age\": \"105-114\", \"income\": \"$150k - $199k\", \"noisy_count\": -36.0, \"true_count\": 5.0, \"plus_error\": 63.6, \"minus_error\": -135.7, \"error\": 99.7}, {\"age\": \"105-114\", \"income\": \"$200k - $249k\", \"noisy_count\": -48.8, \"true_count\": 0.0, \"plus_error\": 50.8, \"minus_error\": -148.5, \"error\": 99.7}, {\"age\": \"105-114\", \"income\": \"$250k - $299k\", \"noisy_count\": -11.3, \"true_count\": 0.0, \"plus_error\": 88.3, \"minus_error\": -111.0, \"error\": 99.7}, {\"age\": \"105-114\", \"income\": \"$300k - $349k\", \"noisy_count\": -81.8, \"true_count\": 0.0, \"plus_error\": 17.8, \"minus_error\": -181.5, \"error\": 99.7}, {\"age\": \"105-114\", \"income\": \"$350k - $399k\", \"noisy_count\": -41.7, \"true_count\": 0.0, \"plus_error\": 58.0, \"minus_error\": -141.3, \"error\": 99.7}, {\"age\": \"105-114\", \"income\": \"$400k - $449k\", \"noisy_count\": 162.4, \"true_count\": 0.0, \"plus_error\": 262.0, \"minus_error\": 62.7, \"error\": 99.7}, {\"age\": \"105-114\", \"income\": \"$450k - $499k\", \"noisy_count\": 36.9, \"true_count\": 0.0, \"plus_error\": 136.6, \"minus_error\": -62.7, \"error\": 99.7}]}}, {\"mode\": \"vega-lite\"});\n",
       "</script>"
      ],
      "text/plain": [
       "alt.HConcatChart(...)"
      ]
     },
     "metadata": {},
     "output_type": "display_data"
    },
    {
     "data": {
      "application/vnd.jupyter.widget-view+json": {
       "model_id": "6bf61fadb6c248409d8b7d5e627364bd",
       "version_major": 2,
       "version_minor": 0
      },
      "text/plain": [
       "VBox(children=(Output(),))"
      ]
     },
     "metadata": {},
     "output_type": "display_data"
    },
    {
     "data": {
      "application/vnd.jupyter.widget-view+json": {
       "model_id": "72b6c8f6ab2341ba98cb4dae475bbbaf",
       "version_major": 2,
       "version_minor": 0
      },
      "text/plain": [
       "VBox(children=(VBox(children=(Textarea(value='', description='Answer:', layout=Layout(height='40px', width='30…"
      ]
     },
     "metadata": {},
     "output_type": "display_data"
    },
    {
     "data": {
      "application/vnd.jupyter.widget-view+json": {
       "model_id": "2b5290e5905a4c1288d7b87adcd732d9",
       "version_major": 2,
       "version_minor": 0
      },
      "text/plain": [
       "HBox(children=(Label(value='Remeasure Used'), FloatProgress(value=0.0, description='0/10', max=10.0, style=Pro…"
      ]
     },
     "metadata": {},
     "output_type": "display_data"
    },
    {
     "data": {
      "application/vnd.jupyter.widget-view+json": {
       "model_id": "e0bd097eb44c4e65ae877000293c2ff6",
       "version_major": 2,
       "version_minor": 0
      },
      "text/plain": [
       "HBox(children=(Textarea(value='Question 3/6: What is the second most common marital status of people with inco…"
      ]
     },
     "metadata": {},
     "output_type": "display_data"
    },
    {
     "data": {
      "text/html": [
       "\n",
       "<div id=\"altair-viz-7d3960bcfa7c4406afd7b2ff77db5d5e\"></div>\n",
       "<script type=\"text/javascript\">\n",
       "  var VEGA_DEBUG = (typeof VEGA_DEBUG == \"undefined\") ? {} : VEGA_DEBUG;\n",
       "  (function(spec, embedOpt){\n",
       "    let outputDiv = document.currentScript.previousElementSibling;\n",
       "    if (outputDiv.id !== \"altair-viz-7d3960bcfa7c4406afd7b2ff77db5d5e\") {\n",
       "      outputDiv = document.getElementById(\"altair-viz-7d3960bcfa7c4406afd7b2ff77db5d5e\");\n",
       "    }\n",
       "    const paths = {\n",
       "      \"vega\": \"https://cdn.jsdelivr.net/npm//vega@5?noext\",\n",
       "      \"vega-lib\": \"https://cdn.jsdelivr.net/npm//vega-lib?noext\",\n",
       "      \"vega-lite\": \"https://cdn.jsdelivr.net/npm//vega-lite@4.17.0?noext\",\n",
       "      \"vega-embed\": \"https://cdn.jsdelivr.net/npm//vega-embed@6?noext\",\n",
       "    };\n",
       "\n",
       "    function maybeLoadScript(lib, version) {\n",
       "      var key = `${lib.replace(\"-\", \"\")}_version`;\n",
       "      return (VEGA_DEBUG[key] == version) ?\n",
       "        Promise.resolve(paths[lib]) :\n",
       "        new Promise(function(resolve, reject) {\n",
       "          var s = document.createElement('script');\n",
       "          document.getElementsByTagName(\"head\")[0].appendChild(s);\n",
       "          s.async = true;\n",
       "          s.onload = () => {\n",
       "            VEGA_DEBUG[key] = version;\n",
       "            return resolve(paths[lib]);\n",
       "          };\n",
       "          s.onerror = () => reject(`Error loading script: ${paths[lib]}`);\n",
       "          s.src = paths[lib];\n",
       "        });\n",
       "    }\n",
       "\n",
       "    function showError(err) {\n",
       "      outputDiv.innerHTML = `<div class=\"error\" style=\"color:red;\">${err}</div>`;\n",
       "      throw err;\n",
       "    }\n",
       "\n",
       "    function displayChart(vegaEmbed) {\n",
       "      vegaEmbed(outputDiv, spec, embedOpt)\n",
       "        .catch(err => showError(`Javascript Error: ${err.message}<br>This usually means there's a typo in your chart specification. See the javascript console for the full traceback.`));\n",
       "    }\n",
       "\n",
       "    if(typeof define === \"function\" && define.amd) {\n",
       "      requirejs.config({paths});\n",
       "      require([\"vega-embed\"], displayChart, err => showError(`Error loading script: ${err.message}`));\n",
       "    } else {\n",
       "      maybeLoadScript(\"vega\", \"5\")\n",
       "        .then(() => maybeLoadScript(\"vega-lite\", \"4.17.0\"))\n",
       "        .then(() => maybeLoadScript(\"vega-embed\", \"6\"))\n",
       "        .catch(showError)\n",
       "        .then(() => displayChart(vegaEmbed));\n",
       "    }\n",
       "  })({\"config\": {\"view\": {\"continuousWidth\": 400, \"continuousHeight\": 300}, \"axis\": {\"labelFontSize\": 11, \"titleFontSize\": 15}, \"axisBottom\": {\"labelAngle\": 60}}, \"hconcat\": [{\"layer\": [{\"mark\": \"bar\", \"encoding\": {\"color\": {\"value\": \"transparent\"}, \"tooltip\": [{\"aggregate\": \"sum\", \"field\": \"noisy_count\", \"title\": \"noisy count\", \"type\": \"quantitative\"}, {\"aggregate\": \"sum\", \"field\": \"error\", \"title\": \"error\", \"type\": \"quantitative\"}], \"x\": {\"field\": \"income\", \"sort\": null, \"type\": \"ordinal\"}}, \"height\": 300, \"selection\": {\"selector005\": {\"type\": \"interval\", \"encodings\": [\"x\"]}}, \"transform\": [{\"filter\": {\"selection\": \"selector006\"}}], \"width\": 450}, {\"mark\": {\"type\": \"bar\", \"color\": \"#4C7FFF\", \"opacity\": 0.7}, \"encoding\": {\"x\": {\"field\": \"income\", \"sort\": null, \"type\": \"ordinal\"}, \"y\": {\"aggregate\": \"sum\", \"field\": \"noisy_count\", \"type\": \"quantitative\"}}, \"transform\": [{\"filter\": {\"selection\": \"selector006\"}}]}, {\"mark\": {\"type\": \"tick\", \"color\": \"black\", \"width\": 0}, \"encoding\": {\"x\": {\"field\": \"income\", \"sort\": null, \"type\": \"ordinal\"}, \"y\": {\"aggregate\": \"sum\", \"field\": \"plus_error\", \"type\": \"quantitative\"}}, \"transform\": [{\"filter\": {\"selection\": \"selector006\"}}]}, {\"mark\": {\"type\": \"tick\", \"color\": \"black\", \"width\": 0}, \"encoding\": {\"x\": {\"field\": \"income\", \"sort\": null, \"type\": \"ordinal\"}, \"y\": {\"aggregate\": \"sum\", \"field\": \"minus_error\", \"type\": \"quantitative\"}}, \"transform\": [{\"filter\": {\"selection\": \"selector006\"}}]}, {\"mark\": {\"type\": \"point\", \"color\": \"black\"}, \"encoding\": {\"x\": {\"field\": \"income\", \"sort\": null, \"type\": \"ordinal\"}, \"y\": {\"aggregate\": \"sum\", \"field\": \"noisy_count\", \"title\": \"Noisy Count\", \"type\": \"quantitative\"}}, \"transform\": [{\"filter\": {\"selection\": \"selector006\"}}]}, {\"mark\": {\"type\": \"rule\", \"size\": 4}, \"encoding\": {\"x\": {\"field\": \"income\", \"sort\": null, \"type\": \"ordinal\"}, \"y\": {\"aggregate\": \"sum\", \"field\": \"plus_error\", \"title\": \"\", \"type\": \"quantitative\"}, \"y2\": {\"aggregate\": \"sum\", \"field\": \"minus_error\", \"title\": \"\"}}, \"transform\": [{\"filter\": {\"selection\": \"selector006\"}}]}]}, {\"layer\": [{\"mark\": \"bar\", \"encoding\": {\"color\": {\"value\": \"transparent\"}, \"tooltip\": [{\"aggregate\": \"sum\", \"field\": \"noisy_count\", \"title\": \"noisy count\", \"type\": \"quantitative\"}, {\"aggregate\": \"sum\", \"field\": \"error\", \"title\": \"error\", \"type\": \"quantitative\"}], \"x\": {\"field\": \"marital\", \"sort\": null, \"type\": \"ordinal\"}}, \"height\": 300, \"selection\": {\"selector006\": {\"type\": \"interval\", \"encodings\": [\"x\"]}}, \"transform\": [{\"filter\": {\"selection\": \"selector005\"}}], \"width\": 450}, {\"mark\": {\"type\": \"bar\", \"color\": \"#4C7FFF\", \"opacity\": 0.7}, \"encoding\": {\"x\": {\"field\": \"marital\", \"sort\": null, \"type\": \"ordinal\"}, \"y\": {\"aggregate\": \"sum\", \"field\": \"noisy_count\", \"type\": \"quantitative\"}}, \"transform\": [{\"filter\": {\"selection\": \"selector005\"}}]}, {\"mark\": {\"type\": \"tick\", \"color\": \"black\", \"width\": 0}, \"encoding\": {\"x\": {\"field\": \"marital\", \"sort\": null, \"type\": \"ordinal\"}, \"y\": {\"aggregate\": \"sum\", \"field\": \"plus_error\", \"type\": \"quantitative\"}}, \"transform\": [{\"filter\": {\"selection\": \"selector005\"}}]}, {\"mark\": {\"type\": \"tick\", \"color\": \"black\", \"width\": 0}, \"encoding\": {\"x\": {\"field\": \"marital\", \"sort\": null, \"type\": \"ordinal\"}, \"y\": {\"aggregate\": \"sum\", \"field\": \"minus_error\", \"type\": \"quantitative\"}}, \"transform\": [{\"filter\": {\"selection\": \"selector005\"}}]}, {\"mark\": {\"type\": \"point\", \"color\": \"black\"}, \"encoding\": {\"x\": {\"field\": \"marital\", \"sort\": null, \"type\": \"ordinal\"}, \"y\": {\"aggregate\": \"sum\", \"field\": \"noisy_count\", \"title\": \"Noisy Count\", \"type\": \"quantitative\"}}, \"transform\": [{\"filter\": {\"selection\": \"selector005\"}}]}, {\"mark\": {\"type\": \"rule\", \"size\": 4}, \"encoding\": {\"x\": {\"field\": \"marital\", \"sort\": null, \"type\": \"ordinal\"}, \"y\": {\"aggregate\": \"sum\", \"field\": \"plus_error\", \"title\": \"\", \"type\": \"quantitative\"}, \"y2\": {\"aggregate\": \"sum\", \"field\": \"minus_error\", \"title\": \"\"}}, \"transform\": [{\"filter\": {\"selection\": \"selector005\"}}]}]}], \"data\": {\"name\": \"data-6c105c907ae35aaa87945a5d50fa562d\"}, \"$schema\": \"https://vega.github.io/schema/vega-lite/v4.17.0.json\", \"datasets\": {\"data-6c105c907ae35aaa87945a5d50fa562d\": [{\"income\": \"$0k - $49k\", \"marital\": \"Married\", \"noisy_count\": 18693.5, \"true_count\": 18732.0, \"plus_error\": 18721.9, \"minus_error\": 18665.1, \"error\": 28.4}, {\"income\": \"$0k - $49k\", \"marital\": \"Absent\", \"noisy_count\": 65.6, \"true_count\": 91.0, \"plus_error\": 94.0, \"minus_error\": 37.2, \"error\": 28.4}, {\"income\": \"$0k - $49k\", \"marital\": \"Separated\", \"noisy_count\": 619.2, \"true_count\": 622.0, \"plus_error\": 647.6, \"minus_error\": 590.8, \"error\": 28.4}, {\"income\": \"$0k - $49k\", \"marital\": \"Widowed\", \"noisy_count\": 4403.1, \"true_count\": 4450.0, \"plus_error\": 4431.4, \"minus_error\": 4374.7, \"error\": 28.4}, {\"income\": \"$0k - $49k\", \"marital\": \"Divorced\", \"noisy_count\": 6063.8, \"true_count\": 6076.0, \"plus_error\": 6092.2, \"minus_error\": 6035.4, \"error\": 28.4}, {\"income\": \"$0k - $49k\", \"marital\": \"Divorced/Widowed\", \"noisy_count\": 1320.2, \"true_count\": 1315.0, \"plus_error\": 1348.6, \"minus_error\": 1291.8, \"error\": 28.4}, {\"income\": \"$0k - $49k\", \"marital\": \"Never Married\", \"noisy_count\": 7638.8, \"true_count\": 7665.0, \"plus_error\": 7667.2, \"minus_error\": 7610.4, \"error\": 28.4}, {\"income\": \"$50k - $99k\", \"marital\": \"Married\", \"noisy_count\": 6718.8, \"true_count\": 6704.0, \"plus_error\": 6748.3, \"minus_error\": 6689.3, \"error\": 29.5}, {\"income\": \"$50k - $99k\", \"marital\": \"Absent\", \"noisy_count\": -13.8, \"true_count\": 24.0, \"plus_error\": 15.7, \"minus_error\": -43.3, \"error\": 29.5}, {\"income\": \"$50k - $99k\", \"marital\": \"Separated\", \"noisy_count\": 108.1, \"true_count\": 76.0, \"plus_error\": 137.6, \"minus_error\": 78.6, \"error\": 29.5}, {\"income\": \"$50k - $99k\", \"marital\": \"Widowed\", \"noisy_count\": 279.1, \"true_count\": 250.0, \"plus_error\": 308.6, \"minus_error\": 249.6, \"error\": 29.5}, {\"income\": \"$50k - $99k\", \"marital\": \"Divorced\", \"noisy_count\": 627.1, \"true_count\": 650.0, \"plus_error\": 656.6, \"minus_error\": 597.6, \"error\": 29.5}, {\"income\": \"$50k - $99k\", \"marital\": \"Divorced/Widowed\", \"noisy_count\": 132.3, \"true_count\": 75.0, \"plus_error\": 161.8, \"minus_error\": 102.8, \"error\": 29.5}, {\"income\": \"$50k - $99k\", \"marital\": \"Never Married\", \"noisy_count\": 739.2, \"true_count\": 748.0, \"plus_error\": 768.7, \"minus_error\": 709.7, \"error\": 29.5}, {\"income\": \"$100k - $149k\", \"marital\": \"Married\", \"noisy_count\": 771.3, \"true_count\": 937.0, \"plus_error\": 860.7, \"minus_error\": 681.8, \"error\": 89.4}, {\"income\": \"$100k - $149k\", \"marital\": \"Absent\", \"noisy_count\": -43.6, \"true_count\": 2.0, \"plus_error\": 45.9, \"minus_error\": -133.0, \"error\": 89.4}, {\"income\": \"$100k - $149k\", \"marital\": \"Separated\", \"noisy_count\": 140.0, \"true_count\": 8.0, \"plus_error\": 229.4, \"minus_error\": 50.5, \"error\": 89.4}, {\"income\": \"$100k - $149k\", \"marital\": \"Widowed\", \"noisy_count\": 49.2, \"true_count\": 22.0, \"plus_error\": 138.6, \"minus_error\": -40.3, \"error\": 89.4}, {\"income\": \"$100k - $149k\", \"marital\": \"Divorced\", \"noisy_count\": -3.4, \"true_count\": 78.0, \"plus_error\": 86.1, \"minus_error\": -92.8, \"error\": 89.4}, {\"income\": \"$100k - $149k\", \"marital\": \"Divorced/Widowed\", \"noisy_count\": -87.1, \"true_count\": 7.0, \"plus_error\": 2.3, \"minus_error\": -176.6, \"error\": 89.4}, {\"income\": \"$100k - $149k\", \"marital\": \"Never Married\", \"noisy_count\": -79.0, \"true_count\": 95.0, \"plus_error\": 10.5, \"minus_error\": -168.4, \"error\": 89.4}, {\"income\": \"$150k - $199k\", \"marital\": \"Married\", \"noisy_count\": 446.8, \"true_count\": 524.0, \"plus_error\": 536.3, \"minus_error\": 357.4, \"error\": 89.4}, {\"income\": \"$150k - $199k\", \"marital\": \"Absent\", \"noisy_count\": -25.9, \"true_count\": 0.0, \"plus_error\": 63.6, \"minus_error\": -115.3, \"error\": 89.4}, {\"income\": \"$150k - $199k\", \"marital\": \"Separated\", \"noisy_count\": -24.4, \"true_count\": 4.0, \"plus_error\": 65.0, \"minus_error\": -113.9, \"error\": 89.4}, {\"income\": \"$150k - $199k\", \"marital\": \"Widowed\", \"noisy_count\": 129.9, \"true_count\": 7.0, \"plus_error\": 219.4, \"minus_error\": 40.5, \"error\": 89.4}, {\"income\": \"$150k - $199k\", \"marital\": \"Divorced\", \"noisy_count\": -42.7, \"true_count\": 27.0, \"plus_error\": 46.7, \"minus_error\": -132.2, \"error\": 89.4}, {\"income\": \"$150k - $199k\", \"marital\": \"Divorced/Widowed\", \"noisy_count\": -5.1, \"true_count\": 3.0, \"plus_error\": 84.3, \"minus_error\": -94.6, \"error\": 89.4}, {\"income\": \"$150k - $199k\", \"marital\": \"Never Married\", \"noisy_count\": 32.3, \"true_count\": 44.0, \"plus_error\": 121.8, \"minus_error\": -57.1, \"error\": 89.4}, {\"income\": \"$200k - $249k\", \"marital\": \"Married\", \"noisy_count\": 111.6, \"true_count\": 111.0, \"plus_error\": 201.1, \"minus_error\": 22.2, \"error\": 89.4}, {\"income\": \"$200k - $249k\", \"marital\": \"Absent\", \"noisy_count\": 9.1, \"true_count\": 0.0, \"plus_error\": 98.5, \"minus_error\": -80.4, \"error\": 89.4}, {\"income\": \"$200k - $249k\", \"marital\": \"Separated\", \"noisy_count\": -40.8, \"true_count\": 1.0, \"plus_error\": 48.6, \"minus_error\": -130.3, \"error\": 89.4}, {\"income\": \"$200k - $249k\", \"marital\": \"Widowed\", \"noisy_count\": 54.2, \"true_count\": 4.0, \"plus_error\": 143.6, \"minus_error\": -35.3, \"error\": 89.4}, {\"income\": \"$200k - $249k\", \"marital\": \"Divorced\", \"noisy_count\": 53.7, \"true_count\": 13.0, \"plus_error\": 143.1, \"minus_error\": -35.7, \"error\": 89.4}, {\"income\": \"$200k - $249k\", \"marital\": \"Divorced/Widowed\", \"noisy_count\": -224.9, \"true_count\": 3.0, \"plus_error\": -135.5, \"minus_error\": -314.4, \"error\": 89.4}, {\"income\": \"$200k - $249k\", \"marital\": \"Never Married\", \"noisy_count\": -171.3, \"true_count\": 5.0, \"plus_error\": -81.8, \"minus_error\": -260.7, \"error\": 89.4}, {\"income\": \"$250k - $299k\", \"marital\": \"Married\", \"noisy_count\": 147.0, \"true_count\": 41.0, \"plus_error\": 236.5, \"minus_error\": 57.6, \"error\": 89.4}, {\"income\": \"$250k - $299k\", \"marital\": \"Absent\", \"noisy_count\": 57.3, \"true_count\": 0.0, \"plus_error\": 146.8, \"minus_error\": -32.1, \"error\": 89.4}, {\"income\": \"$250k - $299k\", \"marital\": \"Separated\", \"noisy_count\": 46.4, \"true_count\": 0.0, \"plus_error\": 135.8, \"minus_error\": -43.1, \"error\": 89.4}, {\"income\": \"$250k - $299k\", \"marital\": \"Widowed\", \"noisy_count\": -39.5, \"true_count\": 0.0, \"plus_error\": 49.9, \"minus_error\": -129.0, \"error\": 89.4}, {\"income\": \"$250k - $299k\", \"marital\": \"Divorced\", \"noisy_count\": 99.9, \"true_count\": 5.0, \"plus_error\": 189.4, \"minus_error\": 10.5, \"error\": 89.4}, {\"income\": \"$250k - $299k\", \"marital\": \"Divorced/Widowed\", \"noisy_count\": 117.1, \"true_count\": 0.0, \"plus_error\": 206.6, \"minus_error\": 27.7, \"error\": 89.4}, {\"income\": \"$250k - $299k\", \"marital\": \"Never Married\", \"noisy_count\": -41.0, \"true_count\": 0.0, \"plus_error\": 48.5, \"minus_error\": -130.4, \"error\": 89.4}, {\"income\": \"$300k - $349k\", \"marital\": \"Married\", \"noisy_count\": 3.8, \"true_count\": 11.0, \"plus_error\": 93.2, \"minus_error\": -85.6, \"error\": 89.4}, {\"income\": \"$300k - $349k\", \"marital\": \"Absent\", \"noisy_count\": 68.9, \"true_count\": 0.0, \"plus_error\": 158.3, \"minus_error\": -20.5, \"error\": 89.4}, {\"income\": \"$300k - $349k\", \"marital\": \"Separated\", \"noisy_count\": -68.3, \"true_count\": 0.0, \"plus_error\": 21.1, \"minus_error\": -157.8, \"error\": 89.4}, {\"income\": \"$300k - $349k\", \"marital\": \"Widowed\", \"noisy_count\": -2.2, \"true_count\": 0.0, \"plus_error\": 87.2, \"minus_error\": -91.6, \"error\": 89.4}, {\"income\": \"$300k - $349k\", \"marital\": \"Divorced\", \"noisy_count\": 39.9, \"true_count\": 1.0, \"plus_error\": 129.4, \"minus_error\": -49.5, \"error\": 89.4}, {\"income\": \"$300k - $349k\", \"marital\": \"Divorced/Widowed\", \"noisy_count\": -106.3, \"true_count\": 0.0, \"plus_error\": -16.8, \"minus_error\": -195.7, \"error\": 89.4}, {\"income\": \"$300k - $349k\", \"marital\": \"Never Married\", \"noisy_count\": 29.9, \"true_count\": 0.0, \"plus_error\": 119.3, \"minus_error\": -59.5, \"error\": 89.4}, {\"income\": \"$350k - $399k\", \"marital\": \"Married\", \"noisy_count\": 7.5, \"true_count\": 2.0, \"plus_error\": 97.0, \"minus_error\": -81.9, \"error\": 89.4}, {\"income\": \"$350k - $399k\", \"marital\": \"Absent\", \"noisy_count\": 120.1, \"true_count\": 0.0, \"plus_error\": 209.6, \"minus_error\": 30.7, \"error\": 89.4}, {\"income\": \"$350k - $399k\", \"marital\": \"Separated\", \"noisy_count\": 27.6, \"true_count\": 0.0, \"plus_error\": 117.1, \"minus_error\": -61.8, \"error\": 89.4}, {\"income\": \"$350k - $399k\", \"marital\": \"Widowed\", \"noisy_count\": 111.3, \"true_count\": 0.0, \"plus_error\": 200.8, \"minus_error\": 21.9, \"error\": 89.4}, {\"income\": \"$350k - $399k\", \"marital\": \"Divorced\", \"noisy_count\": -102.4, \"true_count\": 0.0, \"plus_error\": -13.0, \"minus_error\": -191.8, \"error\": 89.4}, {\"income\": \"$350k - $399k\", \"marital\": \"Divorced/Widowed\", \"noisy_count\": 35.1, \"true_count\": 0.0, \"plus_error\": 124.5, \"minus_error\": -54.4, \"error\": 89.4}, {\"income\": \"$350k - $399k\", \"marital\": \"Never Married\", \"noisy_count\": -49.1, \"true_count\": 0.0, \"plus_error\": 40.4, \"minus_error\": -138.5, \"error\": 89.4}, {\"income\": \"$400k - $449k\", \"marital\": \"Married\", \"noisy_count\": -172.3, \"true_count\": 2.0, \"plus_error\": -82.9, \"minus_error\": -261.8, \"error\": 89.4}, {\"income\": \"$400k - $449k\", \"marital\": \"Absent\", \"noisy_count\": -86.7, \"true_count\": 0.0, \"plus_error\": 2.7, \"minus_error\": -176.2, \"error\": 89.4}, {\"income\": \"$400k - $449k\", \"marital\": \"Separated\", \"noisy_count\": 105.7, \"true_count\": 0.0, \"plus_error\": 195.1, \"minus_error\": 16.2, \"error\": 89.4}, {\"income\": \"$400k - $449k\", \"marital\": \"Widowed\", \"noisy_count\": 67.3, \"true_count\": 0.0, \"plus_error\": 156.7, \"minus_error\": -22.1, \"error\": 89.4}, {\"income\": \"$400k - $449k\", \"marital\": \"Divorced\", \"noisy_count\": -21.6, \"true_count\": 0.0, \"plus_error\": 67.9, \"minus_error\": -111.0, \"error\": 89.4}, {\"income\": \"$400k - $449k\", \"marital\": \"Divorced/Widowed\", \"noisy_count\": -71.5, \"true_count\": 0.0, \"plus_error\": 17.9, \"minus_error\": -160.9, \"error\": 89.4}, {\"income\": \"$400k - $449k\", \"marital\": \"Never Married\", \"noisy_count\": 26.9, \"true_count\": 0.0, \"plus_error\": 116.4, \"minus_error\": -62.5, \"error\": 89.4}, {\"income\": \"$450k - $499k\", \"marital\": \"Married\", \"noisy_count\": -27.5, \"true_count\": 1.0, \"plus_error\": 61.9, \"minus_error\": -117.0, \"error\": 89.4}, {\"income\": \"$450k - $499k\", \"marital\": \"Absent\", \"noisy_count\": 39.6, \"true_count\": 0.0, \"plus_error\": 129.1, \"minus_error\": -49.8, \"error\": 89.4}, {\"income\": \"$450k - $499k\", \"marital\": \"Separated\", \"noisy_count\": 3.3, \"true_count\": 0.0, \"plus_error\": 92.8, \"minus_error\": -86.1, \"error\": 89.4}, {\"income\": \"$450k - $499k\", \"marital\": \"Widowed\", \"noisy_count\": 23.0, \"true_count\": 0.0, \"plus_error\": 112.4, \"minus_error\": -66.5, \"error\": 89.4}, {\"income\": \"$450k - $499k\", \"marital\": \"Divorced\", \"noisy_count\": 8.7, \"true_count\": 0.0, \"plus_error\": 98.1, \"minus_error\": -80.7, \"error\": 89.4}, {\"income\": \"$450k - $499k\", \"marital\": \"Divorced/Widowed\", \"noisy_count\": 113.6, \"true_count\": 0.0, \"plus_error\": 203.0, \"minus_error\": 24.1, \"error\": 89.4}, {\"income\": \"$450k - $499k\", \"marital\": \"Never Married\", \"noisy_count\": -159.6, \"true_count\": 0.0, \"plus_error\": -70.2, \"minus_error\": -249.0, \"error\": 89.4}]}}, {\"mode\": \"vega-lite\"});\n",
       "</script>"
      ],
      "text/plain": [
       "alt.HConcatChart(...)"
      ]
     },
     "metadata": {},
     "output_type": "display_data"
    },
    {
     "data": {
      "application/vnd.jupyter.widget-view+json": {
       "model_id": "5a1f4a4008d14f87aff93f51f35dc4a6",
       "version_major": 2,
       "version_minor": 0
      },
      "text/plain": [
       "VBox(children=(Output(),))"
      ]
     },
     "metadata": {},
     "output_type": "display_data"
    },
    {
     "data": {
      "application/vnd.jupyter.widget-view+json": {
       "model_id": "c0907b7a744c42aa82ff5460d35ecee4",
       "version_major": 2,
       "version_minor": 0
      },
      "text/plain": [
       "VBox(children=(VBox(children=(Textarea(value='', description='Answer:', layout=Layout(height='40px', width='30…"
      ]
     },
     "metadata": {},
     "output_type": "display_data"
    },
    {
     "data": {
      "application/vnd.jupyter.widget-view+json": {
       "model_id": "ddb9b474d7a54eee8ca0ebb615f3fb45",
       "version_major": 2,
       "version_minor": 0
      },
      "text/plain": [
       "HBox(children=(Label(value='Remeasure Used'), FloatProgress(value=0.0, description='0/10', max=10.0, style=Pro…"
      ]
     },
     "metadata": {},
     "output_type": "display_data"
    },
    {
     "data": {
      "application/vnd.jupyter.widget-view+json": {
       "model_id": "0bb9eb77a20b4fc5909c1e3ef3f46126",
       "version_major": 2,
       "version_minor": 0
      },
      "text/plain": [
       "HBox(children=(Textarea(value=\"Question 4/6: Choose the top 3 age groups that have marital status: 'Never Marr…"
      ]
     },
     "metadata": {},
     "output_type": "display_data"
    },
    {
     "data": {
      "text/html": [
       "\n",
       "<div id=\"altair-viz-dcfa43319f464744831c6613de94455e\"></div>\n",
       "<script type=\"text/javascript\">\n",
       "  var VEGA_DEBUG = (typeof VEGA_DEBUG == \"undefined\") ? {} : VEGA_DEBUG;\n",
       "  (function(spec, embedOpt){\n",
       "    let outputDiv = document.currentScript.previousElementSibling;\n",
       "    if (outputDiv.id !== \"altair-viz-dcfa43319f464744831c6613de94455e\") {\n",
       "      outputDiv = document.getElementById(\"altair-viz-dcfa43319f464744831c6613de94455e\");\n",
       "    }\n",
       "    const paths = {\n",
       "      \"vega\": \"https://cdn.jsdelivr.net/npm//vega@5?noext\",\n",
       "      \"vega-lib\": \"https://cdn.jsdelivr.net/npm//vega-lib?noext\",\n",
       "      \"vega-lite\": \"https://cdn.jsdelivr.net/npm//vega-lite@4.17.0?noext\",\n",
       "      \"vega-embed\": \"https://cdn.jsdelivr.net/npm//vega-embed@6?noext\",\n",
       "    };\n",
       "\n",
       "    function maybeLoadScript(lib, version) {\n",
       "      var key = `${lib.replace(\"-\", \"\")}_version`;\n",
       "      return (VEGA_DEBUG[key] == version) ?\n",
       "        Promise.resolve(paths[lib]) :\n",
       "        new Promise(function(resolve, reject) {\n",
       "          var s = document.createElement('script');\n",
       "          document.getElementsByTagName(\"head\")[0].appendChild(s);\n",
       "          s.async = true;\n",
       "          s.onload = () => {\n",
       "            VEGA_DEBUG[key] = version;\n",
       "            return resolve(paths[lib]);\n",
       "          };\n",
       "          s.onerror = () => reject(`Error loading script: ${paths[lib]}`);\n",
       "          s.src = paths[lib];\n",
       "        });\n",
       "    }\n",
       "\n",
       "    function showError(err) {\n",
       "      outputDiv.innerHTML = `<div class=\"error\" style=\"color:red;\">${err}</div>`;\n",
       "      throw err;\n",
       "    }\n",
       "\n",
       "    function displayChart(vegaEmbed) {\n",
       "      vegaEmbed(outputDiv, spec, embedOpt)\n",
       "        .catch(err => showError(`Javascript Error: ${err.message}<br>This usually means there's a typo in your chart specification. See the javascript console for the full traceback.`));\n",
       "    }\n",
       "\n",
       "    if(typeof define === \"function\" && define.amd) {\n",
       "      requirejs.config({paths});\n",
       "      require([\"vega-embed\"], displayChart, err => showError(`Error loading script: ${err.message}`));\n",
       "    } else {\n",
       "      maybeLoadScript(\"vega\", \"5\")\n",
       "        .then(() => maybeLoadScript(\"vega-lite\", \"4.17.0\"))\n",
       "        .then(() => maybeLoadScript(\"vega-embed\", \"6\"))\n",
       "        .catch(showError)\n",
       "        .then(() => displayChart(vegaEmbed));\n",
       "    }\n",
       "  })({\"config\": {\"view\": {\"continuousWidth\": 400, \"continuousHeight\": 300}, \"axis\": {\"labelFontSize\": 11, \"titleFontSize\": 15}, \"axisBottom\": {\"labelAngle\": 60}}, \"hconcat\": [{\"layer\": [{\"mark\": \"bar\", \"encoding\": {\"color\": {\"value\": \"transparent\"}, \"tooltip\": [{\"aggregate\": \"sum\", \"field\": \"noisy_count\", \"title\": \"noisy count\", \"type\": \"quantitative\"}, {\"aggregate\": \"sum\", \"field\": \"error\", \"title\": \"error\", \"type\": \"quantitative\"}], \"x\": {\"field\": \"age\", \"sort\": null, \"type\": \"ordinal\"}}, \"height\": 300, \"selection\": {\"selector007\": {\"type\": \"interval\", \"encodings\": [\"x\"]}}, \"transform\": [{\"filter\": {\"selection\": \"selector008\"}}], \"width\": 450}, {\"mark\": {\"type\": \"bar\", \"color\": \"#4C7FFF\", \"opacity\": 0.7}, \"encoding\": {\"x\": {\"field\": \"age\", \"sort\": null, \"type\": \"ordinal\"}, \"y\": {\"aggregate\": \"sum\", \"field\": \"noisy_count\", \"type\": \"quantitative\"}}, \"transform\": [{\"filter\": {\"selection\": \"selector008\"}}]}, {\"mark\": {\"type\": \"tick\", \"color\": \"black\", \"width\": 0}, \"encoding\": {\"x\": {\"field\": \"age\", \"sort\": null, \"type\": \"ordinal\"}, \"y\": {\"aggregate\": \"sum\", \"field\": \"plus_error\", \"type\": \"quantitative\"}}, \"transform\": [{\"filter\": {\"selection\": \"selector008\"}}]}, {\"mark\": {\"type\": \"tick\", \"color\": \"black\", \"width\": 0}, \"encoding\": {\"x\": {\"field\": \"age\", \"sort\": null, \"type\": \"ordinal\"}, \"y\": {\"aggregate\": \"sum\", \"field\": \"minus_error\", \"type\": \"quantitative\"}}, \"transform\": [{\"filter\": {\"selection\": \"selector008\"}}]}, {\"mark\": {\"type\": \"point\", \"color\": \"black\"}, \"encoding\": {\"x\": {\"field\": \"age\", \"sort\": null, \"type\": \"ordinal\"}, \"y\": {\"aggregate\": \"sum\", \"field\": \"noisy_count\", \"title\": \"Noisy Count\", \"type\": \"quantitative\"}}, \"transform\": [{\"filter\": {\"selection\": \"selector008\"}}]}, {\"mark\": {\"type\": \"rule\", \"size\": 4}, \"encoding\": {\"x\": {\"field\": \"age\", \"sort\": null, \"type\": \"ordinal\"}, \"y\": {\"aggregate\": \"sum\", \"field\": \"plus_error\", \"title\": \"\", \"type\": \"quantitative\"}, \"y2\": {\"aggregate\": \"sum\", \"field\": \"minus_error\", \"title\": \"\"}}, \"transform\": [{\"filter\": {\"selection\": \"selector008\"}}]}]}, {\"layer\": [{\"mark\": \"bar\", \"encoding\": {\"color\": {\"value\": \"transparent\"}, \"tooltip\": [{\"aggregate\": \"sum\", \"field\": \"noisy_count\", \"title\": \"noisy count\", \"type\": \"quantitative\"}, {\"aggregate\": \"sum\", \"field\": \"error\", \"title\": \"error\", \"type\": \"quantitative\"}], \"x\": {\"field\": \"marital\", \"sort\": null, \"type\": \"ordinal\"}}, \"height\": 300, \"selection\": {\"selector008\": {\"type\": \"interval\", \"encodings\": [\"x\"]}}, \"transform\": [{\"filter\": {\"selection\": \"selector007\"}}], \"width\": 450}, {\"mark\": {\"type\": \"bar\", \"color\": \"#4C7FFF\", \"opacity\": 0.7}, \"encoding\": {\"x\": {\"field\": \"marital\", \"sort\": null, \"type\": \"ordinal\"}, \"y\": {\"aggregate\": \"sum\", \"field\": \"noisy_count\", \"type\": \"quantitative\"}}, \"transform\": [{\"filter\": {\"selection\": \"selector007\"}}]}, {\"mark\": {\"type\": \"tick\", \"color\": \"black\", \"width\": 0}, \"encoding\": {\"x\": {\"field\": \"marital\", \"sort\": null, \"type\": \"ordinal\"}, \"y\": {\"aggregate\": \"sum\", \"field\": \"plus_error\", \"type\": \"quantitative\"}}, \"transform\": [{\"filter\": {\"selection\": \"selector007\"}}]}, {\"mark\": {\"type\": \"tick\", \"color\": \"black\", \"width\": 0}, \"encoding\": {\"x\": {\"field\": \"marital\", \"sort\": null, \"type\": \"ordinal\"}, \"y\": {\"aggregate\": \"sum\", \"field\": \"minus_error\", \"type\": \"quantitative\"}}, \"transform\": [{\"filter\": {\"selection\": \"selector007\"}}]}, {\"mark\": {\"type\": \"point\", \"color\": \"black\"}, \"encoding\": {\"x\": {\"field\": \"marital\", \"sort\": null, \"type\": \"ordinal\"}, \"y\": {\"aggregate\": \"sum\", \"field\": \"noisy_count\", \"title\": \"Noisy Count\", \"type\": \"quantitative\"}}, \"transform\": [{\"filter\": {\"selection\": \"selector007\"}}]}, {\"mark\": {\"type\": \"rule\", \"size\": 4}, \"encoding\": {\"x\": {\"field\": \"marital\", \"sort\": null, \"type\": \"ordinal\"}, \"y\": {\"aggregate\": \"sum\", \"field\": \"plus_error\", \"title\": \"\", \"type\": \"quantitative\"}, \"y2\": {\"aggregate\": \"sum\", \"field\": \"minus_error\", \"title\": \"\"}}, \"transform\": [{\"filter\": {\"selection\": \"selector007\"}}]}]}], \"data\": {\"name\": \"data-ba696fc9490f3cd29006926ad5b2a466\"}, \"$schema\": \"https://vega.github.io/schema/vega-lite/v4.17.0.json\", \"datasets\": {\"data-ba696fc9490f3cd29006926ad5b2a466\": [{\"age\": \"15-24\", \"marital\": \"Married\", \"noisy_count\": 263.7, \"true_count\": 295.0, \"plus_error\": 293.5, \"minus_error\": 233.9, \"error\": 29.8}, {\"age\": \"15-24\", \"marital\": \"Absent\", \"noisy_count\": 29.7, \"true_count\": 13.0, \"plus_error\": 59.5, \"minus_error\": -0.1, \"error\": 29.8}, {\"age\": \"15-24\", \"marital\": \"Separated\", \"noisy_count\": 19.3, \"true_count\": 18.0, \"plus_error\": 49.1, \"minus_error\": -10.4, \"error\": 29.8}, {\"age\": \"15-24\", \"marital\": \"Widowed\", \"noisy_count\": -8.5, \"true_count\": 2.0, \"plus_error\": 21.3, \"minus_error\": -38.3, \"error\": 29.8}, {\"age\": \"15-24\", \"marital\": \"Divorced\", \"noisy_count\": 16.2, \"true_count\": 22.0, \"plus_error\": 46.0, \"minus_error\": -13.6, \"error\": 29.8}, {\"age\": \"15-24\", \"marital\": \"Divorced/Widowed\", \"noisy_count\": -10.7, \"true_count\": 16.0, \"plus_error\": 19.1, \"minus_error\": -40.5, \"error\": 29.8}, {\"age\": \"15-24\", \"marital\": \"Never Married\", \"noisy_count\": 1179.2, \"true_count\": 1190.0, \"plus_error\": 1208.9, \"minus_error\": 1149.4, \"error\": 29.8}, {\"age\": \"25-34\", \"marital\": \"Married\", \"noisy_count\": 2869.1, \"true_count\": 2764.0, \"plus_error\": 2958.5, \"minus_error\": 2779.6, \"error\": 89.4}, {\"age\": \"25-34\", \"marital\": \"Absent\", \"noisy_count\": 162.1, \"true_count\": 33.0, \"plus_error\": 251.5, \"minus_error\": 72.7, \"error\": 89.4}, {\"age\": \"25-34\", \"marital\": \"Separated\", \"noisy_count\": 19.3, \"true_count\": 77.0, \"plus_error\": 108.7, \"minus_error\": -70.2, \"error\": 89.4}, {\"age\": \"25-34\", \"marital\": \"Widowed\", \"noisy_count\": -13.7, \"true_count\": 11.0, \"plus_error\": 75.7, \"minus_error\": -103.1, \"error\": 89.4}, {\"age\": \"25-34\", \"marital\": \"Divorced\", \"noisy_count\": 304.2, \"true_count\": 372.0, \"plus_error\": 393.6, \"minus_error\": 214.7, \"error\": 89.4}, {\"age\": \"25-34\", \"marital\": \"Divorced/Widowed\", \"noisy_count\": 243.4, \"true_count\": 189.0, \"plus_error\": 332.9, \"minus_error\": 154.0, \"error\": 89.4}, {\"age\": \"25-34\", \"marital\": \"Never Married\", \"noisy_count\": 2665.1, \"true_count\": 2691.0, \"plus_error\": 2754.6, \"minus_error\": 2575.7, \"error\": 89.4}, {\"age\": \"35-44\", \"marital\": \"Married\", \"noisy_count\": 4339.2, \"true_count\": 4273.0, \"plus_error\": 4428.7, \"minus_error\": 4249.8, \"error\": 89.4}, {\"age\": \"35-44\", \"marital\": \"Absent\", \"noisy_count\": -98.7, \"true_count\": 31.0, \"plus_error\": -9.2, \"minus_error\": -188.1, \"error\": 89.4}, {\"age\": \"35-44\", \"marital\": \"Separated\", \"noisy_count\": 101.6, \"true_count\": 96.0, \"plus_error\": 191.0, \"minus_error\": 12.1, \"error\": 89.4}, {\"age\": \"35-44\", \"marital\": \"Widowed\", \"noisy_count\": 145.5, \"true_count\": 57.0, \"plus_error\": 235.0, \"minus_error\": 56.1, \"error\": 89.4}, {\"age\": \"35-44\", \"marital\": \"Divorced\", \"noisy_count\": 990.9, \"true_count\": 905.0, \"plus_error\": 1080.4, \"minus_error\": 901.5, \"error\": 89.4}, {\"age\": \"35-44\", \"marital\": \"Divorced/Widowed\", \"noisy_count\": 154.9, \"true_count\": 286.0, \"plus_error\": 244.3, \"minus_error\": 65.4, \"error\": 89.4}, {\"age\": \"35-44\", \"marital\": \"Never Married\", \"noisy_count\": 1544.8, \"true_count\": 1684.0, \"plus_error\": 1634.3, \"minus_error\": 1455.4, \"error\": 89.4}, {\"age\": \"45-54\", \"marital\": \"Married\", \"noisy_count\": 5544.8, \"true_count\": 5589.0, \"plus_error\": 5634.3, \"minus_error\": 5455.4, \"error\": 89.4}, {\"age\": \"45-54\", \"marital\": \"Absent\", \"noisy_count\": -9.2, \"true_count\": 27.0, \"plus_error\": 80.3, \"minus_error\": -98.6, \"error\": 89.4}, {\"age\": \"45-54\", \"marital\": \"Separated\", \"noisy_count\": 171.1, \"true_count\": 156.0, \"plus_error\": 260.6, \"minus_error\": 81.7, \"error\": 89.4}, {\"age\": \"45-54\", \"marital\": \"Widowed\", \"noisy_count\": 99.7, \"true_count\": 143.0, \"plus_error\": 189.1, \"minus_error\": 10.2, \"error\": 89.4}, {\"age\": \"45-54\", \"marital\": \"Divorced\", \"noisy_count\": 1763.9, \"true_count\": 1715.0, \"plus_error\": 1853.3, \"minus_error\": 1674.4, \"error\": 89.4}, {\"age\": \"45-54\", \"marital\": \"Divorced/Widowed\", \"noisy_count\": 338.3, \"true_count\": 379.0, \"plus_error\": 427.7, \"minus_error\": 248.9, \"error\": 89.4}, {\"age\": \"45-54\", \"marital\": \"Never Married\", \"noisy_count\": 1030.9, \"true_count\": 1324.0, \"plus_error\": 1120.3, \"minus_error\": 941.4, \"error\": 89.4}, {\"age\": \"55-64\", \"marital\": \"Married\", \"noisy_count\": 4515.5, \"true_count\": 4513.0, \"plus_error\": 4604.9, \"minus_error\": 4426.0, \"error\": 89.4}, {\"age\": \"55-64\", \"marital\": \"Absent\", \"noisy_count\": 90.7, \"true_count\": 10.0, \"plus_error\": 180.1, \"minus_error\": 1.2, \"error\": 89.4}, {\"age\": \"55-64\", \"marital\": \"Separated\", \"noisy_count\": -51.0, \"true_count\": 106.0, \"plus_error\": 38.4, \"minus_error\": -140.5, \"error\": 89.4}, {\"age\": \"55-64\", \"marital\": \"Widowed\", \"noisy_count\": 207.3, \"true_count\": 210.0, \"plus_error\": 296.7, \"minus_error\": 117.8, \"error\": 89.4}, {\"age\": \"55-64\", \"marital\": \"Divorced\", \"noisy_count\": 1439.6, \"true_count\": 1509.0, \"plus_error\": 1529.0, \"minus_error\": 1350.1, \"error\": 89.4}, {\"age\": \"55-64\", \"marital\": \"Divorced/Widowed\", \"noisy_count\": 290.2, \"true_count\": 241.0, \"plus_error\": 379.7, \"minus_error\": 200.8, \"error\": 89.4}, {\"age\": \"55-64\", \"marital\": \"Never Married\", \"noisy_count\": 705.4, \"true_count\": 730.0, \"plus_error\": 794.9, \"minus_error\": 616.0, \"error\": 89.4}, {\"age\": \"65-74\", \"marital\": \"Married\", \"noisy_count\": 3594.8, \"true_count\": 3666.0, \"plus_error\": 3684.2, \"minus_error\": 3505.3, \"error\": 89.4}, {\"age\": \"65-74\", \"marital\": \"Absent\", \"noisy_count\": -213.0, \"true_count\": 1.0, \"plus_error\": -123.6, \"minus_error\": -302.4, \"error\": 89.4}, {\"age\": \"65-74\", \"marital\": \"Separated\", \"noisy_count\": 72.1, \"true_count\": 84.0, \"plus_error\": 161.5, \"minus_error\": -17.4, \"error\": 89.4}, {\"age\": \"65-74\", \"marital\": \"Widowed\", \"noisy_count\": 475.0, \"true_count\": 406.0, \"plus_error\": 564.4, \"minus_error\": 385.5, \"error\": 89.4}, {\"age\": \"65-74\", \"marital\": \"Divorced\", \"noisy_count\": 1074.6, \"true_count\": 1161.0, \"plus_error\": 1164.0, \"minus_error\": 985.1, \"error\": 89.4}, {\"age\": \"65-74\", \"marital\": \"Divorced/Widowed\", \"noisy_count\": 121.0, \"true_count\": 150.0, \"plus_error\": 210.4, \"minus_error\": 31.5, \"error\": 89.4}, {\"age\": \"65-74\", \"marital\": \"Never Married\", \"noisy_count\": 442.7, \"true_count\": 399.0, \"plus_error\": 532.1, \"minus_error\": 353.3, \"error\": 89.4}, {\"age\": \"75-84\", \"marital\": \"Married\", \"noisy_count\": 2359.4, \"true_count\": 2360.0, \"plus_error\": 2388.0, \"minus_error\": 2330.8, \"error\": 28.6}, {\"age\": \"75-84\", \"marital\": \"Absent\", \"noisy_count\": 28.2, \"true_count\": 2.0, \"plus_error\": 56.8, \"minus_error\": -0.4, \"error\": 28.6}, {\"age\": \"75-84\", \"marital\": \"Separated\", \"noisy_count\": 28.5, \"true_count\": 56.0, \"plus_error\": 57.1, \"minus_error\": -0.1, \"error\": 28.6}, {\"age\": \"75-84\", \"marital\": \"Widowed\", \"noisy_count\": 678.7, \"true_count\": 638.0, \"plus_error\": 707.3, \"minus_error\": 650.1, \"error\": 28.6}, {\"age\": \"75-84\", \"marital\": \"Divorced\", \"noisy_count\": 578.7, \"true_count\": 592.0, \"plus_error\": 607.3, \"minus_error\": 550.2, \"error\": 28.6}, {\"age\": \"75-84\", \"marital\": \"Divorced/Widowed\", \"noisy_count\": 89.0, \"true_count\": 72.0, \"plus_error\": 117.6, \"minus_error\": 60.5, \"error\": 28.6}, {\"age\": \"75-84\", \"marital\": \"Never Married\", \"noisy_count\": 61.9, \"true_count\": 189.0, \"plus_error\": 90.5, \"minus_error\": 33.3, \"error\": 28.6}, {\"age\": \"85-94\", \"marital\": \"Married\", \"noisy_count\": 2089.2, \"true_count\": 2152.0, \"plus_error\": 2178.6, \"minus_error\": 1999.7, \"error\": 89.4}, {\"age\": \"85-94\", \"marital\": \"Absent\", \"noisy_count\": -0.9, \"true_count\": 0.0, \"plus_error\": 88.6, \"minus_error\": -90.3, \"error\": 89.4}, {\"age\": \"85-94\", \"marital\": \"Separated\", \"noisy_count\": 87.1, \"true_count\": 52.0, \"plus_error\": 176.6, \"minus_error\": -2.3, \"error\": 89.4}, {\"age\": \"85-94\", \"marital\": \"Widowed\", \"noisy_count\": 1183.5, \"true_count\": 1211.0, \"plus_error\": 1272.9, \"minus_error\": 1094.0, \"error\": 89.4}, {\"age\": \"85-94\", \"marital\": \"Divorced\", \"noisy_count\": 356.3, \"true_count\": 390.0, \"plus_error\": 445.8, \"minus_error\": 266.9, \"error\": 89.4}, {\"age\": \"85-94\", \"marital\": \"Divorced/Widowed\", \"noisy_count\": 45.7, \"true_count\": 50.0, \"plus_error\": 135.1, \"minus_error\": -43.8, \"error\": 89.4}, {\"age\": \"85-94\", \"marital\": \"Never Married\", \"noisy_count\": 159.8, \"true_count\": 182.0, \"plus_error\": 249.2, \"minus_error\": 70.3, \"error\": 89.4}, {\"age\": \"95-104\", \"marital\": \"Married\", \"noisy_count\": 1045.7, \"true_count\": 1055.0, \"plus_error\": 1075.6, \"minus_error\": 1015.8, \"error\": 29.9}, {\"age\": \"95-104\", \"marital\": \"Absent\", \"noisy_count\": 26.2, \"true_count\": 0.0, \"plus_error\": 56.0, \"minus_error\": -3.7, \"error\": 29.9}, {\"age\": \"95-104\", \"marital\": \"Separated\", \"noisy_count\": 43.2, \"true_count\": 41.0, \"plus_error\": 73.1, \"minus_error\": 13.3, \"error\": 29.9}, {\"age\": \"95-104\", \"marital\": \"Widowed\", \"noisy_count\": 1167.6, \"true_count\": 1174.0, \"plus_error\": 1197.5, \"minus_error\": 1137.7, \"error\": 29.9}, {\"age\": \"95-104\", \"marital\": \"Divorced\", \"noisy_count\": 135.7, \"true_count\": 140.0, \"plus_error\": 165.6, \"minus_error\": 105.9, \"error\": 29.9}, {\"age\": \"95-104\", \"marital\": \"Divorced/Widowed\", \"noisy_count\": 9.8, \"true_count\": 16.0, \"plus_error\": 39.6, \"minus_error\": -20.1, \"error\": 29.9}, {\"age\": \"95-104\", \"marital\": \"Never Married\", \"noisy_count\": 135.3, \"true_count\": 119.0, \"plus_error\": 165.2, \"minus_error\": 105.4, \"error\": 29.9}, {\"age\": \"105-114\", \"marital\": \"Married\", \"noisy_count\": 421.7, \"true_count\": 398.0, \"plus_error\": 511.1, \"minus_error\": 332.2, \"error\": 89.4}, {\"age\": \"105-114\", \"marital\": \"Absent\", \"noisy_count\": 25.4, \"true_count\": 0.0, \"plus_error\": 114.8, \"minus_error\": -64.1, \"error\": 89.4}, {\"age\": \"105-114\", \"marital\": \"Separated\", \"noisy_count\": 214.4, \"true_count\": 25.0, \"plus_error\": 303.8, \"minus_error\": 124.9, \"error\": 89.4}, {\"age\": \"105-114\", \"marital\": \"Widowed\", \"noisy_count\": 1128.7, \"true_count\": 881.0, \"plus_error\": 1218.2, \"minus_error\": 1039.3, \"error\": 89.4}, {\"age\": \"105-114\", \"marital\": \"Divorced\", \"noisy_count\": 23.4, \"true_count\": 44.0, \"plus_error\": 112.8, \"minus_error\": -66.0, \"error\": 89.4}, {\"age\": \"105-114\", \"marital\": \"Divorced/Widowed\", \"noisy_count\": 9.2, \"true_count\": 4.0, \"plus_error\": 98.6, \"minus_error\": -80.3, \"error\": 89.4}, {\"age\": \"105-114\", \"marital\": \"Never Married\", \"noisy_count\": 22.7, \"true_count\": 49.0, \"plus_error\": 112.1, \"minus_error\": -66.8, \"error\": 89.4}]}}, {\"mode\": \"vega-lite\"});\n",
       "</script>"
      ],
      "text/plain": [
       "alt.HConcatChart(...)"
      ]
     },
     "metadata": {},
     "output_type": "display_data"
    },
    {
     "data": {
      "application/vnd.jupyter.widget-view+json": {
       "model_id": "d5a75d75a23e45dd9c5e3348697aa93c",
       "version_major": 2,
       "version_minor": 0
      },
      "text/plain": [
       "VBox(children=(Output(),))"
      ]
     },
     "metadata": {},
     "output_type": "display_data"
    },
    {
     "data": {
      "application/vnd.jupyter.widget-view+json": {
       "model_id": "5335f5d6015d4232b9b71e2b464269fa",
       "version_major": 2,
       "version_minor": 0
      },
      "text/plain": [
       "VBox(children=(VBox(children=(Textarea(value='', description='Answer:', layout=Layout(height='40px', width='30…"
      ]
     },
     "metadata": {},
     "output_type": "display_data"
    },
    {
     "data": {
      "application/vnd.jupyter.widget-view+json": {
       "model_id": "3e3513a389204389939a9eea39981928",
       "version_major": 2,
       "version_minor": 0
      },
      "text/plain": [
       "HBox(children=(Label(value='Remeasure Used'), FloatProgress(value=0.0, description='0/10', max=10.0, style=Pro…"
      ]
     },
     "metadata": {},
     "output_type": "display_data"
    },
    {
     "data": {
      "application/vnd.jupyter.widget-view+json": {
       "model_id": "8db1e8d194bc49408c57a8a4361cf8d0",
       "version_major": 2,
       "version_minor": 0
      },
      "text/plain": [
       "HBox(children=(Textarea(value='Question 5/6: In the 100,000 to 199,000 income range, rank the top 3 races in t…"
      ]
     },
     "metadata": {},
     "output_type": "display_data"
    },
    {
     "data": {
      "text/html": [
       "\n",
       "<div id=\"altair-viz-d2c862355a97496793662c0406d11b49\"></div>\n",
       "<script type=\"text/javascript\">\n",
       "  var VEGA_DEBUG = (typeof VEGA_DEBUG == \"undefined\") ? {} : VEGA_DEBUG;\n",
       "  (function(spec, embedOpt){\n",
       "    let outputDiv = document.currentScript.previousElementSibling;\n",
       "    if (outputDiv.id !== \"altair-viz-d2c862355a97496793662c0406d11b49\") {\n",
       "      outputDiv = document.getElementById(\"altair-viz-d2c862355a97496793662c0406d11b49\");\n",
       "    }\n",
       "    const paths = {\n",
       "      \"vega\": \"https://cdn.jsdelivr.net/npm//vega@5?noext\",\n",
       "      \"vega-lib\": \"https://cdn.jsdelivr.net/npm//vega-lib?noext\",\n",
       "      \"vega-lite\": \"https://cdn.jsdelivr.net/npm//vega-lite@4.17.0?noext\",\n",
       "      \"vega-embed\": \"https://cdn.jsdelivr.net/npm//vega-embed@6?noext\",\n",
       "    };\n",
       "\n",
       "    function maybeLoadScript(lib, version) {\n",
       "      var key = `${lib.replace(\"-\", \"\")}_version`;\n",
       "      return (VEGA_DEBUG[key] == version) ?\n",
       "        Promise.resolve(paths[lib]) :\n",
       "        new Promise(function(resolve, reject) {\n",
       "          var s = document.createElement('script');\n",
       "          document.getElementsByTagName(\"head\")[0].appendChild(s);\n",
       "          s.async = true;\n",
       "          s.onload = () => {\n",
       "            VEGA_DEBUG[key] = version;\n",
       "            return resolve(paths[lib]);\n",
       "          };\n",
       "          s.onerror = () => reject(`Error loading script: ${paths[lib]}`);\n",
       "          s.src = paths[lib];\n",
       "        });\n",
       "    }\n",
       "\n",
       "    function showError(err) {\n",
       "      outputDiv.innerHTML = `<div class=\"error\" style=\"color:red;\">${err}</div>`;\n",
       "      throw err;\n",
       "    }\n",
       "\n",
       "    function displayChart(vegaEmbed) {\n",
       "      vegaEmbed(outputDiv, spec, embedOpt)\n",
       "        .catch(err => showError(`Javascript Error: ${err.message}<br>This usually means there's a typo in your chart specification. See the javascript console for the full traceback.`));\n",
       "    }\n",
       "\n",
       "    if(typeof define === \"function\" && define.amd) {\n",
       "      requirejs.config({paths});\n",
       "      require([\"vega-embed\"], displayChart, err => showError(`Error loading script: ${err.message}`));\n",
       "    } else {\n",
       "      maybeLoadScript(\"vega\", \"5\")\n",
       "        .then(() => maybeLoadScript(\"vega-lite\", \"4.17.0\"))\n",
       "        .then(() => maybeLoadScript(\"vega-embed\", \"6\"))\n",
       "        .catch(showError)\n",
       "        .then(() => displayChart(vegaEmbed));\n",
       "    }\n",
       "  })({\"config\": {\"view\": {\"continuousWidth\": 400, \"continuousHeight\": 300}, \"axis\": {\"labelFontSize\": 11, \"titleFontSize\": 15}, \"axisBottom\": {\"labelAngle\": 60}}, \"hconcat\": [{\"layer\": [{\"mark\": \"bar\", \"encoding\": {\"color\": {\"value\": \"transparent\"}, \"tooltip\": [{\"aggregate\": \"sum\", \"field\": \"noisy_count\", \"title\": \"noisy count\", \"type\": \"quantitative\"}, {\"aggregate\": \"sum\", \"field\": \"error\", \"title\": \"error\", \"type\": \"quantitative\"}], \"x\": {\"field\": \"income\", \"sort\": null, \"type\": \"ordinal\"}}, \"height\": 300, \"selection\": {\"selector009\": {\"type\": \"interval\", \"encodings\": [\"x\"]}}, \"transform\": [{\"filter\": {\"selection\": \"selector010\"}}], \"width\": 450}, {\"mark\": {\"type\": \"bar\", \"color\": \"#4C7FFF\", \"opacity\": 0.7}, \"encoding\": {\"x\": {\"field\": \"income\", \"sort\": null, \"type\": \"ordinal\"}, \"y\": {\"aggregate\": \"sum\", \"field\": \"noisy_count\", \"type\": \"quantitative\"}}, \"transform\": [{\"filter\": {\"selection\": \"selector010\"}}]}, {\"mark\": {\"type\": \"tick\", \"color\": \"black\", \"width\": 0}, \"encoding\": {\"x\": {\"field\": \"income\", \"sort\": null, \"type\": \"ordinal\"}, \"y\": {\"aggregate\": \"sum\", \"field\": \"plus_error\", \"type\": \"quantitative\"}}, \"transform\": [{\"filter\": {\"selection\": \"selector010\"}}]}, {\"mark\": {\"type\": \"tick\", \"color\": \"black\", \"width\": 0}, \"encoding\": {\"x\": {\"field\": \"income\", \"sort\": null, \"type\": \"ordinal\"}, \"y\": {\"aggregate\": \"sum\", \"field\": \"minus_error\", \"type\": \"quantitative\"}}, \"transform\": [{\"filter\": {\"selection\": \"selector010\"}}]}, {\"mark\": {\"type\": \"point\", \"color\": \"black\"}, \"encoding\": {\"x\": {\"field\": \"income\", \"sort\": null, \"type\": \"ordinal\"}, \"y\": {\"aggregate\": \"sum\", \"field\": \"noisy_count\", \"title\": \"Noisy Count\", \"type\": \"quantitative\"}}, \"transform\": [{\"filter\": {\"selection\": \"selector010\"}}]}, {\"mark\": {\"type\": \"rule\", \"size\": 4}, \"encoding\": {\"x\": {\"field\": \"income\", \"sort\": null, \"type\": \"ordinal\"}, \"y\": {\"aggregate\": \"sum\", \"field\": \"plus_error\", \"title\": \"\", \"type\": \"quantitative\"}, \"y2\": {\"aggregate\": \"sum\", \"field\": \"minus_error\", \"title\": \"\"}}, \"transform\": [{\"filter\": {\"selection\": \"selector010\"}}]}]}, {\"layer\": [{\"mark\": \"bar\", \"encoding\": {\"color\": {\"value\": \"transparent\"}, \"tooltip\": [{\"aggregate\": \"sum\", \"field\": \"noisy_count\", \"title\": \"noisy count\", \"type\": \"quantitative\"}, {\"aggregate\": \"sum\", \"field\": \"error\", \"title\": \"error\", \"type\": \"quantitative\"}], \"x\": {\"field\": \"race\", \"sort\": null, \"type\": \"ordinal\"}}, \"height\": 300, \"selection\": {\"selector010\": {\"type\": \"interval\", \"encodings\": [\"x\"]}}, \"transform\": [{\"filter\": {\"selection\": \"selector009\"}}], \"width\": 450}, {\"mark\": {\"type\": \"bar\", \"color\": \"#4C7FFF\", \"opacity\": 0.7}, \"encoding\": {\"x\": {\"field\": \"race\", \"sort\": null, \"type\": \"ordinal\"}, \"y\": {\"aggregate\": \"sum\", \"field\": \"noisy_count\", \"type\": \"quantitative\"}}, \"transform\": [{\"filter\": {\"selection\": \"selector009\"}}]}, {\"mark\": {\"type\": \"tick\", \"color\": \"black\", \"width\": 0}, \"encoding\": {\"x\": {\"field\": \"race\", \"sort\": null, \"type\": \"ordinal\"}, \"y\": {\"aggregate\": \"sum\", \"field\": \"plus_error\", \"type\": \"quantitative\"}}, \"transform\": [{\"filter\": {\"selection\": \"selector009\"}}]}, {\"mark\": {\"type\": \"tick\", \"color\": \"black\", \"width\": 0}, \"encoding\": {\"x\": {\"field\": \"race\", \"sort\": null, \"type\": \"ordinal\"}, \"y\": {\"aggregate\": \"sum\", \"field\": \"minus_error\", \"type\": \"quantitative\"}}, \"transform\": [{\"filter\": {\"selection\": \"selector009\"}}]}, {\"mark\": {\"type\": \"point\", \"color\": \"black\"}, \"encoding\": {\"x\": {\"field\": \"race\", \"sort\": null, \"type\": \"ordinal\"}, \"y\": {\"aggregate\": \"sum\", \"field\": \"noisy_count\", \"title\": \"Noisy Count\", \"type\": \"quantitative\"}}, \"transform\": [{\"filter\": {\"selection\": \"selector009\"}}]}, {\"mark\": {\"type\": \"rule\", \"size\": 4}, \"encoding\": {\"x\": {\"field\": \"race\", \"sort\": null, \"type\": \"ordinal\"}, \"y\": {\"aggregate\": \"sum\", \"field\": \"plus_error\", \"title\": \"\", \"type\": \"quantitative\"}, \"y2\": {\"aggregate\": \"sum\", \"field\": \"minus_error\", \"title\": \"\"}}, \"transform\": [{\"filter\": {\"selection\": \"selector009\"}}]}]}], \"data\": {\"name\": \"data-1eb11beb824c5cdde7a8a69b686bf9ea\"}, \"$schema\": \"https://vega.github.io/schema/vega-lite/v4.17.0.json\", \"datasets\": {\"data-1eb11beb824c5cdde7a8a69b686bf9ea\": [{\"income\": \"$0k - $49k\", \"race\": \"White\", \"noisy_count\": 33090.6, \"true_count\": 33156.0, \"plus_error\": 33180.1, \"minus_error\": 33001.2, \"error\": 89.4}, {\"income\": \"$0k - $49k\", \"race\": \"Black\", \"noisy_count\": 4269.5, \"true_count\": 4314.0, \"plus_error\": 4359.0, \"minus_error\": 4180.1, \"error\": 89.4}, {\"income\": \"$0k - $49k\", \"race\": \"American Indian\", \"noisy_count\": 569.1, \"true_count\": 489.0, \"plus_error\": 658.5, \"minus_error\": 479.6, \"error\": 89.4}, {\"income\": \"$0k - $49k\", \"race\": \"Chinese\", \"noisy_count\": 834.5, \"true_count\": 992.0, \"plus_error\": 924.0, \"minus_error\": 745.1, \"error\": 89.4}, {\"income\": \"$50k - $99k\", \"race\": \"White\", \"noisy_count\": 7537.9, \"true_count\": 7572.0, \"plus_error\": 7627.4, \"minus_error\": 7448.5, \"error\": 89.4}, {\"income\": \"$50k - $99k\", \"race\": \"Black\", \"noisy_count\": 353.3, \"true_count\": 547.0, \"plus_error\": 442.7, \"minus_error\": 263.8, \"error\": 89.4}, {\"income\": \"$50k - $99k\", \"race\": \"American Indian\", \"noisy_count\": 11.3, \"true_count\": 64.0, \"plus_error\": 100.7, \"minus_error\": -78.1, \"error\": 89.4}, {\"income\": \"$50k - $99k\", \"race\": \"Chinese\", \"noisy_count\": 423.8, \"true_count\": 344.0, \"plus_error\": 513.2, \"minus_error\": 334.3, \"error\": 89.4}, {\"income\": \"$100k - $149k\", \"race\": \"White\", \"noisy_count\": 1019.9, \"true_count\": 1036.0, \"plus_error\": 1109.4, \"minus_error\": 930.5, \"error\": 89.4}, {\"income\": \"$100k - $149k\", \"race\": \"Black\", \"noisy_count\": 68.5, \"true_count\": 45.0, \"plus_error\": 158.0, \"minus_error\": -20.9, \"error\": 89.4}, {\"income\": \"$100k - $149k\", \"race\": \"American Indian\", \"noisy_count\": 87.0, \"true_count\": 4.0, \"plus_error\": 176.4, \"minus_error\": -2.5, \"error\": 89.4}, {\"income\": \"$100k - $149k\", \"race\": \"Chinese\", \"noisy_count\": -93.6, \"true_count\": 64.0, \"plus_error\": -4.2, \"minus_error\": -183.1, \"error\": 89.4}, {\"income\": \"$150k - $199k\", \"race\": \"White\", \"noisy_count\": 546.9, \"true_count\": 559.0, \"plus_error\": 636.3, \"minus_error\": 457.4, \"error\": 89.4}, {\"income\": \"$150k - $199k\", \"race\": \"Black\", \"noisy_count\": -103.0, \"true_count\": 15.0, \"plus_error\": -13.6, \"minus_error\": -192.4, \"error\": 89.4}, {\"income\": \"$150k - $199k\", \"race\": \"American Indian\", \"noisy_count\": 89.2, \"true_count\": 1.0, \"plus_error\": 178.6, \"minus_error\": -0.3, \"error\": 89.4}, {\"income\": \"$150k - $199k\", \"race\": \"Chinese\", \"noisy_count\": 113.1, \"true_count\": 34.0, \"plus_error\": 202.5, \"minus_error\": 23.7, \"error\": 89.4}, {\"income\": \"$200k - $249k\", \"race\": \"White\", \"noisy_count\": 114.5, \"true_count\": 122.0, \"plus_error\": 143.0, \"minus_error\": 86.1, \"error\": 28.4}, {\"income\": \"$200k - $249k\", \"race\": \"Black\", \"noisy_count\": 27.4, \"true_count\": 7.0, \"plus_error\": 55.8, \"minus_error\": -1.0, \"error\": 28.4}, {\"income\": \"$200k - $249k\", \"race\": \"American Indian\", \"noisy_count\": 12.5, \"true_count\": 3.0, \"plus_error\": 40.9, \"minus_error\": -15.9, \"error\": 28.4}, {\"income\": \"$200k - $249k\", \"race\": \"Chinese\", \"noisy_count\": 2.4, \"true_count\": 5.0, \"plus_error\": 30.8, \"minus_error\": -26.1, \"error\": 28.4}, {\"income\": \"$250k - $299k\", \"race\": \"White\", \"noisy_count\": 36.6, \"true_count\": 43.0, \"plus_error\": 126.1, \"minus_error\": -52.8, \"error\": 89.4}, {\"income\": \"$250k - $299k\", \"race\": \"Black\", \"noisy_count\": -52.3, \"true_count\": 0.0, \"plus_error\": 37.1, \"minus_error\": -141.7, \"error\": 89.4}, {\"income\": \"$250k - $299k\", \"race\": \"American Indian\", \"noisy_count\": 88.2, \"true_count\": 0.0, \"plus_error\": 177.7, \"minus_error\": -1.2, \"error\": 89.4}, {\"income\": \"$250k - $299k\", \"race\": \"Chinese\", \"noisy_count\": -143.2, \"true_count\": 3.0, \"plus_error\": -53.8, \"minus_error\": -232.7, \"error\": 89.4}, {\"income\": \"$300k - $349k\", \"race\": \"White\", \"noisy_count\": -25.7, \"true_count\": 11.0, \"plus_error\": 63.7, \"minus_error\": -115.2, \"error\": 89.4}, {\"income\": \"$300k - $349k\", \"race\": \"Black\", \"noisy_count\": 111.4, \"true_count\": 1.0, \"plus_error\": 200.8, \"minus_error\": 21.9, \"error\": 89.4}, {\"income\": \"$300k - $349k\", \"race\": \"American Indian\", \"noisy_count\": 90.5, \"true_count\": 0.0, \"plus_error\": 179.9, \"minus_error\": 1.1, \"error\": 89.4}, {\"income\": \"$300k - $349k\", \"race\": \"Chinese\", \"noisy_count\": -20.7, \"true_count\": 0.0, \"plus_error\": 68.8, \"minus_error\": -110.1, \"error\": 89.4}, {\"income\": \"$350k - $399k\", \"race\": \"White\", \"noisy_count\": -5.3, \"true_count\": 2.0, \"plus_error\": 23.2, \"minus_error\": -33.7, \"error\": 28.4}, {\"income\": \"$350k - $399k\", \"race\": \"Black\", \"noisy_count\": -27.5, \"true_count\": 0.0, \"plus_error\": 0.9, \"minus_error\": -56.0, \"error\": 28.4}, {\"income\": \"$350k - $399k\", \"race\": \"American Indian\", \"noisy_count\": -73.7, \"true_count\": 0.0, \"plus_error\": -45.2, \"minus_error\": -102.1, \"error\": 28.4}, {\"income\": \"$350k - $399k\", \"race\": \"Chinese\", \"noisy_count\": -7.0, \"true_count\": 0.0, \"plus_error\": 21.5, \"minus_error\": -35.4, \"error\": 28.4}, {\"income\": \"$400k - $449k\", \"race\": \"White\", \"noisy_count\": -198.4, \"true_count\": 2.0, \"plus_error\": -109.0, \"minus_error\": -287.9, \"error\": 89.4}, {\"income\": \"$400k - $449k\", \"race\": \"Black\", \"noisy_count\": -1.8, \"true_count\": 0.0, \"plus_error\": 87.6, \"minus_error\": -91.2, \"error\": 89.4}, {\"income\": \"$400k - $449k\", \"race\": \"American Indian\", \"noisy_count\": 32.4, \"true_count\": 0.0, \"plus_error\": 121.9, \"minus_error\": -57.0, \"error\": 89.4}, {\"income\": \"$400k - $449k\", \"race\": \"Chinese\", \"noisy_count\": -31.4, \"true_count\": 0.0, \"plus_error\": 58.0, \"minus_error\": -120.9, \"error\": 89.4}, {\"income\": \"$450k - $499k\", \"race\": \"White\", \"noisy_count\": -61.4, \"true_count\": 1.0, \"plus_error\": 28.0, \"minus_error\": -150.9, \"error\": 89.4}, {\"income\": \"$450k - $499k\", \"race\": \"Black\", \"noisy_count\": -54.6, \"true_count\": 0.0, \"plus_error\": 34.9, \"minus_error\": -144.0, \"error\": 89.4}, {\"income\": \"$450k - $499k\", \"race\": \"American Indian\", \"noisy_count\": 56.9, \"true_count\": 0.0, \"plus_error\": 146.3, \"minus_error\": -32.6, \"error\": 89.4}, {\"income\": \"$450k - $499k\", \"race\": \"Chinese\", \"noisy_count\": -0.8, \"true_count\": 0.0, \"plus_error\": 88.7, \"minus_error\": -90.2, \"error\": 89.4}]}}, {\"mode\": \"vega-lite\"});\n",
       "</script>"
      ],
      "text/plain": [
       "alt.HConcatChart(...)"
      ]
     },
     "metadata": {},
     "output_type": "display_data"
    },
    {
     "data": {
      "application/vnd.jupyter.widget-view+json": {
       "model_id": "fa1d79b4663c4f34afbd8b7300b3a491",
       "version_major": 2,
       "version_minor": 0
      },
      "text/plain": [
       "VBox(children=(Output(),))"
      ]
     },
     "metadata": {},
     "output_type": "display_data"
    },
    {
     "data": {
      "application/vnd.jupyter.widget-view+json": {
       "model_id": "3c94129f19d94eaea0d846499d4c5d77",
       "version_major": 2,
       "version_minor": 0
      },
      "text/plain": [
       "VBox(children=(VBox(children=(Textarea(value='', description='Answer:', layout=Layout(align_items='center', he…"
      ]
     },
     "metadata": {},
     "output_type": "display_data"
    },
    {
     "data": {
      "application/vnd.jupyter.widget-view+json": {
       "model_id": "7f071ed817b24d449adf450b02af4f8d",
       "version_major": 2,
       "version_minor": 0
      },
      "text/plain": [
       "HBox(children=(Label(value='Remeasure Used'), FloatProgress(value=0.0, description='0/10', max=10.0, style=Pro…"
      ]
     },
     "metadata": {},
     "output_type": "display_data"
    },
    {
     "data": {
      "application/vnd.jupyter.widget-view+json": {
       "model_id": "c237526b68614cc7bbac4e99ad33c084",
       "version_major": 2,
       "version_minor": 0
      },
      "text/plain": [
       "HBox(children=(Textarea(value='Question 6/6: What is the second most common race in the 45-54 age group?', dis…"
      ]
     },
     "metadata": {},
     "output_type": "display_data"
    },
    {
     "data": {
      "text/html": [
       "\n",
       "<div id=\"altair-viz-37562095f8534437a7f2395e885fadb0\"></div>\n",
       "<script type=\"text/javascript\">\n",
       "  var VEGA_DEBUG = (typeof VEGA_DEBUG == \"undefined\") ? {} : VEGA_DEBUG;\n",
       "  (function(spec, embedOpt){\n",
       "    let outputDiv = document.currentScript.previousElementSibling;\n",
       "    if (outputDiv.id !== \"altair-viz-37562095f8534437a7f2395e885fadb0\") {\n",
       "      outputDiv = document.getElementById(\"altair-viz-37562095f8534437a7f2395e885fadb0\");\n",
       "    }\n",
       "    const paths = {\n",
       "      \"vega\": \"https://cdn.jsdelivr.net/npm//vega@5?noext\",\n",
       "      \"vega-lib\": \"https://cdn.jsdelivr.net/npm//vega-lib?noext\",\n",
       "      \"vega-lite\": \"https://cdn.jsdelivr.net/npm//vega-lite@4.17.0?noext\",\n",
       "      \"vega-embed\": \"https://cdn.jsdelivr.net/npm//vega-embed@6?noext\",\n",
       "    };\n",
       "\n",
       "    function maybeLoadScript(lib, version) {\n",
       "      var key = `${lib.replace(\"-\", \"\")}_version`;\n",
       "      return (VEGA_DEBUG[key] == version) ?\n",
       "        Promise.resolve(paths[lib]) :\n",
       "        new Promise(function(resolve, reject) {\n",
       "          var s = document.createElement('script');\n",
       "          document.getElementsByTagName(\"head\")[0].appendChild(s);\n",
       "          s.async = true;\n",
       "          s.onload = () => {\n",
       "            VEGA_DEBUG[key] = version;\n",
       "            return resolve(paths[lib]);\n",
       "          };\n",
       "          s.onerror = () => reject(`Error loading script: ${paths[lib]}`);\n",
       "          s.src = paths[lib];\n",
       "        });\n",
       "    }\n",
       "\n",
       "    function showError(err) {\n",
       "      outputDiv.innerHTML = `<div class=\"error\" style=\"color:red;\">${err}</div>`;\n",
       "      throw err;\n",
       "    }\n",
       "\n",
       "    function displayChart(vegaEmbed) {\n",
       "      vegaEmbed(outputDiv, spec, embedOpt)\n",
       "        .catch(err => showError(`Javascript Error: ${err.message}<br>This usually means there's a typo in your chart specification. See the javascript console for the full traceback.`));\n",
       "    }\n",
       "\n",
       "    if(typeof define === \"function\" && define.amd) {\n",
       "      requirejs.config({paths});\n",
       "      require([\"vega-embed\"], displayChart, err => showError(`Error loading script: ${err.message}`));\n",
       "    } else {\n",
       "      maybeLoadScript(\"vega\", \"5\")\n",
       "        .then(() => maybeLoadScript(\"vega-lite\", \"4.17.0\"))\n",
       "        .then(() => maybeLoadScript(\"vega-embed\", \"6\"))\n",
       "        .catch(showError)\n",
       "        .then(() => displayChart(vegaEmbed));\n",
       "    }\n",
       "  })({\"config\": {\"view\": {\"continuousWidth\": 400, \"continuousHeight\": 300}, \"axis\": {\"labelFontSize\": 11, \"titleFontSize\": 15}, \"axisBottom\": {\"labelAngle\": 60}}, \"hconcat\": [{\"layer\": [{\"mark\": \"bar\", \"encoding\": {\"color\": {\"value\": \"transparent\"}, \"tooltip\": [{\"aggregate\": \"sum\", \"field\": \"noisy_count\", \"title\": \"noisy count\", \"type\": \"quantitative\"}, {\"aggregate\": \"sum\", \"field\": \"error\", \"title\": \"error\", \"type\": \"quantitative\"}], \"x\": {\"field\": \"age\", \"sort\": null, \"type\": \"ordinal\"}}, \"height\": 300, \"selection\": {\"selector011\": {\"type\": \"interval\", \"encodings\": [\"x\"]}}, \"transform\": [{\"filter\": {\"selection\": \"selector012\"}}], \"width\": 450}, {\"mark\": {\"type\": \"bar\", \"color\": \"#4C7FFF\", \"opacity\": 0.7}, \"encoding\": {\"x\": {\"field\": \"age\", \"sort\": null, \"type\": \"ordinal\"}, \"y\": {\"aggregate\": \"sum\", \"field\": \"noisy_count\", \"type\": \"quantitative\"}}, \"transform\": [{\"filter\": {\"selection\": \"selector012\"}}]}, {\"mark\": {\"type\": \"tick\", \"color\": \"black\", \"width\": 0}, \"encoding\": {\"x\": {\"field\": \"age\", \"sort\": null, \"type\": \"ordinal\"}, \"y\": {\"aggregate\": \"sum\", \"field\": \"plus_error\", \"type\": \"quantitative\"}}, \"transform\": [{\"filter\": {\"selection\": \"selector012\"}}]}, {\"mark\": {\"type\": \"tick\", \"color\": \"black\", \"width\": 0}, \"encoding\": {\"x\": {\"field\": \"age\", \"sort\": null, \"type\": \"ordinal\"}, \"y\": {\"aggregate\": \"sum\", \"field\": \"minus_error\", \"type\": \"quantitative\"}}, \"transform\": [{\"filter\": {\"selection\": \"selector012\"}}]}, {\"mark\": {\"type\": \"point\", \"color\": \"black\"}, \"encoding\": {\"x\": {\"field\": \"age\", \"sort\": null, \"type\": \"ordinal\"}, \"y\": {\"aggregate\": \"sum\", \"field\": \"noisy_count\", \"title\": \"Noisy Count\", \"type\": \"quantitative\"}}, \"transform\": [{\"filter\": {\"selection\": \"selector012\"}}]}, {\"mark\": {\"type\": \"rule\", \"size\": 4}, \"encoding\": {\"x\": {\"field\": \"age\", \"sort\": null, \"type\": \"ordinal\"}, \"y\": {\"aggregate\": \"sum\", \"field\": \"plus_error\", \"title\": \"\", \"type\": \"quantitative\"}, \"y2\": {\"aggregate\": \"sum\", \"field\": \"minus_error\", \"title\": \"\"}}, \"transform\": [{\"filter\": {\"selection\": \"selector012\"}}]}]}, {\"layer\": [{\"mark\": \"bar\", \"encoding\": {\"color\": {\"value\": \"transparent\"}, \"tooltip\": [{\"aggregate\": \"sum\", \"field\": \"noisy_count\", \"title\": \"noisy count\", \"type\": \"quantitative\"}, {\"aggregate\": \"sum\", \"field\": \"error\", \"title\": \"error\", \"type\": \"quantitative\"}], \"x\": {\"field\": \"race\", \"sort\": null, \"type\": \"ordinal\"}}, \"height\": 300, \"selection\": {\"selector012\": {\"type\": \"interval\", \"encodings\": [\"x\"]}}, \"transform\": [{\"filter\": {\"selection\": \"selector011\"}}], \"width\": 450}, {\"mark\": {\"type\": \"bar\", \"color\": \"#4C7FFF\", \"opacity\": 0.7}, \"encoding\": {\"x\": {\"field\": \"race\", \"sort\": null, \"type\": \"ordinal\"}, \"y\": {\"aggregate\": \"sum\", \"field\": \"noisy_count\", \"type\": \"quantitative\"}}, \"transform\": [{\"filter\": {\"selection\": \"selector011\"}}]}, {\"mark\": {\"type\": \"tick\", \"color\": \"black\", \"width\": 0}, \"encoding\": {\"x\": {\"field\": \"race\", \"sort\": null, \"type\": \"ordinal\"}, \"y\": {\"aggregate\": \"sum\", \"field\": \"plus_error\", \"type\": \"quantitative\"}}, \"transform\": [{\"filter\": {\"selection\": \"selector011\"}}]}, {\"mark\": {\"type\": \"tick\", \"color\": \"black\", \"width\": 0}, \"encoding\": {\"x\": {\"field\": \"race\", \"sort\": null, \"type\": \"ordinal\"}, \"y\": {\"aggregate\": \"sum\", \"field\": \"minus_error\", \"type\": \"quantitative\"}}, \"transform\": [{\"filter\": {\"selection\": \"selector011\"}}]}, {\"mark\": {\"type\": \"point\", \"color\": \"black\"}, \"encoding\": {\"x\": {\"field\": \"race\", \"sort\": null, \"type\": \"ordinal\"}, \"y\": {\"aggregate\": \"sum\", \"field\": \"noisy_count\", \"title\": \"Noisy Count\", \"type\": \"quantitative\"}}, \"transform\": [{\"filter\": {\"selection\": \"selector011\"}}]}, {\"mark\": {\"type\": \"rule\", \"size\": 4}, \"encoding\": {\"x\": {\"field\": \"race\", \"sort\": null, \"type\": \"ordinal\"}, \"y\": {\"aggregate\": \"sum\", \"field\": \"plus_error\", \"title\": \"\", \"type\": \"quantitative\"}, \"y2\": {\"aggregate\": \"sum\", \"field\": \"minus_error\", \"title\": \"\"}}, \"transform\": [{\"filter\": {\"selection\": \"selector011\"}}]}]}], \"data\": {\"name\": \"data-1aa9889589ff3a1557cb006899d8480d\"}, \"$schema\": \"https://vega.github.io/schema/vega-lite/v4.17.0.json\", \"datasets\": {\"data-1aa9889589ff3a1557cb006899d8480d\": [{\"age\": \"15-24\", \"race\": \"White\", \"noisy_count\": 1328.1, \"true_count\": 1271.0, \"plus_error\": 1357.0, \"minus_error\": 1299.2, \"error\": 28.9}, {\"age\": \"15-24\", \"race\": \"Black\", \"noisy_count\": 183.1, \"true_count\": 192.0, \"plus_error\": 212.0, \"minus_error\": 154.2, \"error\": 28.9}, {\"age\": \"15-24\", \"race\": \"American Indian\", \"noisy_count\": 23.9, \"true_count\": 31.0, \"plus_error\": 52.8, \"minus_error\": -5.0, \"error\": 28.9}, {\"age\": \"15-24\", \"race\": \"Chinese\", \"noisy_count\": 62.1, \"true_count\": 62.0, \"plus_error\": 91.0, \"minus_error\": 33.2, \"error\": 28.9}, {\"age\": \"25-34\", \"race\": \"White\", \"noisy_count\": 5027.5, \"true_count\": 5110.0, \"plus_error\": 5116.9, \"minus_error\": 4938.0, \"error\": 89.4}, {\"age\": \"25-34\", \"race\": \"Black\", \"noisy_count\": 653.8, \"true_count\": 700.0, \"plus_error\": 743.2, \"minus_error\": 564.3, \"error\": 89.4}, {\"age\": \"25-34\", \"race\": \"American Indian\", \"noisy_count\": -11.4, \"true_count\": 83.0, \"plus_error\": 78.0, \"minus_error\": -100.9, \"error\": 89.4}, {\"age\": \"25-34\", \"race\": \"Chinese\", \"noisy_count\": 169.5, \"true_count\": 244.0, \"plus_error\": 259.0, \"minus_error\": 80.1, \"error\": 89.4}, {\"age\": \"35-44\", \"race\": \"White\", \"noisy_count\": 6186.3, \"true_count\": 6181.0, \"plus_error\": 6275.8, \"minus_error\": 6096.9, \"error\": 89.4}, {\"age\": \"35-44\", \"race\": \"Black\", \"noisy_count\": 992.2, \"true_count\": 793.0, \"plus_error\": 1081.6, \"minus_error\": 902.8, \"error\": 89.4}, {\"age\": \"35-44\", \"race\": \"American Indian\", \"noisy_count\": 177.8, \"true_count\": 93.0, \"plus_error\": 267.2, \"minus_error\": 88.3, \"error\": 89.4}, {\"age\": \"35-44\", \"race\": \"Chinese\", \"noisy_count\": 334.7, \"true_count\": 265.0, \"plus_error\": 424.2, \"minus_error\": 245.3, \"error\": 89.4}, {\"age\": \"45-54\", \"race\": \"White\", \"noisy_count\": 7982.0, \"true_count\": 7988.0, \"plus_error\": 8010.9, \"minus_error\": 7953.2, \"error\": 28.9}, {\"age\": \"45-54\", \"race\": \"Black\", \"noisy_count\": 961.1, \"true_count\": 967.0, \"plus_error\": 990.0, \"minus_error\": 932.2, \"error\": 28.9}, {\"age\": \"45-54\", \"race\": \"American Indian\", \"noisy_count\": 142.1, \"true_count\": 112.0, \"plus_error\": 171.0, \"minus_error\": 113.2, \"error\": 28.9}, {\"age\": \"45-54\", \"race\": \"Chinese\", \"noisy_count\": 257.6, \"true_count\": 266.0, \"plus_error\": 286.5, \"minus_error\": 228.7, \"error\": 28.9}, {\"age\": \"55-64\", \"race\": \"White\", \"noisy_count\": 6430.3, \"true_count\": 6252.0, \"plus_error\": 6519.8, \"minus_error\": 6340.9, \"error\": 89.4}, {\"age\": \"55-64\", \"race\": \"Black\", \"noisy_count\": 854.7, \"true_count\": 744.0, \"plus_error\": 944.1, \"minus_error\": 765.2, \"error\": 89.4}, {\"age\": \"55-64\", \"race\": \"American Indian\", \"noisy_count\": 38.9, \"true_count\": 90.0, \"plus_error\": 128.3, \"minus_error\": -50.6, \"error\": 89.4}, {\"age\": \"55-64\", \"race\": \"Chinese\", \"noisy_count\": 234.7, \"true_count\": 233.0, \"plus_error\": 324.2, \"minus_error\": 145.3, \"error\": 89.4}, {\"age\": \"65-74\", \"race\": \"White\", \"noisy_count\": 5051.6, \"true_count\": 5121.0, \"plus_error\": 5141.1, \"minus_error\": 4962.2, \"error\": 89.4}, {\"age\": \"65-74\", \"race\": \"Black\", \"noisy_count\": 538.0, \"true_count\": 525.0, \"plus_error\": 627.4, \"minus_error\": 448.5, \"error\": 89.4}, {\"age\": \"65-74\", \"race\": \"American Indian\", \"noisy_count\": 98.9, \"true_count\": 68.0, \"plus_error\": 188.3, \"minus_error\": 9.4, \"error\": 89.4}, {\"age\": \"65-74\", \"race\": \"Chinese\", \"noisy_count\": 102.5, \"true_count\": 153.0, \"plus_error\": 192.0, \"minus_error\": 13.1, \"error\": 89.4}, {\"age\": \"75-84\", \"race\": \"White\", \"noisy_count\": 3555.9, \"true_count\": 3396.0, \"plus_error\": 3645.3, \"minus_error\": 3466.4, \"error\": 89.4}, {\"age\": \"75-84\", \"race\": \"Black\", \"noisy_count\": 475.4, \"true_count\": 387.0, \"plus_error\": 564.8, \"minus_error\": 385.9, \"error\": 89.4}, {\"age\": \"75-84\", \"race\": \"American Indian\", \"noisy_count\": -36.8, \"true_count\": 33.0, \"plus_error\": 52.6, \"minus_error\": -126.3, \"error\": 89.4}, {\"age\": \"75-84\", \"race\": \"Chinese\", \"noisy_count\": -57.3, \"true_count\": 93.0, \"plus_error\": 32.2, \"minus_error\": -146.7, \"error\": 89.4}, {\"age\": \"85-94\", \"race\": \"White\", \"noisy_count\": 3625.2, \"true_count\": 3579.0, \"plus_error\": 3714.7, \"minus_error\": 3535.8, \"error\": 89.4}, {\"age\": \"85-94\", \"race\": \"Black\", \"noisy_count\": 312.4, \"true_count\": 351.0, \"plus_error\": 401.9, \"minus_error\": 223.0, \"error\": 89.4}, {\"age\": \"85-94\", \"race\": \"American Indian\", \"noisy_count\": 135.3, \"true_count\": 33.0, \"plus_error\": 224.7, \"minus_error\": 45.9, \"error\": 89.4}, {\"age\": \"85-94\", \"race\": \"Chinese\", \"noisy_count\": 4.9, \"true_count\": 74.0, \"plus_error\": 94.4, \"minus_error\": -84.5, \"error\": 89.4}, {\"age\": \"95-104\", \"race\": \"White\", \"noisy_count\": 2239.3, \"true_count\": 2336.0, \"plus_error\": 2328.7, \"minus_error\": 2149.8, \"error\": 89.4}, {\"age\": \"95-104\", \"race\": \"Black\", \"noisy_count\": 94.8, \"true_count\": 160.0, \"plus_error\": 184.3, \"minus_error\": 5.4, \"error\": 89.4}, {\"age\": \"95-104\", \"race\": \"American Indian\", \"noisy_count\": 71.7, \"true_count\": 14.0, \"plus_error\": 161.2, \"minus_error\": -17.7, \"error\": 89.4}, {\"age\": \"95-104\", \"race\": \"Chinese\", \"noisy_count\": -52.4, \"true_count\": 35.0, \"plus_error\": 37.1, \"minus_error\": -141.8, \"error\": 89.4}, {\"age\": \"105-114\", \"race\": \"White\", \"noisy_count\": 1347.9, \"true_count\": 1270.0, \"plus_error\": 1437.3, \"minus_error\": 1258.4, \"error\": 89.4}, {\"age\": \"105-114\", \"race\": \"Black\", \"noisy_count\": 281.6, \"true_count\": 110.0, \"plus_error\": 371.0, \"minus_error\": 192.1, \"error\": 89.4}, {\"age\": \"105-114\", \"race\": \"American Indian\", \"noisy_count\": -105.5, \"true_count\": 4.0, \"plus_error\": -16.1, \"minus_error\": -195.0, \"error\": 89.4}, {\"age\": \"105-114\", \"race\": \"Chinese\", \"noisy_count\": 15.0, \"true_count\": 17.0, \"plus_error\": 104.4, \"minus_error\": -74.4, \"error\": 89.4}]}}, {\"mode\": \"vega-lite\"});\n",
       "</script>"
      ],
      "text/plain": [
       "alt.HConcatChart(...)"
      ]
     },
     "metadata": {},
     "output_type": "display_data"
    },
    {
     "data": {
      "application/vnd.jupyter.widget-view+json": {
       "model_id": "2c2bb71c98ba4d46b97ca003559addc9",
       "version_major": 2,
       "version_minor": 0
      },
      "text/plain": [
       "VBox(children=(Output(),))"
      ]
     },
     "metadata": {},
     "output_type": "display_data"
    },
    {
     "data": {
      "application/vnd.jupyter.widget-view+json": {
       "model_id": "db27ce515e5642d28081e576cf1ce59e",
       "version_major": 2,
       "version_minor": 0
      },
      "text/plain": [
       "VBox(children=(VBox(children=(Textarea(value='', description='Answer:', layout=Layout(height='40px', width='30…"
      ]
     },
     "metadata": {},
     "output_type": "display_data"
    },
    {
     "data": {
      "application/vnd.jupyter.widget-view+json": {
       "model_id": "46b8d40269754e0fa9aebf4668e4c29b",
       "version_major": 2,
       "version_minor": 0
      },
      "text/plain": [
       "Button(description='Submit', layout=Layout(height='50px', width='20%'), style=ButtonStyle())"
      ]
     },
     "metadata": {},
     "output_type": "display_data"
    }
   ],
   "source": [
    "# display(bar_label)\n",
    "interface = widgets.VBox([prompt, prompt_answer])\n",
    "display(interface)"
   ]
  },
  {
   "cell_type": "code",
   "execution_count": null,
   "id": "da7891e2",
   "metadata": {},
   "outputs": [],
   "source": []
  },
  {
   "cell_type": "code",
   "execution_count": 19,
   "id": "9b059b54",
   "metadata": {},
   "outputs": [],
   "source": [
    "# print(questions)"
   ]
  },
  {
   "cell_type": "code",
   "execution_count": null,
   "id": "c2003369",
   "metadata": {},
   "outputs": [],
   "source": []
  },
  {
   "cell_type": "code",
   "execution_count": null,
   "id": "9117a912",
   "metadata": {},
   "outputs": [],
   "source": []
  }
 ],
 "metadata": {
  "kernelspec": {
   "display_name": "Python 3 (ipykernel)",
   "language": "python",
   "name": "python3"
  },
  "language_info": {
   "codemirror_mode": {
    "name": "ipython",
    "version": 3
   },
   "file_extension": ".py",
   "mimetype": "text/x-python",
   "name": "python",
   "nbconvert_exporter": "python",
   "pygments_lexer": "ipython3",
   "version": "3.9.12"
  }
 },
 "nbformat": 4,
 "nbformat_minor": 5
}
