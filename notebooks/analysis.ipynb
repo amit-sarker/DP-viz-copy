{
 "cells": [
  {
   "cell_type": "code",
   "execution_count": 218,
   "metadata": {},
   "outputs": [
    {
     "data": {
      "application/javascript": [
       "IPython.OutputArea.prototype._should_scroll = function(lines) {\n",
       "    return false;\n",
       "}\n"
      ],
      "text/plain": [
       "<IPython.core.display.Javascript object>"
      ]
     },
     "metadata": {},
     "output_type": "display_data"
    }
   ],
   "source": [
    "%%javascript\n",
    "IPython.OutputArea.prototype._should_scroll = function(lines) {\n",
    "    return false;\n",
    "}"
   ]
  },
  {
   "cell_type": "code",
   "execution_count": 219,
   "metadata": {},
   "outputs": [
    {
     "data": {
      "text/plain": [
       "DataTransformerRegistry.enable('default')"
      ]
     },
     "execution_count": 219,
     "metadata": {},
     "output_type": "execute_result"
    }
   ],
   "source": [
    "import copy\n",
    "import sys\n",
    "\n",
    "import ipywidgets as widgets\n",
    "\n",
    "sys.path.append('../')\n",
    "sys.path.append('../src')\n",
    "\n",
    "import src.backend\n",
    "import src.workload_builder as builder\n",
    "from mbi import Domain\n",
    "import src.plots\n",
    "import altair as alt\n",
    "alt.renderers.enable('default')\n",
    "from IPython.display import display, clear_output\n",
    "\n",
    "alt.data_transformers.disable_max_rows()"
   ]
  },
  {
   "cell_type": "code",
   "execution_count": 220,
   "metadata": {},
   "outputs": [],
   "source": [
    "data_path = '../data/CPS/CPS.csv'\n",
    "cps_domain = Domain(attrs=('age','income','marital','race'), shape=(100,100,7,4))\n",
    "questions = [\"Warm Up Question: Type 'Yes' if you are ready to begin!\",\n",
    "            \"Question 1/6: How many Chinese and American Indians have 'Widowed' as their marital status?\",\n",
    "            \"Question 2/6: How many people over the age of 65 have income between 100,000 and 149,000?\",\n",
    "            \"Question 3/6: What is the second most common marital status of people with income in the 100,000 to 199,000 range?\",\n",
    "            \"Question 4/6: Choose the top 3 age groups that have marital status: 'Never Married'?\",\n",
    "            \"Question 5/6: In the 100,000 to 199,000 income range, rank the top 3 races in terms of count from greatest to least.\",\n",
    "            \"Question 6/6: What is the second most common race in the 45-54 age group?\"]\n",
    "\n",
    "marital_race = {'marital':1, 'race':1}\n",
    "age_income = {'age':10, 'income':10}\n",
    "marital_income = {'income':10, 'marital':1}\n",
    "age_marital = {'age':10, 'marital':1}\n",
    "race_income = {'income':10, 'race':1}\n",
    "age_race = {'age':10, 'race':1}\n",
    "\n",
    "visualizations = [None, marital_race, age_income, marital_income, age_marital, race_income, age_race]\n",
    "prev_spec = None\n",
    "curr_spec = None\n",
    "epsilon_increments = [None,0.05,0.05,0.05,0.05,0.05,0.05,0.05]\n",
    "budget = 1.0\n",
    "max_tries = 10\n",
    "\n",
    "index = 0\n",
    "tries = 0\n",
    "back_end = None\n"
   ]
  },
  {
   "cell_type": "code",
   "execution_count": 221,
   "metadata": {},
   "outputs": [],
   "source": [
    "def binning(measure_dict, id=None, epsilon=None):\n",
    "    global tries, curr_spec, back_end, current_spec_arr, hist_workloads\n",
    "\n",
    "    left_col = measure_dict['left']\n",
    "    right_col = measure_dict['right']\n",
    "\n",
    "    widths = {left_col[0]:left_col[1], right_col[0]:right_col[1]}\n",
    "\n",
    "    hist = builder.histogram_workload(cps_domain.config, bin_widths=widths)\n",
    "\n",
    "    y_hat, strategy_matrix = back_end.measure_hdmm(workload=hist, eps=epsilon, restarts=20)\n",
    "\n",
    "    prev_spec = current_spec_arr[id]\n",
    "    # print(prev_spec)\n",
    "    prev_spec.rename(columns={'error': 'error_prev', 'plus_error': 'plus_error_prev', 'minus_error': 'minus_error_prev', 'true_count':'true_count_prev', 'noisy_count':'noisy_count_prev'}, inplace=True)\n",
    "\n",
    "    current_spec_arr[id], cached = back_end.display(hist) ################# Cache_search function called\n",
    "\n",
    "    spec = current_spec_arr[id].join(prev_spec, on=[left_col[0], right_col[0]]).reset_index([left_col[0], right_col[0]])\n",
    "    return spec\n",
    "    # spec = spec.round(0)  We should not round"
   ]
  },
  {
   "cell_type": "code",
   "execution_count": 222,
   "metadata": {},
   "outputs": [
    {
     "name": "stderr",
     "output_type": "stream",
     "text": [
      "/tmp/ipykernel_231877/3893453146.py:36: FutureWarning: The frame.append method is deprecated and will be removed from pandas in a future version. Use pandas.concat instead.\n",
      "  ans = ans1.append(ans2)\n",
      "/tmp/ipykernel_231877/3893453146.py:36: FutureWarning: The frame.append method is deprecated and will be removed from pandas in a future version. Use pandas.concat instead.\n",
      "  ans = ans1.append(ans2)\n"
     ]
    },
    {
     "name": "stdout",
     "output_type": "stream",
     "text": [
      "3: Tutorial Question 3/6: What is the second most common marital status of people with income in the 100,000 to 199,000 range?\n",
      "\n",
      "Answer to query number 3 after 3 remeasure: ('Widowed', 101.5)\n"
     ]
    },
    {
     "name": "stderr",
     "output_type": "stream",
     "text": [
      "/tmp/ipykernel_231877/3893453146.py:36: FutureWarning: The frame.append method is deprecated and will be removed from pandas in a future version. Use pandas.concat instead.\n",
      "  ans = ans1.append(ans2)\n"
     ]
    }
   ],
   "source": [
    "num_answers = len(questions)\n",
    "\n",
    "current_spec_arr = []\n",
    "hist_workloads = []\n",
    "\n",
    "def make_vis(do_not_update=None):\n",
    "    global index, visualizations, epsilon_increments, curr_spec, back_end\n",
    "    back_end = src.backend.initialize_backend(cps_domain, data_path, budget=1.0)\n",
    "\n",
    "    for i in range(len(questions) - 1):\n",
    "\n",
    "        hist = builder.histogram_workload(cps_domain.config, bin_widths=visualizations[i+1])\n",
    "        hist_workloads.append(hist)\n",
    "\n",
    "        y_hat, strategy_matrix = back_end.measure_hdmm(workload=hist, eps=epsilon_increments[i+1], restarts=20)\n",
    "\n",
    "        column_names = list(visualizations[i+1].keys())\n",
    "        curr_spec, cached = back_end.display(hist)\n",
    "        current_spec_arr.append(curr_spec)\n",
    "\n",
    "    return current_spec_arr\n",
    "\n",
    "curr_specs_for_visualizations = make_vis()\n",
    "\n",
    "def calculate(query_no, spec_after_remeasure):\n",
    "    if query_no == 1:\n",
    "        ans = spec_after_remeasure.loc[(spec_after_remeasure['marital'] == 'Widowed') & ((spec_after_remeasure['race'] == 'American Indian')|(spec_after_remeasure['race'] == 'Chinese'))]\n",
    "        return ans['noisy_count'].sum()\n",
    "    elif query_no == 2:\n",
    "        selected_rows = spec_after_remeasure[spec_after_remeasure['age'].apply(lambda x: int(x.split('-')[0])) >= 65]\n",
    "        ans = selected_rows.loc[(selected_rows['income'] == '$100k - $149k')]\n",
    "        return ans['noisy_count'].sum()\n",
    "    elif query_no == 3:\n",
    "        ans1 = spec_after_remeasure.loc[(spec_after_remeasure['income'] == '$100k - $149k')]\n",
    "        ans2 = spec_after_remeasure.loc[(spec_after_remeasure['income'] == '$150k - $199k')]\n",
    "        ans = ans1.append(ans2)\n",
    "        sum_dict = {}\n",
    "        s_married = ans.loc[(ans['marital'] == 'Married')]\n",
    "        sum_dict['Married'] = s_married['noisy_count'].sum()\n",
    "        s_absent = ans.loc[(ans['marital'] == 'Absent')]\n",
    "        sum_dict['Absent'] = s_absent['noisy_count'].sum()\n",
    "        s_separated = ans.loc[(ans['marital'] == 'Separated')]\n",
    "        sum_dict['Separated'] = s_separated['noisy_count'].sum()\n",
    "        s_widowed = ans.loc[(ans['marital'] == 'Widowed')]\n",
    "        sum_dict['Widowed'] = s_widowed['noisy_count'].sum()\n",
    "        s_divorced = ans.loc[(ans['marital'] == 'Divorced')]\n",
    "        sum_dict['Divorced'] = s_divorced['noisy_count'].sum()\n",
    "        s_div_wid = ans.loc[(ans['marital'] == 'Divorced/Widowed')]\n",
    "        sum_dict['Divorced/Widowed'] = s_div_wid['noisy_count'].sum()\n",
    "        result = sorted(sum_dict.items(), key=lambda x:x[1])\n",
    "        return result[-2]\n",
    "    elif query_no == 4:\n",
    "        ans = spec_after_remeasure.loc[(spec_after_remeasure['marital'] == 'Never Married')]\n",
    "        sorted_ans = ans.sort_values('noisy_count')\n",
    "        top_three_age_groups = [sorted_ans['age'].iloc[-1], sorted_ans['age'].iloc[-2], sorted_ans['age'].iloc[-3]]\n",
    "        return top_three_age_groups\n",
    "    elif query_no == 5:\n",
    "        ans1 = spec_after_remeasure.loc[(spec_after_remeasure['income'] == '$100k - $149k')]\n",
    "        ans2 = spec_after_remeasure.loc[(spec_after_remeasure['income'] == '$150k - $199k')]\n",
    "        ans = ans1.append(ans2)\n",
    "        sum_dict = {}\n",
    "        s_white = ans.loc[(ans['race'] == 'White')]\n",
    "        sum_dict['White'] = s_white['noisy_count'].sum()\n",
    "        s_black = ans.loc[(ans['race'] == 'Black')]\n",
    "        sum_dict['Black'] = s_black['noisy_count'].sum()\n",
    "        s_american_indian = ans.loc[(ans['race'] == 'American Indian')]\n",
    "        sum_dict['American Indian'] = s_american_indian['noisy_count'].sum()\n",
    "        s_chinese = ans.loc[(ans['race'] == 'Chinese')]\n",
    "        sum_dict['Chinese'] = s_chinese['noisy_count'].sum()\n",
    "        result = sorted(sum_dict.items(), key=lambda x:x[1])\n",
    "        top_three_races = [result[-1], result[-2], result[-3]]\n",
    "        return top_three_races\n",
    "    elif query_no == 6:\n",
    "        ans = spec_after_remeasure.loc[(spec_after_remeasure['age'] == '45-54')]\n",
    "        sorted_ans = ans.sort_values('noisy_count')\n",
    "        second_most_common_race = sorted_ans['race'].iloc[-2]\n",
    "        return second_most_common_race\n",
    "\n",
    "def apply_multiple_remeasures(no_of_remeasures, query_no):\n",
    "    ans_values = []\n",
    "    key_val = [x for x in visualizations[query_no].items()]\n",
    "    measure_dict = {'left': key_val[0], 'right': key_val[1]}\n",
    "    for i in range(no_of_remeasures):\n",
    "        spec_after_remeasure = binning(measure_dict, query_no - 1, epsilon_increments[query_no])\n",
    "        ans_values.append(calculate(query_no, spec_after_remeasure))\n",
    "    return ans_values[no_of_remeasures - 1]\n",
    "\n",
    "number_of_remeasure = 3\n",
    "query_number = 4\n",
    "\n",
    "if query_number > 6 or query_number < 1:\n",
    "    print(\"Specify a valid query\")\n",
    "else:\n",
    "    if number_of_remeasure <= 0:\n",
    "        if query_number == 1:\n",
    "            cur_spec_copy = current_spec_arr[query_number-1].copy(True)\n",
    "            cur_spec_copy = cur_spec_copy.reset_index(['marital', 'race'])\n",
    "            output = calculate(query_number, cur_spec_copy)\n",
    "        elif query_number == 2:\n",
    "            cur_spec_copy = current_spec_arr[query_number-1].copy(True)\n",
    "            cur_spec_copy = cur_spec_copy.reset_index(['age', 'income'])\n",
    "            output = calculate(query_number, cur_spec_copy)\n",
    "        elif query_number == 3:\n",
    "            cur_spec_copy = current_spec_arr[query_number-1].copy(True)\n",
    "            cur_spec_copy = cur_spec_copy.reset_index(['income', 'marital'])\n",
    "            output = calculate(query_number, cur_spec_copy)\n",
    "        elif query_number == 4:\n",
    "            cur_spec_copy = current_spec_arr[query_number-1].copy(True)\n",
    "            cur_spec_copy = cur_spec_copy.reset_index(['age', 'marital'])\n",
    "            output = calculate(query_number, cur_spec_copy)\n",
    "        elif query_number == 5:\n",
    "            cur_spec_copy = current_spec_arr[query_number-1].copy(True)\n",
    "            cur_spec_copy = cur_spec_copy.reset_index(['income', 'race'])\n",
    "            output = calculate(query_number, cur_spec_copy)\n",
    "        elif query_number == 6:\n",
    "            cur_spec_copy = current_spec_arr[query_number-1].copy(True)\n",
    "            cur_spec_copy = cur_spec_copy.reset_index(['age', 'race'])\n",
    "            output = calculate(query_number, cur_spec_copy)\n",
    "    else:\n",
    "        output = apply_multiple_remeasures(number_of_remeasure, query_number)\n",
    "    print(questions[query_number])\n",
    "    print('\\nAnswer to query number ' + str(query_number) + ' after ' + str(number_of_remeasure) + ' remeasure: ' + str(output))\n"
   ]
  },
  {
   "cell_type": "code",
   "execution_count": null,
   "metadata": {},
   "outputs": [],
   "source": []
  },
  {
   "cell_type": "code",
   "execution_count": 223,
   "metadata": {},
   "outputs": [],
   "source": [
    "# key_val = [x for x in visualizations[1].items()]\n",
    "# print(\"keyyyyy   \", key_val)\n",
    "# measure_dict = {'left': key_val[0], 'right': key_val[1]}\n",
    "# binning(measure_dict, 0, epsilon = epsilon_increments[1])"
   ]
  },
  {
   "cell_type": "code",
   "execution_count": null,
   "metadata": {},
   "outputs": [],
   "source": []
  }
 ],
 "metadata": {
  "kernelspec": {
   "display_name": "Python 3 (ipykernel)",
   "language": "python",
   "name": "python3"
  },
  "language_info": {
   "codemirror_mode": {
    "name": "ipython",
    "version": 3
   },
   "file_extension": ".py",
   "mimetype": "text/x-python",
   "name": "python",
   "nbconvert_exporter": "python",
   "pygments_lexer": "ipython3",
   "version": "3.9.12"
  }
 },
 "nbformat": 4,
 "nbformat_minor": 1
}
